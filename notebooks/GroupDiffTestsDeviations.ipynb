{
 "cells": [
  {
   "cell_type": "code",
   "execution_count": 1,
   "id": "bf45fc80-d0f1-44c5-a3e2-b1dccbd235ce",
   "metadata": {
    "colab": {
     "base_uri": "https://localhost:8080/"
    },
    "id": "rX8sgn_BnMUC",
    "outputId": "663c6ba2-6b67-4242-df5e-736f0b2ca8a9"
   },
   "outputs": [],
   "source": [
    "import pandas as pd\n",
    "from scipy.stats import ttest_ind\n",
    "from statsmodels.stats import multitest\n",
    "from nilearn import plotting\n",
    "import nibabel as nib\n",
    "from nilearn import datasets\n",
    "import matplotlib.pyplot as plt\n",
    "from nilearn import plotting\n",
    "import numpy as np"
   ]
  },
  {
   "cell_type": "code",
   "execution_count": 2,
   "id": "1ed23026-f23c-42ad-aac6-dafc4991cca0",
   "metadata": {},
   "outputs": [],
   "source": [
    "destrieux_atlas = datasets.fetch_atlas_surf_destrieux()\n",
    "fsaverage = datasets.fetch_surf_fsaverage()"
   ]
  },
  {
   "cell_type": "code",
   "execution_count": 3,
   "id": "70ad0753-80e5-4935-b18f-6dbb51c00c91",
   "metadata": {},
   "outputs": [],
   "source": [
    "# The parcellation is already loaded into memory\n",
    "parcellation_l = destrieux_atlas['map_left']\n",
    "parcellation_r = destrieux_atlas['map_right']"
   ]
  },
  {
   "cell_type": "code",
   "execution_count": 4,
   "id": "8071af6d-bfaf-4fbf-9b09-e15193210565",
   "metadata": {},
   "outputs": [],
   "source": [
    "nl = pd.read_csv('/Users/saigerutherford/Documents/Work/drive-download-20220731T221458Z-001/nilearn_order.csv')"
   ]
  },
  {
   "cell_type": "code",
   "execution_count": 5,
   "id": "ee5769e2-a4ea-40f7-b452-ce8f597a4944",
   "metadata": {},
   "outputs": [],
   "source": [
    "cols = ['ROI']"
   ]
  },
  {
   "cell_type": "code",
   "execution_count": 6,
   "id": "a00b5cb9-ef08-484e-955c-d93851955eef",
   "metadata": {},
   "outputs": [],
   "source": [
    "nl[cols] = nl[cols].apply(lambda x: x.str.strip())"
   ]
  },
  {
   "cell_type": "code",
   "execution_count": 7,
   "id": "ec518457-229f-4637-9508-84dcc07aefcb",
   "metadata": {},
   "outputs": [],
   "source": [
    "atlas_r = destrieux_atlas['map_right']\n",
    "atlas_l = destrieux_atlas['map_left']"
   ]
  },
  {
   "cell_type": "code",
   "execution_count": 8,
   "id": "d526b479-e347-4b27-b668-e1e16cbe9ca8",
   "metadata": {},
   "outputs": [],
   "source": [
    "nl_ROI = nl['ROI'].to_list()"
   ]
  },
  {
   "cell_type": "markdown",
   "id": "de06f7ec-fd17-4a33-aef4-2a777e1fc9e8",
   "metadata": {},
   "source": [
    "### T-Tests on group mean and variance (across all ROIs)"
   ]
  },
  {
   "cell_type": "markdown",
   "id": "1996ad14-d1cb-47aa-957a-cbbdb6557fed",
   "metadata": {},
   "source": [
    "### UKB race modeled"
   ]
  },
  {
   "cell_type": "code",
   "execution_count": 9,
   "id": "9c6d5bc0-c919-4fee-852d-719986a08ee1",
   "metadata": {},
   "outputs": [],
   "source": [
    "Z_df = pd.read_csv('/Users/saigerutherford/Documents/Work/drive-download-20220731T221458Z-001/braincharts/models/ukb_race_modeled/deviation_scores.csv')"
   ]
  },
  {
   "cell_type": "code",
   "execution_count": 10,
   "id": "53cbf05b-f98b-4e69-9c2e-6eb4b7019ff8",
   "metadata": {
    "executionInfo": {
     "elapsed": 257,
     "status": "ok",
     "timestamp": 1687449325721,
     "user": {
      "displayName": "Saige Rutherford",
      "userId": "09510631870783055479"
     },
     "user_tz": -120
    },
    "id": "5649160f-708d-46ed-9760-29f9c3fb8b18",
    "jupyter": {
     "source_hidden": true
    },
    "tags": []
   },
   "outputs": [],
   "source": [
    "z_long = Z_df.melt(id_vars=['participant_id','race_1'],\n",
    "                  value_vars=['rh_G_Ins_lg&S_cent_ins_thickness_Z_estimate',\n",
    "                             'rh_G&S_cingul-Mid-Post_thickness_Z_estimate',\n",
    "                             'rh_G&S_subcentral_thickness_Z_estimate',\n",
    "                             'lh_G_temporal_middle_thickness_Z_estimate',\n",
    "                             'lh_S_temporal_transverse_thickness_Z_estimate',\n",
    "                             'rh_G_subcallosal_thickness_Z_estimate',\n",
    "                             'rh_S_temporal_transverse_thickness_Z_estimate',\n",
    "                             'rh_G_temp_sup-Lateral_thickness_Z_estimate',\n",
    "                             'rh_S_subparietal_thickness_Z_estimate',\n",
    "                             'lh_Pole_temporal_thickness_Z_estimate',\n",
    "                             'rh_G_precentral_thickness_Z_estimate',\n",
    "                             'lh_G_oc-temp_lat-fusifor_thickness_Z_estimate',\n",
    "                             'rh_S_circular_insula_inf_thickness_Z_estimate',\n",
    "                             'lh_G_cingul-Post-ventral_thickness_Z_estimate',\n",
    "                             'lh_G_front_inf-Triangul_thickness_Z_estimate',\n",
    "                             'lh_S_cingul-Marginalis_thickness_Z_estimate',\n",
    "                             'rh_Lat_Fis-ant-Vertical_thickness_Z_estimate',\n",
    "                             'lh_G&S_paracentral_thickness_Z_estimate',\n",
    "                             'rh_S_postcentral_thickness_Z_estimate',\n",
    "                             'lh_S_circular_insula_inf_thickness_Z_estimate',\n",
    "                             'rh_G_oc-temp_lat-fusifor_thickness_Z_estimate',\n",
    "                             'rh_G_cingul-Post-ventral_thickness_Z_estimate',\n",
    "                             'lh_G&S_transv_frontopol_thickness_Z_estimate',\n",
    "                             'rh_G_temp_sup-G_T_transv_thickness_Z_estimate',\n",
    "                             'rh_S_oc-temp_med&Lingual_thickness_Z_estimate',\n",
    "                             'lh_Lat_Fis-post_thickness_Z_estimate',\n",
    "                             'lh_S_postcentral_thickness_Z_estimate',\n",
    "                             'rh_G_rectus_thickness_Z_estimate',\n",
    "                             'lh_G_temp_sup-G_T_transv_thickness_Z_estimate',\n",
    "                             'rh_Pole_temporal_thickness_Z_estimate',\n",
    "                             'lh_S_subparietal_thickness_Z_estimate',\n",
    "                             'rh_G_cingul-Post-dorsal_thickness_Z_estimate',\n",
    "                             'lh_S_oc-temp_med&Lingual_thickness_Z_estimate',\n",
    "                             'rh_S_interm_prim-Jensen_thickness_Z_estimate',\n",
    "                             'lh_G&S_subcentral_thickness_Z_estimate',\n",
    "                             'rh_S_oc_sup&transversal_thickness_Z_estimate',\n",
    "                             'lh_G_subcallosal_thickness_Z_estimate',\n",
    "                             'rh_S_orbital_lateral_thickness_Z_estimate',\n",
    "                             'lh_G_insular_short_thickness_Z_estimate',\n",
    "                             'rh_S_collat_transv_post_thickness_Z_estimate',\n",
    "                             'lh_S_occipital_ant_thickness_Z_estimate',\n",
    "                             'rh_S_orbital_med-olfact_thickness_Z_estimate',\n",
    "                             'lh_G_front_sup_thickness_Z_estimate',\n",
    "                             'lh_S_precentral-inf-part_thickness_Z_estimate',\n",
    "                             'lh_G_precentral_thickness_Z_estimate',\n",
    "                             'rh_G_temporal_middle_thickness_Z_estimate',\n",
    "                             'lh_S_temporal_inf_thickness_Z_estimate',\n",
    "                             'rh_G_parietal_sup_thickness_Z_estimate',\n",
    "                             'lh_S_collat_transv_ant_thickness_Z_estimate',\n",
    "                             'rh_G_front_sup_thickness_Z_estimate',\n",
    "                             'rh_S_precentral-inf-part_thickness_Z_estimate',\n",
    "                             'rh_G_pariet_inf-Angular_thickness_Z_estimate',\n",
    "                             'lh_S_calcarine_thickness_Z_estimate',\n",
    "                             'lh_S_orbital-H_Shaped_thickness_Z_estimate',\n",
    "                             'rh_G_front_inf-Opercular_thickness_Z_estimate',\n",
    "                             'rh_G_occipital_middle_thickness_Z_estimate',\n",
    "                             'lh_G_oc-temp_med-Parahip_thickness_Z_estimate',\n",
    "                             'rh_G_orbital_thickness_Z_estimate',\n",
    "                             'lh_S_front_inf_thickness_Z_estimate',\n",
    "                             'rh_S_calcarine_thickness_Z_estimate',\n",
    "                             'rh_G_occipital_sup_thickness_Z_estimate',\n",
    "                             'lh_G_front_inf-Opercular_thickness_Z_estimate',\n",
    "                             'lh_G_front_middle_thickness_Z_estimate',\n",
    "                             'lh_S_central_thickness_Z_estimate',\n",
    "                             'rh_S_front_inf_thickness_Z_estimate',\n",
    "                             'rh_G_oc-temp_med-Parahip_thickness_Z_estimate',\n",
    "                             'lh_Lat_Fis-ant-Horizont_thickness_Z_estimate',\n",
    "                             'rh_G_front_inf-Orbital_thickness_Z_estimate',\n",
    "                             'lh_G_orbital_thickness_Z_estimate',\n",
    "                             'lh_S_oc_middle&Lunatus_thickness_Z_estimate',\n",
    "                             'rh_S_central_thickness_Z_estimate',\n",
    "                             'lh_G_cuneus_thickness_Z_estimate',\n",
    "                             'rh_G_front_middle_thickness_Z_estimate',\n",
    "                             'rh_S_precentral-sup-part_thickness_Z_estimate',\n",
    "                             'rh_Lat_Fis-post_thickness_Z_estimate',\n",
    "                             'lh_G_temp_sup-Plan_tempo_thickness_Z_estimate',\n",
    "                             'lh_G_parietal_sup_thickness_Z_estimate',\n",
    "                             'rh_S_temporal_inf_thickness_Z_estimate',\n",
    "                             'lh_S_circular_insula_ant_thickness_Z_estimate',\n",
    "                             'lh_S_precentral-sup-part_thickness_Z_estimate',\n",
    "                             'lh_S_orbital_lateral_thickness_Z_estimate',\n",
    "                             'lh_S_parieto_occipital_thickness_Z_estimate',\n",
    "                             'rh_G&S_cingul-Mid-Ant_thickness_Z_estimate',\n",
    "                             'rh_G_temp_sup-Plan_tempo_thickness_Z_estimate',\n",
    "                             'rh_S_circular_insula_ant_thickness_Z_estimate',\n",
    "                             'rh_MeanThickness_thickness_Z_estimate',\n",
    "                             'rh_S_orbital-H_Shaped_thickness_Z_estimate',\n",
    "                             'lh_G_occipital_middle_thickness_Z_estimate',\n",
    "                             'lh_S_circular_insula_sup_thickness_Z_estimate',\n",
    "                             'lh_G_pariet_inf-Angular_thickness_Z_estimate',\n",
    "                             'rh_G&S_paracentral_thickness_Z_estimate',\n",
    "                             'lh_G_temp_sup-Plan_polar_thickness_Z_estimate',\n",
    "                             'rh_S_collat_transv_ant_thickness_Z_estimate',\n",
    "                             'rh_S_circular_insula_sup_thickness_Z_estimate',\n",
    "                             'rh_G_temp_sup-Plan_polar_thickness_Z_estimate',\n",
    "                             'rh_Pole_occipital_thickness_Z_estimate',\n",
    "                             'lh_G_pariet_inf-Supramar_thickness_Z_estimate',\n",
    "                             'lh_G&S_frontomargin_thickness_Z_estimate',\n",
    "                             'rh_S_pericallosal_thickness_Z_estimate',\n",
    "                             'rh_G_pariet_inf-Supramar_thickness_Z_estimate',\n",
    "                             'rh_S_suborbital_thickness_Z_estimate',\n",
    "                             'lh_S_pericallosal_thickness_Z_estimate',\n",
    "                             'rh_S_occipital_ant_thickness_Z_estimate',\n",
    "                             'lh_Pole_occipital_thickness_Z_estimate',\n",
    "                             'rh_G_insular_short_thickness_Z_estimate',\n",
    "                             'lh_G_front_inf-Orbital_thickness_Z_estimate',\n",
    "                             'rh_G_cuneus_thickness_Z_estimate',\n",
    "                             'rh_S_oc_middle&Lunatus_thickness_Z_estimate',\n",
    "                             'lh_G&S_cingul-Mid-Ant_thickness_Z_estimate',\n",
    "                             'rh_G&S_occipital_inf_thickness_Z_estimate',\n",
    "                             'rh_Lat_Fis-ant-Horizont_thickness_Z_estimate',\n",
    "                             'rh_S_parieto_occipital_thickness_Z_estimate',\n",
    "                             'lh_MeanThickness_thickness_Z_estimate',\n",
    "                             'rh_G_precuneus_thickness_Z_estimate',\n",
    "                             'lh_G_temp_sup-Lateral_thickness_Z_estimate',\n",
    "                             'lh_S_front_middle_thickness_Z_estimate',\n",
    "                             'lh_G_Ins_lg&S_cent_ins_thickness_Z_estimate',\n",
    "                             'lh_G_occipital_sup_thickness_Z_estimate',\n",
    "                             'lh_G_postcentral_thickness_Z_estimate',\n",
    "                             'rh_S_front_sup_thickness_Z_estimate',\n",
    "                             'lh_G&S_cingul-Mid-Post_thickness_Z_estimate',\n",
    "                             'lh_G_precuneus_thickness_Z_estimate',\n",
    "                             'lh_G&S_cingul-Ant_thickness_Z_estimate',\n",
    "                             'lh_S_front_sup_thickness_Z_estimate',\n",
    "                             'lh_S_oc-temp_lat_thickness_Z_estimate',\n",
    "                             'rh_G&S_frontomargin_thickness_Z_estimate',\n",
    "                             'lh_Lat_Fis-ant-Vertical_thickness_Z_estimate',\n",
    "                             'lh_G_temporal_inf_thickness_Z_estimate',\n",
    "                             'rh_G_front_inf-Triangul_thickness_Z_estimate',\n",
    "                             'lh_S_temporal_sup_thickness_Z_estimate',\n",
    "                             'rh_S_cingul-Marginalis_thickness_Z_estimate',\n",
    "                             'lh_G_rectus_thickness_Z_estimate',\n",
    "                             'lh_S_interm_prim-Jensen_thickness_Z_estimate',\n",
    "                             'lh_S_intrapariet&P_trans_thickness_Z_estimate',\n",
    "                             'lh_G_cingul-Post-dorsal_thickness_Z_estimate',\n",
    "                             'rh_S_intrapariet&P_trans_thickness_Z_estimate',\n",
    "                             'rh_G_temporal_inf_thickness_Z_estimate',\n",
    "                             'rh_G&S_transv_frontopol_thickness_Z_estimate',\n",
    "                             'lh_G&S_occipital_inf_thickness_Z_estimate',\n",
    "                             'rh_S_temporal_sup_thickness_Z_estimate',\n",
    "                             'rh_S_oc-temp_lat_thickness_Z_estimate',\n",
    "                             'rh_S_front_middle_thickness_Z_estimate',\n",
    "                             'lh_S_orbital_med-olfact_thickness_Z_estimate',\n",
    "                             'lh_G_oc-temp_med-Lingual_thickness_Z_estimate',\n",
    "                             'lh_S_collat_transv_post_thickness_Z_estimate',\n",
    "                             'lh_S_suborbital_thickness_Z_estimate',\n",
    "                             'rh_G&S_cingul-Ant_thickness_Z_estimate',\n",
    "                             'rh_G_postcentral_thickness_Z_estimate',\n",
    "                             'rh_G_oc-temp_med-Lingual_thickness_Z_estimate',\n",
    "                             'lh_S_oc_sup&transversal_thickness_Z_estimate'])"
   ]
  },
  {
   "cell_type": "code",
   "execution_count": 11,
   "id": "d8730004-bdab-4f65-9656-7c17adc11f66",
   "metadata": {
    "tags": []
   },
   "outputs": [],
   "source": [
    "z_long_white = z_long.query('race_1 == \"White\"')\n",
    "z_long_black = z_long.query('race_1 == \"Black\"')\n",
    "z_long_asian = z_long.query('race_1 == \"Asian\"')"
   ]
  },
  {
   "cell_type": "code",
   "execution_count": 12,
   "id": "deb833e4-dadc-4019-ab9a-e94412299a02",
   "metadata": {},
   "outputs": [],
   "source": [
    "z_white = Z_df.query('race_1 == \"White\"')\n",
    "z_black = Z_df.query('race_1 == \"Black\"')\n",
    "z_asian = Z_df.query('race_1 == \"Asian\"')"
   ]
  },
  {
   "cell_type": "code",
   "execution_count": 13,
   "id": "e7267a84-b4bc-47a6-8f35-d0889b039704",
   "metadata": {
    "jupyter": {
     "source_hidden": true
    },
    "tags": []
   },
   "outputs": [],
   "source": [
    "z_a = z_asian.drop(columns=['participant_id', 'race_1'])\n",
    "z_b = z_black.drop(columns=['participant_id', 'race_1'])\n",
    "z_w = z_white.drop(columns=['participant_id', 'race_1'])"
   ]
  },
  {
   "cell_type": "code",
   "execution_count": 14,
   "id": "0a38ca31-8041-4a5e-8184-2773a6b77a6d",
   "metadata": {
    "jupyter": {
     "source_hidden": true
    },
    "tags": []
   },
   "outputs": [],
   "source": [
    "z_a_pos = z_a.where(z_a > 2, 0)\n",
    "z_b_pos = z_b.where(z_b > 2, 0)\n",
    "z_w_pos = z_w.where(z_w > 2, 0)"
   ]
  },
  {
   "cell_type": "code",
   "execution_count": 15,
   "id": "ac6861f4-c049-429c-8c5a-1014a98cb9e5",
   "metadata": {
    "jupyter": {
     "source_hidden": true
    },
    "tags": []
   },
   "outputs": [],
   "source": [
    "z_a_neg = z_a.where(z_a < -2, 0)\n",
    "z_b_neg = z_b.where(z_b < -2, 0)\n",
    "z_w_neg = z_w.where(z_w < -2, 0)"
   ]
  },
  {
   "cell_type": "code",
   "execution_count": 16,
   "id": "558c2e1a-90e4-4cb4-9b85-62619e5fa1e2",
   "metadata": {
    "jupyter": {
     "source_hidden": true
    },
    "tags": []
   },
   "outputs": [],
   "source": [
    "viz_a = z_a_pos + z_a_neg\n",
    "viz_b = z_b_pos + z_b_neg\n",
    "viz_w = z_w_pos + z_w_neg"
   ]
  },
  {
   "cell_type": "code",
   "execution_count": 17,
   "id": "c49d575b-5358-4137-9a9f-31668abf6913",
   "metadata": {
    "jupyter": {
     "source_hidden": true
    },
    "tags": []
   },
   "outputs": [],
   "source": [
    "viz_a.sort_index(axis=1, inplace=True)\n",
    "viz_b.sort_index(axis=1, inplace=True)\n",
    "viz_w.sort_index(axis=1, inplace=True)"
   ]
  },
  {
   "cell_type": "code",
   "execution_count": 21,
   "id": "850dfb19-6285-4d92-9162-ed155b7ded06",
   "metadata": {
    "jupyter": {
     "source_hidden": true
    },
    "tags": []
   },
   "outputs": [],
   "source": [
    "import seaborn as sns\n",
    "sns.set(style=\"darkgrid\",font_scale=0.7)"
   ]
  },
  {
   "cell_type": "code",
   "execution_count": 29,
   "id": "3999a7f0-2a78-4407-ad4e-d653f0fad728",
   "metadata": {
    "collapsed": true,
    "jupyter": {
     "outputs_hidden": true,
     "source_hidden": true
    },
    "tags": []
   },
   "outputs": [
    {
     "data": {
      "image/png": "[encoded data removed]",
      "text/plain": [
       "<Figure size 432x432 with 1 Axes>"
      ]
     },
     "metadata": {},
     "output_type": "display_data"
    }
   ],
   "source": [
    "fig, ax = plt.subplots(figsize=(6,6))\n",
    "g = sns.heatmap(viz_a, center=0, cmap=\"seismic\", cbar=False, ax=ax, linecolor='gray', linewidth=0, xticklabels=False, yticklabels=False)"
   ]
  },
  {
   "cell_type": "code",
   "execution_count": 30,
   "id": "8d9af82b-b048-4fa1-a414-00d84d14a693",
   "metadata": {
    "collapsed": true,
    "jupyter": {
     "outputs_hidden": true,
     "source_hidden": true
    },
    "tags": []
   },
   "outputs": [
    {
     "data": {
      "image/png": "[encoded data removed]",
      "text/plain": [
       "<Figure size 432x432 with 1 Axes>"
      ]
     },
     "metadata": {},
     "output_type": "display_data"
    }
   ],
   "source": [
    "fig, ax = plt.subplots(figsize=(6,6))\n",
    "g = sns.heatmap(viz_b, center=0, cmap=\"seismic\", cbar=False, ax=ax, linecolor='gray', linewidth=0, xticklabels=False, yticklabels=False)"
   ]
  },
  {
   "cell_type": "code",
   "execution_count": 31,
   "id": "751dfc7c-65f7-41d4-8476-eff481f75823",
   "metadata": {
    "collapsed": true,
    "jupyter": {
     "outputs_hidden": true,
     "source_hidden": true
    },
    "tags": []
   },
   "outputs": [
    {
     "data": {
      "image/png": "[encoded data removed]",
      "text/plain": [
       "<Figure size 432x432 with 1 Axes>"
      ]
     },
     "metadata": {},
     "output_type": "display_data"
    }
   ],
   "source": [
    "fig, ax = plt.subplots(figsize=(6,6))\n",
    "g = sns.heatmap(viz_w, center=0, cmap=\"seismic\", cbar=False, ax=ax, linecolor='gray', linewidth=0, xticklabels=False, yticklabels=False)"
   ]
  },
  {
   "cell_type": "code",
   "execution_count": 18,
   "id": "655f9626-4e2e-4b9e-aa62-2b7d071df4dd",
   "metadata": {},
   "outputs": [],
   "source": [
    "z_long_white2 = z_long_white.groupby(by='participant_id',as_index=False).mean()"
   ]
  },
  {
   "cell_type": "code",
   "execution_count": 19,
   "id": "436b159e-923c-41b4-b190-560be54af5b3",
   "metadata": {},
   "outputs": [],
   "source": [
    "z_long_black2 = z_long_black.groupby(by='participant_id',as_index=False).mean()"
   ]
  },
  {
   "cell_type": "code",
   "execution_count": 20,
   "id": "861ea87c-bf61-49af-a25a-2879b371d0e7",
   "metadata": {},
   "outputs": [],
   "source": [
    "z_long_asian2 = z_long_asian.groupby(by='participant_id',as_index=False).mean()"
   ]
  },
  {
   "cell_type": "code",
   "execution_count": 21,
   "id": "1a4685ba-affc-41df-960d-6c7be28e462f",
   "metadata": {},
   "outputs": [
    {
     "data": {
      "text/plain": [
       "Ttest_indResult(statistic=0.13640267581453844, pvalue=0.8915595256466082)"
      ]
     },
     "execution_count": 21,
     "metadata": {},
     "output_type": "execute_result"
    }
   ],
   "source": [
    "ttest_ind(z_long_white2['value'], z_long_black2['value'], equal_var=False)"
   ]
  },
  {
   "cell_type": "code",
   "execution_count": 22,
   "id": "c179d6d3-fe9c-48f1-9f31-65be9dc6fe9d",
   "metadata": {},
   "outputs": [
    {
     "data": {
      "text/plain": [
       "Ttest_indResult(statistic=1.813130131248035, pvalue=0.07051885375515746)"
      ]
     },
     "execution_count": 22,
     "metadata": {},
     "output_type": "execute_result"
    }
   ],
   "source": [
    "ttest_ind(z_long_white2['value'], z_long_asian2['value'], equal_var=False)"
   ]
  },
  {
   "cell_type": "code",
   "execution_count": 23,
   "id": "5515c56f-382a-428c-8d8c-78e9cd5db07d",
   "metadata": {},
   "outputs": [
    {
     "data": {
      "text/plain": [
       "Ttest_indResult(statistic=1.4286815965326363, pvalue=0.15366646766953332)"
      ]
     },
     "execution_count": 23,
     "metadata": {},
     "output_type": "execute_result"
    }
   ],
   "source": [
    "ttest_ind(z_long_black2['value'], z_long_asian2['value'], equal_var=False)"
   ]
  },
  {
   "cell_type": "markdown",
   "id": "70081f19-7cd1-48dd-bb93-381df7f60ae2",
   "metadata": {
    "id": "AiimUDe6nMUD"
   },
   "source": [
    "### T-Tests on individual ROIs (FDR corrected)"
   ]
  },
  {
   "cell_type": "code",
   "execution_count": 24,
   "id": "769431ee-47a6-453b-9549-dac62cc89264",
   "metadata": {
    "id": "ssVXAgqGnMUD"
   },
   "outputs": [],
   "source": [
    "w_deviations = z_white.loc[:, z_white.columns.str.contains('Z_estimate')]"
   ]
  },
  {
   "cell_type": "code",
   "execution_count": 25,
   "id": "830f6d37-9c77-4a6c-a769-94bbb935c455",
   "metadata": {
    "id": "lqtHyKrrnMUD"
   },
   "outputs": [],
   "source": [
    "b_deviations = z_black.loc[:, z_black.columns.str.contains('Z_estimate')]"
   ]
  },
  {
   "cell_type": "code",
   "execution_count": 26,
   "id": "04885ae4-36ef-4fda-acc7-589a9eface6d",
   "metadata": {
    "id": "lqtHyKrrnMUD"
   },
   "outputs": [],
   "source": [
    "a_deviations = z_asian.loc[:, z_asian.columns.str.contains('Z_estimate')]"
   ]
  },
  {
   "cell_type": "code",
   "execution_count": 27,
   "id": "ce7b9e5a-af50-4a01-aa80-88c42e860d2e",
   "metadata": {
    "id": "BCJpEI8NnMUD"
   },
   "outputs": [],
   "source": [
    "z_cols = w_deviations.columns"
   ]
  },
  {
   "cell_type": "code",
   "execution_count": 28,
   "id": "8c490b3f-424a-49bc-8c68-2a67cc4b70e9",
   "metadata": {},
   "outputs": [
    {
     "data": {
      "text/plain": [
       "150"
      ]
     },
     "execution_count": 28,
     "metadata": {},
     "output_type": "execute_result"
    }
   ],
   "source": [
    "len(z_cols)"
   ]
  },
  {
   "cell_type": "code",
   "execution_count": 29,
   "id": "86dab32e-6a5c-4a6c-841d-fa4a1d25fc11",
   "metadata": {
    "id": "VdQgUo29nMUD"
   },
   "outputs": [],
   "source": [
    "w_b_pvals_z = pd.DataFrame(columns={'roi','pval', 'tstat','fdr_pval'})\n",
    "for index, column in enumerate(z_cols):\n",
    "    test = ttest_ind(w_deviations[column], b_deviations[column], equal_var=False)\n",
    "    w_b_pvals_z.loc[index, 'pval'] = test.pvalue\n",
    "    w_b_pvals_z.loc[index, 'tstat'] = test.statistic\n",
    "    w_b_pvals_z.loc[index, 'roi'] = column"
   ]
  },
  {
   "cell_type": "code",
   "execution_count": 30,
   "id": "6403b1c6-24b9-4c3b-ba7d-f55163bf6c07",
   "metadata": {
    "id": "n8JfELPdnMUE"
   },
   "outputs": [],
   "source": [
    "w_b_fdr_z = multitest.fdrcorrection(w_b_pvals_z['pval'], alpha=0.05, method='indep', is_sorted=False)"
   ]
  },
  {
   "cell_type": "code",
   "execution_count": 31,
   "id": "7e601092-30df-4270-8ba2-ffbec39909e0",
   "metadata": {
    "id": "n8JfELPdnMUE"
   },
   "outputs": [],
   "source": [
    "w_b_fdr_z = multitest.multipletests(w_b_pvals_z['pval'], alpha=0.05, method='bonferroni')"
   ]
  },
  {
   "cell_type": "code",
   "execution_count": 33,
   "id": "da4514b2-e2b5-4468-83da-6c8f6c8491ce",
   "metadata": {},
   "outputs": [
    {
     "data": {
      "text/plain": [
       "array([1, 1, 1, 1, 1, 1, 1, 1, 1, 1, 1, 1, 1, 1, 1, 1, 1, 1, 1, 1, 1, 1,\n",
       "       0.47237216803816084, 1, 1, 1, 1, 1, 1, 1, 0.011533084110339964, 1,\n",
       "       1, 1, 1, 1, 0.016178676538995265, 1, 1, 1, 1, 1, 1, 1, 1, 1, 1, 1,\n",
       "       1, 1, 1, 1, 1, 1, 1, 0.04872851733007094, 1, 1, 1, 1, 1, 1, 1, 1,\n",
       "       1, 1, 1, 1, 1, 1, 1, 1, 1, 1, 1, 1, 1, 1, 1, 1, 1, 1, 1,\n",
       "       0.027691747109315143, 1, 1, 1, 1, 1, 1, 1, 0.13982527257112107, 1,\n",
       "       1, 1, 1, 1, 1, 1, 1, 1, 1, 1, 1, 1, 1, 1, 1, 1, 1, 1, 1, 1, 1,\n",
       "       0.3121521909760558, 1, 1, 1, 1, 1, 1, 1, 1, 1, 1, 1, 1, 1, 1, 1,\n",
       "       0.49616149284470656, 1, 1, 0.4597233092956459, 1, 1, 1, 1,\n",
       "       0.9820368551411405, 1, 1, 1, 1, 1, 0.13167047548920335,\n",
       "       0.5482864511257, 1, 1, 1, 1], dtype=object)"
      ]
     },
     "execution_count": 33,
     "metadata": {},
     "output_type": "execute_result"
    }
   ],
   "source": [
    "w_b_fdr_z[1]"
   ]
  },
  {
   "cell_type": "code",
   "execution_count": 34,
   "id": "afe144d9-d741-47c0-9649-1cb89cca3ab2",
   "metadata": {
    "id": "K5panqSGnMUE"
   },
   "outputs": [],
   "source": [
    "w_b_pvals_z['fdr_pval'] = w_b_fdr_z[1]"
   ]
  },
  {
   "cell_type": "code",
   "execution_count": 35,
   "id": "b148a182-431c-4dd0-879f-2245c6b711cc",
   "metadata": {
    "id": "cjZ8HZMYnMUE"
   },
   "outputs": [],
   "source": [
    "w_b_z_sig_diff = w_b_pvals_z.query('fdr_pval < 0.05')"
   ]
  },
  {
   "cell_type": "code",
   "execution_count": 36,
   "id": "7d3a7a67-238f-473d-a4f7-5439f207b946",
   "metadata": {
    "colab": {
     "base_uri": "https://localhost:8080/",
     "height": 423
    },
    "id": "F01JkqAwnMUE",
    "outputId": "a117d7cf-dd4f-423a-e23b-66fd060deadd",
    "tags": []
   },
   "outputs": [
    {
     "data": {
      "text/html": [
       "<div>\n",
       "<style scoped>\n",
       "    .dataframe tbody tr th:only-of-type {\n",
       "        vertical-align: middle;\n",
       "    }\n",
       "\n",
       "    .dataframe tbody tr th {\n",
       "        vertical-align: top;\n",
       "    }\n",
       "\n",
       "    .dataframe thead th {\n",
       "        text-align: right;\n",
       "    }\n",
       "</style>\n",
       "<table border=\"1\" class=\"dataframe\">\n",
       "  <thead>\n",
       "    <tr style=\"text-align: right;\">\n",
       "      <th></th>\n",
       "      <th>roi</th>\n",
       "      <th>pval</th>\n",
       "      <th>fdr_pval</th>\n",
       "      <th>tstat</th>\n",
       "    </tr>\n",
       "  </thead>\n",
       "  <tbody>\n",
       "    <tr>\n",
       "      <th>30</th>\n",
       "      <td>lh_S_subparietal_thickness_Z_estimate</td>\n",
       "      <td>0.000077</td>\n",
       "      <td>0.011533</td>\n",
       "      <td>-3.988931</td>\n",
       "    </tr>\n",
       "    <tr>\n",
       "      <th>36</th>\n",
       "      <td>lh_G_subcallosal_thickness_Z_estimate</td>\n",
       "      <td>0.000108</td>\n",
       "      <td>0.016179</td>\n",
       "      <td>3.906493</td>\n",
       "    </tr>\n",
       "    <tr>\n",
       "      <th>55</th>\n",
       "      <td>rh_G_occipital_middle_thickness_Z_estimate</td>\n",
       "      <td>0.000325</td>\n",
       "      <td>0.048729</td>\n",
       "      <td>-3.621898</td>\n",
       "    </tr>\n",
       "    <tr>\n",
       "      <th>83</th>\n",
       "      <td>rh_G_temp_sup-Plan_tempo_thickness_Z_estimate</td>\n",
       "      <td>0.000185</td>\n",
       "      <td>0.027692</td>\n",
       "      <td>3.767298</td>\n",
       "    </tr>\n",
       "  </tbody>\n",
       "</table>\n",
       "</div>"
      ],
      "text/plain": [
       "                                              roi      pval  fdr_pval  \\\n",
       "30          lh_S_subparietal_thickness_Z_estimate  0.000077  0.011533   \n",
       "36          lh_G_subcallosal_thickness_Z_estimate  0.000108  0.016179   \n",
       "55     rh_G_occipital_middle_thickness_Z_estimate  0.000325  0.048729   \n",
       "83  rh_G_temp_sup-Plan_tempo_thickness_Z_estimate  0.000185  0.027692   \n",
       "\n",
       "       tstat  \n",
       "30 -3.988931  \n",
       "36  3.906493  \n",
       "55 -3.621898  \n",
       "83  3.767298  "
      ]
     },
     "execution_count": 36,
     "metadata": {},
     "output_type": "execute_result"
    }
   ],
   "source": [
    "w_b_z_sig_diff"
   ]
  },
  {
   "cell_type": "code",
   "execution_count": 37,
   "id": "a7142b69-0cd1-42e3-a4eb-c210ae7448c6",
   "metadata": {
    "colab": {
     "base_uri": "https://localhost:8080/"
    },
    "id": "170sEtkynMUE",
    "outputId": "7b601d8d-c73e-44ba-a523-4eddb6dea46b"
   },
   "outputs": [
    {
     "data": {
      "text/plain": [
       "(4, 4)"
      ]
     },
     "execution_count": 37,
     "metadata": {},
     "output_type": "execute_result"
    }
   ],
   "source": [
    "w_b_z_sig_diff.shape"
   ]
  },
  {
   "cell_type": "code",
   "execution_count": 30,
   "id": "0be7d011-faaa-4358-8a98-57a8f627cb8d",
   "metadata": {
    "tags": []
   },
   "outputs": [
    {
     "name": "stderr",
     "output_type": "stream",
     "text": [
      "/var/folders/xx/1xs7sc795_nf7k125153b6qh0000gn/T/ipykernel_6609/785070083.py:1: SettingWithCopyWarning: \n",
      "A value is trying to be set on a copy of a slice from a DataFrame.\n",
      "Try using .loc[row_indexer,col_indexer] = value instead\n",
      "\n",
      "See the caveats in the documentation: https://pandas.pydata.org/pandas-docs/stable/user_guide/indexing.html#returning-a-view-versus-a-copy\n",
      "  w_b_z_sig_diff['roi'] = w_b_z_sig_diff['roi'].str.replace('_thickness_Z_estimate', '', regex=True)\n",
      "/var/folders/xx/1xs7sc795_nf7k125153b6qh0000gn/T/ipykernel_6609/785070083.py:2: SettingWithCopyWarning: \n",
      "A value is trying to be set on a copy of a slice from a DataFrame.\n",
      "Try using .loc[row_indexer,col_indexer] = value instead\n",
      "\n",
      "See the caveats in the documentation: https://pandas.pydata.org/pandas-docs/stable/user_guide/indexing.html#returning-a-view-versus-a-copy\n",
      "  w_b_z_sig_diff['roi'] = w_b_z_sig_diff['roi'].str.replace('G&S', 'G_and_S', regex=True)\n"
     ]
    }
   ],
   "source": [
    "w_b_z_sig_diff['roi'] = w_b_z_sig_diff['roi'].str.replace('_thickness_Z_estimate', '', regex=True)\n",
    "w_b_z_sig_diff['roi'] = w_b_z_sig_diff['roi'].str.replace('G&S', 'G_and_S', regex=True)"
   ]
  },
  {
   "cell_type": "code",
   "execution_count": 31,
   "id": "18fe4b5a-9c14-448a-8659-fabb2f84491b",
   "metadata": {
    "tags": []
   },
   "outputs": [
    {
     "name": "stderr",
     "output_type": "stream",
     "text": [
      "/opt/anaconda3/envs/braincharts/lib/python3.9/site-packages/pandas/core/frame.py:3641: SettingWithCopyWarning: \n",
      "A value is trying to be set on a copy of a slice from a DataFrame.\n",
      "Try using .loc[row_indexer,col_indexer] = value instead\n",
      "\n",
      "See the caveats in the documentation: https://pandas.pydata.org/pandas-docs/stable/user_guide/indexing.html#returning-a-view-versus-a-copy\n",
      "  self[k1] = value[k2]\n"
     ]
    }
   ],
   "source": [
    "w_b_z_sig_diff[['temp1', 'temp2']] = w_b_z_sig_diff['roi'].str.split(pat=\"_\", n=1, expand=True)"
   ]
  },
  {
   "cell_type": "code",
   "execution_count": 32,
   "id": "3ed5bb85-2551-4c4c-a802-b8b2684da1ec",
   "metadata": {
    "tags": []
   },
   "outputs": [
    {
     "name": "stderr",
     "output_type": "stream",
     "text": [
      "/opt/anaconda3/envs/braincharts/lib/python3.9/site-packages/pandas/core/generic.py:5516: SettingWithCopyWarning: \n",
      "A value is trying to be set on a copy of a slice from a DataFrame.\n",
      "Try using .loc[row_indexer,col_indexer] = value instead\n",
      "\n",
      "See the caveats in the documentation: https://pandas.pydata.org/pandas-docs/stable/user_guide/indexing.html#returning-a-view-versus-a-copy\n",
      "  self[name] = value\n"
     ]
    }
   ],
   "source": [
    "w_b_z_sig_diff.temp1 = w_b_z_sig_diff.temp1.apply(lambda x: 'left' if 'lh' in x else x)"
   ]
  },
  {
   "cell_type": "code",
   "execution_count": 33,
   "id": "80add3a2-0ea2-432f-b4b2-c6b620582953",
   "metadata": {},
   "outputs": [],
   "source": [
    "w_b_z_sig_diff.temp1 = w_b_z_sig_diff.temp1.apply(lambda x: 'right' if 'rh' in x else x)"
   ]
  },
  {
   "cell_type": "code",
   "execution_count": 34,
   "id": "60374e87-9703-440f-b6ca-12cb86e450fa",
   "metadata": {},
   "outputs": [],
   "source": [
    "df = w_b_z_sig_diff[w_b_z_sig_diff[\"temp1\"].str.contains('left|right')]"
   ]
  },
  {
   "cell_type": "code",
   "execution_count": 35,
   "id": "1fcb6d9d-8854-492b-99de-888eccf2781b",
   "metadata": {},
   "outputs": [],
   "source": [
    "df['hemi'] = df['temp1']"
   ]
  },
  {
   "cell_type": "code",
   "execution_count": 36,
   "id": "7283f44d-ea3a-4890-b66f-8c59b1e5c981",
   "metadata": {},
   "outputs": [],
   "source": [
    "df['ROI'] = df['temp2']"
   ]
  },
  {
   "cell_type": "code",
   "execution_count": 37,
   "id": "a41fd45b-004c-4177-af5a-9e4b29e7c600",
   "metadata": {},
   "outputs": [
    {
     "data": {
      "text/plain": [
       "Index(['fdr_pval', 'pval', 'roi', 'tstat', 'temp1', 'temp2', 'hemi', 'ROI'], dtype='object')"
      ]
     },
     "execution_count": 37,
     "metadata": {},
     "output_type": "execute_result"
    }
   ],
   "source": [
    "df.columns"
   ]
  },
  {
   "cell_type": "code",
   "execution_count": 38,
   "id": "10e79eeb-9605-4042-8acc-c90dc035f3e0",
   "metadata": {},
   "outputs": [],
   "source": [
    "df = df[['tstat', 'fdr_pval', 'hemi', 'ROI']]"
   ]
  },
  {
   "cell_type": "code",
   "execution_count": 39,
   "id": "c5b37353-0e27-4439-9ec1-62e96bd8dc47",
   "metadata": {},
   "outputs": [],
   "source": [
    "w_b_z_sig_diff = df"
   ]
  },
  {
   "cell_type": "code",
   "execution_count": 40,
   "id": "2505cce1-4163-4e99-9058-c4bd1fe31d4c",
   "metadata": {
    "tags": []
   },
   "outputs": [],
   "source": [
    "w_b_z_sig_diff_l = w_b_z_sig_diff.query('hemi == \"left\"')\n",
    "w_b_z_sig_diff_r = w_b_z_sig_diff.query('hemi == \"right\"')"
   ]
  },
  {
   "cell_type": "code",
   "execution_count": 41,
   "id": "654c31ad-7eec-460d-a513-016abfc7f6b5",
   "metadata": {},
   "outputs": [],
   "source": [
    "nl_w_b_z_sig_diff_l = pd.merge(nl, w_b_z_sig_diff_l, on='ROI', how='left')\n",
    "nl_w_b_z_sig_diff_r = pd.merge(nl, w_b_z_sig_diff_r, on='ROI', how='left')"
   ]
  },
  {
   "cell_type": "code",
   "execution_count": 42,
   "id": "f247328d-1c58-4fde-b5b2-87990d3e3b74",
   "metadata": {
    "tags": []
   },
   "outputs": [],
   "source": [
    "nl_w_b_z_sig_diff_l['tstat'] = nl_w_b_z_sig_diff_l['tstat'].fillna(0)\n",
    "nl_w_b_z_sig_diff_r['tstat'] = nl_w_b_z_sig_diff_r['tstat'].fillna(0)"
   ]
  },
  {
   "cell_type": "code",
   "execution_count": 43,
   "id": "74378fa1-3ac6-476b-8998-ca8ba47c71eb",
   "metadata": {
    "tags": []
   },
   "outputs": [],
   "source": [
    "nl_w_b_z_sig_diff_l = nl_w_b_z_sig_diff_l['tstat'].to_numpy()\n",
    "nl_w_b_z_sig_diff_r = nl_w_b_z_sig_diff_r['tstat'].to_numpy()"
   ]
  },
  {
   "cell_type": "code",
   "execution_count": 44,
   "id": "e4efa1b5-4b26-4958-8734-1549fbdfbc34",
   "metadata": {},
   "outputs": [],
   "source": [
    "a_list = list(range(1, 76))\n",
    "parcellation_l = atlas_l\n",
    "for i, j in enumerate(a_list):\n",
    "    parcellation_l = np.where(parcellation_l == j, nl_w_b_z_sig_diff_l[i], parcellation_l)"
   ]
  },
  {
   "cell_type": "code",
   "execution_count": 45,
   "id": "f32ce099-5d8b-4b32-80dd-6dc24fe51a16",
   "metadata": {},
   "outputs": [],
   "source": [
    "a_list = list(range(1, 76))\n",
    "parcellation_r = atlas_r\n",
    "for i, j in enumerate(a_list):\n",
    "    parcellation_r = np.where(parcellation_r == j, nl_w_b_z_sig_diff_r[i], parcellation_r)"
   ]
  },
  {
   "cell_type": "code",
   "execution_count": 48,
   "id": "efbd3e03-5bda-4783-b444-dfa9613bcc56",
   "metadata": {},
   "outputs": [],
   "source": [
    "# Positive value == whites have higher error\n",
    "# Negative value == blacks have higher error\n",
    "plotting.plot_surf_roi(fsaverage['infl_left'], roi_map=parcellation_l, hemi='left', cmap='plasma', bg_map=fsaverage['sulc_left'], vmin=-4, vmax=8, view='lateral', output_file='/Users/saigerutherford/Desktop/ukb_racemodeled_WvB_Z_l.png');"
   ]
  },
  {
   "cell_type": "code",
   "execution_count": 49,
   "id": "056e6acb-ce0a-4717-adf4-b0be9003f137",
   "metadata": {},
   "outputs": [],
   "source": [
    "plotting.plot_surf_roi(fsaverage['infl_right'], roi_map=parcellation_r, hemi='right', cmap='plasma', bg_map=fsaverage['sulc_right'], vmin=-4, vmax=8, view='lateral', output_file='/Users/saigerutherford/Desktop/ukb_racemodeled_WvB_Z_r.png');"
   ]
  },
  {
   "cell_type": "code",
   "execution_count": 50,
   "id": "70f0820b-f695-43ab-8015-b258ca8047ae",
   "metadata": {
    "id": "VdQgUo29nMUD"
   },
   "outputs": [],
   "source": [
    "w_a_pvals_z = pd.DataFrame(columns={'roi','pval', 'tstat','fdr_pval'})\n",
    "for index, column in enumerate(z_cols):\n",
    "    test = ttest_ind(w_deviations[column], a_deviations[column], equal_var=False)\n",
    "    w_a_pvals_z.loc[index, 'pval'] = test.pvalue\n",
    "    w_a_pvals_z.loc[index, 'tstat'] = test.statistic\n",
    "    w_a_pvals_z.loc[index, 'roi'] = column"
   ]
  },
  {
   "cell_type": "code",
   "execution_count": 51,
   "id": "68efbc86-2aa8-4e75-8262-f09c6ee82337",
   "metadata": {
    "id": "n8JfELPdnMUE"
   },
   "outputs": [],
   "source": [
    "w_a_fdr_z = multitest.fdrcorrection(w_a_pvals_z['pval'], alpha=0.05, method='indep', is_sorted=False)"
   ]
  },
  {
   "cell_type": "code",
   "execution_count": 52,
   "id": "17f766ff-2d4b-4856-ade5-4670d45658c0",
   "metadata": {
    "id": "K5panqSGnMUE"
   },
   "outputs": [],
   "source": [
    "w_a_pvals_z['fdr_pval'] = w_a_fdr_z[1]"
   ]
  },
  {
   "cell_type": "code",
   "execution_count": 53,
   "id": "4f96627b-afdc-49d8-ace8-d499ee7c7a2d",
   "metadata": {
    "id": "cjZ8HZMYnMUE"
   },
   "outputs": [],
   "source": [
    "w_a_z_sig_diff = w_a_pvals_z.query('fdr_pval < 0.05')"
   ]
  },
  {
   "cell_type": "code",
   "execution_count": 54,
   "id": "f453c07d-6d38-476b-8c70-18527ce2ec94",
   "metadata": {
    "colab": {
     "base_uri": "https://localhost:8080/",
     "height": 423
    },
    "id": "F01JkqAwnMUE",
    "outputId": "a117d7cf-dd4f-423a-e23b-66fd060deadd",
    "tags": []
   },
   "outputs": [
    {
     "data": {
      "text/html": [
       "<div>\n",
       "<style scoped>\n",
       "    .dataframe tbody tr th:only-of-type {\n",
       "        vertical-align: middle;\n",
       "    }\n",
       "\n",
       "    .dataframe tbody tr th {\n",
       "        vertical-align: top;\n",
       "    }\n",
       "\n",
       "    .dataframe thead th {\n",
       "        text-align: right;\n",
       "    }\n",
       "</style>\n",
       "<table border=\"1\" class=\"dataframe\">\n",
       "  <thead>\n",
       "    <tr style=\"text-align: right;\">\n",
       "      <th></th>\n",
       "      <th>fdr_pval</th>\n",
       "      <th>pval</th>\n",
       "      <th>roi</th>\n",
       "      <th>tstat</th>\n",
       "    </tr>\n",
       "  </thead>\n",
       "  <tbody>\n",
       "    <tr>\n",
       "      <th>6</th>\n",
       "      <td>0.016929</td>\n",
       "      <td>0.001475</td>\n",
       "      <td>rh_S_temporal_transverse_thickness_Z_estimate</td>\n",
       "      <td>3.199738</td>\n",
       "    </tr>\n",
       "    <tr>\n",
       "      <th>13</th>\n",
       "      <td>0.0</td>\n",
       "      <td>0.0</td>\n",
       "      <td>lh_G_cingul-Post-ventral_thickness_Z_estimate</td>\n",
       "      <td>-6.35128</td>\n",
       "    </tr>\n",
       "    <tr>\n",
       "      <th>21</th>\n",
       "      <td>0.036803</td>\n",
       "      <td>0.006379</td>\n",
       "      <td>rh_G_cingul-Post-ventral_thickness_Z_estimate</td>\n",
       "      <td>-2.740469</td>\n",
       "    </tr>\n",
       "    <tr>\n",
       "      <th>25</th>\n",
       "      <td>0.013794</td>\n",
       "      <td>0.000828</td>\n",
       "      <td>lh_Lat_Fis-post_thickness_Z_estimate</td>\n",
       "      <td>3.364587</td>\n",
       "    </tr>\n",
       "    <tr>\n",
       "      <th>35</th>\n",
       "      <td>0.017411</td>\n",
       "      <td>0.001857</td>\n",
       "      <td>rh_S_oc_sup&amp;transversal_thickness_Z_estimate</td>\n",
       "      <td>3.130387</td>\n",
       "    </tr>\n",
       "    <tr>\n",
       "      <th>36</th>\n",
       "      <td>0.026771</td>\n",
       "      <td>0.004099</td>\n",
       "      <td>lh_G_subcallosal_thickness_Z_estimate</td>\n",
       "      <td>-2.886079</td>\n",
       "    </tr>\n",
       "    <tr>\n",
       "      <th>40</th>\n",
       "      <td>0.026529</td>\n",
       "      <td>0.003537</td>\n",
       "      <td>lh_S_occipital_ant_thickness_Z_estimate</td>\n",
       "      <td>2.93215</td>\n",
       "    </tr>\n",
       "    <tr>\n",
       "      <th>52</th>\n",
       "      <td>0.044186</td>\n",
       "      <td>0.008248</td>\n",
       "      <td>lh_S_calcarine_thickness_Z_estimate</td>\n",
       "      <td>2.653135</td>\n",
       "    </tr>\n",
       "    <tr>\n",
       "      <th>54</th>\n",
       "      <td>0.001039</td>\n",
       "      <td>0.000028</td>\n",
       "      <td>rh_G_front_inf-Opercular_thickness_Z_estimate</td>\n",
       "      <td>4.238122</td>\n",
       "    </tr>\n",
       "    <tr>\n",
       "      <th>61</th>\n",
       "      <td>0.018598</td>\n",
       "      <td>0.002108</td>\n",
       "      <td>lh_G_front_inf-Opercular_thickness_Z_estimate</td>\n",
       "      <td>3.093373</td>\n",
       "    </tr>\n",
       "    <tr>\n",
       "      <th>64</th>\n",
       "      <td>0.026771</td>\n",
       "      <td>0.003967</td>\n",
       "      <td>rh_S_front_inf_thickness_Z_estimate</td>\n",
       "      <td>2.89685</td>\n",
       "    </tr>\n",
       "    <tr>\n",
       "      <th>71</th>\n",
       "      <td>0.016929</td>\n",
       "      <td>0.001442</td>\n",
       "      <td>lh_G_cuneus_thickness_Z_estimate</td>\n",
       "      <td>3.204528</td>\n",
       "    </tr>\n",
       "    <tr>\n",
       "      <th>73</th>\n",
       "      <td>0.005498</td>\n",
       "      <td>0.000293</td>\n",
       "      <td>rh_S_precentral-sup-part_thickness_Z_estimate</td>\n",
       "      <td>3.649719</td>\n",
       "    </tr>\n",
       "    <tr>\n",
       "      <th>74</th>\n",
       "      <td>0.001992</td>\n",
       "      <td>0.000066</td>\n",
       "      <td>rh_Lat_Fis-post_thickness_Z_estimate</td>\n",
       "      <td>4.026769</td>\n",
       "    </tr>\n",
       "    <tr>\n",
       "      <th>75</th>\n",
       "      <td>0.031092</td>\n",
       "      <td>0.005182</td>\n",
       "      <td>lh_G_temp_sup-Plan_tempo_thickness_Z_estimate</td>\n",
       "      <td>2.809766</td>\n",
       "    </tr>\n",
       "    <tr>\n",
       "      <th>83</th>\n",
       "      <td>0.004558</td>\n",
       "      <td>0.000213</td>\n",
       "      <td>rh_G_temp_sup-Plan_tempo_thickness_Z_estimate</td>\n",
       "      <td>3.735105</td>\n",
       "    </tr>\n",
       "    <tr>\n",
       "      <th>86</th>\n",
       "      <td>0.016929</td>\n",
       "      <td>0.00158</td>\n",
       "      <td>rh_S_orbital-H_Shaped_thickness_Z_estimate</td>\n",
       "      <td>3.180368</td>\n",
       "    </tr>\n",
       "    <tr>\n",
       "      <th>96</th>\n",
       "      <td>0.021694</td>\n",
       "      <td>0.002603</td>\n",
       "      <td>lh_G_pariet_inf-Supramar_thickness_Z_estimate</td>\n",
       "      <td>3.028172</td>\n",
       "    </tr>\n",
       "    <tr>\n",
       "      <th>99</th>\n",
       "      <td>0.031035</td>\n",
       "      <td>0.004966</td>\n",
       "      <td>rh_G_pariet_inf-Supramar_thickness_Z_estimate</td>\n",
       "      <td>2.823031</td>\n",
       "    </tr>\n",
       "    <tr>\n",
       "      <th>105</th>\n",
       "      <td>0.017212</td>\n",
       "      <td>0.001721</td>\n",
       "      <td>lh_G_front_inf-Orbital_thickness_Z_estimate</td>\n",
       "      <td>3.152019</td>\n",
       "    </tr>\n",
       "    <tr>\n",
       "      <th>111</th>\n",
       "      <td>0.026529</td>\n",
       "      <td>0.003472</td>\n",
       "      <td>rh_S_parieto_occipital_thickness_Z_estimate</td>\n",
       "      <td>2.938447</td>\n",
       "    </tr>\n",
       "    <tr>\n",
       "      <th>114</th>\n",
       "      <td>0.042343</td>\n",
       "      <td>0.007622</td>\n",
       "      <td>lh_G_temp_sup-Lateral_thickness_Z_estimate</td>\n",
       "      <td>2.679716</td>\n",
       "    </tr>\n",
       "    <tr>\n",
       "      <th>118</th>\n",
       "      <td>0.026771</td>\n",
       "      <td>0.004105</td>\n",
       "      <td>lh_G_postcentral_thickness_Z_estimate</td>\n",
       "      <td>-2.885846</td>\n",
       "    </tr>\n",
       "    <tr>\n",
       "      <th>126</th>\n",
       "      <td>0.000662</td>\n",
       "      <td>0.000013</td>\n",
       "      <td>lh_Lat_Fis-ant-Vertical_thickness_Z_estimate</td>\n",
       "      <td>4.408156</td>\n",
       "    </tr>\n",
       "    <tr>\n",
       "      <th>127</th>\n",
       "      <td>0.016929</td>\n",
       "      <td>0.001267</td>\n",
       "      <td>lh_G_temporal_inf_thickness_Z_estimate</td>\n",
       "      <td>3.245423</td>\n",
       "    </tr>\n",
       "    <tr>\n",
       "      <th>128</th>\n",
       "      <td>0.000162</td>\n",
       "      <td>0.000002</td>\n",
       "      <td>rh_G_front_inf-Triangul_thickness_Z_estimate</td>\n",
       "      <td>4.803538</td>\n",
       "    </tr>\n",
       "    <tr>\n",
       "      <th>136</th>\n",
       "      <td>0.003206</td>\n",
       "      <td>0.000128</td>\n",
       "      <td>rh_G_temporal_inf_thickness_Z_estimate</td>\n",
       "      <td>3.86785</td>\n",
       "    </tr>\n",
       "    <tr>\n",
       "      <th>138</th>\n",
       "      <td>0.045114</td>\n",
       "      <td>0.008722</td>\n",
       "      <td>lh_G&amp;S_occipital_inf_thickness_Z_estimate</td>\n",
       "      <td>2.634383</td>\n",
       "    </tr>\n",
       "    <tr>\n",
       "      <th>147</th>\n",
       "      <td>0.016929</td>\n",
       "      <td>0.001322</td>\n",
       "      <td>rh_G_postcentral_thickness_Z_estimate</td>\n",
       "      <td>-3.230367</td>\n",
       "    </tr>\n",
       "  </tbody>\n",
       "</table>\n",
       "</div>"
      ],
      "text/plain": [
       "     fdr_pval      pval                                            roi  \\\n",
       "6    0.016929  0.001475  rh_S_temporal_transverse_thickness_Z_estimate   \n",
       "13        0.0       0.0  lh_G_cingul-Post-ventral_thickness_Z_estimate   \n",
       "21   0.036803  0.006379  rh_G_cingul-Post-ventral_thickness_Z_estimate   \n",
       "25   0.013794  0.000828           lh_Lat_Fis-post_thickness_Z_estimate   \n",
       "35   0.017411  0.001857   rh_S_oc_sup&transversal_thickness_Z_estimate   \n",
       "36   0.026771  0.004099          lh_G_subcallosal_thickness_Z_estimate   \n",
       "40   0.026529  0.003537        lh_S_occipital_ant_thickness_Z_estimate   \n",
       "52   0.044186  0.008248            lh_S_calcarine_thickness_Z_estimate   \n",
       "54   0.001039  0.000028  rh_G_front_inf-Opercular_thickness_Z_estimate   \n",
       "61   0.018598  0.002108  lh_G_front_inf-Opercular_thickness_Z_estimate   \n",
       "64   0.026771  0.003967            rh_S_front_inf_thickness_Z_estimate   \n",
       "71   0.016929  0.001442               lh_G_cuneus_thickness_Z_estimate   \n",
       "73   0.005498  0.000293  rh_S_precentral-sup-part_thickness_Z_estimate   \n",
       "74   0.001992  0.000066           rh_Lat_Fis-post_thickness_Z_estimate   \n",
       "75   0.031092  0.005182  lh_G_temp_sup-Plan_tempo_thickness_Z_estimate   \n",
       "83   0.004558  0.000213  rh_G_temp_sup-Plan_tempo_thickness_Z_estimate   \n",
       "86   0.016929   0.00158     rh_S_orbital-H_Shaped_thickness_Z_estimate   \n",
       "96   0.021694  0.002603  lh_G_pariet_inf-Supramar_thickness_Z_estimate   \n",
       "99   0.031035  0.004966  rh_G_pariet_inf-Supramar_thickness_Z_estimate   \n",
       "105  0.017212  0.001721    lh_G_front_inf-Orbital_thickness_Z_estimate   \n",
       "111  0.026529  0.003472    rh_S_parieto_occipital_thickness_Z_estimate   \n",
       "114  0.042343  0.007622     lh_G_temp_sup-Lateral_thickness_Z_estimate   \n",
       "118  0.026771  0.004105          lh_G_postcentral_thickness_Z_estimate   \n",
       "126  0.000662  0.000013   lh_Lat_Fis-ant-Vertical_thickness_Z_estimate   \n",
       "127  0.016929  0.001267         lh_G_temporal_inf_thickness_Z_estimate   \n",
       "128  0.000162  0.000002   rh_G_front_inf-Triangul_thickness_Z_estimate   \n",
       "136  0.003206  0.000128         rh_G_temporal_inf_thickness_Z_estimate   \n",
       "138  0.045114  0.008722      lh_G&S_occipital_inf_thickness_Z_estimate   \n",
       "147  0.016929  0.001322          rh_G_postcentral_thickness_Z_estimate   \n",
       "\n",
       "        tstat  \n",
       "6    3.199738  \n",
       "13   -6.35128  \n",
       "21  -2.740469  \n",
       "25   3.364587  \n",
       "35   3.130387  \n",
       "36  -2.886079  \n",
       "40    2.93215  \n",
       "52   2.653135  \n",
       "54   4.238122  \n",
       "61   3.093373  \n",
       "64    2.89685  \n",
       "71   3.204528  \n",
       "73   3.649719  \n",
       "74   4.026769  \n",
       "75   2.809766  \n",
       "83   3.735105  \n",
       "86   3.180368  \n",
       "96   3.028172  \n",
       "99   2.823031  \n",
       "105  3.152019  \n",
       "111  2.938447  \n",
       "114  2.679716  \n",
       "118 -2.885846  \n",
       "126  4.408156  \n",
       "127  3.245423  \n",
       "128  4.803538  \n",
       "136   3.86785  \n",
       "138  2.634383  \n",
       "147 -3.230367  "
      ]
     },
     "execution_count": 54,
     "metadata": {},
     "output_type": "execute_result"
    }
   ],
   "source": [
    "w_a_z_sig_diff"
   ]
  },
  {
   "cell_type": "code",
   "execution_count": 55,
   "id": "082893ec-ee82-40ef-8f95-c482cbadf241",
   "metadata": {
    "colab": {
     "base_uri": "https://localhost:8080/"
    },
    "id": "170sEtkynMUE",
    "outputId": "7b601d8d-c73e-44ba-a523-4eddb6dea46b"
   },
   "outputs": [
    {
     "data": {
      "text/plain": [
       "(29, 4)"
      ]
     },
     "execution_count": 55,
     "metadata": {},
     "output_type": "execute_result"
    }
   ],
   "source": [
    "w_a_z_sig_diff.shape"
   ]
  },
  {
   "cell_type": "code",
   "execution_count": 56,
   "id": "914fc9ee-4500-4bed-a976-97d22a927da7",
   "metadata": {
    "tags": []
   },
   "outputs": [
    {
     "name": "stderr",
     "output_type": "stream",
     "text": [
      "/var/folders/xx/1xs7sc795_nf7k125153b6qh0000gn/T/ipykernel_6609/703599908.py:1: SettingWithCopyWarning: \n",
      "A value is trying to be set on a copy of a slice from a DataFrame.\n",
      "Try using .loc[row_indexer,col_indexer] = value instead\n",
      "\n",
      "See the caveats in the documentation: https://pandas.pydata.org/pandas-docs/stable/user_guide/indexing.html#returning-a-view-versus-a-copy\n",
      "  w_a_z_sig_diff['roi'] = w_a_z_sig_diff['roi'].str.replace('_thickness_Z_estimate', '', regex=True)\n",
      "/var/folders/xx/1xs7sc795_nf7k125153b6qh0000gn/T/ipykernel_6609/703599908.py:2: SettingWithCopyWarning: \n",
      "A value is trying to be set on a copy of a slice from a DataFrame.\n",
      "Try using .loc[row_indexer,col_indexer] = value instead\n",
      "\n",
      "See the caveats in the documentation: https://pandas.pydata.org/pandas-docs/stable/user_guide/indexing.html#returning-a-view-versus-a-copy\n",
      "  w_a_z_sig_diff['roi'] = w_a_z_sig_diff['roi'].str.replace('G&S', 'G_and_S', regex=True)\n"
     ]
    }
   ],
   "source": [
    "w_a_z_sig_diff['roi'] = w_a_z_sig_diff['roi'].str.replace('_thickness_Z_estimate', '', regex=True)\n",
    "w_a_z_sig_diff['roi'] = w_a_z_sig_diff['roi'].str.replace('G&S', 'G_and_S', regex=True)"
   ]
  },
  {
   "cell_type": "code",
   "execution_count": 57,
   "id": "803f28bb-d136-4995-bce1-24c1f665018c",
   "metadata": {
    "tags": []
   },
   "outputs": [
    {
     "name": "stderr",
     "output_type": "stream",
     "text": [
      "/opt/anaconda3/envs/braincharts/lib/python3.9/site-packages/pandas/core/frame.py:3641: SettingWithCopyWarning: \n",
      "A value is trying to be set on a copy of a slice from a DataFrame.\n",
      "Try using .loc[row_indexer,col_indexer] = value instead\n",
      "\n",
      "See the caveats in the documentation: https://pandas.pydata.org/pandas-docs/stable/user_guide/indexing.html#returning-a-view-versus-a-copy\n",
      "  self[k1] = value[k2]\n"
     ]
    }
   ],
   "source": [
    "w_a_z_sig_diff[['temp1', 'temp2']] = w_a_z_sig_diff['roi'].str.split(pat=\"_\", n=1, expand=True)"
   ]
  },
  {
   "cell_type": "code",
   "execution_count": 58,
   "id": "6964d0a5-bfea-475e-9fd1-f03a859d2398",
   "metadata": {
    "tags": []
   },
   "outputs": [
    {
     "name": "stderr",
     "output_type": "stream",
     "text": [
      "/opt/anaconda3/envs/braincharts/lib/python3.9/site-packages/pandas/core/generic.py:5516: SettingWithCopyWarning: \n",
      "A value is trying to be set on a copy of a slice from a DataFrame.\n",
      "Try using .loc[row_indexer,col_indexer] = value instead\n",
      "\n",
      "See the caveats in the documentation: https://pandas.pydata.org/pandas-docs/stable/user_guide/indexing.html#returning-a-view-versus-a-copy\n",
      "  self[name] = value\n"
     ]
    }
   ],
   "source": [
    "w_a_z_sig_diff.temp1 = w_a_z_sig_diff.temp1.apply(lambda x: 'left' if 'lh' in x else x)"
   ]
  },
  {
   "cell_type": "code",
   "execution_count": 59,
   "id": "07a4884b-4e16-4422-a28e-27967cb5a46a",
   "metadata": {},
   "outputs": [],
   "source": [
    "w_a_z_sig_diff.temp1 = w_a_z_sig_diff.temp1.apply(lambda x: 'right' if 'rh' in x else x)"
   ]
  },
  {
   "cell_type": "code",
   "execution_count": 60,
   "id": "949a6e43-682e-47b7-8a21-e0b90bb38d70",
   "metadata": {},
   "outputs": [],
   "source": [
    "df = w_a_z_sig_diff[w_a_z_sig_diff[\"temp1\"].str.contains('left|right')]"
   ]
  },
  {
   "cell_type": "code",
   "execution_count": 61,
   "id": "19eb5f16-9e9c-4a93-93ad-bf4069f37fe6",
   "metadata": {},
   "outputs": [],
   "source": [
    "df['hemi'] = df['temp1']"
   ]
  },
  {
   "cell_type": "code",
   "execution_count": 62,
   "id": "b94c1300-7f4d-4c7b-af6e-755b26b4347d",
   "metadata": {},
   "outputs": [],
   "source": [
    "df['ROI'] = df['temp2']"
   ]
  },
  {
   "cell_type": "code",
   "execution_count": 63,
   "id": "a6b31cb9-3dec-496d-92b8-1107f6af34e4",
   "metadata": {},
   "outputs": [
    {
     "data": {
      "text/plain": [
       "Index(['fdr_pval', 'pval', 'roi', 'tstat', 'temp1', 'temp2', 'hemi', 'ROI'], dtype='object')"
      ]
     },
     "execution_count": 63,
     "metadata": {},
     "output_type": "execute_result"
    }
   ],
   "source": [
    "df.columns"
   ]
  },
  {
   "cell_type": "code",
   "execution_count": 64,
   "id": "aa684562-6750-45be-97b1-1e125e6d0170",
   "metadata": {},
   "outputs": [],
   "source": [
    "df = df[['tstat', 'fdr_pval', 'hemi', 'ROI']]"
   ]
  },
  {
   "cell_type": "code",
   "execution_count": 65,
   "id": "3f9664fb-c37b-4992-87c8-8b9a036849e4",
   "metadata": {},
   "outputs": [],
   "source": [
    "w_a_z_sig_diff = df"
   ]
  },
  {
   "cell_type": "code",
   "execution_count": 66,
   "id": "a79c831b-10ed-412c-aeed-8bbd08f3d67a",
   "metadata": {
    "tags": []
   },
   "outputs": [],
   "source": [
    "w_a_z_sig_diff_l = w_a_z_sig_diff.query('hemi == \"left\"')\n",
    "w_a_z_sig_diff_r = w_a_z_sig_diff.query('hemi == \"right\"')"
   ]
  },
  {
   "cell_type": "code",
   "execution_count": 67,
   "id": "da3a9ce0-5555-435c-8cc8-76506901d999",
   "metadata": {},
   "outputs": [],
   "source": [
    "nl_w_a_z_sig_diff_l = pd.merge(nl, w_a_z_sig_diff_l, on='ROI', how='left')\n",
    "nl_w_a_z_sig_diff_r = pd.merge(nl, w_a_z_sig_diff_r, on='ROI', how='left')"
   ]
  },
  {
   "cell_type": "code",
   "execution_count": 68,
   "id": "7fce96e4-d68c-484f-a993-43848b51dd3e",
   "metadata": {
    "tags": []
   },
   "outputs": [],
   "source": [
    "nl_w_a_z_sig_diff_l['tstat'] = nl_w_a_z_sig_diff_l['tstat'].fillna(0)\n",
    "nl_w_a_z_sig_diff_r['tstat'] = nl_w_a_z_sig_diff_r['tstat'].fillna(0)"
   ]
  },
  {
   "cell_type": "code",
   "execution_count": 69,
   "id": "46a92788-bb8e-4125-b107-258d931d2056",
   "metadata": {
    "tags": []
   },
   "outputs": [],
   "source": [
    "nl_w_a_z_sig_diff_l = nl_w_a_z_sig_diff_l['tstat'].to_numpy()\n",
    "nl_w_a_z_sig_diff_r = nl_w_a_z_sig_diff_r['tstat'].to_numpy()"
   ]
  },
  {
   "cell_type": "code",
   "execution_count": 70,
   "id": "bf9cd5c0-5d97-4693-ade1-ace100d4ce67",
   "metadata": {},
   "outputs": [],
   "source": [
    "a_list = list(range(1, 76))\n",
    "parcellation_l = atlas_l\n",
    "for i, j in enumerate(a_list):\n",
    "    parcellation_l = np.where(parcellation_l == j, nl_w_a_z_sig_diff_l[i], parcellation_l)"
   ]
  },
  {
   "cell_type": "code",
   "execution_count": 71,
   "id": "53087df4-cbba-4a28-872e-b60fb3389fb3",
   "metadata": {},
   "outputs": [],
   "source": [
    "a_list = list(range(1, 76))\n",
    "parcellation_r = atlas_r\n",
    "for i, j in enumerate(a_list):\n",
    "    parcellation_r = np.where(parcellation_r == j, nl_w_a_z_sig_diff_r[i], parcellation_r)"
   ]
  },
  {
   "cell_type": "code",
   "execution_count": 72,
   "id": "38db55c1-10c8-4633-be1d-5d9858ffeb09",
   "metadata": {},
   "outputs": [],
   "source": [
    "# Positive value == whites have higher error\n",
    "# Negative value == blacks have higher error\n",
    "plotting.plot_surf_roi(fsaverage['infl_left'], roi_map=parcellation_l, hemi='left', cmap='plasma', bg_map=fsaverage['sulc_left'], vmin=-4, vmax=8, view='lateral', output_file='/Users/saigerutherford/Desktop/ukb_racemodeled_WvA_Z_l.png');"
   ]
  },
  {
   "cell_type": "code",
   "execution_count": 73,
   "id": "48eb594d-63db-49ad-b084-052087cc172a",
   "metadata": {},
   "outputs": [],
   "source": [
    "plotting.plot_surf_roi(fsaverage['infl_right'], roi_map=parcellation_r, hemi='right', cmap='plasma', bg_map=fsaverage['sulc_right'], vmin=-4, vmax=8, view='lateral', output_file='/Users/saigerutherford/Desktop/ukb_racemodeled_WvA_Z_r.png');"
   ]
  },
  {
   "cell_type": "markdown",
   "id": "a8ad9d1e-5dad-49b6-a471-55222f6938e0",
   "metadata": {},
   "source": [
    "### T-Tests on group mean and variance (across all ROIs)"
   ]
  },
  {
   "cell_type": "markdown",
   "id": "8caa733f-513a-4a5f-9768-a7f4363f84ea",
   "metadata": {},
   "source": [
    "### UKB race not modeled"
   ]
  },
  {
   "cell_type": "code",
   "execution_count": 32,
   "id": "4e5e555a-27e1-4ac6-87ff-93d82818243f",
   "metadata": {},
   "outputs": [],
   "source": [
    "Z_df = pd.read_csv('/Users/saigerutherford/Documents/Work/drive-download-20220731T221458Z-001/braincharts/models/ukb_race_not_modeled/deviation_scores.csv')"
   ]
  },
  {
   "cell_type": "code",
   "execution_count": 33,
   "id": "cd20ad54-9fb7-4440-9c4d-3200a7a83bb8",
   "metadata": {
    "executionInfo": {
     "elapsed": 257,
     "status": "ok",
     "timestamp": 1687449325721,
     "user": {
      "displayName": "Saige Rutherford",
      "userId": "09510631870783055479"
     },
     "user_tz": -120
    },
    "id": "5649160f-708d-46ed-9760-29f9c3fb8b18",
    "jupyter": {
     "source_hidden": true
    },
    "tags": []
   },
   "outputs": [],
   "source": [
    "z_long = Z_df.melt(id_vars=['participant_id','race_1'],\n",
    "                  value_vars=['rh_G_Ins_lg&S_cent_ins_thickness_Z_estimate',\n",
    "                             'rh_G&S_cingul-Mid-Post_thickness_Z_estimate',\n",
    "                             'rh_G&S_subcentral_thickness_Z_estimate',\n",
    "                             'lh_G_temporal_middle_thickness_Z_estimate',\n",
    "                             'lh_S_temporal_transverse_thickness_Z_estimate',\n",
    "                             'rh_G_subcallosal_thickness_Z_estimate',\n",
    "                             'rh_S_temporal_transverse_thickness_Z_estimate',\n",
    "                             'rh_G_temp_sup-Lateral_thickness_Z_estimate',\n",
    "                             'rh_S_subparietal_thickness_Z_estimate',\n",
    "                             'lh_Pole_temporal_thickness_Z_estimate',\n",
    "                             'rh_G_precentral_thickness_Z_estimate',\n",
    "                             'lh_G_oc-temp_lat-fusifor_thickness_Z_estimate',\n",
    "                             'rh_S_circular_insula_inf_thickness_Z_estimate',\n",
    "                             'lh_G_cingul-Post-ventral_thickness_Z_estimate',\n",
    "                             'lh_G_front_inf-Triangul_thickness_Z_estimate',\n",
    "                             'lh_S_cingul-Marginalis_thickness_Z_estimate',\n",
    "                             'rh_Lat_Fis-ant-Vertical_thickness_Z_estimate',\n",
    "                             'lh_G&S_paracentral_thickness_Z_estimate',\n",
    "                             'rh_S_postcentral_thickness_Z_estimate',\n",
    "                             'lh_S_circular_insula_inf_thickness_Z_estimate',\n",
    "                             'rh_G_oc-temp_lat-fusifor_thickness_Z_estimate',\n",
    "                             'rh_G_cingul-Post-ventral_thickness_Z_estimate',\n",
    "                             'lh_G&S_transv_frontopol_thickness_Z_estimate',\n",
    "                             'rh_G_temp_sup-G_T_transv_thickness_Z_estimate',\n",
    "                             'rh_S_oc-temp_med&Lingual_thickness_Z_estimate',\n",
    "                             'lh_Lat_Fis-post_thickness_Z_estimate',\n",
    "                             'lh_S_postcentral_thickness_Z_estimate',\n",
    "                             'rh_G_rectus_thickness_Z_estimate',\n",
    "                             'lh_G_temp_sup-G_T_transv_thickness_Z_estimate',\n",
    "                             'rh_Pole_temporal_thickness_Z_estimate',\n",
    "                             'lh_S_subparietal_thickness_Z_estimate',\n",
    "                             'rh_G_cingul-Post-dorsal_thickness_Z_estimate',\n",
    "                             'lh_S_oc-temp_med&Lingual_thickness_Z_estimate',\n",
    "                             'rh_S_interm_prim-Jensen_thickness_Z_estimate',\n",
    "                             'lh_G&S_subcentral_thickness_Z_estimate',\n",
    "                             'rh_S_oc_sup&transversal_thickness_Z_estimate',\n",
    "                             'lh_G_subcallosal_thickness_Z_estimate',\n",
    "                             'rh_S_orbital_lateral_thickness_Z_estimate',\n",
    "                             'lh_G_insular_short_thickness_Z_estimate',\n",
    "                             'rh_S_collat_transv_post_thickness_Z_estimate',\n",
    "                             'lh_S_occipital_ant_thickness_Z_estimate',\n",
    "                             'rh_S_orbital_med-olfact_thickness_Z_estimate',\n",
    "                             'lh_G_front_sup_thickness_Z_estimate',\n",
    "                             'lh_S_precentral-inf-part_thickness_Z_estimate',\n",
    "                             'lh_G_precentral_thickness_Z_estimate',\n",
    "                             'rh_G_temporal_middle_thickness_Z_estimate',\n",
    "                             'lh_S_temporal_inf_thickness_Z_estimate',\n",
    "                             'rh_G_parietal_sup_thickness_Z_estimate',\n",
    "                             'lh_S_collat_transv_ant_thickness_Z_estimate',\n",
    "                             'rh_G_front_sup_thickness_Z_estimate',\n",
    "                             'rh_S_precentral-inf-part_thickness_Z_estimate',\n",
    "                             'rh_G_pariet_inf-Angular_thickness_Z_estimate',\n",
    "                             'lh_S_calcarine_thickness_Z_estimate',\n",
    "                             'lh_S_orbital-H_Shaped_thickness_Z_estimate',\n",
    "                             'rh_G_front_inf-Opercular_thickness_Z_estimate',\n",
    "                             'rh_G_occipital_middle_thickness_Z_estimate',\n",
    "                             'lh_G_oc-temp_med-Parahip_thickness_Z_estimate',\n",
    "                             'rh_G_orbital_thickness_Z_estimate',\n",
    "                             'lh_S_front_inf_thickness_Z_estimate',\n",
    "                             'rh_S_calcarine_thickness_Z_estimate',\n",
    "                             'rh_G_occipital_sup_thickness_Z_estimate',\n",
    "                             'lh_G_front_inf-Opercular_thickness_Z_estimate',\n",
    "                             'lh_G_front_middle_thickness_Z_estimate',\n",
    "                             'lh_S_central_thickness_Z_estimate',\n",
    "                             'rh_S_front_inf_thickness_Z_estimate',\n",
    "                             'rh_G_oc-temp_med-Parahip_thickness_Z_estimate',\n",
    "                             'lh_Lat_Fis-ant-Horizont_thickness_Z_estimate',\n",
    "                             'rh_G_front_inf-Orbital_thickness_Z_estimate',\n",
    "                             'lh_G_orbital_thickness_Z_estimate',\n",
    "                             'lh_S_oc_middle&Lunatus_thickness_Z_estimate',\n",
    "                             'rh_S_central_thickness_Z_estimate',\n",
    "                             'lh_G_cuneus_thickness_Z_estimate',\n",
    "                             'rh_G_front_middle_thickness_Z_estimate',\n",
    "                             'rh_S_precentral-sup-part_thickness_Z_estimate',\n",
    "                             'rh_Lat_Fis-post_thickness_Z_estimate',\n",
    "                             'lh_G_temp_sup-Plan_tempo_thickness_Z_estimate',\n",
    "                             'lh_G_parietal_sup_thickness_Z_estimate',\n",
    "                             'rh_S_temporal_inf_thickness_Z_estimate',\n",
    "                             'lh_S_circular_insula_ant_thickness_Z_estimate',\n",
    "                             'lh_S_precentral-sup-part_thickness_Z_estimate',\n",
    "                             'lh_S_orbital_lateral_thickness_Z_estimate',\n",
    "                             'lh_S_parieto_occipital_thickness_Z_estimate',\n",
    "                             'rh_G&S_cingul-Mid-Ant_thickness_Z_estimate',\n",
    "                             'rh_G_temp_sup-Plan_tempo_thickness_Z_estimate',\n",
    "                             'rh_S_circular_insula_ant_thickness_Z_estimate',\n",
    "                             'rh_MeanThickness_thickness_Z_estimate',\n",
    "                             'rh_S_orbital-H_Shaped_thickness_Z_estimate',\n",
    "                             'lh_G_occipital_middle_thickness_Z_estimate',\n",
    "                             'lh_S_circular_insula_sup_thickness_Z_estimate',\n",
    "                             'lh_G_pariet_inf-Angular_thickness_Z_estimate',\n",
    "                             'rh_G&S_paracentral_thickness_Z_estimate',\n",
    "                             'lh_G_temp_sup-Plan_polar_thickness_Z_estimate',\n",
    "                             'rh_S_collat_transv_ant_thickness_Z_estimate',\n",
    "                             'rh_S_circular_insula_sup_thickness_Z_estimate',\n",
    "                             'rh_G_temp_sup-Plan_polar_thickness_Z_estimate',\n",
    "                             'rh_Pole_occipital_thickness_Z_estimate',\n",
    "                             'lh_G_pariet_inf-Supramar_thickness_Z_estimate',\n",
    "                             'lh_G&S_frontomargin_thickness_Z_estimate',\n",
    "                             'rh_S_pericallosal_thickness_Z_estimate',\n",
    "                             'rh_G_pariet_inf-Supramar_thickness_Z_estimate',\n",
    "                             'rh_S_suborbital_thickness_Z_estimate',\n",
    "                             'lh_S_pericallosal_thickness_Z_estimate',\n",
    "                             'rh_S_occipital_ant_thickness_Z_estimate',\n",
    "                             'lh_Pole_occipital_thickness_Z_estimate',\n",
    "                             'rh_G_insular_short_thickness_Z_estimate',\n",
    "                             'lh_G_front_inf-Orbital_thickness_Z_estimate',\n",
    "                             'rh_G_cuneus_thickness_Z_estimate',\n",
    "                             'rh_S_oc_middle&Lunatus_thickness_Z_estimate',\n",
    "                             'lh_G&S_cingul-Mid-Ant_thickness_Z_estimate',\n",
    "                             'rh_G&S_occipital_inf_thickness_Z_estimate',\n",
    "                             'rh_Lat_Fis-ant-Horizont_thickness_Z_estimate',\n",
    "                             'rh_S_parieto_occipital_thickness_Z_estimate',\n",
    "                             'lh_MeanThickness_thickness_Z_estimate',\n",
    "                             'rh_G_precuneus_thickness_Z_estimate',\n",
    "                             'lh_G_temp_sup-Lateral_thickness_Z_estimate',\n",
    "                             'lh_S_front_middle_thickness_Z_estimate',\n",
    "                             'lh_G_Ins_lg&S_cent_ins_thickness_Z_estimate',\n",
    "                             'lh_G_occipital_sup_thickness_Z_estimate',\n",
    "                             'lh_G_postcentral_thickness_Z_estimate',\n",
    "                             'rh_S_front_sup_thickness_Z_estimate',\n",
    "                             'lh_G&S_cingul-Mid-Post_thickness_Z_estimate',\n",
    "                             'lh_G_precuneus_thickness_Z_estimate',\n",
    "                             'lh_G&S_cingul-Ant_thickness_Z_estimate',\n",
    "                             'lh_S_front_sup_thickness_Z_estimate',\n",
    "                             'lh_S_oc-temp_lat_thickness_Z_estimate',\n",
    "                             'rh_G&S_frontomargin_thickness_Z_estimate',\n",
    "                             'lh_Lat_Fis-ant-Vertical_thickness_Z_estimate',\n",
    "                             'lh_G_temporal_inf_thickness_Z_estimate',\n",
    "                             'rh_G_front_inf-Triangul_thickness_Z_estimate',\n",
    "                             'lh_S_temporal_sup_thickness_Z_estimate',\n",
    "                             'rh_S_cingul-Marginalis_thickness_Z_estimate',\n",
    "                             'lh_G_rectus_thickness_Z_estimate',\n",
    "                             'lh_S_interm_prim-Jensen_thickness_Z_estimate',\n",
    "                             'lh_S_intrapariet&P_trans_thickness_Z_estimate',\n",
    "                             'lh_G_cingul-Post-dorsal_thickness_Z_estimate',\n",
    "                             'rh_S_intrapariet&P_trans_thickness_Z_estimate',\n",
    "                             'rh_G_temporal_inf_thickness_Z_estimate',\n",
    "                             'rh_G&S_transv_frontopol_thickness_Z_estimate',\n",
    "                             'lh_G&S_occipital_inf_thickness_Z_estimate',\n",
    "                             'rh_S_temporal_sup_thickness_Z_estimate',\n",
    "                             'rh_S_oc-temp_lat_thickness_Z_estimate',\n",
    "                             'rh_S_front_middle_thickness_Z_estimate',\n",
    "                             'lh_S_orbital_med-olfact_thickness_Z_estimate',\n",
    "                             'lh_G_oc-temp_med-Lingual_thickness_Z_estimate',\n",
    "                             'lh_S_collat_transv_post_thickness_Z_estimate',\n",
    "                             'lh_S_suborbital_thickness_Z_estimate',\n",
    "                             'rh_G&S_cingul-Ant_thickness_Z_estimate',\n",
    "                             'rh_G_postcentral_thickness_Z_estimate',\n",
    "                             'rh_G_oc-temp_med-Lingual_thickness_Z_estimate',\n",
    "                             'lh_S_oc_sup&transversal_thickness_Z_estimate'])"
   ]
  },
  {
   "cell_type": "code",
   "execution_count": 34,
   "id": "524c21c2-9bd7-4551-8084-e24fd7c9950f",
   "metadata": {
    "tags": []
   },
   "outputs": [],
   "source": [
    "z_long_white = z_long.query('race_1 == \"White\"')\n",
    "z_long_black = z_long.query('race_1 == \"Black\"')\n",
    "z_long_asian = z_long.query('race_1 == \"Asian\"')"
   ]
  },
  {
   "cell_type": "code",
   "execution_count": 35,
   "id": "86550445-2349-4c99-89b9-076957db3db4",
   "metadata": {},
   "outputs": [],
   "source": [
    "z_white = Z_df.query('race_1 == \"White\"')\n",
    "z_black = Z_df.query('race_1 == \"Black\"')\n",
    "z_asian = Z_df.query('race_1 == \"Asian\"')"
   ]
  },
  {
   "cell_type": "code",
   "execution_count": 78,
   "id": "c0d297af-4329-4aa4-a285-2f618affac86",
   "metadata": {},
   "outputs": [],
   "source": [
    "z_long_white2 = z_long_white.groupby(by='participant_id',as_index=False).mean()"
   ]
  },
  {
   "cell_type": "code",
   "execution_count": 79,
   "id": "63c0b5dd-ed37-4af4-b60e-ed2578e097ff",
   "metadata": {},
   "outputs": [],
   "source": [
    "z_long_black2 = z_long_black.groupby(by='participant_id',as_index=False).mean()"
   ]
  },
  {
   "cell_type": "code",
   "execution_count": 80,
   "id": "00572681-bd5d-44c4-94ea-7336c006b636",
   "metadata": {},
   "outputs": [],
   "source": [
    "z_long_asian2 = z_long_asian.groupby(by='participant_id',as_index=False).mean()"
   ]
  },
  {
   "cell_type": "code",
   "execution_count": 81,
   "id": "684d3967-cd34-4a41-846f-58acd8ae34a7",
   "metadata": {},
   "outputs": [
    {
     "data": {
      "text/plain": [
       "Ttest_indResult(statistic=2.8687110482084894, pvalue=0.004302137728061506)"
      ]
     },
     "execution_count": 81,
     "metadata": {},
     "output_type": "execute_result"
    }
   ],
   "source": [
    "ttest_ind(z_long_white2['value'], z_long_black2['value'], equal_var=False)"
   ]
  },
  {
   "cell_type": "code",
   "execution_count": 82,
   "id": "e604eee1-5144-4b08-9531-4024321f74e7",
   "metadata": {},
   "outputs": [
    {
     "data": {
      "text/plain": [
       "Ttest_indResult(statistic=1.7665105950565898, pvalue=0.0780335661191895)"
      ]
     },
     "execution_count": 82,
     "metadata": {},
     "output_type": "execute_result"
    }
   ],
   "source": [
    "ttest_ind(z_long_white2['value'], z_long_asian2['value'], equal_var=False)"
   ]
  },
  {
   "cell_type": "code",
   "execution_count": 83,
   "id": "1c0c7f18-62af-446f-bc9d-54dda20043ca",
   "metadata": {},
   "outputs": [
    {
     "data": {
      "text/plain": [
       "Ttest_indResult(statistic=-0.672071820800716, pvalue=0.5018217558455804)"
      ]
     },
     "execution_count": 83,
     "metadata": {},
     "output_type": "execute_result"
    }
   ],
   "source": [
    "ttest_ind(z_long_black2['value'], z_long_asian2['value'], equal_var=False)"
   ]
  },
  {
   "cell_type": "markdown",
   "id": "6fc8c87a-98c1-4495-91ec-2f94fcb007e6",
   "metadata": {
    "id": "AiimUDe6nMUD"
   },
   "source": [
    "### T-Tests on individual ROIs (FDR corrected)"
   ]
  },
  {
   "cell_type": "markdown",
   "id": "2f7b5ac6-d0cd-46d9-ab90-253f26d0cdbd",
   "metadata": {},
   "source": [
    "### UKB race not modeled"
   ]
  },
  {
   "cell_type": "code",
   "execution_count": 84,
   "id": "0188918b-ec61-4b4d-aa84-c0637b2eeee9",
   "metadata": {
    "id": "ssVXAgqGnMUD"
   },
   "outputs": [],
   "source": [
    "w_deviations = z_white.loc[:, z_white.columns.str.contains('Z_estimate')]"
   ]
  },
  {
   "cell_type": "code",
   "execution_count": 85,
   "id": "ecf6a0ce-3e1a-4011-9afc-74b9dbd7bd61",
   "metadata": {
    "id": "lqtHyKrrnMUD"
   },
   "outputs": [],
   "source": [
    "b_deviations = z_black.loc[:, z_black.columns.str.contains('Z_estimate')]"
   ]
  },
  {
   "cell_type": "code",
   "execution_count": 86,
   "id": "f6014925-2fe8-4bd9-aecd-f5f739d69afe",
   "metadata": {
    "id": "lqtHyKrrnMUD"
   },
   "outputs": [],
   "source": [
    "a_deviations = z_asian.loc[:, z_asian.columns.str.contains('Z_estimate')]"
   ]
  },
  {
   "cell_type": "code",
   "execution_count": 87,
   "id": "77718139-4912-4a53-bb7b-612c5bcffcf0",
   "metadata": {
    "id": "BCJpEI8NnMUD"
   },
   "outputs": [],
   "source": [
    "z_cols = w_deviations.columns"
   ]
  },
  {
   "cell_type": "code",
   "execution_count": 88,
   "id": "427294bf-bba6-40fd-a0be-2a0150d856e4",
   "metadata": {},
   "outputs": [
    {
     "data": {
      "text/plain": [
       "150"
      ]
     },
     "execution_count": 88,
     "metadata": {},
     "output_type": "execute_result"
    }
   ],
   "source": [
    "len(z_cols)"
   ]
  },
  {
   "cell_type": "code",
   "execution_count": 89,
   "id": "a61bc166-7caa-4b1d-85c5-b9cd14d206e4",
   "metadata": {
    "id": "VdQgUo29nMUD"
   },
   "outputs": [],
   "source": [
    "w_b_pvals_z = pd.DataFrame(columns={'roi','pval', 'tstat','fdr_pval'})\n",
    "for index, column in enumerate(z_cols):\n",
    "    test = ttest_ind(w_deviations[column], b_deviations[column], equal_var=False)\n",
    "    w_b_pvals_z.loc[index, 'pval'] = test.pvalue\n",
    "    w_b_pvals_z.loc[index, 'tstat'] = test.statistic\n",
    "    w_b_pvals_z.loc[index, 'roi'] = column"
   ]
  },
  {
   "cell_type": "code",
   "execution_count": 90,
   "id": "684ecfc9-08b4-457a-a6a8-711bbe18253c",
   "metadata": {
    "id": "n8JfELPdnMUE"
   },
   "outputs": [],
   "source": [
    "w_b_fdr_z = multitest.fdrcorrection(w_b_pvals_z['pval'], alpha=0.05, method='indep', is_sorted=False)"
   ]
  },
  {
   "cell_type": "code",
   "execution_count": 91,
   "id": "0c3dace6-6329-4370-b229-496362fe04e2",
   "metadata": {
    "id": "K5panqSGnMUE"
   },
   "outputs": [],
   "source": [
    "w_b_pvals_z['fdr_pval'] = w_b_fdr_z[1]"
   ]
  },
  {
   "cell_type": "code",
   "execution_count": 92,
   "id": "5e6f2dad-f9e5-4c68-824b-71ce86f64c2f",
   "metadata": {
    "id": "cjZ8HZMYnMUE"
   },
   "outputs": [],
   "source": [
    "w_b_z_sig_diff = w_b_pvals_z.query('fdr_pval < 0.05')"
   ]
  },
  {
   "cell_type": "code",
   "execution_count": 93,
   "id": "64fd6c5d-ec77-47a0-b737-ce66d0f79427",
   "metadata": {
    "colab": {
     "base_uri": "https://localhost:8080/",
     "height": 423
    },
    "id": "F01JkqAwnMUE",
    "outputId": "a117d7cf-dd4f-423a-e23b-66fd060deadd",
    "tags": []
   },
   "outputs": [
    {
     "data": {
      "text/html": [
       "<div>\n",
       "<style scoped>\n",
       "    .dataframe tbody tr th:only-of-type {\n",
       "        vertical-align: middle;\n",
       "    }\n",
       "\n",
       "    .dataframe tbody tr th {\n",
       "        vertical-align: top;\n",
       "    }\n",
       "\n",
       "    .dataframe thead th {\n",
       "        text-align: right;\n",
       "    }\n",
       "</style>\n",
       "<table border=\"1\" class=\"dataframe\">\n",
       "  <thead>\n",
       "    <tr style=\"text-align: right;\">\n",
       "      <th></th>\n",
       "      <th>fdr_pval</th>\n",
       "      <th>pval</th>\n",
       "      <th>roi</th>\n",
       "      <th>tstat</th>\n",
       "    </tr>\n",
       "  </thead>\n",
       "  <tbody>\n",
       "    <tr>\n",
       "      <th>2</th>\n",
       "      <td>0.006989</td>\n",
       "      <td>0.002004</td>\n",
       "      <td>rh_G&amp;S_subcentral_thickness_Z_estimate</td>\n",
       "      <td>3.106561</td>\n",
       "    </tr>\n",
       "    <tr>\n",
       "      <th>5</th>\n",
       "      <td>0.042499</td>\n",
       "      <td>0.015866</td>\n",
       "      <td>rh_G_subcallosal_thickness_Z_estimate</td>\n",
       "      <td>2.420921</td>\n",
       "    </tr>\n",
       "    <tr>\n",
       "      <th>6</th>\n",
       "      <td>0.000038</td>\n",
       "      <td>0.000003</td>\n",
       "      <td>rh_S_temporal_transverse_thickness_Z_estimate</td>\n",
       "      <td>4.713995</td>\n",
       "    </tr>\n",
       "    <tr>\n",
       "      <th>13</th>\n",
       "      <td>0.007177</td>\n",
       "      <td>0.002153</td>\n",
       "      <td>lh_G_cingul-Post-ventral_thickness_Z_estimate</td>\n",
       "      <td>3.083947</td>\n",
       "    </tr>\n",
       "    <tr>\n",
       "      <th>17</th>\n",
       "      <td>0.000002</td>\n",
       "      <td>0.0</td>\n",
       "      <td>lh_G&amp;S_paracentral_thickness_Z_estimate</td>\n",
       "      <td>5.421771</td>\n",
       "    </tr>\n",
       "    <tr>\n",
       "      <th>18</th>\n",
       "      <td>0.000002</td>\n",
       "      <td>0.0</td>\n",
       "      <td>rh_S_postcentral_thickness_Z_estimate</td>\n",
       "      <td>5.353075</td>\n",
       "    </tr>\n",
       "    <tr>\n",
       "      <th>21</th>\n",
       "      <td>0.000053</td>\n",
       "      <td>0.000006</td>\n",
       "      <td>rh_G_cingul-Post-ventral_thickness_Z_estimate</td>\n",
       "      <td>4.590341</td>\n",
       "    </tr>\n",
       "    <tr>\n",
       "      <th>23</th>\n",
       "      <td>0.000155</td>\n",
       "      <td>0.00002</td>\n",
       "      <td>rh_G_temp_sup-G_T_transv_thickness_Z_estimate</td>\n",
       "      <td>4.309971</td>\n",
       "    </tr>\n",
       "    <tr>\n",
       "      <th>24</th>\n",
       "      <td>0.000046</td>\n",
       "      <td>0.000005</td>\n",
       "      <td>rh_S_oc-temp_med&amp;Lingual_thickness_Z_estimate</td>\n",
       "      <td>4.635515</td>\n",
       "    </tr>\n",
       "    <tr>\n",
       "      <th>25</th>\n",
       "      <td>0.000001</td>\n",
       "      <td>0.0</td>\n",
       "      <td>lh_Lat_Fis-post_thickness_Z_estimate</td>\n",
       "      <td>5.73137</td>\n",
       "    </tr>\n",
       "    <tr>\n",
       "      <th>26</th>\n",
       "      <td>0.00018</td>\n",
       "      <td>0.000028</td>\n",
       "      <td>lh_S_postcentral_thickness_Z_estimate</td>\n",
       "      <td>4.233556</td>\n",
       "    </tr>\n",
       "    <tr>\n",
       "      <th>28</th>\n",
       "      <td>0.002051</td>\n",
       "      <td>0.000492</td>\n",
       "      <td>lh_G_temp_sup-G_T_transv_thickness_Z_estimate</td>\n",
       "      <td>3.50793</td>\n",
       "    </tr>\n",
       "    <tr>\n",
       "      <th>32</th>\n",
       "      <td>0.000679</td>\n",
       "      <td>0.000125</td>\n",
       "      <td>lh_S_oc-temp_med&amp;Lingual_thickness_Z_estimate</td>\n",
       "      <td>3.866553</td>\n",
       "    </tr>\n",
       "    <tr>\n",
       "      <th>33</th>\n",
       "      <td>0.002051</td>\n",
       "      <td>0.000481</td>\n",
       "      <td>rh_S_interm_prim-Jensen_thickness_Z_estimate</td>\n",
       "      <td>3.512124</td>\n",
       "    </tr>\n",
       "    <tr>\n",
       "      <th>34</th>\n",
       "      <td>0.003236</td>\n",
       "      <td>0.000798</td>\n",
       "      <td>lh_G&amp;S_subcentral_thickness_Z_estimate</td>\n",
       "      <td>3.375113</td>\n",
       "    </tr>\n",
       "    <tr>\n",
       "      <th>40</th>\n",
       "      <td>0.013517</td>\n",
       "      <td>0.004416</td>\n",
       "      <td>lh_S_occipital_ant_thickness_Z_estimate</td>\n",
       "      <td>2.858823</td>\n",
       "    </tr>\n",
       "    <tr>\n",
       "      <th>51</th>\n",
       "      <td>0.020622</td>\n",
       "      <td>0.007012</td>\n",
       "      <td>rh_G_pariet_inf-Angular_thickness_Z_estimate</td>\n",
       "      <td>2.707501</td>\n",
       "    </tr>\n",
       "    <tr>\n",
       "      <th>52</th>\n",
       "      <td>0.000004</td>\n",
       "      <td>0.0</td>\n",
       "      <td>lh_S_calcarine_thickness_Z_estimate</td>\n",
       "      <td>5.190387</td>\n",
       "    </tr>\n",
       "    <tr>\n",
       "      <th>55</th>\n",
       "      <td>0.004811</td>\n",
       "      <td>0.001219</td>\n",
       "      <td>rh_G_occipital_middle_thickness_Z_estimate</td>\n",
       "      <td>3.254738</td>\n",
       "    </tr>\n",
       "    <tr>\n",
       "      <th>57</th>\n",
       "      <td>0.000929</td>\n",
       "      <td>0.000186</td>\n",
       "      <td>rh_G_orbital_thickness_Z_estimate</td>\n",
       "      <td>3.768884</td>\n",
       "    </tr>\n",
       "    <tr>\n",
       "      <th>59</th>\n",
       "      <td>0.000001</td>\n",
       "      <td>0.0</td>\n",
       "      <td>rh_S_calcarine_thickness_Z_estimate</td>\n",
       "      <td>5.764762</td>\n",
       "    </tr>\n",
       "    <tr>\n",
       "      <th>60</th>\n",
       "      <td>0.001685</td>\n",
       "      <td>0.000382</td>\n",
       "      <td>rh_G_occipital_sup_thickness_Z_estimate</td>\n",
       "      <td>3.578114</td>\n",
       "    </tr>\n",
       "    <tr>\n",
       "      <th>63</th>\n",
       "      <td>0.000163</td>\n",
       "      <td>0.000022</td>\n",
       "      <td>lh_S_central_thickness_Z_estimate</td>\n",
       "      <td>4.291222</td>\n",
       "    </tr>\n",
       "    <tr>\n",
       "      <th>66</th>\n",
       "      <td>0.038185</td>\n",
       "      <td>0.014001</td>\n",
       "      <td>lh_Lat_Fis-ant-Horizont_thickness_Z_estimate</td>\n",
       "      <td>2.465958</td>\n",
       "    </tr>\n",
       "    <tr>\n",
       "      <th>69</th>\n",
       "      <td>0.000001</td>\n",
       "      <td>0.0</td>\n",
       "      <td>lh_S_oc_middle&amp;Lunatus_thickness_Z_estimate</td>\n",
       "      <td>5.511169</td>\n",
       "    </tr>\n",
       "    <tr>\n",
       "      <th>70</th>\n",
       "      <td>0.009034</td>\n",
       "      <td>0.00277</td>\n",
       "      <td>rh_S_central_thickness_Z_estimate</td>\n",
       "      <td>3.007954</td>\n",
       "    </tr>\n",
       "    <tr>\n",
       "      <th>71</th>\n",
       "      <td>0.000058</td>\n",
       "      <td>0.000007</td>\n",
       "      <td>lh_G_cuneus_thickness_Z_estimate</td>\n",
       "      <td>4.557839</td>\n",
       "    </tr>\n",
       "    <tr>\n",
       "      <th>74</th>\n",
       "      <td>0.0</td>\n",
       "      <td>0.0</td>\n",
       "      <td>rh_Lat_Fis-post_thickness_Z_estimate</td>\n",
       "      <td>6.33351</td>\n",
       "    </tr>\n",
       "    <tr>\n",
       "      <th>75</th>\n",
       "      <td>0.025563</td>\n",
       "      <td>0.008862</td>\n",
       "      <td>lh_G_temp_sup-Plan_tempo_thickness_Z_estimate</td>\n",
       "      <td>2.628196</td>\n",
       "    </tr>\n",
       "    <tr>\n",
       "      <th>81</th>\n",
       "      <td>0.000679</td>\n",
       "      <td>0.000127</td>\n",
       "      <td>lh_S_parieto_occipital_thickness_Z_estimate</td>\n",
       "      <td>3.862398</td>\n",
       "    </tr>\n",
       "    <tr>\n",
       "      <th>83</th>\n",
       "      <td>0.0</td>\n",
       "      <td>0.0</td>\n",
       "      <td>rh_G_temp_sup-Plan_tempo_thickness_Z_estimate</td>\n",
       "      <td>6.756225</td>\n",
       "    </tr>\n",
       "    <tr>\n",
       "      <th>85</th>\n",
       "      <td>0.026371</td>\n",
       "      <td>0.009318</td>\n",
       "      <td>rh_MeanThickness_thickness_Z_estimate</td>\n",
       "      <td>2.61048</td>\n",
       "    </tr>\n",
       "    <tr>\n",
       "      <th>87</th>\n",
       "      <td>0.010525</td>\n",
       "      <td>0.003298</td>\n",
       "      <td>lh_G_occipital_middle_thickness_Z_estimate</td>\n",
       "      <td>2.953449</td>\n",
       "    </tr>\n",
       "    <tr>\n",
       "      <th>90</th>\n",
       "      <td>0.000544</td>\n",
       "      <td>0.000094</td>\n",
       "      <td>rh_G&amp;S_paracentral_thickness_Z_estimate</td>\n",
       "      <td>3.938706</td>\n",
       "    </tr>\n",
       "    <tr>\n",
       "      <th>93</th>\n",
       "      <td>0.00633</td>\n",
       "      <td>0.001772</td>\n",
       "      <td>rh_S_circular_insula_sup_thickness_Z_estimate</td>\n",
       "      <td>3.143665</td>\n",
       "    </tr>\n",
       "    <tr>\n",
       "      <th>95</th>\n",
       "      <td>0.000958</td>\n",
       "      <td>0.000198</td>\n",
       "      <td>rh_Pole_occipital_thickness_Z_estimate</td>\n",
       "      <td>3.750626</td>\n",
       "    </tr>\n",
       "    <tr>\n",
       "      <th>98</th>\n",
       "      <td>0.006253</td>\n",
       "      <td>0.001709</td>\n",
       "      <td>rh_S_pericallosal_thickness_Z_estimate</td>\n",
       "      <td>-3.154427</td>\n",
       "    </tr>\n",
       "    <tr>\n",
       "      <th>99</th>\n",
       "      <td>0.007095</td>\n",
       "      <td>0.002081</td>\n",
       "      <td>rh_G_pariet_inf-Supramar_thickness_Z_estimate</td>\n",
       "      <td>3.094805</td>\n",
       "    </tr>\n",
       "    <tr>\n",
       "      <th>102</th>\n",
       "      <td>0.00087</td>\n",
       "      <td>0.000168</td>\n",
       "      <td>rh_S_occipital_ant_thickness_Z_estimate</td>\n",
       "      <td>3.793061</td>\n",
       "    </tr>\n",
       "    <tr>\n",
       "      <th>103</th>\n",
       "      <td>0.000069</td>\n",
       "      <td>0.000008</td>\n",
       "      <td>lh_Pole_occipital_thickness_Z_estimate</td>\n",
       "      <td>4.508011</td>\n",
       "    </tr>\n",
       "    <tr>\n",
       "      <th>106</th>\n",
       "      <td>0.000002</td>\n",
       "      <td>0.0</td>\n",
       "      <td>rh_G_cuneus_thickness_Z_estimate</td>\n",
       "      <td>5.432207</td>\n",
       "    </tr>\n",
       "    <tr>\n",
       "      <th>107</th>\n",
       "      <td>0.000001</td>\n",
       "      <td>0.0</td>\n",
       "      <td>rh_S_oc_middle&amp;Lunatus_thickness_Z_estimate</td>\n",
       "      <td>5.532621</td>\n",
       "    </tr>\n",
       "    <tr>\n",
       "      <th>109</th>\n",
       "      <td>0.000046</td>\n",
       "      <td>0.000004</td>\n",
       "      <td>rh_G&amp;S_occipital_inf_thickness_Z_estimate</td>\n",
       "      <td>4.644989</td>\n",
       "    </tr>\n",
       "    <tr>\n",
       "      <th>111</th>\n",
       "      <td>0.004881</td>\n",
       "      <td>0.001302</td>\n",
       "      <td>rh_S_parieto_occipital_thickness_Z_estimate</td>\n",
       "      <td>3.235515</td>\n",
       "    </tr>\n",
       "    <tr>\n",
       "      <th>117</th>\n",
       "      <td>0.000165</td>\n",
       "      <td>0.000024</td>\n",
       "      <td>lh_G_occipital_sup_thickness_Z_estimate</td>\n",
       "      <td>4.268976</td>\n",
       "    </tr>\n",
       "    <tr>\n",
       "      <th>118</th>\n",
       "      <td>0.0</td>\n",
       "      <td>0.0</td>\n",
       "      <td>lh_G_postcentral_thickness_Z_estimate</td>\n",
       "      <td>6.073448</td>\n",
       "    </tr>\n",
       "    <tr>\n",
       "      <th>126</th>\n",
       "      <td>0.004872</td>\n",
       "      <td>0.001267</td>\n",
       "      <td>lh_Lat_Fis-ant-Vertical_thickness_Z_estimate</td>\n",
       "      <td>-3.244594</td>\n",
       "    </tr>\n",
       "    <tr>\n",
       "      <th>134</th>\n",
       "      <td>0.001603</td>\n",
       "      <td>0.000353</td>\n",
       "      <td>lh_G_cingul-Post-dorsal_thickness_Z_estimate</td>\n",
       "      <td>3.597958</td>\n",
       "    </tr>\n",
       "    <tr>\n",
       "      <th>135</th>\n",
       "      <td>0.000511</td>\n",
       "      <td>0.000083</td>\n",
       "      <td>rh_S_intrapariet&amp;P_trans_thickness_Z_estimate</td>\n",
       "      <td>3.969372</td>\n",
       "    </tr>\n",
       "    <tr>\n",
       "      <th>138</th>\n",
       "      <td>0.000511</td>\n",
       "      <td>0.000085</td>\n",
       "      <td>lh_G&amp;S_occipital_inf_thickness_Z_estimate</td>\n",
       "      <td>3.965358</td>\n",
       "    </tr>\n",
       "    <tr>\n",
       "      <th>139</th>\n",
       "      <td>0.010593</td>\n",
       "      <td>0.00339</td>\n",
       "      <td>rh_S_temporal_sup_thickness_Z_estimate</td>\n",
       "      <td>2.944366</td>\n",
       "    </tr>\n",
       "    <tr>\n",
       "      <th>140</th>\n",
       "      <td>0.000165</td>\n",
       "      <td>0.000024</td>\n",
       "      <td>rh_S_oc-temp_lat_thickness_Z_estimate</td>\n",
       "      <td>4.264096</td>\n",
       "    </tr>\n",
       "    <tr>\n",
       "      <th>145</th>\n",
       "      <td>0.001293</td>\n",
       "      <td>0.000276</td>\n",
       "      <td>lh_S_suborbital_thickness_Z_estimate</td>\n",
       "      <td>-3.663065</td>\n",
       "    </tr>\n",
       "    <tr>\n",
       "      <th>147</th>\n",
       "      <td>0.000014</td>\n",
       "      <td>0.000001</td>\n",
       "      <td>rh_G_postcentral_thickness_Z_estimate</td>\n",
       "      <td>4.939532</td>\n",
       "    </tr>\n",
       "    <tr>\n",
       "      <th>148</th>\n",
       "      <td>0.019859</td>\n",
       "      <td>0.00662</td>\n",
       "      <td>rh_G_oc-temp_med-Lingual_thickness_Z_estimate</td>\n",
       "      <td>2.727353</td>\n",
       "    </tr>\n",
       "    <tr>\n",
       "      <th>149</th>\n",
       "      <td>0.03556</td>\n",
       "      <td>0.012802</td>\n",
       "      <td>lh_S_oc_sup&amp;transversal_thickness_Z_estimate</td>\n",
       "      <td>2.497983</td>\n",
       "    </tr>\n",
       "  </tbody>\n",
       "</table>\n",
       "</div>"
      ],
      "text/plain": [
       "     fdr_pval      pval                                            roi  \\\n",
       "2    0.006989  0.002004         rh_G&S_subcentral_thickness_Z_estimate   \n",
       "5    0.042499  0.015866          rh_G_subcallosal_thickness_Z_estimate   \n",
       "6    0.000038  0.000003  rh_S_temporal_transverse_thickness_Z_estimate   \n",
       "13   0.007177  0.002153  lh_G_cingul-Post-ventral_thickness_Z_estimate   \n",
       "17   0.000002       0.0        lh_G&S_paracentral_thickness_Z_estimate   \n",
       "18   0.000002       0.0          rh_S_postcentral_thickness_Z_estimate   \n",
       "21   0.000053  0.000006  rh_G_cingul-Post-ventral_thickness_Z_estimate   \n",
       "23   0.000155   0.00002  rh_G_temp_sup-G_T_transv_thickness_Z_estimate   \n",
       "24   0.000046  0.000005  rh_S_oc-temp_med&Lingual_thickness_Z_estimate   \n",
       "25   0.000001       0.0           lh_Lat_Fis-post_thickness_Z_estimate   \n",
       "26    0.00018  0.000028          lh_S_postcentral_thickness_Z_estimate   \n",
       "28   0.002051  0.000492  lh_G_temp_sup-G_T_transv_thickness_Z_estimate   \n",
       "32   0.000679  0.000125  lh_S_oc-temp_med&Lingual_thickness_Z_estimate   \n",
       "33   0.002051  0.000481   rh_S_interm_prim-Jensen_thickness_Z_estimate   \n",
       "34   0.003236  0.000798         lh_G&S_subcentral_thickness_Z_estimate   \n",
       "40   0.013517  0.004416        lh_S_occipital_ant_thickness_Z_estimate   \n",
       "51   0.020622  0.007012   rh_G_pariet_inf-Angular_thickness_Z_estimate   \n",
       "52   0.000004       0.0            lh_S_calcarine_thickness_Z_estimate   \n",
       "55   0.004811  0.001219     rh_G_occipital_middle_thickness_Z_estimate   \n",
       "57   0.000929  0.000186              rh_G_orbital_thickness_Z_estimate   \n",
       "59   0.000001       0.0            rh_S_calcarine_thickness_Z_estimate   \n",
       "60   0.001685  0.000382        rh_G_occipital_sup_thickness_Z_estimate   \n",
       "63   0.000163  0.000022              lh_S_central_thickness_Z_estimate   \n",
       "66   0.038185  0.014001   lh_Lat_Fis-ant-Horizont_thickness_Z_estimate   \n",
       "69   0.000001       0.0    lh_S_oc_middle&Lunatus_thickness_Z_estimate   \n",
       "70   0.009034   0.00277              rh_S_central_thickness_Z_estimate   \n",
       "71   0.000058  0.000007               lh_G_cuneus_thickness_Z_estimate   \n",
       "74        0.0       0.0           rh_Lat_Fis-post_thickness_Z_estimate   \n",
       "75   0.025563  0.008862  lh_G_temp_sup-Plan_tempo_thickness_Z_estimate   \n",
       "81   0.000679  0.000127    lh_S_parieto_occipital_thickness_Z_estimate   \n",
       "83        0.0       0.0  rh_G_temp_sup-Plan_tempo_thickness_Z_estimate   \n",
       "85   0.026371  0.009318          rh_MeanThickness_thickness_Z_estimate   \n",
       "87   0.010525  0.003298     lh_G_occipital_middle_thickness_Z_estimate   \n",
       "90   0.000544  0.000094        rh_G&S_paracentral_thickness_Z_estimate   \n",
       "93    0.00633  0.001772  rh_S_circular_insula_sup_thickness_Z_estimate   \n",
       "95   0.000958  0.000198         rh_Pole_occipital_thickness_Z_estimate   \n",
       "98   0.006253  0.001709         rh_S_pericallosal_thickness_Z_estimate   \n",
       "99   0.007095  0.002081  rh_G_pariet_inf-Supramar_thickness_Z_estimate   \n",
       "102   0.00087  0.000168        rh_S_occipital_ant_thickness_Z_estimate   \n",
       "103  0.000069  0.000008         lh_Pole_occipital_thickness_Z_estimate   \n",
       "106  0.000002       0.0               rh_G_cuneus_thickness_Z_estimate   \n",
       "107  0.000001       0.0    rh_S_oc_middle&Lunatus_thickness_Z_estimate   \n",
       "109  0.000046  0.000004      rh_G&S_occipital_inf_thickness_Z_estimate   \n",
       "111  0.004881  0.001302    rh_S_parieto_occipital_thickness_Z_estimate   \n",
       "117  0.000165  0.000024        lh_G_occipital_sup_thickness_Z_estimate   \n",
       "118       0.0       0.0          lh_G_postcentral_thickness_Z_estimate   \n",
       "126  0.004872  0.001267   lh_Lat_Fis-ant-Vertical_thickness_Z_estimate   \n",
       "134  0.001603  0.000353   lh_G_cingul-Post-dorsal_thickness_Z_estimate   \n",
       "135  0.000511  0.000083  rh_S_intrapariet&P_trans_thickness_Z_estimate   \n",
       "138  0.000511  0.000085      lh_G&S_occipital_inf_thickness_Z_estimate   \n",
       "139  0.010593   0.00339         rh_S_temporal_sup_thickness_Z_estimate   \n",
       "140  0.000165  0.000024          rh_S_oc-temp_lat_thickness_Z_estimate   \n",
       "145  0.001293  0.000276           lh_S_suborbital_thickness_Z_estimate   \n",
       "147  0.000014  0.000001          rh_G_postcentral_thickness_Z_estimate   \n",
       "148  0.019859   0.00662  rh_G_oc-temp_med-Lingual_thickness_Z_estimate   \n",
       "149   0.03556  0.012802   lh_S_oc_sup&transversal_thickness_Z_estimate   \n",
       "\n",
       "        tstat  \n",
       "2    3.106561  \n",
       "5    2.420921  \n",
       "6    4.713995  \n",
       "13   3.083947  \n",
       "17   5.421771  \n",
       "18   5.353075  \n",
       "21   4.590341  \n",
       "23   4.309971  \n",
       "24   4.635515  \n",
       "25    5.73137  \n",
       "26   4.233556  \n",
       "28    3.50793  \n",
       "32   3.866553  \n",
       "33   3.512124  \n",
       "34   3.375113  \n",
       "40   2.858823  \n",
       "51   2.707501  \n",
       "52   5.190387  \n",
       "55   3.254738  \n",
       "57   3.768884  \n",
       "59   5.764762  \n",
       "60   3.578114  \n",
       "63   4.291222  \n",
       "66   2.465958  \n",
       "69   5.511169  \n",
       "70   3.007954  \n",
       "71   4.557839  \n",
       "74    6.33351  \n",
       "75   2.628196  \n",
       "81   3.862398  \n",
       "83   6.756225  \n",
       "85    2.61048  \n",
       "87   2.953449  \n",
       "90   3.938706  \n",
       "93   3.143665  \n",
       "95   3.750626  \n",
       "98  -3.154427  \n",
       "99   3.094805  \n",
       "102  3.793061  \n",
       "103  4.508011  \n",
       "106  5.432207  \n",
       "107  5.532621  \n",
       "109  4.644989  \n",
       "111  3.235515  \n",
       "117  4.268976  \n",
       "118  6.073448  \n",
       "126 -3.244594  \n",
       "134  3.597958  \n",
       "135  3.969372  \n",
       "138  3.965358  \n",
       "139  2.944366  \n",
       "140  4.264096  \n",
       "145 -3.663065  \n",
       "147  4.939532  \n",
       "148  2.727353  \n",
       "149  2.497983  "
      ]
     },
     "execution_count": 93,
     "metadata": {},
     "output_type": "execute_result"
    }
   ],
   "source": [
    "w_b_z_sig_diff"
   ]
  },
  {
   "cell_type": "code",
   "execution_count": 94,
   "id": "f957bf2a-dd35-42e7-a65f-2c50767fed70",
   "metadata": {
    "colab": {
     "base_uri": "https://localhost:8080/"
    },
    "id": "170sEtkynMUE",
    "outputId": "7b601d8d-c73e-44ba-a523-4eddb6dea46b"
   },
   "outputs": [
    {
     "data": {
      "text/plain": [
       "(56, 4)"
      ]
     },
     "execution_count": 94,
     "metadata": {},
     "output_type": "execute_result"
    }
   ],
   "source": [
    "w_b_z_sig_diff.shape"
   ]
  },
  {
   "cell_type": "code",
   "execution_count": 95,
   "id": "86bf2486-8c71-4144-ab9f-ea5112f3f182",
   "metadata": {
    "tags": []
   },
   "outputs": [
    {
     "name": "stderr",
     "output_type": "stream",
     "text": [
      "/var/folders/xx/1xs7sc795_nf7k125153b6qh0000gn/T/ipykernel_6609/785070083.py:1: SettingWithCopyWarning: \n",
      "A value is trying to be set on a copy of a slice from a DataFrame.\n",
      "Try using .loc[row_indexer,col_indexer] = value instead\n",
      "\n",
      "See the caveats in the documentation: https://pandas.pydata.org/pandas-docs/stable/user_guide/indexing.html#returning-a-view-versus-a-copy\n",
      "  w_b_z_sig_diff['roi'] = w_b_z_sig_diff['roi'].str.replace('_thickness_Z_estimate', '', regex=True)\n",
      "/var/folders/xx/1xs7sc795_nf7k125153b6qh0000gn/T/ipykernel_6609/785070083.py:2: SettingWithCopyWarning: \n",
      "A value is trying to be set on a copy of a slice from a DataFrame.\n",
      "Try using .loc[row_indexer,col_indexer] = value instead\n",
      "\n",
      "See the caveats in the documentation: https://pandas.pydata.org/pandas-docs/stable/user_guide/indexing.html#returning-a-view-versus-a-copy\n",
      "  w_b_z_sig_diff['roi'] = w_b_z_sig_diff['roi'].str.replace('G&S', 'G_and_S', regex=True)\n"
     ]
    }
   ],
   "source": [
    "w_b_z_sig_diff['roi'] = w_b_z_sig_diff['roi'].str.replace('_thickness_Z_estimate', '', regex=True)\n",
    "w_b_z_sig_diff['roi'] = w_b_z_sig_diff['roi'].str.replace('G&S', 'G_and_S', regex=True)"
   ]
  },
  {
   "cell_type": "code",
   "execution_count": 96,
   "id": "93281feb-ae04-4d5d-acd2-6f030c818171",
   "metadata": {
    "tags": []
   },
   "outputs": [
    {
     "name": "stderr",
     "output_type": "stream",
     "text": [
      "/opt/anaconda3/envs/braincharts/lib/python3.9/site-packages/pandas/core/frame.py:3641: SettingWithCopyWarning: \n",
      "A value is trying to be set on a copy of a slice from a DataFrame.\n",
      "Try using .loc[row_indexer,col_indexer] = value instead\n",
      "\n",
      "See the caveats in the documentation: https://pandas.pydata.org/pandas-docs/stable/user_guide/indexing.html#returning-a-view-versus-a-copy\n",
      "  self[k1] = value[k2]\n"
     ]
    }
   ],
   "source": [
    "w_b_z_sig_diff[['temp1', 'temp2']] = w_b_z_sig_diff['roi'].str.split(pat=\"_\", n=1, expand=True)"
   ]
  },
  {
   "cell_type": "code",
   "execution_count": 97,
   "id": "60615020-c204-490a-9144-21838cbb2afa",
   "metadata": {
    "tags": []
   },
   "outputs": [
    {
     "name": "stderr",
     "output_type": "stream",
     "text": [
      "/opt/anaconda3/envs/braincharts/lib/python3.9/site-packages/pandas/core/generic.py:5516: SettingWithCopyWarning: \n",
      "A value is trying to be set on a copy of a slice from a DataFrame.\n",
      "Try using .loc[row_indexer,col_indexer] = value instead\n",
      "\n",
      "See the caveats in the documentation: https://pandas.pydata.org/pandas-docs/stable/user_guide/indexing.html#returning-a-view-versus-a-copy\n",
      "  self[name] = value\n"
     ]
    }
   ],
   "source": [
    "w_b_z_sig_diff.temp1 = w_b_z_sig_diff.temp1.apply(lambda x: 'left' if 'lh' in x else x)"
   ]
  },
  {
   "cell_type": "code",
   "execution_count": 98,
   "id": "fced6a21-4f59-43e7-9d5e-6ae1bc1516a7",
   "metadata": {},
   "outputs": [],
   "source": [
    "w_b_z_sig_diff.temp1 = w_b_z_sig_diff.temp1.apply(lambda x: 'right' if 'rh' in x else x)"
   ]
  },
  {
   "cell_type": "code",
   "execution_count": 99,
   "id": "1b1def8f-b104-4226-a1e1-b8ff48d72dcf",
   "metadata": {},
   "outputs": [],
   "source": [
    "df = w_b_z_sig_diff[w_b_z_sig_diff[\"temp1\"].str.contains('left|right')]"
   ]
  },
  {
   "cell_type": "code",
   "execution_count": 100,
   "id": "b77ab3e7-9ecf-4297-9cc1-03e5f963641b",
   "metadata": {},
   "outputs": [],
   "source": [
    "df['hemi'] = df['temp1']"
   ]
  },
  {
   "cell_type": "code",
   "execution_count": 101,
   "id": "7fd80243-df7a-4b03-8bbd-5b44ab121b70",
   "metadata": {},
   "outputs": [],
   "source": [
    "df['ROI'] = df['temp2']"
   ]
  },
  {
   "cell_type": "code",
   "execution_count": 102,
   "id": "c62efc53-fd42-42ae-a1ca-0c841740dadd",
   "metadata": {},
   "outputs": [
    {
     "data": {
      "text/plain": [
       "Index(['fdr_pval', 'pval', 'roi', 'tstat', 'temp1', 'temp2', 'hemi', 'ROI'], dtype='object')"
      ]
     },
     "execution_count": 102,
     "metadata": {},
     "output_type": "execute_result"
    }
   ],
   "source": [
    "df.columns"
   ]
  },
  {
   "cell_type": "code",
   "execution_count": 103,
   "id": "9efee4ee-4c24-4b4d-b49f-b92253c9f766",
   "metadata": {},
   "outputs": [],
   "source": [
    "df = df[['tstat', 'fdr_pval', 'hemi', 'ROI']]"
   ]
  },
  {
   "cell_type": "code",
   "execution_count": 104,
   "id": "982993a2-b50d-4735-9798-f1501e5d9d2b",
   "metadata": {},
   "outputs": [],
   "source": [
    "w_b_z_sig_diff = df"
   ]
  },
  {
   "cell_type": "code",
   "execution_count": 105,
   "id": "1d462a19-e5f1-4819-91b4-6e844f122ea2",
   "metadata": {
    "tags": []
   },
   "outputs": [],
   "source": [
    "w_b_z_sig_diff_l = w_b_z_sig_diff.query('hemi == \"left\"')\n",
    "w_b_z_sig_diff_r = w_b_z_sig_diff.query('hemi == \"right\"')"
   ]
  },
  {
   "cell_type": "code",
   "execution_count": 106,
   "id": "30e34c1f-f0c7-4ca8-9cfb-fc31fc6d887a",
   "metadata": {},
   "outputs": [],
   "source": [
    "nl_w_b_z_sig_diff_l = pd.merge(nl, w_b_z_sig_diff_l, on='ROI', how='left')\n",
    "nl_w_b_z_sig_diff_r = pd.merge(nl, w_b_z_sig_diff_r, on='ROI', how='left')"
   ]
  },
  {
   "cell_type": "code",
   "execution_count": 107,
   "id": "581d5842-e8d4-4e20-980c-968c9f0f9a96",
   "metadata": {
    "tags": []
   },
   "outputs": [],
   "source": [
    "nl_w_b_z_sig_diff_l['tstat'] = nl_w_b_z_sig_diff_l['tstat'].fillna(0)\n",
    "nl_w_b_z_sig_diff_r['tstat'] = nl_w_b_z_sig_diff_r['tstat'].fillna(0)"
   ]
  },
  {
   "cell_type": "code",
   "execution_count": 108,
   "id": "65b3166d-5915-4cb8-bb01-4df5ddffeb53",
   "metadata": {
    "tags": []
   },
   "outputs": [],
   "source": [
    "nl_w_b_z_sig_diff_l = nl_w_b_z_sig_diff_l['tstat'].to_numpy()\n",
    "nl_w_b_z_sig_diff_r = nl_w_b_z_sig_diff_r['tstat'].to_numpy()"
   ]
  },
  {
   "cell_type": "code",
   "execution_count": 109,
   "id": "a59aaf95-2895-474d-b716-c423166796d6",
   "metadata": {},
   "outputs": [],
   "source": [
    "a_list = list(range(1, 76))\n",
    "parcellation_l = atlas_l\n",
    "for i, j in enumerate(a_list):\n",
    "    parcellation_l = np.where(parcellation_l == j, nl_w_b_z_sig_diff_l[i], parcellation_l)"
   ]
  },
  {
   "cell_type": "code",
   "execution_count": 110,
   "id": "214e8f53-1ef7-42fe-9283-88ac7b385926",
   "metadata": {},
   "outputs": [],
   "source": [
    "a_list = list(range(1, 76))\n",
    "parcellation_r = atlas_r\n",
    "for i, j in enumerate(a_list):\n",
    "    parcellation_r = np.where(parcellation_r == j, nl_w_b_z_sig_diff_r[i], parcellation_r)"
   ]
  },
  {
   "cell_type": "code",
   "execution_count": 112,
   "id": "ec5d9171-a88b-4f4a-a64d-c84d8e8f4172",
   "metadata": {},
   "outputs": [],
   "source": [
    "# Positive value == whites have higher error\n",
    "# Negative value == blacks have higher error\n",
    "plotting.plot_surf_roi(fsaverage['infl_left'], roi_map=parcellation_l, hemi='left', cmap='plasma', bg_map=fsaverage['sulc_left'], vmin=-4, vmax=8, view='lateral', output_file='/Users/saigerutherford/Desktop/ukb_racenotmodeled_WvB_Z_l.png');"
   ]
  },
  {
   "cell_type": "code",
   "execution_count": 113,
   "id": "a85eb22d-5d96-48b4-9357-6be3dbc77412",
   "metadata": {},
   "outputs": [],
   "source": [
    "plotting.plot_surf_roi(fsaverage['infl_right'], roi_map=parcellation_r, hemi='right', cmap='plasma', bg_map=fsaverage['sulc_right'], vmin=-4, vmax=8, view='lateral', output_file='/Users/saigerutherford/Desktop/ukb_racenotmodeled_WvB_Z_r.png');"
   ]
  },
  {
   "cell_type": "code",
   "execution_count": 114,
   "id": "57053d23-0329-4a3f-9660-0c6b8df4c480",
   "metadata": {
    "id": "VdQgUo29nMUD"
   },
   "outputs": [],
   "source": [
    "w_a_pvals_z = pd.DataFrame(columns={'roi','pval', 'tstat','fdr_pval'})\n",
    "for index, column in enumerate(z_cols):\n",
    "    test = ttest_ind(w_deviations[column], a_deviations[column], equal_var=False)\n",
    "    w_a_pvals_z.loc[index, 'pval'] = test.pvalue\n",
    "    w_a_pvals_z.loc[index, 'tstat'] = test.statistic\n",
    "    w_a_pvals_z.loc[index, 'roi'] = column"
   ]
  },
  {
   "cell_type": "code",
   "execution_count": 115,
   "id": "3522873a-4e17-4ad5-b6dc-38a94232c557",
   "metadata": {
    "id": "n8JfELPdnMUE"
   },
   "outputs": [],
   "source": [
    "w_a_fdr_z = multitest.fdrcorrection(w_a_pvals_z['pval'], alpha=0.05, method='indep', is_sorted=False)"
   ]
  },
  {
   "cell_type": "code",
   "execution_count": 116,
   "id": "a57f1a8c-6d65-4559-a5ac-de56be111972",
   "metadata": {
    "id": "K5panqSGnMUE"
   },
   "outputs": [],
   "source": [
    "w_a_pvals_z['fdr_pval'] = w_a_fdr_z[1]"
   ]
  },
  {
   "cell_type": "code",
   "execution_count": 117,
   "id": "d835e50a-eca8-479d-9544-46a8985e1665",
   "metadata": {
    "id": "cjZ8HZMYnMUE"
   },
   "outputs": [],
   "source": [
    "w_a_z_sig_diff = w_a_pvals_z.query('fdr_pval < 0.05')"
   ]
  },
  {
   "cell_type": "code",
   "execution_count": 118,
   "id": "d061aadb-7e3e-46fc-a753-5ab050b89377",
   "metadata": {
    "colab": {
     "base_uri": "https://localhost:8080/",
     "height": 423
    },
    "id": "F01JkqAwnMUE",
    "outputId": "a117d7cf-dd4f-423a-e23b-66fd060deadd",
    "tags": []
   },
   "outputs": [
    {
     "data": {
      "text/html": [
       "<div>\n",
       "<style scoped>\n",
       "    .dataframe tbody tr th:only-of-type {\n",
       "        vertical-align: middle;\n",
       "    }\n",
       "\n",
       "    .dataframe tbody tr th {\n",
       "        vertical-align: top;\n",
       "    }\n",
       "\n",
       "    .dataframe thead th {\n",
       "        text-align: right;\n",
       "    }\n",
       "</style>\n",
       "<table border=\"1\" class=\"dataframe\">\n",
       "  <thead>\n",
       "    <tr style=\"text-align: right;\">\n",
       "      <th></th>\n",
       "      <th>fdr_pval</th>\n",
       "      <th>pval</th>\n",
       "      <th>roi</th>\n",
       "      <th>tstat</th>\n",
       "    </tr>\n",
       "  </thead>\n",
       "  <tbody>\n",
       "    <tr>\n",
       "      <th>2</th>\n",
       "      <td>0.015594</td>\n",
       "      <td>0.002391</td>\n",
       "      <td>rh_G&amp;S_subcentral_thickness_Z_estimate</td>\n",
       "      <td>3.053077</td>\n",
       "    </tr>\n",
       "    <tr>\n",
       "      <th>4</th>\n",
       "      <td>0.016156</td>\n",
       "      <td>0.002585</td>\n",
       "      <td>lh_S_temporal_transverse_thickness_Z_estimate</td>\n",
       "      <td>3.029842</td>\n",
       "    </tr>\n",
       "    <tr>\n",
       "      <th>7</th>\n",
       "      <td>0.012615</td>\n",
       "      <td>0.001766</td>\n",
       "      <td>rh_G_temp_sup-Lateral_thickness_Z_estimate</td>\n",
       "      <td>3.1459</td>\n",
       "    </tr>\n",
       "    <tr>\n",
       "      <th>12</th>\n",
       "      <td>0.001274</td>\n",
       "      <td>0.00009</td>\n",
       "      <td>rh_S_circular_insula_inf_thickness_Z_estimate</td>\n",
       "      <td>3.952027</td>\n",
       "    </tr>\n",
       "    <tr>\n",
       "      <th>18</th>\n",
       "      <td>0.000131</td>\n",
       "      <td>0.000003</td>\n",
       "      <td>rh_S_postcentral_thickness_Z_estimate</td>\n",
       "      <td>4.695628</td>\n",
       "    </tr>\n",
       "    <tr>\n",
       "      <th>19</th>\n",
       "      <td>0.020538</td>\n",
       "      <td>0.003423</td>\n",
       "      <td>lh_S_circular_insula_inf_thickness_Z_estimate</td>\n",
       "      <td>2.941658</td>\n",
       "    </tr>\n",
       "    <tr>\n",
       "      <th>23</th>\n",
       "      <td>0.001341</td>\n",
       "      <td>0.000134</td>\n",
       "      <td>rh_G_temp_sup-G_T_transv_thickness_Z_estimate</td>\n",
       "      <td>3.851824</td>\n",
       "    </tr>\n",
       "    <tr>\n",
       "      <th>25</th>\n",
       "      <td>0.00112</td>\n",
       "      <td>0.000067</td>\n",
       "      <td>lh_Lat_Fis-post_thickness_Z_estimate</td>\n",
       "      <td>4.021235</td>\n",
       "    </tr>\n",
       "    <tr>\n",
       "      <th>26</th>\n",
       "      <td>0.000497</td>\n",
       "      <td>0.00002</td>\n",
       "      <td>lh_S_postcentral_thickness_Z_estimate</td>\n",
       "      <td>4.312999</td>\n",
       "    </tr>\n",
       "    <tr>\n",
       "      <th>28</th>\n",
       "      <td>0.000055</td>\n",
       "      <td>0.000001</td>\n",
       "      <td>lh_G_temp_sup-G_T_transv_thickness_Z_estimate</td>\n",
       "      <td>5.05098</td>\n",
       "    </tr>\n",
       "    <tr>\n",
       "      <th>34</th>\n",
       "      <td>0.046875</td>\n",
       "      <td>0.011487</td>\n",
       "      <td>lh_G&amp;S_subcentral_thickness_Z_estimate</td>\n",
       "      <td>2.537096</td>\n",
       "    </tr>\n",
       "    <tr>\n",
       "      <th>35</th>\n",
       "      <td>0.001341</td>\n",
       "      <td>0.00013</td>\n",
       "      <td>rh_S_oc_sup&amp;transversal_thickness_Z_estimate</td>\n",
       "      <td>3.8603</td>\n",
       "    </tr>\n",
       "    <tr>\n",
       "      <th>42</th>\n",
       "      <td>0.015594</td>\n",
       "      <td>0.002337</td>\n",
       "      <td>lh_G_front_sup_thickness_Z_estimate</td>\n",
       "      <td>-3.062391</td>\n",
       "    </tr>\n",
       "    <tr>\n",
       "      <th>48</th>\n",
       "      <td>0.001299</td>\n",
       "      <td>0.000104</td>\n",
       "      <td>lh_S_collat_transv_ant_thickness_Z_estimate</td>\n",
       "      <td>-3.916194</td>\n",
       "    </tr>\n",
       "    <tr>\n",
       "      <th>49</th>\n",
       "      <td>0.025211</td>\n",
       "      <td>0.004874</td>\n",
       "      <td>rh_G_front_sup_thickness_Z_estimate</td>\n",
       "      <td>-2.829734</td>\n",
       "    </tr>\n",
       "    <tr>\n",
       "      <th>52</th>\n",
       "      <td>0.000055</td>\n",
       "      <td>0.000001</td>\n",
       "      <td>lh_S_calcarine_thickness_Z_estimate</td>\n",
       "      <td>5.022775</td>\n",
       "    </tr>\n",
       "    <tr>\n",
       "      <th>59</th>\n",
       "      <td>0.001859</td>\n",
       "      <td>0.000211</td>\n",
       "      <td>rh_S_calcarine_thickness_Z_estimate</td>\n",
       "      <td>3.736501</td>\n",
       "    </tr>\n",
       "    <tr>\n",
       "      <th>63</th>\n",
       "      <td>0.045545</td>\n",
       "      <td>0.010337</td>\n",
       "      <td>lh_S_central_thickness_Z_estimate</td>\n",
       "      <td>2.575256</td>\n",
       "    </tr>\n",
       "    <tr>\n",
       "      <th>68</th>\n",
       "      <td>0.028863</td>\n",
       "      <td>0.005773</td>\n",
       "      <td>lh_G_orbital_thickness_Z_estimate</td>\n",
       "      <td>2.772643</td>\n",
       "    </tr>\n",
       "    <tr>\n",
       "      <th>71</th>\n",
       "      <td>0.000852</td>\n",
       "      <td>0.000045</td>\n",
       "      <td>lh_G_cuneus_thickness_Z_estimate</td>\n",
       "      <td>4.115488</td>\n",
       "    </tr>\n",
       "    <tr>\n",
       "      <th>74</th>\n",
       "      <td>0.000206</td>\n",
       "      <td>0.000007</td>\n",
       "      <td>rh_Lat_Fis-post_thickness_Z_estimate</td>\n",
       "      <td>4.551604</td>\n",
       "    </tr>\n",
       "    <tr>\n",
       "      <th>75</th>\n",
       "      <td>0.001341</td>\n",
       "      <td>0.000125</td>\n",
       "      <td>lh_G_temp_sup-Plan_tempo_thickness_Z_estimate</td>\n",
       "      <td>3.871965</td>\n",
       "    </tr>\n",
       "    <tr>\n",
       "      <th>83</th>\n",
       "      <td>0.000129</td>\n",
       "      <td>0.000003</td>\n",
       "      <td>rh_G_temp_sup-Plan_tempo_thickness_Z_estimate</td>\n",
       "      <td>4.765801</td>\n",
       "    </tr>\n",
       "    <tr>\n",
       "      <th>96</th>\n",
       "      <td>0.024159</td>\n",
       "      <td>0.00451</td>\n",
       "      <td>lh_G_pariet_inf-Supramar_thickness_Z_estimate</td>\n",
       "      <td>2.854726</td>\n",
       "    </tr>\n",
       "    <tr>\n",
       "      <th>99</th>\n",
       "      <td>0.022005</td>\n",
       "      <td>0.003951</td>\n",
       "      <td>rh_G_pariet_inf-Supramar_thickness_Z_estimate</td>\n",
       "      <td>2.896955</td>\n",
       "    </tr>\n",
       "    <tr>\n",
       "      <th>102</th>\n",
       "      <td>0.029063</td>\n",
       "      <td>0.0062</td>\n",
       "      <td>rh_S_occipital_ant_thickness_Z_estimate</td>\n",
       "      <td>2.749663</td>\n",
       "    </tr>\n",
       "    <tr>\n",
       "      <th>103</th>\n",
       "      <td>0.022005</td>\n",
       "      <td>0.003961</td>\n",
       "      <td>lh_Pole_occipital_thickness_Z_estimate</td>\n",
       "      <td>2.894047</td>\n",
       "    </tr>\n",
       "    <tr>\n",
       "      <th>108</th>\n",
       "      <td>0.045545</td>\n",
       "      <td>0.010627</td>\n",
       "      <td>lh_G&amp;S_cingul-Mid-Ant_thickness_Z_estimate</td>\n",
       "      <td>-2.565411</td>\n",
       "    </tr>\n",
       "    <tr>\n",
       "      <th>111</th>\n",
       "      <td>0.029063</td>\n",
       "      <td>0.006015</td>\n",
       "      <td>rh_S_parieto_occipital_thickness_Z_estimate</td>\n",
       "      <td>2.760403</td>\n",
       "    </tr>\n",
       "    <tr>\n",
       "      <th>113</th>\n",
       "      <td>0.043646</td>\n",
       "      <td>0.009602</td>\n",
       "      <td>rh_G_precuneus_thickness_Z_estimate</td>\n",
       "      <td>2.601452</td>\n",
       "    </tr>\n",
       "    <tr>\n",
       "      <th>117</th>\n",
       "      <td>0.001859</td>\n",
       "      <td>0.000202</td>\n",
       "      <td>lh_G_occipital_sup_thickness_Z_estimate</td>\n",
       "      <td>3.745391</td>\n",
       "    </tr>\n",
       "    <tr>\n",
       "      <th>118</th>\n",
       "      <td>0.000845</td>\n",
       "      <td>0.000039</td>\n",
       "      <td>lh_G_postcentral_thickness_Z_estimate</td>\n",
       "      <td>4.155229</td>\n",
       "    </tr>\n",
       "    <tr>\n",
       "      <th>126</th>\n",
       "      <td>0.006695</td>\n",
       "      <td>0.000893</td>\n",
       "      <td>lh_Lat_Fis-ant-Vertical_thickness_Z_estimate</td>\n",
       "      <td>3.346247</td>\n",
       "    </tr>\n",
       "    <tr>\n",
       "      <th>133</th>\n",
       "      <td>0.046875</td>\n",
       "      <td>0.011562</td>\n",
       "      <td>lh_S_intrapariet&amp;P_trans_thickness_Z_estimate</td>\n",
       "      <td>2.536116</td>\n",
       "    </tr>\n",
       "    <tr>\n",
       "      <th>135</th>\n",
       "      <td>0.002117</td>\n",
       "      <td>0.000254</td>\n",
       "      <td>rh_S_intrapariet&amp;P_trans_thickness_Z_estimate</td>\n",
       "      <td>3.688132</td>\n",
       "    </tr>\n",
       "    <tr>\n",
       "      <th>147</th>\n",
       "      <td>0.001274</td>\n",
       "      <td>0.000093</td>\n",
       "      <td>rh_G_postcentral_thickness_Z_estimate</td>\n",
       "      <td>3.941024</td>\n",
       "    </tr>\n",
       "    <tr>\n",
       "      <th>149</th>\n",
       "      <td>0.005537</td>\n",
       "      <td>0.000701</td>\n",
       "      <td>lh_S_oc_sup&amp;transversal_thickness_Z_estimate</td>\n",
       "      <td>3.412349</td>\n",
       "    </tr>\n",
       "  </tbody>\n",
       "</table>\n",
       "</div>"
      ],
      "text/plain": [
       "     fdr_pval      pval                                            roi  \\\n",
       "2    0.015594  0.002391         rh_G&S_subcentral_thickness_Z_estimate   \n",
       "4    0.016156  0.002585  lh_S_temporal_transverse_thickness_Z_estimate   \n",
       "7    0.012615  0.001766     rh_G_temp_sup-Lateral_thickness_Z_estimate   \n",
       "12   0.001274   0.00009  rh_S_circular_insula_inf_thickness_Z_estimate   \n",
       "18   0.000131  0.000003          rh_S_postcentral_thickness_Z_estimate   \n",
       "19   0.020538  0.003423  lh_S_circular_insula_inf_thickness_Z_estimate   \n",
       "23   0.001341  0.000134  rh_G_temp_sup-G_T_transv_thickness_Z_estimate   \n",
       "25    0.00112  0.000067           lh_Lat_Fis-post_thickness_Z_estimate   \n",
       "26   0.000497   0.00002          lh_S_postcentral_thickness_Z_estimate   \n",
       "28   0.000055  0.000001  lh_G_temp_sup-G_T_transv_thickness_Z_estimate   \n",
       "34   0.046875  0.011487         lh_G&S_subcentral_thickness_Z_estimate   \n",
       "35   0.001341   0.00013   rh_S_oc_sup&transversal_thickness_Z_estimate   \n",
       "42   0.015594  0.002337            lh_G_front_sup_thickness_Z_estimate   \n",
       "48   0.001299  0.000104    lh_S_collat_transv_ant_thickness_Z_estimate   \n",
       "49   0.025211  0.004874            rh_G_front_sup_thickness_Z_estimate   \n",
       "52   0.000055  0.000001            lh_S_calcarine_thickness_Z_estimate   \n",
       "59   0.001859  0.000211            rh_S_calcarine_thickness_Z_estimate   \n",
       "63   0.045545  0.010337              lh_S_central_thickness_Z_estimate   \n",
       "68   0.028863  0.005773              lh_G_orbital_thickness_Z_estimate   \n",
       "71   0.000852  0.000045               lh_G_cuneus_thickness_Z_estimate   \n",
       "74   0.000206  0.000007           rh_Lat_Fis-post_thickness_Z_estimate   \n",
       "75   0.001341  0.000125  lh_G_temp_sup-Plan_tempo_thickness_Z_estimate   \n",
       "83   0.000129  0.000003  rh_G_temp_sup-Plan_tempo_thickness_Z_estimate   \n",
       "96   0.024159   0.00451  lh_G_pariet_inf-Supramar_thickness_Z_estimate   \n",
       "99   0.022005  0.003951  rh_G_pariet_inf-Supramar_thickness_Z_estimate   \n",
       "102  0.029063    0.0062        rh_S_occipital_ant_thickness_Z_estimate   \n",
       "103  0.022005  0.003961         lh_Pole_occipital_thickness_Z_estimate   \n",
       "108  0.045545  0.010627     lh_G&S_cingul-Mid-Ant_thickness_Z_estimate   \n",
       "111  0.029063  0.006015    rh_S_parieto_occipital_thickness_Z_estimate   \n",
       "113  0.043646  0.009602            rh_G_precuneus_thickness_Z_estimate   \n",
       "117  0.001859  0.000202        lh_G_occipital_sup_thickness_Z_estimate   \n",
       "118  0.000845  0.000039          lh_G_postcentral_thickness_Z_estimate   \n",
       "126  0.006695  0.000893   lh_Lat_Fis-ant-Vertical_thickness_Z_estimate   \n",
       "133  0.046875  0.011562  lh_S_intrapariet&P_trans_thickness_Z_estimate   \n",
       "135  0.002117  0.000254  rh_S_intrapariet&P_trans_thickness_Z_estimate   \n",
       "147  0.001274  0.000093          rh_G_postcentral_thickness_Z_estimate   \n",
       "149  0.005537  0.000701   lh_S_oc_sup&transversal_thickness_Z_estimate   \n",
       "\n",
       "        tstat  \n",
       "2    3.053077  \n",
       "4    3.029842  \n",
       "7      3.1459  \n",
       "12   3.952027  \n",
       "18   4.695628  \n",
       "19   2.941658  \n",
       "23   3.851824  \n",
       "25   4.021235  \n",
       "26   4.312999  \n",
       "28    5.05098  \n",
       "34   2.537096  \n",
       "35     3.8603  \n",
       "42  -3.062391  \n",
       "48  -3.916194  \n",
       "49  -2.829734  \n",
       "52   5.022775  \n",
       "59   3.736501  \n",
       "63   2.575256  \n",
       "68   2.772643  \n",
       "71   4.115488  \n",
       "74   4.551604  \n",
       "75   3.871965  \n",
       "83   4.765801  \n",
       "96   2.854726  \n",
       "99   2.896955  \n",
       "102  2.749663  \n",
       "103  2.894047  \n",
       "108 -2.565411  \n",
       "111  2.760403  \n",
       "113  2.601452  \n",
       "117  3.745391  \n",
       "118  4.155229  \n",
       "126  3.346247  \n",
       "133  2.536116  \n",
       "135  3.688132  \n",
       "147  3.941024  \n",
       "149  3.412349  "
      ]
     },
     "execution_count": 118,
     "metadata": {},
     "output_type": "execute_result"
    }
   ],
   "source": [
    "w_a_z_sig_diff"
   ]
  },
  {
   "cell_type": "code",
   "execution_count": 119,
   "id": "403a0381-d498-4140-86e7-9e77e4741f1f",
   "metadata": {
    "colab": {
     "base_uri": "https://localhost:8080/"
    },
    "id": "170sEtkynMUE",
    "outputId": "7b601d8d-c73e-44ba-a523-4eddb6dea46b"
   },
   "outputs": [
    {
     "data": {
      "text/plain": [
       "(37, 4)"
      ]
     },
     "execution_count": 119,
     "metadata": {},
     "output_type": "execute_result"
    }
   ],
   "source": [
    "w_a_z_sig_diff.shape"
   ]
  },
  {
   "cell_type": "code",
   "execution_count": 120,
   "id": "4ddbd1cf-ac95-492d-ba4c-3ce9e4053b56",
   "metadata": {
    "tags": []
   },
   "outputs": [
    {
     "name": "stderr",
     "output_type": "stream",
     "text": [
      "/var/folders/xx/1xs7sc795_nf7k125153b6qh0000gn/T/ipykernel_6609/703599908.py:1: SettingWithCopyWarning: \n",
      "A value is trying to be set on a copy of a slice from a DataFrame.\n",
      "Try using .loc[row_indexer,col_indexer] = value instead\n",
      "\n",
      "See the caveats in the documentation: https://pandas.pydata.org/pandas-docs/stable/user_guide/indexing.html#returning-a-view-versus-a-copy\n",
      "  w_a_z_sig_diff['roi'] = w_a_z_sig_diff['roi'].str.replace('_thickness_Z_estimate', '', regex=True)\n",
      "/var/folders/xx/1xs7sc795_nf7k125153b6qh0000gn/T/ipykernel_6609/703599908.py:2: SettingWithCopyWarning: \n",
      "A value is trying to be set on a copy of a slice from a DataFrame.\n",
      "Try using .loc[row_indexer,col_indexer] = value instead\n",
      "\n",
      "See the caveats in the documentation: https://pandas.pydata.org/pandas-docs/stable/user_guide/indexing.html#returning-a-view-versus-a-copy\n",
      "  w_a_z_sig_diff['roi'] = w_a_z_sig_diff['roi'].str.replace('G&S', 'G_and_S', regex=True)\n"
     ]
    }
   ],
   "source": [
    "w_a_z_sig_diff['roi'] = w_a_z_sig_diff['roi'].str.replace('_thickness_Z_estimate', '', regex=True)\n",
    "w_a_z_sig_diff['roi'] = w_a_z_sig_diff['roi'].str.replace('G&S', 'G_and_S', regex=True)"
   ]
  },
  {
   "cell_type": "code",
   "execution_count": 121,
   "id": "b6a2e9d9-04f1-4fa6-a7d2-97b3cab53302",
   "metadata": {
    "tags": []
   },
   "outputs": [
    {
     "name": "stderr",
     "output_type": "stream",
     "text": [
      "/opt/anaconda3/envs/braincharts/lib/python3.9/site-packages/pandas/core/frame.py:3641: SettingWithCopyWarning: \n",
      "A value is trying to be set on a copy of a slice from a DataFrame.\n",
      "Try using .loc[row_indexer,col_indexer] = value instead\n",
      "\n",
      "See the caveats in the documentation: https://pandas.pydata.org/pandas-docs/stable/user_guide/indexing.html#returning-a-view-versus-a-copy\n",
      "  self[k1] = value[k2]\n"
     ]
    }
   ],
   "source": [
    "w_a_z_sig_diff[['temp1', 'temp2']] = w_a_z_sig_diff['roi'].str.split(pat=\"_\", n=1, expand=True)"
   ]
  },
  {
   "cell_type": "code",
   "execution_count": 122,
   "id": "57252d35-b435-4e63-a729-5872663cc021",
   "metadata": {
    "tags": []
   },
   "outputs": [
    {
     "name": "stderr",
     "output_type": "stream",
     "text": [
      "/opt/anaconda3/envs/braincharts/lib/python3.9/site-packages/pandas/core/generic.py:5516: SettingWithCopyWarning: \n",
      "A value is trying to be set on a copy of a slice from a DataFrame.\n",
      "Try using .loc[row_indexer,col_indexer] = value instead\n",
      "\n",
      "See the caveats in the documentation: https://pandas.pydata.org/pandas-docs/stable/user_guide/indexing.html#returning-a-view-versus-a-copy\n",
      "  self[name] = value\n"
     ]
    }
   ],
   "source": [
    "w_a_z_sig_diff.temp1 = w_a_z_sig_diff.temp1.apply(lambda x: 'left' if 'lh' in x else x)"
   ]
  },
  {
   "cell_type": "code",
   "execution_count": 123,
   "id": "911cd0ec-9a68-4f8d-a8cd-b5459b304aca",
   "metadata": {},
   "outputs": [],
   "source": [
    "w_a_z_sig_diff.temp1 = w_a_z_sig_diff.temp1.apply(lambda x: 'right' if 'rh' in x else x)"
   ]
  },
  {
   "cell_type": "code",
   "execution_count": 124,
   "id": "58d89be1-5291-4993-814a-0427703aeb21",
   "metadata": {},
   "outputs": [],
   "source": [
    "df = w_a_z_sig_diff[w_a_z_sig_diff[\"temp1\"].str.contains('left|right')]"
   ]
  },
  {
   "cell_type": "code",
   "execution_count": 125,
   "id": "c2d18b0b-9d2e-40fd-b37b-da07975c51dd",
   "metadata": {},
   "outputs": [],
   "source": [
    "df['hemi'] = df['temp1']"
   ]
  },
  {
   "cell_type": "code",
   "execution_count": 126,
   "id": "3459aa3e-711a-4de7-9b0e-d3931fdf872c",
   "metadata": {},
   "outputs": [],
   "source": [
    "df['ROI'] = df['temp2']"
   ]
  },
  {
   "cell_type": "code",
   "execution_count": 127,
   "id": "51df3ab3-9884-417e-a9fc-3f61530276ea",
   "metadata": {},
   "outputs": [
    {
     "data": {
      "text/plain": [
       "Index(['fdr_pval', 'pval', 'roi', 'tstat', 'temp1', 'temp2', 'hemi', 'ROI'], dtype='object')"
      ]
     },
     "execution_count": 127,
     "metadata": {},
     "output_type": "execute_result"
    }
   ],
   "source": [
    "df.columns"
   ]
  },
  {
   "cell_type": "code",
   "execution_count": 128,
   "id": "f4bf784e-6b1f-436d-beec-3a930433d131",
   "metadata": {},
   "outputs": [],
   "source": [
    "df = df[['tstat', 'fdr_pval', 'hemi', 'ROI']]"
   ]
  },
  {
   "cell_type": "code",
   "execution_count": 129,
   "id": "c2e5fca5-bafc-4daa-9ba1-ff1930d5671b",
   "metadata": {},
   "outputs": [],
   "source": [
    "w_a_z_sig_diff = df"
   ]
  },
  {
   "cell_type": "code",
   "execution_count": 130,
   "id": "e1638c5e-4c27-4026-afe4-346e7f927726",
   "metadata": {
    "tags": []
   },
   "outputs": [],
   "source": [
    "w_a_z_sig_diff_l = w_a_z_sig_diff.query('hemi == \"left\"')\n",
    "w_a_z_sig_diff_r = w_a_z_sig_diff.query('hemi == \"right\"')"
   ]
  },
  {
   "cell_type": "code",
   "execution_count": 131,
   "id": "84b369cd-68b5-497c-9645-bb5f78965a5d",
   "metadata": {},
   "outputs": [],
   "source": [
    "nl_w_a_z_sig_diff_l = pd.merge(nl, w_a_z_sig_diff_l, on='ROI', how='left')\n",
    "nl_w_a_z_sig_diff_r = pd.merge(nl, w_a_z_sig_diff_r, on='ROI', how='left')"
   ]
  },
  {
   "cell_type": "code",
   "execution_count": 132,
   "id": "bf56525b-42c6-4561-a35a-9c50ac1f8794",
   "metadata": {
    "tags": []
   },
   "outputs": [],
   "source": [
    "nl_w_a_z_sig_diff_l['tstat'] = nl_w_a_z_sig_diff_l['tstat'].fillna(0)\n",
    "nl_w_a_z_sig_diff_r['tstat'] = nl_w_a_z_sig_diff_r['tstat'].fillna(0)"
   ]
  },
  {
   "cell_type": "code",
   "execution_count": 133,
   "id": "b505207c-ae1f-4af2-9f80-691093baaa3d",
   "metadata": {
    "tags": []
   },
   "outputs": [],
   "source": [
    "nl_w_a_z_sig_diff_l = nl_w_a_z_sig_diff_l['tstat'].to_numpy()\n",
    "nl_w_a_z_sig_diff_r = nl_w_a_z_sig_diff_r['tstat'].to_numpy()"
   ]
  },
  {
   "cell_type": "code",
   "execution_count": 134,
   "id": "8cfd5571-1cd7-4b39-9cc8-7888c14a0948",
   "metadata": {},
   "outputs": [],
   "source": [
    "a_list = list(range(1, 76))\n",
    "parcellation_l = atlas_l\n",
    "for i, j in enumerate(a_list):\n",
    "    parcellation_l = np.where(parcellation_l == j, nl_w_a_z_sig_diff_l[i], parcellation_l)"
   ]
  },
  {
   "cell_type": "code",
   "execution_count": 135,
   "id": "0af27049-00cc-410f-8ba7-89f666448ffe",
   "metadata": {},
   "outputs": [],
   "source": [
    "a_list = list(range(1, 76))\n",
    "parcellation_r = atlas_r\n",
    "for i, j in enumerate(a_list):\n",
    "    parcellation_r = np.where(parcellation_r == j, nl_w_a_z_sig_diff_r[i], parcellation_r)"
   ]
  },
  {
   "cell_type": "code",
   "execution_count": 136,
   "id": "923a8f25-b7e7-45d0-bd65-32233712fc55",
   "metadata": {},
   "outputs": [],
   "source": [
    "# Positive value == whites have higher error\n",
    "# Negative value == blacks have higher error\n",
    "plotting.plot_surf_roi(fsaverage['infl_left'], roi_map=parcellation_l, hemi='left', cmap='plasma', bg_map=fsaverage['sulc_left'], vmin=-4, vmax=8, view='lateral', output_file='/Users/saigerutherford/Desktop/ukb_racenotmodeled_WvA_Z_l.png');"
   ]
  },
  {
   "cell_type": "code",
   "execution_count": 137,
   "id": "829edb78-64db-458d-a7bd-c23837eef748",
   "metadata": {},
   "outputs": [],
   "source": [
    "plotting.plot_surf_roi(fsaverage['infl_right'], roi_map=parcellation_r, hemi='right', cmap='plasma', bg_map=fsaverage['sulc_right'], vmin=-4, vmax=8, view='lateral', output_file='/Users/saigerutherford/Desktop/ukb_racenotmodeled_WvA_Z_r.png');"
   ]
  },
  {
   "cell_type": "markdown",
   "id": "00d9703a-7235-46d1-a40a-187e6241d27a",
   "metadata": {},
   "source": [
    "### T-Tests on group mean and variance (across all ROIs)"
   ]
  },
  {
   "cell_type": "markdown",
   "id": "f97fed31-155d-4b41-9d17-9206769f237a",
   "metadata": {},
   "source": [
    "### UKB pretrained"
   ]
  },
  {
   "cell_type": "code",
   "execution_count": 44,
   "id": "4c91cb3b-689d-4d84-9360-a633204e4847",
   "metadata": {},
   "outputs": [],
   "source": [
    "Z_df = pd.read_csv('/Users/saigerutherford/Documents/Work/drive-download-20220731T221458Z-001/pretrained_nm_z_demos_ukb.csv')"
   ]
  },
  {
   "cell_type": "code",
   "execution_count": 45,
   "id": "fe2ba2ac-7ce6-410c-b957-7c500af3506a",
   "metadata": {
    "jupyter": {
     "source_hidden": true
    },
    "tags": []
   },
   "outputs": [],
   "source": [
    "keep_cols = ['sub_id','race_1','rh_S_cingul-Marginalis_thickness_Z_predict',\n",
    " 'rh_S_collat_transv_ant_thickness_Z_predict',\n",
    " 'Left-Amygdala_Z_predict',\n",
    " 'lh_S_orbital-H_Shaped_thickness_Z_predict',\n",
    " 'lh_G&S_frontomargin_thickness_Z_predict',\n",
    " 'Right-vessel_Z_predict',\n",
    " 'Right-Thalamus-Proper_Z_predict',\n",
    " 'rh_G&S_cingul-Mid-Post_thickness_Z_predict',\n",
    " 'rh_G&S_paracentral_thickness_Z_predict',\n",
    " 'Right-Inf-Lat-Vent_Z_predict',\n",
    " 'lh_S_temporal_inf_thickness_Z_predict',\n",
    " 'rh_S_precentral-inf-part_thickness_Z_predict',\n",
    " 'rh_S_subparietal_thickness_Z_predict',\n",
    " 'rh_G_insular_short_thickness_Z_predict',\n",
    " 'lh_G_temp_sup-Plan_polar_thickness_Z_predict',\n",
    " 'lh_S_orbital_med-olfact_thickness_Z_predict',\n",
    " 'rh_G&S_transv_frontopol_thickness_Z_predict',\n",
    " 'rh_S_collat_transv_post_thickness_Z_predict',\n",
    " 'SupraTentorialVol_Z_predict',\n",
    " 'lh_G&S_subcentral_thickness_Z_predict',\n",
    " 'Right-Putamen_Z_predict',\n",
    " 'lh_G&S_cingul-Ant_thickness_Z_predict',\n",
    " 'rh_S_front_middle_thickness_Z_predict',\n",
    " 'Left-Putamen_Z_predict',\n",
    " 'rh_G_temporal_middle_thickness_Z_predict',\n",
    " 'rh_G_Ins_lg&S_cent_ins_thickness_Z_predict',\n",
    " 'lh_G&S_cingul-Mid-Post_thickness_Z_predict',\n",
    " 'rh_G&S_occipital_inf_thickness_Z_predict',\n",
    " 'lh_G_front_middle_thickness_Z_predict',\n",
    " 'lh_Lat_Fis-ant-Vertical_thickness_Z_predict',\n",
    " 'rh_G_oc-temp_med-Parahip_thickness_Z_predict',\n",
    " 'lh_G_oc-temp_lat-fusifor_thickness_Z_predict',\n",
    " 'rh_G_occipital_middle_thickness_Z_predict',\n",
    " 'lh_S_collat_transv_post_thickness_Z_predict',\n",
    " 'lh_G_temp_sup-Plan_tempo_thickness_Z_predict',\n",
    " 'rh_G_pariet_inf-Supramar_thickness_Z_predict',\n",
    " 'rh_S_parieto_occipital_thickness_Z_predict',\n",
    " 'rh_S_oc_middle&Lunatus_thickness_Z_predict',\n",
    " 'rh_S_front_inf_thickness_Z_predict',\n",
    " 'rh_Lat_Fis-ant-Vertical_thickness_Z_predict',\n",
    " 'rh_S_precentral-sup-part_thickness_Z_predict',\n",
    " 'Left-Thalamus-Proper_Z_predict',\n",
    " 'rh_Pole_temporal_thickness_Z_predict',\n",
    " 'rh_S_circular_insula_inf_thickness_Z_predict',\n",
    " 'lh_S_postcentral_thickness_Z_predict',\n",
    " 'lh_G_temp_sup-G_T_transv_thickness_Z_predict',\n",
    " 'rh_G&S_cingul-Mid-Ant_thickness_Z_predict',\n",
    " 'rh_G_oc-temp_lat-fusifor_thickness_Z_predict',\n",
    " 'rh_G_temp_sup-Lateral_thickness_Z_predict',\n",
    " 'rh_G_cingul-Post-dorsal_thickness_Z_predict',\n",
    " 'rh_S_suborbital_thickness_Z_predict',\n",
    " 'lh_S_interm_prim-Jensen_thickness_Z_predict',\n",
    " 'Right-Cerebellum-White-Matter_Z_predict',\n",
    " 'lh_S_suborbital_thickness_Z_predict',\n",
    " 'lh_S_circular_insula_inf_thickness_Z_predict',\n",
    " 'lh_G_cuneus_thickness_Z_predict',\n",
    " '4th-Ventricle_Z_predict',\n",
    " 'lh_G_temporal_middle_thickness_Z_predict',\n",
    " 'rh_S_orbital_lateral_thickness_Z_predict',\n",
    " 'lh_S_oc_middle&Lunatus_thickness_Z_predict',\n",
    " 'rh_G_parietal_sup_thickness_Z_predict',\n",
    " 'lh_S_temporal_transverse_thickness_Z_predict',\n",
    " 'rh_G_pariet_inf-Angular_thickness_Z_predict',\n",
    " 'lh_S_circular_insula_sup_thickness_Z_predict',\n",
    " 'lh_G_rectus_thickness_Z_predict',\n",
    " 'rh_S_postcentral_thickness_Z_predict',\n",
    " 'Left-Cerebellum-White-Matter_Z_predict',\n",
    " 'rh_S_calcarine_thickness_Z_predict',\n",
    " 'CSF_Z_predict',\n",
    " 'lh_G_pariet_inf-Supramar_thickness_Z_predict',\n",
    " 'rh_S_oc-temp_lat_thickness_Z_predict',\n",
    " 'lh_G_precuneus_thickness_Z_predict',\n",
    " 'rh_Lat_Fis-ant-Horizont_thickness_Z_predict',\n",
    " 'Left-Pallidum_Z_predict',\n",
    " 'Left-choroid-plexus_Z_predict',\n",
    " '3rd-Ventricle_Z_predict',\n",
    " 'rh_S_interm_prim-Jensen_thickness_Z_predict',\n",
    " 'Right-Lateral-Ventricle_Z_predict',\n",
    " 'rh_G_occipital_sup_thickness_Z_predict',\n",
    " 'rh_S_orbital-H_Shaped_thickness_Z_predict',\n",
    " 'lh_G_postcentral_thickness_Z_predict',\n",
    " 'lh_S_intrapariet&P_trans_thickness_Z_predict',\n",
    " 'TotalGrayVol_Z_predict',\n",
    " 'lh_Lat_Fis-post_thickness_Z_predict',\n",
    " 'Right-Hippocampus_Z_predict',\n",
    " 'Right-choroid-plexus_Z_predict',\n",
    " 'lh_S_oc-temp_lat_thickness_Z_predict',\n",
    " 'lh_MeanThickness_thickness_Z_predict',\n",
    " 'lh_G_insular_short_thickness_Z_predict',\n",
    " 'rh_G_temp_sup-G_T_transv_thickness_Z_predict',\n",
    " 'rh_G_cuneus_thickness_Z_predict',\n",
    " 'lh_G_front_inf-Triangul_thickness_Z_predict',\n",
    " 'lh_S_parieto_occipital_thickness_Z_predict',\n",
    " 'Right-Caudate_Z_predict',\n",
    " 'Left-Inf-Lat-Vent_Z_predict',\n",
    " 'lh_G_front_inf-Opercular_thickness_Z_predict',\n",
    " 'lh_G_cingul-Post-dorsal_thickness_Z_predict',\n",
    " 'rh_S_intrapariet&P_trans_thickness_Z_predict',\n",
    " 'lh_S_oc_sup&transversal_thickness_Z_predict',\n",
    " 'rh_MeanThickness_thickness_Z_predict',\n",
    " 'lh_S_front_inf_thickness_Z_predict',\n",
    " 'lh_G_orbital_thickness_Z_predict',\n",
    " 'lh_G_occipital_middle_thickness_Z_predict',\n",
    " 'lh_G_Ins_lg&S_cent_ins_thickness_Z_predict',\n",
    " 'rh_S_oc_sup&transversal_thickness_Z_predict',\n",
    " 'rh_S_oc-temp_med&Lingual_thickness_Z_predict',\n",
    " 'lh_S_temporal_sup_thickness_Z_predict',\n",
    " 'rh_G_temp_sup-Plan_tempo_thickness_Z_predict',\n",
    " 'Right-Accumbens-area_Z_predict',\n",
    " 'rh_G&S_cingul-Ant_thickness_Z_predict',\n",
    " 'lh_G_oc-temp_med-Lingual_thickness_Z_predict',\n",
    " 'lh_Pole_occipital_thickness_Z_predict',\n",
    " 'lh_S_collat_transv_ant_thickness_Z_predict',\n",
    " 'rh_S_circular_insula_sup_thickness_Z_predict',\n",
    " 'lh_S_precentral-sup-part_thickness_Z_predict',\n",
    " 'lh_G_front_sup_thickness_Z_predict',\n",
    " 'lh_S_circular_insula_ant_thickness_Z_predict',\n",
    " 'rh_G_oc-temp_med-Lingual_thickness_Z_predict',\n",
    " 'rh_G_front_sup_thickness_Z_predict',\n",
    " 'rh_S_occipital_ant_thickness_Z_predict',\n",
    " 'lh_S_pericallosal_thickness_Z_predict',\n",
    " 'rh_G_front_inf-Orbital_thickness_Z_predict',\n",
    " 'rh_G_postcentral_thickness_Z_predict',\n",
    " 'rh_G_precentral_thickness_Z_predict',\n",
    " 'lh_G_subcallosal_thickness_Z_predict',\n",
    " 'rh_S_temporal_sup_thickness_Z_predict',\n",
    " 'Right-VentralDC_Z_predict',\n",
    " 'Right-Pallidum_Z_predict',\n",
    " 'lh_Lat_Fis-ant-Horizont_thickness_Z_predict',\n",
    " 'Left-Caudate_Z_predict',\n",
    " 'Left-vessel_Z_predict',\n",
    " 'SubCortGrayVol_Z_predict',\n",
    " 'lh_S_precentral-inf-part_thickness_Z_predict',\n",
    " 'Right-Cerebellum-Cortex_Z_predict',\n",
    " 'Left-Cerebellum-Cortex_Z_predict',\n",
    " 'rh_S_pericallosal_thickness_Z_predict',\n",
    " 'lh_G_occipital_sup_thickness_Z_predict',\n",
    " 'rh_G&S_subcentral_thickness_Z_predict',\n",
    " 'rh_G_cingul-Post-ventral_thickness_Z_predict',\n",
    " 'lh_S_calcarine_thickness_Z_predict',\n",
    " 'Right-Amygdala_Z_predict',\n",
    " 'Left-Accumbens-area_Z_predict',\n",
    " 'Left-Lateral-Ventricle_Z_predict',\n",
    " 'rh_G_orbital_thickness_Z_predict',\n",
    " 'lh_S_orbital_lateral_thickness_Z_predict',\n",
    " 'rh_G_front_inf-Triangul_thickness_Z_predict',\n",
    " 'rh_G_temporal_inf_thickness_Z_predict',\n",
    " 'lh_S_occipital_ant_thickness_Z_predict',\n",
    " 'lh_S_front_middle_thickness_Z_predict',\n",
    " 'lh_G&S_transv_frontopol_thickness_Z_predict',\n",
    " 'rh_S_orbital_med-olfact_thickness_Z_predict',\n",
    " 'Left-VentralDC_Z_predict',\n",
    " 'lh_G_pariet_inf-Angular_thickness_Z_predict',\n",
    " 'lh_G_temp_sup-Lateral_thickness_Z_predict',\n",
    " 'Left-Hippocampus_Z_predict',\n",
    " 'lh_S_central_thickness_Z_predict',\n",
    " 'lh_S_cingul-Marginalis_thickness_Z_predict',\n",
    " 'lh_G_oc-temp_med-Parahip_thickness_Z_predict',\n",
    " 'lh_G_parietal_sup_thickness_Z_predict',\n",
    " 'lh_G&S_cingul-Mid-Ant_thickness_Z_predict',\n",
    " 'lh_Pole_temporal_thickness_Z_predict',\n",
    " 'lh_G_precentral_thickness_Z_predict',\n",
    " 'rh_S_temporal_transverse_thickness_Z_predict',\n",
    " 'rh_G_front_middle_thickness_Z_predict',\n",
    " 'lh_S_front_sup_thickness_Z_predict',\n",
    " 'rh_S_central_thickness_Z_predict',\n",
    " 'rh_G_rectus_thickness_Z_predict',\n",
    " 'rh_S_circular_insula_ant_thickness_Z_predict',\n",
    " 'rh_G_precuneus_thickness_Z_predict',\n",
    " 'rh_G&S_frontomargin_thickness_Z_predict',\n",
    " 'Brain-Stem_Z_predict',\n",
    " 'rh_Pole_occipital_thickness_Z_predict',\n",
    " 'lh_S_oc-temp_med&Lingual_thickness_Z_predict',\n",
    " 'rh_S_temporal_inf_thickness_Z_predict',\n",
    " 'rh_S_front_sup_thickness_Z_predict',\n",
    " 'lh_G&S_paracentral_thickness_Z_predict',\n",
    " 'rh_G_front_inf-Opercular_thickness_Z_predict',\n",
    " 'rh_G_temp_sup-Plan_polar_thickness_Z_predict',\n",
    " 'lh_G_cingul-Post-ventral_thickness_Z_predict',\n",
    " 'lh_G_temporal_inf_thickness_Z_predict',\n",
    " 'lh_S_subparietal_thickness_Z_predict',\n",
    " 'rh_Lat_Fis-post_thickness_Z_predict',\n",
    " 'rh_G_subcallosal_thickness_Z_predict',\n",
    " 'SupraTentorialVolNotVent_Z_predict',\n",
    " 'lh_G_front_inf-Orbital_thickness_Z_predict',\n",
    " 'lh_G&S_occipital_inf_thickness_Z_predict',\n",
    " 'EstimatedTotalIntraCranialVol_Z_predict']"
   ]
  },
  {
   "cell_type": "code",
   "execution_count": 46,
   "id": "222a645b-6e0f-44ba-84d4-8075d6e95be0",
   "metadata": {
    "tags": []
   },
   "outputs": [],
   "source": [
    "Z_df = Z_df[keep_cols]"
   ]
  },
  {
   "cell_type": "code",
   "execution_count": 47,
   "id": "efccf98f-d289-4dd7-a633-e570d0296f71",
   "metadata": {
    "executionInfo": {
     "elapsed": 257,
     "status": "ok",
     "timestamp": 1687449325721,
     "user": {
      "displayName": "Saige Rutherford",
      "userId": "09510631870783055479"
     },
     "user_tz": -120
    },
    "id": "5649160f-708d-46ed-9760-29f9c3fb8b18",
    "jupyter": {
     "source_hidden": true
    },
    "tags": []
   },
   "outputs": [],
   "source": [
    "z_long = Z_df.melt(id_vars=['sub_id','race_1'],\n",
    "                  value_vars=['rh_S_cingul-Marginalis_thickness_Z_predict',\n",
    "                                 'rh_S_collat_transv_ant_thickness_Z_predict',\n",
    "                                 'Left-Amygdala_Z_predict',\n",
    "                                 'lh_S_orbital-H_Shaped_thickness_Z_predict',\n",
    "                                 'lh_G&S_frontomargin_thickness_Z_predict',\n",
    "                                 'Right-vessel_Z_predict',\n",
    "                                 'Right-Thalamus-Proper_Z_predict',\n",
    "                                 'rh_G&S_cingul-Mid-Post_thickness_Z_predict',\n",
    "                                 'rh_G&S_paracentral_thickness_Z_predict',\n",
    "                                 'Right-Inf-Lat-Vent_Z_predict',\n",
    "                                 'lh_S_temporal_inf_thickness_Z_predict',\n",
    "                                 'rh_S_precentral-inf-part_thickness_Z_predict',\n",
    "                                 'rh_S_subparietal_thickness_Z_predict',\n",
    "                                 'rh_G_insular_short_thickness_Z_predict',\n",
    "                                 'lh_G_temp_sup-Plan_polar_thickness_Z_predict',\n",
    "                                 'lh_S_orbital_med-olfact_thickness_Z_predict',\n",
    "                                 'rh_G&S_transv_frontopol_thickness_Z_predict',\n",
    "                                 'rh_S_collat_transv_post_thickness_Z_predict',\n",
    "                                 'SupraTentorialVol_Z_predict',\n",
    "                                 'lh_G&S_subcentral_thickness_Z_predict',\n",
    "                                 'Right-Putamen_Z_predict',\n",
    "                                 'lh_G&S_cingul-Ant_thickness_Z_predict',\n",
    "                                 'rh_S_front_middle_thickness_Z_predict',\n",
    "                                 'Left-Putamen_Z_predict',\n",
    "                                 'rh_G_temporal_middle_thickness_Z_predict',\n",
    "                                 'rh_G_Ins_lg&S_cent_ins_thickness_Z_predict',\n",
    "                                 'lh_G&S_cingul-Mid-Post_thickness_Z_predict',\n",
    "                                 'rh_G&S_occipital_inf_thickness_Z_predict',\n",
    "                                 'lh_G_front_middle_thickness_Z_predict',\n",
    "                                 'lh_Lat_Fis-ant-Vertical_thickness_Z_predict',\n",
    "                                 'rh_G_oc-temp_med-Parahip_thickness_Z_predict',\n",
    "                                 'lh_G_oc-temp_lat-fusifor_thickness_Z_predict',\n",
    "                                 'rh_G_occipital_middle_thickness_Z_predict',\n",
    "                                 'lh_S_collat_transv_post_thickness_Z_predict',\n",
    "                                 'lh_G_temp_sup-Plan_tempo_thickness_Z_predict',\n",
    "                                 'rh_G_pariet_inf-Supramar_thickness_Z_predict',\n",
    "                                 'rh_S_parieto_occipital_thickness_Z_predict',\n",
    "                                 'rh_S_oc_middle&Lunatus_thickness_Z_predict',\n",
    "                                 'rh_S_front_inf_thickness_Z_predict',\n",
    "                                 'rh_Lat_Fis-ant-Vertical_thickness_Z_predict',\n",
    "                                 'rh_S_precentral-sup-part_thickness_Z_predict',\n",
    "                                 'Left-Thalamus-Proper_Z_predict',\n",
    "                                 'rh_Pole_temporal_thickness_Z_predict',\n",
    "                                 'rh_S_circular_insula_inf_thickness_Z_predict',\n",
    "                                 'lh_S_postcentral_thickness_Z_predict',\n",
    "                                 'lh_G_temp_sup-G_T_transv_thickness_Z_predict',\n",
    "                                 'rh_G&S_cingul-Mid-Ant_thickness_Z_predict',\n",
    "                                 'rh_G_oc-temp_lat-fusifor_thickness_Z_predict',\n",
    "                                 'rh_G_temp_sup-Lateral_thickness_Z_predict',\n",
    "                                 'rh_G_cingul-Post-dorsal_thickness_Z_predict',\n",
    "                                 'rh_S_suborbital_thickness_Z_predict',\n",
    "                                 'lh_S_interm_prim-Jensen_thickness_Z_predict',\n",
    "                                 'Right-Cerebellum-White-Matter_Z_predict',\n",
    "                                 'lh_S_suborbital_thickness_Z_predict',\n",
    "                                 'lh_S_circular_insula_inf_thickness_Z_predict',\n",
    "                                 'lh_G_cuneus_thickness_Z_predict',\n",
    "                                 '4th-Ventricle_Z_predict',\n",
    "                                 'lh_G_temporal_middle_thickness_Z_predict',\n",
    "                                 'rh_S_orbital_lateral_thickness_Z_predict',\n",
    "                                 'lh_S_oc_middle&Lunatus_thickness_Z_predict',\n",
    "                                 'rh_G_parietal_sup_thickness_Z_predict',\n",
    "                                 'lh_S_temporal_transverse_thickness_Z_predict',\n",
    "                                 'rh_G_pariet_inf-Angular_thickness_Z_predict',\n",
    "                                 'lh_S_circular_insula_sup_thickness_Z_predict',\n",
    "                                 'lh_G_rectus_thickness_Z_predict',\n",
    "                                 'rh_S_postcentral_thickness_Z_predict',\n",
    "                                 'Left-Cerebellum-White-Matter_Z_predict',\n",
    "                                 'rh_S_calcarine_thickness_Z_predict',\n",
    "                                 'CSF_Z_predict',\n",
    "                                 'lh_G_pariet_inf-Supramar_thickness_Z_predict',\n",
    "                                 'rh_S_oc-temp_lat_thickness_Z_predict',\n",
    "                                 'lh_G_precuneus_thickness_Z_predict',\n",
    "                                 'rh_Lat_Fis-ant-Horizont_thickness_Z_predict',\n",
    "                                 'Left-Pallidum_Z_predict',\n",
    "                                 'Left-choroid-plexus_Z_predict',\n",
    "                                 '3rd-Ventricle_Z_predict',\n",
    "                                 'rh_S_interm_prim-Jensen_thickness_Z_predict',\n",
    "                                 'Right-Lateral-Ventricle_Z_predict',\n",
    "                                 'rh_G_occipital_sup_thickness_Z_predict',\n",
    "                                 'rh_S_orbital-H_Shaped_thickness_Z_predict',\n",
    "                                 'lh_G_postcentral_thickness_Z_predict',\n",
    "                                 'lh_S_intrapariet&P_trans_thickness_Z_predict',\n",
    "                                 'TotalGrayVol_Z_predict',\n",
    "                                 'lh_Lat_Fis-post_thickness_Z_predict',\n",
    "                                 'Right-Hippocampus_Z_predict',\n",
    "                                 'Right-choroid-plexus_Z_predict',\n",
    "                                 'lh_S_oc-temp_lat_thickness_Z_predict',\n",
    "                                 'lh_MeanThickness_thickness_Z_predict',\n",
    "                                 'lh_G_insular_short_thickness_Z_predict',\n",
    "                                 'rh_G_temp_sup-G_T_transv_thickness_Z_predict',\n",
    "                                 'rh_G_cuneus_thickness_Z_predict',\n",
    "                                 'lh_G_front_inf-Triangul_thickness_Z_predict',\n",
    "                                 'lh_S_parieto_occipital_thickness_Z_predict',\n",
    "                                 'Right-Caudate_Z_predict',\n",
    "                                 'Left-Inf-Lat-Vent_Z_predict',\n",
    "                                 'lh_G_front_inf-Opercular_thickness_Z_predict',\n",
    "                                 'lh_G_cingul-Post-dorsal_thickness_Z_predict',\n",
    "                                 'rh_S_intrapariet&P_trans_thickness_Z_predict',\n",
    "                                 'lh_S_oc_sup&transversal_thickness_Z_predict',\n",
    "                                 'rh_MeanThickness_thickness_Z_predict',\n",
    "                                 'lh_S_front_inf_thickness_Z_predict',\n",
    "                                 'lh_G_orbital_thickness_Z_predict',\n",
    "                                 'lh_G_occipital_middle_thickness_Z_predict',\n",
    "                                 'lh_G_Ins_lg&S_cent_ins_thickness_Z_predict',\n",
    "                                 'rh_S_oc_sup&transversal_thickness_Z_predict',\n",
    "                                 'rh_S_oc-temp_med&Lingual_thickness_Z_predict',\n",
    "                                 'lh_S_temporal_sup_thickness_Z_predict',\n",
    "                                 'rh_G_temp_sup-Plan_tempo_thickness_Z_predict',\n",
    "                                 'Right-Accumbens-area_Z_predict',\n",
    "                                 'rh_G&S_cingul-Ant_thickness_Z_predict',\n",
    "                                 'lh_G_oc-temp_med-Lingual_thickness_Z_predict',\n",
    "                                 'lh_Pole_occipital_thickness_Z_predict',\n",
    "                                 'lh_S_collat_transv_ant_thickness_Z_predict',\n",
    "                                 'rh_S_circular_insula_sup_thickness_Z_predict',\n",
    "                                 'lh_S_precentral-sup-part_thickness_Z_predict',\n",
    "                                 'lh_G_front_sup_thickness_Z_predict',\n",
    "                                 'lh_S_circular_insula_ant_thickness_Z_predict',\n",
    "                                 'rh_G_oc-temp_med-Lingual_thickness_Z_predict',\n",
    "                                 'rh_G_front_sup_thickness_Z_predict',\n",
    "                                 'rh_S_occipital_ant_thickness_Z_predict',\n",
    "                                 'lh_S_pericallosal_thickness_Z_predict',\n",
    "                                 'rh_G_front_inf-Orbital_thickness_Z_predict',\n",
    "                                 'rh_G_postcentral_thickness_Z_predict',\n",
    "                                 'rh_G_precentral_thickness_Z_predict',\n",
    "                                 'lh_G_subcallosal_thickness_Z_predict',\n",
    "                                 'rh_S_temporal_sup_thickness_Z_predict',\n",
    "                                 'Right-VentralDC_Z_predict',\n",
    "                                 'Right-Pallidum_Z_predict',\n",
    "                                 'lh_Lat_Fis-ant-Horizont_thickness_Z_predict',\n",
    "                                 'Left-Caudate_Z_predict',\n",
    "                                 'Left-vessel_Z_predict',\n",
    "                                 'SubCortGrayVol_Z_predict',\n",
    "                                 'lh_S_precentral-inf-part_thickness_Z_predict',\n",
    "                                 'Right-Cerebellum-Cortex_Z_predict',\n",
    "                                 'Left-Cerebellum-Cortex_Z_predict',\n",
    "                                 'rh_S_pericallosal_thickness_Z_predict',\n",
    "                                 'lh_G_occipital_sup_thickness_Z_predict',\n",
    "                                 'rh_G&S_subcentral_thickness_Z_predict',\n",
    "                                 'rh_G_cingul-Post-ventral_thickness_Z_predict',\n",
    "                                 'lh_S_calcarine_thickness_Z_predict',\n",
    "                                 'Right-Amygdala_Z_predict',\n",
    "                                 'Left-Accumbens-area_Z_predict',\n",
    "                                 'Left-Lateral-Ventricle_Z_predict',\n",
    "                                 'rh_G_orbital_thickness_Z_predict',\n",
    "                                 'lh_S_orbital_lateral_thickness_Z_predict',\n",
    "                                 'rh_G_front_inf-Triangul_thickness_Z_predict',\n",
    "                                 'rh_G_temporal_inf_thickness_Z_predict',\n",
    "                                 'lh_S_occipital_ant_thickness_Z_predict',\n",
    "                                 'lh_S_front_middle_thickness_Z_predict',\n",
    "                                 'lh_G&S_transv_frontopol_thickness_Z_predict',\n",
    "                                 'rh_S_orbital_med-olfact_thickness_Z_predict',\n",
    "                                 'Left-VentralDC_Z_predict',\n",
    "                                 'lh_G_pariet_inf-Angular_thickness_Z_predict',\n",
    "                                 'lh_G_temp_sup-Lateral_thickness_Z_predict',\n",
    "                                 'Left-Hippocampus_Z_predict',\n",
    "                                 'lh_S_central_thickness_Z_predict',\n",
    "                                 'lh_S_cingul-Marginalis_thickness_Z_predict',\n",
    "                                 'lh_G_oc-temp_med-Parahip_thickness_Z_predict',\n",
    "                                 'lh_G_parietal_sup_thickness_Z_predict',\n",
    "                                 'lh_G&S_cingul-Mid-Ant_thickness_Z_predict',\n",
    "                                 'lh_Pole_temporal_thickness_Z_predict',\n",
    "                                 'lh_G_precentral_thickness_Z_predict',\n",
    "                                 'rh_S_temporal_transverse_thickness_Z_predict',\n",
    "                                 'rh_G_front_middle_thickness_Z_predict',\n",
    "                                 'lh_S_front_sup_thickness_Z_predict',\n",
    "                                 'rh_S_central_thickness_Z_predict',\n",
    "                                 'rh_G_rectus_thickness_Z_predict',\n",
    "                                 'rh_S_circular_insula_ant_thickness_Z_predict',\n",
    "                                 'rh_G_precuneus_thickness_Z_predict',\n",
    "                                 'rh_G&S_frontomargin_thickness_Z_predict',\n",
    "                                 'Brain-Stem_Z_predict',\n",
    "                                 'rh_Pole_occipital_thickness_Z_predict',\n",
    "                                 'lh_S_oc-temp_med&Lingual_thickness_Z_predict',\n",
    "                                 'rh_S_temporal_inf_thickness_Z_predict',\n",
    "                                 'rh_S_front_sup_thickness_Z_predict',\n",
    "                                 'lh_G&S_paracentral_thickness_Z_predict',\n",
    "                                 'rh_G_front_inf-Opercular_thickness_Z_predict',\n",
    "                                 'rh_G_temp_sup-Plan_polar_thickness_Z_predict',\n",
    "                                 'lh_G_cingul-Post-ventral_thickness_Z_predict',\n",
    "                                 'lh_G_temporal_inf_thickness_Z_predict',\n",
    "                                 'lh_S_subparietal_thickness_Z_predict',\n",
    "                                 'rh_Lat_Fis-post_thickness_Z_predict',\n",
    "                                 'rh_G_subcallosal_thickness_Z_predict',\n",
    "                                 'SupraTentorialVolNotVent_Z_predict',\n",
    "                                 'lh_G_front_inf-Orbital_thickness_Z_predict',\n",
    "                                 'lh_G&S_occipital_inf_thickness_Z_predict',\n",
    "                                 'EstimatedTotalIntraCranialVol_Z_predict'])"
   ]
  },
  {
   "cell_type": "code",
   "execution_count": 48,
   "id": "365f860e-b42b-468f-ae99-ee0352c3119b",
   "metadata": {
    "tags": []
   },
   "outputs": [],
   "source": [
    "z_long_white = z_long.query('race_1 == \"White\"')\n",
    "z_long_black = z_long.query('race_1 == \"Black\"')\n",
    "z_long_asian = z_long.query('race_1 == \"Asian\"')"
   ]
  },
  {
   "cell_type": "code",
   "execution_count": 49,
   "id": "50ea0129-b227-448a-8109-aab8629d45cc",
   "metadata": {},
   "outputs": [],
   "source": [
    "z_white = Z_df.query('race_1 == \"White\"')\n",
    "z_black = Z_df.query('race_1 == \"Black\"')\n",
    "z_asian = Z_df.query('race_1 == \"Asian\"')"
   ]
  },
  {
   "cell_type": "code",
   "execution_count": 144,
   "id": "cf305c2d-c39c-4fc4-9f6c-096566d52004",
   "metadata": {},
   "outputs": [],
   "source": [
    "z_long_white2 = z_long_white.groupby(by='sub_id',as_index=False).mean()"
   ]
  },
  {
   "cell_type": "code",
   "execution_count": 145,
   "id": "c9ae58fa-2b9d-4df5-ac2c-b8d615b842a7",
   "metadata": {},
   "outputs": [],
   "source": [
    "z_long_black2 = z_long_black.groupby(by='sub_id',as_index=False).mean()"
   ]
  },
  {
   "cell_type": "code",
   "execution_count": 146,
   "id": "023061b0-8474-46d6-805c-9a5311af4c57",
   "metadata": {},
   "outputs": [],
   "source": [
    "z_long_asian2 = z_long_asian.groupby(by='sub_id',as_index=False).mean()"
   ]
  },
  {
   "cell_type": "code",
   "execution_count": 147,
   "id": "d9c544f5-a41d-4558-9ee5-a3f1561c32d1",
   "metadata": {},
   "outputs": [
    {
     "data": {
      "text/plain": [
       "Ttest_indResult(statistic=4.509318275408758, pvalue=1.4794683649566387e-05)"
      ]
     },
     "execution_count": 147,
     "metadata": {},
     "output_type": "execute_result"
    }
   ],
   "source": [
    "ttest_ind(z_long_white2['value'], z_long_black2['value'], equal_var=False)"
   ]
  },
  {
   "cell_type": "code",
   "execution_count": 148,
   "id": "a6ebc207-a760-4b88-93f0-1f50143d1752",
   "metadata": {},
   "outputs": [
    {
     "data": {
      "text/plain": [
       "Ttest_indResult(statistic=1.5361848540510747, pvalue=0.12715035714302855)"
      ]
     },
     "execution_count": 148,
     "metadata": {},
     "output_type": "execute_result"
    }
   ],
   "source": [
    "ttest_ind(z_long_white2['value'], z_long_asian2['value'], equal_var=False)"
   ]
  },
  {
   "cell_type": "code",
   "execution_count": 149,
   "id": "77df4a8e-b10e-4a8f-9054-d4e7194d9c5a",
   "metadata": {},
   "outputs": [
    {
     "data": {
      "text/plain": [
       "Ttest_indResult(statistic=-1.7187893693646386, pvalue=0.08700001551698011)"
      ]
     },
     "execution_count": 149,
     "metadata": {},
     "output_type": "execute_result"
    }
   ],
   "source": [
    "ttest_ind(z_long_black2['value'], z_long_asian2['value'], equal_var=False)"
   ]
  },
  {
   "cell_type": "markdown",
   "id": "2d4233e6-c98d-4113-aa9b-d42ce1eb5c2a",
   "metadata": {
    "id": "AiimUDe6nMUD"
   },
   "source": [
    "### T-Tests on individual ROIs (FDR corrected)"
   ]
  },
  {
   "cell_type": "markdown",
   "id": "5d278890-89c9-41d3-99a5-b0433b47345e",
   "metadata": {},
   "source": [
    "### UKB pretrained"
   ]
  },
  {
   "cell_type": "code",
   "execution_count": 150,
   "id": "742d881e-a9e4-4b68-9a7a-27af2375ea23",
   "metadata": {
    "id": "ssVXAgqGnMUD"
   },
   "outputs": [],
   "source": [
    "w_deviations = z_white.loc[:, z_white.columns.str.contains('Z_predict')]"
   ]
  },
  {
   "cell_type": "code",
   "execution_count": 151,
   "id": "119c1401-3c66-4af9-9c96-f68cf1f2ab53",
   "metadata": {
    "id": "lqtHyKrrnMUD"
   },
   "outputs": [],
   "source": [
    "b_deviations = z_black.loc[:, z_black.columns.str.contains('Z_predict')]"
   ]
  },
  {
   "cell_type": "code",
   "execution_count": 152,
   "id": "072b60f1-3851-4842-8467-df0131e7e52e",
   "metadata": {
    "id": "lqtHyKrrnMUD"
   },
   "outputs": [],
   "source": [
    "a_deviations = z_asian.loc[:, z_asian.columns.str.contains('Z_predict')]"
   ]
  },
  {
   "cell_type": "code",
   "execution_count": 153,
   "id": "867585c1-4669-49d1-b6b7-0500765755a3",
   "metadata": {
    "id": "BCJpEI8NnMUD"
   },
   "outputs": [],
   "source": [
    "z_cols = w_deviations.columns"
   ]
  },
  {
   "cell_type": "code",
   "execution_count": 154,
   "id": "6fc54f86-a748-4096-b482-5e1a3f70e157",
   "metadata": {},
   "outputs": [
    {
     "data": {
      "text/plain": [
       "187"
      ]
     },
     "execution_count": 154,
     "metadata": {},
     "output_type": "execute_result"
    }
   ],
   "source": [
    "len(z_cols)"
   ]
  },
  {
   "cell_type": "code",
   "execution_count": 155,
   "id": "730f3820-a094-453a-af0f-8b7ef11e6e66",
   "metadata": {
    "id": "VdQgUo29nMUD"
   },
   "outputs": [],
   "source": [
    "w_b_pvals_z = pd.DataFrame(columns={'roi','pval', 'tstat','fdr_pval'})\n",
    "for index, column in enumerate(z_cols):\n",
    "    test = ttest_ind(w_deviations[column], b_deviations[column], equal_var=False)\n",
    "    w_b_pvals_z.loc[index, 'pval'] = test.pvalue\n",
    "    w_b_pvals_z.loc[index, 'tstat'] = test.statistic\n",
    "    w_b_pvals_z.loc[index, 'roi'] = column"
   ]
  },
  {
   "cell_type": "code",
   "execution_count": 156,
   "id": "b848f6a4-0917-43dd-a6c2-3a8835fca307",
   "metadata": {
    "id": "n8JfELPdnMUE"
   },
   "outputs": [],
   "source": [
    "w_b_fdr_z = multitest.fdrcorrection(w_b_pvals_z['pval'], alpha=0.05, method='indep', is_sorted=False)"
   ]
  },
  {
   "cell_type": "code",
   "execution_count": 157,
   "id": "3b6411ae-29f5-4b53-a149-a0fa8a22a32c",
   "metadata": {
    "id": "K5panqSGnMUE"
   },
   "outputs": [],
   "source": [
    "w_b_pvals_z['fdr_pval'] = w_b_fdr_z[1]"
   ]
  },
  {
   "cell_type": "code",
   "execution_count": 158,
   "id": "69fc88e9-994b-4575-a638-25723018b3e2",
   "metadata": {
    "id": "cjZ8HZMYnMUE"
   },
   "outputs": [],
   "source": [
    "w_b_z_sig_diff = w_b_pvals_z.query('fdr_pval < 0.05')"
   ]
  },
  {
   "cell_type": "code",
   "execution_count": 159,
   "id": "f2fbaa21-ab71-4c6e-9c9f-9761f5506602",
   "metadata": {
    "colab": {
     "base_uri": "https://localhost:8080/",
     "height": 423
    },
    "id": "F01JkqAwnMUE",
    "outputId": "a117d7cf-dd4f-423a-e23b-66fd060deadd",
    "tags": []
   },
   "outputs": [
    {
     "data": {
      "text/html": [
       "<div>\n",
       "<style scoped>\n",
       "    .dataframe tbody tr th:only-of-type {\n",
       "        vertical-align: middle;\n",
       "    }\n",
       "\n",
       "    .dataframe tbody tr th {\n",
       "        vertical-align: top;\n",
       "    }\n",
       "\n",
       "    .dataframe thead th {\n",
       "        text-align: right;\n",
       "    }\n",
       "</style>\n",
       "<table border=\"1\" class=\"dataframe\">\n",
       "  <thead>\n",
       "    <tr style=\"text-align: right;\">\n",
       "      <th></th>\n",
       "      <th>fdr_pval</th>\n",
       "      <th>pval</th>\n",
       "      <th>roi</th>\n",
       "      <th>tstat</th>\n",
       "    </tr>\n",
       "  </thead>\n",
       "  <tbody>\n",
       "    <tr>\n",
       "      <th>2</th>\n",
       "      <td>0.00107</td>\n",
       "      <td>0.000172</td>\n",
       "      <td>Left-Amygdala_Z_predict</td>\n",
       "      <td>3.874332</td>\n",
       "    </tr>\n",
       "    <tr>\n",
       "      <th>6</th>\n",
       "      <td>0.001941</td>\n",
       "      <td>0.000384</td>\n",
       "      <td>Right-Thalamus-Proper_Z_predict</td>\n",
       "      <td>3.650132</td>\n",
       "    </tr>\n",
       "    <tr>\n",
       "      <th>18</th>\n",
       "      <td>0.0</td>\n",
       "      <td>0.0</td>\n",
       "      <td>SupraTentorialVol_Z_predict</td>\n",
       "      <td>8.320911</td>\n",
       "    </tr>\n",
       "    <tr>\n",
       "      <th>19</th>\n",
       "      <td>0.000353</td>\n",
       "      <td>0.000041</td>\n",
       "      <td>lh_G&amp;S_subcentral_thickness_Z_predict</td>\n",
       "      <td>4.250247</td>\n",
       "    </tr>\n",
       "    <tr>\n",
       "      <th>27</th>\n",
       "      <td>0.019206</td>\n",
       "      <td>0.00647</td>\n",
       "      <td>rh_G&amp;S_occipital_inf_thickness_Z_predict</td>\n",
       "      <td>2.76981</td>\n",
       "    </tr>\n",
       "    <tr>\n",
       "      <th>...</th>\n",
       "      <td>...</td>\n",
       "      <td>...</td>\n",
       "      <td>...</td>\n",
       "      <td>...</td>\n",
       "    </tr>\n",
       "    <tr>\n",
       "      <th>181</th>\n",
       "      <td>0.000012</td>\n",
       "      <td>0.000001</td>\n",
       "      <td>rh_Lat_Fis-post_thickness_Z_predict</td>\n",
       "      <td>5.24822</td>\n",
       "    </tr>\n",
       "    <tr>\n",
       "      <th>183</th>\n",
       "      <td>0.0</td>\n",
       "      <td>0.0</td>\n",
       "      <td>SupraTentorialVolNotVent_Z_predict</td>\n",
       "      <td>8.017888</td>\n",
       "    </tr>\n",
       "    <tr>\n",
       "      <th>184</th>\n",
       "      <td>0.012621</td>\n",
       "      <td>0.00351</td>\n",
       "      <td>lh_G_front_inf-Orbital_thickness_Z_predict</td>\n",
       "      <td>2.976232</td>\n",
       "    </tr>\n",
       "    <tr>\n",
       "      <th>185</th>\n",
       "      <td>0.04456</td>\n",
       "      <td>0.019778</td>\n",
       "      <td>lh_G&amp;S_occipital_inf_thickness_Z_predict</td>\n",
       "      <td>2.361096</td>\n",
       "    </tr>\n",
       "    <tr>\n",
       "      <th>186</th>\n",
       "      <td>0.0</td>\n",
       "      <td>0.0</td>\n",
       "      <td>EstimatedTotalIntraCranialVol_Z_predict</td>\n",
       "      <td>7.483603</td>\n",
       "    </tr>\n",
       "  </tbody>\n",
       "</table>\n",
       "<p>84 rows × 4 columns</p>\n",
       "</div>"
      ],
      "text/plain": [
       "     fdr_pval      pval                                         roi     tstat\n",
       "2     0.00107  0.000172                     Left-Amygdala_Z_predict  3.874332\n",
       "6    0.001941  0.000384             Right-Thalamus-Proper_Z_predict  3.650132\n",
       "18        0.0       0.0                 SupraTentorialVol_Z_predict  8.320911\n",
       "19   0.000353  0.000041       lh_G&S_subcentral_thickness_Z_predict  4.250247\n",
       "27   0.019206   0.00647    rh_G&S_occipital_inf_thickness_Z_predict   2.76981\n",
       "..        ...       ...                                         ...       ...\n",
       "181  0.000012  0.000001         rh_Lat_Fis-post_thickness_Z_predict   5.24822\n",
       "183       0.0       0.0          SupraTentorialVolNotVent_Z_predict  8.017888\n",
       "184  0.012621   0.00351  lh_G_front_inf-Orbital_thickness_Z_predict  2.976232\n",
       "185   0.04456  0.019778    lh_G&S_occipital_inf_thickness_Z_predict  2.361096\n",
       "186       0.0       0.0     EstimatedTotalIntraCranialVol_Z_predict  7.483603\n",
       "\n",
       "[84 rows x 4 columns]"
      ]
     },
     "execution_count": 159,
     "metadata": {},
     "output_type": "execute_result"
    }
   ],
   "source": [
    "w_b_z_sig_diff"
   ]
  },
  {
   "cell_type": "code",
   "execution_count": 160,
   "id": "4d71b3d7-7e9b-4bb2-bbc3-295c5e697b7d",
   "metadata": {
    "colab": {
     "base_uri": "https://localhost:8080/"
    },
    "id": "170sEtkynMUE",
    "outputId": "7b601d8d-c73e-44ba-a523-4eddb6dea46b"
   },
   "outputs": [
    {
     "data": {
      "text/plain": [
       "(84, 4)"
      ]
     },
     "execution_count": 160,
     "metadata": {},
     "output_type": "execute_result"
    }
   ],
   "source": [
    "w_b_z_sig_diff.shape"
   ]
  },
  {
   "cell_type": "code",
   "execution_count": 161,
   "id": "ef8f77a0-f2f4-474d-b5c4-07a5d5563cc3",
   "metadata": {
    "tags": []
   },
   "outputs": [
    {
     "name": "stderr",
     "output_type": "stream",
     "text": [
      "/var/folders/xx/1xs7sc795_nf7k125153b6qh0000gn/T/ipykernel_6609/1739124426.py:1: SettingWithCopyWarning: \n",
      "A value is trying to be set on a copy of a slice from a DataFrame.\n",
      "Try using .loc[row_indexer,col_indexer] = value instead\n",
      "\n",
      "See the caveats in the documentation: https://pandas.pydata.org/pandas-docs/stable/user_guide/indexing.html#returning-a-view-versus-a-copy\n",
      "  w_b_z_sig_diff['roi'] = w_b_z_sig_diff['roi'].str.replace('_thickness_Z_predict', '', regex=True)\n",
      "/var/folders/xx/1xs7sc795_nf7k125153b6qh0000gn/T/ipykernel_6609/1739124426.py:2: SettingWithCopyWarning: \n",
      "A value is trying to be set on a copy of a slice from a DataFrame.\n",
      "Try using .loc[row_indexer,col_indexer] = value instead\n",
      "\n",
      "See the caveats in the documentation: https://pandas.pydata.org/pandas-docs/stable/user_guide/indexing.html#returning-a-view-versus-a-copy\n",
      "  w_b_z_sig_diff['roi'] = w_b_z_sig_diff['roi'].str.replace('G&S', 'G_and_S', regex=True)\n"
     ]
    }
   ],
   "source": [
    "w_b_z_sig_diff['roi'] = w_b_z_sig_diff['roi'].str.replace('_thickness_Z_predict', '', regex=True)\n",
    "w_b_z_sig_diff['roi'] = w_b_z_sig_diff['roi'].str.replace('G&S', 'G_and_S', regex=True)"
   ]
  },
  {
   "cell_type": "code",
   "execution_count": 162,
   "id": "c6db0851-1c8a-4b1a-b681-e3da0abeb524",
   "metadata": {
    "tags": []
   },
   "outputs": [
    {
     "name": "stderr",
     "output_type": "stream",
     "text": [
      "/opt/anaconda3/envs/braincharts/lib/python3.9/site-packages/pandas/core/frame.py:3641: SettingWithCopyWarning: \n",
      "A value is trying to be set on a copy of a slice from a DataFrame.\n",
      "Try using .loc[row_indexer,col_indexer] = value instead\n",
      "\n",
      "See the caveats in the documentation: https://pandas.pydata.org/pandas-docs/stable/user_guide/indexing.html#returning-a-view-versus-a-copy\n",
      "  self[k1] = value[k2]\n"
     ]
    }
   ],
   "source": [
    "w_b_z_sig_diff[['temp1', 'temp2']] = w_b_z_sig_diff['roi'].str.split(pat=\"_\", n=1, expand=True)"
   ]
  },
  {
   "cell_type": "code",
   "execution_count": 163,
   "id": "794ba0d8-3aa8-4e17-a35f-254c0f6bab76",
   "metadata": {
    "tags": []
   },
   "outputs": [
    {
     "name": "stderr",
     "output_type": "stream",
     "text": [
      "/opt/anaconda3/envs/braincharts/lib/python3.9/site-packages/pandas/core/generic.py:5516: SettingWithCopyWarning: \n",
      "A value is trying to be set on a copy of a slice from a DataFrame.\n",
      "Try using .loc[row_indexer,col_indexer] = value instead\n",
      "\n",
      "See the caveats in the documentation: https://pandas.pydata.org/pandas-docs/stable/user_guide/indexing.html#returning-a-view-versus-a-copy\n",
      "  self[name] = value\n"
     ]
    }
   ],
   "source": [
    "w_b_z_sig_diff.temp1 = w_b_z_sig_diff.temp1.apply(lambda x: 'left' if 'lh' in x else x)"
   ]
  },
  {
   "cell_type": "code",
   "execution_count": 164,
   "id": "5eff5f3f-fd7b-464a-aeff-c793a0060484",
   "metadata": {},
   "outputs": [],
   "source": [
    "w_b_z_sig_diff.temp1 = w_b_z_sig_diff.temp1.apply(lambda x: 'right' if 'rh' in x else x)"
   ]
  },
  {
   "cell_type": "code",
   "execution_count": 165,
   "id": "8254be99-0634-4cd8-8078-eaf2c2e769c8",
   "metadata": {},
   "outputs": [],
   "source": [
    "df = w_b_z_sig_diff[w_b_z_sig_diff[\"temp1\"].str.contains('left|right')]"
   ]
  },
  {
   "cell_type": "code",
   "execution_count": 166,
   "id": "b3f23ae2-3c6d-4718-9dc0-fc786b243ee1",
   "metadata": {},
   "outputs": [
    {
     "name": "stderr",
     "output_type": "stream",
     "text": [
      "/var/folders/xx/1xs7sc795_nf7k125153b6qh0000gn/T/ipykernel_6609/995407583.py:1: SettingWithCopyWarning: \n",
      "A value is trying to be set on a copy of a slice from a DataFrame.\n",
      "Try using .loc[row_indexer,col_indexer] = value instead\n",
      "\n",
      "See the caveats in the documentation: https://pandas.pydata.org/pandas-docs/stable/user_guide/indexing.html#returning-a-view-versus-a-copy\n",
      "  df['hemi'] = df['temp1']\n"
     ]
    }
   ],
   "source": [
    "df['hemi'] = df['temp1']"
   ]
  },
  {
   "cell_type": "code",
   "execution_count": 167,
   "id": "8b2a4047-5efb-4da4-b9d3-f6b2c9f39bcd",
   "metadata": {},
   "outputs": [
    {
     "name": "stderr",
     "output_type": "stream",
     "text": [
      "/var/folders/xx/1xs7sc795_nf7k125153b6qh0000gn/T/ipykernel_6609/3909763920.py:1: SettingWithCopyWarning: \n",
      "A value is trying to be set on a copy of a slice from a DataFrame.\n",
      "Try using .loc[row_indexer,col_indexer] = value instead\n",
      "\n",
      "See the caveats in the documentation: https://pandas.pydata.org/pandas-docs/stable/user_guide/indexing.html#returning-a-view-versus-a-copy\n",
      "  df['ROI'] = df['temp2']\n"
     ]
    }
   ],
   "source": [
    "df['ROI'] = df['temp2']"
   ]
  },
  {
   "cell_type": "code",
   "execution_count": 168,
   "id": "8c61190c-42b6-47da-ad76-66cc3076a1ac",
   "metadata": {},
   "outputs": [
    {
     "data": {
      "text/plain": [
       "Index(['fdr_pval', 'pval', 'roi', 'tstat', 'temp1', 'temp2', 'hemi', 'ROI'], dtype='object')"
      ]
     },
     "execution_count": 168,
     "metadata": {},
     "output_type": "execute_result"
    }
   ],
   "source": [
    "df.columns"
   ]
  },
  {
   "cell_type": "code",
   "execution_count": 169,
   "id": "19c4b341-3b46-44e3-a00e-ca0d13bee04c",
   "metadata": {},
   "outputs": [],
   "source": [
    "df = df[['tstat', 'fdr_pval', 'hemi', 'ROI']]"
   ]
  },
  {
   "cell_type": "code",
   "execution_count": 170,
   "id": "35610d7e-ee14-4797-ab84-94dc057b3222",
   "metadata": {},
   "outputs": [],
   "source": [
    "w_b_z_sig_diff = df"
   ]
  },
  {
   "cell_type": "code",
   "execution_count": 171,
   "id": "bb7fd0e5-6704-4b39-9e10-f8eabf00641a",
   "metadata": {
    "tags": []
   },
   "outputs": [],
   "source": [
    "w_b_z_sig_diff_l = w_b_z_sig_diff.query('hemi == \"left\"')\n",
    "w_b_z_sig_diff_r = w_b_z_sig_diff.query('hemi == \"right\"')"
   ]
  },
  {
   "cell_type": "code",
   "execution_count": 172,
   "id": "c44cd7a5-7d20-4f6a-8bda-448da6ecb66b",
   "metadata": {},
   "outputs": [],
   "source": [
    "nl_w_b_z_sig_diff_l = pd.merge(nl, w_b_z_sig_diff_l, on='ROI', how='left')\n",
    "nl_w_b_z_sig_diff_r = pd.merge(nl, w_b_z_sig_diff_r, on='ROI', how='left')"
   ]
  },
  {
   "cell_type": "code",
   "execution_count": 173,
   "id": "65108e2e-b91b-466b-a229-6268d0b81b89",
   "metadata": {
    "tags": []
   },
   "outputs": [],
   "source": [
    "nl_w_b_z_sig_diff_l['tstat'] = nl_w_b_z_sig_diff_l['tstat'].fillna(0)\n",
    "nl_w_b_z_sig_diff_r['tstat'] = nl_w_b_z_sig_diff_r['tstat'].fillna(0)"
   ]
  },
  {
   "cell_type": "code",
   "execution_count": 174,
   "id": "3b1e7512-9a9c-4786-ab72-4e68443998ef",
   "metadata": {
    "tags": []
   },
   "outputs": [],
   "source": [
    "nl_w_b_z_sig_diff_l = nl_w_b_z_sig_diff_l['tstat'].to_numpy()\n",
    "nl_w_b_z_sig_diff_r = nl_w_b_z_sig_diff_r['tstat'].to_numpy()"
   ]
  },
  {
   "cell_type": "code",
   "execution_count": 175,
   "id": "fcddea40-8856-475c-bab5-4a3e6f590c62",
   "metadata": {},
   "outputs": [],
   "source": [
    "a_list = list(range(1, 76))\n",
    "parcellation_l = atlas_l\n",
    "for i, j in enumerate(a_list):\n",
    "    parcellation_l = np.where(parcellation_l == j, nl_w_b_z_sig_diff_l[i], parcellation_l)"
   ]
  },
  {
   "cell_type": "code",
   "execution_count": 176,
   "id": "baf15e1d-e0e3-4f3b-af0f-13172f87dc03",
   "metadata": {},
   "outputs": [],
   "source": [
    "a_list = list(range(1, 76))\n",
    "parcellation_r = atlas_r\n",
    "for i, j in enumerate(a_list):\n",
    "    parcellation_r = np.where(parcellation_r == j, nl_w_b_z_sig_diff_r[i], parcellation_r)"
   ]
  },
  {
   "cell_type": "code",
   "execution_count": 177,
   "id": "594ec4ee-187e-4f78-a9d9-648bbb8d5e6e",
   "metadata": {},
   "outputs": [],
   "source": [
    "# Positive value == whites have higher error\n",
    "# Negative value == blacks have higher error\n",
    "plotting.plot_surf_roi(fsaverage['infl_left'], roi_map=parcellation_l, hemi='left', cmap='plasma', bg_map=fsaverage['sulc_left'], vmin=-4, vmax=8, view='lateral', output_file='/Users/saigerutherford/Desktop/ukb_pretrain_WvB_Z_l.png');"
   ]
  },
  {
   "cell_type": "code",
   "execution_count": 178,
   "id": "0f361f47-23cf-485c-88b4-31745cd60757",
   "metadata": {},
   "outputs": [],
   "source": [
    "plotting.plot_surf_roi(fsaverage['infl_right'], roi_map=parcellation_r, hemi='right', cmap='plasma', bg_map=fsaverage['sulc_right'], vmin=-4, vmax=8, view='lateral', output_file='/Users/saigerutherford/Desktop/ukb_pretrain_WvB_Z_r.png');"
   ]
  },
  {
   "cell_type": "code",
   "execution_count": 179,
   "id": "569ba03b-c8f1-492d-9f68-2678c5439c51",
   "metadata": {
    "id": "VdQgUo29nMUD"
   },
   "outputs": [],
   "source": [
    "w_a_pvals_z = pd.DataFrame(columns={'roi','pval', 'tstat','fdr_pval'})\n",
    "for index, column in enumerate(z_cols):\n",
    "    test = ttest_ind(w_deviations[column], a_deviations[column], equal_var=False)\n",
    "    w_a_pvals_z.loc[index, 'pval'] = test.pvalue\n",
    "    w_a_pvals_z.loc[index, 'tstat'] = test.statistic\n",
    "    w_a_pvals_z.loc[index, 'roi'] = column"
   ]
  },
  {
   "cell_type": "code",
   "execution_count": 180,
   "id": "3a77d058-be03-4976-af24-f475293a9e64",
   "metadata": {
    "id": "n8JfELPdnMUE"
   },
   "outputs": [],
   "source": [
    "w_a_fdr_z = multitest.fdrcorrection(w_a_pvals_z['pval'], alpha=0.05, method='indep', is_sorted=False)"
   ]
  },
  {
   "cell_type": "code",
   "execution_count": 181,
   "id": "101fe64b-929f-4442-8885-d63eb5feaa26",
   "metadata": {
    "id": "K5panqSGnMUE"
   },
   "outputs": [],
   "source": [
    "w_a_pvals_z['fdr_pval'] = w_a_fdr_z[1]"
   ]
  },
  {
   "cell_type": "code",
   "execution_count": 182,
   "id": "ce67753f-e29d-4a8e-9c14-a8ca27ad133f",
   "metadata": {
    "id": "cjZ8HZMYnMUE"
   },
   "outputs": [],
   "source": [
    "w_a_z_sig_diff = w_a_pvals_z.query('fdr_pval < 0.05')"
   ]
  },
  {
   "cell_type": "code",
   "execution_count": 183,
   "id": "f64b762c-81fa-4467-a1ba-aa16e75e1231",
   "metadata": {
    "colab": {
     "base_uri": "https://localhost:8080/",
     "height": 423
    },
    "id": "F01JkqAwnMUE",
    "outputId": "a117d7cf-dd4f-423a-e23b-66fd060deadd",
    "tags": []
   },
   "outputs": [
    {
     "data": {
      "text/html": [
       "<div>\n",
       "<style scoped>\n",
       "    .dataframe tbody tr th:only-of-type {\n",
       "        vertical-align: middle;\n",
       "    }\n",
       "\n",
       "    .dataframe tbody tr th {\n",
       "        vertical-align: top;\n",
       "    }\n",
       "\n",
       "    .dataframe thead th {\n",
       "        text-align: right;\n",
       "    }\n",
       "</style>\n",
       "<table border=\"1\" class=\"dataframe\">\n",
       "  <thead>\n",
       "    <tr style=\"text-align: right;\">\n",
       "      <th></th>\n",
       "      <th>fdr_pval</th>\n",
       "      <th>pval</th>\n",
       "      <th>roi</th>\n",
       "      <th>tstat</th>\n",
       "    </tr>\n",
       "  </thead>\n",
       "  <tbody>\n",
       "    <tr>\n",
       "      <th>6</th>\n",
       "      <td>0.0</td>\n",
       "      <td>0.0</td>\n",
       "      <td>Right-Thalamus-Proper_Z_predict</td>\n",
       "      <td>9.116665</td>\n",
       "    </tr>\n",
       "    <tr>\n",
       "      <th>18</th>\n",
       "      <td>0.0</td>\n",
       "      <td>0.0</td>\n",
       "      <td>SupraTentorialVol_Z_predict</td>\n",
       "      <td>11.004137</td>\n",
       "    </tr>\n",
       "    <tr>\n",
       "      <th>20</th>\n",
       "      <td>0.00003</td>\n",
       "      <td>0.000003</td>\n",
       "      <td>Right-Putamen_Z_predict</td>\n",
       "      <td>4.897517</td>\n",
       "    </tr>\n",
       "    <tr>\n",
       "      <th>23</th>\n",
       "      <td>0.000071</td>\n",
       "      <td>0.000008</td>\n",
       "      <td>Left-Putamen_Z_predict</td>\n",
       "      <td>4.669353</td>\n",
       "    </tr>\n",
       "    <tr>\n",
       "      <th>24</th>\n",
       "      <td>0.02365</td>\n",
       "      <td>0.003415</td>\n",
       "      <td>rh_G_temporal_middle_thickness_Z_predict</td>\n",
       "      <td>-2.987655</td>\n",
       "    </tr>\n",
       "    <tr>\n",
       "      <th>41</th>\n",
       "      <td>0.0</td>\n",
       "      <td>0.0</td>\n",
       "      <td>Left-Thalamus-Proper_Z_predict</td>\n",
       "      <td>9.560206</td>\n",
       "    </tr>\n",
       "    <tr>\n",
       "      <th>52</th>\n",
       "      <td>0.0</td>\n",
       "      <td>0.0</td>\n",
       "      <td>Right-Cerebellum-White-Matter_Z_predict</td>\n",
       "      <td>8.288756</td>\n",
       "    </tr>\n",
       "    <tr>\n",
       "      <th>56</th>\n",
       "      <td>0.007141</td>\n",
       "      <td>0.000916</td>\n",
       "      <td>4th-Ventricle_Z_predict</td>\n",
       "      <td>3.400171</td>\n",
       "    </tr>\n",
       "    <tr>\n",
       "      <th>66</th>\n",
       "      <td>0.0</td>\n",
       "      <td>0.0</td>\n",
       "      <td>Left-Cerebellum-White-Matter_Z_predict</td>\n",
       "      <td>8.872489</td>\n",
       "    </tr>\n",
       "    <tr>\n",
       "      <th>73</th>\n",
       "      <td>0.000002</td>\n",
       "      <td>0.0</td>\n",
       "      <td>Left-Pallidum_Z_predict</td>\n",
       "      <td>5.563787</td>\n",
       "    </tr>\n",
       "    <tr>\n",
       "      <th>82</th>\n",
       "      <td>0.0</td>\n",
       "      <td>0.0</td>\n",
       "      <td>TotalGrayVol_Z_predict</td>\n",
       "      <td>11.827074</td>\n",
       "    </tr>\n",
       "    <tr>\n",
       "      <th>93</th>\n",
       "      <td>0.0</td>\n",
       "      <td>0.0</td>\n",
       "      <td>Right-Caudate_Z_predict</td>\n",
       "      <td>6.09526</td>\n",
       "    </tr>\n",
       "    <tr>\n",
       "      <th>108</th>\n",
       "      <td>0.000041</td>\n",
       "      <td>0.000004</td>\n",
       "      <td>Right-Accumbens-area_Z_predict</td>\n",
       "      <td>4.816712</td>\n",
       "    </tr>\n",
       "    <tr>\n",
       "      <th>109</th>\n",
       "      <td>0.02742</td>\n",
       "      <td>0.004399</td>\n",
       "      <td>rh_G&amp;S_cingul-Ant_thickness_Z_predict</td>\n",
       "      <td>-2.903748</td>\n",
       "    </tr>\n",
       "    <tr>\n",
       "      <th>112</th>\n",
       "      <td>0.02461</td>\n",
       "      <td>0.003817</td>\n",
       "      <td>lh_S_collat_transv_ant_thickness_Z_predict</td>\n",
       "      <td>-2.950902</td>\n",
       "    </tr>\n",
       "    <tr>\n",
       "      <th>115</th>\n",
       "      <td>0.019604</td>\n",
       "      <td>0.002726</td>\n",
       "      <td>lh_G_front_sup_thickness_Z_predict</td>\n",
       "      <td>-3.061367</td>\n",
       "    </tr>\n",
       "    <tr>\n",
       "      <th>118</th>\n",
       "      <td>0.02461</td>\n",
       "      <td>0.003799</td>\n",
       "      <td>rh_G_front_sup_thickness_Z_predict</td>\n",
       "      <td>-2.952722</td>\n",
       "    </tr>\n",
       "    <tr>\n",
       "      <th>119</th>\n",
       "      <td>0.047083</td>\n",
       "      <td>0.008057</td>\n",
       "      <td>rh_S_occipital_ant_thickness_Z_predict</td>\n",
       "      <td>2.694945</td>\n",
       "    </tr>\n",
       "    <tr>\n",
       "      <th>126</th>\n",
       "      <td>0.0</td>\n",
       "      <td>0.0</td>\n",
       "      <td>Right-VentralDC_Z_predict</td>\n",
       "      <td>8.713231</td>\n",
       "    </tr>\n",
       "    <tr>\n",
       "      <th>127</th>\n",
       "      <td>0.0</td>\n",
       "      <td>0.0</td>\n",
       "      <td>Right-Pallidum_Z_predict</td>\n",
       "      <td>5.921569</td>\n",
       "    </tr>\n",
       "    <tr>\n",
       "      <th>129</th>\n",
       "      <td>0.0</td>\n",
       "      <td>0.0</td>\n",
       "      <td>Left-Caudate_Z_predict</td>\n",
       "      <td>5.937647</td>\n",
       "    </tr>\n",
       "    <tr>\n",
       "      <th>131</th>\n",
       "      <td>0.0</td>\n",
       "      <td>0.0</td>\n",
       "      <td>SubCortGrayVol_Z_predict</td>\n",
       "      <td>8.819072</td>\n",
       "    </tr>\n",
       "    <tr>\n",
       "      <th>133</th>\n",
       "      <td>0.0</td>\n",
       "      <td>0.0</td>\n",
       "      <td>Right-Cerebellum-Cortex_Z_predict</td>\n",
       "      <td>12.438791</td>\n",
       "    </tr>\n",
       "    <tr>\n",
       "      <th>134</th>\n",
       "      <td>0.0</td>\n",
       "      <td>0.0</td>\n",
       "      <td>Left-Cerebellum-Cortex_Z_predict</td>\n",
       "      <td>12.874252</td>\n",
       "    </tr>\n",
       "    <tr>\n",
       "      <th>140</th>\n",
       "      <td>0.007764</td>\n",
       "      <td>0.001038</td>\n",
       "      <td>Right-Amygdala_Z_predict</td>\n",
       "      <td>3.36287</td>\n",
       "    </tr>\n",
       "    <tr>\n",
       "      <th>141</th>\n",
       "      <td>0.000086</td>\n",
       "      <td>0.00001</td>\n",
       "      <td>Left-Accumbens-area_Z_predict</td>\n",
       "      <td>4.610387</td>\n",
       "    </tr>\n",
       "    <tr>\n",
       "      <th>142</th>\n",
       "      <td>0.030768</td>\n",
       "      <td>0.005101</td>\n",
       "      <td>Left-Lateral-Ventricle_Z_predict</td>\n",
       "      <td>2.853389</td>\n",
       "    </tr>\n",
       "    <tr>\n",
       "      <th>151</th>\n",
       "      <td>0.0</td>\n",
       "      <td>0.0</td>\n",
       "      <td>Left-VentralDC_Z_predict</td>\n",
       "      <td>8.989743</td>\n",
       "    </tr>\n",
       "    <tr>\n",
       "      <th>154</th>\n",
       "      <td>0.000556</td>\n",
       "      <td>0.000068</td>\n",
       "      <td>Left-Hippocampus_Z_predict</td>\n",
       "      <td>4.127457</td>\n",
       "    </tr>\n",
       "    <tr>\n",
       "      <th>170</th>\n",
       "      <td>0.0</td>\n",
       "      <td>0.0</td>\n",
       "      <td>Brain-Stem_Z_predict</td>\n",
       "      <td>8.758986</td>\n",
       "    </tr>\n",
       "    <tr>\n",
       "      <th>183</th>\n",
       "      <td>0.0</td>\n",
       "      <td>0.0</td>\n",
       "      <td>SupraTentorialVolNotVent_Z_predict</td>\n",
       "      <td>10.857534</td>\n",
       "    </tr>\n",
       "    <tr>\n",
       "      <th>186</th>\n",
       "      <td>0.0</td>\n",
       "      <td>0.0</td>\n",
       "      <td>EstimatedTotalIntraCranialVol_Z_predict</td>\n",
       "      <td>11.888138</td>\n",
       "    </tr>\n",
       "  </tbody>\n",
       "</table>\n",
       "</div>"
      ],
      "text/plain": [
       "     fdr_pval      pval                                         roi      tstat\n",
       "6         0.0       0.0             Right-Thalamus-Proper_Z_predict   9.116665\n",
       "18        0.0       0.0                 SupraTentorialVol_Z_predict  11.004137\n",
       "20    0.00003  0.000003                     Right-Putamen_Z_predict   4.897517\n",
       "23   0.000071  0.000008                      Left-Putamen_Z_predict   4.669353\n",
       "24    0.02365  0.003415    rh_G_temporal_middle_thickness_Z_predict  -2.987655\n",
       "41        0.0       0.0              Left-Thalamus-Proper_Z_predict   9.560206\n",
       "52        0.0       0.0     Right-Cerebellum-White-Matter_Z_predict   8.288756\n",
       "56   0.007141  0.000916                     4th-Ventricle_Z_predict   3.400171\n",
       "66        0.0       0.0      Left-Cerebellum-White-Matter_Z_predict   8.872489\n",
       "73   0.000002       0.0                     Left-Pallidum_Z_predict   5.563787\n",
       "82        0.0       0.0                      TotalGrayVol_Z_predict  11.827074\n",
       "93        0.0       0.0                     Right-Caudate_Z_predict    6.09526\n",
       "108  0.000041  0.000004              Right-Accumbens-area_Z_predict   4.816712\n",
       "109   0.02742  0.004399       rh_G&S_cingul-Ant_thickness_Z_predict  -2.903748\n",
       "112   0.02461  0.003817  lh_S_collat_transv_ant_thickness_Z_predict  -2.950902\n",
       "115  0.019604  0.002726          lh_G_front_sup_thickness_Z_predict  -3.061367\n",
       "118   0.02461  0.003799          rh_G_front_sup_thickness_Z_predict  -2.952722\n",
       "119  0.047083  0.008057      rh_S_occipital_ant_thickness_Z_predict   2.694945\n",
       "126       0.0       0.0                   Right-VentralDC_Z_predict   8.713231\n",
       "127       0.0       0.0                    Right-Pallidum_Z_predict   5.921569\n",
       "129       0.0       0.0                      Left-Caudate_Z_predict   5.937647\n",
       "131       0.0       0.0                    SubCortGrayVol_Z_predict   8.819072\n",
       "133       0.0       0.0           Right-Cerebellum-Cortex_Z_predict  12.438791\n",
       "134       0.0       0.0            Left-Cerebellum-Cortex_Z_predict  12.874252\n",
       "140  0.007764  0.001038                    Right-Amygdala_Z_predict    3.36287\n",
       "141  0.000086   0.00001               Left-Accumbens-area_Z_predict   4.610387\n",
       "142  0.030768  0.005101            Left-Lateral-Ventricle_Z_predict   2.853389\n",
       "151       0.0       0.0                    Left-VentralDC_Z_predict   8.989743\n",
       "154  0.000556  0.000068                  Left-Hippocampus_Z_predict   4.127457\n",
       "170       0.0       0.0                        Brain-Stem_Z_predict   8.758986\n",
       "183       0.0       0.0          SupraTentorialVolNotVent_Z_predict  10.857534\n",
       "186       0.0       0.0     EstimatedTotalIntraCranialVol_Z_predict  11.888138"
      ]
     },
     "execution_count": 183,
     "metadata": {},
     "output_type": "execute_result"
    }
   ],
   "source": [
    "w_a_z_sig_diff"
   ]
  },
  {
   "cell_type": "code",
   "execution_count": 184,
   "id": "d376f1ed-c989-415c-8490-8f01fa9fe2c8",
   "metadata": {
    "colab": {
     "base_uri": "https://localhost:8080/"
    },
    "id": "170sEtkynMUE",
    "outputId": "7b601d8d-c73e-44ba-a523-4eddb6dea46b"
   },
   "outputs": [
    {
     "data": {
      "text/plain": [
       "(32, 4)"
      ]
     },
     "execution_count": 184,
     "metadata": {},
     "output_type": "execute_result"
    }
   ],
   "source": [
    "w_a_z_sig_diff.shape"
   ]
  },
  {
   "cell_type": "code",
   "execution_count": 185,
   "id": "a3a31f50-1c82-46cc-9782-bfdd82abe14f",
   "metadata": {
    "tags": []
   },
   "outputs": [
    {
     "name": "stderr",
     "output_type": "stream",
     "text": [
      "/var/folders/xx/1xs7sc795_nf7k125153b6qh0000gn/T/ipykernel_6609/1638613532.py:1: SettingWithCopyWarning: \n",
      "A value is trying to be set on a copy of a slice from a DataFrame.\n",
      "Try using .loc[row_indexer,col_indexer] = value instead\n",
      "\n",
      "See the caveats in the documentation: https://pandas.pydata.org/pandas-docs/stable/user_guide/indexing.html#returning-a-view-versus-a-copy\n",
      "  w_a_z_sig_diff['roi'] = w_a_z_sig_diff['roi'].str.replace('_thickness_Z_predict', '', regex=True)\n",
      "/var/folders/xx/1xs7sc795_nf7k125153b6qh0000gn/T/ipykernel_6609/1638613532.py:2: SettingWithCopyWarning: \n",
      "A value is trying to be set on a copy of a slice from a DataFrame.\n",
      "Try using .loc[row_indexer,col_indexer] = value instead\n",
      "\n",
      "See the caveats in the documentation: https://pandas.pydata.org/pandas-docs/stable/user_guide/indexing.html#returning-a-view-versus-a-copy\n",
      "  w_a_z_sig_diff['roi'] = w_a_z_sig_diff['roi'].str.replace('G&S', 'G_and_S', regex=True)\n"
     ]
    }
   ],
   "source": [
    "w_a_z_sig_diff['roi'] = w_a_z_sig_diff['roi'].str.replace('_thickness_Z_predict', '', regex=True)\n",
    "w_a_z_sig_diff['roi'] = w_a_z_sig_diff['roi'].str.replace('G&S', 'G_and_S', regex=True)"
   ]
  },
  {
   "cell_type": "code",
   "execution_count": 186,
   "id": "ee5a7ac3-94b4-42ca-b240-9081e10caa4c",
   "metadata": {
    "tags": []
   },
   "outputs": [
    {
     "name": "stderr",
     "output_type": "stream",
     "text": [
      "/opt/anaconda3/envs/braincharts/lib/python3.9/site-packages/pandas/core/frame.py:3641: SettingWithCopyWarning: \n",
      "A value is trying to be set on a copy of a slice from a DataFrame.\n",
      "Try using .loc[row_indexer,col_indexer] = value instead\n",
      "\n",
      "See the caveats in the documentation: https://pandas.pydata.org/pandas-docs/stable/user_guide/indexing.html#returning-a-view-versus-a-copy\n",
      "  self[k1] = value[k2]\n"
     ]
    }
   ],
   "source": [
    "w_a_z_sig_diff[['temp1', 'temp2']] = w_a_z_sig_diff['roi'].str.split(pat=\"_\", n=1, expand=True)"
   ]
  },
  {
   "cell_type": "code",
   "execution_count": 187,
   "id": "cc6bc425-d53d-4f9b-babf-0967925f1d49",
   "metadata": {
    "tags": []
   },
   "outputs": [
    {
     "name": "stderr",
     "output_type": "stream",
     "text": [
      "/opt/anaconda3/envs/braincharts/lib/python3.9/site-packages/pandas/core/generic.py:5516: SettingWithCopyWarning: \n",
      "A value is trying to be set on a copy of a slice from a DataFrame.\n",
      "Try using .loc[row_indexer,col_indexer] = value instead\n",
      "\n",
      "See the caveats in the documentation: https://pandas.pydata.org/pandas-docs/stable/user_guide/indexing.html#returning-a-view-versus-a-copy\n",
      "  self[name] = value\n"
     ]
    }
   ],
   "source": [
    "w_a_z_sig_diff.temp1 = w_a_z_sig_diff.temp1.apply(lambda x: 'left' if 'lh' in x else x)"
   ]
  },
  {
   "cell_type": "code",
   "execution_count": 188,
   "id": "970bef17-86c5-44d8-98a5-f4161821445b",
   "metadata": {},
   "outputs": [],
   "source": [
    "w_a_z_sig_diff.temp1 = w_a_z_sig_diff.temp1.apply(lambda x: 'right' if 'rh' in x else x)"
   ]
  },
  {
   "cell_type": "code",
   "execution_count": 189,
   "id": "36142c83-8275-480e-9a6b-5b9287d27eca",
   "metadata": {},
   "outputs": [],
   "source": [
    "df = w_a_z_sig_diff[w_a_z_sig_diff[\"temp1\"].str.contains('left|right')]"
   ]
  },
  {
   "cell_type": "code",
   "execution_count": 190,
   "id": "c1cf3a58-ba6f-45c9-b96d-0c4f1c644021",
   "metadata": {},
   "outputs": [
    {
     "name": "stderr",
     "output_type": "stream",
     "text": [
      "/var/folders/xx/1xs7sc795_nf7k125153b6qh0000gn/T/ipykernel_6609/995407583.py:1: SettingWithCopyWarning: \n",
      "A value is trying to be set on a copy of a slice from a DataFrame.\n",
      "Try using .loc[row_indexer,col_indexer] = value instead\n",
      "\n",
      "See the caveats in the documentation: https://pandas.pydata.org/pandas-docs/stable/user_guide/indexing.html#returning-a-view-versus-a-copy\n",
      "  df['hemi'] = df['temp1']\n"
     ]
    }
   ],
   "source": [
    "df['hemi'] = df['temp1']"
   ]
  },
  {
   "cell_type": "code",
   "execution_count": 191,
   "id": "9d18eb4c-7223-4809-8f7d-dc3848323cfa",
   "metadata": {},
   "outputs": [
    {
     "name": "stderr",
     "output_type": "stream",
     "text": [
      "/var/folders/xx/1xs7sc795_nf7k125153b6qh0000gn/T/ipykernel_6609/3909763920.py:1: SettingWithCopyWarning: \n",
      "A value is trying to be set on a copy of a slice from a DataFrame.\n",
      "Try using .loc[row_indexer,col_indexer] = value instead\n",
      "\n",
      "See the caveats in the documentation: https://pandas.pydata.org/pandas-docs/stable/user_guide/indexing.html#returning-a-view-versus-a-copy\n",
      "  df['ROI'] = df['temp2']\n"
     ]
    }
   ],
   "source": [
    "df['ROI'] = df['temp2']"
   ]
  },
  {
   "cell_type": "code",
   "execution_count": 192,
   "id": "9a85b90b-d4e5-4f6e-ba40-d75f6c01f522",
   "metadata": {},
   "outputs": [
    {
     "data": {
      "text/plain": [
       "Index(['fdr_pval', 'pval', 'roi', 'tstat', 'temp1', 'temp2', 'hemi', 'ROI'], dtype='object')"
      ]
     },
     "execution_count": 192,
     "metadata": {},
     "output_type": "execute_result"
    }
   ],
   "source": [
    "df.columns"
   ]
  },
  {
   "cell_type": "code",
   "execution_count": 193,
   "id": "119bdc0d-6414-4412-905e-507a79be5802",
   "metadata": {},
   "outputs": [],
   "source": [
    "df = df[['tstat', 'fdr_pval', 'hemi', 'ROI']]"
   ]
  },
  {
   "cell_type": "code",
   "execution_count": 194,
   "id": "efcfcb02-b00e-44ab-831b-f7a0e3cccd34",
   "metadata": {},
   "outputs": [],
   "source": [
    "w_a_z_sig_diff = df"
   ]
  },
  {
   "cell_type": "code",
   "execution_count": 195,
   "id": "1d4d8967-bb55-4622-9eb5-4cd723295660",
   "metadata": {
    "tags": []
   },
   "outputs": [],
   "source": [
    "w_a_z_sig_diff_l = w_a_z_sig_diff.query('hemi == \"left\"')\n",
    "w_a_z_sig_diff_r = w_a_z_sig_diff.query('hemi == \"right\"')"
   ]
  },
  {
   "cell_type": "code",
   "execution_count": 196,
   "id": "277db672-9484-420e-b89d-8448a083aa19",
   "metadata": {},
   "outputs": [],
   "source": [
    "nl_w_a_z_sig_diff_l = pd.merge(nl, w_a_z_sig_diff_l, on='ROI', how='left')\n",
    "nl_w_a_z_sig_diff_r = pd.merge(nl, w_a_z_sig_diff_r, on='ROI', how='left')"
   ]
  },
  {
   "cell_type": "code",
   "execution_count": 197,
   "id": "7189e650-cde9-4782-b145-0ad984142235",
   "metadata": {
    "tags": []
   },
   "outputs": [],
   "source": [
    "nl_w_a_z_sig_diff_l['tstat'] = nl_w_a_z_sig_diff_l['tstat'].fillna(0)\n",
    "nl_w_a_z_sig_diff_r['tstat'] = nl_w_a_z_sig_diff_r['tstat'].fillna(0)"
   ]
  },
  {
   "cell_type": "code",
   "execution_count": 198,
   "id": "18b87e50-02df-44f9-a292-e0b27f3223e3",
   "metadata": {
    "tags": []
   },
   "outputs": [],
   "source": [
    "nl_w_a_z_sig_diff_l = nl_w_a_z_sig_diff_l['tstat'].to_numpy()\n",
    "nl_w_a_z_sig_diff_r = nl_w_a_z_sig_diff_r['tstat'].to_numpy()"
   ]
  },
  {
   "cell_type": "code",
   "execution_count": 199,
   "id": "14d59ae5-80dc-46e9-8bb6-1575dcf20609",
   "metadata": {},
   "outputs": [],
   "source": [
    "a_list = list(range(1, 76))\n",
    "parcellation_l = atlas_l\n",
    "for i, j in enumerate(a_list):\n",
    "    parcellation_l = np.where(parcellation_l == j, nl_w_a_z_sig_diff_l[i], parcellation_l)"
   ]
  },
  {
   "cell_type": "code",
   "execution_count": 200,
   "id": "35b89acd-1cb6-4c13-9d0c-957f926236d0",
   "metadata": {},
   "outputs": [],
   "source": [
    "a_list = list(range(1, 76))\n",
    "parcellation_r = atlas_r\n",
    "for i, j in enumerate(a_list):\n",
    "    parcellation_r = np.where(parcellation_r == j, nl_w_a_z_sig_diff_r[i], parcellation_r)"
   ]
  },
  {
   "cell_type": "code",
   "execution_count": 201,
   "id": "2790814c-8dc7-4d1f-9e50-aa7bd76e952d",
   "metadata": {},
   "outputs": [],
   "source": [
    "# Positive value == whites have higher error\n",
    "# Negative value == blacks have higher error\n",
    "plotting.plot_surf_roi(fsaverage['infl_left'], roi_map=parcellation_l, hemi='left', cmap='plasma', bg_map=fsaverage['sulc_left'], vmin=-4, vmax=8, view='lateral', output_file='/Users/saigerutherford/Desktop/ukb_pretrain_WvA_Z_l.png');"
   ]
  },
  {
   "cell_type": "code",
   "execution_count": 202,
   "id": "e133bc05-fe34-4e87-9801-264daf9a8d36",
   "metadata": {},
   "outputs": [],
   "source": [
    "plotting.plot_surf_roi(fsaverage['infl_right'], roi_map=parcellation_r, hemi='right', cmap='plasma', bg_map=fsaverage['sulc_right'], vmin=-4, vmax=8, view='lateral', output_file='/Users/saigerutherford/Desktop/ukb_pretrain_WvA_Z_r.png');"
   ]
  },
  {
   "cell_type": "markdown",
   "id": "ba90023a-6a5c-4475-810e-3eb5cccc9d7b",
   "metadata": {},
   "source": [
    "### T-Tests on group mean and variance (across all ROIs)"
   ]
  },
  {
   "cell_type": "markdown",
   "id": "972f5d07-85e5-43f0-951e-89d39892bf56",
   "metadata": {},
   "source": [
    "### HCP race not modeled"
   ]
  },
  {
   "cell_type": "code",
   "execution_count": 62,
   "id": "d81be297-6b0d-4f3f-8c53-6eb453e94fe1",
   "metadata": {},
   "outputs": [],
   "source": [
    "Z_df = pd.read_csv('/Users/saigerutherford/Documents/Work/drive-download-20220731T221458Z-001/braincharts/models/hcp_race_not_modeled/deviation_scores.csv')"
   ]
  },
  {
   "cell_type": "code",
   "execution_count": 63,
   "id": "8fd5fa04-e2ea-46a4-913f-f9b8fe9b65b9",
   "metadata": {
    "executionInfo": {
     "elapsed": 257,
     "status": "ok",
     "timestamp": 1687449325721,
     "user": {
      "displayName": "Saige Rutherford",
      "userId": "09510631870783055479"
     },
     "user_tz": -120
    },
    "id": "5649160f-708d-46ed-9760-29f9c3fb8b18",
    "jupyter": {
     "source_hidden": true
    },
    "tags": []
   },
   "outputs": [],
   "source": [
    "z_long = Z_df.melt(id_vars=['sub_id','Race'],\n",
    "                  value_vars=['rh_G_Ins_lg&S_cent_ins_thickness_Z_estimate',\n",
    "                             'rh_G&S_cingul-Mid-Post_thickness_Z_estimate',\n",
    "                             'rh_G&S_subcentral_thickness_Z_estimate',\n",
    "                             'lh_G_temporal_middle_thickness_Z_estimate',\n",
    "                             'lh_S_temporal_transverse_thickness_Z_estimate',\n",
    "                             'rh_G_subcallosal_thickness_Z_estimate',\n",
    "                             'rh_S_temporal_transverse_thickness_Z_estimate',\n",
    "                             'rh_G_temp_sup-Lateral_thickness_Z_estimate',\n",
    "                             'rh_S_subparietal_thickness_Z_estimate',\n",
    "                             'lh_Pole_temporal_thickness_Z_estimate',\n",
    "                             'rh_G_precentral_thickness_Z_estimate',\n",
    "                             'lh_G_oc-temp_lat-fusifor_thickness_Z_estimate',\n",
    "                             'rh_S_circular_insula_inf_thickness_Z_estimate',\n",
    "                             'lh_G_cingul-Post-ventral_thickness_Z_estimate',\n",
    "                             'lh_G_front_inf-Triangul_thickness_Z_estimate',\n",
    "                             'lh_S_cingul-Marginalis_thickness_Z_estimate',\n",
    "                             'rh_Lat_Fis-ant-Vertical_thickness_Z_estimate',\n",
    "                             'lh_G&S_paracentral_thickness_Z_estimate',\n",
    "                             'rh_S_postcentral_thickness_Z_estimate',\n",
    "                             'lh_S_circular_insula_inf_thickness_Z_estimate',\n",
    "                             'rh_G_oc-temp_lat-fusifor_thickness_Z_estimate',\n",
    "                             'rh_G_cingul-Post-ventral_thickness_Z_estimate',\n",
    "                             'lh_G&S_transv_frontopol_thickness_Z_estimate',\n",
    "                             'rh_G_temp_sup-G_T_transv_thickness_Z_estimate',\n",
    "                             'rh_S_oc-temp_med&Lingual_thickness_Z_estimate',\n",
    "                             'lh_Lat_Fis-post_thickness_Z_estimate',\n",
    "                             'lh_S_postcentral_thickness_Z_estimate',\n",
    "                             'rh_G_rectus_thickness_Z_estimate',\n",
    "                             'lh_G_temp_sup-G_T_transv_thickness_Z_estimate',\n",
    "                             'rh_Pole_temporal_thickness_Z_estimate',\n",
    "                             'lh_S_subparietal_thickness_Z_estimate',\n",
    "                             'rh_G_cingul-Post-dorsal_thickness_Z_estimate',\n",
    "                             'lh_S_oc-temp_med&Lingual_thickness_Z_estimate',\n",
    "                             'rh_S_interm_prim-Jensen_thickness_Z_estimate',\n",
    "                             'lh_G&S_subcentral_thickness_Z_estimate',\n",
    "                             'rh_S_oc_sup&transversal_thickness_Z_estimate',\n",
    "                             'lh_G_subcallosal_thickness_Z_estimate',\n",
    "                             'rh_S_orbital_lateral_thickness_Z_estimate',\n",
    "                             'lh_G_insular_short_thickness_Z_estimate',\n",
    "                             'rh_S_collat_transv_post_thickness_Z_estimate',\n",
    "                             'lh_S_occipital_ant_thickness_Z_estimate',\n",
    "                             'rh_S_orbital_med-olfact_thickness_Z_estimate',\n",
    "                             'lh_G_front_sup_thickness_Z_estimate',\n",
    "                             'lh_S_precentral-inf-part_thickness_Z_estimate',\n",
    "                             'lh_G_precentral_thickness_Z_estimate',\n",
    "                             'rh_G_temporal_middle_thickness_Z_estimate',\n",
    "                             'lh_S_temporal_inf_thickness_Z_estimate',\n",
    "                             'rh_G_parietal_sup_thickness_Z_estimate',\n",
    "                             'lh_S_collat_transv_ant_thickness_Z_estimate',\n",
    "                             'rh_G_front_sup_thickness_Z_estimate',\n",
    "                             'rh_S_precentral-inf-part_thickness_Z_estimate',\n",
    "                             'rh_G_pariet_inf-Angular_thickness_Z_estimate',\n",
    "                             'lh_S_calcarine_thickness_Z_estimate',\n",
    "                             'lh_S_orbital-H_Shaped_thickness_Z_estimate',\n",
    "                             'rh_G_front_inf-Opercular_thickness_Z_estimate',\n",
    "                             'rh_G_occipital_middle_thickness_Z_estimate',\n",
    "                             'lh_G_oc-temp_med-Parahip_thickness_Z_estimate',\n",
    "                             'rh_G_orbital_thickness_Z_estimate',\n",
    "                             'lh_S_front_inf_thickness_Z_estimate',\n",
    "                             'rh_S_calcarine_thickness_Z_estimate',\n",
    "                             'rh_G_occipital_sup_thickness_Z_estimate',\n",
    "                             'lh_G_front_inf-Opercular_thickness_Z_estimate',\n",
    "                             'lh_G_front_middle_thickness_Z_estimate',\n",
    "                             'lh_S_central_thickness_Z_estimate',\n",
    "                             'rh_S_front_inf_thickness_Z_estimate',\n",
    "                             'rh_G_oc-temp_med-Parahip_thickness_Z_estimate',\n",
    "                             'lh_Lat_Fis-ant-Horizont_thickness_Z_estimate',\n",
    "                             'rh_G_front_inf-Orbital_thickness_Z_estimate',\n",
    "                             'lh_G_orbital_thickness_Z_estimate',\n",
    "                             'lh_S_oc_middle&Lunatus_thickness_Z_estimate',\n",
    "                             'rh_S_central_thickness_Z_estimate',\n",
    "                             'lh_G_cuneus_thickness_Z_estimate',\n",
    "                             'rh_G_front_middle_thickness_Z_estimate',\n",
    "                             'rh_S_precentral-sup-part_thickness_Z_estimate',\n",
    "                             'rh_Lat_Fis-post_thickness_Z_estimate',\n",
    "                             'lh_G_temp_sup-Plan_tempo_thickness_Z_estimate',\n",
    "                             'lh_G_parietal_sup_thickness_Z_estimate',\n",
    "                             'rh_S_temporal_inf_thickness_Z_estimate',\n",
    "                             'lh_S_circular_insula_ant_thickness_Z_estimate',\n",
    "                             'lh_S_precentral-sup-part_thickness_Z_estimate',\n",
    "                             'lh_S_orbital_lateral_thickness_Z_estimate',\n",
    "                             'lh_S_parieto_occipital_thickness_Z_estimate',\n",
    "                             'rh_G&S_cingul-Mid-Ant_thickness_Z_estimate',\n",
    "                             'rh_G_temp_sup-Plan_tempo_thickness_Z_estimate',\n",
    "                             'rh_S_circular_insula_ant_thickness_Z_estimate',\n",
    "                             'rh_MeanThickness_thickness_Z_estimate',\n",
    "                             'rh_S_orbital-H_Shaped_thickness_Z_estimate',\n",
    "                             'lh_G_occipital_middle_thickness_Z_estimate',\n",
    "                             'lh_S_circular_insula_sup_thickness_Z_estimate',\n",
    "                             'lh_G_pariet_inf-Angular_thickness_Z_estimate',\n",
    "                             'rh_G&S_paracentral_thickness_Z_estimate',\n",
    "                             'lh_G_temp_sup-Plan_polar_thickness_Z_estimate',\n",
    "                             'rh_S_collat_transv_ant_thickness_Z_estimate',\n",
    "                             'rh_S_circular_insula_sup_thickness_Z_estimate',\n",
    "                             'rh_G_temp_sup-Plan_polar_thickness_Z_estimate',\n",
    "                             'rh_Pole_occipital_thickness_Z_estimate',\n",
    "                             'lh_G_pariet_inf-Supramar_thickness_Z_estimate',\n",
    "                             'lh_G&S_frontomargin_thickness_Z_estimate',\n",
    "                             'rh_S_pericallosal_thickness_Z_estimate',\n",
    "                             'rh_G_pariet_inf-Supramar_thickness_Z_estimate',\n",
    "                             'rh_S_suborbital_thickness_Z_estimate',\n",
    "                             'lh_S_pericallosal_thickness_Z_estimate',\n",
    "                             'rh_S_occipital_ant_thickness_Z_estimate',\n",
    "                             'lh_Pole_occipital_thickness_Z_estimate',\n",
    "                             'rh_G_insular_short_thickness_Z_estimate',\n",
    "                             'lh_G_front_inf-Orbital_thickness_Z_estimate',\n",
    "                             'rh_G_cuneus_thickness_Z_estimate',\n",
    "                             'rh_S_oc_middle&Lunatus_thickness_Z_estimate',\n",
    "                             'lh_G&S_cingul-Mid-Ant_thickness_Z_estimate',\n",
    "                             'rh_G&S_occipital_inf_thickness_Z_estimate',\n",
    "                             'rh_Lat_Fis-ant-Horizont_thickness_Z_estimate',\n",
    "                             'rh_S_parieto_occipital_thickness_Z_estimate',\n",
    "                             'lh_MeanThickness_thickness_Z_estimate',\n",
    "                             'rh_G_precuneus_thickness_Z_estimate',\n",
    "                             'lh_G_temp_sup-Lateral_thickness_Z_estimate',\n",
    "                             'lh_S_front_middle_thickness_Z_estimate',\n",
    "                             'lh_G_Ins_lg&S_cent_ins_thickness_Z_estimate',\n",
    "                             'lh_G_occipital_sup_thickness_Z_estimate',\n",
    "                             'lh_G_postcentral_thickness_Z_estimate',\n",
    "                             'rh_S_front_sup_thickness_Z_estimate',\n",
    "                             'lh_G&S_cingul-Mid-Post_thickness_Z_estimate',\n",
    "                             'lh_G_precuneus_thickness_Z_estimate',\n",
    "                             'lh_G&S_cingul-Ant_thickness_Z_estimate',\n",
    "                             'lh_S_front_sup_thickness_Z_estimate',\n",
    "                             'lh_S_oc-temp_lat_thickness_Z_estimate',\n",
    "                             'rh_G&S_frontomargin_thickness_Z_estimate',\n",
    "                             'lh_Lat_Fis-ant-Vertical_thickness_Z_estimate',\n",
    "                             'lh_G_temporal_inf_thickness_Z_estimate',\n",
    "                             'rh_G_front_inf-Triangul_thickness_Z_estimate',\n",
    "                             'lh_S_temporal_sup_thickness_Z_estimate',\n",
    "                             'rh_S_cingul-Marginalis_thickness_Z_estimate',\n",
    "                             'lh_G_rectus_thickness_Z_estimate',\n",
    "                             'lh_S_interm_prim-Jensen_thickness_Z_estimate',\n",
    "                             'lh_S_intrapariet&P_trans_thickness_Z_estimate',\n",
    "                             'lh_G_cingul-Post-dorsal_thickness_Z_estimate',\n",
    "                             'rh_S_intrapariet&P_trans_thickness_Z_estimate',\n",
    "                             'rh_G_temporal_inf_thickness_Z_estimate',\n",
    "                             'rh_G&S_transv_frontopol_thickness_Z_estimate',\n",
    "                             'lh_G&S_occipital_inf_thickness_Z_estimate',\n",
    "                             'rh_S_temporal_sup_thickness_Z_estimate',\n",
    "                             'rh_S_oc-temp_lat_thickness_Z_estimate',\n",
    "                             'rh_S_front_middle_thickness_Z_estimate',\n",
    "                             'lh_S_orbital_med-olfact_thickness_Z_estimate',\n",
    "                             'lh_G_oc-temp_med-Lingual_thickness_Z_estimate',\n",
    "                             'lh_S_collat_transv_post_thickness_Z_estimate',\n",
    "                             'lh_S_suborbital_thickness_Z_estimate',\n",
    "                             'rh_G&S_cingul-Ant_thickness_Z_estimate',\n",
    "                             'rh_G_postcentral_thickness_Z_estimate',\n",
    "                             'rh_G_oc-temp_med-Lingual_thickness_Z_estimate',\n",
    "                             'lh_S_oc_sup&transversal_thickness_Z_estimate'])"
   ]
  },
  {
   "cell_type": "code",
   "execution_count": 64,
   "id": "1f562628-58ca-4c15-8d37-f80a8ae74361",
   "metadata": {
    "tags": []
   },
   "outputs": [],
   "source": [
    "z_long_white = z_long.query('Race == \"White\"')\n",
    "z_long_black = z_long.query('Race == \"Black\"')\n",
    "z_long_asian = z_long.query('Race == \"Asian\"')"
   ]
  },
  {
   "cell_type": "code",
   "execution_count": 65,
   "id": "063e2427-9b15-4af0-89af-27a0873982fd",
   "metadata": {},
   "outputs": [],
   "source": [
    "z_white = Z_df.query('Race == \"White\"')\n",
    "z_black = Z_df.query('Race == \"Black\"')\n",
    "z_asian = Z_df.query('Race == \"Asian\"')"
   ]
  },
  {
   "cell_type": "code",
   "execution_count": 207,
   "id": "b88c890d-76ba-41c7-b9a7-9d6b39a98983",
   "metadata": {},
   "outputs": [],
   "source": [
    "z_long_white2 = z_long_white.groupby(by='sub_id',as_index=False).mean()"
   ]
  },
  {
   "cell_type": "code",
   "execution_count": 208,
   "id": "a8b3382a-5bb8-4d25-b3ea-4f17170d9f23",
   "metadata": {},
   "outputs": [],
   "source": [
    "z_long_black2 = z_long_black.groupby(by='sub_id',as_index=False).mean()"
   ]
  },
  {
   "cell_type": "code",
   "execution_count": 209,
   "id": "ccf0c509-6f59-4e71-9635-970dbbeb6282",
   "metadata": {},
   "outputs": [],
   "source": [
    "z_long_asian2 = z_long_asian.groupby(by='sub_id',as_index=False).mean()"
   ]
  },
  {
   "cell_type": "code",
   "execution_count": 210,
   "id": "603a7387-62c7-4d53-9bb7-e36c5b37f361",
   "metadata": {},
   "outputs": [
    {
     "data": {
      "text/plain": [
       "Ttest_indResult(statistic=4.002641694731504, pvalue=7.905770366591927e-05)"
      ]
     },
     "execution_count": 210,
     "metadata": {},
     "output_type": "execute_result"
    }
   ],
   "source": [
    "ttest_ind(z_long_white2['value'], z_long_black2['value'])"
   ]
  },
  {
   "cell_type": "code",
   "execution_count": 211,
   "id": "d50b264e-5094-4de9-bc59-8085bbe4d84e",
   "metadata": {},
   "outputs": [
    {
     "data": {
      "text/plain": [
       "Ttest_indResult(statistic=4.330925855664585, pvalue=2.2732210211590266e-05)"
      ]
     },
     "execution_count": 211,
     "metadata": {},
     "output_type": "execute_result"
    }
   ],
   "source": [
    "ttest_ind(z_long_white2['value'], z_long_asian2['value'])"
   ]
  },
  {
   "cell_type": "code",
   "execution_count": 212,
   "id": "8c327666-b92f-4175-8693-75c0fbb6eb24",
   "metadata": {},
   "outputs": [
    {
     "data": {
      "text/plain": [
       "Ttest_indResult(statistic=1.208201928306692, pvalue=0.22851174684797573)"
      ]
     },
     "execution_count": 212,
     "metadata": {},
     "output_type": "execute_result"
    }
   ],
   "source": [
    "ttest_ind(z_long_black2['value'], z_long_asian2['value'])"
   ]
  },
  {
   "cell_type": "markdown",
   "id": "1fe22748-ac73-4856-a44d-0c17d71d2194",
   "metadata": {
    "id": "AiimUDe6nMUD"
   },
   "source": [
    "### T-Tests on individual ROIs (FDR corrected)"
   ]
  },
  {
   "cell_type": "markdown",
   "id": "2b6c7113-b873-4513-86c5-2cfe19550e6d",
   "metadata": {},
   "source": [
    "### HCP race not modeled"
   ]
  },
  {
   "cell_type": "code",
   "execution_count": 213,
   "id": "04c0cbe7-3d44-4849-ad11-156f7558d074",
   "metadata": {
    "id": "ssVXAgqGnMUD"
   },
   "outputs": [],
   "source": [
    "w_deviations = z_white.loc[:, z_white.columns.str.contains('Z_estimate')]"
   ]
  },
  {
   "cell_type": "code",
   "execution_count": 214,
   "id": "88b48f26-e674-4812-a237-52e65678892d",
   "metadata": {
    "id": "lqtHyKrrnMUD"
   },
   "outputs": [],
   "source": [
    "b_deviations = z_black.loc[:, z_black.columns.str.contains('Z_estimate')]"
   ]
  },
  {
   "cell_type": "code",
   "execution_count": 215,
   "id": "1a7089de-3b05-4d08-9c89-5ea3f49c95e0",
   "metadata": {
    "id": "lqtHyKrrnMUD"
   },
   "outputs": [],
   "source": [
    "a_deviations = z_asian.loc[:, z_asian.columns.str.contains('Z_estimate')]"
   ]
  },
  {
   "cell_type": "code",
   "execution_count": 216,
   "id": "d94866bd-6b9c-416c-8ded-28696cedf979",
   "metadata": {
    "id": "BCJpEI8NnMUD"
   },
   "outputs": [],
   "source": [
    "z_cols = w_deviations.columns"
   ]
  },
  {
   "cell_type": "code",
   "execution_count": 217,
   "id": "36d44f67-2625-4f99-af95-b5bae485f2f3",
   "metadata": {},
   "outputs": [
    {
     "data": {
      "text/plain": [
       "150"
      ]
     },
     "execution_count": 217,
     "metadata": {},
     "output_type": "execute_result"
    }
   ],
   "source": [
    "len(z_cols)"
   ]
  },
  {
   "cell_type": "code",
   "execution_count": 218,
   "id": "a45e0971-4656-44b3-b644-e33a5bd41009",
   "metadata": {
    "id": "VdQgUo29nMUD"
   },
   "outputs": [],
   "source": [
    "w_b_pvals_z = pd.DataFrame(columns={'roi','pval', 'tstat','fdr_pval'})\n",
    "for index, column in enumerate(z_cols):\n",
    "    test = ttest_ind(w_deviations[column], b_deviations[column], equal_var=False)\n",
    "    w_b_pvals_z.loc[index, 'pval'] = test.pvalue\n",
    "    w_b_pvals_z.loc[index, 'tstat'] = test.statistic\n",
    "    w_b_pvals_z.loc[index, 'roi'] = column"
   ]
  },
  {
   "cell_type": "code",
   "execution_count": 219,
   "id": "e2d0b00d-a8a3-4eab-bda0-040d298a42d9",
   "metadata": {
    "id": "n8JfELPdnMUE"
   },
   "outputs": [],
   "source": [
    "w_b_fdr_z = multitest.fdrcorrection(w_b_pvals_z['pval'], alpha=0.05, method='indep', is_sorted=False)"
   ]
  },
  {
   "cell_type": "code",
   "execution_count": 220,
   "id": "ab8c723a-887b-4c70-bfc7-1081a610b726",
   "metadata": {
    "id": "K5panqSGnMUE"
   },
   "outputs": [],
   "source": [
    "w_b_pvals_z['fdr_pval'] = w_b_fdr_z[1]"
   ]
  },
  {
   "cell_type": "code",
   "execution_count": 221,
   "id": "b0a1e2d6-8f72-49ce-9646-785bd3e737c9",
   "metadata": {
    "id": "cjZ8HZMYnMUE"
   },
   "outputs": [],
   "source": [
    "w_b_z_sig_diff = w_b_pvals_z.query('fdr_pval < 0.05')"
   ]
  },
  {
   "cell_type": "code",
   "execution_count": 222,
   "id": "b6d81c17-22a2-47c6-92ac-d9373a1f0653",
   "metadata": {
    "colab": {
     "base_uri": "https://localhost:8080/",
     "height": 423
    },
    "id": "F01JkqAwnMUE",
    "outputId": "a117d7cf-dd4f-423a-e23b-66fd060deadd",
    "tags": []
   },
   "outputs": [
    {
     "data": {
      "text/html": [
       "<div>\n",
       "<style scoped>\n",
       "    .dataframe tbody tr th:only-of-type {\n",
       "        vertical-align: middle;\n",
       "    }\n",
       "\n",
       "    .dataframe tbody tr th {\n",
       "        vertical-align: top;\n",
       "    }\n",
       "\n",
       "    .dataframe thead th {\n",
       "        text-align: right;\n",
       "    }\n",
       "</style>\n",
       "<table border=\"1\" class=\"dataframe\">\n",
       "  <thead>\n",
       "    <tr style=\"text-align: right;\">\n",
       "      <th></th>\n",
       "      <th>fdr_pval</th>\n",
       "      <th>pval</th>\n",
       "      <th>roi</th>\n",
       "      <th>tstat</th>\n",
       "    </tr>\n",
       "  </thead>\n",
       "  <tbody>\n",
       "    <tr>\n",
       "      <th>2</th>\n",
       "      <td>0.000011</td>\n",
       "      <td>0.000001</td>\n",
       "      <td>rh_G&amp;S_subcentral_thickness_Z_estimate</td>\n",
       "      <td>4.932561</td>\n",
       "    </tr>\n",
       "    <tr>\n",
       "      <th>3</th>\n",
       "      <td>0.000243</td>\n",
       "      <td>0.000068</td>\n",
       "      <td>lh_G_temporal_middle_thickness_Z_estimate</td>\n",
       "      <td>4.039648</td>\n",
       "    </tr>\n",
       "    <tr>\n",
       "      <th>5</th>\n",
       "      <td>0.041352</td>\n",
       "      <td>0.020952</td>\n",
       "      <td>rh_G_subcallosal_thickness_Z_estimate</td>\n",
       "      <td>-2.322235</td>\n",
       "    </tr>\n",
       "    <tr>\n",
       "      <th>6</th>\n",
       "      <td>0.00012</td>\n",
       "      <td>0.00003</td>\n",
       "      <td>rh_S_temporal_transverse_thickness_Z_estimate</td>\n",
       "      <td>4.24058</td>\n",
       "    </tr>\n",
       "    <tr>\n",
       "      <th>7</th>\n",
       "      <td>0.004891</td>\n",
       "      <td>0.002022</td>\n",
       "      <td>rh_G_temp_sup-Lateral_thickness_Z_estimate</td>\n",
       "      <td>3.116774</td>\n",
       "    </tr>\n",
       "    <tr>\n",
       "      <th>...</th>\n",
       "      <td>...</td>\n",
       "      <td>...</td>\n",
       "      <td>...</td>\n",
       "      <td>...</td>\n",
       "    </tr>\n",
       "    <tr>\n",
       "      <th>140</th>\n",
       "      <td>0.000809</td>\n",
       "      <td>0.000264</td>\n",
       "      <td>rh_S_oc-temp_lat_thickness_Z_estimate</td>\n",
       "      <td>3.692475</td>\n",
       "    </tr>\n",
       "    <tr>\n",
       "      <th>143</th>\n",
       "      <td>0.0</td>\n",
       "      <td>0.0</td>\n",
       "      <td>lh_G_oc-temp_med-Lingual_thickness_Z_estimate</td>\n",
       "      <td>7.737037</td>\n",
       "    </tr>\n",
       "    <tr>\n",
       "      <th>147</th>\n",
       "      <td>0.001513</td>\n",
       "      <td>0.000545</td>\n",
       "      <td>rh_G_postcentral_thickness_Z_estimate</td>\n",
       "      <td>3.498907</td>\n",
       "    </tr>\n",
       "    <tr>\n",
       "      <th>148</th>\n",
       "      <td>0.0</td>\n",
       "      <td>0.0</td>\n",
       "      <td>rh_G_oc-temp_med-Lingual_thickness_Z_estimate</td>\n",
       "      <td>7.440589</td>\n",
       "    </tr>\n",
       "    <tr>\n",
       "      <th>149</th>\n",
       "      <td>0.000068</td>\n",
       "      <td>0.000016</td>\n",
       "      <td>lh_S_oc_sup&amp;transversal_thickness_Z_estimate</td>\n",
       "      <td>4.391295</td>\n",
       "    </tr>\n",
       "  </tbody>\n",
       "</table>\n",
       "<p>77 rows × 4 columns</p>\n",
       "</div>"
      ],
      "text/plain": [
       "     fdr_pval      pval                                            roi  \\\n",
       "2    0.000011  0.000001         rh_G&S_subcentral_thickness_Z_estimate   \n",
       "3    0.000243  0.000068      lh_G_temporal_middle_thickness_Z_estimate   \n",
       "5    0.041352  0.020952          rh_G_subcallosal_thickness_Z_estimate   \n",
       "6     0.00012   0.00003  rh_S_temporal_transverse_thickness_Z_estimate   \n",
       "7    0.004891  0.002022     rh_G_temp_sup-Lateral_thickness_Z_estimate   \n",
       "..        ...       ...                                            ...   \n",
       "140  0.000809  0.000264          rh_S_oc-temp_lat_thickness_Z_estimate   \n",
       "143       0.0       0.0  lh_G_oc-temp_med-Lingual_thickness_Z_estimate   \n",
       "147  0.001513  0.000545          rh_G_postcentral_thickness_Z_estimate   \n",
       "148       0.0       0.0  rh_G_oc-temp_med-Lingual_thickness_Z_estimate   \n",
       "149  0.000068  0.000016   lh_S_oc_sup&transversal_thickness_Z_estimate   \n",
       "\n",
       "        tstat  \n",
       "2    4.932561  \n",
       "3    4.039648  \n",
       "5   -2.322235  \n",
       "6     4.24058  \n",
       "7    3.116774  \n",
       "..        ...  \n",
       "140  3.692475  \n",
       "143  7.737037  \n",
       "147  3.498907  \n",
       "148  7.440589  \n",
       "149  4.391295  \n",
       "\n",
       "[77 rows x 4 columns]"
      ]
     },
     "execution_count": 222,
     "metadata": {},
     "output_type": "execute_result"
    }
   ],
   "source": [
    "w_b_z_sig_diff"
   ]
  },
  {
   "cell_type": "code",
   "execution_count": 223,
   "id": "b593fc8d-399b-464c-b186-cb803f7315f3",
   "metadata": {
    "colab": {
     "base_uri": "https://localhost:8080/"
    },
    "id": "170sEtkynMUE",
    "outputId": "7b601d8d-c73e-44ba-a523-4eddb6dea46b",
    "tags": []
   },
   "outputs": [
    {
     "data": {
      "text/plain": [
       "(77, 4)"
      ]
     },
     "execution_count": 223,
     "metadata": {},
     "output_type": "execute_result"
    }
   ],
   "source": [
    "w_b_z_sig_diff.shape"
   ]
  },
  {
   "cell_type": "code",
   "execution_count": 224,
   "id": "5258dcad-e58a-484c-b9a5-274b1414ad72",
   "metadata": {
    "tags": []
   },
   "outputs": [
    {
     "name": "stderr",
     "output_type": "stream",
     "text": [
      "/var/folders/xx/1xs7sc795_nf7k125153b6qh0000gn/T/ipykernel_6609/785070083.py:1: SettingWithCopyWarning: \n",
      "A value is trying to be set on a copy of a slice from a DataFrame.\n",
      "Try using .loc[row_indexer,col_indexer] = value instead\n",
      "\n",
      "See the caveats in the documentation: https://pandas.pydata.org/pandas-docs/stable/user_guide/indexing.html#returning-a-view-versus-a-copy\n",
      "  w_b_z_sig_diff['roi'] = w_b_z_sig_diff['roi'].str.replace('_thickness_Z_estimate', '', regex=True)\n",
      "/var/folders/xx/1xs7sc795_nf7k125153b6qh0000gn/T/ipykernel_6609/785070083.py:2: SettingWithCopyWarning: \n",
      "A value is trying to be set on a copy of a slice from a DataFrame.\n",
      "Try using .loc[row_indexer,col_indexer] = value instead\n",
      "\n",
      "See the caveats in the documentation: https://pandas.pydata.org/pandas-docs/stable/user_guide/indexing.html#returning-a-view-versus-a-copy\n",
      "  w_b_z_sig_diff['roi'] = w_b_z_sig_diff['roi'].str.replace('G&S', 'G_and_S', regex=True)\n"
     ]
    }
   ],
   "source": [
    "w_b_z_sig_diff['roi'] = w_b_z_sig_diff['roi'].str.replace('_thickness_Z_estimate', '', regex=True)\n",
    "w_b_z_sig_diff['roi'] = w_b_z_sig_diff['roi'].str.replace('G&S', 'G_and_S', regex=True)"
   ]
  },
  {
   "cell_type": "code",
   "execution_count": 225,
   "id": "7eb6e6b5-d59e-41f5-944f-75ff2a2f2f78",
   "metadata": {
    "tags": []
   },
   "outputs": [
    {
     "name": "stderr",
     "output_type": "stream",
     "text": [
      "/opt/anaconda3/envs/braincharts/lib/python3.9/site-packages/pandas/core/frame.py:3641: SettingWithCopyWarning: \n",
      "A value is trying to be set on a copy of a slice from a DataFrame.\n",
      "Try using .loc[row_indexer,col_indexer] = value instead\n",
      "\n",
      "See the caveats in the documentation: https://pandas.pydata.org/pandas-docs/stable/user_guide/indexing.html#returning-a-view-versus-a-copy\n",
      "  self[k1] = value[k2]\n"
     ]
    }
   ],
   "source": [
    "w_b_z_sig_diff[['temp1', 'temp2']] = w_b_z_sig_diff['roi'].str.split(pat=\"_\", n=1, expand=True)"
   ]
  },
  {
   "cell_type": "code",
   "execution_count": 226,
   "id": "0572cc4d-2dfd-4fcf-8269-38c548f2d37b",
   "metadata": {
    "tags": []
   },
   "outputs": [
    {
     "name": "stderr",
     "output_type": "stream",
     "text": [
      "/opt/anaconda3/envs/braincharts/lib/python3.9/site-packages/pandas/core/generic.py:5516: SettingWithCopyWarning: \n",
      "A value is trying to be set on a copy of a slice from a DataFrame.\n",
      "Try using .loc[row_indexer,col_indexer] = value instead\n",
      "\n",
      "See the caveats in the documentation: https://pandas.pydata.org/pandas-docs/stable/user_guide/indexing.html#returning-a-view-versus-a-copy\n",
      "  self[name] = value\n"
     ]
    }
   ],
   "source": [
    "w_b_z_sig_diff.temp1 = w_b_z_sig_diff.temp1.apply(lambda x: 'left' if 'lh' in x else x)"
   ]
  },
  {
   "cell_type": "code",
   "execution_count": 227,
   "id": "2db5da6d-c7f2-44db-8303-60687593625e",
   "metadata": {},
   "outputs": [],
   "source": [
    "w_b_z_sig_diff.temp1 = w_b_z_sig_diff.temp1.apply(lambda x: 'right' if 'rh' in x else x)"
   ]
  },
  {
   "cell_type": "code",
   "execution_count": 228,
   "id": "88f0ad63-59f7-499a-b11c-d018e6f96c20",
   "metadata": {},
   "outputs": [],
   "source": [
    "df = w_b_z_sig_diff[w_b_z_sig_diff[\"temp1\"].str.contains('left|right')]"
   ]
  },
  {
   "cell_type": "code",
   "execution_count": 229,
   "id": "3b76e583-97ea-4439-93ca-0309586f1ca4",
   "metadata": {},
   "outputs": [],
   "source": [
    "df['hemi'] = df['temp1']"
   ]
  },
  {
   "cell_type": "code",
   "execution_count": 230,
   "id": "93422a00-13e1-4f72-889c-b0ae145d8033",
   "metadata": {},
   "outputs": [],
   "source": [
    "df['ROI'] = df['temp2']"
   ]
  },
  {
   "cell_type": "code",
   "execution_count": 231,
   "id": "abc29a4c-5630-4c0c-997e-faf8e511adb7",
   "metadata": {},
   "outputs": [
    {
     "data": {
      "text/plain": [
       "Index(['fdr_pval', 'pval', 'roi', 'tstat', 'temp1', 'temp2', 'hemi', 'ROI'], dtype='object')"
      ]
     },
     "execution_count": 231,
     "metadata": {},
     "output_type": "execute_result"
    }
   ],
   "source": [
    "df.columns"
   ]
  },
  {
   "cell_type": "code",
   "execution_count": 232,
   "id": "64c0a02e-f15e-4517-8d8c-8302d22b2c21",
   "metadata": {},
   "outputs": [],
   "source": [
    "df = df[['tstat', 'fdr_pval', 'hemi', 'ROI']]"
   ]
  },
  {
   "cell_type": "code",
   "execution_count": 233,
   "id": "2fba17f8-e63d-4fb6-a968-abd70ca3b284",
   "metadata": {},
   "outputs": [],
   "source": [
    "w_b_z_sig_diff = df"
   ]
  },
  {
   "cell_type": "code",
   "execution_count": 234,
   "id": "715b8f22-6bc5-4216-b32a-d729ea457642",
   "metadata": {
    "tags": []
   },
   "outputs": [],
   "source": [
    "w_b_z_sig_diff_l = w_b_z_sig_diff.query('hemi == \"left\"')\n",
    "w_b_z_sig_diff_r = w_b_z_sig_diff.query('hemi == \"right\"')"
   ]
  },
  {
   "cell_type": "code",
   "execution_count": 235,
   "id": "e40471be-c20d-49c4-a66f-6dd44ae0c531",
   "metadata": {},
   "outputs": [],
   "source": [
    "nl_w_b_z_sig_diff_l = pd.merge(nl, w_b_z_sig_diff_l, on='ROI', how='left')\n",
    "nl_w_b_z_sig_diff_r = pd.merge(nl, w_b_z_sig_diff_r, on='ROI', how='left')"
   ]
  },
  {
   "cell_type": "code",
   "execution_count": 236,
   "id": "ed111355-982f-4040-a61e-b803ece0e66c",
   "metadata": {
    "tags": []
   },
   "outputs": [],
   "source": [
    "nl_w_b_z_sig_diff_l['tstat'] = nl_w_b_z_sig_diff_l['tstat'].fillna(0)\n",
    "nl_w_b_z_sig_diff_r['tstat'] = nl_w_b_z_sig_diff_r['tstat'].fillna(0)"
   ]
  },
  {
   "cell_type": "code",
   "execution_count": 237,
   "id": "7b809bf0-3162-49a6-b17d-79b059c2e4b0",
   "metadata": {
    "tags": []
   },
   "outputs": [],
   "source": [
    "nl_w_b_z_sig_diff_l = nl_w_b_z_sig_diff_l['tstat'].to_numpy()\n",
    "nl_w_b_z_sig_diff_r = nl_w_b_z_sig_diff_r['tstat'].to_numpy()"
   ]
  },
  {
   "cell_type": "code",
   "execution_count": 238,
   "id": "eca8a9da-046c-491b-939a-b50b26eba679",
   "metadata": {},
   "outputs": [],
   "source": [
    "a_list = list(range(1, 76))\n",
    "parcellation_l = atlas_l\n",
    "for i, j in enumerate(a_list):\n",
    "    parcellation_l = np.where(parcellation_l == j, nl_w_b_z_sig_diff_l[i], parcellation_l)"
   ]
  },
  {
   "cell_type": "code",
   "execution_count": 239,
   "id": "9adccf42-eae1-45aa-ad83-1b49748c42a9",
   "metadata": {},
   "outputs": [],
   "source": [
    "a_list = list(range(1, 76))\n",
    "parcellation_r = atlas_r\n",
    "for i, j in enumerate(a_list):\n",
    "    parcellation_r = np.where(parcellation_r == j, nl_w_b_z_sig_diff_r[i], parcellation_r)"
   ]
  },
  {
   "cell_type": "code",
   "execution_count": 240,
   "id": "071bc1d6-4192-4d09-8393-e1d8d4c60084",
   "metadata": {},
   "outputs": [],
   "source": [
    "# Positive value == whites have higher error\n",
    "# Negative value == blacks have higher error\n",
    "plotting.plot_surf_roi(fsaverage['infl_left'], roi_map=parcellation_l, hemi='left', cmap='plasma', bg_map=fsaverage['sulc_left'], vmin=-4, vmax=8, view='lateral', output_file='/Users/saigerutherford/Desktop/hcp_racenotmodeled_WvB_Z_l.png');"
   ]
  },
  {
   "cell_type": "code",
   "execution_count": 241,
   "id": "a69f509d-cfd6-468c-8534-879f2ecd5c0d",
   "metadata": {},
   "outputs": [],
   "source": [
    "plotting.plot_surf_roi(fsaverage['infl_right'], roi_map=parcellation_r, hemi='right', cmap='plasma', bg_map=fsaverage['sulc_right'], vmin=-4, vmax=8, view='lateral', output_file='/Users/saigerutherford/Desktop/hcp_racenotmodeled_WvB_Z_r.png');"
   ]
  },
  {
   "cell_type": "code",
   "execution_count": 242,
   "id": "0e3d2515-0b5f-4c9e-a64b-f8f0e096c738",
   "metadata": {
    "id": "VdQgUo29nMUD"
   },
   "outputs": [],
   "source": [
    "w_a_pvals_z = pd.DataFrame(columns={'roi','pval', 'tstat','fdr_pval'})\n",
    "for index, column in enumerate(z_cols):\n",
    "    test = ttest_ind(w_deviations[column], a_deviations[column], equal_var=False)\n",
    "    w_a_pvals_z.loc[index, 'pval'] = test.pvalue\n",
    "    w_a_pvals_z.loc[index, 'tstat'] = test.statistic\n",
    "    w_a_pvals_z.loc[index, 'roi'] = column"
   ]
  },
  {
   "cell_type": "code",
   "execution_count": 243,
   "id": "65c8ae87-d7e9-4269-90a7-ebd5fc6f4890",
   "metadata": {
    "id": "n8JfELPdnMUE"
   },
   "outputs": [],
   "source": [
    "w_a_fdr_z = multitest.fdrcorrection(w_a_pvals_z['pval'], alpha=0.05, method='indep', is_sorted=False)"
   ]
  },
  {
   "cell_type": "code",
   "execution_count": 244,
   "id": "a65f204a-47ab-4f96-b1d7-e635d11bf6ab",
   "metadata": {
    "id": "K5panqSGnMUE"
   },
   "outputs": [],
   "source": [
    "w_a_pvals_z['fdr_pval'] = w_a_fdr_z[1]"
   ]
  },
  {
   "cell_type": "code",
   "execution_count": 245,
   "id": "4bc84d21-8b34-4224-95d2-dbef85a91ddf",
   "metadata": {
    "id": "cjZ8HZMYnMUE"
   },
   "outputs": [],
   "source": [
    "w_a_z_sig_diff = w_a_pvals_z.query('fdr_pval < 0.05')"
   ]
  },
  {
   "cell_type": "code",
   "execution_count": 246,
   "id": "82bb54c3-f58d-4fa0-afe1-f9a46e1486ad",
   "metadata": {
    "colab": {
     "base_uri": "https://localhost:8080/",
     "height": 423
    },
    "id": "F01JkqAwnMUE",
    "outputId": "a117d7cf-dd4f-423a-e23b-66fd060deadd",
    "tags": []
   },
   "outputs": [
    {
     "data": {
      "text/html": [
       "<div>\n",
       "<style scoped>\n",
       "    .dataframe tbody tr th:only-of-type {\n",
       "        vertical-align: middle;\n",
       "    }\n",
       "\n",
       "    .dataframe tbody tr th {\n",
       "        vertical-align: top;\n",
       "    }\n",
       "\n",
       "    .dataframe thead th {\n",
       "        text-align: right;\n",
       "    }\n",
       "</style>\n",
       "<table border=\"1\" class=\"dataframe\">\n",
       "  <thead>\n",
       "    <tr style=\"text-align: right;\">\n",
       "      <th></th>\n",
       "      <th>fdr_pval</th>\n",
       "      <th>pval</th>\n",
       "      <th>roi</th>\n",
       "      <th>tstat</th>\n",
       "    </tr>\n",
       "  </thead>\n",
       "  <tbody>\n",
       "    <tr>\n",
       "      <th>2</th>\n",
       "      <td>0.000572</td>\n",
       "      <td>0.00021</td>\n",
       "      <td>rh_G&amp;S_subcentral_thickness_Z_estimate</td>\n",
       "      <td>3.870007</td>\n",
       "    </tr>\n",
       "    <tr>\n",
       "      <th>3</th>\n",
       "      <td>0.00141</td>\n",
       "      <td>0.000536</td>\n",
       "      <td>lh_G_temporal_middle_thickness_Z_estimate</td>\n",
       "      <td>3.595569</td>\n",
       "    </tr>\n",
       "    <tr>\n",
       "      <th>7</th>\n",
       "      <td>0.000057</td>\n",
       "      <td>0.000018</td>\n",
       "      <td>rh_G_temp_sup-Lateral_thickness_Z_estimate</td>\n",
       "      <td>4.558995</td>\n",
       "    </tr>\n",
       "    <tr>\n",
       "      <th>14</th>\n",
       "      <td>0.026326</td>\n",
       "      <td>0.012461</td>\n",
       "      <td>lh_G_front_inf-Triangul_thickness_Z_estimate</td>\n",
       "      <td>2.552479</td>\n",
       "    </tr>\n",
       "    <tr>\n",
       "      <th>15</th>\n",
       "      <td>0.002545</td>\n",
       "      <td>0.001052</td>\n",
       "      <td>lh_S_cingul-Marginalis_thickness_Z_estimate</td>\n",
       "      <td>3.402112</td>\n",
       "    </tr>\n",
       "    <tr>\n",
       "      <th>...</th>\n",
       "      <td>...</td>\n",
       "      <td>...</td>\n",
       "      <td>...</td>\n",
       "      <td>...</td>\n",
       "    </tr>\n",
       "    <tr>\n",
       "      <th>141</th>\n",
       "      <td>0.00158</td>\n",
       "      <td>0.000611</td>\n",
       "      <td>rh_S_front_middle_thickness_Z_estimate</td>\n",
       "      <td>3.558095</td>\n",
       "    </tr>\n",
       "    <tr>\n",
       "      <th>143</th>\n",
       "      <td>0.00055</td>\n",
       "      <td>0.000198</td>\n",
       "      <td>lh_G_oc-temp_med-Lingual_thickness_Z_estimate</td>\n",
       "      <td>3.862392</td>\n",
       "    </tr>\n",
       "    <tr>\n",
       "      <th>147</th>\n",
       "      <td>0.000235</td>\n",
       "      <td>0.000078</td>\n",
       "      <td>rh_G_postcentral_thickness_Z_estimate</td>\n",
       "      <td>4.128035</td>\n",
       "    </tr>\n",
       "    <tr>\n",
       "      <th>148</th>\n",
       "      <td>0.034422</td>\n",
       "      <td>0.006426</td>\n",
       "      <td>rh_G_oc-temp_med-Lingual_thickness_Z_estimate</td>\n",
       "      <td>2.790754</td>\n",
       "    </tr>\n",
       "    <tr>\n",
       "      <th>149</th>\n",
       "      <td>0.043276</td>\n",
       "      <td>0.009232</td>\n",
       "      <td>lh_S_oc_sup&amp;transversal_thickness_Z_estimate</td>\n",
       "      <td>2.663459</td>\n",
       "    </tr>\n",
       "  </tbody>\n",
       "</table>\n",
       "<p>73 rows × 4 columns</p>\n",
       "</div>"
      ],
      "text/plain": [
       "     fdr_pval      pval                                            roi  \\\n",
       "2    0.000572   0.00021         rh_G&S_subcentral_thickness_Z_estimate   \n",
       "3     0.00141  0.000536      lh_G_temporal_middle_thickness_Z_estimate   \n",
       "7    0.000057  0.000018     rh_G_temp_sup-Lateral_thickness_Z_estimate   \n",
       "14   0.026326  0.012461   lh_G_front_inf-Triangul_thickness_Z_estimate   \n",
       "15   0.002545  0.001052    lh_S_cingul-Marginalis_thickness_Z_estimate   \n",
       "..        ...       ...                                            ...   \n",
       "141   0.00158  0.000611         rh_S_front_middle_thickness_Z_estimate   \n",
       "143   0.00055  0.000198  lh_G_oc-temp_med-Lingual_thickness_Z_estimate   \n",
       "147  0.000235  0.000078          rh_G_postcentral_thickness_Z_estimate   \n",
       "148  0.034422  0.006426  rh_G_oc-temp_med-Lingual_thickness_Z_estimate   \n",
       "149  0.043276  0.009232   lh_S_oc_sup&transversal_thickness_Z_estimate   \n",
       "\n",
       "        tstat  \n",
       "2    3.870007  \n",
       "3    3.595569  \n",
       "7    4.558995  \n",
       "14   2.552479  \n",
       "15   3.402112  \n",
       "..        ...  \n",
       "141  3.558095  \n",
       "143  3.862392  \n",
       "147  4.128035  \n",
       "148  2.790754  \n",
       "149  2.663459  \n",
       "\n",
       "[73 rows x 4 columns]"
      ]
     },
     "execution_count": 246,
     "metadata": {},
     "output_type": "execute_result"
    }
   ],
   "source": [
    "w_a_z_sig_diff"
   ]
  },
  {
   "cell_type": "code",
   "execution_count": 247,
   "id": "fff88d06-38e9-4e01-9774-f4dd1a2723c2",
   "metadata": {
    "colab": {
     "base_uri": "https://localhost:8080/"
    },
    "id": "170sEtkynMUE",
    "outputId": "7b601d8d-c73e-44ba-a523-4eddb6dea46b"
   },
   "outputs": [
    {
     "data": {
      "text/plain": [
       "(73, 4)"
      ]
     },
     "execution_count": 247,
     "metadata": {},
     "output_type": "execute_result"
    }
   ],
   "source": [
    "w_a_z_sig_diff.shape"
   ]
  },
  {
   "cell_type": "code",
   "execution_count": 248,
   "id": "57bcf17f-cd4f-4902-8b87-401dd727615b",
   "metadata": {
    "tags": []
   },
   "outputs": [
    {
     "name": "stderr",
     "output_type": "stream",
     "text": [
      "/var/folders/xx/1xs7sc795_nf7k125153b6qh0000gn/T/ipykernel_6609/703599908.py:1: SettingWithCopyWarning: \n",
      "A value is trying to be set on a copy of a slice from a DataFrame.\n",
      "Try using .loc[row_indexer,col_indexer] = value instead\n",
      "\n",
      "See the caveats in the documentation: https://pandas.pydata.org/pandas-docs/stable/user_guide/indexing.html#returning-a-view-versus-a-copy\n",
      "  w_a_z_sig_diff['roi'] = w_a_z_sig_diff['roi'].str.replace('_thickness_Z_estimate', '', regex=True)\n",
      "/var/folders/xx/1xs7sc795_nf7k125153b6qh0000gn/T/ipykernel_6609/703599908.py:2: SettingWithCopyWarning: \n",
      "A value is trying to be set on a copy of a slice from a DataFrame.\n",
      "Try using .loc[row_indexer,col_indexer] = value instead\n",
      "\n",
      "See the caveats in the documentation: https://pandas.pydata.org/pandas-docs/stable/user_guide/indexing.html#returning-a-view-versus-a-copy\n",
      "  w_a_z_sig_diff['roi'] = w_a_z_sig_diff['roi'].str.replace('G&S', 'G_and_S', regex=True)\n"
     ]
    }
   ],
   "source": [
    "w_a_z_sig_diff['roi'] = w_a_z_sig_diff['roi'].str.replace('_thickness_Z_estimate', '', regex=True)\n",
    "w_a_z_sig_diff['roi'] = w_a_z_sig_diff['roi'].str.replace('G&S', 'G_and_S', regex=True)"
   ]
  },
  {
   "cell_type": "code",
   "execution_count": 249,
   "id": "f06d5fd0-33b6-4635-954b-847276f35945",
   "metadata": {
    "tags": []
   },
   "outputs": [
    {
     "name": "stderr",
     "output_type": "stream",
     "text": [
      "/opt/anaconda3/envs/braincharts/lib/python3.9/site-packages/pandas/core/frame.py:3641: SettingWithCopyWarning: \n",
      "A value is trying to be set on a copy of a slice from a DataFrame.\n",
      "Try using .loc[row_indexer,col_indexer] = value instead\n",
      "\n",
      "See the caveats in the documentation: https://pandas.pydata.org/pandas-docs/stable/user_guide/indexing.html#returning-a-view-versus-a-copy\n",
      "  self[k1] = value[k2]\n"
     ]
    }
   ],
   "source": [
    "w_a_z_sig_diff[['temp1', 'temp2']] = w_a_z_sig_diff['roi'].str.split(pat=\"_\", n=1, expand=True)"
   ]
  },
  {
   "cell_type": "code",
   "execution_count": 250,
   "id": "14c46bbb-ebcc-4c7b-bd19-fd8152c9f435",
   "metadata": {
    "tags": []
   },
   "outputs": [
    {
     "name": "stderr",
     "output_type": "stream",
     "text": [
      "/opt/anaconda3/envs/braincharts/lib/python3.9/site-packages/pandas/core/generic.py:5516: SettingWithCopyWarning: \n",
      "A value is trying to be set on a copy of a slice from a DataFrame.\n",
      "Try using .loc[row_indexer,col_indexer] = value instead\n",
      "\n",
      "See the caveats in the documentation: https://pandas.pydata.org/pandas-docs/stable/user_guide/indexing.html#returning-a-view-versus-a-copy\n",
      "  self[name] = value\n"
     ]
    }
   ],
   "source": [
    "w_a_z_sig_diff.temp1 = w_a_z_sig_diff.temp1.apply(lambda x: 'left' if 'lh' in x else x)"
   ]
  },
  {
   "cell_type": "code",
   "execution_count": 251,
   "id": "e6d91faa-746e-471d-bff2-9d550941ba71",
   "metadata": {},
   "outputs": [],
   "source": [
    "w_a_z_sig_diff.temp1 = w_a_z_sig_diff.temp1.apply(lambda x: 'right' if 'rh' in x else x)"
   ]
  },
  {
   "cell_type": "code",
   "execution_count": 252,
   "id": "edbd7d47-0753-4782-b0fc-782da767e9b9",
   "metadata": {},
   "outputs": [],
   "source": [
    "df = w_a_z_sig_diff[w_a_z_sig_diff[\"temp1\"].str.contains('left|right')]"
   ]
  },
  {
   "cell_type": "code",
   "execution_count": 253,
   "id": "3f2ea96e-2a12-49ea-b37a-e63b1c27bf31",
   "metadata": {},
   "outputs": [],
   "source": [
    "df['hemi'] = df['temp1']"
   ]
  },
  {
   "cell_type": "code",
   "execution_count": 254,
   "id": "9e20cfec-10e0-462e-9def-1a0eb1951462",
   "metadata": {},
   "outputs": [],
   "source": [
    "df['ROI'] = df['temp2']"
   ]
  },
  {
   "cell_type": "code",
   "execution_count": 255,
   "id": "dfae489e-ae14-4999-8061-bb93ae32716a",
   "metadata": {},
   "outputs": [
    {
     "data": {
      "text/plain": [
       "Index(['fdr_pval', 'pval', 'roi', 'tstat', 'temp1', 'temp2', 'hemi', 'ROI'], dtype='object')"
      ]
     },
     "execution_count": 255,
     "metadata": {},
     "output_type": "execute_result"
    }
   ],
   "source": [
    "df.columns"
   ]
  },
  {
   "cell_type": "code",
   "execution_count": 256,
   "id": "f8237944-7965-40a3-a62f-eb2c07c8a750",
   "metadata": {},
   "outputs": [],
   "source": [
    "df = df[['tstat', 'fdr_pval', 'hemi', 'ROI']]"
   ]
  },
  {
   "cell_type": "code",
   "execution_count": 257,
   "id": "8e6f53df-e2fa-4c98-a115-63b2eb8868c3",
   "metadata": {},
   "outputs": [],
   "source": [
    "w_a_z_sig_diff = df"
   ]
  },
  {
   "cell_type": "code",
   "execution_count": 258,
   "id": "58dd417c-c686-42b7-84b6-57da3992a09f",
   "metadata": {
    "tags": []
   },
   "outputs": [],
   "source": [
    "w_a_z_sig_diff_l = w_a_z_sig_diff.query('hemi == \"left\"')\n",
    "w_a_z_sig_diff_r = w_a_z_sig_diff.query('hemi == \"right\"')"
   ]
  },
  {
   "cell_type": "code",
   "execution_count": 259,
   "id": "85fa9388-1888-4416-8ec0-d3b0f512a63d",
   "metadata": {},
   "outputs": [],
   "source": [
    "nl_w_a_z_sig_diff_l = pd.merge(nl, w_a_z_sig_diff_l, on='ROI', how='left')\n",
    "nl_w_a_z_sig_diff_r = pd.merge(nl, w_a_z_sig_diff_r, on='ROI', how='left')"
   ]
  },
  {
   "cell_type": "code",
   "execution_count": 260,
   "id": "22430abb-9763-49f7-b043-181cef5059e1",
   "metadata": {
    "tags": []
   },
   "outputs": [],
   "source": [
    "nl_w_a_z_sig_diff_l['tstat'] = nl_w_a_z_sig_diff_l['tstat'].fillna(0)\n",
    "nl_w_a_z_sig_diff_r['tstat'] = nl_w_a_z_sig_diff_r['tstat'].fillna(0)"
   ]
  },
  {
   "cell_type": "code",
   "execution_count": 261,
   "id": "426ac291-3996-4e37-8633-2d8baa9aa7c6",
   "metadata": {
    "tags": []
   },
   "outputs": [],
   "source": [
    "nl_w_a_z_sig_diff_l = nl_w_a_z_sig_diff_l['tstat'].to_numpy()\n",
    "nl_w_a_z_sig_diff_r = nl_w_a_z_sig_diff_r['tstat'].to_numpy()"
   ]
  },
  {
   "cell_type": "code",
   "execution_count": 262,
   "id": "c01fdd10-2c47-4716-a590-a57fd6acf5e6",
   "metadata": {},
   "outputs": [],
   "source": [
    "a_list = list(range(1, 76))\n",
    "parcellation_l = atlas_l\n",
    "for i, j in enumerate(a_list):\n",
    "    parcellation_l = np.where(parcellation_l == j, nl_w_a_z_sig_diff_l[i], parcellation_l)"
   ]
  },
  {
   "cell_type": "code",
   "execution_count": 263,
   "id": "bf39489d-1bea-4332-a3a1-23dc8aff6a50",
   "metadata": {},
   "outputs": [],
   "source": [
    "a_list = list(range(1, 76))\n",
    "parcellation_r = atlas_r\n",
    "for i, j in enumerate(a_list):\n",
    "    parcellation_r = np.where(parcellation_r == j, nl_w_a_z_sig_diff_r[i], parcellation_r)"
   ]
  },
  {
   "cell_type": "code",
   "execution_count": 264,
   "id": "4cbed009-7147-4c3b-b06a-57414c5b6f8d",
   "metadata": {},
   "outputs": [],
   "source": [
    "# Positive value == whites have higher error\n",
    "# Negative value == blacks have higher error\n",
    "plotting.plot_surf_roi(fsaverage['infl_left'], roi_map=parcellation_l, hemi='left', cmap='plasma', bg_map=fsaverage['sulc_left'], vmin=-4, vmax=8, view='lateral', output_file='/Users/saigerutherford/Desktop/hcp_racenotmodeled_WvA_Z_l.png');"
   ]
  },
  {
   "cell_type": "code",
   "execution_count": 265,
   "id": "659e0d57-6fa2-4713-bcc0-9771d76967bc",
   "metadata": {},
   "outputs": [],
   "source": [
    "plotting.plot_surf_roi(fsaverage['infl_right'], roi_map=parcellation_r, hemi='right', cmap='plasma', bg_map=fsaverage['sulc_right'], vmin=-4, vmax=8, view='lateral', output_file='/Users/saigerutherford/Desktop/hcp_racenotmodeled_WvA_Z_r.png');"
   ]
  },
  {
   "cell_type": "markdown",
   "id": "33d3c507-14b3-4232-9af3-3868e02b0e31",
   "metadata": {},
   "source": [
    "### T-Tests on group mean and variance (across all ROIs)"
   ]
  },
  {
   "cell_type": "markdown",
   "id": "222a7b99-42a5-4dff-afb4-7963e98eddc2",
   "metadata": {},
   "source": [
    "### HCP race modeled"
   ]
  },
  {
   "cell_type": "code",
   "execution_count": 75,
   "id": "f122227a-42fa-4241-a664-9c866bc84885",
   "metadata": {},
   "outputs": [],
   "source": [
    "Z_df = pd.read_csv('/Users/saigerutherford/Documents/Work/drive-download-20220731T221458Z-001/braincharts/models/hcp_race_modeled/deviation_scores.csv')"
   ]
  },
  {
   "cell_type": "code",
   "execution_count": 76,
   "id": "6a606e19-e90e-481a-9b7b-22f7c3fb3494",
   "metadata": {
    "executionInfo": {
     "elapsed": 257,
     "status": "ok",
     "timestamp": 1687449325721,
     "user": {
      "displayName": "Saige Rutherford",
      "userId": "09510631870783055479"
     },
     "user_tz": -120
    },
    "id": "5649160f-708d-46ed-9760-29f9c3fb8b18",
    "jupyter": {
     "source_hidden": true
    },
    "tags": []
   },
   "outputs": [],
   "source": [
    "z_long = Z_df.melt(id_vars=['sub_id','Race'],\n",
    "                  value_vars=['rh_G_Ins_lg&S_cent_ins_thickness_Z_estimate',\n",
    "                             'rh_G&S_cingul-Mid-Post_thickness_Z_estimate',\n",
    "                             'rh_G&S_subcentral_thickness_Z_estimate',\n",
    "                             'lh_G_temporal_middle_thickness_Z_estimate',\n",
    "                             'lh_S_temporal_transverse_thickness_Z_estimate',\n",
    "                             'rh_G_subcallosal_thickness_Z_estimate',\n",
    "                             'rh_S_temporal_transverse_thickness_Z_estimate',\n",
    "                             'rh_G_temp_sup-Lateral_thickness_Z_estimate',\n",
    "                             'rh_S_subparietal_thickness_Z_estimate',\n",
    "                             'lh_Pole_temporal_thickness_Z_estimate',\n",
    "                             'rh_G_precentral_thickness_Z_estimate',\n",
    "                             'lh_G_oc-temp_lat-fusifor_thickness_Z_estimate',\n",
    "                             'rh_S_circular_insula_inf_thickness_Z_estimate',\n",
    "                             'lh_G_cingul-Post-ventral_thickness_Z_estimate',\n",
    "                             'lh_G_front_inf-Triangul_thickness_Z_estimate',\n",
    "                             'lh_S_cingul-Marginalis_thickness_Z_estimate',\n",
    "                             'rh_Lat_Fis-ant-Vertical_thickness_Z_estimate',\n",
    "                             'lh_G&S_paracentral_thickness_Z_estimate',\n",
    "                             'rh_S_postcentral_thickness_Z_estimate',\n",
    "                             'lh_S_circular_insula_inf_thickness_Z_estimate',\n",
    "                             'rh_G_oc-temp_lat-fusifor_thickness_Z_estimate',\n",
    "                             'rh_G_cingul-Post-ventral_thickness_Z_estimate',\n",
    "                             'lh_G&S_transv_frontopol_thickness_Z_estimate',\n",
    "                             'rh_G_temp_sup-G_T_transv_thickness_Z_estimate',\n",
    "                             'rh_S_oc-temp_med&Lingual_thickness_Z_estimate',\n",
    "                             'lh_Lat_Fis-post_thickness_Z_estimate',\n",
    "                             'lh_S_postcentral_thickness_Z_estimate',\n",
    "                             'rh_G_rectus_thickness_Z_estimate',\n",
    "                             'lh_G_temp_sup-G_T_transv_thickness_Z_estimate',\n",
    "                             'rh_Pole_temporal_thickness_Z_estimate',\n",
    "                             'lh_S_subparietal_thickness_Z_estimate',\n",
    "                             'rh_G_cingul-Post-dorsal_thickness_Z_estimate',\n",
    "                             'lh_S_oc-temp_med&Lingual_thickness_Z_estimate',\n",
    "                             'rh_S_interm_prim-Jensen_thickness_Z_estimate',\n",
    "                             'lh_G&S_subcentral_thickness_Z_estimate',\n",
    "                             'rh_S_oc_sup&transversal_thickness_Z_estimate',\n",
    "                             'lh_G_subcallosal_thickness_Z_estimate',\n",
    "                             'rh_S_orbital_lateral_thickness_Z_estimate',\n",
    "                             'lh_G_insular_short_thickness_Z_estimate',\n",
    "                             'rh_S_collat_transv_post_thickness_Z_estimate',\n",
    "                             'lh_S_occipital_ant_thickness_Z_estimate',\n",
    "                             'rh_S_orbital_med-olfact_thickness_Z_estimate',\n",
    "                             'lh_G_front_sup_thickness_Z_estimate',\n",
    "                             'lh_S_precentral-inf-part_thickness_Z_estimate',\n",
    "                             'lh_G_precentral_thickness_Z_estimate',\n",
    "                             'rh_G_temporal_middle_thickness_Z_estimate',\n",
    "                             'lh_S_temporal_inf_thickness_Z_estimate',\n",
    "                             'rh_G_parietal_sup_thickness_Z_estimate',\n",
    "                             'lh_S_collat_transv_ant_thickness_Z_estimate',\n",
    "                             'rh_G_front_sup_thickness_Z_estimate',\n",
    "                             'rh_S_precentral-inf-part_thickness_Z_estimate',\n",
    "                             'rh_G_pariet_inf-Angular_thickness_Z_estimate',\n",
    "                             'lh_S_calcarine_thickness_Z_estimate',\n",
    "                             'lh_S_orbital-H_Shaped_thickness_Z_estimate',\n",
    "                             'rh_G_front_inf-Opercular_thickness_Z_estimate',\n",
    "                             'rh_G_occipital_middle_thickness_Z_estimate',\n",
    "                             'lh_G_oc-temp_med-Parahip_thickness_Z_estimate',\n",
    "                             'rh_G_orbital_thickness_Z_estimate',\n",
    "                             'lh_S_front_inf_thickness_Z_estimate',\n",
    "                             'rh_S_calcarine_thickness_Z_estimate',\n",
    "                             'rh_G_occipital_sup_thickness_Z_estimate',\n",
    "                             'lh_G_front_inf-Opercular_thickness_Z_estimate',\n",
    "                             'lh_G_front_middle_thickness_Z_estimate',\n",
    "                             'lh_S_central_thickness_Z_estimate',\n",
    "                             'rh_S_front_inf_thickness_Z_estimate',\n",
    "                             'rh_G_oc-temp_med-Parahip_thickness_Z_estimate',\n",
    "                             'lh_Lat_Fis-ant-Horizont_thickness_Z_estimate',\n",
    "                             'rh_G_front_inf-Orbital_thickness_Z_estimate',\n",
    "                             'lh_G_orbital_thickness_Z_estimate',\n",
    "                             'lh_S_oc_middle&Lunatus_thickness_Z_estimate',\n",
    "                             'rh_S_central_thickness_Z_estimate',\n",
    "                             'lh_G_cuneus_thickness_Z_estimate',\n",
    "                             'rh_G_front_middle_thickness_Z_estimate',\n",
    "                             'rh_S_precentral-sup-part_thickness_Z_estimate',\n",
    "                             'rh_Lat_Fis-post_thickness_Z_estimate',\n",
    "                             'lh_G_temp_sup-Plan_tempo_thickness_Z_estimate',\n",
    "                             'lh_G_parietal_sup_thickness_Z_estimate',\n",
    "                             'rh_S_temporal_inf_thickness_Z_estimate',\n",
    "                             'lh_S_circular_insula_ant_thickness_Z_estimate',\n",
    "                             'lh_S_precentral-sup-part_thickness_Z_estimate',\n",
    "                             'lh_S_orbital_lateral_thickness_Z_estimate',\n",
    "                             'lh_S_parieto_occipital_thickness_Z_estimate',\n",
    "                             'rh_G&S_cingul-Mid-Ant_thickness_Z_estimate',\n",
    "                             'rh_G_temp_sup-Plan_tempo_thickness_Z_estimate',\n",
    "                             'rh_S_circular_insula_ant_thickness_Z_estimate',\n",
    "                             'rh_MeanThickness_thickness_Z_estimate',\n",
    "                             'rh_S_orbital-H_Shaped_thickness_Z_estimate',\n",
    "                             'lh_G_occipital_middle_thickness_Z_estimate',\n",
    "                             'lh_S_circular_insula_sup_thickness_Z_estimate',\n",
    "                             'lh_G_pariet_inf-Angular_thickness_Z_estimate',\n",
    "                             'rh_G&S_paracentral_thickness_Z_estimate',\n",
    "                             'lh_G_temp_sup-Plan_polar_thickness_Z_estimate',\n",
    "                             'rh_S_collat_transv_ant_thickness_Z_estimate',\n",
    "                             'rh_S_circular_insula_sup_thickness_Z_estimate',\n",
    "                             'rh_G_temp_sup-Plan_polar_thickness_Z_estimate',\n",
    "                             'rh_Pole_occipital_thickness_Z_estimate',\n",
    "                             'lh_G_pariet_inf-Supramar_thickness_Z_estimate',\n",
    "                             'lh_G&S_frontomargin_thickness_Z_estimate',\n",
    "                             'rh_S_pericallosal_thickness_Z_estimate',\n",
    "                             'rh_G_pariet_inf-Supramar_thickness_Z_estimate',\n",
    "                             'rh_S_suborbital_thickness_Z_estimate',\n",
    "                             'lh_S_pericallosal_thickness_Z_estimate',\n",
    "                             'rh_S_occipital_ant_thickness_Z_estimate',\n",
    "                             'lh_Pole_occipital_thickness_Z_estimate',\n",
    "                             'rh_G_insular_short_thickness_Z_estimate',\n",
    "                             'lh_G_front_inf-Orbital_thickness_Z_estimate',\n",
    "                             'rh_G_cuneus_thickness_Z_estimate',\n",
    "                             'rh_S_oc_middle&Lunatus_thickness_Z_estimate',\n",
    "                             'lh_G&S_cingul-Mid-Ant_thickness_Z_estimate',\n",
    "                             'rh_G&S_occipital_inf_thickness_Z_estimate',\n",
    "                             'rh_Lat_Fis-ant-Horizont_thickness_Z_estimate',\n",
    "                             'rh_S_parieto_occipital_thickness_Z_estimate',\n",
    "                             'lh_MeanThickness_thickness_Z_estimate',\n",
    "                             'rh_G_precuneus_thickness_Z_estimate',\n",
    "                             'lh_G_temp_sup-Lateral_thickness_Z_estimate',\n",
    "                             'lh_S_front_middle_thickness_Z_estimate',\n",
    "                             'lh_G_Ins_lg&S_cent_ins_thickness_Z_estimate',\n",
    "                             'lh_G_occipital_sup_thickness_Z_estimate',\n",
    "                             'lh_G_postcentral_thickness_Z_estimate',\n",
    "                             'rh_S_front_sup_thickness_Z_estimate',\n",
    "                             'lh_G&S_cingul-Mid-Post_thickness_Z_estimate',\n",
    "                             'lh_G_precuneus_thickness_Z_estimate',\n",
    "                             'lh_G&S_cingul-Ant_thickness_Z_estimate',\n",
    "                             'lh_S_front_sup_thickness_Z_estimate',\n",
    "                             'lh_S_oc-temp_lat_thickness_Z_estimate',\n",
    "                             'rh_G&S_frontomargin_thickness_Z_estimate',\n",
    "                             'lh_Lat_Fis-ant-Vertical_thickness_Z_estimate',\n",
    "                             'lh_G_temporal_inf_thickness_Z_estimate',\n",
    "                             'rh_G_front_inf-Triangul_thickness_Z_estimate',\n",
    "                             'lh_S_temporal_sup_thickness_Z_estimate',\n",
    "                             'rh_S_cingul-Marginalis_thickness_Z_estimate',\n",
    "                             'lh_G_rectus_thickness_Z_estimate',\n",
    "                             'lh_S_interm_prim-Jensen_thickness_Z_estimate',\n",
    "                             'lh_S_intrapariet&P_trans_thickness_Z_estimate',\n",
    "                             'lh_G_cingul-Post-dorsal_thickness_Z_estimate',\n",
    "                             'rh_S_intrapariet&P_trans_thickness_Z_estimate',\n",
    "                             'rh_G_temporal_inf_thickness_Z_estimate',\n",
    "                             'rh_G&S_transv_frontopol_thickness_Z_estimate',\n",
    "                             'lh_G&S_occipital_inf_thickness_Z_estimate',\n",
    "                             'rh_S_temporal_sup_thickness_Z_estimate',\n",
    "                             'rh_S_oc-temp_lat_thickness_Z_estimate',\n",
    "                             'rh_S_front_middle_thickness_Z_estimate',\n",
    "                             'lh_S_orbital_med-olfact_thickness_Z_estimate',\n",
    "                             'lh_G_oc-temp_med-Lingual_thickness_Z_estimate',\n",
    "                             'lh_S_collat_transv_post_thickness_Z_estimate',\n",
    "                             'lh_S_suborbital_thickness_Z_estimate',\n",
    "                             'rh_G&S_cingul-Ant_thickness_Z_estimate',\n",
    "                             'rh_G_postcentral_thickness_Z_estimate',\n",
    "                             'rh_G_oc-temp_med-Lingual_thickness_Z_estimate',\n",
    "                             'lh_S_oc_sup&transversal_thickness_Z_estimate'])"
   ]
  },
  {
   "cell_type": "code",
   "execution_count": 77,
   "id": "e7c8e77f-8c2a-4af0-b0d0-c99b8211f5dd",
   "metadata": {
    "tags": []
   },
   "outputs": [],
   "source": [
    "z_long_white = z_long.query('Race == \"White\"')\n",
    "z_long_black = z_long.query('Race == \"Black\"')\n",
    "z_long_asian = z_long.query('Race == \"Asian\"')"
   ]
  },
  {
   "cell_type": "code",
   "execution_count": 78,
   "id": "d116d445-d2ab-4dc7-8c0e-61d0d7e0058c",
   "metadata": {},
   "outputs": [],
   "source": [
    "z_white = Z_df.query('Race == \"White\"')\n",
    "z_black = Z_df.query('Race == \"Black\"')\n",
    "z_asian = Z_df.query('Race == \"Asian\"')"
   ]
  },
  {
   "cell_type": "code",
   "execution_count": 270,
   "id": "7a6bed22-77eb-4793-9525-6c9e940f964b",
   "metadata": {},
   "outputs": [],
   "source": [
    "z_long_white2 = z_long_white.groupby(by='sub_id',as_index=False).mean()"
   ]
  },
  {
   "cell_type": "code",
   "execution_count": 271,
   "id": "21797266-ed80-454b-a4c9-45649a989127",
   "metadata": {},
   "outputs": [],
   "source": [
    "z_long_black2 = z_long_black.groupby(by='sub_id',as_index=False).mean()"
   ]
  },
  {
   "cell_type": "code",
   "execution_count": 272,
   "id": "c2f08707-6754-4016-9655-a726bead84c9",
   "metadata": {},
   "outputs": [],
   "source": [
    "z_long_asian2 = z_long_asian.groupby(by='sub_id',as_index=False).mean()"
   ]
  },
  {
   "cell_type": "code",
   "execution_count": 273,
   "id": "6c23dad3-fc76-413b-a30a-2ab9265f0cb1",
   "metadata": {},
   "outputs": [
    {
     "data": {
      "text/plain": [
       "Ttest_indResult(statistic=-0.794009885440883, pvalue=0.4278591082839136)"
      ]
     },
     "execution_count": 273,
     "metadata": {},
     "output_type": "execute_result"
    }
   ],
   "source": [
    "ttest_ind(z_long_white2['value'], z_long_black2['value'], equal_var=False)"
   ]
  },
  {
   "cell_type": "code",
   "execution_count": 274,
   "id": "a4246b01-192b-4c44-aa82-ed682777b490",
   "metadata": {},
   "outputs": [
    {
     "data": {
      "text/plain": [
       "Ttest_indResult(statistic=-1.0631457228841004, pvalue=0.29048847766055264)"
      ]
     },
     "execution_count": 274,
     "metadata": {},
     "output_type": "execute_result"
    }
   ],
   "source": [
    "ttest_ind(z_long_white2['value'], z_long_asian2['value'], equal_var=False)"
   ]
  },
  {
   "cell_type": "code",
   "execution_count": 275,
   "id": "4ed54863-fb47-4d7d-977e-7f96ec7d85ca",
   "metadata": {},
   "outputs": [
    {
     "data": {
      "text/plain": [
       "Ttest_indResult(statistic=-0.41017162179208727, pvalue=0.6825153693731923)"
      ]
     },
     "execution_count": 275,
     "metadata": {},
     "output_type": "execute_result"
    }
   ],
   "source": [
    "ttest_ind(z_long_black2['value'], z_long_asian2['value'], equal_var=False)"
   ]
  },
  {
   "cell_type": "markdown",
   "id": "c26e56b6-9892-4860-a209-9d3a21fd4887",
   "metadata": {
    "id": "AiimUDe6nMUD"
   },
   "source": [
    "### T-Tests on individual ROIs (FDR corrected)"
   ]
  },
  {
   "cell_type": "markdown",
   "id": "61e9564b-e7dc-41b5-8ce0-d8effece3251",
   "metadata": {},
   "source": [
    "### HCP race modeled"
   ]
  },
  {
   "cell_type": "code",
   "execution_count": 276,
   "id": "98b98fd4-23fb-4b54-b219-21382580846a",
   "metadata": {
    "id": "ssVXAgqGnMUD"
   },
   "outputs": [],
   "source": [
    "w_deviations = z_white.loc[:, z_white.columns.str.contains('Z_estimate')]"
   ]
  },
  {
   "cell_type": "code",
   "execution_count": 277,
   "id": "af54401e-6d4f-48a8-a53b-8ed95f259ed8",
   "metadata": {
    "id": "lqtHyKrrnMUD"
   },
   "outputs": [],
   "source": [
    "b_deviations = z_black.loc[:, z_black.columns.str.contains('Z_estimate')]"
   ]
  },
  {
   "cell_type": "code",
   "execution_count": 278,
   "id": "765d136e-24fb-4e93-812d-80624462bea8",
   "metadata": {
    "id": "lqtHyKrrnMUD"
   },
   "outputs": [],
   "source": [
    "a_deviations = z_asian.loc[:, z_asian.columns.str.contains('Z_estimate')]"
   ]
  },
  {
   "cell_type": "code",
   "execution_count": 279,
   "id": "b00ad213-d9d9-4cea-960f-792263593f08",
   "metadata": {
    "id": "BCJpEI8NnMUD"
   },
   "outputs": [],
   "source": [
    "z_cols = w_deviations.columns"
   ]
  },
  {
   "cell_type": "code",
   "execution_count": 280,
   "id": "47b60193-4768-4e7f-b8ba-dac4202f59ca",
   "metadata": {},
   "outputs": [
    {
     "data": {
      "text/plain": [
       "150"
      ]
     },
     "execution_count": 280,
     "metadata": {},
     "output_type": "execute_result"
    }
   ],
   "source": [
    "len(z_cols)"
   ]
  },
  {
   "cell_type": "code",
   "execution_count": 281,
   "id": "9049458f-bac3-46ad-81b1-7b2f8fee4050",
   "metadata": {
    "id": "VdQgUo29nMUD"
   },
   "outputs": [],
   "source": [
    "w_b_pvals_z = pd.DataFrame(columns={'roi','pval', 'tstat','fdr_pval'})\n",
    "for index, column in enumerate(z_cols):\n",
    "    test = ttest_ind(w_deviations[column], b_deviations[column], equal_var=False)\n",
    "    w_b_pvals_z.loc[index, 'pval'] = test.pvalue\n",
    "    w_b_pvals_z.loc[index, 'tstat'] = test.statistic\n",
    "    w_b_pvals_z.loc[index, 'roi'] = column"
   ]
  },
  {
   "cell_type": "code",
   "execution_count": 282,
   "id": "18c90bc5-faa1-4e86-aaf3-31ad4089c546",
   "metadata": {
    "id": "n8JfELPdnMUE"
   },
   "outputs": [],
   "source": [
    "w_b_fdr_z = multitest.fdrcorrection(w_b_pvals_z['pval'], alpha=0.05, method='indep', is_sorted=False)"
   ]
  },
  {
   "cell_type": "code",
   "execution_count": 283,
   "id": "25fbfc27-0aaa-4ef8-a844-52889f5aa31d",
   "metadata": {
    "id": "K5panqSGnMUE"
   },
   "outputs": [],
   "source": [
    "w_b_pvals_z['fdr_pval'] = w_b_fdr_z[1]"
   ]
  },
  {
   "cell_type": "code",
   "execution_count": 284,
   "id": "81c6da84-09f8-4caa-854e-29f7a75e4c56",
   "metadata": {
    "id": "cjZ8HZMYnMUE"
   },
   "outputs": [],
   "source": [
    "w_b_z_sig_diff = w_b_pvals_z.query('fdr_pval < 0.05')"
   ]
  },
  {
   "cell_type": "code",
   "execution_count": 285,
   "id": "ab5d5883-9999-496f-bb19-ba298f06a687",
   "metadata": {
    "colab": {
     "base_uri": "https://localhost:8080/",
     "height": 423
    },
    "id": "F01JkqAwnMUE",
    "outputId": "a117d7cf-dd4f-423a-e23b-66fd060deadd",
    "tags": []
   },
   "outputs": [
    {
     "data": {
      "text/html": [
       "<div>\n",
       "<style scoped>\n",
       "    .dataframe tbody tr th:only-of-type {\n",
       "        vertical-align: middle;\n",
       "    }\n",
       "\n",
       "    .dataframe tbody tr th {\n",
       "        vertical-align: top;\n",
       "    }\n",
       "\n",
       "    .dataframe thead th {\n",
       "        text-align: right;\n",
       "    }\n",
       "</style>\n",
       "<table border=\"1\" class=\"dataframe\">\n",
       "  <thead>\n",
       "    <tr style=\"text-align: right;\">\n",
       "      <th></th>\n",
       "      <th>fdr_pval</th>\n",
       "      <th>pval</th>\n",
       "      <th>roi</th>\n",
       "      <th>tstat</th>\n",
       "    </tr>\n",
       "  </thead>\n",
       "  <tbody>\n",
       "    <tr>\n",
       "      <th>12</th>\n",
       "      <td>0.000009</td>\n",
       "      <td>0.0</td>\n",
       "      <td>rh_S_circular_insula_inf_thickness_Z_estimate</td>\n",
       "      <td>-5.565802</td>\n",
       "    </tr>\n",
       "    <tr>\n",
       "      <th>44</th>\n",
       "      <td>0.005513</td>\n",
       "      <td>0.000074</td>\n",
       "      <td>lh_G_precentral_thickness_Z_estimate</td>\n",
       "      <td>-4.025817</td>\n",
       "    </tr>\n",
       "    <tr>\n",
       "      <th>46</th>\n",
       "      <td>0.041059</td>\n",
       "      <td>0.00178</td>\n",
       "      <td>lh_S_temporal_inf_thickness_Z_estimate</td>\n",
       "      <td>-3.15503</td>\n",
       "    </tr>\n",
       "    <tr>\n",
       "      <th>62</th>\n",
       "      <td>0.041059</td>\n",
       "      <td>0.002188</td>\n",
       "      <td>lh_G_front_middle_thickness_Z_estimate</td>\n",
       "      <td>-3.09564</td>\n",
       "    </tr>\n",
       "    <tr>\n",
       "      <th>73</th>\n",
       "      <td>0.041059</td>\n",
       "      <td>0.00219</td>\n",
       "      <td>rh_S_precentral-sup-part_thickness_Z_estimate</td>\n",
       "      <td>-3.090761</td>\n",
       "    </tr>\n",
       "    <tr>\n",
       "      <th>110</th>\n",
       "      <td>0.041059</td>\n",
       "      <td>0.002078</td>\n",
       "      <td>rh_Lat_Fis-ant-Horizont_thickness_Z_estimate</td>\n",
       "      <td>3.10719</td>\n",
       "    </tr>\n",
       "    <tr>\n",
       "      <th>127</th>\n",
       "      <td>0.03041</td>\n",
       "      <td>0.000608</td>\n",
       "      <td>lh_G_temporal_inf_thickness_Z_estimate</td>\n",
       "      <td>-3.466333</td>\n",
       "    </tr>\n",
       "    <tr>\n",
       "      <th>144</th>\n",
       "      <td>0.041059</td>\n",
       "      <td>0.00148</td>\n",
       "      <td>lh_S_collat_transv_post_thickness_Z_estimate</td>\n",
       "      <td>-3.209491</td>\n",
       "    </tr>\n",
       "  </tbody>\n",
       "</table>\n",
       "</div>"
      ],
      "text/plain": [
       "     fdr_pval      pval                                            roi  \\\n",
       "12   0.000009       0.0  rh_S_circular_insula_inf_thickness_Z_estimate   \n",
       "44   0.005513  0.000074           lh_G_precentral_thickness_Z_estimate   \n",
       "46   0.041059   0.00178         lh_S_temporal_inf_thickness_Z_estimate   \n",
       "62   0.041059  0.002188         lh_G_front_middle_thickness_Z_estimate   \n",
       "73   0.041059   0.00219  rh_S_precentral-sup-part_thickness_Z_estimate   \n",
       "110  0.041059  0.002078   rh_Lat_Fis-ant-Horizont_thickness_Z_estimate   \n",
       "127   0.03041  0.000608         lh_G_temporal_inf_thickness_Z_estimate   \n",
       "144  0.041059   0.00148   lh_S_collat_transv_post_thickness_Z_estimate   \n",
       "\n",
       "        tstat  \n",
       "12  -5.565802  \n",
       "44  -4.025817  \n",
       "46   -3.15503  \n",
       "62   -3.09564  \n",
       "73  -3.090761  \n",
       "110   3.10719  \n",
       "127 -3.466333  \n",
       "144 -3.209491  "
      ]
     },
     "execution_count": 285,
     "metadata": {},
     "output_type": "execute_result"
    }
   ],
   "source": [
    "w_b_z_sig_diff"
   ]
  },
  {
   "cell_type": "code",
   "execution_count": 286,
   "id": "b864d7a8-8938-45e7-8d12-8bc5c4eda1de",
   "metadata": {
    "colab": {
     "base_uri": "https://localhost:8080/"
    },
    "id": "170sEtkynMUE",
    "outputId": "7b601d8d-c73e-44ba-a523-4eddb6dea46b"
   },
   "outputs": [
    {
     "data": {
      "text/plain": [
       "(8, 4)"
      ]
     },
     "execution_count": 286,
     "metadata": {},
     "output_type": "execute_result"
    }
   ],
   "source": [
    "w_b_z_sig_diff.shape"
   ]
  },
  {
   "cell_type": "code",
   "execution_count": 287,
   "id": "44c5622c-332a-4395-a6f3-e2a7ccf0230e",
   "metadata": {
    "tags": []
   },
   "outputs": [
    {
     "name": "stderr",
     "output_type": "stream",
     "text": [
      "/var/folders/xx/1xs7sc795_nf7k125153b6qh0000gn/T/ipykernel_6609/785070083.py:1: SettingWithCopyWarning: \n",
      "A value is trying to be set on a copy of a slice from a DataFrame.\n",
      "Try using .loc[row_indexer,col_indexer] = value instead\n",
      "\n",
      "See the caveats in the documentation: https://pandas.pydata.org/pandas-docs/stable/user_guide/indexing.html#returning-a-view-versus-a-copy\n",
      "  w_b_z_sig_diff['roi'] = w_b_z_sig_diff['roi'].str.replace('_thickness_Z_estimate', '', regex=True)\n",
      "/var/folders/xx/1xs7sc795_nf7k125153b6qh0000gn/T/ipykernel_6609/785070083.py:2: SettingWithCopyWarning: \n",
      "A value is trying to be set on a copy of a slice from a DataFrame.\n",
      "Try using .loc[row_indexer,col_indexer] = value instead\n",
      "\n",
      "See the caveats in the documentation: https://pandas.pydata.org/pandas-docs/stable/user_guide/indexing.html#returning-a-view-versus-a-copy\n",
      "  w_b_z_sig_diff['roi'] = w_b_z_sig_diff['roi'].str.replace('G&S', 'G_and_S', regex=True)\n"
     ]
    }
   ],
   "source": [
    "w_b_z_sig_diff['roi'] = w_b_z_sig_diff['roi'].str.replace('_thickness_Z_estimate', '', regex=True)\n",
    "w_b_z_sig_diff['roi'] = w_b_z_sig_diff['roi'].str.replace('G&S', 'G_and_S', regex=True)"
   ]
  },
  {
   "cell_type": "code",
   "execution_count": 288,
   "id": "780ec259-66d4-418c-8099-514b65132c68",
   "metadata": {
    "tags": []
   },
   "outputs": [
    {
     "name": "stderr",
     "output_type": "stream",
     "text": [
      "/opt/anaconda3/envs/braincharts/lib/python3.9/site-packages/pandas/core/frame.py:3641: SettingWithCopyWarning: \n",
      "A value is trying to be set on a copy of a slice from a DataFrame.\n",
      "Try using .loc[row_indexer,col_indexer] = value instead\n",
      "\n",
      "See the caveats in the documentation: https://pandas.pydata.org/pandas-docs/stable/user_guide/indexing.html#returning-a-view-versus-a-copy\n",
      "  self[k1] = value[k2]\n"
     ]
    }
   ],
   "source": [
    "w_b_z_sig_diff[['temp1', 'temp2']] = w_b_z_sig_diff['roi'].str.split(pat=\"_\", n=1, expand=True)"
   ]
  },
  {
   "cell_type": "code",
   "execution_count": 289,
   "id": "e9d71912-de1a-45c1-81b0-0127421d21c9",
   "metadata": {
    "tags": []
   },
   "outputs": [
    {
     "name": "stderr",
     "output_type": "stream",
     "text": [
      "/opt/anaconda3/envs/braincharts/lib/python3.9/site-packages/pandas/core/generic.py:5516: SettingWithCopyWarning: \n",
      "A value is trying to be set on a copy of a slice from a DataFrame.\n",
      "Try using .loc[row_indexer,col_indexer] = value instead\n",
      "\n",
      "See the caveats in the documentation: https://pandas.pydata.org/pandas-docs/stable/user_guide/indexing.html#returning-a-view-versus-a-copy\n",
      "  self[name] = value\n"
     ]
    }
   ],
   "source": [
    "w_b_z_sig_diff.temp1 = w_b_z_sig_diff.temp1.apply(lambda x: 'left' if 'lh' in x else x)"
   ]
  },
  {
   "cell_type": "code",
   "execution_count": 290,
   "id": "67fc6d03-e8a5-4def-a062-b95f7dc021b5",
   "metadata": {},
   "outputs": [],
   "source": [
    "w_b_z_sig_diff.temp1 = w_b_z_sig_diff.temp1.apply(lambda x: 'right' if 'rh' in x else x)"
   ]
  },
  {
   "cell_type": "code",
   "execution_count": 291,
   "id": "a95553fa-0c52-44e6-b0fb-7b01d30ab2ba",
   "metadata": {},
   "outputs": [],
   "source": [
    "df = w_b_z_sig_diff[w_b_z_sig_diff[\"temp1\"].str.contains('left|right')]"
   ]
  },
  {
   "cell_type": "code",
   "execution_count": 292,
   "id": "56ed59d8-9f81-4ac0-a3a7-0aa4b91c4e32",
   "metadata": {},
   "outputs": [],
   "source": [
    "df['hemi'] = df['temp1']"
   ]
  },
  {
   "cell_type": "code",
   "execution_count": 293,
   "id": "d1e52165-79cd-48c3-a5d8-830e98708dcb",
   "metadata": {},
   "outputs": [],
   "source": [
    "df['ROI'] = df['temp2']"
   ]
  },
  {
   "cell_type": "code",
   "execution_count": 294,
   "id": "e81b05a3-de98-4090-a825-ab526e97e15b",
   "metadata": {},
   "outputs": [
    {
     "data": {
      "text/plain": [
       "Index(['fdr_pval', 'pval', 'roi', 'tstat', 'temp1', 'temp2', 'hemi', 'ROI'], dtype='object')"
      ]
     },
     "execution_count": 294,
     "metadata": {},
     "output_type": "execute_result"
    }
   ],
   "source": [
    "df.columns"
   ]
  },
  {
   "cell_type": "code",
   "execution_count": 295,
   "id": "47bf3b62-f774-4260-a736-ae2801fd8c11",
   "metadata": {},
   "outputs": [],
   "source": [
    "df = df[['tstat', 'fdr_pval', 'hemi', 'ROI']]"
   ]
  },
  {
   "cell_type": "code",
   "execution_count": 296,
   "id": "9a0e0aaa-8e4c-4c7d-8c61-4e3ec9cf1617",
   "metadata": {},
   "outputs": [],
   "source": [
    "w_b_z_sig_diff = df"
   ]
  },
  {
   "cell_type": "code",
   "execution_count": 297,
   "id": "e0a8e39a-2391-4d09-b5df-3cecc5d53134",
   "metadata": {
    "tags": []
   },
   "outputs": [],
   "source": [
    "w_b_z_sig_diff_l = w_b_z_sig_diff.query('hemi == \"left\"')\n",
    "w_b_z_sig_diff_r = w_b_z_sig_diff.query('hemi == \"right\"')"
   ]
  },
  {
   "cell_type": "code",
   "execution_count": 298,
   "id": "31289dce-060a-47fc-ac5d-df07d15a579a",
   "metadata": {},
   "outputs": [],
   "source": [
    "nl_w_b_z_sig_diff_l = pd.merge(nl, w_b_z_sig_diff_l, on='ROI', how='left')\n",
    "nl_w_b_z_sig_diff_r = pd.merge(nl, w_b_z_sig_diff_r, on='ROI', how='left')"
   ]
  },
  {
   "cell_type": "code",
   "execution_count": 299,
   "id": "3217226d-f64e-4097-97b0-de1f9d454798",
   "metadata": {
    "tags": []
   },
   "outputs": [],
   "source": [
    "nl_w_b_z_sig_diff_l['tstat'] = nl_w_b_z_sig_diff_l['tstat'].fillna(0)\n",
    "nl_w_b_z_sig_diff_r['tstat'] = nl_w_b_z_sig_diff_r['tstat'].fillna(0)"
   ]
  },
  {
   "cell_type": "code",
   "execution_count": 300,
   "id": "6800fae6-7e3e-402a-85bd-98a3ea1d1941",
   "metadata": {
    "tags": []
   },
   "outputs": [],
   "source": [
    "nl_w_b_z_sig_diff_l = nl_w_b_z_sig_diff_l['tstat'].to_numpy()\n",
    "nl_w_b_z_sig_diff_r = nl_w_b_z_sig_diff_r['tstat'].to_numpy()"
   ]
  },
  {
   "cell_type": "code",
   "execution_count": 301,
   "id": "cf4c8127-0bec-4148-9ea2-3779b55633d8",
   "metadata": {},
   "outputs": [],
   "source": [
    "a_list = list(range(1, 76))\n",
    "parcellation_l = atlas_l\n",
    "for i, j in enumerate(a_list):\n",
    "    parcellation_l = np.where(parcellation_l == j, nl_w_b_z_sig_diff_l[i], parcellation_l)"
   ]
  },
  {
   "cell_type": "code",
   "execution_count": 302,
   "id": "e7aa764c-4326-433f-8417-0b750dadc37f",
   "metadata": {},
   "outputs": [],
   "source": [
    "a_list = list(range(1, 76))\n",
    "parcellation_r = atlas_r\n",
    "for i, j in enumerate(a_list):\n",
    "    parcellation_r = np.where(parcellation_r == j, nl_w_b_z_sig_diff_r[i], parcellation_r)"
   ]
  },
  {
   "cell_type": "code",
   "execution_count": 303,
   "id": "bb818477-05cc-42d3-8cc7-d838b1907d53",
   "metadata": {},
   "outputs": [],
   "source": [
    "# Positive value == whites have higher error\n",
    "# Negative value == blacks have higher error\n",
    "plotting.plot_surf_roi(fsaverage['infl_left'], roi_map=parcellation_l, hemi='left', cmap='plasma', bg_map=fsaverage['sulc_left'], vmin=-4, vmax=8, view='lateral', output_file='/Users/saigerutherford/Desktop/hcp_racemodeled_WvB_Z_l.png');"
   ]
  },
  {
   "cell_type": "code",
   "execution_count": 304,
   "id": "45d083ee-bedf-426d-9b7a-17f0e4497aec",
   "metadata": {},
   "outputs": [],
   "source": [
    "plotting.plot_surf_roi(fsaverage['infl_right'], roi_map=parcellation_r, hemi='right', cmap='plasma', bg_map=fsaverage['sulc_right'], vmin=-4, vmax=8, view='lateral', output_file='/Users/saigerutherford/Desktop/hcp_racemodeled_WvB_Z_r.png');"
   ]
  },
  {
   "cell_type": "code",
   "execution_count": 305,
   "id": "9a36f318-564b-458e-ac9e-c3448281c285",
   "metadata": {
    "id": "VdQgUo29nMUD"
   },
   "outputs": [],
   "source": [
    "w_a_pvals_z = pd.DataFrame(columns={'roi','pval', 'tstat','fdr_pval'})\n",
    "for index, column in enumerate(z_cols):\n",
    "    test = ttest_ind(w_deviations[column], a_deviations[column], equal_var=False)\n",
    "    w_a_pvals_z.loc[index, 'pval'] = test.pvalue\n",
    "    w_a_pvals_z.loc[index, 'tstat'] = test.statistic\n",
    "    w_a_pvals_z.loc[index, 'roi'] = column"
   ]
  },
  {
   "cell_type": "code",
   "execution_count": 306,
   "id": "3ac6d81c-e306-48f5-be5a-b7ed28cf940b",
   "metadata": {
    "id": "n8JfELPdnMUE"
   },
   "outputs": [],
   "source": [
    "w_a_fdr_z = multitest.fdrcorrection(w_a_pvals_z['pval'], alpha=0.05, method='indep', is_sorted=False)"
   ]
  },
  {
   "cell_type": "code",
   "execution_count": 307,
   "id": "894550a5-f3cc-4528-bab4-f30f07bf81b4",
   "metadata": {
    "id": "K5panqSGnMUE"
   },
   "outputs": [],
   "source": [
    "w_a_pvals_z['fdr_pval'] = w_a_fdr_z[1]"
   ]
  },
  {
   "cell_type": "code",
   "execution_count": 308,
   "id": "8f7a87ec-54d9-473e-a2b0-84fbd9643c4c",
   "metadata": {
    "id": "cjZ8HZMYnMUE"
   },
   "outputs": [],
   "source": [
    "w_a_z_sig_diff = w_a_pvals_z.query('fdr_pval < 0.05')"
   ]
  },
  {
   "cell_type": "code",
   "execution_count": 309,
   "id": "f9231757-d2b9-42c7-9522-394a4cd06fdf",
   "metadata": {
    "colab": {
     "base_uri": "https://localhost:8080/",
     "height": 423
    },
    "id": "F01JkqAwnMUE",
    "outputId": "a117d7cf-dd4f-423a-e23b-66fd060deadd",
    "tags": []
   },
   "outputs": [
    {
     "data": {
      "text/html": [
       "<div>\n",
       "<style scoped>\n",
       "    .dataframe tbody tr th:only-of-type {\n",
       "        vertical-align: middle;\n",
       "    }\n",
       "\n",
       "    .dataframe tbody tr th {\n",
       "        vertical-align: top;\n",
       "    }\n",
       "\n",
       "    .dataframe thead th {\n",
       "        text-align: right;\n",
       "    }\n",
       "</style>\n",
       "<table border=\"1\" class=\"dataframe\">\n",
       "  <thead>\n",
       "    <tr style=\"text-align: right;\">\n",
       "      <th></th>\n",
       "      <th>fdr_pval</th>\n",
       "      <th>pval</th>\n",
       "      <th>roi</th>\n",
       "      <th>tstat</th>\n",
       "    </tr>\n",
       "  </thead>\n",
       "  <tbody>\n",
       "    <tr>\n",
       "      <th>2</th>\n",
       "      <td>0.00331</td>\n",
       "      <td>0.000044</td>\n",
       "      <td>rh_G&amp;S_subcentral_thickness_Z_estimate</td>\n",
       "      <td>4.294643</td>\n",
       "    </tr>\n",
       "    <tr>\n",
       "      <th>27</th>\n",
       "      <td>0.000009</td>\n",
       "      <td>0.0</td>\n",
       "      <td>rh_G_rectus_thickness_Z_estimate</td>\n",
       "      <td>5.832422</td>\n",
       "    </tr>\n",
       "    <tr>\n",
       "      <th>28</th>\n",
       "      <td>0.023473</td>\n",
       "      <td>0.001095</td>\n",
       "      <td>lh_G_temp_sup-G_T_transv_thickness_Z_estimate</td>\n",
       "      <td>3.3573</td>\n",
       "    </tr>\n",
       "    <tr>\n",
       "      <th>39</th>\n",
       "      <td>0.029231</td>\n",
       "      <td>0.001754</td>\n",
       "      <td>rh_S_collat_transv_post_thickness_Z_estimate</td>\n",
       "      <td>-3.239002</td>\n",
       "    </tr>\n",
       "    <tr>\n",
       "      <th>46</th>\n",
       "      <td>0.042836</td>\n",
       "      <td>0.003141</td>\n",
       "      <td>lh_S_temporal_inf_thickness_Z_estimate</td>\n",
       "      <td>-3.021891</td>\n",
       "    </tr>\n",
       "    <tr>\n",
       "      <th>48</th>\n",
       "      <td>0.011124</td>\n",
       "      <td>0.000371</td>\n",
       "      <td>lh_S_collat_transv_ant_thickness_Z_estimate</td>\n",
       "      <td>-3.720549</td>\n",
       "    </tr>\n",
       "    <tr>\n",
       "      <th>69</th>\n",
       "      <td>0.011124</td>\n",
       "      <td>0.000251</td>\n",
       "      <td>lh_S_oc_middle&amp;Lunatus_thickness_Z_estimate</td>\n",
       "      <td>-3.804273</td>\n",
       "    </tr>\n",
       "    <tr>\n",
       "      <th>93</th>\n",
       "      <td>0.029231</td>\n",
       "      <td>0.001745</td>\n",
       "      <td>rh_S_circular_insula_sup_thickness_Z_estimate</td>\n",
       "      <td>-3.219712</td>\n",
       "    </tr>\n",
       "    <tr>\n",
       "      <th>95</th>\n",
       "      <td>0.011717</td>\n",
       "      <td>0.000469</td>\n",
       "      <td>rh_Pole_occipital_thickness_Z_estimate</td>\n",
       "      <td>-3.64273</td>\n",
       "    </tr>\n",
       "    <tr>\n",
       "      <th>101</th>\n",
       "      <td>0.039595</td>\n",
       "      <td>0.00264</td>\n",
       "      <td>lh_S_pericallosal_thickness_Z_estimate</td>\n",
       "      <td>-3.084888</td>\n",
       "    </tr>\n",
       "    <tr>\n",
       "      <th>105</th>\n",
       "      <td>0.04855</td>\n",
       "      <td>0.004208</td>\n",
       "      <td>lh_G_front_inf-Orbital_thickness_Z_estimate</td>\n",
       "      <td>-2.930701</td>\n",
       "    </tr>\n",
       "    <tr>\n",
       "      <th>107</th>\n",
       "      <td>0.044424</td>\n",
       "      <td>0.003554</td>\n",
       "      <td>rh_S_oc_middle&amp;Lunatus_thickness_Z_estimate</td>\n",
       "      <td>-3.000218</td>\n",
       "    </tr>\n",
       "    <tr>\n",
       "      <th>130</th>\n",
       "      <td>0.011124</td>\n",
       "      <td>0.000333</td>\n",
       "      <td>rh_S_cingul-Marginalis_thickness_Z_estimate</td>\n",
       "      <td>-3.739881</td>\n",
       "    </tr>\n",
       "  </tbody>\n",
       "</table>\n",
       "</div>"
      ],
      "text/plain": [
       "     fdr_pval      pval                                            roi  \\\n",
       "2     0.00331  0.000044         rh_G&S_subcentral_thickness_Z_estimate   \n",
       "27   0.000009       0.0               rh_G_rectus_thickness_Z_estimate   \n",
       "28   0.023473  0.001095  lh_G_temp_sup-G_T_transv_thickness_Z_estimate   \n",
       "39   0.029231  0.001754   rh_S_collat_transv_post_thickness_Z_estimate   \n",
       "46   0.042836  0.003141         lh_S_temporal_inf_thickness_Z_estimate   \n",
       "48   0.011124  0.000371    lh_S_collat_transv_ant_thickness_Z_estimate   \n",
       "69   0.011124  0.000251    lh_S_oc_middle&Lunatus_thickness_Z_estimate   \n",
       "93   0.029231  0.001745  rh_S_circular_insula_sup_thickness_Z_estimate   \n",
       "95   0.011717  0.000469         rh_Pole_occipital_thickness_Z_estimate   \n",
       "101  0.039595   0.00264         lh_S_pericallosal_thickness_Z_estimate   \n",
       "105   0.04855  0.004208    lh_G_front_inf-Orbital_thickness_Z_estimate   \n",
       "107  0.044424  0.003554    rh_S_oc_middle&Lunatus_thickness_Z_estimate   \n",
       "130  0.011124  0.000333    rh_S_cingul-Marginalis_thickness_Z_estimate   \n",
       "\n",
       "        tstat  \n",
       "2    4.294643  \n",
       "27   5.832422  \n",
       "28     3.3573  \n",
       "39  -3.239002  \n",
       "46  -3.021891  \n",
       "48  -3.720549  \n",
       "69  -3.804273  \n",
       "93  -3.219712  \n",
       "95   -3.64273  \n",
       "101 -3.084888  \n",
       "105 -2.930701  \n",
       "107 -3.000218  \n",
       "130 -3.739881  "
      ]
     },
     "execution_count": 309,
     "metadata": {},
     "output_type": "execute_result"
    }
   ],
   "source": [
    "w_a_z_sig_diff"
   ]
  },
  {
   "cell_type": "code",
   "execution_count": 310,
   "id": "a2195699-967d-4872-8cdf-21b3d6035769",
   "metadata": {
    "colab": {
     "base_uri": "https://localhost:8080/"
    },
    "id": "170sEtkynMUE",
    "outputId": "7b601d8d-c73e-44ba-a523-4eddb6dea46b"
   },
   "outputs": [
    {
     "data": {
      "text/plain": [
       "(13, 4)"
      ]
     },
     "execution_count": 310,
     "metadata": {},
     "output_type": "execute_result"
    }
   ],
   "source": [
    "w_a_z_sig_diff.shape"
   ]
  },
  {
   "cell_type": "code",
   "execution_count": 311,
   "id": "167b6b3b-307f-459e-ae7a-f7a05832d13b",
   "metadata": {
    "tags": []
   },
   "outputs": [
    {
     "name": "stderr",
     "output_type": "stream",
     "text": [
      "/var/folders/xx/1xs7sc795_nf7k125153b6qh0000gn/T/ipykernel_6609/703599908.py:1: SettingWithCopyWarning: \n",
      "A value is trying to be set on a copy of a slice from a DataFrame.\n",
      "Try using .loc[row_indexer,col_indexer] = value instead\n",
      "\n",
      "See the caveats in the documentation: https://pandas.pydata.org/pandas-docs/stable/user_guide/indexing.html#returning-a-view-versus-a-copy\n",
      "  w_a_z_sig_diff['roi'] = w_a_z_sig_diff['roi'].str.replace('_thickness_Z_estimate', '', regex=True)\n",
      "/var/folders/xx/1xs7sc795_nf7k125153b6qh0000gn/T/ipykernel_6609/703599908.py:2: SettingWithCopyWarning: \n",
      "A value is trying to be set on a copy of a slice from a DataFrame.\n",
      "Try using .loc[row_indexer,col_indexer] = value instead\n",
      "\n",
      "See the caveats in the documentation: https://pandas.pydata.org/pandas-docs/stable/user_guide/indexing.html#returning-a-view-versus-a-copy\n",
      "  w_a_z_sig_diff['roi'] = w_a_z_sig_diff['roi'].str.replace('G&S', 'G_and_S', regex=True)\n"
     ]
    }
   ],
   "source": [
    "w_a_z_sig_diff['roi'] = w_a_z_sig_diff['roi'].str.replace('_thickness_Z_estimate', '', regex=True)\n",
    "w_a_z_sig_diff['roi'] = w_a_z_sig_diff['roi'].str.replace('G&S', 'G_and_S', regex=True)"
   ]
  },
  {
   "cell_type": "code",
   "execution_count": 312,
   "id": "aaeb6a26-d076-4e74-84d1-705b487b3a5d",
   "metadata": {
    "tags": []
   },
   "outputs": [
    {
     "name": "stderr",
     "output_type": "stream",
     "text": [
      "/opt/anaconda3/envs/braincharts/lib/python3.9/site-packages/pandas/core/frame.py:3641: SettingWithCopyWarning: \n",
      "A value is trying to be set on a copy of a slice from a DataFrame.\n",
      "Try using .loc[row_indexer,col_indexer] = value instead\n",
      "\n",
      "See the caveats in the documentation: https://pandas.pydata.org/pandas-docs/stable/user_guide/indexing.html#returning-a-view-versus-a-copy\n",
      "  self[k1] = value[k2]\n"
     ]
    }
   ],
   "source": [
    "w_a_z_sig_diff[['temp1', 'temp2']] = w_a_z_sig_diff['roi'].str.split(pat=\"_\", n=1, expand=True)"
   ]
  },
  {
   "cell_type": "code",
   "execution_count": 313,
   "id": "29c3dc61-7cc1-4cff-b033-218675e145bf",
   "metadata": {
    "tags": []
   },
   "outputs": [
    {
     "name": "stderr",
     "output_type": "stream",
     "text": [
      "/opt/anaconda3/envs/braincharts/lib/python3.9/site-packages/pandas/core/generic.py:5516: SettingWithCopyWarning: \n",
      "A value is trying to be set on a copy of a slice from a DataFrame.\n",
      "Try using .loc[row_indexer,col_indexer] = value instead\n",
      "\n",
      "See the caveats in the documentation: https://pandas.pydata.org/pandas-docs/stable/user_guide/indexing.html#returning-a-view-versus-a-copy\n",
      "  self[name] = value\n"
     ]
    }
   ],
   "source": [
    "w_a_z_sig_diff.temp1 = w_a_z_sig_diff.temp1.apply(lambda x: 'left' if 'lh' in x else x)"
   ]
  },
  {
   "cell_type": "code",
   "execution_count": 314,
   "id": "848f5a9b-58bf-4f6a-8f4c-0200d759cf6d",
   "metadata": {},
   "outputs": [],
   "source": [
    "w_a_z_sig_diff.temp1 = w_a_z_sig_diff.temp1.apply(lambda x: 'right' if 'rh' in x else x)"
   ]
  },
  {
   "cell_type": "code",
   "execution_count": 315,
   "id": "451beb8c-75cb-46d9-a5f9-800c020717cd",
   "metadata": {},
   "outputs": [],
   "source": [
    "df = w_a_z_sig_diff[w_a_z_sig_diff[\"temp1\"].str.contains('left|right')]"
   ]
  },
  {
   "cell_type": "code",
   "execution_count": 316,
   "id": "7b72789b-135c-4c71-ae17-48a6c4f73707",
   "metadata": {},
   "outputs": [],
   "source": [
    "df['hemi'] = df['temp1']"
   ]
  },
  {
   "cell_type": "code",
   "execution_count": 317,
   "id": "410f0ef2-b2d4-4c85-896f-495cb863402a",
   "metadata": {},
   "outputs": [],
   "source": [
    "df['ROI'] = df['temp2']"
   ]
  },
  {
   "cell_type": "code",
   "execution_count": 318,
   "id": "4c106ba4-1e6b-4aee-98c6-57b7a62c2240",
   "metadata": {},
   "outputs": [
    {
     "data": {
      "text/plain": [
       "Index(['fdr_pval', 'pval', 'roi', 'tstat', 'temp1', 'temp2', 'hemi', 'ROI'], dtype='object')"
      ]
     },
     "execution_count": 318,
     "metadata": {},
     "output_type": "execute_result"
    }
   ],
   "source": [
    "df.columns"
   ]
  },
  {
   "cell_type": "code",
   "execution_count": 319,
   "id": "21d7c431-5919-4387-9c90-09fe45c29727",
   "metadata": {},
   "outputs": [],
   "source": [
    "df = df[['tstat', 'fdr_pval', 'hemi', 'ROI']]"
   ]
  },
  {
   "cell_type": "code",
   "execution_count": 320,
   "id": "ce0cda4e-3c2d-4ccf-a093-019d258f70c2",
   "metadata": {},
   "outputs": [],
   "source": [
    "w_a_z_sig_diff = df"
   ]
  },
  {
   "cell_type": "code",
   "execution_count": 321,
   "id": "5b97ef41-b0a9-42bb-8f8b-ada1c884f8a7",
   "metadata": {
    "tags": []
   },
   "outputs": [],
   "source": [
    "w_a_z_sig_diff_l = w_a_z_sig_diff.query('hemi == \"left\"')\n",
    "w_a_z_sig_diff_r = w_a_z_sig_diff.query('hemi == \"right\"')"
   ]
  },
  {
   "cell_type": "code",
   "execution_count": 322,
   "id": "7f0a4d78-e858-4650-8525-364978703e79",
   "metadata": {},
   "outputs": [],
   "source": [
    "nl_w_a_z_sig_diff_l = pd.merge(nl, w_a_z_sig_diff_l, on='ROI', how='left')\n",
    "nl_w_a_z_sig_diff_r = pd.merge(nl, w_a_z_sig_diff_r, on='ROI', how='left')"
   ]
  },
  {
   "cell_type": "code",
   "execution_count": 323,
   "id": "49518510-bd1e-4b47-a251-86452490a631",
   "metadata": {
    "tags": []
   },
   "outputs": [],
   "source": [
    "nl_w_a_z_sig_diff_l['tstat'] = nl_w_a_z_sig_diff_l['tstat'].fillna(0)\n",
    "nl_w_a_z_sig_diff_r['tstat'] = nl_w_a_z_sig_diff_r['tstat'].fillna(0)"
   ]
  },
  {
   "cell_type": "code",
   "execution_count": 324,
   "id": "b7a46a14-51ab-491b-990c-f08ae0340f54",
   "metadata": {
    "tags": []
   },
   "outputs": [],
   "source": [
    "nl_w_a_z_sig_diff_l = nl_w_a_z_sig_diff_l['tstat'].to_numpy()\n",
    "nl_w_a_z_sig_diff_r = nl_w_a_z_sig_diff_r['tstat'].to_numpy()"
   ]
  },
  {
   "cell_type": "code",
   "execution_count": 325,
   "id": "977efb5c-277f-4f78-8757-d690053c70f5",
   "metadata": {},
   "outputs": [],
   "source": [
    "a_list = list(range(1, 76))\n",
    "parcellation_l = atlas_l\n",
    "for i, j in enumerate(a_list):\n",
    "    parcellation_l = np.where(parcellation_l == j, nl_w_a_z_sig_diff_l[i], parcellation_l)"
   ]
  },
  {
   "cell_type": "code",
   "execution_count": 326,
   "id": "9b7b558e-0693-4c07-88e3-0ac4922ee65f",
   "metadata": {},
   "outputs": [],
   "source": [
    "a_list = list(range(1, 76))\n",
    "parcellation_r = atlas_r\n",
    "for i, j in enumerate(a_list):\n",
    "    parcellation_r = np.where(parcellation_r == j, nl_w_a_z_sig_diff_r[i], parcellation_r)"
   ]
  },
  {
   "cell_type": "code",
   "execution_count": 327,
   "id": "45bd3c27-c642-4b29-a559-e2fb7d054063",
   "metadata": {},
   "outputs": [],
   "source": [
    "# Positive value == whites have higher error\n",
    "# Negative value == blacks have higher error\n",
    "plotting.plot_surf_roi(fsaverage['infl_left'], roi_map=parcellation_l, hemi='left', cmap='plasma', bg_map=fsaverage['sulc_left'], vmin=-4, vmax=8, view='lateral', output_file='/Users/saigerutherford/Desktop/hcp_racemodeled_WvA_Z_l.png');"
   ]
  },
  {
   "cell_type": "code",
   "execution_count": 328,
   "id": "8752bb1c-2beb-4b7d-ae18-9f865c092e2f",
   "metadata": {},
   "outputs": [],
   "source": [
    "plotting.plot_surf_roi(fsaverage['infl_right'], roi_map=parcellation_r, hemi='right', cmap='plasma', bg_map=fsaverage['sulc_right'], vmin=-4, vmax=8, view='lateral', output_file='/Users/saigerutherford/Desktop/hcp_racemodeled_WvA_Z_r.png');"
   ]
  },
  {
   "cell_type": "markdown",
   "id": "bf8a2014-b826-4159-954d-f0e315928fb8",
   "metadata": {},
   "source": [
    "### T-Tests on group mean and variance (across all ROIs)"
   ]
  },
  {
   "cell_type": "markdown",
   "id": "de172eb5-bfec-4184-b2dc-52e39180c016",
   "metadata": {},
   "source": [
    "### HCP pretrained"
   ]
  },
  {
   "cell_type": "code",
   "execution_count": 87,
   "id": "591a6f33-fc4c-4b51-8483-bb24836644b3",
   "metadata": {},
   "outputs": [],
   "source": [
    "Z_df = pd.read_csv('/Users/saigerutherford/Documents/Work/drive-download-20220731T221458Z-001/pretrained_nm_z_demos_hcp.csv')"
   ]
  },
  {
   "cell_type": "code",
   "execution_count": 88,
   "id": "958cdc6c-3eaf-43d4-b8b9-105635eba3ad",
   "metadata": {
    "jupyter": {
     "source_hidden": true
    },
    "tags": []
   },
   "outputs": [],
   "source": [
    "keep_cols = ['sub_id','Race','rh_S_cingul-Marginalis_thickness_Z_predict',\n",
    " 'rh_S_collat_transv_ant_thickness_Z_predict',\n",
    " 'Left-Amygdala_Z_predict',\n",
    " 'lh_S_orbital-H_Shaped_thickness_Z_predict',\n",
    " 'lh_G&S_frontomargin_thickness_Z_predict',\n",
    " 'Right-vessel_Z_predict',\n",
    " 'Right-Thalamus-Proper_Z_predict',\n",
    " 'rh_G&S_cingul-Mid-Post_thickness_Z_predict',\n",
    " 'rh_G&S_paracentral_thickness_Z_predict',\n",
    " 'Right-Inf-Lat-Vent_Z_predict',\n",
    " 'lh_S_temporal_inf_thickness_Z_predict',\n",
    " 'rh_S_precentral-inf-part_thickness_Z_predict',\n",
    " 'rh_S_subparietal_thickness_Z_predict',\n",
    " 'rh_G_insular_short_thickness_Z_predict',\n",
    " 'lh_G_temp_sup-Plan_polar_thickness_Z_predict',\n",
    " 'lh_S_orbital_med-olfact_thickness_Z_predict',\n",
    " 'rh_G&S_transv_frontopol_thickness_Z_predict',\n",
    " 'rh_S_collat_transv_post_thickness_Z_predict',\n",
    " 'SupraTentorialVol_Z_predict',\n",
    " 'lh_G&S_subcentral_thickness_Z_predict',\n",
    " 'Right-Putamen_Z_predict',\n",
    " 'lh_G&S_cingul-Ant_thickness_Z_predict',\n",
    " 'rh_S_front_middle_thickness_Z_predict',\n",
    " 'Left-Putamen_Z_predict',\n",
    " 'rh_G_temporal_middle_thickness_Z_predict',\n",
    " 'rh_G_Ins_lg&S_cent_ins_thickness_Z_predict',\n",
    " 'lh_G&S_cingul-Mid-Post_thickness_Z_predict',\n",
    " 'rh_G&S_occipital_inf_thickness_Z_predict',\n",
    " 'lh_G_front_middle_thickness_Z_predict',\n",
    " 'lh_Lat_Fis-ant-Vertical_thickness_Z_predict',\n",
    " 'rh_G_oc-temp_med-Parahip_thickness_Z_predict',\n",
    " 'lh_G_oc-temp_lat-fusifor_thickness_Z_predict',\n",
    " 'rh_G_occipital_middle_thickness_Z_predict',\n",
    " 'lh_S_collat_transv_post_thickness_Z_predict',\n",
    " 'lh_G_temp_sup-Plan_tempo_thickness_Z_predict',\n",
    " 'rh_G_pariet_inf-Supramar_thickness_Z_predict',\n",
    " 'rh_S_parieto_occipital_thickness_Z_predict',\n",
    " 'rh_S_oc_middle&Lunatus_thickness_Z_predict',\n",
    " 'rh_S_front_inf_thickness_Z_predict',\n",
    " 'rh_Lat_Fis-ant-Vertical_thickness_Z_predict',\n",
    " 'rh_S_precentral-sup-part_thickness_Z_predict',\n",
    " 'Left-Thalamus-Proper_Z_predict',\n",
    " 'rh_Pole_temporal_thickness_Z_predict',\n",
    " 'rh_S_circular_insula_inf_thickness_Z_predict',\n",
    " 'lh_S_postcentral_thickness_Z_predict',\n",
    " 'lh_G_temp_sup-G_T_transv_thickness_Z_predict',\n",
    " 'rh_G&S_cingul-Mid-Ant_thickness_Z_predict',\n",
    " 'rh_G_oc-temp_lat-fusifor_thickness_Z_predict',\n",
    " 'rh_G_temp_sup-Lateral_thickness_Z_predict',\n",
    " 'rh_G_cingul-Post-dorsal_thickness_Z_predict',\n",
    " 'rh_S_suborbital_thickness_Z_predict',\n",
    " 'lh_S_interm_prim-Jensen_thickness_Z_predict',\n",
    " 'Right-Cerebellum-White-Matter_Z_predict',\n",
    " 'lh_S_suborbital_thickness_Z_predict',\n",
    " 'lh_S_circular_insula_inf_thickness_Z_predict',\n",
    " 'lh_G_cuneus_thickness_Z_predict',\n",
    " '4th-Ventricle_Z_predict',\n",
    " 'lh_G_temporal_middle_thickness_Z_predict',\n",
    " 'rh_S_orbital_lateral_thickness_Z_predict',\n",
    " 'lh_S_oc_middle&Lunatus_thickness_Z_predict',\n",
    " 'rh_G_parietal_sup_thickness_Z_predict',\n",
    " 'lh_S_temporal_transverse_thickness_Z_predict',\n",
    " 'rh_G_pariet_inf-Angular_thickness_Z_predict',\n",
    " 'lh_S_circular_insula_sup_thickness_Z_predict',\n",
    " 'lh_G_rectus_thickness_Z_predict',\n",
    " 'rh_S_postcentral_thickness_Z_predict',\n",
    " 'Left-Cerebellum-White-Matter_Z_predict',\n",
    " 'rh_S_calcarine_thickness_Z_predict',\n",
    " 'CSF_Z_predict',\n",
    " 'lh_G_pariet_inf-Supramar_thickness_Z_predict',\n",
    " 'rh_S_oc-temp_lat_thickness_Z_predict',\n",
    " 'lh_G_precuneus_thickness_Z_predict',\n",
    " 'rh_Lat_Fis-ant-Horizont_thickness_Z_predict',\n",
    " 'Left-Pallidum_Z_predict',\n",
    " 'Left-choroid-plexus_Z_predict',\n",
    " '3rd-Ventricle_Z_predict',\n",
    " 'rh_S_interm_prim-Jensen_thickness_Z_predict',\n",
    " 'Right-Lateral-Ventricle_Z_predict',\n",
    " 'rh_G_occipital_sup_thickness_Z_predict',\n",
    " 'rh_S_orbital-H_Shaped_thickness_Z_predict',\n",
    " 'lh_G_postcentral_thickness_Z_predict',\n",
    " 'lh_S_intrapariet&P_trans_thickness_Z_predict',\n",
    " 'TotalGrayVol_Z_predict',\n",
    " 'lh_Lat_Fis-post_thickness_Z_predict',\n",
    " 'Right-Hippocampus_Z_predict',\n",
    " 'Right-choroid-plexus_Z_predict',\n",
    " 'lh_S_oc-temp_lat_thickness_Z_predict',\n",
    " 'lh_MeanThickness_thickness_Z_predict',\n",
    " 'lh_G_insular_short_thickness_Z_predict',\n",
    " 'rh_G_temp_sup-G_T_transv_thickness_Z_predict',\n",
    " 'rh_G_cuneus_thickness_Z_predict',\n",
    " 'lh_G_front_inf-Triangul_thickness_Z_predict',\n",
    " 'lh_S_parieto_occipital_thickness_Z_predict',\n",
    " 'Right-Caudate_Z_predict',\n",
    " 'Left-Inf-Lat-Vent_Z_predict',\n",
    " 'lh_G_front_inf-Opercular_thickness_Z_predict',\n",
    " 'lh_G_cingul-Post-dorsal_thickness_Z_predict',\n",
    " 'rh_S_intrapariet&P_trans_thickness_Z_predict',\n",
    " 'lh_S_oc_sup&transversal_thickness_Z_predict',\n",
    " 'rh_MeanThickness_thickness_Z_predict',\n",
    " 'lh_S_front_inf_thickness_Z_predict',\n",
    " 'lh_G_orbital_thickness_Z_predict',\n",
    " 'lh_G_occipital_middle_thickness_Z_predict',\n",
    " 'lh_G_Ins_lg&S_cent_ins_thickness_Z_predict',\n",
    " 'rh_S_oc_sup&transversal_thickness_Z_predict',\n",
    " 'rh_S_oc-temp_med&Lingual_thickness_Z_predict',\n",
    " 'lh_S_temporal_sup_thickness_Z_predict',\n",
    " 'rh_G_temp_sup-Plan_tempo_thickness_Z_predict',\n",
    " 'Right-Accumbens-area_Z_predict',\n",
    " 'rh_G&S_cingul-Ant_thickness_Z_predict',\n",
    " 'lh_G_oc-temp_med-Lingual_thickness_Z_predict',\n",
    " 'lh_Pole_occipital_thickness_Z_predict',\n",
    " 'lh_S_collat_transv_ant_thickness_Z_predict',\n",
    " 'rh_S_circular_insula_sup_thickness_Z_predict',\n",
    " 'lh_S_precentral-sup-part_thickness_Z_predict',\n",
    " 'lh_G_front_sup_thickness_Z_predict',\n",
    " 'lh_S_circular_insula_ant_thickness_Z_predict',\n",
    " 'rh_G_oc-temp_med-Lingual_thickness_Z_predict',\n",
    " 'rh_G_front_sup_thickness_Z_predict',\n",
    " 'rh_S_occipital_ant_thickness_Z_predict',\n",
    " 'lh_S_pericallosal_thickness_Z_predict',\n",
    " 'rh_G_front_inf-Orbital_thickness_Z_predict',\n",
    " 'rh_G_postcentral_thickness_Z_predict',\n",
    " 'rh_G_precentral_thickness_Z_predict',\n",
    " 'lh_G_subcallosal_thickness_Z_predict',\n",
    " 'rh_S_temporal_sup_thickness_Z_predict',\n",
    " 'Right-VentralDC_Z_predict',\n",
    " 'Right-Pallidum_Z_predict',\n",
    " 'lh_Lat_Fis-ant-Horizont_thickness_Z_predict',\n",
    " 'Left-Caudate_Z_predict',\n",
    " 'Left-vessel_Z_predict',\n",
    " 'SubCortGrayVol_Z_predict',\n",
    " 'lh_S_precentral-inf-part_thickness_Z_predict',\n",
    " 'Right-Cerebellum-Cortex_Z_predict',\n",
    " 'Left-Cerebellum-Cortex_Z_predict',\n",
    " 'rh_S_pericallosal_thickness_Z_predict',\n",
    " 'lh_G_occipital_sup_thickness_Z_predict',\n",
    " 'rh_G&S_subcentral_thickness_Z_predict',\n",
    " 'rh_G_cingul-Post-ventral_thickness_Z_predict',\n",
    " 'lh_S_calcarine_thickness_Z_predict',\n",
    " 'Right-Amygdala_Z_predict',\n",
    " 'Left-Accumbens-area_Z_predict',\n",
    " 'Left-Lateral-Ventricle_Z_predict',\n",
    " 'rh_G_orbital_thickness_Z_predict',\n",
    " 'lh_S_orbital_lateral_thickness_Z_predict',\n",
    " 'rh_G_front_inf-Triangul_thickness_Z_predict',\n",
    " 'rh_G_temporal_inf_thickness_Z_predict',\n",
    " 'lh_S_occipital_ant_thickness_Z_predict',\n",
    " 'lh_S_front_middle_thickness_Z_predict',\n",
    " 'lh_G&S_transv_frontopol_thickness_Z_predict',\n",
    " 'rh_S_orbital_med-olfact_thickness_Z_predict',\n",
    " 'Left-VentralDC_Z_predict',\n",
    " 'lh_G_pariet_inf-Angular_thickness_Z_predict',\n",
    " 'lh_G_temp_sup-Lateral_thickness_Z_predict',\n",
    " 'Left-Hippocampus_Z_predict',\n",
    " 'lh_S_central_thickness_Z_predict',\n",
    " 'lh_S_cingul-Marginalis_thickness_Z_predict',\n",
    " 'lh_G_oc-temp_med-Parahip_thickness_Z_predict',\n",
    " 'lh_G_parietal_sup_thickness_Z_predict',\n",
    " 'lh_G&S_cingul-Mid-Ant_thickness_Z_predict',\n",
    " 'lh_Pole_temporal_thickness_Z_predict',\n",
    " 'lh_G_precentral_thickness_Z_predict',\n",
    " 'rh_S_temporal_transverse_thickness_Z_predict',\n",
    " 'rh_G_front_middle_thickness_Z_predict',\n",
    " 'lh_S_front_sup_thickness_Z_predict',\n",
    " 'rh_S_central_thickness_Z_predict',\n",
    " 'rh_G_rectus_thickness_Z_predict',\n",
    " 'rh_S_circular_insula_ant_thickness_Z_predict',\n",
    " 'rh_G_precuneus_thickness_Z_predict',\n",
    " 'rh_G&S_frontomargin_thickness_Z_predict',\n",
    " 'Brain-Stem_Z_predict',\n",
    " 'rh_Pole_occipital_thickness_Z_predict',\n",
    " 'lh_S_oc-temp_med&Lingual_thickness_Z_predict',\n",
    " 'rh_S_temporal_inf_thickness_Z_predict',\n",
    " 'rh_S_front_sup_thickness_Z_predict',\n",
    " 'lh_G&S_paracentral_thickness_Z_predict',\n",
    " 'rh_G_front_inf-Opercular_thickness_Z_predict',\n",
    " 'rh_G_temp_sup-Plan_polar_thickness_Z_predict',\n",
    " 'lh_G_cingul-Post-ventral_thickness_Z_predict',\n",
    " 'lh_G_temporal_inf_thickness_Z_predict',\n",
    " 'lh_S_subparietal_thickness_Z_predict',\n",
    " 'rh_Lat_Fis-post_thickness_Z_predict',\n",
    " 'rh_G_subcallosal_thickness_Z_predict',\n",
    " 'SupraTentorialVolNotVent_Z_predict',\n",
    " 'lh_G_front_inf-Orbital_thickness_Z_predict',\n",
    " 'lh_G&S_occipital_inf_thickness_Z_predict',\n",
    " 'EstimatedTotalIntraCranialVol_Z_predict']"
   ]
  },
  {
   "cell_type": "code",
   "execution_count": 89,
   "id": "1f37258e-c5cc-4f55-a6cf-99403ed5824b",
   "metadata": {
    "tags": []
   },
   "outputs": [],
   "source": [
    "Z_df = Z_df[keep_cols]"
   ]
  },
  {
   "cell_type": "code",
   "execution_count": 90,
   "id": "d4c28d1a-f51b-489f-9507-404d60c63f39",
   "metadata": {
    "executionInfo": {
     "elapsed": 257,
     "status": "ok",
     "timestamp": 1687449325721,
     "user": {
      "displayName": "Saige Rutherford",
      "userId": "09510631870783055479"
     },
     "user_tz": -120
    },
    "id": "5649160f-708d-46ed-9760-29f9c3fb8b18",
    "jupyter": {
     "source_hidden": true
    },
    "tags": []
   },
   "outputs": [],
   "source": [
    "z_long = Z_df.melt(id_vars=['sub_id','Race'],\n",
    "                  value_vars=['rh_S_cingul-Marginalis_thickness_Z_predict',\n",
    "                                 'rh_S_collat_transv_ant_thickness_Z_predict',\n",
    "                                 'Left-Amygdala_Z_predict',\n",
    "                                 'lh_S_orbital-H_Shaped_thickness_Z_predict',\n",
    "                                 'lh_G&S_frontomargin_thickness_Z_predict',\n",
    "                                 'Right-vessel_Z_predict',\n",
    "                                 'Right-Thalamus-Proper_Z_predict',\n",
    "                                 'rh_G&S_cingul-Mid-Post_thickness_Z_predict',\n",
    "                                 'rh_G&S_paracentral_thickness_Z_predict',\n",
    "                                 'Right-Inf-Lat-Vent_Z_predict',\n",
    "                                 'lh_S_temporal_inf_thickness_Z_predict',\n",
    "                                 'rh_S_precentral-inf-part_thickness_Z_predict',\n",
    "                                 'rh_S_subparietal_thickness_Z_predict',\n",
    "                                 'rh_G_insular_short_thickness_Z_predict',\n",
    "                                 'lh_G_temp_sup-Plan_polar_thickness_Z_predict',\n",
    "                                 'lh_S_orbital_med-olfact_thickness_Z_predict',\n",
    "                                 'rh_G&S_transv_frontopol_thickness_Z_predict',\n",
    "                                 'rh_S_collat_transv_post_thickness_Z_predict',\n",
    "                                 'SupraTentorialVol_Z_predict',\n",
    "                                 'lh_G&S_subcentral_thickness_Z_predict',\n",
    "                                 'Right-Putamen_Z_predict',\n",
    "                                 'lh_G&S_cingul-Ant_thickness_Z_predict',\n",
    "                                 'rh_S_front_middle_thickness_Z_predict',\n",
    "                                 'Left-Putamen_Z_predict',\n",
    "                                 'rh_G_temporal_middle_thickness_Z_predict',\n",
    "                                 'rh_G_Ins_lg&S_cent_ins_thickness_Z_predict',\n",
    "                                 'lh_G&S_cingul-Mid-Post_thickness_Z_predict',\n",
    "                                 'rh_G&S_occipital_inf_thickness_Z_predict',\n",
    "                                 'lh_G_front_middle_thickness_Z_predict',\n",
    "                                 'lh_Lat_Fis-ant-Vertical_thickness_Z_predict',\n",
    "                                 'rh_G_oc-temp_med-Parahip_thickness_Z_predict',\n",
    "                                 'lh_G_oc-temp_lat-fusifor_thickness_Z_predict',\n",
    "                                 'rh_G_occipital_middle_thickness_Z_predict',\n",
    "                                 'lh_S_collat_transv_post_thickness_Z_predict',\n",
    "                                 'lh_G_temp_sup-Plan_tempo_thickness_Z_predict',\n",
    "                                 'rh_G_pariet_inf-Supramar_thickness_Z_predict',\n",
    "                                 'rh_S_parieto_occipital_thickness_Z_predict',\n",
    "                                 'rh_S_oc_middle&Lunatus_thickness_Z_predict',\n",
    "                                 'rh_S_front_inf_thickness_Z_predict',\n",
    "                                 'rh_Lat_Fis-ant-Vertical_thickness_Z_predict',\n",
    "                                 'rh_S_precentral-sup-part_thickness_Z_predict',\n",
    "                                 'Left-Thalamus-Proper_Z_predict',\n",
    "                                 'rh_Pole_temporal_thickness_Z_predict',\n",
    "                                 'rh_S_circular_insula_inf_thickness_Z_predict',\n",
    "                                 'lh_S_postcentral_thickness_Z_predict',\n",
    "                                 'lh_G_temp_sup-G_T_transv_thickness_Z_predict',\n",
    "                                 'rh_G&S_cingul-Mid-Ant_thickness_Z_predict',\n",
    "                                 'rh_G_oc-temp_lat-fusifor_thickness_Z_predict',\n",
    "                                 'rh_G_temp_sup-Lateral_thickness_Z_predict',\n",
    "                                 'rh_G_cingul-Post-dorsal_thickness_Z_predict',\n",
    "                                 'rh_S_suborbital_thickness_Z_predict',\n",
    "                                 'lh_S_interm_prim-Jensen_thickness_Z_predict',\n",
    "                                 'Right-Cerebellum-White-Matter_Z_predict',\n",
    "                                 'lh_S_suborbital_thickness_Z_predict',\n",
    "                                 'lh_S_circular_insula_inf_thickness_Z_predict',\n",
    "                                 'lh_G_cuneus_thickness_Z_predict',\n",
    "                                 '4th-Ventricle_Z_predict',\n",
    "                                 'lh_G_temporal_middle_thickness_Z_predict',\n",
    "                                 'rh_S_orbital_lateral_thickness_Z_predict',\n",
    "                                 'lh_S_oc_middle&Lunatus_thickness_Z_predict',\n",
    "                                 'rh_G_parietal_sup_thickness_Z_predict',\n",
    "                                 'lh_S_temporal_transverse_thickness_Z_predict',\n",
    "                                 'rh_G_pariet_inf-Angular_thickness_Z_predict',\n",
    "                                 'lh_S_circular_insula_sup_thickness_Z_predict',\n",
    "                                 'lh_G_rectus_thickness_Z_predict',\n",
    "                                 'rh_S_postcentral_thickness_Z_predict',\n",
    "                                 'Left-Cerebellum-White-Matter_Z_predict',\n",
    "                                 'rh_S_calcarine_thickness_Z_predict',\n",
    "                                 'CSF_Z_predict',\n",
    "                                 'lh_G_pariet_inf-Supramar_thickness_Z_predict',\n",
    "                                 'rh_S_oc-temp_lat_thickness_Z_predict',\n",
    "                                 'lh_G_precuneus_thickness_Z_predict',\n",
    "                                 'rh_Lat_Fis-ant-Horizont_thickness_Z_predict',\n",
    "                                 'Left-Pallidum_Z_predict',\n",
    "                                 'Left-choroid-plexus_Z_predict',\n",
    "                                 '3rd-Ventricle_Z_predict',\n",
    "                                 'rh_S_interm_prim-Jensen_thickness_Z_predict',\n",
    "                                 'Right-Lateral-Ventricle_Z_predict',\n",
    "                                 'rh_G_occipital_sup_thickness_Z_predict',\n",
    "                                 'rh_S_orbital-H_Shaped_thickness_Z_predict',\n",
    "                                 'lh_G_postcentral_thickness_Z_predict',\n",
    "                                 'lh_S_intrapariet&P_trans_thickness_Z_predict',\n",
    "                                 'TotalGrayVol_Z_predict',\n",
    "                                 'lh_Lat_Fis-post_thickness_Z_predict',\n",
    "                                 'Right-Hippocampus_Z_predict',\n",
    "                                 'Right-choroid-plexus_Z_predict',\n",
    "                                 'lh_S_oc-temp_lat_thickness_Z_predict',\n",
    "                                 'lh_MeanThickness_thickness_Z_predict',\n",
    "                                 'lh_G_insular_short_thickness_Z_predict',\n",
    "                                 'rh_G_temp_sup-G_T_transv_thickness_Z_predict',\n",
    "                                 'rh_G_cuneus_thickness_Z_predict',\n",
    "                                 'lh_G_front_inf-Triangul_thickness_Z_predict',\n",
    "                                 'lh_S_parieto_occipital_thickness_Z_predict',\n",
    "                                 'Right-Caudate_Z_predict',\n",
    "                                 'Left-Inf-Lat-Vent_Z_predict',\n",
    "                                 'lh_G_front_inf-Opercular_thickness_Z_predict',\n",
    "                                 'lh_G_cingul-Post-dorsal_thickness_Z_predict',\n",
    "                                 'rh_S_intrapariet&P_trans_thickness_Z_predict',\n",
    "                                 'lh_S_oc_sup&transversal_thickness_Z_predict',\n",
    "                                 'rh_MeanThickness_thickness_Z_predict',\n",
    "                                 'lh_S_front_inf_thickness_Z_predict',\n",
    "                                 'lh_G_orbital_thickness_Z_predict',\n",
    "                                 'lh_G_occipital_middle_thickness_Z_predict',\n",
    "                                 'lh_G_Ins_lg&S_cent_ins_thickness_Z_predict',\n",
    "                                 'rh_S_oc_sup&transversal_thickness_Z_predict',\n",
    "                                 'rh_S_oc-temp_med&Lingual_thickness_Z_predict',\n",
    "                                 'lh_S_temporal_sup_thickness_Z_predict',\n",
    "                                 'rh_G_temp_sup-Plan_tempo_thickness_Z_predict',\n",
    "                                 'Right-Accumbens-area_Z_predict',\n",
    "                                 'rh_G&S_cingul-Ant_thickness_Z_predict',\n",
    "                                 'lh_G_oc-temp_med-Lingual_thickness_Z_predict',\n",
    "                                 'lh_Pole_occipital_thickness_Z_predict',\n",
    "                                 'lh_S_collat_transv_ant_thickness_Z_predict',\n",
    "                                 'rh_S_circular_insula_sup_thickness_Z_predict',\n",
    "                                 'lh_S_precentral-sup-part_thickness_Z_predict',\n",
    "                                 'lh_G_front_sup_thickness_Z_predict',\n",
    "                                 'lh_S_circular_insula_ant_thickness_Z_predict',\n",
    "                                 'rh_G_oc-temp_med-Lingual_thickness_Z_predict',\n",
    "                                 'rh_G_front_sup_thickness_Z_predict',\n",
    "                                 'rh_S_occipital_ant_thickness_Z_predict',\n",
    "                                 'lh_S_pericallosal_thickness_Z_predict',\n",
    "                                 'rh_G_front_inf-Orbital_thickness_Z_predict',\n",
    "                                 'rh_G_postcentral_thickness_Z_predict',\n",
    "                                 'rh_G_precentral_thickness_Z_predict',\n",
    "                                 'lh_G_subcallosal_thickness_Z_predict',\n",
    "                                 'rh_S_temporal_sup_thickness_Z_predict',\n",
    "                                 'Right-VentralDC_Z_predict',\n",
    "                                 'Right-Pallidum_Z_predict',\n",
    "                                 'lh_Lat_Fis-ant-Horizont_thickness_Z_predict',\n",
    "                                 'Left-Caudate_Z_predict',\n",
    "                                 'Left-vessel_Z_predict',\n",
    "                                 'SubCortGrayVol_Z_predict',\n",
    "                                 'lh_S_precentral-inf-part_thickness_Z_predict',\n",
    "                                 'Right-Cerebellum-Cortex_Z_predict',\n",
    "                                 'Left-Cerebellum-Cortex_Z_predict',\n",
    "                                 'rh_S_pericallosal_thickness_Z_predict',\n",
    "                                 'lh_G_occipital_sup_thickness_Z_predict',\n",
    "                                 'rh_G&S_subcentral_thickness_Z_predict',\n",
    "                                 'rh_G_cingul-Post-ventral_thickness_Z_predict',\n",
    "                                 'lh_S_calcarine_thickness_Z_predict',\n",
    "                                 'Right-Amygdala_Z_predict',\n",
    "                                 'Left-Accumbens-area_Z_predict',\n",
    "                                 'Left-Lateral-Ventricle_Z_predict',\n",
    "                                 'rh_G_orbital_thickness_Z_predict',\n",
    "                                 'lh_S_orbital_lateral_thickness_Z_predict',\n",
    "                                 'rh_G_front_inf-Triangul_thickness_Z_predict',\n",
    "                                 'rh_G_temporal_inf_thickness_Z_predict',\n",
    "                                 'lh_S_occipital_ant_thickness_Z_predict',\n",
    "                                 'lh_S_front_middle_thickness_Z_predict',\n",
    "                                 'lh_G&S_transv_frontopol_thickness_Z_predict',\n",
    "                                 'rh_S_orbital_med-olfact_thickness_Z_predict',\n",
    "                                 'Left-VentralDC_Z_predict',\n",
    "                                 'lh_G_pariet_inf-Angular_thickness_Z_predict',\n",
    "                                 'lh_G_temp_sup-Lateral_thickness_Z_predict',\n",
    "                                 'Left-Hippocampus_Z_predict',\n",
    "                                 'lh_S_central_thickness_Z_predict',\n",
    "                                 'lh_S_cingul-Marginalis_thickness_Z_predict',\n",
    "                                 'lh_G_oc-temp_med-Parahip_thickness_Z_predict',\n",
    "                                 'lh_G_parietal_sup_thickness_Z_predict',\n",
    "                                 'lh_G&S_cingul-Mid-Ant_thickness_Z_predict',\n",
    "                                 'lh_Pole_temporal_thickness_Z_predict',\n",
    "                                 'lh_G_precentral_thickness_Z_predict',\n",
    "                                 'rh_S_temporal_transverse_thickness_Z_predict',\n",
    "                                 'rh_G_front_middle_thickness_Z_predict',\n",
    "                                 'lh_S_front_sup_thickness_Z_predict',\n",
    "                                 'rh_S_central_thickness_Z_predict',\n",
    "                                 'rh_G_rectus_thickness_Z_predict',\n",
    "                                 'rh_S_circular_insula_ant_thickness_Z_predict',\n",
    "                                 'rh_G_precuneus_thickness_Z_predict',\n",
    "                                 'rh_G&S_frontomargin_thickness_Z_predict',\n",
    "                                 'Brain-Stem_Z_predict',\n",
    "                                 'rh_Pole_occipital_thickness_Z_predict',\n",
    "                                 'lh_S_oc-temp_med&Lingual_thickness_Z_predict',\n",
    "                                 'rh_S_temporal_inf_thickness_Z_predict',\n",
    "                                 'rh_S_front_sup_thickness_Z_predict',\n",
    "                                 'lh_G&S_paracentral_thickness_Z_predict',\n",
    "                                 'rh_G_front_inf-Opercular_thickness_Z_predict',\n",
    "                                 'rh_G_temp_sup-Plan_polar_thickness_Z_predict',\n",
    "                                 'lh_G_cingul-Post-ventral_thickness_Z_predict',\n",
    "                                 'lh_G_temporal_inf_thickness_Z_predict',\n",
    "                                 'lh_S_subparietal_thickness_Z_predict',\n",
    "                                 'rh_Lat_Fis-post_thickness_Z_predict',\n",
    "                                 'rh_G_subcallosal_thickness_Z_predict',\n",
    "                                 'SupraTentorialVolNotVent_Z_predict',\n",
    "                                 'lh_G_front_inf-Orbital_thickness_Z_predict',\n",
    "                                 'lh_G&S_occipital_inf_thickness_Z_predict',\n",
    "                                 'EstimatedTotalIntraCranialVol_Z_predict'])"
   ]
  },
  {
   "cell_type": "code",
   "execution_count": 91,
   "id": "76ff949b-5040-4bba-aa8a-28fe2c108c61",
   "metadata": {
    "tags": []
   },
   "outputs": [],
   "source": [
    "z_long_white = z_long.query('Race == \"White\"')\n",
    "z_long_black = z_long.query('Race == \"Black\"')\n",
    "z_long_asian = z_long.query('Race == \"Asian\"')"
   ]
  },
  {
   "cell_type": "code",
   "execution_count": 92,
   "id": "35afd117-38c4-41ff-8e27-ae6b3ea6768b",
   "metadata": {},
   "outputs": [],
   "source": [
    "z_white = Z_df.query('Race == \"White\"')\n",
    "z_black = Z_df.query('Race == \"Black\"')\n",
    "z_asian = Z_df.query('Race == \"Asian\"')"
   ]
  },
  {
   "cell_type": "code",
   "execution_count": 335,
   "id": "1415953f-131e-4542-a981-0f427e483367",
   "metadata": {},
   "outputs": [],
   "source": [
    "z_long_white2 = z_long_white.groupby(by='sub_id',as_index=False).mean()"
   ]
  },
  {
   "cell_type": "code",
   "execution_count": 336,
   "id": "5c85c13d-5f27-4d18-baae-a7e284efc216",
   "metadata": {},
   "outputs": [],
   "source": [
    "z_long_black2 = z_long_black.groupby(by='sub_id',as_index=False).mean()"
   ]
  },
  {
   "cell_type": "code",
   "execution_count": 337,
   "id": "70ede1e0-0502-4d2b-a222-1008df6b255e",
   "metadata": {},
   "outputs": [],
   "source": [
    "z_long_asian2 = z_long_asian.groupby(by='sub_id',as_index=False).mean()"
   ]
  },
  {
   "cell_type": "code",
   "execution_count": 338,
   "id": "0c4cf41b-90bb-4273-82d9-f7040f8db0c9",
   "metadata": {},
   "outputs": [
    {
     "data": {
      "text/plain": [
       "Ttest_indResult(statistic=5.053335389274027, pvalue=1.740456515755028e-06)"
      ]
     },
     "execution_count": 338,
     "metadata": {},
     "output_type": "execute_result"
    }
   ],
   "source": [
    "ttest_ind(z_long_white2['value'], z_long_black2['value'], equal_var=False)"
   ]
  },
  {
   "cell_type": "code",
   "execution_count": 339,
   "id": "2f4ff678-097b-41ef-b0cf-566d21015657",
   "metadata": {},
   "outputs": [
    {
     "data": {
      "text/plain": [
       "Ttest_indResult(statistic=4.029200141949774, pvalue=0.0003017466197035481)"
      ]
     },
     "execution_count": 339,
     "metadata": {},
     "output_type": "execute_result"
    }
   ],
   "source": [
    "ttest_ind(z_long_white2['value'], z_long_asian2['value'], equal_var=False)"
   ]
  },
  {
   "cell_type": "code",
   "execution_count": 340,
   "id": "33707028-0198-44e9-ade8-e9c2d7bf7aff",
   "metadata": {},
   "outputs": [
    {
     "data": {
      "text/plain": [
       "Ttest_indResult(statistic=0.1884795602582202, pvalue=0.8511436047365247)"
      ]
     },
     "execution_count": 340,
     "metadata": {},
     "output_type": "execute_result"
    }
   ],
   "source": [
    "ttest_ind(z_long_black2['value'], z_long_asian2['value'], equal_var=False)"
   ]
  },
  {
   "cell_type": "markdown",
   "id": "76b37a57-6176-4977-b6f1-22dda853568e",
   "metadata": {
    "id": "AiimUDe6nMUD"
   },
   "source": [
    "### T-Tests on individual ROIs (FDR corrected)"
   ]
  },
  {
   "cell_type": "markdown",
   "id": "df9d4771-ac36-4e83-8846-057a66d2d11d",
   "metadata": {},
   "source": [
    "### HCP pretrained"
   ]
  },
  {
   "cell_type": "code",
   "execution_count": 341,
   "id": "9f62cfc3-7a64-46d6-a449-04958a67ea44",
   "metadata": {
    "id": "ssVXAgqGnMUD"
   },
   "outputs": [],
   "source": [
    "w_deviations = z_white.loc[:, z_white.columns.str.contains('Z_predict')]"
   ]
  },
  {
   "cell_type": "code",
   "execution_count": 342,
   "id": "828dc6f6-6f20-4c1f-9361-c52571f36c9a",
   "metadata": {
    "id": "lqtHyKrrnMUD"
   },
   "outputs": [],
   "source": [
    "b_deviations = z_black.loc[:, z_black.columns.str.contains('Z_predict')]"
   ]
  },
  {
   "cell_type": "code",
   "execution_count": 343,
   "id": "b9fc1840-0e5c-41b8-ad4e-1ac674996428",
   "metadata": {
    "id": "lqtHyKrrnMUD"
   },
   "outputs": [],
   "source": [
    "a_deviations = z_asian.loc[:, z_asian.columns.str.contains('Z_predict')]"
   ]
  },
  {
   "cell_type": "code",
   "execution_count": 344,
   "id": "941049a9-ace7-49e4-af65-9a9fef2955b9",
   "metadata": {
    "id": "BCJpEI8NnMUD"
   },
   "outputs": [],
   "source": [
    "z_cols = w_deviations.columns"
   ]
  },
  {
   "cell_type": "code",
   "execution_count": 345,
   "id": "e34fc043-ff95-49f8-9381-7ca9642bf0da",
   "metadata": {},
   "outputs": [
    {
     "data": {
      "text/plain": [
       "187"
      ]
     },
     "execution_count": 345,
     "metadata": {},
     "output_type": "execute_result"
    }
   ],
   "source": [
    "len(z_cols)"
   ]
  },
  {
   "cell_type": "code",
   "execution_count": 346,
   "id": "6388ad96-437b-4250-8bac-a4df9defd2b9",
   "metadata": {
    "id": "VdQgUo29nMUD"
   },
   "outputs": [],
   "source": [
    "w_b_pvals_z = pd.DataFrame(columns={'roi','pval', 'tstat','fdr_pval'})\n",
    "for index, column in enumerate(z_cols):\n",
    "    test = ttest_ind(w_deviations[column], b_deviations[column], equal_var=False)\n",
    "    w_b_pvals_z.loc[index, 'pval'] = test.pvalue\n",
    "    w_b_pvals_z.loc[index, 'tstat'] = test.statistic\n",
    "    w_b_pvals_z.loc[index, 'roi'] = column"
   ]
  },
  {
   "cell_type": "code",
   "execution_count": 347,
   "id": "764626e9-97e1-4aad-a0ff-0b170c5089c7",
   "metadata": {
    "id": "n8JfELPdnMUE"
   },
   "outputs": [],
   "source": [
    "w_b_fdr_z = multitest.fdrcorrection(w_b_pvals_z['pval'], alpha=0.05, method='indep', is_sorted=False)"
   ]
  },
  {
   "cell_type": "code",
   "execution_count": 348,
   "id": "434d45a6-ea12-4147-9629-d651a0c98298",
   "metadata": {
    "id": "K5panqSGnMUE"
   },
   "outputs": [],
   "source": [
    "w_b_pvals_z['fdr_pval'] = w_b_fdr_z[1]"
   ]
  },
  {
   "cell_type": "code",
   "execution_count": 349,
   "id": "c52183f7-c170-4e11-ab71-23a90539b218",
   "metadata": {
    "id": "cjZ8HZMYnMUE"
   },
   "outputs": [],
   "source": [
    "w_b_z_sig_diff = w_b_pvals_z.query('fdr_pval < 0.05')"
   ]
  },
  {
   "cell_type": "code",
   "execution_count": 350,
   "id": "2dc189c6-e684-46cf-8afa-922d61c4f27e",
   "metadata": {
    "colab": {
     "base_uri": "https://localhost:8080/",
     "height": 423
    },
    "id": "F01JkqAwnMUE",
    "outputId": "a117d7cf-dd4f-423a-e23b-66fd060deadd",
    "tags": []
   },
   "outputs": [
    {
     "data": {
      "text/html": [
       "<div>\n",
       "<style scoped>\n",
       "    .dataframe tbody tr th:only-of-type {\n",
       "        vertical-align: middle;\n",
       "    }\n",
       "\n",
       "    .dataframe tbody tr th {\n",
       "        vertical-align: top;\n",
       "    }\n",
       "\n",
       "    .dataframe thead th {\n",
       "        text-align: right;\n",
       "    }\n",
       "</style>\n",
       "<table border=\"1\" class=\"dataframe\">\n",
       "  <thead>\n",
       "    <tr style=\"text-align: right;\">\n",
       "      <th></th>\n",
       "      <th>fdr_pval</th>\n",
       "      <th>pval</th>\n",
       "      <th>roi</th>\n",
       "      <th>tstat</th>\n",
       "    </tr>\n",
       "  </thead>\n",
       "  <tbody>\n",
       "    <tr>\n",
       "      <th>0</th>\n",
       "      <td>0.032227</td>\n",
       "      <td>0.016544</td>\n",
       "      <td>rh_S_cingul-Marginalis_thickness_Z_predict</td>\n",
       "      <td>2.428583</td>\n",
       "    </tr>\n",
       "    <tr>\n",
       "      <th>2</th>\n",
       "      <td>0.000002</td>\n",
       "      <td>0.0</td>\n",
       "      <td>Left-Amygdala_Z_predict</td>\n",
       "      <td>5.43866</td>\n",
       "    </tr>\n",
       "    <tr>\n",
       "      <th>6</th>\n",
       "      <td>0.040735</td>\n",
       "      <td>0.021783</td>\n",
       "      <td>Right-Thalamus-Proper_Z_predict</td>\n",
       "      <td>2.328469</td>\n",
       "    </tr>\n",
       "    <tr>\n",
       "      <th>8</th>\n",
       "      <td>0.000947</td>\n",
       "      <td>0.000274</td>\n",
       "      <td>rh_G&amp;S_paracentral_thickness_Z_predict</td>\n",
       "      <td>3.753767</td>\n",
       "    </tr>\n",
       "    <tr>\n",
       "      <th>16</th>\n",
       "      <td>0.02282</td>\n",
       "      <td>0.011227</td>\n",
       "      <td>rh_G&amp;S_transv_frontopol_thickness_Z_predict</td>\n",
       "      <td>-2.581723</td>\n",
       "    </tr>\n",
       "    <tr>\n",
       "      <th>...</th>\n",
       "      <td>...</td>\n",
       "      <td>...</td>\n",
       "      <td>...</td>\n",
       "      <td>...</td>\n",
       "    </tr>\n",
       "    <tr>\n",
       "      <th>179</th>\n",
       "      <td>0.00206</td>\n",
       "      <td>0.000694</td>\n",
       "      <td>lh_G_temporal_inf_thickness_Z_predict</td>\n",
       "      <td>3.48265</td>\n",
       "    </tr>\n",
       "    <tr>\n",
       "      <th>181</th>\n",
       "      <td>0.0</td>\n",
       "      <td>0.0</td>\n",
       "      <td>rh_Lat_Fis-post_thickness_Z_predict</td>\n",
       "      <td>5.869421</td>\n",
       "    </tr>\n",
       "    <tr>\n",
       "      <th>183</th>\n",
       "      <td>0.0</td>\n",
       "      <td>0.0</td>\n",
       "      <td>SupraTentorialVolNotVent_Z_predict</td>\n",
       "      <td>6.710445</td>\n",
       "    </tr>\n",
       "    <tr>\n",
       "      <th>185</th>\n",
       "      <td>0.000017</td>\n",
       "      <td>0.000003</td>\n",
       "      <td>lh_G&amp;S_occipital_inf_thickness_Z_predict</td>\n",
       "      <td>4.890257</td>\n",
       "    </tr>\n",
       "    <tr>\n",
       "      <th>186</th>\n",
       "      <td>0.0</td>\n",
       "      <td>0.0</td>\n",
       "      <td>EstimatedTotalIntraCranialVol_Z_predict</td>\n",
       "      <td>6.932712</td>\n",
       "    </tr>\n",
       "  </tbody>\n",
       "</table>\n",
       "<p>102 rows × 4 columns</p>\n",
       "</div>"
      ],
      "text/plain": [
       "     fdr_pval      pval                                          roi     tstat\n",
       "0    0.032227  0.016544   rh_S_cingul-Marginalis_thickness_Z_predict  2.428583\n",
       "2    0.000002       0.0                      Left-Amygdala_Z_predict   5.43866\n",
       "6    0.040735  0.021783              Right-Thalamus-Proper_Z_predict  2.328469\n",
       "8    0.000947  0.000274       rh_G&S_paracentral_thickness_Z_predict  3.753767\n",
       "16    0.02282  0.011227  rh_G&S_transv_frontopol_thickness_Z_predict -2.581723\n",
       "..        ...       ...                                          ...       ...\n",
       "179   0.00206  0.000694        lh_G_temporal_inf_thickness_Z_predict   3.48265\n",
       "181       0.0       0.0          rh_Lat_Fis-post_thickness_Z_predict  5.869421\n",
       "183       0.0       0.0           SupraTentorialVolNotVent_Z_predict  6.710445\n",
       "185  0.000017  0.000003     lh_G&S_occipital_inf_thickness_Z_predict  4.890257\n",
       "186       0.0       0.0      EstimatedTotalIntraCranialVol_Z_predict  6.932712\n",
       "\n",
       "[102 rows x 4 columns]"
      ]
     },
     "execution_count": 350,
     "metadata": {},
     "output_type": "execute_result"
    }
   ],
   "source": [
    "w_b_z_sig_diff"
   ]
  },
  {
   "cell_type": "code",
   "execution_count": 351,
   "id": "15d81d17-68b9-4136-bf21-7a0e859fd072",
   "metadata": {
    "colab": {
     "base_uri": "https://localhost:8080/"
    },
    "id": "170sEtkynMUE",
    "outputId": "7b601d8d-c73e-44ba-a523-4eddb6dea46b"
   },
   "outputs": [
    {
     "data": {
      "text/plain": [
       "(102, 4)"
      ]
     },
     "execution_count": 351,
     "metadata": {},
     "output_type": "execute_result"
    }
   ],
   "source": [
    "w_b_z_sig_diff.shape"
   ]
  },
  {
   "cell_type": "code",
   "execution_count": 352,
   "id": "142f25a1-e54a-4b32-87a3-0282205bb3ca",
   "metadata": {
    "tags": []
   },
   "outputs": [
    {
     "name": "stderr",
     "output_type": "stream",
     "text": [
      "/var/folders/xx/1xs7sc795_nf7k125153b6qh0000gn/T/ipykernel_6609/1739124426.py:1: SettingWithCopyWarning: \n",
      "A value is trying to be set on a copy of a slice from a DataFrame.\n",
      "Try using .loc[row_indexer,col_indexer] = value instead\n",
      "\n",
      "See the caveats in the documentation: https://pandas.pydata.org/pandas-docs/stable/user_guide/indexing.html#returning-a-view-versus-a-copy\n",
      "  w_b_z_sig_diff['roi'] = w_b_z_sig_diff['roi'].str.replace('_thickness_Z_predict', '', regex=True)\n",
      "/var/folders/xx/1xs7sc795_nf7k125153b6qh0000gn/T/ipykernel_6609/1739124426.py:2: SettingWithCopyWarning: \n",
      "A value is trying to be set on a copy of a slice from a DataFrame.\n",
      "Try using .loc[row_indexer,col_indexer] = value instead\n",
      "\n",
      "See the caveats in the documentation: https://pandas.pydata.org/pandas-docs/stable/user_guide/indexing.html#returning-a-view-versus-a-copy\n",
      "  w_b_z_sig_diff['roi'] = w_b_z_sig_diff['roi'].str.replace('G&S', 'G_and_S', regex=True)\n"
     ]
    }
   ],
   "source": [
    "w_b_z_sig_diff['roi'] = w_b_z_sig_diff['roi'].str.replace('_thickness_Z_predict', '', regex=True)\n",
    "w_b_z_sig_diff['roi'] = w_b_z_sig_diff['roi'].str.replace('G&S', 'G_and_S', regex=True)"
   ]
  },
  {
   "cell_type": "code",
   "execution_count": 353,
   "id": "5b975d6c-ac94-4b9d-83d6-df306cc31a61",
   "metadata": {
    "tags": []
   },
   "outputs": [
    {
     "name": "stderr",
     "output_type": "stream",
     "text": [
      "/opt/anaconda3/envs/braincharts/lib/python3.9/site-packages/pandas/core/frame.py:3641: SettingWithCopyWarning: \n",
      "A value is trying to be set on a copy of a slice from a DataFrame.\n",
      "Try using .loc[row_indexer,col_indexer] = value instead\n",
      "\n",
      "See the caveats in the documentation: https://pandas.pydata.org/pandas-docs/stable/user_guide/indexing.html#returning-a-view-versus-a-copy\n",
      "  self[k1] = value[k2]\n"
     ]
    }
   ],
   "source": [
    "w_b_z_sig_diff[['temp1', 'temp2']] = w_b_z_sig_diff['roi'].str.split(pat=\"_\", n=1, expand=True)"
   ]
  },
  {
   "cell_type": "code",
   "execution_count": 354,
   "id": "96041509-657c-47a8-84ed-8774b9d13b34",
   "metadata": {
    "tags": []
   },
   "outputs": [
    {
     "name": "stderr",
     "output_type": "stream",
     "text": [
      "/opt/anaconda3/envs/braincharts/lib/python3.9/site-packages/pandas/core/generic.py:5516: SettingWithCopyWarning: \n",
      "A value is trying to be set on a copy of a slice from a DataFrame.\n",
      "Try using .loc[row_indexer,col_indexer] = value instead\n",
      "\n",
      "See the caveats in the documentation: https://pandas.pydata.org/pandas-docs/stable/user_guide/indexing.html#returning-a-view-versus-a-copy\n",
      "  self[name] = value\n"
     ]
    }
   ],
   "source": [
    "w_b_z_sig_diff.temp1 = w_b_z_sig_diff.temp1.apply(lambda x: 'left' if 'lh' in x else x)"
   ]
  },
  {
   "cell_type": "code",
   "execution_count": 355,
   "id": "01b3c6a8-1681-43da-a1cd-dc1aa7d91acd",
   "metadata": {},
   "outputs": [],
   "source": [
    "w_b_z_sig_diff.temp1 = w_b_z_sig_diff.temp1.apply(lambda x: 'right' if 'rh' in x else x)"
   ]
  },
  {
   "cell_type": "code",
   "execution_count": 356,
   "id": "e63cb14f-cac6-452f-b12a-727758ed96b8",
   "metadata": {},
   "outputs": [],
   "source": [
    "df = w_b_z_sig_diff[w_b_z_sig_diff[\"temp1\"].str.contains('left|right')]"
   ]
  },
  {
   "cell_type": "code",
   "execution_count": 357,
   "id": "f4a7a911-7d27-4a05-a9a7-420a95b393e2",
   "metadata": {},
   "outputs": [
    {
     "name": "stderr",
     "output_type": "stream",
     "text": [
      "/var/folders/xx/1xs7sc795_nf7k125153b6qh0000gn/T/ipykernel_6609/995407583.py:1: SettingWithCopyWarning: \n",
      "A value is trying to be set on a copy of a slice from a DataFrame.\n",
      "Try using .loc[row_indexer,col_indexer] = value instead\n",
      "\n",
      "See the caveats in the documentation: https://pandas.pydata.org/pandas-docs/stable/user_guide/indexing.html#returning-a-view-versus-a-copy\n",
      "  df['hemi'] = df['temp1']\n"
     ]
    }
   ],
   "source": [
    "df['hemi'] = df['temp1']"
   ]
  },
  {
   "cell_type": "code",
   "execution_count": 358,
   "id": "73db6200-8e44-42d3-bd25-a23bddd00aa8",
   "metadata": {},
   "outputs": [
    {
     "name": "stderr",
     "output_type": "stream",
     "text": [
      "/var/folders/xx/1xs7sc795_nf7k125153b6qh0000gn/T/ipykernel_6609/3909763920.py:1: SettingWithCopyWarning: \n",
      "A value is trying to be set on a copy of a slice from a DataFrame.\n",
      "Try using .loc[row_indexer,col_indexer] = value instead\n",
      "\n",
      "See the caveats in the documentation: https://pandas.pydata.org/pandas-docs/stable/user_guide/indexing.html#returning-a-view-versus-a-copy\n",
      "  df['ROI'] = df['temp2']\n"
     ]
    }
   ],
   "source": [
    "df['ROI'] = df['temp2']"
   ]
  },
  {
   "cell_type": "code",
   "execution_count": 359,
   "id": "de8023b4-08d6-450b-adde-9e5d40b191b4",
   "metadata": {},
   "outputs": [
    {
     "data": {
      "text/plain": [
       "Index(['fdr_pval', 'pval', 'roi', 'tstat', 'temp1', 'temp2', 'hemi', 'ROI'], dtype='object')"
      ]
     },
     "execution_count": 359,
     "metadata": {},
     "output_type": "execute_result"
    }
   ],
   "source": [
    "df.columns"
   ]
  },
  {
   "cell_type": "code",
   "execution_count": 360,
   "id": "7abd4877-70f4-4b3d-8f0e-4389be7397d7",
   "metadata": {},
   "outputs": [],
   "source": [
    "df = df[['tstat', 'fdr_pval', 'hemi', 'ROI']]"
   ]
  },
  {
   "cell_type": "code",
   "execution_count": 361,
   "id": "e2b0a7d6-117b-4478-a198-251befdaa023",
   "metadata": {},
   "outputs": [],
   "source": [
    "w_b_z_sig_diff = df"
   ]
  },
  {
   "cell_type": "code",
   "execution_count": 362,
   "id": "e312ee48-d2c6-4ffd-9bc8-166555445cfd",
   "metadata": {
    "tags": []
   },
   "outputs": [],
   "source": [
    "w_b_z_sig_diff_l = w_b_z_sig_diff.query('hemi == \"left\"')\n",
    "w_b_z_sig_diff_r = w_b_z_sig_diff.query('hemi == \"right\"')"
   ]
  },
  {
   "cell_type": "code",
   "execution_count": 363,
   "id": "9e420a2f-cd84-406d-ba50-0d7843102884",
   "metadata": {},
   "outputs": [],
   "source": [
    "nl_w_b_z_sig_diff_l = pd.merge(nl, w_b_z_sig_diff_l, on='ROI', how='left')\n",
    "nl_w_b_z_sig_diff_r = pd.merge(nl, w_b_z_sig_diff_r, on='ROI', how='left')"
   ]
  },
  {
   "cell_type": "code",
   "execution_count": 364,
   "id": "a1385489-27cb-4c74-be76-c8c19659ca19",
   "metadata": {
    "tags": []
   },
   "outputs": [],
   "source": [
    "nl_w_b_z_sig_diff_l['tstat'] = nl_w_b_z_sig_diff_l['tstat'].fillna(0)\n",
    "nl_w_b_z_sig_diff_r['tstat'] = nl_w_b_z_sig_diff_r['tstat'].fillna(0)"
   ]
  },
  {
   "cell_type": "code",
   "execution_count": 365,
   "id": "d0abf029-7203-44d2-9a03-c67dcbd5bb84",
   "metadata": {
    "tags": []
   },
   "outputs": [],
   "source": [
    "nl_w_b_z_sig_diff_l = nl_w_b_z_sig_diff_l['tstat'].to_numpy()\n",
    "nl_w_b_z_sig_diff_r = nl_w_b_z_sig_diff_r['tstat'].to_numpy()"
   ]
  },
  {
   "cell_type": "code",
   "execution_count": 366,
   "id": "a14af73e-55e5-41d7-8e33-29fd100a4e60",
   "metadata": {},
   "outputs": [],
   "source": [
    "a_list = list(range(1, 76))\n",
    "parcellation_l = atlas_l\n",
    "for i, j in enumerate(a_list):\n",
    "    parcellation_l = np.where(parcellation_l == j, nl_w_b_z_sig_diff_l[i], parcellation_l)"
   ]
  },
  {
   "cell_type": "code",
   "execution_count": 367,
   "id": "8a64ac8f-e5f6-4b5b-b631-c10ac477f1c5",
   "metadata": {},
   "outputs": [],
   "source": [
    "a_list = list(range(1, 76))\n",
    "parcellation_r = atlas_r\n",
    "for i, j in enumerate(a_list):\n",
    "    parcellation_r = np.where(parcellation_r == j, nl_w_b_z_sig_diff_r[i], parcellation_r)"
   ]
  },
  {
   "cell_type": "code",
   "execution_count": 368,
   "id": "c795c3a7-40e7-4417-a825-8504f4d67fe6",
   "metadata": {},
   "outputs": [],
   "source": [
    "# Positive value == whites have higher error\n",
    "# Negative value == blacks have higher error\n",
    "plotting.plot_surf_roi(fsaverage['infl_left'], roi_map=parcellation_l, hemi='left', cmap='plasma', bg_map=fsaverage['sulc_left'], vmin=-4, vmax=8, view='lateral', output_file='/Users/saigerutherford/Desktop/hcp_pretrain_WvB_Z_l.png');"
   ]
  },
  {
   "cell_type": "code",
   "execution_count": 369,
   "id": "c3a1d98a-9f86-4305-8345-3d6278a9da1c",
   "metadata": {},
   "outputs": [],
   "source": [
    "plotting.plot_surf_roi(fsaverage['infl_right'], roi_map=parcellation_r, hemi='right', cmap='plasma', bg_map=fsaverage['sulc_right'], vmin=-4, vmax=8, view='lateral', output_file='/Users/saigerutherford/Desktop/hcp_pretrain_WvB_Z_r.png');"
   ]
  },
  {
   "cell_type": "code",
   "execution_count": 370,
   "id": "f7b41c41-6009-4b79-ad9a-ca012b74622b",
   "metadata": {
    "id": "VdQgUo29nMUD"
   },
   "outputs": [],
   "source": [
    "w_a_pvals_z = pd.DataFrame(columns={'roi','pval', 'tstat','fdr_pval'})\n",
    "for index, column in enumerate(z_cols):\n",
    "    test = ttest_ind(w_deviations[column], a_deviations[column], equal_var=False)\n",
    "    w_a_pvals_z.loc[index, 'pval'] = test.pvalue\n",
    "    w_a_pvals_z.loc[index, 'tstat'] = test.statistic\n",
    "    w_a_pvals_z.loc[index, 'roi'] = column"
   ]
  },
  {
   "cell_type": "code",
   "execution_count": 371,
   "id": "fc2381f7-b9c1-458f-8ce5-cff45663b930",
   "metadata": {
    "id": "n8JfELPdnMUE"
   },
   "outputs": [],
   "source": [
    "w_a_fdr_z = multitest.fdrcorrection(w_a_pvals_z['pval'], alpha=0.05, method='indep', is_sorted=False)"
   ]
  },
  {
   "cell_type": "code",
   "execution_count": 372,
   "id": "e1f4744a-bd65-436b-a58a-05b39713d66b",
   "metadata": {
    "id": "K5panqSGnMUE"
   },
   "outputs": [],
   "source": [
    "w_a_pvals_z['fdr_pval'] = w_a_fdr_z[1]"
   ]
  },
  {
   "cell_type": "code",
   "execution_count": 373,
   "id": "d48a74ea-924d-4fb7-aefc-c0b3b5a4c793",
   "metadata": {
    "id": "cjZ8HZMYnMUE"
   },
   "outputs": [],
   "source": [
    "w_a_z_sig_diff = w_a_pvals_z.query('fdr_pval < 0.05')"
   ]
  },
  {
   "cell_type": "code",
   "execution_count": 374,
   "id": "8ae3ed61-0935-418d-9bab-461c68bc6d45",
   "metadata": {
    "colab": {
     "base_uri": "https://localhost:8080/",
     "height": 423
    },
    "id": "F01JkqAwnMUE",
    "outputId": "a117d7cf-dd4f-423a-e23b-66fd060deadd",
    "tags": []
   },
   "outputs": [
    {
     "data": {
      "text/html": [
       "<div>\n",
       "<style scoped>\n",
       "    .dataframe tbody tr th:only-of-type {\n",
       "        vertical-align: middle;\n",
       "    }\n",
       "\n",
       "    .dataframe tbody tr th {\n",
       "        vertical-align: top;\n",
       "    }\n",
       "\n",
       "    .dataframe thead th {\n",
       "        text-align: right;\n",
       "    }\n",
       "</style>\n",
       "<table border=\"1\" class=\"dataframe\">\n",
       "  <thead>\n",
       "    <tr style=\"text-align: right;\">\n",
       "      <th></th>\n",
       "      <th>fdr_pval</th>\n",
       "      <th>pval</th>\n",
       "      <th>roi</th>\n",
       "      <th>tstat</th>\n",
       "    </tr>\n",
       "  </thead>\n",
       "  <tbody>\n",
       "    <tr>\n",
       "      <th>0</th>\n",
       "      <td>0.013474</td>\n",
       "      <td>0.003819</td>\n",
       "      <td>rh_S_cingul-Marginalis_thickness_Z_predict</td>\n",
       "      <td>3.112104</td>\n",
       "    </tr>\n",
       "    <tr>\n",
       "      <th>3</th>\n",
       "      <td>0.001657</td>\n",
       "      <td>0.000124</td>\n",
       "      <td>lh_S_orbital-H_Shaped_thickness_Z_predict</td>\n",
       "      <td>4.335906</td>\n",
       "    </tr>\n",
       "    <tr>\n",
       "      <th>4</th>\n",
       "      <td>0.014639</td>\n",
       "      <td>0.004377</td>\n",
       "      <td>lh_G&amp;S_frontomargin_thickness_Z_predict</td>\n",
       "      <td>3.046245</td>\n",
       "    </tr>\n",
       "    <tr>\n",
       "      <th>5</th>\n",
       "      <td>0.031968</td>\n",
       "      <td>0.012137</td>\n",
       "      <td>Right-vessel_Z_predict</td>\n",
       "      <td>2.667291</td>\n",
       "    </tr>\n",
       "    <tr>\n",
       "      <th>8</th>\n",
       "      <td>0.012773</td>\n",
       "      <td>0.003484</td>\n",
       "      <td>rh_G&amp;S_paracentral_thickness_Z_predict</td>\n",
       "      <td>3.150538</td>\n",
       "    </tr>\n",
       "    <tr>\n",
       "      <th>...</th>\n",
       "      <td>...</td>\n",
       "      <td>...</td>\n",
       "      <td>...</td>\n",
       "      <td>...</td>\n",
       "    </tr>\n",
       "    <tr>\n",
       "      <th>173</th>\n",
       "      <td>0.001291</td>\n",
       "      <td>0.000087</td>\n",
       "      <td>rh_S_temporal_inf_thickness_Z_predict</td>\n",
       "      <td>4.470429</td>\n",
       "    </tr>\n",
       "    <tr>\n",
       "      <th>175</th>\n",
       "      <td>0.018362</td>\n",
       "      <td>0.005892</td>\n",
       "      <td>lh_G&amp;S_paracentral_thickness_Z_predict</td>\n",
       "      <td>2.947612</td>\n",
       "    </tr>\n",
       "    <tr>\n",
       "      <th>176</th>\n",
       "      <td>0.005766</td>\n",
       "      <td>0.001013</td>\n",
       "      <td>rh_G_front_inf-Opercular_thickness_Z_predict</td>\n",
       "      <td>3.591261</td>\n",
       "    </tr>\n",
       "    <tr>\n",
       "      <th>177</th>\n",
       "      <td>0.011075</td>\n",
       "      <td>0.002665</td>\n",
       "      <td>rh_G_temp_sup-Plan_polar_thickness_Z_predict</td>\n",
       "      <td>3.238719</td>\n",
       "    </tr>\n",
       "    <tr>\n",
       "      <th>179</th>\n",
       "      <td>0.000042</td>\n",
       "      <td>0.0</td>\n",
       "      <td>lh_G_temporal_inf_thickness_Z_predict</td>\n",
       "      <td>6.407885</td>\n",
       "    </tr>\n",
       "  </tbody>\n",
       "</table>\n",
       "<p>74 rows × 4 columns</p>\n",
       "</div>"
      ],
      "text/plain": [
       "     fdr_pval      pval                                           roi  \\\n",
       "0    0.013474  0.003819    rh_S_cingul-Marginalis_thickness_Z_predict   \n",
       "3    0.001657  0.000124     lh_S_orbital-H_Shaped_thickness_Z_predict   \n",
       "4    0.014639  0.004377       lh_G&S_frontomargin_thickness_Z_predict   \n",
       "5    0.031968  0.012137                        Right-vessel_Z_predict   \n",
       "8    0.012773  0.003484        rh_G&S_paracentral_thickness_Z_predict   \n",
       "..        ...       ...                                           ...   \n",
       "173  0.001291  0.000087         rh_S_temporal_inf_thickness_Z_predict   \n",
       "175  0.018362  0.005892        lh_G&S_paracentral_thickness_Z_predict   \n",
       "176  0.005766  0.001013  rh_G_front_inf-Opercular_thickness_Z_predict   \n",
       "177  0.011075  0.002665  rh_G_temp_sup-Plan_polar_thickness_Z_predict   \n",
       "179  0.000042       0.0         lh_G_temporal_inf_thickness_Z_predict   \n",
       "\n",
       "        tstat  \n",
       "0    3.112104  \n",
       "3    4.335906  \n",
       "4    3.046245  \n",
       "5    2.667291  \n",
       "8    3.150538  \n",
       "..        ...  \n",
       "173  4.470429  \n",
       "175  2.947612  \n",
       "176  3.591261  \n",
       "177  3.238719  \n",
       "179  6.407885  \n",
       "\n",
       "[74 rows x 4 columns]"
      ]
     },
     "execution_count": 374,
     "metadata": {},
     "output_type": "execute_result"
    }
   ],
   "source": [
    "w_a_z_sig_diff"
   ]
  },
  {
   "cell_type": "code",
   "execution_count": 375,
   "id": "4e4236a5-092f-4e1c-989e-6a927be67051",
   "metadata": {
    "colab": {
     "base_uri": "https://localhost:8080/"
    },
    "id": "170sEtkynMUE",
    "outputId": "7b601d8d-c73e-44ba-a523-4eddb6dea46b"
   },
   "outputs": [
    {
     "data": {
      "text/plain": [
       "(74, 4)"
      ]
     },
     "execution_count": 375,
     "metadata": {},
     "output_type": "execute_result"
    }
   ],
   "source": [
    "w_a_z_sig_diff.shape"
   ]
  },
  {
   "cell_type": "code",
   "execution_count": 376,
   "id": "3dbc4a25-e2e9-419e-9f6d-047c8de5ca38",
   "metadata": {
    "tags": []
   },
   "outputs": [
    {
     "name": "stderr",
     "output_type": "stream",
     "text": [
      "/var/folders/xx/1xs7sc795_nf7k125153b6qh0000gn/T/ipykernel_6609/1638613532.py:1: SettingWithCopyWarning: \n",
      "A value is trying to be set on a copy of a slice from a DataFrame.\n",
      "Try using .loc[row_indexer,col_indexer] = value instead\n",
      "\n",
      "See the caveats in the documentation: https://pandas.pydata.org/pandas-docs/stable/user_guide/indexing.html#returning-a-view-versus-a-copy\n",
      "  w_a_z_sig_diff['roi'] = w_a_z_sig_diff['roi'].str.replace('_thickness_Z_predict', '', regex=True)\n",
      "/var/folders/xx/1xs7sc795_nf7k125153b6qh0000gn/T/ipykernel_6609/1638613532.py:2: SettingWithCopyWarning: \n",
      "A value is trying to be set on a copy of a slice from a DataFrame.\n",
      "Try using .loc[row_indexer,col_indexer] = value instead\n",
      "\n",
      "See the caveats in the documentation: https://pandas.pydata.org/pandas-docs/stable/user_guide/indexing.html#returning-a-view-versus-a-copy\n",
      "  w_a_z_sig_diff['roi'] = w_a_z_sig_diff['roi'].str.replace('G&S', 'G_and_S', regex=True)\n"
     ]
    }
   ],
   "source": [
    "w_a_z_sig_diff['roi'] = w_a_z_sig_diff['roi'].str.replace('_thickness_Z_predict', '', regex=True)\n",
    "w_a_z_sig_diff['roi'] = w_a_z_sig_diff['roi'].str.replace('G&S', 'G_and_S', regex=True)"
   ]
  },
  {
   "cell_type": "code",
   "execution_count": 377,
   "id": "56e2f379-e91f-43f5-a5b7-6dad5a70ff9c",
   "metadata": {
    "tags": []
   },
   "outputs": [
    {
     "name": "stderr",
     "output_type": "stream",
     "text": [
      "/opt/anaconda3/envs/braincharts/lib/python3.9/site-packages/pandas/core/frame.py:3641: SettingWithCopyWarning: \n",
      "A value is trying to be set on a copy of a slice from a DataFrame.\n",
      "Try using .loc[row_indexer,col_indexer] = value instead\n",
      "\n",
      "See the caveats in the documentation: https://pandas.pydata.org/pandas-docs/stable/user_guide/indexing.html#returning-a-view-versus-a-copy\n",
      "  self[k1] = value[k2]\n"
     ]
    }
   ],
   "source": [
    "w_a_z_sig_diff[['temp1', 'temp2']] = w_a_z_sig_diff['roi'].str.split(pat=\"_\", n=1, expand=True)"
   ]
  },
  {
   "cell_type": "code",
   "execution_count": 378,
   "id": "eeac91d2-cf8a-4c5c-a2a0-848cf412fb3e",
   "metadata": {
    "tags": []
   },
   "outputs": [
    {
     "name": "stderr",
     "output_type": "stream",
     "text": [
      "/opt/anaconda3/envs/braincharts/lib/python3.9/site-packages/pandas/core/generic.py:5516: SettingWithCopyWarning: \n",
      "A value is trying to be set on a copy of a slice from a DataFrame.\n",
      "Try using .loc[row_indexer,col_indexer] = value instead\n",
      "\n",
      "See the caveats in the documentation: https://pandas.pydata.org/pandas-docs/stable/user_guide/indexing.html#returning-a-view-versus-a-copy\n",
      "  self[name] = value\n"
     ]
    }
   ],
   "source": [
    "w_a_z_sig_diff.temp1 = w_a_z_sig_diff.temp1.apply(lambda x: 'left' if 'lh' in x else x)"
   ]
  },
  {
   "cell_type": "code",
   "execution_count": 379,
   "id": "40bbbee0-e49f-490a-a0e6-3e44db864e29",
   "metadata": {},
   "outputs": [],
   "source": [
    "w_a_z_sig_diff.temp1 = w_a_z_sig_diff.temp1.apply(lambda x: 'right' if 'rh' in x else x)"
   ]
  },
  {
   "cell_type": "code",
   "execution_count": 380,
   "id": "58601d3e-3043-4c94-888f-190e77cae330",
   "metadata": {},
   "outputs": [],
   "source": [
    "df = w_a_z_sig_diff[w_a_z_sig_diff[\"temp1\"].str.contains('left|right')]"
   ]
  },
  {
   "cell_type": "code",
   "execution_count": 381,
   "id": "ec61727a-e81c-4781-a5b2-2caae7ae914c",
   "metadata": {},
   "outputs": [
    {
     "name": "stderr",
     "output_type": "stream",
     "text": [
      "/var/folders/xx/1xs7sc795_nf7k125153b6qh0000gn/T/ipykernel_6609/995407583.py:1: SettingWithCopyWarning: \n",
      "A value is trying to be set on a copy of a slice from a DataFrame.\n",
      "Try using .loc[row_indexer,col_indexer] = value instead\n",
      "\n",
      "See the caveats in the documentation: https://pandas.pydata.org/pandas-docs/stable/user_guide/indexing.html#returning-a-view-versus-a-copy\n",
      "  df['hemi'] = df['temp1']\n"
     ]
    }
   ],
   "source": [
    "df['hemi'] = df['temp1']"
   ]
  },
  {
   "cell_type": "code",
   "execution_count": 382,
   "id": "ba74866d-dbc7-40a3-b5ee-9e15f410a915",
   "metadata": {},
   "outputs": [
    {
     "name": "stderr",
     "output_type": "stream",
     "text": [
      "/var/folders/xx/1xs7sc795_nf7k125153b6qh0000gn/T/ipykernel_6609/3909763920.py:1: SettingWithCopyWarning: \n",
      "A value is trying to be set on a copy of a slice from a DataFrame.\n",
      "Try using .loc[row_indexer,col_indexer] = value instead\n",
      "\n",
      "See the caveats in the documentation: https://pandas.pydata.org/pandas-docs/stable/user_guide/indexing.html#returning-a-view-versus-a-copy\n",
      "  df['ROI'] = df['temp2']\n"
     ]
    }
   ],
   "source": [
    "df['ROI'] = df['temp2']"
   ]
  },
  {
   "cell_type": "code",
   "execution_count": 383,
   "id": "2930227e-ce7b-4082-a99b-b7632aa84ed2",
   "metadata": {},
   "outputs": [
    {
     "data": {
      "text/plain": [
       "Index(['fdr_pval', 'pval', 'roi', 'tstat', 'temp1', 'temp2', 'hemi', 'ROI'], dtype='object')"
      ]
     },
     "execution_count": 383,
     "metadata": {},
     "output_type": "execute_result"
    }
   ],
   "source": [
    "df.columns"
   ]
  },
  {
   "cell_type": "code",
   "execution_count": 384,
   "id": "050db5c3-f2a3-4dfb-b185-cbbfd77681bc",
   "metadata": {},
   "outputs": [],
   "source": [
    "df = df[['tstat', 'fdr_pval', 'hemi', 'ROI']]"
   ]
  },
  {
   "cell_type": "code",
   "execution_count": 385,
   "id": "b43ee96f-cc88-454b-a9a7-4791bd9e4dc9",
   "metadata": {},
   "outputs": [],
   "source": [
    "w_a_z_sig_diff = df"
   ]
  },
  {
   "cell_type": "code",
   "execution_count": 386,
   "id": "89250547-9b59-4339-b996-e6f20913f951",
   "metadata": {
    "tags": []
   },
   "outputs": [],
   "source": [
    "w_a_z_sig_diff_l = w_a_z_sig_diff.query('hemi == \"left\"')\n",
    "w_a_z_sig_diff_r = w_a_z_sig_diff.query('hemi == \"right\"')"
   ]
  },
  {
   "cell_type": "code",
   "execution_count": 387,
   "id": "22f02bab-b450-43ad-8529-819152f7077f",
   "metadata": {},
   "outputs": [],
   "source": [
    "nl_w_a_z_sig_diff_l = pd.merge(nl, w_a_z_sig_diff_l, on='ROI', how='left')\n",
    "nl_w_a_z_sig_diff_r = pd.merge(nl, w_a_z_sig_diff_r, on='ROI', how='left')"
   ]
  },
  {
   "cell_type": "code",
   "execution_count": 388,
   "id": "7f9a2b44-ca46-4f6a-9634-ffd0ace14f52",
   "metadata": {
    "tags": []
   },
   "outputs": [],
   "source": [
    "nl_w_a_z_sig_diff_l['tstat'] = nl_w_a_z_sig_diff_l['tstat'].fillna(0)\n",
    "nl_w_a_z_sig_diff_r['tstat'] = nl_w_a_z_sig_diff_r['tstat'].fillna(0)"
   ]
  },
  {
   "cell_type": "code",
   "execution_count": 389,
   "id": "4ef57e44-a502-4add-866b-cfccdeb7df3c",
   "metadata": {
    "tags": []
   },
   "outputs": [],
   "source": [
    "nl_w_a_z_sig_diff_l = nl_w_a_z_sig_diff_l['tstat'].to_numpy()\n",
    "nl_w_a_z_sig_diff_r = nl_w_a_z_sig_diff_r['tstat'].to_numpy()"
   ]
  },
  {
   "cell_type": "code",
   "execution_count": 390,
   "id": "bd15e304-d692-46eb-ab82-4bc29ca0f2ba",
   "metadata": {},
   "outputs": [],
   "source": [
    "a_list = list(range(1, 76))\n",
    "parcellation_l = atlas_l\n",
    "for i, j in enumerate(a_list):\n",
    "    parcellation_l = np.where(parcellation_l == j, nl_w_a_z_sig_diff_l[i], parcellation_l)"
   ]
  },
  {
   "cell_type": "code",
   "execution_count": 391,
   "id": "1d8decaa-777f-4098-b4de-317e6db35165",
   "metadata": {},
   "outputs": [],
   "source": [
    "a_list = list(range(1, 76))\n",
    "parcellation_r = atlas_r\n",
    "for i, j in enumerate(a_list):\n",
    "    parcellation_r = np.where(parcellation_r == j, nl_w_a_z_sig_diff_r[i], parcellation_r)"
   ]
  },
  {
   "cell_type": "code",
   "execution_count": 392,
   "id": "55123b24-cde3-4bc4-8503-e36d26de8fa0",
   "metadata": {},
   "outputs": [],
   "source": [
    "# Positive value == whites have higher error\n",
    "# Negative value == blacks have higher error\n",
    "plotting.plot_surf_roi(fsaverage['infl_left'], roi_map=parcellation_l, hemi='left', cmap='plasma', bg_map=fsaverage['sulc_left'], vmin=-4, vmax=8, view='lateral', output_file='/Users/saigerutherford/Desktop/hcp_pretrain_WvA_Z_l.png');"
   ]
  },
  {
   "cell_type": "code",
   "execution_count": 393,
   "id": "92141ad4-76c2-4615-8c9c-f57669639015",
   "metadata": {},
   "outputs": [],
   "source": [
    "plotting.plot_surf_roi(fsaverage['infl_right'], roi_map=parcellation_r, hemi='right', cmap='plasma', bg_map=fsaverage['sulc_right'], vmin=-4, vmax=8, view='lateral', output_file='/Users/saigerutherford/Desktop/hcp_pretrain_WvA_Z_r.png');"
   ]
  },
  {
   "cell_type": "code",
   "execution_count": null,
   "id": "1e32d5f4-76b6-4eae-86ab-6a4807e0af14",
   "metadata": {},
   "outputs": [],
   "source": []
  }
 ],
 "metadata": {
  "kernelspec": {
   "display_name": "Python 3 (ipykernel)",
   "language": "python",
   "name": "python3"
  },
  "language_info": {
   "codemirror_mode": {
    "name": "ipython",
    "version": 3
   },
   "file_extension": ".py",
   "mimetype": "text/x-python",
   "name": "python",
   "nbconvert_exporter": "python",
   "pygments_lexer": "ipython3",
   "version": "3.12.3"
  }
 },
 "nbformat": 4,
 "nbformat_minor": 5
}
