{
 "cells": [
  {
   "cell_type": "code",
   "execution_count": 447,
   "id": "23283782-a6b8-46db-9124-0b485ca0f9f6",
   "metadata": {
    "colab": {
     "base_uri": "https://localhost:8080/"
    },
    "id": "rX8sgn_BnMUC",
    "outputId": "663c6ba2-6b67-4242-df5e-736f0b2ca8a9"
   },
   "outputs": [],
   "source": [
    "import pandas as pd\n",
    "from scipy.stats import ttest_ind\n",
    "from statsmodels.stats import multitest\n",
    "from nilearn import plotting\n",
    "import nibabel as nib\n",
    "from nilearn import datasets\n",
    "import matplotlib.pyplot as plt\n",
    "from nilearn import plotting\n",
    "import numpy as np"
   ]
  },
  {
   "cell_type": "code",
   "execution_count": 448,
   "id": "b6d0a461-3b8f-4248-b139-38736a42135d",
   "metadata": {},
   "outputs": [],
   "source": [
    "destrieux_atlas = datasets.fetch_atlas_surf_destrieux()\n",
    "fsaverage = datasets.fetch_surf_fsaverage()"
   ]
  },
  {
   "cell_type": "code",
   "execution_count": 449,
   "id": "b68f4509-cd6c-4f4b-8620-cdd7a4110018",
   "metadata": {},
   "outputs": [],
   "source": [
    "# The parcellation is already loaded into memory\n",
    "parcellation_l = destrieux_atlas['map_left']\n",
    "parcellation_r = destrieux_atlas['map_right']"
   ]
  },
  {
   "cell_type": "code",
   "execution_count": 450,
   "id": "63bc65c8-c862-4311-b57c-89c6bd3379cc",
   "metadata": {},
   "outputs": [],
   "source": [
    "nl = pd.read_csv('/Users/saigerutherford/Documents/Work/drive-download-20220731T221458Z-001/nilearn_order.csv')"
   ]
  },
  {
   "cell_type": "code",
   "execution_count": 451,
   "id": "4269b00e-44dd-4afd-b8d1-6c9305e38a9e",
   "metadata": {},
   "outputs": [],
   "source": [
    "cols = ['ROI']"
   ]
  },
  {
   "cell_type": "code",
   "execution_count": 452,
   "id": "2c9e2c2c-2f4d-40f4-9d09-515ade2164fa",
   "metadata": {},
   "outputs": [],
   "source": [
    "nl[cols] = nl[cols].apply(lambda x: x.str.strip())"
   ]
  },
  {
   "cell_type": "code",
   "execution_count": 453,
   "id": "788250e3-6d32-4512-8454-662a6bb91611",
   "metadata": {},
   "outputs": [],
   "source": [
    "atlas_r = destrieux_atlas['map_right']\n",
    "atlas_l = destrieux_atlas['map_left']"
   ]
  },
  {
   "cell_type": "code",
   "execution_count": 454,
   "id": "e25ffb88-aa73-47ba-8037-ebb31c80b908",
   "metadata": {},
   "outputs": [],
   "source": [
    "nl_ROI = nl['ROI'].to_list()"
   ]
  },
  {
   "cell_type": "markdown",
   "id": "de06f7ec-fd17-4a33-aef4-2a777e1fc9e8",
   "metadata": {},
   "source": [
    "### T-Tests on group mean and variance (across all ROIs)"
   ]
  },
  {
   "cell_type": "markdown",
   "id": "1996ad14-d1cb-47aa-957a-cbbdb6557fed",
   "metadata": {},
   "source": [
    "### UKB race modeled"
   ]
  },
  {
   "cell_type": "code",
   "execution_count": 455,
   "id": "9c6d5bc0-c919-4fee-852d-719986a08ee1",
   "metadata": {},
   "outputs": [],
   "source": [
    "E_df = pd.read_csv('/Users/saigerutherford/Documents/Work/drive-download-20220731T221458Z-001/braincharts/models/ukb_race_modeled/errors.csv')"
   ]
  },
  {
   "cell_type": "code",
   "execution_count": 456,
   "id": "bd91bd5f-268b-41ab-8bae-c9df6cdb4d7b",
   "metadata": {},
   "outputs": [],
   "source": [
    "Z_df = pd.read_csv('/Users/saigerutherford/Documents/Work/drive-download-20220731T221458Z-001/braincharts/models/ukb_race_modeled/deviation_scores.csv')"
   ]
  },
  {
   "cell_type": "code",
   "execution_count": 457,
   "id": "528ae629-820f-4b72-98be-b25c18f8ba3f",
   "metadata": {},
   "outputs": [],
   "source": [
    "Z_df = Z_df.filter(items=['race_1', 'participant_id'])"
   ]
  },
  {
   "cell_type": "code",
   "execution_count": 458,
   "id": "5717076e-9fa2-4e86-811c-ed669b5fc780",
   "metadata": {},
   "outputs": [],
   "source": [
    "E_df = pd.merge(E_df, Z_df, how='inner')"
   ]
  },
  {
   "cell_type": "code",
   "execution_count": 459,
   "id": "53cbf05b-f98b-4e69-9c2e-6eb4b7019ff8",
   "metadata": {
    "executionInfo": {
     "elapsed": 257,
     "status": "ok",
     "timestamp": 1687449325721,
     "user": {
      "displayName": "Saige Rutherford",
      "userId": "09510631870783055479"
     },
     "user_tz": -120
    },
    "id": "5649160f-708d-46ed-9760-29f9c3fb8b18",
    "jupyter": {
     "source_hidden": true
    },
    "tags": []
   },
   "outputs": [],
   "source": [
    "e_long = E_df.melt(id_vars=['participant_id','race_1'],\n",
    "                  value_vars=['rh_S_circular_insula_sup_thickness_error',\n",
    " 'lh_G_temp_sup-Plan_tempo_thickness_error',\n",
    " 'rh_G_oc-temp_med-Parahip_thickness_error',\n",
    " 'lh_G_occipital_middle_thickness_error',\n",
    " 'rh_G_oc-temp_med-Lingual_thickness_error',\n",
    " 'lh_S_intrapariet&P_trans_thickness_error',\n",
    " 'lh_G_cingul-Post-ventral_thickness_error',\n",
    " 'lh_G&S_cingul-Mid-Post_thickness_error',\n",
    " 'lh_Pole_temporal_thickness_error',\n",
    " 'rh_G&S_frontomargin_thickness_error',\n",
    " 'lh_Lat_Fis-post_thickness_error',\n",
    " 'rh_G_front_middle_thickness_error',\n",
    " 'rh_S_postcentral_thickness_error',\n",
    " 'rh_G_precentral_thickness_error',\n",
    " 'lh_G&S_frontomargin_thickness_error',\n",
    " 'rh_S_temporal_inf_thickness_error',\n",
    " 'rh_S_cingul-Marginalis_thickness_error',\n",
    " 'rh_S_central_thickness_error',\n",
    " 'lh_G_cuneus_thickness_error',\n",
    " 'lh_G_insular_short_thickness_error',\n",
    " 'rh_Lat_Fis-ant-Vertical_thickness_error',\n",
    " 'rh_G_cingul-Post-dorsal_thickness_error',\n",
    " 'lh_S_precentral-sup-part_thickness_error',\n",
    " 'lh_S_cingul-Marginalis_thickness_error',\n",
    " 'rh_MeanThickness_thickness_error',\n",
    " 'rh_G_front_inf-Triangul_thickness_error',\n",
    " 'rh_G_front_inf-Opercular_thickness_error',\n",
    " 'lh_S_temporal_inf_thickness_error',\n",
    " 'rh_G&S_occipital_inf_thickness_error',\n",
    " 'lh_S_orbital_lateral_thickness_error',\n",
    " 'rh_G_pariet_inf-Supramar_thickness_error',\n",
    " 'rh_G&S_paracentral_thickness_error',\n",
    " 'lh_S_collat_transv_post_thickness_error',\n",
    " 'lh_G_occipital_sup_thickness_error',\n",
    " 'lh_S_calcarine_thickness_error',\n",
    " 'lh_G_oc-temp_lat-fusifor_thickness_error',\n",
    " 'rh_G&S_cingul-Mid-Post_thickness_error',\n",
    " 'lh_S_oc-temp_lat_thickness_error',\n",
    " 'lh_S_subparietal_thickness_error',\n",
    " 'rh_G_occipital_middle_thickness_error',\n",
    " 'rh_S_interm_prim-Jensen_thickness_error',\n",
    " 'lh_G_front_middle_thickness_error',\n",
    " 'lh_G_precuneus_thickness_error',\n",
    " 'lh_S_oc-temp_med&Lingual_thickness_error',\n",
    " 'lh_G_pariet_inf-Angular_thickness_error',\n",
    " 'lh_G_precentral_thickness_error',\n",
    " 'rh_S_intrapariet&P_trans_thickness_error',\n",
    " 'rh_G_cingul-Post-ventral_thickness_error',\n",
    " 'lh_S_orbital_med-olfact_thickness_error',\n",
    " 'lh_G_postcentral_thickness_error',\n",
    " 'rh_Lat_Fis-post_thickness_error',\n",
    " 'lh_G_oc-temp_med-Lingual_thickness_error',\n",
    " 'rh_G_temp_sup-Plan_tempo_thickness_error',\n",
    " 'lh_S_circular_insula_sup_thickness_error',\n",
    " 'lh_G_oc-temp_med-Parahip_thickness_error',\n",
    " 'lh_G&S_transv_frontopol_thickness_error',\n",
    " 'rh_S_front_sup_thickness_error',\n",
    " 'lh_G_temporal_inf_thickness_error',\n",
    " 'lh_G_temp_sup-Lateral_thickness_error',\n",
    " 'lh_G&S_cingul-Mid-Ant_thickness_error',\n",
    " 'rh_G_parietal_sup_thickness_error',\n",
    " 'lh_S_orbital-H_Shaped_thickness_error',\n",
    " 'lh_S_front_middle_thickness_error',\n",
    " 'rh_G_front_sup_thickness_error',\n",
    " 'lh_G&S_subcentral_thickness_error',\n",
    " 'rh_G_orbital_thickness_error',\n",
    " 'rh_G_subcallosal_thickness_error',\n",
    " 'lh_S_front_inf_thickness_error',\n",
    " 'lh_G_front_inf-Opercular_thickness_error',\n",
    " 'rh_S_front_middle_thickness_error',\n",
    " 'lh_G_parietal_sup_thickness_error',\n",
    " 'rh_S_precentral-sup-part_thickness_error',\n",
    " 'lh_S_oc_sup&transversal_thickness_error',\n",
    " 'rh_G&S_subcentral_thickness_error',\n",
    " 'rh_S_orbital-H_Shaped_thickness_error',\n",
    " 'rh_G&S_cingul-Mid-Ant_thickness_error',\n",
    " 'rh_G_temp_sup-Lateral_thickness_error',\n",
    " 'lh_G_pariet_inf-Supramar_thickness_error',\n",
    " 'rh_G_rectus_thickness_error',\n",
    " 'rh_G_oc-temp_lat-fusifor_thickness_error',\n",
    " 'rh_S_oc-temp_med&Lingual_thickness_error',\n",
    " 'rh_G_temporal_inf_thickness_error',\n",
    " 'lh_S_occipital_ant_thickness_error',\n",
    " 'lh_G&S_occipital_inf_thickness_error',\n",
    " 'rh_Lat_Fis-ant-Horizont_thickness_error',\n",
    " 'rh_S_orbital_lateral_thickness_error',\n",
    " 'lh_Lat_Fis-ant-Vertical_thickness_error',\n",
    " 'lh_G_cingul-Post-dorsal_thickness_error',\n",
    " 'lh_S_central_thickness_error',\n",
    " 'lh_G_front_inf-Orbital_thickness_error',\n",
    " 'rh_G_insular_short_thickness_error',\n",
    " 'lh_S_temporal_sup_thickness_error',\n",
    " 'rh_G_postcentral_thickness_error',\n",
    " 'rh_G_cuneus_thickness_error',\n",
    " 'lh_G_Ins_lg&S_cent_ins_thickness_error',\n",
    " 'lh_G&S_cingul-Ant_thickness_error',\n",
    " 'lh_S_interm_prim-Jensen_thickness_error',\n",
    " 'lh_G&S_paracentral_thickness_error',\n",
    " 'rh_G_temp_sup-Plan_polar_thickness_error',\n",
    " 'lh_G_temp_sup-G_T_transv_thickness_error',\n",
    " 'rh_G_occipital_sup_thickness_error',\n",
    " 'rh_S_suborbital_thickness_error',\n",
    " 'rh_G&S_cingul-Ant_thickness_error',\n",
    " 'rh_S_circular_insula_ant_thickness_error',\n",
    " 'lh_G_subcallosal_thickness_error',\n",
    " 'lh_G_temporal_middle_thickness_error',\n",
    " 'rh_S_collat_transv_post_thickness_error',\n",
    " 'rh_S_circular_insula_inf_thickness_error',\n",
    " 'rh_S_calcarine_thickness_error',\n",
    " 'lh_S_temporal_transverse_thickness_error',\n",
    " 'rh_G_front_inf-Orbital_thickness_error',\n",
    " 'lh_G_front_inf-Triangul_thickness_error',\n",
    " 'rh_G_precuneus_thickness_error',\n",
    " 'lh_S_precentral-inf-part_thickness_error',\n",
    " 'rh_S_temporal_sup_thickness_error',\n",
    " 'rh_G_Ins_lg&S_cent_ins_thickness_error',\n",
    " 'lh_S_postcentral_thickness_error',\n",
    " 'lh_S_pericallosal_thickness_error',\n",
    " 'rh_S_oc_middle&Lunatus_thickness_error',\n",
    " 'rh_S_collat_transv_ant_thickness_error',\n",
    " 'rh_Pole_temporal_thickness_error',\n",
    " 'lh_S_front_sup_thickness_error',\n",
    " 'lh_Pole_occipital_thickness_error',\n",
    " 'rh_G&S_transv_frontopol_thickness_error',\n",
    " 'rh_G_pariet_inf-Angular_thickness_error',\n",
    " 'lh_G_front_sup_thickness_error',\n",
    " 'lh_S_parieto_occipital_thickness_error',\n",
    " 'rh_S_orbital_med-olfact_thickness_error',\n",
    " 'lh_Lat_Fis-ant-Horizont_thickness_error',\n",
    " 'rh_Pole_occipital_thickness_error',\n",
    " 'rh_S_front_inf_thickness_error',\n",
    " 'rh_G_temp_sup-G_T_transv_thickness_error',\n",
    " 'lh_G_temp_sup-Plan_polar_thickness_error',\n",
    " 'lh_G_rectus_thickness_error',\n",
    " 'lh_S_circular_insula_inf_thickness_error',\n",
    " 'lh_MeanThickness_thickness_error',\n",
    " 'rh_S_parieto_occipital_thickness_error',\n",
    " 'rh_S_occipital_ant_thickness_error',\n",
    " 'lh_S_circular_insula_ant_thickness_error',\n",
    " 'lh_S_suborbital_thickness_error',\n",
    " 'rh_S_oc_sup&transversal_thickness_error',\n",
    " 'rh_S_temporal_transverse_thickness_error',\n",
    " 'rh_S_subparietal_thickness_error',\n",
    " 'lh_G_orbital_thickness_error',\n",
    " 'rh_G_temporal_middle_thickness_error',\n",
    " 'lh_S_collat_transv_ant_thickness_error',\n",
    " 'rh_S_oc-temp_lat_thickness_error',\n",
    " 'rh_S_precentral-inf-part_thickness_error',\n",
    " 'lh_S_oc_middle&Lunatus_thickness_error',\n",
    " 'rh_S_pericallosal_thickness_error'])"
   ]
  },
  {
   "cell_type": "code",
   "execution_count": 460,
   "id": "d8730004-bdab-4f65-9656-7c17adc11f66",
   "metadata": {
    "tags": []
   },
   "outputs": [],
   "source": [
    "e_long_white = e_long.query('race_1 == \"White\"')\n",
    "e_long_black = e_long.query('race_1 == \"Black\"')\n",
    "e_long_asian = e_long.query('race_1 == \"Asian\"')"
   ]
  },
  {
   "cell_type": "code",
   "execution_count": 461,
   "id": "deb833e4-dadc-4019-ab9a-e94412299a02",
   "metadata": {},
   "outputs": [],
   "source": [
    "e_white = E_df.query('race_1 == \"White\"')\n",
    "e_black = E_df.query('race_1 == \"Black\"')\n",
    "e_asian = E_df.query('race_1 == \"Asian\"')"
   ]
  },
  {
   "cell_type": "code",
   "execution_count": 462,
   "id": "655f9626-4e2e-4b9e-aa62-2b7d071df4dd",
   "metadata": {},
   "outputs": [],
   "source": [
    "e_long_white2 = e_long_white.groupby(by='participant_id',as_index=False).mean()"
   ]
  },
  {
   "cell_type": "code",
   "execution_count": 463,
   "id": "436b159e-923c-41b4-b190-560be54af5b3",
   "metadata": {},
   "outputs": [],
   "source": [
    "e_long_black2 = e_long_black.groupby(by='participant_id',as_index=False).mean()"
   ]
  },
  {
   "cell_type": "code",
   "execution_count": 464,
   "id": "861ea87c-bf61-49af-a25a-2879b371d0e7",
   "metadata": {},
   "outputs": [],
   "source": [
    "e_long_asian2 = e_long_asian.groupby(by='participant_id',as_index=False).mean()"
   ]
  },
  {
   "cell_type": "code",
   "execution_count": 465,
   "id": "1a4685ba-affc-41df-960d-6c7be28e462f",
   "metadata": {},
   "outputs": [
    {
     "data": {
      "text/plain": [
       "Ttest_indResult(statistic=4.809581357774102, pvalue=1.9471933489003805e-06)"
      ]
     },
     "execution_count": 465,
     "metadata": {},
     "output_type": "execute_result"
    }
   ],
   "source": [
    "ttest_ind(e_long_white2['value'], e_long_black2['value'], equal_var=False)"
   ]
  },
  {
   "cell_type": "code",
   "execution_count": 466,
   "id": "c179d6d3-fe9c-48f1-9f31-65be9dc6fe9d",
   "metadata": {},
   "outputs": [
    {
     "data": {
      "text/plain": [
       "Ttest_indResult(statistic=7.591510142713984, pvalue=1.9172664564152852e-13)"
      ]
     },
     "execution_count": 466,
     "metadata": {},
     "output_type": "execute_result"
    }
   ],
   "source": [
    "ttest_ind(e_long_white2['value'], e_long_asian2['value'], equal_var=False)"
   ]
  },
  {
   "cell_type": "code",
   "execution_count": 467,
   "id": "5515c56f-382a-428c-8d8c-78e9cd5db07d",
   "metadata": {},
   "outputs": [
    {
     "data": {
      "text/plain": [
       "Ttest_indResult(statistic=3.1972950310072603, pvalue=0.0014706964214262251)"
      ]
     },
     "execution_count": 467,
     "metadata": {},
     "output_type": "execute_result"
    }
   ],
   "source": [
    "ttest_ind(e_long_black2['value'], e_long_asian2['value'], equal_var=False)"
   ]
  },
  {
   "cell_type": "markdown",
   "id": "70081f19-7cd1-48dd-bb93-381df7f60ae2",
   "metadata": {
    "id": "AiimUDe6nMUD"
   },
   "source": [
    "### T-Tests on individual ROIs (FDR corrected)"
   ]
  },
  {
   "cell_type": "code",
   "execution_count": 468,
   "id": "769431ee-47a6-453b-9549-dac62cc89264",
   "metadata": {
    "id": "ssVXAgqGnMUD"
   },
   "outputs": [],
   "source": [
    "w_deviations = e_white.loc[:, e_white.columns.str.contains('error')]"
   ]
  },
  {
   "cell_type": "code",
   "execution_count": 469,
   "id": "830f6d37-9c77-4a6c-a769-94bbb935c455",
   "metadata": {
    "id": "lqtHyKrrnMUD"
   },
   "outputs": [],
   "source": [
    "b_deviations = e_black.loc[:, e_black.columns.str.contains('error')]"
   ]
  },
  {
   "cell_type": "code",
   "execution_count": 470,
   "id": "04885ae4-36ef-4fda-acc7-589a9eface6d",
   "metadata": {
    "id": "lqtHyKrrnMUD"
   },
   "outputs": [],
   "source": [
    "a_deviations = e_asian.loc[:, e_asian.columns.str.contains('error')]"
   ]
  },
  {
   "cell_type": "code",
   "execution_count": 471,
   "id": "ce7b9e5a-af50-4a01-aa80-88c42e860d2e",
   "metadata": {
    "id": "BCJpEI8NnMUD"
   },
   "outputs": [],
   "source": [
    "z_cols = w_deviations.columns"
   ]
  },
  {
   "cell_type": "code",
   "execution_count": 472,
   "id": "8c490b3f-424a-49bc-8c68-2a67cc4b70e9",
   "metadata": {},
   "outputs": [
    {
     "data": {
      "text/plain": [
       "150"
      ]
     },
     "execution_count": 472,
     "metadata": {},
     "output_type": "execute_result"
    }
   ],
   "source": [
    "len(z_cols)"
   ]
  },
  {
   "cell_type": "code",
   "execution_count": 473,
   "id": "86dab32e-6a5c-4a6c-841d-fa4a1d25fc11",
   "metadata": {
    "id": "VdQgUo29nMUD"
   },
   "outputs": [],
   "source": [
    "w_b_pvals_z = pd.DataFrame(columns={'roi','pval', 'tstat','fdr_pval'})\n",
    "for index, column in enumerate(z_cols):\n",
    "    test = ttest_ind(w_deviations[column], b_deviations[column], equal_var=False)\n",
    "    w_b_pvals_z.loc[index, 'pval'] = test.pvalue\n",
    "    w_b_pvals_z.loc[index, 'tstat'] = test.statistic\n",
    "    w_b_pvals_z.loc[index, 'roi'] = column"
   ]
  },
  {
   "cell_type": "code",
   "execution_count": 474,
   "id": "6403b1c6-24b9-4c3b-ba7d-f55163bf6c07",
   "metadata": {
    "id": "n8JfELPdnMUE"
   },
   "outputs": [],
   "source": [
    "w_b_fdr_z = multitest.fdrcorrection(w_b_pvals_z['pval'], alpha=0.05, method='indep', is_sorted=False)"
   ]
  },
  {
   "cell_type": "code",
   "execution_count": 475,
   "id": "afe144d9-d741-47c0-9649-1cb89cca3ab2",
   "metadata": {
    "id": "K5panqSGnMUE"
   },
   "outputs": [],
   "source": [
    "w_b_pvals_z['fdr_pval'] = w_b_fdr_z[1]"
   ]
  },
  {
   "cell_type": "code",
   "execution_count": 476,
   "id": "b148a182-431c-4dd0-879f-2245c6b711cc",
   "metadata": {
    "id": "cjZ8HZMYnMUE"
   },
   "outputs": [],
   "source": [
    "w_b_z_sig_diff = w_b_pvals_z.query('fdr_pval < 0.05')"
   ]
  },
  {
   "cell_type": "code",
   "execution_count": 477,
   "id": "a7142b69-0cd1-42e3-a4eb-c210ae7448c6",
   "metadata": {
    "colab": {
     "base_uri": "https://localhost:8080/"
    },
    "id": "170sEtkynMUE",
    "outputId": "7b601d8d-c73e-44ba-a523-4eddb6dea46b"
   },
   "outputs": [
    {
     "data": {
      "text/plain": [
       "(76, 4)"
      ]
     },
     "execution_count": 477,
     "metadata": {},
     "output_type": "execute_result"
    }
   ],
   "source": [
    "w_b_z_sig_diff.shape"
   ]
  },
  {
   "cell_type": "code",
   "execution_count": 478,
   "id": "0377bb2a-0b15-444a-b507-bf66123344ba",
   "metadata": {
    "tags": []
   },
   "outputs": [
    {
     "name": "stderr",
     "output_type": "stream",
     "text": [
      "/var/folders/xx/1xs7sc795_nf7k125153b6qh0000gn/T/ipykernel_2210/4047360363.py:1: SettingWithCopyWarning: \n",
      "A value is trying to be set on a copy of a slice from a DataFrame.\n",
      "Try using .loc[row_indexer,col_indexer] = value instead\n",
      "\n",
      "See the caveats in the documentation: https://pandas.pydata.org/pandas-docs/stable/user_guide/indexing.html#returning-a-view-versus-a-copy\n",
      "  w_b_z_sig_diff['roi'] = w_b_z_sig_diff['roi'].str.replace('_thickness_error', '', regex=True)\n",
      "/var/folders/xx/1xs7sc795_nf7k125153b6qh0000gn/T/ipykernel_2210/4047360363.py:2: SettingWithCopyWarning: \n",
      "A value is trying to be set on a copy of a slice from a DataFrame.\n",
      "Try using .loc[row_indexer,col_indexer] = value instead\n",
      "\n",
      "See the caveats in the documentation: https://pandas.pydata.org/pandas-docs/stable/user_guide/indexing.html#returning-a-view-versus-a-copy\n",
      "  w_b_z_sig_diff['roi'] = w_b_z_sig_diff['roi'].str.replace('G&S', 'G_and_S', regex=True)\n"
     ]
    }
   ],
   "source": [
    "w_b_z_sig_diff['roi'] = w_b_z_sig_diff['roi'].str.replace('_thickness_error', '', regex=True)\n",
    "w_b_z_sig_diff['roi'] = w_b_z_sig_diff['roi'].str.replace('G&S', 'G_and_S', regex=True)"
   ]
  },
  {
   "cell_type": "code",
   "execution_count": 479,
   "id": "24d6965b-23ed-40c6-9c02-9da2bb499f2d",
   "metadata": {
    "tags": []
   },
   "outputs": [],
   "source": [
    "w_b_z_sig_diff[['temp1', 'temp2']] = w_b_z_sig_diff['roi'].str.split(pat=\"_\", n=1, expand=True)"
   ]
  },
  {
   "cell_type": "code",
   "execution_count": 480,
   "id": "63f225c6-ce76-44f4-a82a-5131b6cb561e",
   "metadata": {
    "tags": []
   },
   "outputs": [],
   "source": [
    "w_b_z_sig_diff.temp1 = w_b_z_sig_diff.temp1.apply(lambda x: 'left' if 'lh' in x else x)"
   ]
  },
  {
   "cell_type": "code",
   "execution_count": 481,
   "id": "93545661-608b-4c0e-865b-17bbc8b34713",
   "metadata": {},
   "outputs": [],
   "source": [
    "w_b_z_sig_diff.temp1 = w_b_z_sig_diff.temp1.apply(lambda x: 'right' if 'rh' in x else x)"
   ]
  },
  {
   "cell_type": "code",
   "execution_count": 482,
   "id": "1833cd84-4a6c-48e0-a8a7-c0b1f53e2bc9",
   "metadata": {},
   "outputs": [],
   "source": [
    "df = w_b_z_sig_diff[w_b_z_sig_diff[\"temp1\"].str.contains('left|right')]"
   ]
  },
  {
   "cell_type": "code",
   "execution_count": 483,
   "id": "0634c983-99d2-41e4-b45d-d6510e629d43",
   "metadata": {},
   "outputs": [],
   "source": [
    "df['hemi'] = df['temp1']"
   ]
  },
  {
   "cell_type": "code",
   "execution_count": 484,
   "id": "0725cb36-a8e1-496a-ba5b-f03a1d8f99e4",
   "metadata": {},
   "outputs": [],
   "source": [
    "df['ROI'] = df['temp2']"
   ]
  },
  {
   "cell_type": "code",
   "execution_count": 485,
   "id": "88e9e81f-af6f-4244-b6d1-c7730c202b25",
   "metadata": {},
   "outputs": [
    {
     "data": {
      "text/plain": [
       "Index(['roi', 'tstat', 'fdr_pval', 'pval', 'temp1', 'temp2', 'hemi', 'ROI'], dtype='object')"
      ]
     },
     "execution_count": 485,
     "metadata": {},
     "output_type": "execute_result"
    }
   ],
   "source": [
    "df.columns"
   ]
  },
  {
   "cell_type": "code",
   "execution_count": 486,
   "id": "e454b5b4-8ace-443e-9d3c-8d7d5d38a5cb",
   "metadata": {},
   "outputs": [],
   "source": [
    "df = df[['tstat', 'fdr_pval', 'hemi', 'ROI']]"
   ]
  },
  {
   "cell_type": "code",
   "execution_count": 487,
   "id": "4ab602c3-9498-4c3d-a84c-b978ebfb1875",
   "metadata": {},
   "outputs": [],
   "source": [
    "w_b_z_sig_diff = df"
   ]
  },
  {
   "cell_type": "code",
   "execution_count": 488,
   "id": "7dd4c8e2-77bf-4f70-b6c3-4b81c60cb832",
   "metadata": {
    "tags": []
   },
   "outputs": [],
   "source": [
    "w_b_z_sig_diff_l = w_b_z_sig_diff.query('hemi == \"left\"')\n",
    "w_b_z_sig_diff_r = w_b_z_sig_diff.query('hemi == \"right\"')"
   ]
  },
  {
   "cell_type": "code",
   "execution_count": 489,
   "id": "42fa39a2-c12f-4bc5-8200-dda579fe0b8d",
   "metadata": {},
   "outputs": [],
   "source": [
    "nl_w_b_z_sig_diff_l = pd.merge(nl, w_b_z_sig_diff_l, on='ROI', how='left')\n",
    "nl_w_b_z_sig_diff_r = pd.merge(nl, w_b_z_sig_diff_r, on='ROI', how='left')"
   ]
  },
  {
   "cell_type": "code",
   "execution_count": 490,
   "id": "c1a8551a-d284-4b26-a499-0d486dde0c3b",
   "metadata": {
    "tags": []
   },
   "outputs": [],
   "source": [
    "nl_w_b_z_sig_diff_l['tstat'] = nl_w_b_z_sig_diff_l['tstat'].fillna(0)\n",
    "nl_w_b_z_sig_diff_r['tstat'] = nl_w_b_z_sig_diff_r['tstat'].fillna(0)"
   ]
  },
  {
   "cell_type": "code",
   "execution_count": 491,
   "id": "097ce320-c665-4db2-a262-abfaed1fb8d7",
   "metadata": {
    "tags": []
   },
   "outputs": [],
   "source": [
    "nl_w_b_z_sig_diff_l = nl_w_b_z_sig_diff_l['tstat'].to_numpy()\n",
    "nl_w_b_z_sig_diff_r = nl_w_b_z_sig_diff_r['tstat'].to_numpy()"
   ]
  },
  {
   "cell_type": "code",
   "execution_count": 492,
   "id": "d63f8d2d-26fb-4e62-97dd-716f5e66224f",
   "metadata": {},
   "outputs": [],
   "source": [
    "a_list = list(range(1, 76))\n",
    "parcellation_l = atlas_l\n",
    "for i, j in enumerate(a_list):\n",
    "    parcellation_l = np.where(parcellation_l == j, nl_w_b_z_sig_diff_l[i], parcellation_l)"
   ]
  },
  {
   "cell_type": "code",
   "execution_count": 493,
   "id": "f7c368e3-e5f9-4258-b620-50ce1d7e60b7",
   "metadata": {},
   "outputs": [],
   "source": [
    "a_list = list(range(1, 76))\n",
    "parcellation_r = atlas_r\n",
    "for i, j in enumerate(a_list):\n",
    "    parcellation_r = np.where(parcellation_r == j, nl_w_b_z_sig_diff_r[i], parcellation_r)"
   ]
  },
  {
   "cell_type": "code",
   "execution_count": 497,
   "id": "8a7cbce5-6f6d-446d-aa4c-f3c0a51a52e1",
   "metadata": {},
   "outputs": [],
   "source": [
    "# Positive value == whites have higher error\n",
    "# Negative value == blacks have higher error\n",
    "plotting.plot_surf_roi(fsaverage['infl_left'], roi_map=parcellation_l, hemi='left', cmap='plasma', bg_map=fsaverage['sulc_left'], vmin=-20, vmax=20, view='lateral', output_file='/Users/saigerutherford/Desktop/ukb_racemodeled_WvB_E_l.png');"
   ]
  },
  {
   "cell_type": "code",
   "execution_count": 498,
   "id": "d483c4ec-7dd3-414c-af51-f7b93c27cd1b",
   "metadata": {},
   "outputs": [],
   "source": [
    "plotting.plot_surf_roi(fsaverage['infl_right'], roi_map=parcellation_r, hemi='right', cmap='plasma', bg_map=fsaverage['sulc_right'], vmin=-20, vmax=20, view='lateral', output_file='/Users/saigerutherford/Desktop/ukb_racemodeled_WvB_E_r.png');"
   ]
  },
  {
   "cell_type": "code",
   "execution_count": 499,
   "id": "70f0820b-f695-43ab-8015-b258ca8047ae",
   "metadata": {
    "id": "VdQgUo29nMUD"
   },
   "outputs": [],
   "source": [
    "w_a_pvals_z = pd.DataFrame(columns={'roi','pval', 'tstat','fdr_pval'})\n",
    "for index, column in enumerate(z_cols):\n",
    "    test = ttest_ind(w_deviations[column], a_deviations[column], equal_var=False)\n",
    "    w_a_pvals_z.loc[index, 'pval'] = test.pvalue\n",
    "    w_a_pvals_z.loc[index, 'tstat'] = test.statistic\n",
    "    w_a_pvals_z.loc[index, 'roi'] = column"
   ]
  },
  {
   "cell_type": "code",
   "execution_count": 500,
   "id": "68efbc86-2aa8-4e75-8262-f09c6ee82337",
   "metadata": {
    "id": "n8JfELPdnMUE"
   },
   "outputs": [],
   "source": [
    "w_a_fdr_z = multitest.fdrcorrection(w_a_pvals_z['pval'], alpha=0.05, method='indep', is_sorted=False)"
   ]
  },
  {
   "cell_type": "code",
   "execution_count": 501,
   "id": "17f766ff-2d4b-4856-ade5-4670d45658c0",
   "metadata": {
    "id": "K5panqSGnMUE"
   },
   "outputs": [],
   "source": [
    "w_a_pvals_z['fdr_pval'] = w_a_fdr_z[1]"
   ]
  },
  {
   "cell_type": "code",
   "execution_count": 502,
   "id": "4f96627b-afdc-49d8-ace8-d499ee7c7a2d",
   "metadata": {
    "id": "cjZ8HZMYnMUE"
   },
   "outputs": [],
   "source": [
    "w_a_z_sig_diff = w_a_pvals_z.query('fdr_pval < 0.05')"
   ]
  },
  {
   "cell_type": "code",
   "execution_count": 503,
   "id": "f453c07d-6d38-476b-8c70-18527ce2ec94",
   "metadata": {
    "colab": {
     "base_uri": "https://localhost:8080/",
     "height": 423
    },
    "id": "F01JkqAwnMUE",
    "outputId": "a117d7cf-dd4f-423a-e23b-66fd060deadd",
    "tags": []
   },
   "outputs": [
    {
     "data": {
      "text/html": [
       "<div>\n",
       "<style scoped>\n",
       "    .dataframe tbody tr th:only-of-type {\n",
       "        vertical-align: middle;\n",
       "    }\n",
       "\n",
       "    .dataframe tbody tr th {\n",
       "        vertical-align: top;\n",
       "    }\n",
       "\n",
       "    .dataframe thead th {\n",
       "        text-align: right;\n",
       "    }\n",
       "</style>\n",
       "<table border=\"1\" class=\"dataframe\">\n",
       "  <thead>\n",
       "    <tr style=\"text-align: right;\">\n",
       "      <th></th>\n",
       "      <th>roi</th>\n",
       "      <th>tstat</th>\n",
       "      <th>fdr_pval</th>\n",
       "      <th>pval</th>\n",
       "    </tr>\n",
       "  </thead>\n",
       "  <tbody>\n",
       "    <tr>\n",
       "      <th>0</th>\n",
       "      <td>rh_S_circular_insula_sup_thickness_error</td>\n",
       "      <td>2.340942</td>\n",
       "      <td>0.036902</td>\n",
       "      <td>0.019681</td>\n",
       "    </tr>\n",
       "    <tr>\n",
       "      <th>2</th>\n",
       "      <td>rh_G_oc-temp_med-Parahip_thickness_error</td>\n",
       "      <td>29.375346</td>\n",
       "      <td>0.0</td>\n",
       "      <td>0.0</td>\n",
       "    </tr>\n",
       "    <tr>\n",
       "      <th>5</th>\n",
       "      <td>lh_S_intrapariet&amp;P_trans_thickness_error</td>\n",
       "      <td>-4.482138</td>\n",
       "      <td>0.000028</td>\n",
       "      <td>0.000009</td>\n",
       "    </tr>\n",
       "    <tr>\n",
       "      <th>6</th>\n",
       "      <td>lh_G_cingul-Post-ventral_thickness_error</td>\n",
       "      <td>-6.371647</td>\n",
       "      <td>0.0</td>\n",
       "      <td>0.0</td>\n",
       "    </tr>\n",
       "    <tr>\n",
       "      <th>7</th>\n",
       "      <td>lh_G&amp;S_cingul-Mid-Post_thickness_error</td>\n",
       "      <td>8.842972</td>\n",
       "      <td>0.0</td>\n",
       "      <td>0.0</td>\n",
       "    </tr>\n",
       "    <tr>\n",
       "      <th>...</th>\n",
       "      <td>...</td>\n",
       "      <td>...</td>\n",
       "      <td>...</td>\n",
       "      <td>...</td>\n",
       "    </tr>\n",
       "    <tr>\n",
       "      <th>138</th>\n",
       "      <td>lh_S_circular_insula_ant_thickness_error</td>\n",
       "      <td>18.837566</td>\n",
       "      <td>0.0</td>\n",
       "      <td>0.0</td>\n",
       "    </tr>\n",
       "    <tr>\n",
       "      <th>140</th>\n",
       "      <td>rh_S_oc_sup&amp;transversal_thickness_error</td>\n",
       "      <td>3.136628</td>\n",
       "      <td>0.004332</td>\n",
       "      <td>0.00182</td>\n",
       "    </tr>\n",
       "    <tr>\n",
       "      <th>141</th>\n",
       "      <td>rh_S_temporal_transverse_thickness_error</td>\n",
       "      <td>3.199889</td>\n",
       "      <td>0.003626</td>\n",
       "      <td>0.001475</td>\n",
       "    </tr>\n",
       "    <tr>\n",
       "      <th>147</th>\n",
       "      <td>rh_S_precentral-inf-part_thickness_error</td>\n",
       "      <td>10.199778</td>\n",
       "      <td>0.0</td>\n",
       "      <td>0.0</td>\n",
       "    </tr>\n",
       "    <tr>\n",
       "      <th>148</th>\n",
       "      <td>lh_S_oc_middle&amp;Lunatus_thickness_error</td>\n",
       "      <td>2.494683</td>\n",
       "      <td>0.02561</td>\n",
       "      <td>0.012976</td>\n",
       "    </tr>\n",
       "  </tbody>\n",
       "</table>\n",
       "<p>80 rows × 4 columns</p>\n",
       "</div>"
      ],
      "text/plain": [
       "                                          roi      tstat  fdr_pval      pval\n",
       "0    rh_S_circular_insula_sup_thickness_error   2.340942  0.036902  0.019681\n",
       "2    rh_G_oc-temp_med-Parahip_thickness_error  29.375346       0.0       0.0\n",
       "5    lh_S_intrapariet&P_trans_thickness_error  -4.482138  0.000028  0.000009\n",
       "6    lh_G_cingul-Post-ventral_thickness_error  -6.371647       0.0       0.0\n",
       "7      lh_G&S_cingul-Mid-Post_thickness_error   8.842972       0.0       0.0\n",
       "..                                        ...        ...       ...       ...\n",
       "138  lh_S_circular_insula_ant_thickness_error  18.837566       0.0       0.0\n",
       "140   rh_S_oc_sup&transversal_thickness_error   3.136628  0.004332   0.00182\n",
       "141  rh_S_temporal_transverse_thickness_error   3.199889  0.003626  0.001475\n",
       "147  rh_S_precentral-inf-part_thickness_error  10.199778       0.0       0.0\n",
       "148    lh_S_oc_middle&Lunatus_thickness_error   2.494683   0.02561  0.012976\n",
       "\n",
       "[80 rows x 4 columns]"
      ]
     },
     "execution_count": 503,
     "metadata": {},
     "output_type": "execute_result"
    }
   ],
   "source": [
    "w_a_z_sig_diff"
   ]
  },
  {
   "cell_type": "code",
   "execution_count": 504,
   "id": "082893ec-ee82-40ef-8f95-c482cbadf241",
   "metadata": {
    "colab": {
     "base_uri": "https://localhost:8080/"
    },
    "id": "170sEtkynMUE",
    "outputId": "7b601d8d-c73e-44ba-a523-4eddb6dea46b"
   },
   "outputs": [
    {
     "data": {
      "text/plain": [
       "(80, 4)"
      ]
     },
     "execution_count": 504,
     "metadata": {},
     "output_type": "execute_result"
    }
   ],
   "source": [
    "w_a_z_sig_diff.shape"
   ]
  },
  {
   "cell_type": "code",
   "execution_count": 505,
   "id": "66b1a1f0-c79a-4439-9e64-218758dc5acd",
   "metadata": {
    "tags": []
   },
   "outputs": [
    {
     "name": "stderr",
     "output_type": "stream",
     "text": [
      "/var/folders/xx/1xs7sc795_nf7k125153b6qh0000gn/T/ipykernel_2210/1699425025.py:1: SettingWithCopyWarning: \n",
      "A value is trying to be set on a copy of a slice from a DataFrame.\n",
      "Try using .loc[row_indexer,col_indexer] = value instead\n",
      "\n",
      "See the caveats in the documentation: https://pandas.pydata.org/pandas-docs/stable/user_guide/indexing.html#returning-a-view-versus-a-copy\n",
      "  w_a_z_sig_diff['roi'] = w_a_z_sig_diff['roi'].str.replace('_thickness_error', '', regex=True)\n",
      "/var/folders/xx/1xs7sc795_nf7k125153b6qh0000gn/T/ipykernel_2210/1699425025.py:2: SettingWithCopyWarning: \n",
      "A value is trying to be set on a copy of a slice from a DataFrame.\n",
      "Try using .loc[row_indexer,col_indexer] = value instead\n",
      "\n",
      "See the caveats in the documentation: https://pandas.pydata.org/pandas-docs/stable/user_guide/indexing.html#returning-a-view-versus-a-copy\n",
      "  w_a_z_sig_diff['roi'] = w_a_z_sig_diff['roi'].str.replace('G&S', 'G_and_S', regex=True)\n"
     ]
    }
   ],
   "source": [
    "w_a_z_sig_diff['roi'] = w_a_z_sig_diff['roi'].str.replace('_thickness_error', '', regex=True)\n",
    "w_a_z_sig_diff['roi'] = w_a_z_sig_diff['roi'].str.replace('G&S', 'G_and_S', regex=True)"
   ]
  },
  {
   "cell_type": "code",
   "execution_count": 506,
   "id": "08007a0a-a6b6-4fcb-855d-553df0ce5086",
   "metadata": {
    "tags": []
   },
   "outputs": [
    {
     "name": "stderr",
     "output_type": "stream",
     "text": [
      "/opt/anaconda3/envs/braincharts/lib/python3.9/site-packages/pandas/core/frame.py:3641: SettingWithCopyWarning: \n",
      "A value is trying to be set on a copy of a slice from a DataFrame.\n",
      "Try using .loc[row_indexer,col_indexer] = value instead\n",
      "\n",
      "See the caveats in the documentation: https://pandas.pydata.org/pandas-docs/stable/user_guide/indexing.html#returning-a-view-versus-a-copy\n",
      "  self[k1] = value[k2]\n"
     ]
    }
   ],
   "source": [
    "w_a_z_sig_diff[['temp1', 'temp2']] = w_a_z_sig_diff['roi'].str.split(pat=\"_\", n=1, expand=True)"
   ]
  },
  {
   "cell_type": "code",
   "execution_count": 507,
   "id": "780ef52c-bd64-4a15-a747-e9fb6d624764",
   "metadata": {
    "tags": []
   },
   "outputs": [
    {
     "name": "stderr",
     "output_type": "stream",
     "text": [
      "/opt/anaconda3/envs/braincharts/lib/python3.9/site-packages/pandas/core/generic.py:5516: SettingWithCopyWarning: \n",
      "A value is trying to be set on a copy of a slice from a DataFrame.\n",
      "Try using .loc[row_indexer,col_indexer] = value instead\n",
      "\n",
      "See the caveats in the documentation: https://pandas.pydata.org/pandas-docs/stable/user_guide/indexing.html#returning-a-view-versus-a-copy\n",
      "  self[name] = value\n"
     ]
    }
   ],
   "source": [
    "w_a_z_sig_diff.temp1 = w_a_z_sig_diff.temp1.apply(lambda x: 'left' if 'lh' in x else x)"
   ]
  },
  {
   "cell_type": "code",
   "execution_count": 508,
   "id": "665e5d32-4366-4293-8209-3005bfb9b74b",
   "metadata": {},
   "outputs": [],
   "source": [
    "w_a_z_sig_diff.temp1 = w_a_z_sig_diff.temp1.apply(lambda x: 'right' if 'rh' in x else x)"
   ]
  },
  {
   "cell_type": "code",
   "execution_count": 509,
   "id": "c633d52c-98f6-4820-a884-63b6fab7b43b",
   "metadata": {},
   "outputs": [],
   "source": [
    "df = w_a_z_sig_diff[w_a_z_sig_diff[\"temp1\"].str.contains('left|right')]"
   ]
  },
  {
   "cell_type": "code",
   "execution_count": 510,
   "id": "eb0fda2d-1fe0-4b17-8a09-149c3300c636",
   "metadata": {},
   "outputs": [],
   "source": [
    "df['hemi'] = df['temp1']"
   ]
  },
  {
   "cell_type": "code",
   "execution_count": 511,
   "id": "26ff3e69-77e3-4434-8aaf-dd8277da8f22",
   "metadata": {},
   "outputs": [],
   "source": [
    "df['ROI'] = df['temp2']"
   ]
  },
  {
   "cell_type": "code",
   "execution_count": 512,
   "id": "9a10db9a-9827-4033-af9e-b72b22b8acc5",
   "metadata": {},
   "outputs": [
    {
     "data": {
      "text/plain": [
       "Index(['roi', 'tstat', 'fdr_pval', 'pval', 'temp1', 'temp2', 'hemi', 'ROI'], dtype='object')"
      ]
     },
     "execution_count": 512,
     "metadata": {},
     "output_type": "execute_result"
    }
   ],
   "source": [
    "df.columns"
   ]
  },
  {
   "cell_type": "code",
   "execution_count": 513,
   "id": "e437e195-d198-454e-b17f-311dc3bcf57d",
   "metadata": {},
   "outputs": [],
   "source": [
    "df = df[['tstat', 'fdr_pval', 'hemi', 'ROI']]"
   ]
  },
  {
   "cell_type": "code",
   "execution_count": 514,
   "id": "a7051bf6-9187-43d3-86c7-c4db987fbe74",
   "metadata": {},
   "outputs": [],
   "source": [
    "w_a_z_sig_diff = df"
   ]
  },
  {
   "cell_type": "code",
   "execution_count": 515,
   "id": "72cbdcba-7110-4422-97aa-e45757677dd6",
   "metadata": {
    "tags": []
   },
   "outputs": [],
   "source": [
    "w_a_z_sig_diff_l = w_a_z_sig_diff.query('hemi == \"left\"')\n",
    "w_a_z_sig_diff_r = w_a_z_sig_diff.query('hemi == \"right\"')"
   ]
  },
  {
   "cell_type": "code",
   "execution_count": 516,
   "id": "ac8ffcf8-dc34-476a-94bc-626088130544",
   "metadata": {},
   "outputs": [],
   "source": [
    "nl_w_a_z_sig_diff_l = pd.merge(nl, w_a_z_sig_diff_l, on='ROI', how='left')\n",
    "nl_w_a_z_sig_diff_r = pd.merge(nl, w_a_z_sig_diff_r, on='ROI', how='left')"
   ]
  },
  {
   "cell_type": "code",
   "execution_count": 517,
   "id": "10657860-bd89-4204-94d5-753ceaae1657",
   "metadata": {
    "tags": []
   },
   "outputs": [],
   "source": [
    "nl_w_a_z_sig_diff_l['tstat'] = nl_w_a_z_sig_diff_l['tstat'].fillna(0)\n",
    "nl_w_a_z_sig_diff_r['tstat'] = nl_w_a_z_sig_diff_r['tstat'].fillna(0)"
   ]
  },
  {
   "cell_type": "code",
   "execution_count": 518,
   "id": "3ce46ad1-7398-4722-8448-0ee8e1246324",
   "metadata": {
    "tags": []
   },
   "outputs": [],
   "source": [
    "nl_w_a_z_sig_diff_l = nl_w_a_z_sig_diff_l['tstat'].to_numpy()\n",
    "nl_w_a_z_sig_diff_r = nl_w_a_z_sig_diff_r['tstat'].to_numpy()"
   ]
  },
  {
   "cell_type": "code",
   "execution_count": 519,
   "id": "25df0f58-16a0-4578-adb2-d2a3c43751ab",
   "metadata": {},
   "outputs": [],
   "source": [
    "a_list = list(range(1, 76))\n",
    "parcellation_l = atlas_l\n",
    "for i, j in enumerate(a_list):\n",
    "    parcellation_l = np.where(parcellation_l == j, nl_w_a_z_sig_diff_l[i], parcellation_l)"
   ]
  },
  {
   "cell_type": "code",
   "execution_count": 520,
   "id": "8d95e1fc-d8c4-4629-8a46-b9768510cece",
   "metadata": {},
   "outputs": [],
   "source": [
    "a_list = list(range(1, 76))\n",
    "parcellation_r = atlas_r\n",
    "for i, j in enumerate(a_list):\n",
    "    parcellation_r = np.where(parcellation_r == j, nl_w_a_z_sig_diff_r[i], parcellation_r)"
   ]
  },
  {
   "cell_type": "code",
   "execution_count": 522,
   "id": "3f69dbf3-6259-4382-864a-a048e19af957",
   "metadata": {},
   "outputs": [],
   "source": [
    "# Positive value == whites have higher error\n",
    "# Negative value == blacks have higher error\n",
    "plotting.plot_surf_roi(fsaverage['infl_left'], roi_map=parcellation_l, hemi='left', cmap='plasma', bg_map=fsaverage['sulc_left'], vmin=-20, vmax=20, view='lateral', output_file='/Users/saigerutherford/Desktop/ukb_racemodeled_WvA_E_l.png');"
   ]
  },
  {
   "cell_type": "code",
   "execution_count": 524,
   "id": "48561f6a-22e6-4201-a21f-c0740d86bf93",
   "metadata": {},
   "outputs": [],
   "source": [
    "plotting.plot_surf_roi(fsaverage['infl_right'], roi_map=parcellation_r, hemi='right', cmap='plasma', bg_map=fsaverage['sulc_right'], vmin=-20, vmax=20, view='lateral', output_file='/Users/saigerutherford/Desktop/ukb_racemodeled_WvA_E_r.png');"
   ]
  },
  {
   "cell_type": "markdown",
   "id": "a8ad9d1e-5dad-49b6-a471-55222f6938e0",
   "metadata": {},
   "source": [
    "### T-Tests on group mean and variance (across all ROIs)"
   ]
  },
  {
   "cell_type": "markdown",
   "id": "8caa733f-513a-4a5f-9768-a7f4363f84ea",
   "metadata": {},
   "source": [
    "### UKB race not modeled"
   ]
  },
  {
   "cell_type": "code",
   "execution_count": 525,
   "id": "23df0b68-eea1-4622-a6af-ecc7af51a6fd",
   "metadata": {},
   "outputs": [],
   "source": [
    "E_df = pd.read_csv('/Users/saigerutherford/Documents/Work/drive-download-20220731T221458Z-001/braincharts/models/ukb_race_not_modeled/errors.csv')"
   ]
  },
  {
   "cell_type": "code",
   "execution_count": 526,
   "id": "4e5e555a-27e1-4ac6-87ff-93d82818243f",
   "metadata": {},
   "outputs": [],
   "source": [
    "Z_df = pd.read_csv('/Users/saigerutherford/Documents/Work/drive-download-20220731T221458Z-001/braincharts/models/ukb_race_not_modeled/deviation_scores.csv')"
   ]
  },
  {
   "cell_type": "code",
   "execution_count": 527,
   "id": "3b329bfa-2b65-4e7d-b596-2b8d5aadfec8",
   "metadata": {},
   "outputs": [],
   "source": [
    "Z_df = Z_df.filter(items=['race_1', 'participant_id'])"
   ]
  },
  {
   "cell_type": "code",
   "execution_count": 528,
   "id": "bb0e5708-912d-4ad2-b202-8c6f90cef94a",
   "metadata": {},
   "outputs": [],
   "source": [
    "Z_df = pd.merge(E_df, Z_df, how='inner')"
   ]
  },
  {
   "cell_type": "code",
   "execution_count": 529,
   "id": "443f11ac-76f0-4ec3-8c21-c871c8939d94",
   "metadata": {
    "executionInfo": {
     "elapsed": 257,
     "status": "ok",
     "timestamp": 1687449325721,
     "user": {
      "displayName": "Saige Rutherford",
      "userId": "09510631870783055479"
     },
     "user_tz": -120
    },
    "id": "5649160f-708d-46ed-9760-29f9c3fb8b18",
    "jupyter": {
     "source_hidden": true
    },
    "tags": []
   },
   "outputs": [],
   "source": [
    "z_long = Z_df.melt(id_vars=['participant_id','race_1'],\n",
    "                  value_vars=['rh_S_circular_insula_sup_thickness_error',\n",
    " 'lh_G_temp_sup-Plan_tempo_thickness_error',\n",
    " 'rh_G_oc-temp_med-Parahip_thickness_error',\n",
    " 'lh_G_occipital_middle_thickness_error',\n",
    " 'rh_G_oc-temp_med-Lingual_thickness_error',\n",
    " 'lh_S_intrapariet&P_trans_thickness_error',\n",
    " 'lh_G_cingul-Post-ventral_thickness_error',\n",
    " 'lh_G&S_cingul-Mid-Post_thickness_error',\n",
    " 'lh_Pole_temporal_thickness_error',\n",
    " 'rh_G&S_frontomargin_thickness_error',\n",
    " 'lh_Lat_Fis-post_thickness_error',\n",
    " 'rh_G_front_middle_thickness_error',\n",
    " 'rh_S_postcentral_thickness_error',\n",
    " 'rh_G_precentral_thickness_error',\n",
    " 'lh_G&S_frontomargin_thickness_error',\n",
    " 'rh_S_temporal_inf_thickness_error',\n",
    " 'rh_S_cingul-Marginalis_thickness_error',\n",
    " 'rh_S_central_thickness_error',\n",
    " 'lh_G_cuneus_thickness_error',\n",
    " 'lh_G_insular_short_thickness_error',\n",
    " 'rh_Lat_Fis-ant-Vertical_thickness_error',\n",
    " 'rh_G_cingul-Post-dorsal_thickness_error',\n",
    " 'lh_S_precentral-sup-part_thickness_error',\n",
    " 'lh_S_cingul-Marginalis_thickness_error',\n",
    " 'rh_MeanThickness_thickness_error',\n",
    " 'rh_G_front_inf-Triangul_thickness_error',\n",
    " 'rh_G_front_inf-Opercular_thickness_error',\n",
    " 'lh_S_temporal_inf_thickness_error',\n",
    " 'rh_G&S_occipital_inf_thickness_error',\n",
    " 'lh_S_orbital_lateral_thickness_error',\n",
    " 'rh_G_pariet_inf-Supramar_thickness_error',\n",
    " 'rh_G&S_paracentral_thickness_error',\n",
    " 'lh_S_collat_transv_post_thickness_error',\n",
    " 'lh_G_occipital_sup_thickness_error',\n",
    " 'lh_S_calcarine_thickness_error',\n",
    " 'lh_G_oc-temp_lat-fusifor_thickness_error',\n",
    " 'rh_G&S_cingul-Mid-Post_thickness_error',\n",
    " 'lh_S_oc-temp_lat_thickness_error',\n",
    " 'lh_S_subparietal_thickness_error',\n",
    " 'rh_G_occipital_middle_thickness_error',\n",
    " 'rh_S_interm_prim-Jensen_thickness_error',\n",
    " 'lh_G_front_middle_thickness_error',\n",
    " 'lh_G_precuneus_thickness_error',\n",
    " 'lh_S_oc-temp_med&Lingual_thickness_error',\n",
    " 'lh_G_pariet_inf-Angular_thickness_error',\n",
    " 'lh_G_precentral_thickness_error',\n",
    " 'rh_S_intrapariet&P_trans_thickness_error',\n",
    " 'rh_G_cingul-Post-ventral_thickness_error',\n",
    " 'lh_S_orbital_med-olfact_thickness_error',\n",
    " 'lh_G_postcentral_thickness_error',\n",
    " 'rh_Lat_Fis-post_thickness_error',\n",
    " 'lh_G_oc-temp_med-Lingual_thickness_error',\n",
    " 'rh_G_temp_sup-Plan_tempo_thickness_error',\n",
    " 'lh_S_circular_insula_sup_thickness_error',\n",
    " 'lh_G_oc-temp_med-Parahip_thickness_error',\n",
    " 'lh_G&S_transv_frontopol_thickness_error',\n",
    " 'rh_S_front_sup_thickness_error',\n",
    " 'lh_G_temporal_inf_thickness_error',\n",
    " 'lh_G_temp_sup-Lateral_thickness_error',\n",
    " 'lh_G&S_cingul-Mid-Ant_thickness_error',\n",
    " 'rh_G_parietal_sup_thickness_error',\n",
    " 'lh_S_orbital-H_Shaped_thickness_error',\n",
    " 'lh_S_front_middle_thickness_error',\n",
    " 'rh_G_front_sup_thickness_error',\n",
    " 'lh_G&S_subcentral_thickness_error',\n",
    " 'rh_G_orbital_thickness_error',\n",
    " 'rh_G_subcallosal_thickness_error',\n",
    " 'lh_S_front_inf_thickness_error',\n",
    " 'lh_G_front_inf-Opercular_thickness_error',\n",
    " 'rh_S_front_middle_thickness_error',\n",
    " 'lh_G_parietal_sup_thickness_error',\n",
    " 'rh_S_precentral-sup-part_thickness_error',\n",
    " 'lh_S_oc_sup&transversal_thickness_error',\n",
    " 'rh_G&S_subcentral_thickness_error',\n",
    " 'rh_S_orbital-H_Shaped_thickness_error',\n",
    " 'rh_G&S_cingul-Mid-Ant_thickness_error',\n",
    " 'rh_G_temp_sup-Lateral_thickness_error',\n",
    " 'lh_G_pariet_inf-Supramar_thickness_error',\n",
    " 'rh_G_rectus_thickness_error',\n",
    " 'rh_G_oc-temp_lat-fusifor_thickness_error',\n",
    " 'rh_S_oc-temp_med&Lingual_thickness_error',\n",
    " 'rh_G_temporal_inf_thickness_error',\n",
    " 'lh_S_occipital_ant_thickness_error',\n",
    " 'lh_G&S_occipital_inf_thickness_error',\n",
    " 'rh_Lat_Fis-ant-Horizont_thickness_error',\n",
    " 'rh_S_orbital_lateral_thickness_error',\n",
    " 'lh_Lat_Fis-ant-Vertical_thickness_error',\n",
    " 'lh_G_cingul-Post-dorsal_thickness_error',\n",
    " 'lh_S_central_thickness_error',\n",
    " 'lh_G_front_inf-Orbital_thickness_error',\n",
    " 'rh_G_insular_short_thickness_error',\n",
    " 'lh_S_temporal_sup_thickness_error',\n",
    " 'rh_G_postcentral_thickness_error',\n",
    " 'rh_G_cuneus_thickness_error',\n",
    " 'lh_G_Ins_lg&S_cent_ins_thickness_error',\n",
    " 'lh_G&S_cingul-Ant_thickness_error',\n",
    " 'lh_S_interm_prim-Jensen_thickness_error',\n",
    " 'lh_G&S_paracentral_thickness_error',\n",
    " 'rh_G_temp_sup-Plan_polar_thickness_error',\n",
    " 'lh_G_temp_sup-G_T_transv_thickness_error',\n",
    " 'rh_G_occipital_sup_thickness_error',\n",
    " 'rh_S_suborbital_thickness_error',\n",
    " 'rh_G&S_cingul-Ant_thickness_error',\n",
    " 'rh_S_circular_insula_ant_thickness_error',\n",
    " 'lh_G_subcallosal_thickness_error',\n",
    " 'lh_G_temporal_middle_thickness_error',\n",
    " 'rh_S_collat_transv_post_thickness_error',\n",
    " 'rh_S_circular_insula_inf_thickness_error',\n",
    " 'rh_S_calcarine_thickness_error',\n",
    " 'lh_S_temporal_transverse_thickness_error',\n",
    " 'rh_G_front_inf-Orbital_thickness_error',\n",
    " 'lh_G_front_inf-Triangul_thickness_error',\n",
    " 'rh_G_precuneus_thickness_error',\n",
    " 'lh_S_precentral-inf-part_thickness_error',\n",
    " 'rh_S_temporal_sup_thickness_error',\n",
    " 'rh_G_Ins_lg&S_cent_ins_thickness_error',\n",
    " 'lh_S_postcentral_thickness_error',\n",
    " 'lh_S_pericallosal_thickness_error',\n",
    " 'rh_S_oc_middle&Lunatus_thickness_error',\n",
    " 'rh_S_collat_transv_ant_thickness_error',\n",
    " 'rh_Pole_temporal_thickness_error',\n",
    " 'lh_S_front_sup_thickness_error',\n",
    " 'lh_Pole_occipital_thickness_error',\n",
    " 'rh_G&S_transv_frontopol_thickness_error',\n",
    " 'rh_G_pariet_inf-Angular_thickness_error',\n",
    " 'lh_G_front_sup_thickness_error',\n",
    " 'lh_S_parieto_occipital_thickness_error',\n",
    " 'rh_S_orbital_med-olfact_thickness_error',\n",
    " 'lh_Lat_Fis-ant-Horizont_thickness_error',\n",
    " 'rh_Pole_occipital_thickness_error',\n",
    " 'rh_S_front_inf_thickness_error',\n",
    " 'rh_G_temp_sup-G_T_transv_thickness_error',\n",
    " 'lh_G_temp_sup-Plan_polar_thickness_error',\n",
    " 'lh_G_rectus_thickness_error',\n",
    " 'lh_S_circular_insula_inf_thickness_error',\n",
    " 'lh_MeanThickness_thickness_error',\n",
    " 'rh_S_parieto_occipital_thickness_error',\n",
    " 'rh_S_occipital_ant_thickness_error',\n",
    " 'lh_S_circular_insula_ant_thickness_error',\n",
    " 'lh_S_suborbital_thickness_error',\n",
    " 'rh_S_oc_sup&transversal_thickness_error',\n",
    " 'rh_S_temporal_transverse_thickness_error',\n",
    " 'rh_S_subparietal_thickness_error',\n",
    " 'lh_G_orbital_thickness_error',\n",
    " 'rh_G_temporal_middle_thickness_error',\n",
    " 'lh_S_collat_transv_ant_thickness_error',\n",
    " 'rh_S_oc-temp_lat_thickness_error',\n",
    " 'rh_S_precentral-inf-part_thickness_error',\n",
    " 'lh_S_oc_middle&Lunatus_thickness_error',\n",
    " 'rh_S_pericallosal_thickness_error'])"
   ]
  },
  {
   "cell_type": "code",
   "execution_count": 530,
   "id": "524c21c2-9bd7-4551-8084-e24fd7c9950f",
   "metadata": {
    "tags": []
   },
   "outputs": [],
   "source": [
    "z_long_white = z_long.query('race_1 == \"White\"')\n",
    "z_long_black = z_long.query('race_1 == \"Black\"')\n",
    "z_long_asian = z_long.query('race_1 == \"Asian\"')"
   ]
  },
  {
   "cell_type": "code",
   "execution_count": 531,
   "id": "86550445-2349-4c99-89b9-076957db3db4",
   "metadata": {},
   "outputs": [],
   "source": [
    "z_white = Z_df.query('race_1 == \"White\"')\n",
    "z_black = Z_df.query('race_1 == \"Black\"')\n",
    "z_asian = Z_df.query('race_1 == \"Asian\"')"
   ]
  },
  {
   "cell_type": "code",
   "execution_count": 532,
   "id": "c0d297af-4329-4aa4-a285-2f618affac86",
   "metadata": {},
   "outputs": [],
   "source": [
    "z_long_white2 = z_long_white.groupby(by='participant_id',as_index=False).mean()"
   ]
  },
  {
   "cell_type": "code",
   "execution_count": 533,
   "id": "63c0b5dd-ed37-4af4-b60e-ed2578e097ff",
   "metadata": {},
   "outputs": [],
   "source": [
    "z_long_black2 = z_long_black.groupby(by='participant_id',as_index=False).mean()"
   ]
  },
  {
   "cell_type": "code",
   "execution_count": 534,
   "id": "00572681-bd5d-44c4-94ea-7336c006b636",
   "metadata": {},
   "outputs": [],
   "source": [
    "z_long_asian2 = z_long_asian.groupby(by='participant_id',as_index=False).mean()"
   ]
  },
  {
   "cell_type": "code",
   "execution_count": 535,
   "id": "684d3967-cd34-4a41-846f-58acd8ae34a7",
   "metadata": {},
   "outputs": [
    {
     "data": {
      "text/plain": [
       "Ttest_indResult(statistic=11.633433958837655, pvalue=3.6222458461774566e-28)"
      ]
     },
     "execution_count": 535,
     "metadata": {},
     "output_type": "execute_result"
    }
   ],
   "source": [
    "ttest_ind(z_long_white2['value'], z_long_black2['value'], equal_var=False)"
   ]
  },
  {
   "cell_type": "code",
   "execution_count": 536,
   "id": "e604eee1-5144-4b08-9531-4024321f74e7",
   "metadata": {},
   "outputs": [
    {
     "data": {
      "text/plain": [
       "Ttest_indResult(statistic=5.745761000824807, pvalue=1.712723768590459e-08)"
      ]
     },
     "execution_count": 536,
     "metadata": {},
     "output_type": "execute_result"
    }
   ],
   "source": [
    "ttest_ind(z_long_white2['value'], z_long_asian2['value'], equal_var=False)"
   ]
  },
  {
   "cell_type": "code",
   "execution_count": 537,
   "id": "1c0c7f18-62af-446f-bc9d-54dda20043ca",
   "metadata": {},
   "outputs": [
    {
     "data": {
      "text/plain": [
       "Ttest_indResult(statistic=-3.4971801071767046, pvalue=0.0005100036765055211)"
      ]
     },
     "execution_count": 537,
     "metadata": {},
     "output_type": "execute_result"
    }
   ],
   "source": [
    "ttest_ind(z_long_black2['value'], z_long_asian2['value'], equal_var=False)"
   ]
  },
  {
   "cell_type": "markdown",
   "id": "6fc8c87a-98c1-4495-91ec-2f94fcb007e6",
   "metadata": {
    "id": "AiimUDe6nMUD"
   },
   "source": [
    "### T-Tests on individual ROIs (FDR corrected)"
   ]
  },
  {
   "cell_type": "markdown",
   "id": "2f7b5ac6-d0cd-46d9-ab90-253f26d0cdbd",
   "metadata": {},
   "source": [
    "### UKB race not modeled"
   ]
  },
  {
   "cell_type": "code",
   "execution_count": 538,
   "id": "0188918b-ec61-4b4d-aa84-c0637b2eeee9",
   "metadata": {
    "id": "ssVXAgqGnMUD"
   },
   "outputs": [],
   "source": [
    "w_deviations = z_white.loc[:, z_white.columns.str.contains('error')]"
   ]
  },
  {
   "cell_type": "code",
   "execution_count": 539,
   "id": "ecf6a0ce-3e1a-4011-9afc-74b9dbd7bd61",
   "metadata": {
    "id": "lqtHyKrrnMUD"
   },
   "outputs": [],
   "source": [
    "b_deviations = z_black.loc[:, z_black.columns.str.contains('error')]"
   ]
  },
  {
   "cell_type": "code",
   "execution_count": 540,
   "id": "f6014925-2fe8-4bd9-aecd-f5f739d69afe",
   "metadata": {
    "id": "lqtHyKrrnMUD"
   },
   "outputs": [],
   "source": [
    "a_deviations = z_asian.loc[:, z_asian.columns.str.contains('error')]"
   ]
  },
  {
   "cell_type": "code",
   "execution_count": 541,
   "id": "77718139-4912-4a53-bb7b-612c5bcffcf0",
   "metadata": {
    "id": "BCJpEI8NnMUD"
   },
   "outputs": [],
   "source": [
    "z_cols = w_deviations.columns"
   ]
  },
  {
   "cell_type": "code",
   "execution_count": 542,
   "id": "427294bf-bba6-40fd-a0be-2a0150d856e4",
   "metadata": {},
   "outputs": [
    {
     "data": {
      "text/plain": [
       "150"
      ]
     },
     "execution_count": 542,
     "metadata": {},
     "output_type": "execute_result"
    }
   ],
   "source": [
    "len(z_cols)"
   ]
  },
  {
   "cell_type": "code",
   "execution_count": 543,
   "id": "a61bc166-7caa-4b1d-85c5-b9cd14d206e4",
   "metadata": {
    "id": "VdQgUo29nMUD"
   },
   "outputs": [],
   "source": [
    "w_b_pvals_z = pd.DataFrame(columns={'roi','pval', 'tstat','fdr_pval'})\n",
    "for index, column in enumerate(z_cols):\n",
    "    test = ttest_ind(w_deviations[column], b_deviations[column], equal_var=False)\n",
    "    w_b_pvals_z.loc[index, 'pval'] = test.pvalue\n",
    "    w_b_pvals_z.loc[index, 'tstat'] = test.statistic\n",
    "    w_b_pvals_z.loc[index, 'roi'] = column"
   ]
  },
  {
   "cell_type": "code",
   "execution_count": 544,
   "id": "684ecfc9-08b4-457a-a6a8-711bbe18253c",
   "metadata": {
    "id": "n8JfELPdnMUE"
   },
   "outputs": [],
   "source": [
    "w_b_fdr_z = multitest.fdrcorrection(w_b_pvals_z['pval'], alpha=0.05, method='indep', is_sorted=False)"
   ]
  },
  {
   "cell_type": "code",
   "execution_count": 545,
   "id": "0c3dace6-6329-4370-b229-496362fe04e2",
   "metadata": {
    "id": "K5panqSGnMUE"
   },
   "outputs": [],
   "source": [
    "w_b_pvals_z['fdr_pval'] = w_b_fdr_z[1]"
   ]
  },
  {
   "cell_type": "code",
   "execution_count": 546,
   "id": "5e6f2dad-f9e5-4c68-824b-71ce86f64c2f",
   "metadata": {
    "id": "cjZ8HZMYnMUE"
   },
   "outputs": [],
   "source": [
    "w_b_z_sig_diff = w_b_pvals_z.query('fdr_pval < 0.05')"
   ]
  },
  {
   "cell_type": "code",
   "execution_count": 547,
   "id": "64fd6c5d-ec77-47a0-b737-ce66d0f79427",
   "metadata": {
    "colab": {
     "base_uri": "https://localhost:8080/",
     "height": 423
    },
    "id": "F01JkqAwnMUE",
    "outputId": "a117d7cf-dd4f-423a-e23b-66fd060deadd",
    "tags": []
   },
   "outputs": [
    {
     "data": {
      "text/html": [
       "<div>\n",
       "<style scoped>\n",
       "    .dataframe tbody tr th:only-of-type {\n",
       "        vertical-align: middle;\n",
       "    }\n",
       "\n",
       "    .dataframe tbody tr th {\n",
       "        vertical-align: top;\n",
       "    }\n",
       "\n",
       "    .dataframe thead th {\n",
       "        text-align: right;\n",
       "    }\n",
       "</style>\n",
       "<table border=\"1\" class=\"dataframe\">\n",
       "  <thead>\n",
       "    <tr style=\"text-align: right;\">\n",
       "      <th></th>\n",
       "      <th>roi</th>\n",
       "      <th>tstat</th>\n",
       "      <th>fdr_pval</th>\n",
       "      <th>pval</th>\n",
       "    </tr>\n",
       "  </thead>\n",
       "  <tbody>\n",
       "    <tr>\n",
       "      <th>0</th>\n",
       "      <td>rh_S_circular_insula_sup_thickness_error</td>\n",
       "      <td>8.227705</td>\n",
       "      <td>0.0</td>\n",
       "      <td>0.0</td>\n",
       "    </tr>\n",
       "    <tr>\n",
       "      <th>1</th>\n",
       "      <td>lh_G_temp_sup-Plan_tempo_thickness_error</td>\n",
       "      <td>11.247064</td>\n",
       "      <td>0.0</td>\n",
       "      <td>0.0</td>\n",
       "    </tr>\n",
       "    <tr>\n",
       "      <th>2</th>\n",
       "      <td>rh_G_oc-temp_med-Parahip_thickness_error</td>\n",
       "      <td>7.8829</td>\n",
       "      <td>0.0</td>\n",
       "      <td>0.0</td>\n",
       "    </tr>\n",
       "    <tr>\n",
       "      <th>3</th>\n",
       "      <td>lh_G_occipital_middle_thickness_error</td>\n",
       "      <td>2.953383</td>\n",
       "      <td>0.004948</td>\n",
       "      <td>0.003299</td>\n",
       "    </tr>\n",
       "    <tr>\n",
       "      <th>4</th>\n",
       "      <td>rh_G_oc-temp_med-Lingual_thickness_error</td>\n",
       "      <td>2.726109</td>\n",
       "      <td>0.009771</td>\n",
       "      <td>0.006644</td>\n",
       "    </tr>\n",
       "    <tr>\n",
       "      <th>...</th>\n",
       "      <td>...</td>\n",
       "      <td>...</td>\n",
       "      <td>...</td>\n",
       "      <td>...</td>\n",
       "    </tr>\n",
       "    <tr>\n",
       "      <th>141</th>\n",
       "      <td>rh_S_temporal_transverse_thickness_error</td>\n",
       "      <td>4.707949</td>\n",
       "      <td>0.000007</td>\n",
       "      <td>0.000003</td>\n",
       "    </tr>\n",
       "    <tr>\n",
       "      <th>146</th>\n",
       "      <td>rh_S_oc-temp_lat_thickness_error</td>\n",
       "      <td>4.257348</td>\n",
       "      <td>0.000046</td>\n",
       "      <td>0.000025</td>\n",
       "    </tr>\n",
       "    <tr>\n",
       "      <th>147</th>\n",
       "      <td>rh_S_precentral-inf-part_thickness_error</td>\n",
       "      <td>11.34734</td>\n",
       "      <td>0.0</td>\n",
       "      <td>0.0</td>\n",
       "    </tr>\n",
       "    <tr>\n",
       "      <th>148</th>\n",
       "      <td>lh_S_oc_middle&amp;Lunatus_thickness_error</td>\n",
       "      <td>5.529016</td>\n",
       "      <td>0.0</td>\n",
       "      <td>0.0</td>\n",
       "    </tr>\n",
       "    <tr>\n",
       "      <th>149</th>\n",
       "      <td>rh_S_pericallosal_thickness_error</td>\n",
       "      <td>-3.328432</td>\n",
       "      <td>0.001508</td>\n",
       "      <td>0.000945</td>\n",
       "    </tr>\n",
       "  </tbody>\n",
       "</table>\n",
       "<p>109 rows × 4 columns</p>\n",
       "</div>"
      ],
      "text/plain": [
       "                                          roi      tstat  fdr_pval      pval\n",
       "0    rh_S_circular_insula_sup_thickness_error   8.227705       0.0       0.0\n",
       "1    lh_G_temp_sup-Plan_tempo_thickness_error  11.247064       0.0       0.0\n",
       "2    rh_G_oc-temp_med-Parahip_thickness_error     7.8829       0.0       0.0\n",
       "3       lh_G_occipital_middle_thickness_error   2.953383  0.004948  0.003299\n",
       "4    rh_G_oc-temp_med-Lingual_thickness_error   2.726109  0.009771  0.006644\n",
       "..                                        ...        ...       ...       ...\n",
       "141  rh_S_temporal_transverse_thickness_error   4.707949  0.000007  0.000003\n",
       "146          rh_S_oc-temp_lat_thickness_error   4.257348  0.000046  0.000025\n",
       "147  rh_S_precentral-inf-part_thickness_error   11.34734       0.0       0.0\n",
       "148    lh_S_oc_middle&Lunatus_thickness_error   5.529016       0.0       0.0\n",
       "149         rh_S_pericallosal_thickness_error  -3.328432  0.001508  0.000945\n",
       "\n",
       "[109 rows x 4 columns]"
      ]
     },
     "execution_count": 547,
     "metadata": {},
     "output_type": "execute_result"
    }
   ],
   "source": [
    "w_b_z_sig_diff"
   ]
  },
  {
   "cell_type": "code",
   "execution_count": 548,
   "id": "f957bf2a-dd35-42e7-a65f-2c50767fed70",
   "metadata": {
    "colab": {
     "base_uri": "https://localhost:8080/"
    },
    "id": "170sEtkynMUE",
    "outputId": "7b601d8d-c73e-44ba-a523-4eddb6dea46b"
   },
   "outputs": [
    {
     "data": {
      "text/plain": [
       "(109, 4)"
      ]
     },
     "execution_count": 548,
     "metadata": {},
     "output_type": "execute_result"
    }
   ],
   "source": [
    "w_b_z_sig_diff.shape"
   ]
  },
  {
   "cell_type": "code",
   "execution_count": 549,
   "id": "61c20f5c-f31e-447a-9466-c781f0c4e19d",
   "metadata": {
    "tags": []
   },
   "outputs": [
    {
     "name": "stderr",
     "output_type": "stream",
     "text": [
      "/var/folders/xx/1xs7sc795_nf7k125153b6qh0000gn/T/ipykernel_2210/4047360363.py:1: SettingWithCopyWarning: \n",
      "A value is trying to be set on a copy of a slice from a DataFrame.\n",
      "Try using .loc[row_indexer,col_indexer] = value instead\n",
      "\n",
      "See the caveats in the documentation: https://pandas.pydata.org/pandas-docs/stable/user_guide/indexing.html#returning-a-view-versus-a-copy\n",
      "  w_b_z_sig_diff['roi'] = w_b_z_sig_diff['roi'].str.replace('_thickness_error', '', regex=True)\n",
      "/var/folders/xx/1xs7sc795_nf7k125153b6qh0000gn/T/ipykernel_2210/4047360363.py:2: SettingWithCopyWarning: \n",
      "A value is trying to be set on a copy of a slice from a DataFrame.\n",
      "Try using .loc[row_indexer,col_indexer] = value instead\n",
      "\n",
      "See the caveats in the documentation: https://pandas.pydata.org/pandas-docs/stable/user_guide/indexing.html#returning-a-view-versus-a-copy\n",
      "  w_b_z_sig_diff['roi'] = w_b_z_sig_diff['roi'].str.replace('G&S', 'G_and_S', regex=True)\n"
     ]
    }
   ],
   "source": [
    "w_b_z_sig_diff['roi'] = w_b_z_sig_diff['roi'].str.replace('_thickness_error', '', regex=True)\n",
    "w_b_z_sig_diff['roi'] = w_b_z_sig_diff['roi'].str.replace('G&S', 'G_and_S', regex=True)"
   ]
  },
  {
   "cell_type": "code",
   "execution_count": 550,
   "id": "2405c1ad-6408-4e7b-b2fd-fba9ced505f1",
   "metadata": {
    "tags": []
   },
   "outputs": [
    {
     "name": "stderr",
     "output_type": "stream",
     "text": [
      "/opt/anaconda3/envs/braincharts/lib/python3.9/site-packages/pandas/core/frame.py:3641: SettingWithCopyWarning: \n",
      "A value is trying to be set on a copy of a slice from a DataFrame.\n",
      "Try using .loc[row_indexer,col_indexer] = value instead\n",
      "\n",
      "See the caveats in the documentation: https://pandas.pydata.org/pandas-docs/stable/user_guide/indexing.html#returning-a-view-versus-a-copy\n",
      "  self[k1] = value[k2]\n"
     ]
    }
   ],
   "source": [
    "w_b_z_sig_diff[['temp1', 'temp2']] = w_b_z_sig_diff['roi'].str.split(pat=\"_\", n=1, expand=True)"
   ]
  },
  {
   "cell_type": "code",
   "execution_count": 551,
   "id": "2048df0c-fb64-4d3d-93ab-ee39a87be59c",
   "metadata": {
    "tags": []
   },
   "outputs": [
    {
     "name": "stderr",
     "output_type": "stream",
     "text": [
      "/opt/anaconda3/envs/braincharts/lib/python3.9/site-packages/pandas/core/generic.py:5516: SettingWithCopyWarning: \n",
      "A value is trying to be set on a copy of a slice from a DataFrame.\n",
      "Try using .loc[row_indexer,col_indexer] = value instead\n",
      "\n",
      "See the caveats in the documentation: https://pandas.pydata.org/pandas-docs/stable/user_guide/indexing.html#returning-a-view-versus-a-copy\n",
      "  self[name] = value\n"
     ]
    }
   ],
   "source": [
    "w_b_z_sig_diff.temp1 = w_b_z_sig_diff.temp1.apply(lambda x: 'left' if 'lh' in x else x)"
   ]
  },
  {
   "cell_type": "code",
   "execution_count": 552,
   "id": "ac14ef3f-c06e-41ed-ab2e-10f7a9f89321",
   "metadata": {},
   "outputs": [],
   "source": [
    "w_b_z_sig_diff.temp1 = w_b_z_sig_diff.temp1.apply(lambda x: 'right' if 'rh' in x else x)"
   ]
  },
  {
   "cell_type": "code",
   "execution_count": 553,
   "id": "845d69ee-4e50-40e5-a2cd-9d2cc9e5334d",
   "metadata": {},
   "outputs": [],
   "source": [
    "df = w_b_z_sig_diff[w_b_z_sig_diff[\"temp1\"].str.contains('left|right')]"
   ]
  },
  {
   "cell_type": "code",
   "execution_count": 554,
   "id": "8946587c-8f75-44f2-8225-97639fd28ccb",
   "metadata": {},
   "outputs": [],
   "source": [
    "df['hemi'] = df['temp1']"
   ]
  },
  {
   "cell_type": "code",
   "execution_count": 555,
   "id": "8457383e-bf79-4b08-97c4-49445f8bb646",
   "metadata": {},
   "outputs": [],
   "source": [
    "df['ROI'] = df['temp2']"
   ]
  },
  {
   "cell_type": "code",
   "execution_count": 556,
   "id": "85f8232f-7eee-4055-a9d9-93ef63500b53",
   "metadata": {},
   "outputs": [
    {
     "data": {
      "text/plain": [
       "Index(['roi', 'tstat', 'fdr_pval', 'pval', 'temp1', 'temp2', 'hemi', 'ROI'], dtype='object')"
      ]
     },
     "execution_count": 556,
     "metadata": {},
     "output_type": "execute_result"
    }
   ],
   "source": [
    "df.columns"
   ]
  },
  {
   "cell_type": "code",
   "execution_count": 557,
   "id": "4e46c212-3dff-47d1-a42e-a0f153438be7",
   "metadata": {},
   "outputs": [],
   "source": [
    "df = df[['tstat', 'fdr_pval', 'hemi', 'ROI']]"
   ]
  },
  {
   "cell_type": "code",
   "execution_count": 558,
   "id": "dcda3f3f-540b-45c6-867d-dc91401ae577",
   "metadata": {},
   "outputs": [],
   "source": [
    "w_b_z_sig_diff = df"
   ]
  },
  {
   "cell_type": "code",
   "execution_count": 559,
   "id": "1a0e4e8b-5996-4e68-b0eb-d4583612d4a5",
   "metadata": {
    "tags": []
   },
   "outputs": [],
   "source": [
    "w_b_z_sig_diff_l = w_b_z_sig_diff.query('hemi == \"left\"')\n",
    "w_b_z_sig_diff_r = w_b_z_sig_diff.query('hemi == \"right\"')"
   ]
  },
  {
   "cell_type": "code",
   "execution_count": 560,
   "id": "22f1c8a8-830c-4529-8722-f1e3e1c3e084",
   "metadata": {},
   "outputs": [],
   "source": [
    "nl_w_b_z_sig_diff_l = pd.merge(nl, w_b_z_sig_diff_l, on='ROI', how='left')\n",
    "nl_w_b_z_sig_diff_r = pd.merge(nl, w_b_z_sig_diff_r, on='ROI', how='left')"
   ]
  },
  {
   "cell_type": "code",
   "execution_count": 561,
   "id": "5f25152e-d864-42ee-b2cc-38f3a0b89ead",
   "metadata": {
    "tags": []
   },
   "outputs": [],
   "source": [
    "nl_w_b_z_sig_diff_l['tstat'] = nl_w_b_z_sig_diff_l['tstat'].fillna(0)\n",
    "nl_w_b_z_sig_diff_r['tstat'] = nl_w_b_z_sig_diff_r['tstat'].fillna(0)"
   ]
  },
  {
   "cell_type": "code",
   "execution_count": 562,
   "id": "570ab80a-9872-43f3-af63-fa470c6d4716",
   "metadata": {
    "tags": []
   },
   "outputs": [],
   "source": [
    "nl_w_b_z_sig_diff_l = nl_w_b_z_sig_diff_l['tstat'].to_numpy()\n",
    "nl_w_b_z_sig_diff_r = nl_w_b_z_sig_diff_r['tstat'].to_numpy()"
   ]
  },
  {
   "cell_type": "code",
   "execution_count": 563,
   "id": "f4b8f79c-2a13-4bb5-ba19-93a95f36197c",
   "metadata": {},
   "outputs": [],
   "source": [
    "a_list = list(range(1, 76))\n",
    "parcellation_l = atlas_l\n",
    "for i, j in enumerate(a_list):\n",
    "    parcellation_l = np.where(parcellation_l == j, nl_w_b_z_sig_diff_l[i], parcellation_l)"
   ]
  },
  {
   "cell_type": "code",
   "execution_count": 564,
   "id": "f146b679-d9e6-42af-b220-77487335b76b",
   "metadata": {},
   "outputs": [],
   "source": [
    "a_list = list(range(1, 76))\n",
    "parcellation_r = atlas_r\n",
    "for i, j in enumerate(a_list):\n",
    "    parcellation_r = np.where(parcellation_r == j, nl_w_b_z_sig_diff_r[i], parcellation_r)"
   ]
  },
  {
   "cell_type": "code",
   "execution_count": 566,
   "id": "4d0552c7-de96-4c75-82b7-ff95a6d22133",
   "metadata": {},
   "outputs": [],
   "source": [
    "# Positive value == whites have higher error\n",
    "# Negative value == blacks have higher error\n",
    "plotting.plot_surf_roi(fsaverage['infl_left'], roi_map=parcellation_l, hemi='left', cmap='plasma', bg_map=fsaverage['sulc_left'], vmin=-20, vmax=20, view='lateral', output_file='/Users/saigerutherford/Desktop/ukb_racenotmodeled_WvB_E_l.png');"
   ]
  },
  {
   "cell_type": "code",
   "execution_count": 575,
   "id": "07194388-1b2f-4a24-ad16-a0d437bab66c",
   "metadata": {},
   "outputs": [],
   "source": [
    "plotting.plot_surf_roi(fsaverage['infl_right'], roi_map=parcellation_r, hemi='right', cmap='plasma', bg_map=fsaverage['sulc_right'], vmin=-20, vmax=20, view='lateral', output_file='/Users/saigerutherford/Desktop/ukb_racenotmodeled_WvB_E_r.png');"
   ]
  },
  {
   "cell_type": "code",
   "execution_count": 576,
   "id": "57053d23-0329-4a3f-9660-0c6b8df4c480",
   "metadata": {
    "id": "VdQgUo29nMUD"
   },
   "outputs": [],
   "source": [
    "w_a_pvals_z = pd.DataFrame(columns={'roi','pval', 'tstat','fdr_pval'})\n",
    "for index, column in enumerate(z_cols):\n",
    "    test = ttest_ind(w_deviations[column], a_deviations[column], equal_var=False)\n",
    "    w_a_pvals_z.loc[index, 'pval'] = test.pvalue\n",
    "    w_a_pvals_z.loc[index, 'tstat'] = test.statistic\n",
    "    w_a_pvals_z.loc[index, 'roi'] = column"
   ]
  },
  {
   "cell_type": "code",
   "execution_count": 577,
   "id": "3522873a-4e17-4ad5-b6dc-38a94232c557",
   "metadata": {
    "id": "n8JfELPdnMUE"
   },
   "outputs": [],
   "source": [
    "w_a_fdr_z = multitest.fdrcorrection(w_a_pvals_z['pval'], alpha=0.05, method='indep', is_sorted=False)"
   ]
  },
  {
   "cell_type": "code",
   "execution_count": 578,
   "id": "a57f1a8c-6d65-4559-a5ac-de56be111972",
   "metadata": {
    "id": "K5panqSGnMUE"
   },
   "outputs": [],
   "source": [
    "w_a_pvals_z['fdr_pval'] = w_a_fdr_z[1]"
   ]
  },
  {
   "cell_type": "code",
   "execution_count": 579,
   "id": "d835e50a-eca8-479d-9544-46a8985e1665",
   "metadata": {
    "id": "cjZ8HZMYnMUE"
   },
   "outputs": [],
   "source": [
    "w_a_z_sig_diff = w_a_pvals_z.query('fdr_pval < 0.05')"
   ]
  },
  {
   "cell_type": "code",
   "execution_count": 580,
   "id": "d061aadb-7e3e-46fc-a753-5ab050b89377",
   "metadata": {
    "colab": {
     "base_uri": "https://localhost:8080/",
     "height": 423
    },
    "id": "F01JkqAwnMUE",
    "outputId": "a117d7cf-dd4f-423a-e23b-66fd060deadd",
    "tags": []
   },
   "outputs": [
    {
     "data": {
      "text/html": [
       "<div>\n",
       "<style scoped>\n",
       "    .dataframe tbody tr th:only-of-type {\n",
       "        vertical-align: middle;\n",
       "    }\n",
       "\n",
       "    .dataframe tbody tr th {\n",
       "        vertical-align: top;\n",
       "    }\n",
       "\n",
       "    .dataframe thead th {\n",
       "        text-align: right;\n",
       "    }\n",
       "</style>\n",
       "<table border=\"1\" class=\"dataframe\">\n",
       "  <thead>\n",
       "    <tr style=\"text-align: right;\">\n",
       "      <th></th>\n",
       "      <th>roi</th>\n",
       "      <th>tstat</th>\n",
       "      <th>fdr_pval</th>\n",
       "      <th>pval</th>\n",
       "    </tr>\n",
       "  </thead>\n",
       "  <tbody>\n",
       "    <tr>\n",
       "      <th>0</th>\n",
       "      <td>rh_S_circular_insula_sup_thickness_error</td>\n",
       "      <td>6.738914</td>\n",
       "      <td>0.0</td>\n",
       "      <td>0.0</td>\n",
       "    </tr>\n",
       "    <tr>\n",
       "      <th>1</th>\n",
       "      <td>lh_G_temp_sup-Plan_tempo_thickness_error</td>\n",
       "      <td>6.728783</td>\n",
       "      <td>0.0</td>\n",
       "      <td>0.0</td>\n",
       "    </tr>\n",
       "    <tr>\n",
       "      <th>5</th>\n",
       "      <td>lh_S_intrapariet&amp;P_trans_thickness_error</td>\n",
       "      <td>4.60263</td>\n",
       "      <td>0.000015</td>\n",
       "      <td>0.000005</td>\n",
       "    </tr>\n",
       "    <tr>\n",
       "      <th>7</th>\n",
       "      <td>lh_G&amp;S_cingul-Mid-Post_thickness_error</td>\n",
       "      <td>4.933585</td>\n",
       "      <td>0.000004</td>\n",
       "      <td>0.000001</td>\n",
       "    </tr>\n",
       "    <tr>\n",
       "      <th>9</th>\n",
       "      <td>rh_G&amp;S_frontomargin_thickness_error</td>\n",
       "      <td>2.22171</td>\n",
       "      <td>0.047889</td>\n",
       "      <td>0.026818</td>\n",
       "    </tr>\n",
       "    <tr>\n",
       "      <th>...</th>\n",
       "      <td>...</td>\n",
       "      <td>...</td>\n",
       "      <td>...</td>\n",
       "      <td>...</td>\n",
       "    </tr>\n",
       "    <tr>\n",
       "      <th>138</th>\n",
       "      <td>lh_S_circular_insula_ant_thickness_error</td>\n",
       "      <td>2.719523</td>\n",
       "      <td>0.013082</td>\n",
       "      <td>0.006802</td>\n",
       "    </tr>\n",
       "    <tr>\n",
       "      <th>140</th>\n",
       "      <td>rh_S_oc_sup&amp;transversal_thickness_error</td>\n",
       "      <td>3.87028</td>\n",
       "      <td>0.000297</td>\n",
       "      <td>0.000125</td>\n",
       "    </tr>\n",
       "    <tr>\n",
       "      <th>143</th>\n",
       "      <td>lh_G_orbital_thickness_error</td>\n",
       "      <td>2.784077</td>\n",
       "      <td>0.011005</td>\n",
       "      <td>0.005576</td>\n",
       "    </tr>\n",
       "    <tr>\n",
       "      <th>145</th>\n",
       "      <td>lh_S_collat_transv_ant_thickness_error</td>\n",
       "      <td>-3.914152</td>\n",
       "      <td>0.000254</td>\n",
       "      <td>0.000105</td>\n",
       "    </tr>\n",
       "    <tr>\n",
       "      <th>147</th>\n",
       "      <td>rh_S_precentral-inf-part_thickness_error</td>\n",
       "      <td>5.02169</td>\n",
       "      <td>0.000003</td>\n",
       "      <td>0.000001</td>\n",
       "    </tr>\n",
       "  </tbody>\n",
       "</table>\n",
       "<p>84 rows × 4 columns</p>\n",
       "</div>"
      ],
      "text/plain": [
       "                                          roi     tstat  fdr_pval      pval\n",
       "0    rh_S_circular_insula_sup_thickness_error  6.738914       0.0       0.0\n",
       "1    lh_G_temp_sup-Plan_tempo_thickness_error  6.728783       0.0       0.0\n",
       "5    lh_S_intrapariet&P_trans_thickness_error   4.60263  0.000015  0.000005\n",
       "7      lh_G&S_cingul-Mid-Post_thickness_error  4.933585  0.000004  0.000001\n",
       "9         rh_G&S_frontomargin_thickness_error   2.22171  0.047889  0.026818\n",
       "..                                        ...       ...       ...       ...\n",
       "138  lh_S_circular_insula_ant_thickness_error  2.719523  0.013082  0.006802\n",
       "140   rh_S_oc_sup&transversal_thickness_error   3.87028  0.000297  0.000125\n",
       "143              lh_G_orbital_thickness_error  2.784077  0.011005  0.005576\n",
       "145    lh_S_collat_transv_ant_thickness_error -3.914152  0.000254  0.000105\n",
       "147  rh_S_precentral-inf-part_thickness_error   5.02169  0.000003  0.000001\n",
       "\n",
       "[84 rows x 4 columns]"
      ]
     },
     "execution_count": 580,
     "metadata": {},
     "output_type": "execute_result"
    }
   ],
   "source": [
    "w_a_z_sig_diff"
   ]
  },
  {
   "cell_type": "code",
   "execution_count": 581,
   "id": "403a0381-d498-4140-86e7-9e77e4741f1f",
   "metadata": {
    "colab": {
     "base_uri": "https://localhost:8080/"
    },
    "id": "170sEtkynMUE",
    "outputId": "7b601d8d-c73e-44ba-a523-4eddb6dea46b"
   },
   "outputs": [
    {
     "data": {
      "text/plain": [
       "(84, 4)"
      ]
     },
     "execution_count": 581,
     "metadata": {},
     "output_type": "execute_result"
    }
   ],
   "source": [
    "w_a_z_sig_diff.shape"
   ]
  },
  {
   "cell_type": "code",
   "execution_count": 582,
   "id": "e2a4ae61-523e-4364-98ab-9fcc4abf513d",
   "metadata": {
    "tags": []
   },
   "outputs": [
    {
     "name": "stderr",
     "output_type": "stream",
     "text": [
      "/var/folders/xx/1xs7sc795_nf7k125153b6qh0000gn/T/ipykernel_2210/1699425025.py:1: SettingWithCopyWarning: \n",
      "A value is trying to be set on a copy of a slice from a DataFrame.\n",
      "Try using .loc[row_indexer,col_indexer] = value instead\n",
      "\n",
      "See the caveats in the documentation: https://pandas.pydata.org/pandas-docs/stable/user_guide/indexing.html#returning-a-view-versus-a-copy\n",
      "  w_a_z_sig_diff['roi'] = w_a_z_sig_diff['roi'].str.replace('_thickness_error', '', regex=True)\n",
      "/var/folders/xx/1xs7sc795_nf7k125153b6qh0000gn/T/ipykernel_2210/1699425025.py:2: SettingWithCopyWarning: \n",
      "A value is trying to be set on a copy of a slice from a DataFrame.\n",
      "Try using .loc[row_indexer,col_indexer] = value instead\n",
      "\n",
      "See the caveats in the documentation: https://pandas.pydata.org/pandas-docs/stable/user_guide/indexing.html#returning-a-view-versus-a-copy\n",
      "  w_a_z_sig_diff['roi'] = w_a_z_sig_diff['roi'].str.replace('G&S', 'G_and_S', regex=True)\n"
     ]
    }
   ],
   "source": [
    "w_a_z_sig_diff['roi'] = w_a_z_sig_diff['roi'].str.replace('_thickness_error', '', regex=True)\n",
    "w_a_z_sig_diff['roi'] = w_a_z_sig_diff['roi'].str.replace('G&S', 'G_and_S', regex=True)"
   ]
  },
  {
   "cell_type": "code",
   "execution_count": 583,
   "id": "b4d006c3-b0fd-41ce-b5a2-6201a3eef6aa",
   "metadata": {
    "tags": []
   },
   "outputs": [
    {
     "name": "stderr",
     "output_type": "stream",
     "text": [
      "/opt/anaconda3/envs/braincharts/lib/python3.9/site-packages/pandas/core/frame.py:3641: SettingWithCopyWarning: \n",
      "A value is trying to be set on a copy of a slice from a DataFrame.\n",
      "Try using .loc[row_indexer,col_indexer] = value instead\n",
      "\n",
      "See the caveats in the documentation: https://pandas.pydata.org/pandas-docs/stable/user_guide/indexing.html#returning-a-view-versus-a-copy\n",
      "  self[k1] = value[k2]\n"
     ]
    }
   ],
   "source": [
    "w_a_z_sig_diff[['temp1', 'temp2']] = w_a_z_sig_diff['roi'].str.split(pat=\"_\", n=1, expand=True)"
   ]
  },
  {
   "cell_type": "code",
   "execution_count": 584,
   "id": "f1d48d71-2324-4400-8228-39e926c70f49",
   "metadata": {
    "tags": []
   },
   "outputs": [
    {
     "name": "stderr",
     "output_type": "stream",
     "text": [
      "/opt/anaconda3/envs/braincharts/lib/python3.9/site-packages/pandas/core/generic.py:5516: SettingWithCopyWarning: \n",
      "A value is trying to be set on a copy of a slice from a DataFrame.\n",
      "Try using .loc[row_indexer,col_indexer] = value instead\n",
      "\n",
      "See the caveats in the documentation: https://pandas.pydata.org/pandas-docs/stable/user_guide/indexing.html#returning-a-view-versus-a-copy\n",
      "  self[name] = value\n"
     ]
    }
   ],
   "source": [
    "w_a_z_sig_diff.temp1 = w_a_z_sig_diff.temp1.apply(lambda x: 'left' if 'lh' in x else x)"
   ]
  },
  {
   "cell_type": "code",
   "execution_count": 585,
   "id": "7b0efcd9-3be6-40ac-95bc-f81c4c20a2a7",
   "metadata": {},
   "outputs": [],
   "source": [
    "w_a_z_sig_diff.temp1 = w_a_z_sig_diff.temp1.apply(lambda x: 'right' if 'rh' in x else x)"
   ]
  },
  {
   "cell_type": "code",
   "execution_count": 586,
   "id": "0aad43f2-e6f4-423b-8419-dcab68d814ff",
   "metadata": {},
   "outputs": [],
   "source": [
    "df = w_a_z_sig_diff[w_a_z_sig_diff[\"temp1\"].str.contains('left|right')]"
   ]
  },
  {
   "cell_type": "code",
   "execution_count": 587,
   "id": "3465665a-860c-4f42-b651-c16af156906a",
   "metadata": {},
   "outputs": [],
   "source": [
    "df['hemi'] = df['temp1']"
   ]
  },
  {
   "cell_type": "code",
   "execution_count": 588,
   "id": "c1689326-b369-4a4b-a6aa-753dea2944a2",
   "metadata": {},
   "outputs": [],
   "source": [
    "df['ROI'] = df['temp2']"
   ]
  },
  {
   "cell_type": "code",
   "execution_count": 589,
   "id": "d26194f4-f153-4003-81e7-740128bb81fd",
   "metadata": {},
   "outputs": [
    {
     "data": {
      "text/plain": [
       "Index(['roi', 'tstat', 'fdr_pval', 'pval', 'temp1', 'temp2', 'hemi', 'ROI'], dtype='object')"
      ]
     },
     "execution_count": 589,
     "metadata": {},
     "output_type": "execute_result"
    }
   ],
   "source": [
    "df.columns"
   ]
  },
  {
   "cell_type": "code",
   "execution_count": 590,
   "id": "d1c90c7f-cf69-4937-b66f-90532ae14f67",
   "metadata": {},
   "outputs": [],
   "source": [
    "df = df[['tstat', 'fdr_pval', 'hemi', 'ROI']]"
   ]
  },
  {
   "cell_type": "code",
   "execution_count": 591,
   "id": "02963770-ce1a-448e-b051-33020ef3620b",
   "metadata": {},
   "outputs": [],
   "source": [
    "w_a_z_sig_diff = df"
   ]
  },
  {
   "cell_type": "code",
   "execution_count": 592,
   "id": "714a445c-9e44-4c20-8a32-9687f535d9e2",
   "metadata": {
    "tags": []
   },
   "outputs": [],
   "source": [
    "w_a_z_sig_diff_l = w_a_z_sig_diff.query('hemi == \"left\"')\n",
    "w_a_z_sig_diff_r = w_a_z_sig_diff.query('hemi == \"right\"')"
   ]
  },
  {
   "cell_type": "code",
   "execution_count": 593,
   "id": "dd9e61ab-0db5-4000-9dbc-b6a4d77ac543",
   "metadata": {},
   "outputs": [],
   "source": [
    "nl_w_a_z_sig_diff_l = pd.merge(nl, w_a_z_sig_diff_l, on='ROI', how='left')\n",
    "nl_w_a_z_sig_diff_r = pd.merge(nl, w_a_z_sig_diff_r, on='ROI', how='left')"
   ]
  },
  {
   "cell_type": "code",
   "execution_count": 594,
   "id": "3ee99428-bd71-43dc-9910-4516eb1d4472",
   "metadata": {
    "tags": []
   },
   "outputs": [],
   "source": [
    "nl_w_a_z_sig_diff_l['tstat'] = nl_w_a_z_sig_diff_l['tstat'].fillna(0)\n",
    "nl_w_a_z_sig_diff_r['tstat'] = nl_w_a_z_sig_diff_r['tstat'].fillna(0)"
   ]
  },
  {
   "cell_type": "code",
   "execution_count": 595,
   "id": "9e6f6595-2a65-4545-a2e3-d210b972cc08",
   "metadata": {
    "tags": []
   },
   "outputs": [],
   "source": [
    "nl_w_a_z_sig_diff_l = nl_w_a_z_sig_diff_l['tstat'].to_numpy()\n",
    "nl_w_a_z_sig_diff_r = nl_w_a_z_sig_diff_r['tstat'].to_numpy()"
   ]
  },
  {
   "cell_type": "code",
   "execution_count": 596,
   "id": "f93a89d3-8b79-48db-8802-4010e6a13737",
   "metadata": {},
   "outputs": [],
   "source": [
    "a_list = list(range(1, 76))\n",
    "parcellation_l = atlas_l\n",
    "for i, j in enumerate(a_list):\n",
    "    parcellation_l = np.where(parcellation_l == j, nl_w_a_z_sig_diff_l[i], parcellation_l)"
   ]
  },
  {
   "cell_type": "code",
   "execution_count": 597,
   "id": "200c89ac-b65b-48fa-9da9-96a4e3934772",
   "metadata": {},
   "outputs": [],
   "source": [
    "a_list = list(range(1, 76))\n",
    "parcellation_r = atlas_r\n",
    "for i, j in enumerate(a_list):\n",
    "    parcellation_r = np.where(parcellation_r == j, nl_w_a_z_sig_diff_r[i], parcellation_r)"
   ]
  },
  {
   "cell_type": "code",
   "execution_count": 599,
   "id": "9a172802-1ce5-46c8-a3f0-2dab191d3546",
   "metadata": {},
   "outputs": [],
   "source": [
    "# Positive value == whites have higher error\n",
    "# Negative value == blacks have higher error\n",
    "plotting.plot_surf_roi(fsaverage['infl_left'], roi_map=parcellation_l, hemi='left', cmap='plasma', bg_map=fsaverage['sulc_left'], vmin=-20, vmax=20, view='lateral', output_file='/Users/saigerutherford/Desktop/ukb_racenotmodeled_WvA_E_l.png');"
   ]
  },
  {
   "cell_type": "code",
   "execution_count": 600,
   "id": "6c1b65e8-4692-4a21-9f00-656667057fff",
   "metadata": {},
   "outputs": [],
   "source": [
    "plotting.plot_surf_roi(fsaverage['infl_right'], roi_map=parcellation_r, hemi='right', cmap='plasma', bg_map=fsaverage['sulc_right'], vmin=-20, vmax=20,view='lateral', output_file='/Users/saigerutherford/Desktop/ukb_racenotmodeled_WvA_E_r.png');"
   ]
  },
  {
   "cell_type": "markdown",
   "id": "ca6bf0a5-0d77-4e54-9739-b670aa3f403b",
   "metadata": {},
   "source": [
    "### T-Tests on group mean and variance (across all ROIs)"
   ]
  },
  {
   "cell_type": "markdown",
   "id": "ff91a6b2-df1a-4129-86be-b32fff5c9a41",
   "metadata": {},
   "source": [
    "### UKB pretrained"
   ]
  },
  {
   "cell_type": "code",
   "execution_count": 601,
   "id": "2662cc7f-933e-4201-962d-e93186d7f4cc",
   "metadata": {
    "id": "ae932714-60c3-4a36-8b72-cd9086a25761"
   },
   "outputs": [],
   "source": [
    "E_df = pd.read_csv('/Users/saigerutherford/Documents/Work/drive-download-20220731T221458Z-001/lifespan_big_controls_resample_0_te_errors.csv', low_memory=False)"
   ]
  },
  {
   "cell_type": "code",
   "execution_count": 602,
   "id": "16b61da2-783d-4993-93ef-195a5338ca5f",
   "metadata": {},
   "outputs": [],
   "source": [
    "Z_df = pd.read_csv('/Users/saigerutherford/Documents/Work/drive-download-20220731T221458Z-001/pretrained_nm_z_demos_ukb.csv')"
   ]
  },
  {
   "cell_type": "code",
   "execution_count": 603,
   "id": "0ed77029-9cc9-44e2-a110-696d5c55cac0",
   "metadata": {},
   "outputs": [],
   "source": [
    "Z_df = Z_df.filter(items=['race_1', 'sub_id'])"
   ]
  },
  {
   "cell_type": "code",
   "execution_count": 604,
   "id": "e64c26e1-72cc-4575-9d47-dfb59ebb03f0",
   "metadata": {},
   "outputs": [],
   "source": [
    "Z_df['sub_id'] = Z_df['sub_id'].astype('string')"
   ]
  },
  {
   "cell_type": "code",
   "execution_count": 605,
   "id": "2eb3da70-882b-4886-8a61-f5bc4463a0a5",
   "metadata": {},
   "outputs": [],
   "source": [
    "Z_df = pd.merge(E_df, Z_df, how='inner')"
   ]
  },
  {
   "cell_type": "code",
   "execution_count": 606,
   "id": "ece41101-f1ea-4f22-9d4e-216d3aeb6311",
   "metadata": {
    "executionInfo": {
     "elapsed": 257,
     "status": "ok",
     "timestamp": 1687449325721,
     "user": {
      "displayName": "Saige Rutherford",
      "userId": "09510631870783055479"
     },
     "user_tz": -120
    },
    "id": "5649160f-708d-46ed-9760-29f9c3fb8b18",
    "jupyter": {
     "source_hidden": true
    },
    "tags": []
   },
   "outputs": [],
   "source": [
    "z_long = Z_df.melt(id_vars=['sub_id','race_1'],\n",
    "                  value_vars=['rh_S_circular_insula_sup_thickness_error',\n",
    " 'lh_G_temp_sup-Plan_tempo_thickness_error',\n",
    " 'rh_G_oc-temp_med-Parahip_thickness_error',\n",
    " 'lh_G_occipital_middle_thickness_error',\n",
    " 'rh_G_oc-temp_med-Lingual_thickness_error',\n",
    " 'lh_S_intrapariet&P_trans_thickness_error',\n",
    " 'lh_G_cingul-Post-ventral_thickness_error',\n",
    " 'lh_G&S_cingul-Mid-Post_thickness_error',\n",
    " 'lh_Pole_temporal_thickness_error',\n",
    " 'rh_G&S_frontomargin_thickness_error',\n",
    " 'lh_Lat_Fis-post_thickness_error',\n",
    " 'rh_G_front_middle_thickness_error',\n",
    " 'rh_S_postcentral_thickness_error',\n",
    " 'rh_G_precentral_thickness_error',\n",
    " 'lh_G&S_frontomargin_thickness_error',\n",
    " 'rh_S_temporal_inf_thickness_error',\n",
    " 'rh_S_cingul-Marginalis_thickness_error',\n",
    " 'rh_S_central_thickness_error',\n",
    " 'lh_G_cuneus_thickness_error',\n",
    " 'lh_G_insular_short_thickness_error',\n",
    " 'rh_Lat_Fis-ant-Vertical_thickness_error',\n",
    " 'rh_G_cingul-Post-dorsal_thickness_error',\n",
    " 'lh_S_precentral-sup-part_thickness_error',\n",
    " 'lh_S_cingul-Marginalis_thickness_error',\n",
    " 'rh_MeanThickness_thickness_error',\n",
    " 'rh_G_front_inf-Triangul_thickness_error',\n",
    " 'rh_G_front_inf-Opercular_thickness_error',\n",
    " 'lh_S_temporal_inf_thickness_error',\n",
    " 'rh_G&S_occipital_inf_thickness_error',\n",
    " 'lh_S_orbital_lateral_thickness_error',\n",
    " 'rh_G_pariet_inf-Supramar_thickness_error',\n",
    " 'rh_G&S_paracentral_thickness_error',\n",
    " 'lh_S_collat_transv_post_thickness_error',\n",
    " 'lh_G_occipital_sup_thickness_error',\n",
    " 'lh_S_calcarine_thickness_error',\n",
    " 'lh_G_oc-temp_lat-fusifor_thickness_error',\n",
    " 'rh_G&S_cingul-Mid-Post_thickness_error',\n",
    " 'lh_S_oc-temp_lat_thickness_error',\n",
    " 'lh_S_subparietal_thickness_error',\n",
    " 'rh_G_occipital_middle_thickness_error',\n",
    " 'rh_S_interm_prim-Jensen_thickness_error',\n",
    " 'lh_G_front_middle_thickness_error',\n",
    " 'lh_G_precuneus_thickness_error',\n",
    " 'lh_S_oc-temp_med&Lingual_thickness_error',\n",
    " 'lh_G_pariet_inf-Angular_thickness_error',\n",
    " 'lh_G_precentral_thickness_error',\n",
    " 'rh_S_intrapariet&P_trans_thickness_error',\n",
    " 'rh_G_cingul-Post-ventral_thickness_error',\n",
    " 'lh_S_orbital_med-olfact_thickness_error',\n",
    " 'lh_G_postcentral_thickness_error',\n",
    " 'rh_Lat_Fis-post_thickness_error',\n",
    " 'lh_G_oc-temp_med-Lingual_thickness_error',\n",
    " 'rh_G_temp_sup-Plan_tempo_thickness_error',\n",
    " 'lh_S_circular_insula_sup_thickness_error',\n",
    " 'lh_G_oc-temp_med-Parahip_thickness_error',\n",
    " 'lh_G&S_transv_frontopol_thickness_error',\n",
    " 'rh_S_front_sup_thickness_error',\n",
    " 'lh_G_temporal_inf_thickness_error',\n",
    " 'lh_G_temp_sup-Lateral_thickness_error',\n",
    " 'lh_G&S_cingul-Mid-Ant_thickness_error',\n",
    " 'rh_G_parietal_sup_thickness_error',\n",
    " 'lh_S_orbital-H_Shaped_thickness_error',\n",
    " 'lh_S_front_middle_thickness_error',\n",
    " 'rh_G_front_sup_thickness_error',\n",
    " 'lh_G&S_subcentral_thickness_error',\n",
    " 'rh_G_orbital_thickness_error',\n",
    " 'rh_G_subcallosal_thickness_error',\n",
    " 'lh_S_front_inf_thickness_error',\n",
    " 'lh_G_front_inf-Opercular_thickness_error',\n",
    " 'rh_S_front_middle_thickness_error',\n",
    " 'lh_G_parietal_sup_thickness_error',\n",
    " 'rh_S_precentral-sup-part_thickness_error',\n",
    " 'lh_S_oc_sup&transversal_thickness_error',\n",
    " 'rh_G&S_subcentral_thickness_error',\n",
    " 'rh_S_orbital-H_Shaped_thickness_error',\n",
    " 'rh_G&S_cingul-Mid-Ant_thickness_error',\n",
    " 'rh_G_temp_sup-Lateral_thickness_error',\n",
    " 'lh_G_pariet_inf-Supramar_thickness_error',\n",
    " 'rh_G_rectus_thickness_error',\n",
    " 'rh_G_oc-temp_lat-fusifor_thickness_error',\n",
    " 'rh_S_oc-temp_med&Lingual_thickness_error',\n",
    " 'rh_G_temporal_inf_thickness_error',\n",
    " 'lh_S_occipital_ant_thickness_error',\n",
    " 'lh_G&S_occipital_inf_thickness_error',\n",
    " 'rh_Lat_Fis-ant-Horizont_thickness_error',\n",
    " 'rh_S_orbital_lateral_thickness_error',\n",
    " 'lh_Lat_Fis-ant-Vertical_thickness_error',\n",
    " 'lh_G_cingul-Post-dorsal_thickness_error',\n",
    " 'lh_S_central_thickness_error',\n",
    " 'lh_G_front_inf-Orbital_thickness_error',\n",
    " 'rh_G_insular_short_thickness_error',\n",
    " 'lh_S_temporal_sup_thickness_error',\n",
    " 'rh_G_postcentral_thickness_error',\n",
    " 'rh_G_cuneus_thickness_error',\n",
    " 'lh_G_Ins_lg&S_cent_ins_thickness_error',\n",
    " 'lh_G&S_cingul-Ant_thickness_error',\n",
    " 'lh_S_interm_prim-Jensen_thickness_error',\n",
    " 'lh_G&S_paracentral_thickness_error',\n",
    " 'rh_G_temp_sup-Plan_polar_thickness_error',\n",
    " 'lh_G_temp_sup-G_T_transv_thickness_error',\n",
    " 'rh_G_occipital_sup_thickness_error',\n",
    " 'rh_S_suborbital_thickness_error',\n",
    " 'rh_G&S_cingul-Ant_thickness_error',\n",
    " 'rh_S_circular_insula_ant_thickness_error',\n",
    " 'lh_G_subcallosal_thickness_error',\n",
    " 'lh_G_temporal_middle_thickness_error',\n",
    " 'rh_S_collat_transv_post_thickness_error',\n",
    " 'rh_S_circular_insula_inf_thickness_error',\n",
    " 'rh_S_calcarine_thickness_error',\n",
    " 'lh_S_temporal_transverse_thickness_error',\n",
    " 'rh_G_front_inf-Orbital_thickness_error',\n",
    " 'lh_G_front_inf-Triangul_thickness_error',\n",
    " 'rh_G_precuneus_thickness_error',\n",
    " 'lh_S_precentral-inf-part_thickness_error',\n",
    " 'rh_S_temporal_sup_thickness_error',\n",
    " 'rh_G_Ins_lg&S_cent_ins_thickness_error',\n",
    " 'lh_S_postcentral_thickness_error',\n",
    " 'lh_S_pericallosal_thickness_error',\n",
    " 'rh_S_oc_middle&Lunatus_thickness_error',\n",
    " 'rh_S_collat_transv_ant_thickness_error',\n",
    " 'rh_Pole_temporal_thickness_error',\n",
    " 'lh_S_front_sup_thickness_error',\n",
    " 'lh_Pole_occipital_thickness_error',\n",
    " 'rh_G&S_transv_frontopol_thickness_error',\n",
    " 'rh_G_pariet_inf-Angular_thickness_error',\n",
    " 'lh_G_front_sup_thickness_error',\n",
    " 'lh_S_parieto_occipital_thickness_error',\n",
    " 'rh_S_orbital_med-olfact_thickness_error',\n",
    " 'lh_Lat_Fis-ant-Horizont_thickness_error',\n",
    " 'rh_Pole_occipital_thickness_error',\n",
    " 'rh_S_front_inf_thickness_error',\n",
    " 'rh_G_temp_sup-G_T_transv_thickness_error',\n",
    " 'lh_G_temp_sup-Plan_polar_thickness_error',\n",
    " 'lh_G_rectus_thickness_error',\n",
    " 'lh_S_circular_insula_inf_thickness_error',\n",
    " 'lh_MeanThickness_thickness_error',\n",
    " 'rh_S_parieto_occipital_thickness_error',\n",
    " 'rh_S_occipital_ant_thickness_error',\n",
    " 'lh_S_circular_insula_ant_thickness_error',\n",
    " 'lh_S_suborbital_thickness_error',\n",
    " 'rh_S_oc_sup&transversal_thickness_error',\n",
    " 'rh_S_temporal_transverse_thickness_error',\n",
    " 'rh_S_subparietal_thickness_error',\n",
    " 'lh_G_orbital_thickness_error',\n",
    " 'rh_G_temporal_middle_thickness_error',\n",
    " 'lh_S_collat_transv_ant_thickness_error',\n",
    " 'rh_S_oc-temp_lat_thickness_error',\n",
    " 'rh_S_precentral-inf-part_thickness_error',\n",
    " 'lh_S_oc_middle&Lunatus_thickness_error',\n",
    " 'rh_S_pericallosal_thickness_error'])"
   ]
  },
  {
   "cell_type": "code",
   "execution_count": 607,
   "id": "388d3fb3-0fbf-4fe1-8222-c026abcc4224",
   "metadata": {
    "tags": []
   },
   "outputs": [],
   "source": [
    "z_long_white = z_long.query('race_1 == \"White\"')\n",
    "z_long_black = z_long.query('race_1 == \"Black\"')\n",
    "z_long_asian = z_long.query('race_1 == \"Asian\"')"
   ]
  },
  {
   "cell_type": "code",
   "execution_count": 608,
   "id": "f1cf0921-8389-45f7-ac7e-8bb4b642064f",
   "metadata": {},
   "outputs": [],
   "source": [
    "z_white = Z_df.query('race_1 == \"White\"')\n",
    "z_black = Z_df.query('race_1 == \"Black\"')\n",
    "z_asian = Z_df.query('race_1 == \"Asian\"')"
   ]
  },
  {
   "cell_type": "code",
   "execution_count": 609,
   "id": "5730dcbc-e7fc-4e17-857b-ddb290892220",
   "metadata": {},
   "outputs": [],
   "source": [
    "z_long_white2 = z_long_white.groupby(by='sub_id',as_index=False).mean()"
   ]
  },
  {
   "cell_type": "code",
   "execution_count": 610,
   "id": "c4c6c681-b24f-47e0-8035-157a7601c352",
   "metadata": {},
   "outputs": [],
   "source": [
    "z_long_black2 = z_long_black.groupby(by='sub_id',as_index=False).mean()"
   ]
  },
  {
   "cell_type": "code",
   "execution_count": 611,
   "id": "4b2413fa-8a0b-4138-ba7d-8b4d4ae0f5e1",
   "metadata": {},
   "outputs": [],
   "source": [
    "z_long_asian2 = z_long_asian.groupby(by='sub_id',as_index=False).mean()"
   ]
  },
  {
   "cell_type": "code",
   "execution_count": 612,
   "id": "fe4f1da1-87f4-47cb-9dd0-b11ea89c56ba",
   "metadata": {},
   "outputs": [
    {
     "data": {
      "text/plain": [
       "Ttest_indResult(statistic=9.126734984652446, pvalue=1.4771507583395097e-15)"
      ]
     },
     "execution_count": 612,
     "metadata": {},
     "output_type": "execute_result"
    }
   ],
   "source": [
    "ttest_ind(z_long_white2['value'], z_long_black2['value'], equal_var=False)"
   ]
  },
  {
   "cell_type": "code",
   "execution_count": 613,
   "id": "c2936e07-edd5-41d2-ab52-8bcf1d6d72b7",
   "metadata": {},
   "outputs": [
    {
     "data": {
      "text/plain": [
       "Ttest_indResult(statistic=3.796246474752034, pvalue=0.00023266435399783484)"
      ]
     },
     "execution_count": 613,
     "metadata": {},
     "output_type": "execute_result"
    }
   ],
   "source": [
    "ttest_ind(z_long_white2['value'], z_long_asian2['value'], equal_var=False)"
   ]
  },
  {
   "cell_type": "code",
   "execution_count": 614,
   "id": "d6204cbe-4c86-424f-850c-e4eb812c2b06",
   "metadata": {},
   "outputs": [
    {
     "data": {
      "text/plain": [
       "Ttest_indResult(statistic=-2.505618577027345, pvalue=0.012947797277593659)"
      ]
     },
     "execution_count": 614,
     "metadata": {},
     "output_type": "execute_result"
    }
   ],
   "source": [
    "ttest_ind(z_long_black2['value'], z_long_asian2['value'], equal_var=False)"
   ]
  },
  {
   "cell_type": "markdown",
   "id": "4d178398-11f4-4a2d-94d1-8b83930ad215",
   "metadata": {
    "id": "AiimUDe6nMUD"
   },
   "source": [
    "### T-Tests on individual ROIs (FDR corrected)"
   ]
  },
  {
   "cell_type": "markdown",
   "id": "6971efae-94d4-4e8b-8be3-699f64eeb7d8",
   "metadata": {},
   "source": [
    "### UKB pretrained"
   ]
  },
  {
   "cell_type": "code",
   "execution_count": 615,
   "id": "83be0aca-6d09-435a-9881-859f76c035cc",
   "metadata": {
    "id": "ssVXAgqGnMUD"
   },
   "outputs": [],
   "source": [
    "w_deviations = z_white.loc[:, z_white.columns.str.contains('error')]"
   ]
  },
  {
   "cell_type": "code",
   "execution_count": 616,
   "id": "34ea0bf8-9e20-4289-bea9-3491b37e6e7e",
   "metadata": {
    "id": "lqtHyKrrnMUD"
   },
   "outputs": [],
   "source": [
    "b_deviations = z_black.loc[:, z_black.columns.str.contains('error')]"
   ]
  },
  {
   "cell_type": "code",
   "execution_count": 617,
   "id": "f336db99-8c34-47f1-9864-ca608c301555",
   "metadata": {
    "id": "lqtHyKrrnMUD"
   },
   "outputs": [],
   "source": [
    "a_deviations = z_asian.loc[:, z_asian.columns.str.contains('error')]"
   ]
  },
  {
   "cell_type": "code",
   "execution_count": 618,
   "id": "b15e489e-df6e-4a4b-9cee-9b2686e6740b",
   "metadata": {
    "id": "BCJpEI8NnMUD"
   },
   "outputs": [],
   "source": [
    "z_cols = w_deviations.columns"
   ]
  },
  {
   "cell_type": "code",
   "execution_count": 619,
   "id": "1540ebfe-c67e-44e8-9a04-a777c2a508f6",
   "metadata": {},
   "outputs": [
    {
     "data": {
      "text/plain": [
       "187"
      ]
     },
     "execution_count": 619,
     "metadata": {},
     "output_type": "execute_result"
    }
   ],
   "source": [
    "len(z_cols)"
   ]
  },
  {
   "cell_type": "code",
   "execution_count": 620,
   "id": "0bf0adf7-a358-4929-9ff8-7110e2af65a8",
   "metadata": {
    "id": "VdQgUo29nMUD"
   },
   "outputs": [],
   "source": [
    "w_b_pvals_z = pd.DataFrame(columns={'roi','pval', 'tstat','fdr_pval'})\n",
    "for index, column in enumerate(z_cols):\n",
    "    test = ttest_ind(w_deviations[column], b_deviations[column], equal_var=False)\n",
    "    w_b_pvals_z.loc[index, 'pval'] = test.pvalue\n",
    "    w_b_pvals_z.loc[index, 'tstat'] = test.statistic\n",
    "    w_b_pvals_z.loc[index, 'roi'] = column"
   ]
  },
  {
   "cell_type": "code",
   "execution_count": 621,
   "id": "d503a2bb-b726-4895-9b41-a105ba93f9b7",
   "metadata": {
    "id": "n8JfELPdnMUE"
   },
   "outputs": [],
   "source": [
    "w_b_fdr_z = multitest.fdrcorrection(w_b_pvals_z['pval'], alpha=0.05, method='indep', is_sorted=False)"
   ]
  },
  {
   "cell_type": "code",
   "execution_count": 622,
   "id": "380f7312-de79-420d-a975-a25decf477d4",
   "metadata": {
    "id": "K5panqSGnMUE"
   },
   "outputs": [],
   "source": [
    "w_b_pvals_z['fdr_pval'] = w_b_fdr_z[1]"
   ]
  },
  {
   "cell_type": "code",
   "execution_count": 623,
   "id": "c5c0e42f-39ad-4de3-8b41-a3790493c9d7",
   "metadata": {
    "id": "cjZ8HZMYnMUE"
   },
   "outputs": [],
   "source": [
    "w_b_z_sig_diff = w_b_pvals_z.query('fdr_pval < 0.05')"
   ]
  },
  {
   "cell_type": "code",
   "execution_count": 624,
   "id": "43713eda-8850-41d2-ac60-9c7a17cc3b83",
   "metadata": {
    "colab": {
     "base_uri": "https://localhost:8080/",
     "height": 423
    },
    "id": "F01JkqAwnMUE",
    "outputId": "a117d7cf-dd4f-423a-e23b-66fd060deadd",
    "tags": []
   },
   "outputs": [
    {
     "data": {
      "text/html": [
       "<div>\n",
       "<style scoped>\n",
       "    .dataframe tbody tr th:only-of-type {\n",
       "        vertical-align: middle;\n",
       "    }\n",
       "\n",
       "    .dataframe tbody tr th {\n",
       "        vertical-align: top;\n",
       "    }\n",
       "\n",
       "    .dataframe thead th {\n",
       "        text-align: right;\n",
       "    }\n",
       "</style>\n",
       "<table border=\"1\" class=\"dataframe\">\n",
       "  <thead>\n",
       "    <tr style=\"text-align: right;\">\n",
       "      <th></th>\n",
       "      <th>roi</th>\n",
       "      <th>tstat</th>\n",
       "      <th>fdr_pval</th>\n",
       "      <th>pval</th>\n",
       "    </tr>\n",
       "  </thead>\n",
       "  <tbody>\n",
       "    <tr>\n",
       "      <th>0</th>\n",
       "      <td>rh_S_circular_insula_sup_thickness_error</td>\n",
       "      <td>5.987741</td>\n",
       "      <td>0.0</td>\n",
       "      <td>0.0</td>\n",
       "    </tr>\n",
       "    <tr>\n",
       "      <th>1</th>\n",
       "      <td>lh_G_temp_sup-Plan_tempo_thickness_error</td>\n",
       "      <td>7.510903</td>\n",
       "      <td>0.0</td>\n",
       "      <td>0.0</td>\n",
       "    </tr>\n",
       "    <tr>\n",
       "      <th>2</th>\n",
       "      <td>rh_G_oc-temp_med-Parahip_thickness_error</td>\n",
       "      <td>3.011292</td>\n",
       "      <td>0.004033</td>\n",
       "      <td>0.003149</td>\n",
       "    </tr>\n",
       "    <tr>\n",
       "      <th>3</th>\n",
       "      <td>lh_G_occipital_middle_thickness_error</td>\n",
       "      <td>9.141349</td>\n",
       "      <td>0.0</td>\n",
       "      <td>0.0</td>\n",
       "    </tr>\n",
       "    <tr>\n",
       "      <th>4</th>\n",
       "      <td>rh_G_oc-temp_med-Lingual_thickness_error</td>\n",
       "      <td>-2.074006</td>\n",
       "      <td>0.046618</td>\n",
       "      <td>0.040136</td>\n",
       "    </tr>\n",
       "    <tr>\n",
       "      <th>...</th>\n",
       "      <td>...</td>\n",
       "      <td>...</td>\n",
       "      <td>...</td>\n",
       "      <td>...</td>\n",
       "    </tr>\n",
       "    <tr>\n",
       "      <th>181</th>\n",
       "      <td>rh_G_temporal_middle_thickness_error</td>\n",
       "      <td>7.183079</td>\n",
       "      <td>0.0</td>\n",
       "      <td>0.0</td>\n",
       "    </tr>\n",
       "    <tr>\n",
       "      <th>183</th>\n",
       "      <td>rh_S_oc-temp_lat_thickness_error</td>\n",
       "      <td>6.871023</td>\n",
       "      <td>0.0</td>\n",
       "      <td>0.0</td>\n",
       "    </tr>\n",
       "    <tr>\n",
       "      <th>184</th>\n",
       "      <td>rh_S_precentral-inf-part_thickness_error</td>\n",
       "      <td>7.721487</td>\n",
       "      <td>0.0</td>\n",
       "      <td>0.0</td>\n",
       "    </tr>\n",
       "    <tr>\n",
       "      <th>185</th>\n",
       "      <td>lh_S_oc_middle&amp;Lunatus_thickness_error</td>\n",
       "      <td>8.660007</td>\n",
       "      <td>0.0</td>\n",
       "      <td>0.0</td>\n",
       "    </tr>\n",
       "    <tr>\n",
       "      <th>186</th>\n",
       "      <td>rh_S_pericallosal_thickness_error</td>\n",
       "      <td>-2.337952</td>\n",
       "      <td>0.025163</td>\n",
       "      <td>0.020992</td>\n",
       "    </tr>\n",
       "  </tbody>\n",
       "</table>\n",
       "<p>162 rows × 4 columns</p>\n",
       "</div>"
      ],
      "text/plain": [
       "                                          roi     tstat  fdr_pval      pval\n",
       "0    rh_S_circular_insula_sup_thickness_error  5.987741       0.0       0.0\n",
       "1    lh_G_temp_sup-Plan_tempo_thickness_error  7.510903       0.0       0.0\n",
       "2    rh_G_oc-temp_med-Parahip_thickness_error  3.011292  0.004033  0.003149\n",
       "3       lh_G_occipital_middle_thickness_error  9.141349       0.0       0.0\n",
       "4    rh_G_oc-temp_med-Lingual_thickness_error -2.074006  0.046618  0.040136\n",
       "..                                        ...       ...       ...       ...\n",
       "181      rh_G_temporal_middle_thickness_error  7.183079       0.0       0.0\n",
       "183          rh_S_oc-temp_lat_thickness_error  6.871023       0.0       0.0\n",
       "184  rh_S_precentral-inf-part_thickness_error  7.721487       0.0       0.0\n",
       "185    lh_S_oc_middle&Lunatus_thickness_error  8.660007       0.0       0.0\n",
       "186         rh_S_pericallosal_thickness_error -2.337952  0.025163  0.020992\n",
       "\n",
       "[162 rows x 4 columns]"
      ]
     },
     "execution_count": 624,
     "metadata": {},
     "output_type": "execute_result"
    }
   ],
   "source": [
    "w_b_z_sig_diff"
   ]
  },
  {
   "cell_type": "code",
   "execution_count": 625,
   "id": "e824b95e-076e-4724-8af7-55c20e9f039a",
   "metadata": {
    "colab": {
     "base_uri": "https://localhost:8080/"
    },
    "id": "170sEtkynMUE",
    "outputId": "7b601d8d-c73e-44ba-a523-4eddb6dea46b"
   },
   "outputs": [
    {
     "data": {
      "text/plain": [
       "(162, 4)"
      ]
     },
     "execution_count": 625,
     "metadata": {},
     "output_type": "execute_result"
    }
   ],
   "source": [
    "w_b_z_sig_diff.shape"
   ]
  },
  {
   "cell_type": "code",
   "execution_count": 626,
   "id": "46685aaa-55a0-4914-9ec1-3259fff396b9",
   "metadata": {
    "tags": []
   },
   "outputs": [
    {
     "name": "stderr",
     "output_type": "stream",
     "text": [
      "/var/folders/xx/1xs7sc795_nf7k125153b6qh0000gn/T/ipykernel_2210/4047360363.py:1: SettingWithCopyWarning: \n",
      "A value is trying to be set on a copy of a slice from a DataFrame.\n",
      "Try using .loc[row_indexer,col_indexer] = value instead\n",
      "\n",
      "See the caveats in the documentation: https://pandas.pydata.org/pandas-docs/stable/user_guide/indexing.html#returning-a-view-versus-a-copy\n",
      "  w_b_z_sig_diff['roi'] = w_b_z_sig_diff['roi'].str.replace('_thickness_error', '', regex=True)\n",
      "/var/folders/xx/1xs7sc795_nf7k125153b6qh0000gn/T/ipykernel_2210/4047360363.py:2: SettingWithCopyWarning: \n",
      "A value is trying to be set on a copy of a slice from a DataFrame.\n",
      "Try using .loc[row_indexer,col_indexer] = value instead\n",
      "\n",
      "See the caveats in the documentation: https://pandas.pydata.org/pandas-docs/stable/user_guide/indexing.html#returning-a-view-versus-a-copy\n",
      "  w_b_z_sig_diff['roi'] = w_b_z_sig_diff['roi'].str.replace('G&S', 'G_and_S', regex=True)\n"
     ]
    }
   ],
   "source": [
    "w_b_z_sig_diff['roi'] = w_b_z_sig_diff['roi'].str.replace('_thickness_error', '', regex=True)\n",
    "w_b_z_sig_diff['roi'] = w_b_z_sig_diff['roi'].str.replace('G&S', 'G_and_S', regex=True)"
   ]
  },
  {
   "cell_type": "code",
   "execution_count": 627,
   "id": "f1263f51-6357-4803-8e7c-be7822c15bec",
   "metadata": {
    "tags": []
   },
   "outputs": [
    {
     "name": "stderr",
     "output_type": "stream",
     "text": [
      "/opt/anaconda3/envs/braincharts/lib/python3.9/site-packages/pandas/core/frame.py:3641: SettingWithCopyWarning: \n",
      "A value is trying to be set on a copy of a slice from a DataFrame.\n",
      "Try using .loc[row_indexer,col_indexer] = value instead\n",
      "\n",
      "See the caveats in the documentation: https://pandas.pydata.org/pandas-docs/stable/user_guide/indexing.html#returning-a-view-versus-a-copy\n",
      "  self[k1] = value[k2]\n"
     ]
    }
   ],
   "source": [
    "w_b_z_sig_diff[['temp1', 'temp2']] = w_b_z_sig_diff['roi'].str.split(pat=\"_\", n=1, expand=True)"
   ]
  },
  {
   "cell_type": "code",
   "execution_count": 628,
   "id": "a14a5dca-84f7-42cc-856a-dc06841de81b",
   "metadata": {
    "tags": []
   },
   "outputs": [
    {
     "name": "stderr",
     "output_type": "stream",
     "text": [
      "/opt/anaconda3/envs/braincharts/lib/python3.9/site-packages/pandas/core/generic.py:5516: SettingWithCopyWarning: \n",
      "A value is trying to be set on a copy of a slice from a DataFrame.\n",
      "Try using .loc[row_indexer,col_indexer] = value instead\n",
      "\n",
      "See the caveats in the documentation: https://pandas.pydata.org/pandas-docs/stable/user_guide/indexing.html#returning-a-view-versus-a-copy\n",
      "  self[name] = value\n"
     ]
    }
   ],
   "source": [
    "w_b_z_sig_diff.temp1 = w_b_z_sig_diff.temp1.apply(lambda x: 'left' if 'lh' in x else x)"
   ]
  },
  {
   "cell_type": "code",
   "execution_count": 629,
   "id": "0b3d3f80-5cb0-40c8-83c1-c6f0ba54452c",
   "metadata": {},
   "outputs": [],
   "source": [
    "w_b_z_sig_diff.temp1 = w_b_z_sig_diff.temp1.apply(lambda x: 'right' if 'rh' in x else x)"
   ]
  },
  {
   "cell_type": "code",
   "execution_count": 630,
   "id": "f57e61e4-495a-4ebf-a7b5-4e7fb2ecac8f",
   "metadata": {},
   "outputs": [],
   "source": [
    "df = w_b_z_sig_diff[w_b_z_sig_diff[\"temp1\"].str.contains('left|right')]"
   ]
  },
  {
   "cell_type": "code",
   "execution_count": 631,
   "id": "1b274650-9639-4164-90e5-3a2539ea01a6",
   "metadata": {},
   "outputs": [
    {
     "name": "stderr",
     "output_type": "stream",
     "text": [
      "/var/folders/xx/1xs7sc795_nf7k125153b6qh0000gn/T/ipykernel_2210/995407583.py:1: SettingWithCopyWarning: \n",
      "A value is trying to be set on a copy of a slice from a DataFrame.\n",
      "Try using .loc[row_indexer,col_indexer] = value instead\n",
      "\n",
      "See the caveats in the documentation: https://pandas.pydata.org/pandas-docs/stable/user_guide/indexing.html#returning-a-view-versus-a-copy\n",
      "  df['hemi'] = df['temp1']\n"
     ]
    }
   ],
   "source": [
    "df['hemi'] = df['temp1']"
   ]
  },
  {
   "cell_type": "code",
   "execution_count": 632,
   "id": "2e768b12-0da1-48fe-be72-0baf22a046ad",
   "metadata": {},
   "outputs": [
    {
     "name": "stderr",
     "output_type": "stream",
     "text": [
      "/var/folders/xx/1xs7sc795_nf7k125153b6qh0000gn/T/ipykernel_2210/3909763920.py:1: SettingWithCopyWarning: \n",
      "A value is trying to be set on a copy of a slice from a DataFrame.\n",
      "Try using .loc[row_indexer,col_indexer] = value instead\n",
      "\n",
      "See the caveats in the documentation: https://pandas.pydata.org/pandas-docs/stable/user_guide/indexing.html#returning-a-view-versus-a-copy\n",
      "  df['ROI'] = df['temp2']\n"
     ]
    }
   ],
   "source": [
    "df['ROI'] = df['temp2']"
   ]
  },
  {
   "cell_type": "code",
   "execution_count": 633,
   "id": "a6594c7b-18ad-4d58-92a0-e41c0644f735",
   "metadata": {},
   "outputs": [
    {
     "data": {
      "text/plain": [
       "Index(['roi', 'tstat', 'fdr_pval', 'pval', 'temp1', 'temp2', 'hemi', 'ROI'], dtype='object')"
      ]
     },
     "execution_count": 633,
     "metadata": {},
     "output_type": "execute_result"
    }
   ],
   "source": [
    "df.columns"
   ]
  },
  {
   "cell_type": "code",
   "execution_count": 634,
   "id": "36a3f025-3896-42f2-a163-1eac26ae79dd",
   "metadata": {},
   "outputs": [],
   "source": [
    "df = df[['tstat', 'fdr_pval', 'hemi', 'ROI']]"
   ]
  },
  {
   "cell_type": "code",
   "execution_count": 635,
   "id": "2a85f732-3a76-4a21-8ecb-762ac4bf5f58",
   "metadata": {},
   "outputs": [],
   "source": [
    "w_b_z_sig_diff = df"
   ]
  },
  {
   "cell_type": "code",
   "execution_count": 636,
   "id": "35821157-8ce5-4a13-855d-e77014b1b69b",
   "metadata": {
    "tags": []
   },
   "outputs": [],
   "source": [
    "w_b_z_sig_diff_l = w_b_z_sig_diff.query('hemi == \"left\"')\n",
    "w_b_z_sig_diff_r = w_b_z_sig_diff.query('hemi == \"right\"')"
   ]
  },
  {
   "cell_type": "code",
   "execution_count": 637,
   "id": "788e3f3e-b4d6-4a92-87d0-d832e3e623de",
   "metadata": {},
   "outputs": [],
   "source": [
    "nl_w_b_z_sig_diff_l = pd.merge(nl, w_b_z_sig_diff_l, on='ROI', how='left')\n",
    "nl_w_b_z_sig_diff_r = pd.merge(nl, w_b_z_sig_diff_r, on='ROI', how='left')"
   ]
  },
  {
   "cell_type": "code",
   "execution_count": 638,
   "id": "08e8d694-e8b8-4ed2-b211-7571ab88e1ef",
   "metadata": {
    "tags": []
   },
   "outputs": [],
   "source": [
    "nl_w_b_z_sig_diff_l['tstat'] = nl_w_b_z_sig_diff_l['tstat'].fillna(0)\n",
    "nl_w_b_z_sig_diff_r['tstat'] = nl_w_b_z_sig_diff_r['tstat'].fillna(0)"
   ]
  },
  {
   "cell_type": "code",
   "execution_count": 639,
   "id": "4d82f1d5-38a0-4904-b550-9627dededafb",
   "metadata": {
    "tags": []
   },
   "outputs": [],
   "source": [
    "nl_w_b_z_sig_diff_l = nl_w_b_z_sig_diff_l['tstat'].to_numpy()\n",
    "nl_w_b_z_sig_diff_r = nl_w_b_z_sig_diff_r['tstat'].to_numpy()"
   ]
  },
  {
   "cell_type": "code",
   "execution_count": 640,
   "id": "e47a7d3e-5fcd-47fb-a692-f7b8db66a9ca",
   "metadata": {},
   "outputs": [],
   "source": [
    "a_list = list(range(1, 76))\n",
    "parcellation_l = atlas_l\n",
    "for i, j in enumerate(a_list):\n",
    "    parcellation_l = np.where(parcellation_l == j, nl_w_b_z_sig_diff_l[i], parcellation_l)"
   ]
  },
  {
   "cell_type": "code",
   "execution_count": 641,
   "id": "310d1e28-fe44-4275-9414-925ef8746354",
   "metadata": {},
   "outputs": [],
   "source": [
    "a_list = list(range(1, 76))\n",
    "parcellation_r = atlas_r\n",
    "for i, j in enumerate(a_list):\n",
    "    parcellation_r = np.where(parcellation_r == j, nl_w_b_z_sig_diff_r[i], parcellation_r)"
   ]
  },
  {
   "cell_type": "code",
   "execution_count": 643,
   "id": "0fe69d0a-07d5-47e3-829c-05d6b68d05b5",
   "metadata": {},
   "outputs": [],
   "source": [
    "# Positive value == whites have higher error\n",
    "# Negative value == blacks have higher error\n",
    "plotting.plot_surf_roi(fsaverage['infl_left'], roi_map=parcellation_l, hemi='left', cmap='plasma', bg_map=fsaverage['sulc_left'], vmin=-20, vmax=20, view='lateral', output_file='/Users/saigerutherford/Desktop/ukb_pretrain_WvB_E_l.png');"
   ]
  },
  {
   "cell_type": "code",
   "execution_count": 645,
   "id": "63fac5b5-fdac-4b58-8ccc-b513ffec664d",
   "metadata": {},
   "outputs": [],
   "source": [
    "plotting.plot_surf_roi(fsaverage['infl_right'], roi_map=parcellation_r, hemi='right', cmap='plasma', bg_map=fsaverage['sulc_right'], vmin=-20, vmax=20, view='lateral', output_file='/Users/saigerutherford/Desktop/ukb_pretrain_WvB_E_r.png');"
   ]
  },
  {
   "cell_type": "code",
   "execution_count": 646,
   "id": "979f313a-a07f-40b6-b945-869c28a13eae",
   "metadata": {
    "id": "VdQgUo29nMUD"
   },
   "outputs": [],
   "source": [
    "w_a_pvals_z = pd.DataFrame(columns={'roi','pval', 'tstat','fdr_pval'})\n",
    "for index, column in enumerate(z_cols):\n",
    "    test = ttest_ind(w_deviations[column], a_deviations[column], equal_var=False)\n",
    "    w_a_pvals_z.loc[index, 'pval'] = test.pvalue\n",
    "    w_a_pvals_z.loc[index, 'tstat'] = test.statistic\n",
    "    w_a_pvals_z.loc[index, 'roi'] = column"
   ]
  },
  {
   "cell_type": "code",
   "execution_count": 647,
   "id": "28ec9d2c-b68c-4533-86d8-b8da89366e80",
   "metadata": {
    "id": "n8JfELPdnMUE"
   },
   "outputs": [],
   "source": [
    "w_a_fdr_z = multitest.fdrcorrection(w_a_pvals_z['pval'], alpha=0.05, method='indep', is_sorted=False)"
   ]
  },
  {
   "cell_type": "code",
   "execution_count": 648,
   "id": "78e0005a-6826-4d05-8fb9-2f001c86a913",
   "metadata": {
    "id": "K5panqSGnMUE"
   },
   "outputs": [],
   "source": [
    "w_a_pvals_z['fdr_pval'] = w_a_fdr_z[1]"
   ]
  },
  {
   "cell_type": "code",
   "execution_count": 649,
   "id": "47defaf1-4ffc-43c9-9b99-0dc8f1487fb8",
   "metadata": {
    "id": "cjZ8HZMYnMUE"
   },
   "outputs": [],
   "source": [
    "w_a_z_sig_diff = w_a_pvals_z.query('fdr_pval < 0.05')"
   ]
  },
  {
   "cell_type": "code",
   "execution_count": 650,
   "id": "c4f2334b-9730-4628-a62c-ba31d53415fb",
   "metadata": {
    "colab": {
     "base_uri": "https://localhost:8080/",
     "height": 423
    },
    "id": "F01JkqAwnMUE",
    "outputId": "a117d7cf-dd4f-423a-e23b-66fd060deadd",
    "tags": []
   },
   "outputs": [
    {
     "data": {
      "text/html": [
       "<div>\n",
       "<style scoped>\n",
       "    .dataframe tbody tr th:only-of-type {\n",
       "        vertical-align: middle;\n",
       "    }\n",
       "\n",
       "    .dataframe tbody tr th {\n",
       "        vertical-align: top;\n",
       "    }\n",
       "\n",
       "    .dataframe thead th {\n",
       "        text-align: right;\n",
       "    }\n",
       "</style>\n",
       "<table border=\"1\" class=\"dataframe\">\n",
       "  <thead>\n",
       "    <tr style=\"text-align: right;\">\n",
       "      <th></th>\n",
       "      <th>roi</th>\n",
       "      <th>tstat</th>\n",
       "      <th>fdr_pval</th>\n",
       "      <th>pval</th>\n",
       "    </tr>\n",
       "  </thead>\n",
       "  <tbody>\n",
       "    <tr>\n",
       "      <th>0</th>\n",
       "      <td>rh_S_circular_insula_sup_thickness_error</td>\n",
       "      <td>5.377811</td>\n",
       "      <td>0.000004</td>\n",
       "      <td>0.0</td>\n",
       "    </tr>\n",
       "    <tr>\n",
       "      <th>1</th>\n",
       "      <td>lh_G_temp_sup-Plan_tempo_thickness_error</td>\n",
       "      <td>3.254421</td>\n",
       "      <td>0.003294</td>\n",
       "      <td>0.00148</td>\n",
       "    </tr>\n",
       "    <tr>\n",
       "      <th>3</th>\n",
       "      <td>lh_G_occipital_middle_thickness_error</td>\n",
       "      <td>3.04294</td>\n",
       "      <td>0.005392</td>\n",
       "      <td>0.002884</td>\n",
       "    </tr>\n",
       "    <tr>\n",
       "      <th>5</th>\n",
       "      <td>lh_S_intrapariet&amp;P_trans_thickness_error</td>\n",
       "      <td>2.973375</td>\n",
       "      <td>0.006348</td>\n",
       "      <td>0.003564</td>\n",
       "    </tr>\n",
       "    <tr>\n",
       "      <th>6</th>\n",
       "      <td>lh_G_cingul-Post-ventral_thickness_error</td>\n",
       "      <td>4.368688</td>\n",
       "      <td>0.000152</td>\n",
       "      <td>0.000027</td>\n",
       "    </tr>\n",
       "    <tr>\n",
       "      <th>...</th>\n",
       "      <td>...</td>\n",
       "      <td>...</td>\n",
       "      <td>...</td>\n",
       "      <td>...</td>\n",
       "    </tr>\n",
       "    <tr>\n",
       "      <th>180</th>\n",
       "      <td>lh_G_orbital_thickness_error</td>\n",
       "      <td>4.001768</td>\n",
       "      <td>0.000456</td>\n",
       "      <td>0.00011</td>\n",
       "    </tr>\n",
       "    <tr>\n",
       "      <th>181</th>\n",
       "      <td>rh_G_temporal_middle_thickness_error</td>\n",
       "      <td>2.433308</td>\n",
       "      <td>0.02521</td>\n",
       "      <td>0.016447</td>\n",
       "    </tr>\n",
       "    <tr>\n",
       "      <th>183</th>\n",
       "      <td>rh_S_oc-temp_lat_thickness_error</td>\n",
       "      <td>2.399498</td>\n",
       "      <td>0.027104</td>\n",
       "      <td>0.017972</td>\n",
       "    </tr>\n",
       "    <tr>\n",
       "      <th>184</th>\n",
       "      <td>rh_S_precentral-inf-part_thickness_error</td>\n",
       "      <td>3.850494</td>\n",
       "      <td>0.000662</td>\n",
       "      <td>0.000191</td>\n",
       "    </tr>\n",
       "    <tr>\n",
       "      <th>185</th>\n",
       "      <td>lh_S_oc_middle&amp;Lunatus_thickness_error</td>\n",
       "      <td>2.667845</td>\n",
       "      <td>0.01402</td>\n",
       "      <td>0.008697</td>\n",
       "    </tr>\n",
       "  </tbody>\n",
       "</table>\n",
       "<p>132 rows × 4 columns</p>\n",
       "</div>"
      ],
      "text/plain": [
       "                                          roi     tstat  fdr_pval      pval\n",
       "0    rh_S_circular_insula_sup_thickness_error  5.377811  0.000004       0.0\n",
       "1    lh_G_temp_sup-Plan_tempo_thickness_error  3.254421  0.003294   0.00148\n",
       "3       lh_G_occipital_middle_thickness_error   3.04294  0.005392  0.002884\n",
       "5    lh_S_intrapariet&P_trans_thickness_error  2.973375  0.006348  0.003564\n",
       "6    lh_G_cingul-Post-ventral_thickness_error  4.368688  0.000152  0.000027\n",
       "..                                        ...       ...       ...       ...\n",
       "180              lh_G_orbital_thickness_error  4.001768  0.000456   0.00011\n",
       "181      rh_G_temporal_middle_thickness_error  2.433308   0.02521  0.016447\n",
       "183          rh_S_oc-temp_lat_thickness_error  2.399498  0.027104  0.017972\n",
       "184  rh_S_precentral-inf-part_thickness_error  3.850494  0.000662  0.000191\n",
       "185    lh_S_oc_middle&Lunatus_thickness_error  2.667845   0.01402  0.008697\n",
       "\n",
       "[132 rows x 4 columns]"
      ]
     },
     "execution_count": 650,
     "metadata": {},
     "output_type": "execute_result"
    }
   ],
   "source": [
    "w_a_z_sig_diff"
   ]
  },
  {
   "cell_type": "code",
   "execution_count": 651,
   "id": "f883a4b3-1eca-4767-913c-1f02c8ec6987",
   "metadata": {
    "colab": {
     "base_uri": "https://localhost:8080/"
    },
    "id": "170sEtkynMUE",
    "outputId": "7b601d8d-c73e-44ba-a523-4eddb6dea46b"
   },
   "outputs": [
    {
     "data": {
      "text/plain": [
       "(132, 4)"
      ]
     },
     "execution_count": 651,
     "metadata": {},
     "output_type": "execute_result"
    }
   ],
   "source": [
    "w_a_z_sig_diff.shape"
   ]
  },
  {
   "cell_type": "code",
   "execution_count": 652,
   "id": "cebf719c-2d12-41c7-a2e8-f46be5e781dd",
   "metadata": {
    "tags": []
   },
   "outputs": [
    {
     "name": "stderr",
     "output_type": "stream",
     "text": [
      "/var/folders/xx/1xs7sc795_nf7k125153b6qh0000gn/T/ipykernel_2210/1699425025.py:1: SettingWithCopyWarning: \n",
      "A value is trying to be set on a copy of a slice from a DataFrame.\n",
      "Try using .loc[row_indexer,col_indexer] = value instead\n",
      "\n",
      "See the caveats in the documentation: https://pandas.pydata.org/pandas-docs/stable/user_guide/indexing.html#returning-a-view-versus-a-copy\n",
      "  w_a_z_sig_diff['roi'] = w_a_z_sig_diff['roi'].str.replace('_thickness_error', '', regex=True)\n",
      "/var/folders/xx/1xs7sc795_nf7k125153b6qh0000gn/T/ipykernel_2210/1699425025.py:2: SettingWithCopyWarning: \n",
      "A value is trying to be set on a copy of a slice from a DataFrame.\n",
      "Try using .loc[row_indexer,col_indexer] = value instead\n",
      "\n",
      "See the caveats in the documentation: https://pandas.pydata.org/pandas-docs/stable/user_guide/indexing.html#returning-a-view-versus-a-copy\n",
      "  w_a_z_sig_diff['roi'] = w_a_z_sig_diff['roi'].str.replace('G&S', 'G_and_S', regex=True)\n"
     ]
    }
   ],
   "source": [
    "w_a_z_sig_diff['roi'] = w_a_z_sig_diff['roi'].str.replace('_thickness_error', '', regex=True)\n",
    "w_a_z_sig_diff['roi'] = w_a_z_sig_diff['roi'].str.replace('G&S', 'G_and_S', regex=True)"
   ]
  },
  {
   "cell_type": "code",
   "execution_count": 653,
   "id": "072b609b-83c8-4dbc-8f15-ccb866676dc2",
   "metadata": {
    "tags": []
   },
   "outputs": [
    {
     "name": "stderr",
     "output_type": "stream",
     "text": [
      "/opt/anaconda3/envs/braincharts/lib/python3.9/site-packages/pandas/core/frame.py:3641: SettingWithCopyWarning: \n",
      "A value is trying to be set on a copy of a slice from a DataFrame.\n",
      "Try using .loc[row_indexer,col_indexer] = value instead\n",
      "\n",
      "See the caveats in the documentation: https://pandas.pydata.org/pandas-docs/stable/user_guide/indexing.html#returning-a-view-versus-a-copy\n",
      "  self[k1] = value[k2]\n"
     ]
    }
   ],
   "source": [
    "w_a_z_sig_diff[['temp1', 'temp2']] = w_a_z_sig_diff['roi'].str.split(pat=\"_\", n=1, expand=True)"
   ]
  },
  {
   "cell_type": "code",
   "execution_count": 654,
   "id": "1bfcc77e-04ff-45c5-bbd5-c1916b38747d",
   "metadata": {
    "tags": []
   },
   "outputs": [
    {
     "name": "stderr",
     "output_type": "stream",
     "text": [
      "/opt/anaconda3/envs/braincharts/lib/python3.9/site-packages/pandas/core/generic.py:5516: SettingWithCopyWarning: \n",
      "A value is trying to be set on a copy of a slice from a DataFrame.\n",
      "Try using .loc[row_indexer,col_indexer] = value instead\n",
      "\n",
      "See the caveats in the documentation: https://pandas.pydata.org/pandas-docs/stable/user_guide/indexing.html#returning-a-view-versus-a-copy\n",
      "  self[name] = value\n"
     ]
    }
   ],
   "source": [
    "w_a_z_sig_diff.temp1 = w_a_z_sig_diff.temp1.apply(lambda x: 'left' if 'lh' in x else x)"
   ]
  },
  {
   "cell_type": "code",
   "execution_count": 655,
   "id": "9262e02d-ae09-4dce-b693-bad085a1b818",
   "metadata": {},
   "outputs": [],
   "source": [
    "w_a_z_sig_diff.temp1 = w_a_z_sig_diff.temp1.apply(lambda x: 'right' if 'rh' in x else x)"
   ]
  },
  {
   "cell_type": "code",
   "execution_count": 656,
   "id": "2981657b-b00f-4ed8-9967-cb97053bca4d",
   "metadata": {},
   "outputs": [],
   "source": [
    "df = w_a_z_sig_diff[w_a_z_sig_diff[\"temp1\"].str.contains('left|right')]"
   ]
  },
  {
   "cell_type": "code",
   "execution_count": 657,
   "id": "918c34cc-b776-489b-a88f-1050fa994631",
   "metadata": {},
   "outputs": [
    {
     "name": "stderr",
     "output_type": "stream",
     "text": [
      "/var/folders/xx/1xs7sc795_nf7k125153b6qh0000gn/T/ipykernel_2210/995407583.py:1: SettingWithCopyWarning: \n",
      "A value is trying to be set on a copy of a slice from a DataFrame.\n",
      "Try using .loc[row_indexer,col_indexer] = value instead\n",
      "\n",
      "See the caveats in the documentation: https://pandas.pydata.org/pandas-docs/stable/user_guide/indexing.html#returning-a-view-versus-a-copy\n",
      "  df['hemi'] = df['temp1']\n"
     ]
    }
   ],
   "source": [
    "df['hemi'] = df['temp1']"
   ]
  },
  {
   "cell_type": "code",
   "execution_count": 658,
   "id": "4c91249c-63e1-4c7b-8f49-8b378841badb",
   "metadata": {},
   "outputs": [
    {
     "name": "stderr",
     "output_type": "stream",
     "text": [
      "/var/folders/xx/1xs7sc795_nf7k125153b6qh0000gn/T/ipykernel_2210/3909763920.py:1: SettingWithCopyWarning: \n",
      "A value is trying to be set on a copy of a slice from a DataFrame.\n",
      "Try using .loc[row_indexer,col_indexer] = value instead\n",
      "\n",
      "See the caveats in the documentation: https://pandas.pydata.org/pandas-docs/stable/user_guide/indexing.html#returning-a-view-versus-a-copy\n",
      "  df['ROI'] = df['temp2']\n"
     ]
    }
   ],
   "source": [
    "df['ROI'] = df['temp2']"
   ]
  },
  {
   "cell_type": "code",
   "execution_count": 659,
   "id": "c5e8305e-b8dd-4684-8c8a-127c5ba8838b",
   "metadata": {},
   "outputs": [
    {
     "data": {
      "text/plain": [
       "Index(['roi', 'tstat', 'fdr_pval', 'pval', 'temp1', 'temp2', 'hemi', 'ROI'], dtype='object')"
      ]
     },
     "execution_count": 659,
     "metadata": {},
     "output_type": "execute_result"
    }
   ],
   "source": [
    "df.columns"
   ]
  },
  {
   "cell_type": "code",
   "execution_count": 660,
   "id": "53f7abd5-db82-4f08-aa88-314a30c06706",
   "metadata": {},
   "outputs": [],
   "source": [
    "df = df[['tstat', 'fdr_pval', 'hemi', 'ROI']]"
   ]
  },
  {
   "cell_type": "code",
   "execution_count": 661,
   "id": "9cf1f0ac-123d-44d2-9103-6e048881c24a",
   "metadata": {},
   "outputs": [],
   "source": [
    "w_a_z_sig_diff = df"
   ]
  },
  {
   "cell_type": "code",
   "execution_count": 662,
   "id": "59b870ea-6176-484b-9b5b-caad1dc687b1",
   "metadata": {
    "tags": []
   },
   "outputs": [],
   "source": [
    "w_a_z_sig_diff_l = w_a_z_sig_diff.query('hemi == \"left\"')\n",
    "w_a_z_sig_diff_r = w_a_z_sig_diff.query('hemi == \"right\"')"
   ]
  },
  {
   "cell_type": "code",
   "execution_count": 663,
   "id": "77890a26-0408-45da-9008-917537c1aa58",
   "metadata": {},
   "outputs": [],
   "source": [
    "nl_w_a_z_sig_diff_l = pd.merge(nl, w_a_z_sig_diff_l, on='ROI', how='left')\n",
    "nl_w_a_z_sig_diff_r = pd.merge(nl, w_a_z_sig_diff_r, on='ROI', how='left')"
   ]
  },
  {
   "cell_type": "code",
   "execution_count": 664,
   "id": "8b08c9c7-ff9b-4dec-bca3-aa3c608e1ebb",
   "metadata": {
    "tags": []
   },
   "outputs": [],
   "source": [
    "nl_w_a_z_sig_diff_l['tstat'] = nl_w_a_z_sig_diff_l['tstat'].fillna(0)\n",
    "nl_w_a_z_sig_diff_r['tstat'] = nl_w_a_z_sig_diff_r['tstat'].fillna(0)"
   ]
  },
  {
   "cell_type": "code",
   "execution_count": 665,
   "id": "5b804539-d9bb-4841-9a9b-1000e42f0ca6",
   "metadata": {
    "tags": []
   },
   "outputs": [],
   "source": [
    "nl_w_a_z_sig_diff_l = nl_w_a_z_sig_diff_l['tstat'].to_numpy()\n",
    "nl_w_a_z_sig_diff_r = nl_w_a_z_sig_diff_r['tstat'].to_numpy()"
   ]
  },
  {
   "cell_type": "code",
   "execution_count": 666,
   "id": "168e1eac-0e51-48cc-9806-9091808572a0",
   "metadata": {},
   "outputs": [],
   "source": [
    "a_list = list(range(1, 76))\n",
    "parcellation_l = atlas_l\n",
    "for i, j in enumerate(a_list):\n",
    "    parcellation_l = np.where(parcellation_l == j, nl_w_a_z_sig_diff_l[i], parcellation_l)"
   ]
  },
  {
   "cell_type": "code",
   "execution_count": 667,
   "id": "3883cb47-6409-46df-86de-30c30f5f8206",
   "metadata": {},
   "outputs": [],
   "source": [
    "a_list = list(range(1, 76))\n",
    "parcellation_r = atlas_r\n",
    "for i, j in enumerate(a_list):\n",
    "    parcellation_r = np.where(parcellation_r == j, nl_w_a_z_sig_diff_r[i], parcellation_r)"
   ]
  },
  {
   "cell_type": "code",
   "execution_count": 669,
   "id": "fa724c1a-2951-44af-8e9e-5901876b8169",
   "metadata": {},
   "outputs": [],
   "source": [
    "# Positive value == whites have higher error\n",
    "# Negative value == blacks have higher error\n",
    "plotting.plot_surf_roi(fsaverage['infl_left'], roi_map=parcellation_l, hemi='left', cmap='plasma', bg_map=fsaverage['sulc_left'], vmin=-20, vmax=20, view='lateral', output_file='/Users/saigerutherford/Desktop/ukb_pretrain_WvA_E_l.png');"
   ]
  },
  {
   "cell_type": "code",
   "execution_count": 671,
   "id": "34dd507c-c376-4d09-bd2c-a906ef0ed63b",
   "metadata": {},
   "outputs": [],
   "source": [
    "plotting.plot_surf_roi(fsaverage['infl_right'], roi_map=parcellation_r, hemi='right', cmap='plasma', bg_map=fsaverage['sulc_right'], vmin=-20, vmax=20, view='lateral', output_file='/Users/saigerutherford/Desktop/ukb_pretrain_WvA_E_r.png');"
   ]
  },
  {
   "cell_type": "markdown",
   "id": "ba90023a-6a5c-4475-810e-3eb5cccc9d7b",
   "metadata": {},
   "source": [
    "### T-Tests on group mean and variance (across all ROIs)"
   ]
  },
  {
   "cell_type": "markdown",
   "id": "972f5d07-85e5-43f0-951e-89d39892bf56",
   "metadata": {},
   "source": [
    "### HCP race not modeled"
   ]
  },
  {
   "cell_type": "code",
   "execution_count": 672,
   "id": "f824b7f6-b503-4623-96d9-714f3919b294",
   "metadata": {},
   "outputs": [],
   "source": [
    "E_df = pd.read_csv('/Users/saigerutherford/Documents/Work/drive-download-20220731T221458Z-001/braincharts/models/hcp_race_not_modeled/errors.csv')"
   ]
  },
  {
   "cell_type": "code",
   "execution_count": 673,
   "id": "896b3e3f-f0c1-4ebe-bfe1-7d4f3d1a2789",
   "metadata": {},
   "outputs": [],
   "source": [
    "Z_df = pd.read_csv('/Users/saigerutherford/Documents/Work/drive-download-20220731T221458Z-001/braincharts/models/hcp_race_not_modeled/deviation_scores.csv')"
   ]
  },
  {
   "cell_type": "code",
   "execution_count": 674,
   "id": "10c1e71c-2f55-4d53-8032-bceed3a981c0",
   "metadata": {},
   "outputs": [],
   "source": [
    "Z_df = Z_df.filter(items=['Race', 'sub_id'])"
   ]
  },
  {
   "cell_type": "code",
   "execution_count": 675,
   "id": "f106cef3-19ce-47ec-b29a-605bde5c501f",
   "metadata": {},
   "outputs": [],
   "source": [
    "Z_df = pd.merge(E_df, Z_df, how='inner')"
   ]
  },
  {
   "cell_type": "code",
   "execution_count": 676,
   "id": "24c7b32a-da34-49d4-9bc8-6135d0a69eaa",
   "metadata": {
    "executionInfo": {
     "elapsed": 257,
     "status": "ok",
     "timestamp": 1687449325721,
     "user": {
      "displayName": "Saige Rutherford",
      "userId": "09510631870783055479"
     },
     "user_tz": -120
    },
    "id": "5649160f-708d-46ed-9760-29f9c3fb8b18",
    "jupyter": {
     "source_hidden": true
    },
    "tags": []
   },
   "outputs": [],
   "source": [
    "z_long = Z_df.melt(id_vars=['sub_id','Race'],\n",
    "                  value_vars=['rh_S_circular_insula_sup_thickness_error',\n",
    " 'lh_G_temp_sup-Plan_tempo_thickness_error',\n",
    " 'rh_G_oc-temp_med-Parahip_thickness_error',\n",
    " 'lh_G_occipital_middle_thickness_error',\n",
    " 'rh_G_oc-temp_med-Lingual_thickness_error',\n",
    " 'lh_S_intrapariet&P_trans_thickness_error',\n",
    " 'lh_G_cingul-Post-ventral_thickness_error',\n",
    " 'lh_G&S_cingul-Mid-Post_thickness_error',\n",
    " 'lh_Pole_temporal_thickness_error',\n",
    " 'rh_G&S_frontomargin_thickness_error',\n",
    " 'lh_Lat_Fis-post_thickness_error',\n",
    " 'rh_G_front_middle_thickness_error',\n",
    " 'rh_S_postcentral_thickness_error',\n",
    " 'rh_G_precentral_thickness_error',\n",
    " 'lh_G&S_frontomargin_thickness_error',\n",
    " 'rh_S_temporal_inf_thickness_error',\n",
    " 'rh_S_cingul-Marginalis_thickness_error',\n",
    " 'rh_S_central_thickness_error',\n",
    " 'lh_G_cuneus_thickness_error',\n",
    " 'lh_G_insular_short_thickness_error',\n",
    " 'rh_Lat_Fis-ant-Vertical_thickness_error',\n",
    " 'rh_G_cingul-Post-dorsal_thickness_error',\n",
    " 'lh_S_precentral-sup-part_thickness_error',\n",
    " 'lh_S_cingul-Marginalis_thickness_error',\n",
    " 'rh_G_front_inf-Triangul_thickness_error',\n",
    " 'rh_G_front_inf-Opercular_thickness_error',\n",
    " 'lh_S_temporal_inf_thickness_error',\n",
    " 'rh_G&S_occipital_inf_thickness_error',\n",
    " 'lh_S_orbital_lateral_thickness_error',\n",
    " 'rh_G_pariet_inf-Supramar_thickness_error',\n",
    " 'rh_G&S_paracentral_thickness_error',\n",
    " 'lh_S_collat_transv_post_thickness_error',\n",
    " 'lh_G_occipital_sup_thickness_error',\n",
    " 'lh_S_calcarine_thickness_error',\n",
    " 'lh_G_oc-temp_lat-fusifor_thickness_error',\n",
    " 'rh_G&S_cingul-Mid-Post_thickness_error',\n",
    " 'lh_S_oc-temp_lat_thickness_error',\n",
    " 'lh_S_subparietal_thickness_error',\n",
    " 'rh_G_occipital_middle_thickness_error',\n",
    " 'rh_S_interm_prim-Jensen_thickness_error',\n",
    " 'lh_G_front_middle_thickness_error',\n",
    " 'lh_G_precuneus_thickness_error',\n",
    " 'lh_S_oc-temp_med&Lingual_thickness_error',\n",
    " 'lh_G_pariet_inf-Angular_thickness_error',\n",
    " 'lh_G_precentral_thickness_error',\n",
    " 'rh_S_intrapariet&P_trans_thickness_error',\n",
    " 'rh_G_cingul-Post-ventral_thickness_error',\n",
    " 'lh_S_orbital_med-olfact_thickness_error',\n",
    " 'lh_G_postcentral_thickness_error',\n",
    " 'rh_Lat_Fis-post_thickness_error',\n",
    " 'lh_G_oc-temp_med-Lingual_thickness_error',\n",
    " 'rh_G_temp_sup-Plan_tempo_thickness_error',\n",
    " 'lh_S_circular_insula_sup_thickness_error',\n",
    " 'lh_G_oc-temp_med-Parahip_thickness_error',\n",
    " 'lh_G&S_transv_frontopol_thickness_error',\n",
    " 'rh_S_front_sup_thickness_error',\n",
    " 'lh_G_temporal_inf_thickness_error',\n",
    " 'lh_G_temp_sup-Lateral_thickness_error',\n",
    " 'lh_G&S_cingul-Mid-Ant_thickness_error',\n",
    " 'rh_G_parietal_sup_thickness_error',\n",
    " 'lh_S_orbital-H_Shaped_thickness_error',\n",
    " 'lh_S_front_middle_thickness_error',\n",
    " 'rh_G_front_sup_thickness_error',\n",
    " 'lh_G&S_subcentral_thickness_error',\n",
    " 'rh_G_orbital_thickness_error',\n",
    " 'rh_G_subcallosal_thickness_error',\n",
    " 'lh_S_front_inf_thickness_error',\n",
    " 'lh_G_front_inf-Opercular_thickness_error',\n",
    " 'rh_S_front_middle_thickness_error',\n",
    " 'lh_G_parietal_sup_thickness_error',\n",
    " 'rh_S_precentral-sup-part_thickness_error',\n",
    " 'lh_S_oc_sup&transversal_thickness_error',\n",
    " 'rh_G&S_subcentral_thickness_error',\n",
    " 'rh_S_orbital-H_Shaped_thickness_error',\n",
    " 'rh_G&S_cingul-Mid-Ant_thickness_error',\n",
    " 'rh_G_temp_sup-Lateral_thickness_error',\n",
    " 'lh_G_pariet_inf-Supramar_thickness_error',\n",
    " 'rh_G_rectus_thickness_error',\n",
    " 'rh_G_oc-temp_lat-fusifor_thickness_error',\n",
    " 'rh_S_oc-temp_med&Lingual_thickness_error',\n",
    " 'rh_G_temporal_inf_thickness_error',\n",
    " 'lh_S_occipital_ant_thickness_error',\n",
    " 'lh_G&S_occipital_inf_thickness_error',\n",
    " 'rh_Lat_Fis-ant-Horizont_thickness_error',\n",
    " 'rh_S_orbital_lateral_thickness_error',\n",
    " 'lh_Lat_Fis-ant-Vertical_thickness_error',\n",
    " 'lh_G_cingul-Post-dorsal_thickness_error',\n",
    " 'lh_S_central_thickness_error',\n",
    " 'lh_G_front_inf-Orbital_thickness_error',\n",
    " 'rh_G_insular_short_thickness_error',\n",
    " 'lh_S_temporal_sup_thickness_error',\n",
    " 'rh_G_postcentral_thickness_error',\n",
    " 'rh_G_cuneus_thickness_error',\n",
    " 'lh_G_Ins_lg&S_cent_ins_thickness_error',\n",
    " 'lh_G&S_cingul-Ant_thickness_error',\n",
    " 'lh_S_interm_prim-Jensen_thickness_error',\n",
    " 'lh_G&S_paracentral_thickness_error',\n",
    " 'rh_G_temp_sup-Plan_polar_thickness_error',\n",
    " 'lh_G_temp_sup-G_T_transv_thickness_error',\n",
    " 'rh_G_occipital_sup_thickness_error',\n",
    " 'rh_S_suborbital_thickness_error',\n",
    " 'rh_G&S_cingul-Ant_thickness_error',\n",
    " 'rh_S_circular_insula_ant_thickness_error',\n",
    " 'lh_G_subcallosal_thickness_error',\n",
    " 'lh_G_temporal_middle_thickness_error',\n",
    " 'rh_S_collat_transv_post_thickness_error',\n",
    " 'rh_S_circular_insula_inf_thickness_error',\n",
    " 'rh_S_calcarine_thickness_error',\n",
    " 'lh_S_temporal_transverse_thickness_error',\n",
    " 'rh_G_front_inf-Orbital_thickness_error',\n",
    " 'lh_G_front_inf-Triangul_thickness_error',\n",
    " 'rh_G_precuneus_thickness_error',\n",
    " 'lh_S_precentral-inf-part_thickness_error',\n",
    " 'rh_S_temporal_sup_thickness_error',\n",
    " 'rh_G_Ins_lg&S_cent_ins_thickness_error',\n",
    " 'lh_S_postcentral_thickness_error',\n",
    " 'lh_S_pericallosal_thickness_error',\n",
    " 'rh_S_oc_middle&Lunatus_thickness_error',\n",
    " 'rh_S_collat_transv_ant_thickness_error',\n",
    " 'rh_Pole_temporal_thickness_error',\n",
    " 'lh_S_front_sup_thickness_error',\n",
    " 'lh_Pole_occipital_thickness_error',\n",
    " 'rh_G&S_transv_frontopol_thickness_error',\n",
    " 'rh_G_pariet_inf-Angular_thickness_error',\n",
    " 'lh_G_front_sup_thickness_error',\n",
    " 'lh_S_parieto_occipital_thickness_error',\n",
    " 'rh_S_orbital_med-olfact_thickness_error',\n",
    " 'lh_Lat_Fis-ant-Horizont_thickness_error',\n",
    " 'rh_Pole_occipital_thickness_error',\n",
    " 'rh_S_front_inf_thickness_error',\n",
    " 'rh_G_temp_sup-G_T_transv_thickness_error',\n",
    " 'lh_G_temp_sup-Plan_polar_thickness_error',\n",
    " 'lh_G_rectus_thickness_error',\n",
    " 'lh_S_circular_insula_inf_thickness_error',\n",
    " 'rh_S_parieto_occipital_thickness_error',\n",
    " 'rh_S_occipital_ant_thickness_error',\n",
    " 'lh_S_circular_insula_ant_thickness_error',\n",
    " 'lh_S_suborbital_thickness_error',\n",
    " 'rh_S_oc_sup&transversal_thickness_error',\n",
    " 'rh_S_temporal_transverse_thickness_error',\n",
    " 'rh_S_subparietal_thickness_error',\n",
    " 'lh_G_orbital_thickness_error',\n",
    " 'rh_G_temporal_middle_thickness_error',\n",
    " 'lh_S_collat_transv_ant_thickness_error',\n",
    " 'rh_S_oc-temp_lat_thickness_error',\n",
    " 'rh_S_precentral-inf-part_thickness_error',\n",
    " 'lh_S_oc_middle&Lunatus_thickness_error',\n",
    " 'rh_S_pericallosal_thickness_error'])"
   ]
  },
  {
   "cell_type": "code",
   "execution_count": 677,
   "id": "1f562628-58ca-4c15-8d37-f80a8ae74361",
   "metadata": {
    "tags": []
   },
   "outputs": [],
   "source": [
    "z_long_white = z_long.query('Race == \"White\"')\n",
    "z_long_black = z_long.query('Race == \"Black\"')\n",
    "z_long_asian = z_long.query('Race == \"Asian\"')"
   ]
  },
  {
   "cell_type": "code",
   "execution_count": 678,
   "id": "063e2427-9b15-4af0-89af-27a0873982fd",
   "metadata": {},
   "outputs": [],
   "source": [
    "z_white = Z_df.query('Race == \"White\"')\n",
    "z_black = Z_df.query('Race == \"Black\"')\n",
    "z_asian = Z_df.query('Race == \"Asian\"')"
   ]
  },
  {
   "cell_type": "code",
   "execution_count": 679,
   "id": "b88c890d-76ba-41c7-b9a7-9d6b39a98983",
   "metadata": {},
   "outputs": [],
   "source": [
    "z_long_white2 = z_long_white.groupby(by='sub_id',as_index=False).mean()"
   ]
  },
  {
   "cell_type": "code",
   "execution_count": 680,
   "id": "a8b3382a-5bb8-4d25-b3ea-4f17170d9f23",
   "metadata": {},
   "outputs": [],
   "source": [
    "z_long_black2 = z_long_black.groupby(by='sub_id',as_index=False).mean()"
   ]
  },
  {
   "cell_type": "code",
   "execution_count": 681,
   "id": "ccf0c509-6f59-4e71-9635-970dbbeb6282",
   "metadata": {},
   "outputs": [],
   "source": [
    "z_long_asian2 = z_long_asian.groupby(by='sub_id',as_index=False).mean()"
   ]
  },
  {
   "cell_type": "code",
   "execution_count": 682,
   "id": "603a7387-62c7-4d53-9bb7-e36c5b37f361",
   "metadata": {},
   "outputs": [
    {
     "data": {
      "text/plain": [
       "Ttest_indResult(statistic=0.3082152977216394, pvalue=0.7581382910489449)"
      ]
     },
     "execution_count": 682,
     "metadata": {},
     "output_type": "execute_result"
    }
   ],
   "source": [
    "ttest_ind(z_long_white2['value'], z_long_black2['value'], equal_var=False)"
   ]
  },
  {
   "cell_type": "code",
   "execution_count": 683,
   "id": "d50b264e-5094-4de9-bc59-8085bbe4d84e",
   "metadata": {},
   "outputs": [
    {
     "data": {
      "text/plain": [
       "Ttest_indResult(statistic=4.130870579010442, pvalue=9.407171700564615e-05)"
      ]
     },
     "execution_count": 683,
     "metadata": {},
     "output_type": "execute_result"
    }
   ],
   "source": [
    "ttest_ind(z_long_white2['value'], z_long_asian2['value'], equal_var=False)"
   ]
  },
  {
   "cell_type": "code",
   "execution_count": 684,
   "id": "8c327666-b92f-4175-8693-75c0fbb6eb24",
   "metadata": {},
   "outputs": [
    {
     "data": {
      "text/plain": [
       "Ttest_indResult(statistic=3.9071924076638997, pvalue=0.00020063008824873773)"
      ]
     },
     "execution_count": 684,
     "metadata": {},
     "output_type": "execute_result"
    }
   ],
   "source": [
    "ttest_ind(z_long_black2['value'], z_long_asian2['value'], equal_var=False)"
   ]
  },
  {
   "cell_type": "markdown",
   "id": "1fe22748-ac73-4856-a44d-0c17d71d2194",
   "metadata": {
    "id": "AiimUDe6nMUD"
   },
   "source": [
    "### T-Tests on individual ROIs (FDR corrected)"
   ]
  },
  {
   "cell_type": "markdown",
   "id": "2b6c7113-b873-4513-86c5-2cfe19550e6d",
   "metadata": {},
   "source": [
    "### HCP race not modeled"
   ]
  },
  {
   "cell_type": "code",
   "execution_count": 685,
   "id": "04c0cbe7-3d44-4849-ad11-156f7558d074",
   "metadata": {
    "id": "ssVXAgqGnMUD"
   },
   "outputs": [],
   "source": [
    "w_deviations = z_white.loc[:, z_white.columns.str.contains('error')]"
   ]
  },
  {
   "cell_type": "code",
   "execution_count": 686,
   "id": "88b48f26-e674-4812-a237-52e65678892d",
   "metadata": {
    "id": "lqtHyKrrnMUD"
   },
   "outputs": [],
   "source": [
    "b_deviations = z_black.loc[:, z_black.columns.str.contains('error')]"
   ]
  },
  {
   "cell_type": "code",
   "execution_count": 687,
   "id": "1a7089de-3b05-4d08-9c89-5ea3f49c95e0",
   "metadata": {
    "id": "lqtHyKrrnMUD"
   },
   "outputs": [],
   "source": [
    "a_deviations = z_asian.loc[:, z_asian.columns.str.contains('error')]"
   ]
  },
  {
   "cell_type": "code",
   "execution_count": 688,
   "id": "d94866bd-6b9c-416c-8ded-28696cedf979",
   "metadata": {
    "id": "BCJpEI8NnMUD"
   },
   "outputs": [],
   "source": [
    "z_cols = w_deviations.columns"
   ]
  },
  {
   "cell_type": "code",
   "execution_count": 689,
   "id": "36d44f67-2625-4f99-af95-b5bae485f2f3",
   "metadata": {},
   "outputs": [
    {
     "data": {
      "text/plain": [
       "148"
      ]
     },
     "execution_count": 689,
     "metadata": {},
     "output_type": "execute_result"
    }
   ],
   "source": [
    "len(z_cols)"
   ]
  },
  {
   "cell_type": "code",
   "execution_count": 690,
   "id": "a45e0971-4656-44b3-b644-e33a5bd41009",
   "metadata": {
    "id": "VdQgUo29nMUD"
   },
   "outputs": [],
   "source": [
    "w_b_pvals_z = pd.DataFrame(columns={'roi','pval', 'tstat','fdr_pval'})\n",
    "for index, column in enumerate(z_cols):\n",
    "    test = ttest_ind(w_deviations[column], b_deviations[column], equal_var=False)\n",
    "    w_b_pvals_z.loc[index, 'pval'] = test.pvalue\n",
    "    w_b_pvals_z.loc[index, 'tstat'] = test.statistic\n",
    "    w_b_pvals_z.loc[index, 'roi'] = column"
   ]
  },
  {
   "cell_type": "code",
   "execution_count": 691,
   "id": "e2d0b00d-a8a3-4eab-bda0-040d298a42d9",
   "metadata": {
    "id": "n8JfELPdnMUE"
   },
   "outputs": [],
   "source": [
    "w_b_fdr_z = multitest.fdrcorrection(w_b_pvals_z['pval'], alpha=0.05, method='indep', is_sorted=False)"
   ]
  },
  {
   "cell_type": "code",
   "execution_count": 692,
   "id": "ab8c723a-887b-4c70-bfc7-1081a610b726",
   "metadata": {
    "id": "K5panqSGnMUE"
   },
   "outputs": [],
   "source": [
    "w_b_pvals_z['fdr_pval'] = w_b_fdr_z[1]"
   ]
  },
  {
   "cell_type": "code",
   "execution_count": 693,
   "id": "b0a1e2d6-8f72-49ce-9646-785bd3e737c9",
   "metadata": {
    "id": "cjZ8HZMYnMUE"
   },
   "outputs": [],
   "source": [
    "w_b_z_sig_diff = w_b_pvals_z.query('fdr_pval < 0.05')"
   ]
  },
  {
   "cell_type": "code",
   "execution_count": 694,
   "id": "b6d81c17-22a2-47c6-92ac-d9373a1f0653",
   "metadata": {
    "colab": {
     "base_uri": "https://localhost:8080/",
     "height": 423
    },
    "id": "F01JkqAwnMUE",
    "outputId": "a117d7cf-dd4f-423a-e23b-66fd060deadd",
    "tags": []
   },
   "outputs": [
    {
     "data": {
      "text/html": [
       "<div>\n",
       "<style scoped>\n",
       "    .dataframe tbody tr th:only-of-type {\n",
       "        vertical-align: middle;\n",
       "    }\n",
       "\n",
       "    .dataframe tbody tr th {\n",
       "        vertical-align: top;\n",
       "    }\n",
       "\n",
       "    .dataframe thead th {\n",
       "        text-align: right;\n",
       "    }\n",
       "</style>\n",
       "<table border=\"1\" class=\"dataframe\">\n",
       "  <thead>\n",
       "    <tr style=\"text-align: right;\">\n",
       "      <th></th>\n",
       "      <th>roi</th>\n",
       "      <th>tstat</th>\n",
       "      <th>fdr_pval</th>\n",
       "      <th>pval</th>\n",
       "    </tr>\n",
       "  </thead>\n",
       "  <tbody>\n",
       "    <tr>\n",
       "      <th>2</th>\n",
       "      <td>rh_G_oc-temp_med-Parahip_thickness_error</td>\n",
       "      <td>4.907635</td>\n",
       "      <td>0.000016</td>\n",
       "      <td>0.000002</td>\n",
       "    </tr>\n",
       "    <tr>\n",
       "      <th>4</th>\n",
       "      <td>rh_G_oc-temp_med-Lingual_thickness_error</td>\n",
       "      <td>7.434566</td>\n",
       "      <td>0.0</td>\n",
       "      <td>0.0</td>\n",
       "    </tr>\n",
       "    <tr>\n",
       "      <th>11</th>\n",
       "      <td>rh_G_front_middle_thickness_error</td>\n",
       "      <td>-3.008712</td>\n",
       "      <td>0.013281</td>\n",
       "      <td>0.002871</td>\n",
       "    </tr>\n",
       "    <tr>\n",
       "      <th>12</th>\n",
       "      <td>rh_S_postcentral_thickness_error</td>\n",
       "      <td>3.125876</td>\n",
       "      <td>0.010017</td>\n",
       "      <td>0.001963</td>\n",
       "    </tr>\n",
       "    <tr>\n",
       "      <th>15</th>\n",
       "      <td>rh_S_temporal_inf_thickness_error</td>\n",
       "      <td>2.580659</td>\n",
       "      <td>0.038389</td>\n",
       "      <td>0.010375</td>\n",
       "    </tr>\n",
       "    <tr>\n",
       "      <th>17</th>\n",
       "      <td>rh_S_central_thickness_error</td>\n",
       "      <td>5.109955</td>\n",
       "      <td>0.000008</td>\n",
       "      <td>0.000001</td>\n",
       "    </tr>\n",
       "    <tr>\n",
       "      <th>18</th>\n",
       "      <td>lh_G_cuneus_thickness_error</td>\n",
       "      <td>2.872466</td>\n",
       "      <td>0.01903</td>\n",
       "      <td>0.004372</td>\n",
       "    </tr>\n",
       "    <tr>\n",
       "      <th>21</th>\n",
       "      <td>rh_G_cingul-Post-dorsal_thickness_error</td>\n",
       "      <td>2.901354</td>\n",
       "      <td>0.018038</td>\n",
       "      <td>0.004022</td>\n",
       "    </tr>\n",
       "    <tr>\n",
       "      <th>27</th>\n",
       "      <td>rh_G&amp;S_occipital_inf_thickness_error</td>\n",
       "      <td>5.957687</td>\n",
       "      <td>0.0</td>\n",
       "      <td>0.0</td>\n",
       "    </tr>\n",
       "    <tr>\n",
       "      <th>29</th>\n",
       "      <td>rh_G_pariet_inf-Supramar_thickness_error</td>\n",
       "      <td>3.576385</td>\n",
       "      <td>0.002414</td>\n",
       "      <td>0.000408</td>\n",
       "    </tr>\n",
       "    <tr>\n",
       "      <th>30</th>\n",
       "      <td>rh_G&amp;S_paracentral_thickness_error</td>\n",
       "      <td>3.992804</td>\n",
       "      <td>0.000613</td>\n",
       "      <td>0.000083</td>\n",
       "    </tr>\n",
       "    <tr>\n",
       "      <th>38</th>\n",
       "      <td>rh_G_occipital_middle_thickness_error</td>\n",
       "      <td>4.017661</td>\n",
       "      <td>0.000585</td>\n",
       "      <td>0.000075</td>\n",
       "    </tr>\n",
       "    <tr>\n",
       "      <th>39</th>\n",
       "      <td>rh_S_interm_prim-Jensen_thickness_error</td>\n",
       "      <td>2.536385</td>\n",
       "      <td>0.042309</td>\n",
       "      <td>0.011721</td>\n",
       "    </tr>\n",
       "    <tr>\n",
       "      <th>40</th>\n",
       "      <td>lh_G_front_middle_thickness_error</td>\n",
       "      <td>-3.737456</td>\n",
       "      <td>0.00148</td>\n",
       "      <td>0.00023</td>\n",
       "    </tr>\n",
       "    <tr>\n",
       "      <th>42</th>\n",
       "      <td>lh_S_oc-temp_med&amp;Lingual_thickness_error</td>\n",
       "      <td>5.182223</td>\n",
       "      <td>0.000007</td>\n",
       "      <td>0.0</td>\n",
       "    </tr>\n",
       "    <tr>\n",
       "      <th>48</th>\n",
       "      <td>lh_G_postcentral_thickness_error</td>\n",
       "      <td>3.936366</td>\n",
       "      <td>0.000697</td>\n",
       "      <td>0.000104</td>\n",
       "    </tr>\n",
       "    <tr>\n",
       "      <th>49</th>\n",
       "      <td>rh_Lat_Fis-post_thickness_error</td>\n",
       "      <td>5.748937</td>\n",
       "      <td>0.0</td>\n",
       "      <td>0.0</td>\n",
       "    </tr>\n",
       "    <tr>\n",
       "      <th>51</th>\n",
       "      <td>rh_G_temp_sup-Plan_tempo_thickness_error</td>\n",
       "      <td>3.982477</td>\n",
       "      <td>0.000613</td>\n",
       "      <td>0.000087</td>\n",
       "    </tr>\n",
       "    <tr>\n",
       "      <th>55</th>\n",
       "      <td>rh_S_front_sup_thickness_error</td>\n",
       "      <td>-2.634208</td>\n",
       "      <td>0.033796</td>\n",
       "      <td>0.008906</td>\n",
       "    </tr>\n",
       "    <tr>\n",
       "      <th>65</th>\n",
       "      <td>rh_G_subcallosal_thickness_error</td>\n",
       "      <td>-2.777841</td>\n",
       "      <td>0.023989</td>\n",
       "      <td>0.005835</td>\n",
       "    </tr>\n",
       "    <tr>\n",
       "      <th>72</th>\n",
       "      <td>rh_G&amp;S_subcentral_thickness_error</td>\n",
       "      <td>4.929796</td>\n",
       "      <td>0.000016</td>\n",
       "      <td>0.000001</td>\n",
       "    </tr>\n",
       "    <tr>\n",
       "      <th>75</th>\n",
       "      <td>rh_G_temp_sup-Lateral_thickness_error</td>\n",
       "      <td>3.114701</td>\n",
       "      <td>0.010041</td>\n",
       "      <td>0.002035</td>\n",
       "    </tr>\n",
       "    <tr>\n",
       "      <th>78</th>\n",
       "      <td>rh_G_oc-temp_lat-fusifor_thickness_error</td>\n",
       "      <td>5.005519</td>\n",
       "      <td>0.000013</td>\n",
       "      <td>0.000001</td>\n",
       "    </tr>\n",
       "    <tr>\n",
       "      <th>79</th>\n",
       "      <td>rh_S_oc-temp_med&amp;Lingual_thickness_error</td>\n",
       "      <td>6.888046</td>\n",
       "      <td>0.0</td>\n",
       "      <td>0.0</td>\n",
       "    </tr>\n",
       "    <tr>\n",
       "      <th>80</th>\n",
       "      <td>rh_G_temporal_inf_thickness_error</td>\n",
       "      <td>3.143624</td>\n",
       "      <td>0.009767</td>\n",
       "      <td>0.001848</td>\n",
       "    </tr>\n",
       "    <tr>\n",
       "      <th>91</th>\n",
       "      <td>rh_G_postcentral_thickness_error</td>\n",
       "      <td>3.499508</td>\n",
       "      <td>0.002978</td>\n",
       "      <td>0.000543</td>\n",
       "    </tr>\n",
       "    <tr>\n",
       "      <th>92</th>\n",
       "      <td>rh_G_cuneus_thickness_error</td>\n",
       "      <td>7.255768</td>\n",
       "      <td>0.0</td>\n",
       "      <td>0.0</td>\n",
       "    </tr>\n",
       "    <tr>\n",
       "      <th>98</th>\n",
       "      <td>lh_G_temp_sup-G_T_transv_thickness_error</td>\n",
       "      <td>2.650093</td>\n",
       "      <td>0.033295</td>\n",
       "      <td>0.008506</td>\n",
       "    </tr>\n",
       "    <tr>\n",
       "      <th>99</th>\n",
       "      <td>rh_G_occipital_sup_thickness_error</td>\n",
       "      <td>6.153085</td>\n",
       "      <td>0.0</td>\n",
       "      <td>0.0</td>\n",
       "    </tr>\n",
       "    <tr>\n",
       "      <th>102</th>\n",
       "      <td>rh_S_circular_insula_ant_thickness_error</td>\n",
       "      <td>3.058435</td>\n",
       "      <td>0.011659</td>\n",
       "      <td>0.002442</td>\n",
       "    </tr>\n",
       "    <tr>\n",
       "      <th>107</th>\n",
       "      <td>rh_S_calcarine_thickness_error</td>\n",
       "      <td>7.554454</td>\n",
       "      <td>0.0</td>\n",
       "      <td>0.0</td>\n",
       "    </tr>\n",
       "    <tr>\n",
       "      <th>113</th>\n",
       "      <td>rh_S_temporal_sup_thickness_error</td>\n",
       "      <td>4.394828</td>\n",
       "      <td>0.000145</td>\n",
       "      <td>0.000016</td>\n",
       "    </tr>\n",
       "    <tr>\n",
       "      <th>117</th>\n",
       "      <td>rh_S_oc_middle&amp;Lunatus_thickness_error</td>\n",
       "      <td>4.53476</td>\n",
       "      <td>0.000083</td>\n",
       "      <td>0.000008</td>\n",
       "    </tr>\n",
       "    <tr>\n",
       "      <th>123</th>\n",
       "      <td>rh_G_pariet_inf-Angular_thickness_error</td>\n",
       "      <td>2.647458</td>\n",
       "      <td>0.033295</td>\n",
       "      <td>0.008549</td>\n",
       "    </tr>\n",
       "    <tr>\n",
       "      <th>128</th>\n",
       "      <td>rh_Pole_occipital_thickness_error</td>\n",
       "      <td>8.051298</td>\n",
       "      <td>0.0</td>\n",
       "      <td>0.0</td>\n",
       "    </tr>\n",
       "    <tr>\n",
       "      <th>135</th>\n",
       "      <td>rh_S_occipital_ant_thickness_error</td>\n",
       "      <td>5.121371</td>\n",
       "      <td>0.000008</td>\n",
       "      <td>0.000001</td>\n",
       "    </tr>\n",
       "    <tr>\n",
       "      <th>138</th>\n",
       "      <td>rh_S_oc_sup&amp;transversal_thickness_error</td>\n",
       "      <td>3.549967</td>\n",
       "      <td>0.002566</td>\n",
       "      <td>0.000451</td>\n",
       "    </tr>\n",
       "    <tr>\n",
       "      <th>139</th>\n",
       "      <td>rh_S_temporal_transverse_thickness_error</td>\n",
       "      <td>4.240674</td>\n",
       "      <td>0.000249</td>\n",
       "      <td>0.00003</td>\n",
       "    </tr>\n",
       "    <tr>\n",
       "      <th>142</th>\n",
       "      <td>rh_G_temporal_middle_thickness_error</td>\n",
       "      <td>4.348483</td>\n",
       "      <td>0.000166</td>\n",
       "      <td>0.000019</td>\n",
       "    </tr>\n",
       "    <tr>\n",
       "      <th>143</th>\n",
       "      <td>lh_S_collat_transv_ant_thickness_error</td>\n",
       "      <td>2.795996</td>\n",
       "      <td>0.023297</td>\n",
       "      <td>0.005509</td>\n",
       "    </tr>\n",
       "    <tr>\n",
       "      <th>144</th>\n",
       "      <td>rh_S_oc-temp_lat_thickness_error</td>\n",
       "      <td>3.695008</td>\n",
       "      <td>0.001615</td>\n",
       "      <td>0.000262</td>\n",
       "    </tr>\n",
       "  </tbody>\n",
       "</table>\n",
       "</div>"
      ],
      "text/plain": [
       "                                          roi     tstat  fdr_pval      pval\n",
       "2    rh_G_oc-temp_med-Parahip_thickness_error  4.907635  0.000016  0.000002\n",
       "4    rh_G_oc-temp_med-Lingual_thickness_error  7.434566       0.0       0.0\n",
       "11          rh_G_front_middle_thickness_error -3.008712  0.013281  0.002871\n",
       "12           rh_S_postcentral_thickness_error  3.125876  0.010017  0.001963\n",
       "15          rh_S_temporal_inf_thickness_error  2.580659  0.038389  0.010375\n",
       "17               rh_S_central_thickness_error  5.109955  0.000008  0.000001\n",
       "18                lh_G_cuneus_thickness_error  2.872466   0.01903  0.004372\n",
       "21    rh_G_cingul-Post-dorsal_thickness_error  2.901354  0.018038  0.004022\n",
       "27       rh_G&S_occipital_inf_thickness_error  5.957687       0.0       0.0\n",
       "29   rh_G_pariet_inf-Supramar_thickness_error  3.576385  0.002414  0.000408\n",
       "30         rh_G&S_paracentral_thickness_error  3.992804  0.000613  0.000083\n",
       "38      rh_G_occipital_middle_thickness_error  4.017661  0.000585  0.000075\n",
       "39    rh_S_interm_prim-Jensen_thickness_error  2.536385  0.042309  0.011721\n",
       "40          lh_G_front_middle_thickness_error -3.737456   0.00148   0.00023\n",
       "42   lh_S_oc-temp_med&Lingual_thickness_error  5.182223  0.000007       0.0\n",
       "48           lh_G_postcentral_thickness_error  3.936366  0.000697  0.000104\n",
       "49            rh_Lat_Fis-post_thickness_error  5.748937       0.0       0.0\n",
       "51   rh_G_temp_sup-Plan_tempo_thickness_error  3.982477  0.000613  0.000087\n",
       "55             rh_S_front_sup_thickness_error -2.634208  0.033796  0.008906\n",
       "65           rh_G_subcallosal_thickness_error -2.777841  0.023989  0.005835\n",
       "72          rh_G&S_subcentral_thickness_error  4.929796  0.000016  0.000001\n",
       "75      rh_G_temp_sup-Lateral_thickness_error  3.114701  0.010041  0.002035\n",
       "78   rh_G_oc-temp_lat-fusifor_thickness_error  5.005519  0.000013  0.000001\n",
       "79   rh_S_oc-temp_med&Lingual_thickness_error  6.888046       0.0       0.0\n",
       "80          rh_G_temporal_inf_thickness_error  3.143624  0.009767  0.001848\n",
       "91           rh_G_postcentral_thickness_error  3.499508  0.002978  0.000543\n",
       "92                rh_G_cuneus_thickness_error  7.255768       0.0       0.0\n",
       "98   lh_G_temp_sup-G_T_transv_thickness_error  2.650093  0.033295  0.008506\n",
       "99         rh_G_occipital_sup_thickness_error  6.153085       0.0       0.0\n",
       "102  rh_S_circular_insula_ant_thickness_error  3.058435  0.011659  0.002442\n",
       "107            rh_S_calcarine_thickness_error  7.554454       0.0       0.0\n",
       "113         rh_S_temporal_sup_thickness_error  4.394828  0.000145  0.000016\n",
       "117    rh_S_oc_middle&Lunatus_thickness_error   4.53476  0.000083  0.000008\n",
       "123   rh_G_pariet_inf-Angular_thickness_error  2.647458  0.033295  0.008549\n",
       "128         rh_Pole_occipital_thickness_error  8.051298       0.0       0.0\n",
       "135        rh_S_occipital_ant_thickness_error  5.121371  0.000008  0.000001\n",
       "138   rh_S_oc_sup&transversal_thickness_error  3.549967  0.002566  0.000451\n",
       "139  rh_S_temporal_transverse_thickness_error  4.240674  0.000249   0.00003\n",
       "142      rh_G_temporal_middle_thickness_error  4.348483  0.000166  0.000019\n",
       "143    lh_S_collat_transv_ant_thickness_error  2.795996  0.023297  0.005509\n",
       "144          rh_S_oc-temp_lat_thickness_error  3.695008  0.001615  0.000262"
      ]
     },
     "execution_count": 694,
     "metadata": {},
     "output_type": "execute_result"
    }
   ],
   "source": [
    "w_b_z_sig_diff"
   ]
  },
  {
   "cell_type": "code",
   "execution_count": 695,
   "id": "b593fc8d-399b-464c-b186-cb803f7315f3",
   "metadata": {
    "colab": {
     "base_uri": "https://localhost:8080/"
    },
    "id": "170sEtkynMUE",
    "outputId": "7b601d8d-c73e-44ba-a523-4eddb6dea46b",
    "tags": []
   },
   "outputs": [
    {
     "data": {
      "text/plain": [
       "(41, 4)"
      ]
     },
     "execution_count": 695,
     "metadata": {},
     "output_type": "execute_result"
    }
   ],
   "source": [
    "w_b_z_sig_diff.shape"
   ]
  },
  {
   "cell_type": "code",
   "execution_count": 696,
   "id": "480d882a-3bf7-4550-9839-52f76d24d637",
   "metadata": {
    "tags": []
   },
   "outputs": [
    {
     "name": "stderr",
     "output_type": "stream",
     "text": [
      "/var/folders/xx/1xs7sc795_nf7k125153b6qh0000gn/T/ipykernel_2210/4047360363.py:1: SettingWithCopyWarning: \n",
      "A value is trying to be set on a copy of a slice from a DataFrame.\n",
      "Try using .loc[row_indexer,col_indexer] = value instead\n",
      "\n",
      "See the caveats in the documentation: https://pandas.pydata.org/pandas-docs/stable/user_guide/indexing.html#returning-a-view-versus-a-copy\n",
      "  w_b_z_sig_diff['roi'] = w_b_z_sig_diff['roi'].str.replace('_thickness_error', '', regex=True)\n",
      "/var/folders/xx/1xs7sc795_nf7k125153b6qh0000gn/T/ipykernel_2210/4047360363.py:2: SettingWithCopyWarning: \n",
      "A value is trying to be set on a copy of a slice from a DataFrame.\n",
      "Try using .loc[row_indexer,col_indexer] = value instead\n",
      "\n",
      "See the caveats in the documentation: https://pandas.pydata.org/pandas-docs/stable/user_guide/indexing.html#returning-a-view-versus-a-copy\n",
      "  w_b_z_sig_diff['roi'] = w_b_z_sig_diff['roi'].str.replace('G&S', 'G_and_S', regex=True)\n"
     ]
    }
   ],
   "source": [
    "w_b_z_sig_diff['roi'] = w_b_z_sig_diff['roi'].str.replace('_thickness_error', '', regex=True)\n",
    "w_b_z_sig_diff['roi'] = w_b_z_sig_diff['roi'].str.replace('G&S', 'G_and_S', regex=True)"
   ]
  },
  {
   "cell_type": "code",
   "execution_count": 697,
   "id": "7c89c49e-d8fb-43e3-aa75-02b41776f245",
   "metadata": {
    "tags": []
   },
   "outputs": [
    {
     "name": "stderr",
     "output_type": "stream",
     "text": [
      "/opt/anaconda3/envs/braincharts/lib/python3.9/site-packages/pandas/core/frame.py:3641: SettingWithCopyWarning: \n",
      "A value is trying to be set on a copy of a slice from a DataFrame.\n",
      "Try using .loc[row_indexer,col_indexer] = value instead\n",
      "\n",
      "See the caveats in the documentation: https://pandas.pydata.org/pandas-docs/stable/user_guide/indexing.html#returning-a-view-versus-a-copy\n",
      "  self[k1] = value[k2]\n"
     ]
    }
   ],
   "source": [
    "w_b_z_sig_diff[['temp1', 'temp2']] = w_b_z_sig_diff['roi'].str.split(pat=\"_\", n=1, expand=True)"
   ]
  },
  {
   "cell_type": "code",
   "execution_count": 698,
   "id": "a82ef79b-924e-4328-8f97-8b35439f7a0e",
   "metadata": {
    "tags": []
   },
   "outputs": [
    {
     "name": "stderr",
     "output_type": "stream",
     "text": [
      "/opt/anaconda3/envs/braincharts/lib/python3.9/site-packages/pandas/core/generic.py:5516: SettingWithCopyWarning: \n",
      "A value is trying to be set on a copy of a slice from a DataFrame.\n",
      "Try using .loc[row_indexer,col_indexer] = value instead\n",
      "\n",
      "See the caveats in the documentation: https://pandas.pydata.org/pandas-docs/stable/user_guide/indexing.html#returning-a-view-versus-a-copy\n",
      "  self[name] = value\n"
     ]
    }
   ],
   "source": [
    "w_b_z_sig_diff.temp1 = w_b_z_sig_diff.temp1.apply(lambda x: 'left' if 'lh' in x else x)"
   ]
  },
  {
   "cell_type": "code",
   "execution_count": 699,
   "id": "b3d4079c-d7d3-4407-850a-fc3acedefea1",
   "metadata": {},
   "outputs": [],
   "source": [
    "w_b_z_sig_diff.temp1 = w_b_z_sig_diff.temp1.apply(lambda x: 'right' if 'rh' in x else x)"
   ]
  },
  {
   "cell_type": "code",
   "execution_count": 700,
   "id": "8fd6f097-c1fb-4d0b-bad9-0f208d797b5b",
   "metadata": {},
   "outputs": [],
   "source": [
    "df = w_b_z_sig_diff[w_b_z_sig_diff[\"temp1\"].str.contains('left|right')]"
   ]
  },
  {
   "cell_type": "code",
   "execution_count": 701,
   "id": "8f2c5433-5351-4f4b-bd10-9045ea51263e",
   "metadata": {},
   "outputs": [],
   "source": [
    "df['hemi'] = df['temp1']"
   ]
  },
  {
   "cell_type": "code",
   "execution_count": 702,
   "id": "0efe0959-ad5c-4529-9acd-743e47af2cbb",
   "metadata": {},
   "outputs": [],
   "source": [
    "df['ROI'] = df['temp2']"
   ]
  },
  {
   "cell_type": "code",
   "execution_count": 703,
   "id": "9ba0538f-d83b-4a6a-937f-dd6080717740",
   "metadata": {},
   "outputs": [
    {
     "data": {
      "text/plain": [
       "Index(['roi', 'tstat', 'fdr_pval', 'pval', 'temp1', 'temp2', 'hemi', 'ROI'], dtype='object')"
      ]
     },
     "execution_count": 703,
     "metadata": {},
     "output_type": "execute_result"
    }
   ],
   "source": [
    "df.columns"
   ]
  },
  {
   "cell_type": "code",
   "execution_count": 704,
   "id": "8dfc5101-a663-473b-a6ee-c7d17de9c5e6",
   "metadata": {},
   "outputs": [],
   "source": [
    "df = df[['tstat', 'fdr_pval', 'hemi', 'ROI']]"
   ]
  },
  {
   "cell_type": "code",
   "execution_count": 705,
   "id": "43484e55-8ff5-4320-844e-dc0cc71f7313",
   "metadata": {},
   "outputs": [],
   "source": [
    "w_b_z_sig_diff = df"
   ]
  },
  {
   "cell_type": "code",
   "execution_count": 706,
   "id": "92275f8e-7a75-4c52-aad3-5681c18fbfad",
   "metadata": {
    "tags": []
   },
   "outputs": [],
   "source": [
    "w_b_z_sig_diff_l = w_b_z_sig_diff.query('hemi == \"left\"')\n",
    "w_b_z_sig_diff_r = w_b_z_sig_diff.query('hemi == \"right\"')"
   ]
  },
  {
   "cell_type": "code",
   "execution_count": 707,
   "id": "37074463-f401-4439-997f-ad4b86181191",
   "metadata": {},
   "outputs": [],
   "source": [
    "nl_w_b_z_sig_diff_l = pd.merge(nl, w_b_z_sig_diff_l, on='ROI', how='left')\n",
    "nl_w_b_z_sig_diff_r = pd.merge(nl, w_b_z_sig_diff_r, on='ROI', how='left')"
   ]
  },
  {
   "cell_type": "code",
   "execution_count": 708,
   "id": "2c17fcfd-0850-470a-9172-d246d17c7ee9",
   "metadata": {
    "tags": []
   },
   "outputs": [],
   "source": [
    "nl_w_b_z_sig_diff_l['tstat'] = nl_w_b_z_sig_diff_l['tstat'].fillna(0)\n",
    "nl_w_b_z_sig_diff_r['tstat'] = nl_w_b_z_sig_diff_r['tstat'].fillna(0)"
   ]
  },
  {
   "cell_type": "code",
   "execution_count": 709,
   "id": "c414cefe-7312-44f8-bfcb-06c697f245f2",
   "metadata": {
    "tags": []
   },
   "outputs": [],
   "source": [
    "nl_w_b_z_sig_diff_l = nl_w_b_z_sig_diff_l['tstat'].to_numpy()\n",
    "nl_w_b_z_sig_diff_r = nl_w_b_z_sig_diff_r['tstat'].to_numpy()"
   ]
  },
  {
   "cell_type": "code",
   "execution_count": 710,
   "id": "2610b74a-1097-40eb-8694-34f24df31464",
   "metadata": {},
   "outputs": [],
   "source": [
    "a_list = list(range(1, 76))\n",
    "parcellation_l = atlas_l\n",
    "for i, j in enumerate(a_list):\n",
    "    parcellation_l = np.where(parcellation_l == j, nl_w_b_z_sig_diff_l[i], parcellation_l)"
   ]
  },
  {
   "cell_type": "code",
   "execution_count": 711,
   "id": "fba9abf3-3fcd-41e6-894d-281967887a57",
   "metadata": {},
   "outputs": [],
   "source": [
    "a_list = list(range(1, 76))\n",
    "parcellation_r = atlas_r\n",
    "for i, j in enumerate(a_list):\n",
    "    parcellation_r = np.where(parcellation_r == j, nl_w_b_z_sig_diff_r[i], parcellation_r)"
   ]
  },
  {
   "cell_type": "code",
   "execution_count": 713,
   "id": "2e75e859-244f-47c8-a1f8-45659356fe95",
   "metadata": {},
   "outputs": [],
   "source": [
    "# Positive value == whites have higher error\n",
    "# Negative value == blacks have higher error\n",
    "plotting.plot_surf_roi(fsaverage['infl_left'], roi_map=parcellation_l, hemi='left', cmap='plasma', bg_map=fsaverage['sulc_left'], vmin=-20, vmax=20, view='lateral', output_file='/Users/saigerutherford/Desktop/hcp_racenotmodeled_WvB_E_l.png');"
   ]
  },
  {
   "cell_type": "code",
   "execution_count": 715,
   "id": "550e4f7b-60f8-447f-89d4-db145a38dcad",
   "metadata": {},
   "outputs": [],
   "source": [
    "plotting.plot_surf_roi(fsaverage['infl_right'], roi_map=parcellation_r, hemi='right', cmap='plasma', bg_map=fsaverage['sulc_right'], vmin=-20, vmax=20, view='lateral', output_file='/Users/saigerutherford/Desktop/hcp_racenotmodeled_WvB_E_r.png');"
   ]
  },
  {
   "cell_type": "code",
   "execution_count": 716,
   "id": "0e3d2515-0b5f-4c9e-a64b-f8f0e096c738",
   "metadata": {
    "id": "VdQgUo29nMUD"
   },
   "outputs": [],
   "source": [
    "w_a_pvals_z = pd.DataFrame(columns={'roi','pval', 'tstat','fdr_pval'})\n",
    "for index, column in enumerate(z_cols):\n",
    "    test = ttest_ind(w_deviations[column], a_deviations[column], equal_var=False)\n",
    "    w_a_pvals_z.loc[index, 'pval'] = test.pvalue\n",
    "    w_a_pvals_z.loc[index, 'tstat'] = test.statistic\n",
    "    w_a_pvals_z.loc[index, 'roi'] = column"
   ]
  },
  {
   "cell_type": "code",
   "execution_count": 717,
   "id": "65c8ae87-d7e9-4269-90a7-ebd5fc6f4890",
   "metadata": {
    "id": "n8JfELPdnMUE"
   },
   "outputs": [],
   "source": [
    "w_a_fdr_z = multitest.fdrcorrection(w_a_pvals_z['pval'], alpha=0.05, method='indep', is_sorted=False)"
   ]
  },
  {
   "cell_type": "code",
   "execution_count": 718,
   "id": "a65f204a-47ab-4f96-b1d7-e635d11bf6ab",
   "metadata": {
    "id": "K5panqSGnMUE"
   },
   "outputs": [],
   "source": [
    "w_a_pvals_z['fdr_pval'] = w_a_fdr_z[1]"
   ]
  },
  {
   "cell_type": "code",
   "execution_count": 719,
   "id": "4bc84d21-8b34-4224-95d2-dbef85a91ddf",
   "metadata": {
    "id": "cjZ8HZMYnMUE"
   },
   "outputs": [],
   "source": [
    "w_a_z_sig_diff = w_a_pvals_z.query('fdr_pval < 0.05')"
   ]
  },
  {
   "cell_type": "code",
   "execution_count": 720,
   "id": "82bb54c3-f58d-4fa0-afe1-f9a46e1486ad",
   "metadata": {
    "colab": {
     "base_uri": "https://localhost:8080/",
     "height": 423
    },
    "id": "F01JkqAwnMUE",
    "outputId": "a117d7cf-dd4f-423a-e23b-66fd060deadd",
    "tags": []
   },
   "outputs": [
    {
     "data": {
      "text/html": [
       "<div>\n",
       "<style scoped>\n",
       "    .dataframe tbody tr th:only-of-type {\n",
       "        vertical-align: middle;\n",
       "    }\n",
       "\n",
       "    .dataframe tbody tr th {\n",
       "        vertical-align: top;\n",
       "    }\n",
       "\n",
       "    .dataframe thead th {\n",
       "        text-align: right;\n",
       "    }\n",
       "</style>\n",
       "<table border=\"1\" class=\"dataframe\">\n",
       "  <thead>\n",
       "    <tr style=\"text-align: right;\">\n",
       "      <th></th>\n",
       "      <th>roi</th>\n",
       "      <th>tstat</th>\n",
       "      <th>fdr_pval</th>\n",
       "      <th>pval</th>\n",
       "    </tr>\n",
       "  </thead>\n",
       "  <tbody>\n",
       "    <tr>\n",
       "      <th>1</th>\n",
       "      <td>lh_G_temp_sup-Plan_tempo_thickness_error</td>\n",
       "      <td>4.482424</td>\n",
       "      <td>0.000234</td>\n",
       "      <td>0.000028</td>\n",
       "    </tr>\n",
       "    <tr>\n",
       "      <th>2</th>\n",
       "      <td>rh_G_oc-temp_med-Parahip_thickness_error</td>\n",
       "      <td>4.552838</td>\n",
       "      <td>0.000206</td>\n",
       "      <td>0.00002</td>\n",
       "    </tr>\n",
       "    <tr>\n",
       "      <th>3</th>\n",
       "      <td>lh_G_occipital_middle_thickness_error</td>\n",
       "      <td>2.960919</td>\n",
       "      <td>0.008408</td>\n",
       "      <td>0.004204</td>\n",
       "    </tr>\n",
       "    <tr>\n",
       "      <th>4</th>\n",
       "      <td>rh_G_oc-temp_med-Lingual_thickness_error</td>\n",
       "      <td>2.787023</td>\n",
       "      <td>0.012324</td>\n",
       "      <td>0.006495</td>\n",
       "    </tr>\n",
       "    <tr>\n",
       "      <th>5</th>\n",
       "      <td>lh_S_intrapariet&amp;P_trans_thickness_error</td>\n",
       "      <td>4.123812</td>\n",
       "      <td>0.000453</td>\n",
       "      <td>0.000095</td>\n",
       "    </tr>\n",
       "    <tr>\n",
       "      <th>...</th>\n",
       "      <td>...</td>\n",
       "      <td>...</td>\n",
       "      <td>...</td>\n",
       "      <td>...</td>\n",
       "    </tr>\n",
       "    <tr>\n",
       "      <th>138</th>\n",
       "      <td>rh_S_oc_sup&amp;transversal_thickness_error</td>\n",
       "      <td>2.679439</td>\n",
       "      <td>0.016009</td>\n",
       "      <td>0.008761</td>\n",
       "    </tr>\n",
       "    <tr>\n",
       "      <th>141</th>\n",
       "      <td>lh_G_orbital_thickness_error</td>\n",
       "      <td>4.155206</td>\n",
       "      <td>0.000431</td>\n",
       "      <td>0.000085</td>\n",
       "    </tr>\n",
       "    <tr>\n",
       "      <th>142</th>\n",
       "      <td>rh_G_temporal_middle_thickness_error</td>\n",
       "      <td>3.780062</td>\n",
       "      <td>0.001108</td>\n",
       "      <td>0.000307</td>\n",
       "    </tr>\n",
       "    <tr>\n",
       "      <th>144</th>\n",
       "      <td>rh_S_oc-temp_lat_thickness_error</td>\n",
       "      <td>3.2708</td>\n",
       "      <td>0.003402</td>\n",
       "      <td>0.001494</td>\n",
       "    </tr>\n",
       "    <tr>\n",
       "      <th>145</th>\n",
       "      <td>rh_S_precentral-inf-part_thickness_error</td>\n",
       "      <td>2.368234</td>\n",
       "      <td>0.033215</td>\n",
       "      <td>0.019974</td>\n",
       "    </tr>\n",
       "  </tbody>\n",
       "</table>\n",
       "<p>95 rows × 4 columns</p>\n",
       "</div>"
      ],
      "text/plain": [
       "                                          roi     tstat  fdr_pval      pval\n",
       "1    lh_G_temp_sup-Plan_tempo_thickness_error  4.482424  0.000234  0.000028\n",
       "2    rh_G_oc-temp_med-Parahip_thickness_error  4.552838  0.000206   0.00002\n",
       "3       lh_G_occipital_middle_thickness_error  2.960919  0.008408  0.004204\n",
       "4    rh_G_oc-temp_med-Lingual_thickness_error  2.787023  0.012324  0.006495\n",
       "5    lh_S_intrapariet&P_trans_thickness_error  4.123812  0.000453  0.000095\n",
       "..                                        ...       ...       ...       ...\n",
       "138   rh_S_oc_sup&transversal_thickness_error  2.679439  0.016009  0.008761\n",
       "141              lh_G_orbital_thickness_error  4.155206  0.000431  0.000085\n",
       "142      rh_G_temporal_middle_thickness_error  3.780062  0.001108  0.000307\n",
       "144          rh_S_oc-temp_lat_thickness_error    3.2708  0.003402  0.001494\n",
       "145  rh_S_precentral-inf-part_thickness_error  2.368234  0.033215  0.019974\n",
       "\n",
       "[95 rows x 4 columns]"
      ]
     },
     "execution_count": 720,
     "metadata": {},
     "output_type": "execute_result"
    }
   ],
   "source": [
    "w_a_z_sig_diff"
   ]
  },
  {
   "cell_type": "code",
   "execution_count": 721,
   "id": "fff88d06-38e9-4e01-9774-f4dd1a2723c2",
   "metadata": {
    "colab": {
     "base_uri": "https://localhost:8080/"
    },
    "id": "170sEtkynMUE",
    "outputId": "7b601d8d-c73e-44ba-a523-4eddb6dea46b"
   },
   "outputs": [
    {
     "data": {
      "text/plain": [
       "(95, 4)"
      ]
     },
     "execution_count": 721,
     "metadata": {},
     "output_type": "execute_result"
    }
   ],
   "source": [
    "w_a_z_sig_diff.shape"
   ]
  },
  {
   "cell_type": "code",
   "execution_count": 722,
   "id": "4d2e2d9c-42bc-4b74-988e-53cc25c2d3ff",
   "metadata": {
    "tags": []
   },
   "outputs": [
    {
     "name": "stderr",
     "output_type": "stream",
     "text": [
      "/var/folders/xx/1xs7sc795_nf7k125153b6qh0000gn/T/ipykernel_2210/1699425025.py:1: SettingWithCopyWarning: \n",
      "A value is trying to be set on a copy of a slice from a DataFrame.\n",
      "Try using .loc[row_indexer,col_indexer] = value instead\n",
      "\n",
      "See the caveats in the documentation: https://pandas.pydata.org/pandas-docs/stable/user_guide/indexing.html#returning-a-view-versus-a-copy\n",
      "  w_a_z_sig_diff['roi'] = w_a_z_sig_diff['roi'].str.replace('_thickness_error', '', regex=True)\n",
      "/var/folders/xx/1xs7sc795_nf7k125153b6qh0000gn/T/ipykernel_2210/1699425025.py:2: SettingWithCopyWarning: \n",
      "A value is trying to be set on a copy of a slice from a DataFrame.\n",
      "Try using .loc[row_indexer,col_indexer] = value instead\n",
      "\n",
      "See the caveats in the documentation: https://pandas.pydata.org/pandas-docs/stable/user_guide/indexing.html#returning-a-view-versus-a-copy\n",
      "  w_a_z_sig_diff['roi'] = w_a_z_sig_diff['roi'].str.replace('G&S', 'G_and_S', regex=True)\n"
     ]
    }
   ],
   "source": [
    "w_a_z_sig_diff['roi'] = w_a_z_sig_diff['roi'].str.replace('_thickness_error', '', regex=True)\n",
    "w_a_z_sig_diff['roi'] = w_a_z_sig_diff['roi'].str.replace('G&S', 'G_and_S', regex=True)"
   ]
  },
  {
   "cell_type": "code",
   "execution_count": 723,
   "id": "e9d94a6f-d76b-4997-b853-db331a7f1482",
   "metadata": {
    "tags": []
   },
   "outputs": [
    {
     "name": "stderr",
     "output_type": "stream",
     "text": [
      "/opt/anaconda3/envs/braincharts/lib/python3.9/site-packages/pandas/core/frame.py:3641: SettingWithCopyWarning: \n",
      "A value is trying to be set on a copy of a slice from a DataFrame.\n",
      "Try using .loc[row_indexer,col_indexer] = value instead\n",
      "\n",
      "See the caveats in the documentation: https://pandas.pydata.org/pandas-docs/stable/user_guide/indexing.html#returning-a-view-versus-a-copy\n",
      "  self[k1] = value[k2]\n"
     ]
    }
   ],
   "source": [
    "w_a_z_sig_diff[['temp1', 'temp2']] = w_a_z_sig_diff['roi'].str.split(pat=\"_\", n=1, expand=True)"
   ]
  },
  {
   "cell_type": "code",
   "execution_count": 724,
   "id": "a15a5151-8e8c-445d-af7a-7a724c11f576",
   "metadata": {
    "tags": []
   },
   "outputs": [
    {
     "name": "stderr",
     "output_type": "stream",
     "text": [
      "/opt/anaconda3/envs/braincharts/lib/python3.9/site-packages/pandas/core/generic.py:5516: SettingWithCopyWarning: \n",
      "A value is trying to be set on a copy of a slice from a DataFrame.\n",
      "Try using .loc[row_indexer,col_indexer] = value instead\n",
      "\n",
      "See the caveats in the documentation: https://pandas.pydata.org/pandas-docs/stable/user_guide/indexing.html#returning-a-view-versus-a-copy\n",
      "  self[name] = value\n"
     ]
    }
   ],
   "source": [
    "w_a_z_sig_diff.temp1 = w_a_z_sig_diff.temp1.apply(lambda x: 'left' if 'lh' in x else x)"
   ]
  },
  {
   "cell_type": "code",
   "execution_count": 725,
   "id": "eca73726-07ab-46b7-9428-96147f165666",
   "metadata": {},
   "outputs": [],
   "source": [
    "w_a_z_sig_diff.temp1 = w_a_z_sig_diff.temp1.apply(lambda x: 'right' if 'rh' in x else x)"
   ]
  },
  {
   "cell_type": "code",
   "execution_count": 726,
   "id": "06a7283e-19a5-4dbe-9f73-1806bff1d6cd",
   "metadata": {},
   "outputs": [],
   "source": [
    "df = w_a_z_sig_diff[w_a_z_sig_diff[\"temp1\"].str.contains('left|right')]"
   ]
  },
  {
   "cell_type": "code",
   "execution_count": 727,
   "id": "044ab8b9-0b14-4661-b979-ca1badabaede",
   "metadata": {},
   "outputs": [],
   "source": [
    "df['hemi'] = df['temp1']"
   ]
  },
  {
   "cell_type": "code",
   "execution_count": 728,
   "id": "f7bdfee2-e5bc-4160-92a7-a8e0ebcfcd1a",
   "metadata": {},
   "outputs": [],
   "source": [
    "df['ROI'] = df['temp2']"
   ]
  },
  {
   "cell_type": "code",
   "execution_count": 729,
   "id": "81f52aeb-0474-41c6-aa40-9fc21bf33aba",
   "metadata": {},
   "outputs": [
    {
     "data": {
      "text/plain": [
       "Index(['roi', 'tstat', 'fdr_pval', 'pval', 'temp1', 'temp2', 'hemi', 'ROI'], dtype='object')"
      ]
     },
     "execution_count": 729,
     "metadata": {},
     "output_type": "execute_result"
    }
   ],
   "source": [
    "df.columns"
   ]
  },
  {
   "cell_type": "code",
   "execution_count": 730,
   "id": "47fe2cd3-94c1-48ce-ab7f-6242dcda9ba7",
   "metadata": {},
   "outputs": [],
   "source": [
    "df = df[['tstat', 'fdr_pval', 'hemi', 'ROI']]"
   ]
  },
  {
   "cell_type": "code",
   "execution_count": 731,
   "id": "5ca9d542-b4ec-4bf7-a58e-838f0706eab6",
   "metadata": {},
   "outputs": [],
   "source": [
    "w_a_z_sig_diff = df"
   ]
  },
  {
   "cell_type": "code",
   "execution_count": 732,
   "id": "b12ebae1-0072-484d-ad55-65e87992ad26",
   "metadata": {
    "tags": []
   },
   "outputs": [],
   "source": [
    "w_a_z_sig_diff_l = w_a_z_sig_diff.query('hemi == \"left\"')\n",
    "w_a_z_sig_diff_r = w_a_z_sig_diff.query('hemi == \"right\"')"
   ]
  },
  {
   "cell_type": "code",
   "execution_count": 733,
   "id": "212a3dee-972e-43c8-b55a-14980cf561f2",
   "metadata": {},
   "outputs": [],
   "source": [
    "nl_w_a_z_sig_diff_l = pd.merge(nl, w_a_z_sig_diff_l, on='ROI', how='left')\n",
    "nl_w_a_z_sig_diff_r = pd.merge(nl, w_a_z_sig_diff_r, on='ROI', how='left')"
   ]
  },
  {
   "cell_type": "code",
   "execution_count": 734,
   "id": "bb8f4a9c-2df0-4e0f-a5c5-062d5aa6b17a",
   "metadata": {
    "tags": []
   },
   "outputs": [],
   "source": [
    "nl_w_a_z_sig_diff_l['tstat'] = nl_w_a_z_sig_diff_l['tstat'].fillna(0)\n",
    "nl_w_a_z_sig_diff_r['tstat'] = nl_w_a_z_sig_diff_r['tstat'].fillna(0)"
   ]
  },
  {
   "cell_type": "code",
   "execution_count": 735,
   "id": "6df32b34-b8e5-4336-b8c6-7fef10c5085e",
   "metadata": {
    "tags": []
   },
   "outputs": [],
   "source": [
    "nl_w_a_z_sig_diff_l = nl_w_a_z_sig_diff_l['tstat'].to_numpy()\n",
    "nl_w_a_z_sig_diff_r = nl_w_a_z_sig_diff_r['tstat'].to_numpy()"
   ]
  },
  {
   "cell_type": "code",
   "execution_count": 736,
   "id": "900a6c16-88b7-44e3-8d07-fbdc260f7442",
   "metadata": {},
   "outputs": [],
   "source": [
    "a_list = list(range(1, 76))\n",
    "parcellation_l = atlas_l\n",
    "for i, j in enumerate(a_list):\n",
    "    parcellation_l = np.where(parcellation_l == j, nl_w_a_z_sig_diff_l[i], parcellation_l)"
   ]
  },
  {
   "cell_type": "code",
   "execution_count": 737,
   "id": "b02df701-4413-4c58-97f0-e4f1b12babd7",
   "metadata": {},
   "outputs": [],
   "source": [
    "a_list = list(range(1, 76))\n",
    "parcellation_r = atlas_r\n",
    "for i, j in enumerate(a_list):\n",
    "    parcellation_r = np.where(parcellation_r == j, nl_w_a_z_sig_diff_r[i], parcellation_r)"
   ]
  },
  {
   "cell_type": "code",
   "execution_count": 739,
   "id": "c1cef142-810a-48a1-9bc0-bfa3548db28b",
   "metadata": {},
   "outputs": [],
   "source": [
    "# Positive value == whites have higher error\n",
    "# Negative value == blacks have higher error\n",
    "plotting.plot_surf_roi(fsaverage['infl_left'], roi_map=parcellation_l, hemi='left', cmap='plasma', bg_map=fsaverage['sulc_left'], vmin=-20, vmax=20, view='lateral', output_file='/Users/saigerutherford/Desktop/hcp_racenotmodeled_WvA_E_l.png');"
   ]
  },
  {
   "cell_type": "code",
   "execution_count": 741,
   "id": "528e541c-0e92-4ae8-80d9-0c940ac4a43e",
   "metadata": {},
   "outputs": [],
   "source": [
    "plotting.plot_surf_roi(fsaverage['infl_right'], roi_map=parcellation_r, hemi='right', cmap='plasma', bg_map=fsaverage['sulc_right'], vmin=-20, vmax=20, view='lateral', output_file='/Users/saigerutherford/Desktop/hcp_racenotmodeled_WvA_E_r.png');"
   ]
  },
  {
   "cell_type": "markdown",
   "id": "33d3c507-14b3-4232-9af3-3868e02b0e31",
   "metadata": {},
   "source": [
    "### T-Tests on group mean and variance (across all ROIs)"
   ]
  },
  {
   "cell_type": "markdown",
   "id": "222a7b99-42a5-4dff-afb4-7963e98eddc2",
   "metadata": {},
   "source": [
    "### HCP race modeled"
   ]
  },
  {
   "cell_type": "code",
   "execution_count": 881,
   "id": "fd71f400-c92a-4bac-afdc-9f575b7efcde",
   "metadata": {},
   "outputs": [],
   "source": [
    "E_df = pd.read_csv('/Users/saigerutherford/Documents/Work/drive-download-20220731T221458Z-001/braincharts/models/hcp_race_modeled/errors.csv')"
   ]
  },
  {
   "cell_type": "code",
   "execution_count": 882,
   "id": "894c9b72-20d9-46fa-8ff9-77172b7afc81",
   "metadata": {},
   "outputs": [],
   "source": [
    "Z_df = pd.read_csv('/Users/saigerutherford/Documents/Work/drive-download-20220731T221458Z-001/braincharts/models/hcp_race_modeled/deviation_scores.csv')"
   ]
  },
  {
   "cell_type": "code",
   "execution_count": 883,
   "id": "77b33012-9a6a-4f6b-9a7a-49e162fff9c2",
   "metadata": {},
   "outputs": [],
   "source": [
    "Z_df = Z_df.filter(items=['Race', 'sub_id'])"
   ]
  },
  {
   "cell_type": "code",
   "execution_count": 884,
   "id": "27288026-79c8-489c-9df3-a5fcb7c95eef",
   "metadata": {},
   "outputs": [],
   "source": [
    "Z_df = pd.merge(E_df, Z_df, how='inner')"
   ]
  },
  {
   "cell_type": "code",
   "execution_count": 885,
   "id": "28fbad77-11c9-4fb0-9a5f-77b78a823e6e",
   "metadata": {
    "executionInfo": {
     "elapsed": 257,
     "status": "ok",
     "timestamp": 1687449325721,
     "user": {
      "displayName": "Saige Rutherford",
      "userId": "09510631870783055479"
     },
     "user_tz": -120
    },
    "id": "5649160f-708d-46ed-9760-29f9c3fb8b18",
    "jupyter": {
     "source_hidden": true
    },
    "tags": []
   },
   "outputs": [],
   "source": [
    "z_long = Z_df.melt(id_vars=['sub_id','Race'],\n",
    "                  value_vars=['rh_S_circular_insula_sup_thickness_error',\n",
    " 'lh_G_temp_sup-Plan_tempo_thickness_error',\n",
    " 'rh_G_oc-temp_med-Parahip_thickness_error',\n",
    " 'lh_G_occipital_middle_thickness_error',\n",
    " 'rh_G_oc-temp_med-Lingual_thickness_error',\n",
    " 'lh_S_intrapariet&P_trans_thickness_error',\n",
    " 'lh_G_cingul-Post-ventral_thickness_error',\n",
    " 'lh_G&S_cingul-Mid-Post_thickness_error',\n",
    " 'lh_Pole_temporal_thickness_error',\n",
    " 'rh_G&S_frontomargin_thickness_error',\n",
    " 'lh_Lat_Fis-post_thickness_error',\n",
    " 'rh_G_front_middle_thickness_error',\n",
    " 'rh_S_postcentral_thickness_error',\n",
    " 'rh_G_precentral_thickness_error',\n",
    " 'lh_G&S_frontomargin_thickness_error',\n",
    " 'rh_S_temporal_inf_thickness_error',\n",
    " 'rh_S_cingul-Marginalis_thickness_error',\n",
    " 'rh_S_central_thickness_error',\n",
    " 'lh_G_cuneus_thickness_error',\n",
    " 'lh_G_insular_short_thickness_error',\n",
    " 'rh_Lat_Fis-ant-Vertical_thickness_error',\n",
    " 'rh_G_cingul-Post-dorsal_thickness_error',\n",
    " 'lh_S_precentral-sup-part_thickness_error',\n",
    " 'lh_S_cingul-Marginalis_thickness_error',\n",
    " 'rh_G_front_inf-Triangul_thickness_error',\n",
    " 'rh_G_front_inf-Opercular_thickness_error',\n",
    " 'lh_S_temporal_inf_thickness_error',\n",
    " 'rh_G&S_occipital_inf_thickness_error',\n",
    " 'lh_S_orbital_lateral_thickness_error',\n",
    " 'rh_G_pariet_inf-Supramar_thickness_error',\n",
    " 'rh_G&S_paracentral_thickness_error',\n",
    " 'lh_S_collat_transv_post_thickness_error',\n",
    " 'lh_G_occipital_sup_thickness_error',\n",
    " 'lh_S_calcarine_thickness_error',\n",
    " 'lh_G_oc-temp_lat-fusifor_thickness_error',\n",
    " 'rh_G&S_cingul-Mid-Post_thickness_error',\n",
    " 'lh_S_oc-temp_lat_thickness_error',\n",
    " 'lh_S_subparietal_thickness_error',\n",
    " 'rh_G_occipital_middle_thickness_error',\n",
    " 'rh_S_interm_prim-Jensen_thickness_error',\n",
    " 'lh_G_front_middle_thickness_error',\n",
    " 'lh_G_precuneus_thickness_error',\n",
    " 'lh_S_oc-temp_med&Lingual_thickness_error',\n",
    " 'lh_G_pariet_inf-Angular_thickness_error',\n",
    " 'lh_G_precentral_thickness_error',\n",
    " 'rh_S_intrapariet&P_trans_thickness_error',\n",
    " 'rh_G_cingul-Post-ventral_thickness_error',\n",
    " 'lh_S_orbital_med-olfact_thickness_error',\n",
    " 'lh_G_postcentral_thickness_error',\n",
    " 'rh_Lat_Fis-post_thickness_error',\n",
    " 'lh_G_oc-temp_med-Lingual_thickness_error',\n",
    " 'rh_G_temp_sup-Plan_tempo_thickness_error',\n",
    " 'lh_S_circular_insula_sup_thickness_error',\n",
    " 'lh_G_oc-temp_med-Parahip_thickness_error',\n",
    " 'lh_G&S_transv_frontopol_thickness_error',\n",
    " 'rh_S_front_sup_thickness_error',\n",
    " 'lh_G_temporal_inf_thickness_error',\n",
    " 'lh_G_temp_sup-Lateral_thickness_error',\n",
    " 'lh_G&S_cingul-Mid-Ant_thickness_error',\n",
    " 'rh_G_parietal_sup_thickness_error',\n",
    " 'lh_S_orbital-H_Shaped_thickness_error',\n",
    " 'lh_S_front_middle_thickness_error',\n",
    " 'rh_G_front_sup_thickness_error',\n",
    " 'lh_G&S_subcentral_thickness_error',\n",
    " 'rh_G_orbital_thickness_error',\n",
    " 'rh_G_subcallosal_thickness_error',\n",
    " 'lh_S_front_inf_thickness_error',\n",
    " 'lh_G_front_inf-Opercular_thickness_error',\n",
    " 'rh_S_front_middle_thickness_error',\n",
    " 'lh_G_parietal_sup_thickness_error',\n",
    " 'rh_S_precentral-sup-part_thickness_error',\n",
    " 'lh_S_oc_sup&transversal_thickness_error',\n",
    " 'rh_G&S_subcentral_thickness_error',\n",
    " 'rh_S_orbital-H_Shaped_thickness_error',\n",
    " 'rh_G&S_cingul-Mid-Ant_thickness_error',\n",
    " 'rh_G_temp_sup-Lateral_thickness_error',\n",
    " 'lh_G_pariet_inf-Supramar_thickness_error',\n",
    " 'rh_G_rectus_thickness_error',\n",
    " 'rh_G_oc-temp_lat-fusifor_thickness_error',\n",
    " 'rh_S_oc-temp_med&Lingual_thickness_error',\n",
    " 'rh_G_temporal_inf_thickness_error',\n",
    " 'lh_S_occipital_ant_thickness_error',\n",
    " 'lh_G&S_occipital_inf_thickness_error',\n",
    " 'rh_Lat_Fis-ant-Horizont_thickness_error',\n",
    " 'rh_S_orbital_lateral_thickness_error',\n",
    " 'lh_Lat_Fis-ant-Vertical_thickness_error',\n",
    " 'lh_G_cingul-Post-dorsal_thickness_error',\n",
    " 'lh_S_central_thickness_error',\n",
    " 'lh_G_front_inf-Orbital_thickness_error',\n",
    " 'rh_G_insular_short_thickness_error',\n",
    " 'lh_S_temporal_sup_thickness_error',\n",
    " 'rh_G_postcentral_thickness_error',\n",
    " 'rh_G_cuneus_thickness_error',\n",
    " 'lh_G_Ins_lg&S_cent_ins_thickness_error',\n",
    " 'lh_G&S_cingul-Ant_thickness_error',\n",
    " 'lh_S_interm_prim-Jensen_thickness_error',\n",
    " 'lh_G&S_paracentral_thickness_error',\n",
    " 'rh_G_temp_sup-Plan_polar_thickness_error',\n",
    " 'lh_G_temp_sup-G_T_transv_thickness_error',\n",
    " 'rh_G_occipital_sup_thickness_error',\n",
    " 'rh_S_suborbital_thickness_error',\n",
    " 'rh_G&S_cingul-Ant_thickness_error',\n",
    " 'rh_S_circular_insula_ant_thickness_error',\n",
    " 'lh_G_subcallosal_thickness_error',\n",
    " 'lh_G_temporal_middle_thickness_error',\n",
    " 'rh_S_collat_transv_post_thickness_error',\n",
    " 'rh_S_circular_insula_inf_thickness_error',\n",
    " 'rh_S_calcarine_thickness_error',\n",
    " 'lh_S_temporal_transverse_thickness_error',\n",
    " 'rh_G_front_inf-Orbital_thickness_error',\n",
    " 'lh_G_front_inf-Triangul_thickness_error',\n",
    " 'rh_G_precuneus_thickness_error',\n",
    " 'lh_S_precentral-inf-part_thickness_error',\n",
    " 'rh_S_temporal_sup_thickness_error',\n",
    " 'rh_G_Ins_lg&S_cent_ins_thickness_error',\n",
    " 'lh_S_postcentral_thickness_error',\n",
    " 'lh_S_pericallosal_thickness_error',\n",
    " 'rh_S_oc_middle&Lunatus_thickness_error',\n",
    " 'rh_S_collat_transv_ant_thickness_error',\n",
    " 'rh_Pole_temporal_thickness_error',\n",
    " 'lh_S_front_sup_thickness_error',\n",
    " 'lh_Pole_occipital_thickness_error',\n",
    " 'rh_G&S_transv_frontopol_thickness_error',\n",
    " 'rh_G_pariet_inf-Angular_thickness_error',\n",
    " 'lh_G_front_sup_thickness_error',\n",
    " 'lh_S_parieto_occipital_thickness_error',\n",
    " 'rh_S_orbital_med-olfact_thickness_error',\n",
    " 'lh_Lat_Fis-ant-Horizont_thickness_error',\n",
    " 'rh_Pole_occipital_thickness_error',\n",
    " 'rh_S_front_inf_thickness_error',\n",
    " 'rh_G_temp_sup-G_T_transv_thickness_error',\n",
    " 'lh_G_temp_sup-Plan_polar_thickness_error',\n",
    " 'lh_G_rectus_thickness_error',\n",
    " 'lh_S_circular_insula_inf_thickness_error',\n",
    " 'rh_S_parieto_occipital_thickness_error',\n",
    " 'rh_S_occipital_ant_thickness_error',\n",
    " 'lh_S_circular_insula_ant_thickness_error',\n",
    " 'lh_S_suborbital_thickness_error',\n",
    " 'rh_S_oc_sup&transversal_thickness_error',\n",
    " 'rh_S_temporal_transverse_thickness_error',\n",
    " 'rh_S_subparietal_thickness_error',\n",
    " 'lh_G_orbital_thickness_error',\n",
    " 'rh_G_temporal_middle_thickness_error',\n",
    " 'lh_S_collat_transv_ant_thickness_error',\n",
    " 'rh_S_oc-temp_lat_thickness_error',\n",
    " 'rh_S_precentral-inf-part_thickness_error',\n",
    " 'lh_S_oc_middle&Lunatus_thickness_error',\n",
    " 'rh_S_pericallosal_thickness_error'])"
   ]
  },
  {
   "cell_type": "code",
   "execution_count": 886,
   "id": "e7c8e77f-8c2a-4af0-b0d0-c99b8211f5dd",
   "metadata": {
    "tags": []
   },
   "outputs": [],
   "source": [
    "z_long_white = z_long.query('Race == \"White\"')\n",
    "z_long_black = z_long.query('Race == \"Black\"')\n",
    "z_long_asian = z_long.query('Race == \"Asian\"')"
   ]
  },
  {
   "cell_type": "code",
   "execution_count": 887,
   "id": "d116d445-d2ab-4dc7-8c0e-61d0d7e0058c",
   "metadata": {},
   "outputs": [],
   "source": [
    "z_white = Z_df.query('Race == \"White\"')\n",
    "z_black = Z_df.query('Race == \"Black\"')\n",
    "z_asian = Z_df.query('Race == \"Asian\"')"
   ]
  },
  {
   "cell_type": "code",
   "execution_count": 888,
   "id": "7a6bed22-77eb-4793-9525-6c9e940f964b",
   "metadata": {},
   "outputs": [],
   "source": [
    "z_long_white2 = z_long_white.groupby(by='sub_id',as_index=False).mean()"
   ]
  },
  {
   "cell_type": "code",
   "execution_count": 889,
   "id": "21797266-ed80-454b-a4c9-45649a989127",
   "metadata": {},
   "outputs": [],
   "source": [
    "z_long_black2 = z_long_black.groupby(by='sub_id',as_index=False).mean()"
   ]
  },
  {
   "cell_type": "code",
   "execution_count": 890,
   "id": "c2f08707-6754-4016-9655-a726bead84c9",
   "metadata": {},
   "outputs": [],
   "source": [
    "z_long_asian2 = z_long_asian.groupby(by='sub_id',as_index=False).mean()"
   ]
  },
  {
   "cell_type": "code",
   "execution_count": 891,
   "id": "6c23dad3-fc76-413b-a30a-2ab9265f0cb1",
   "metadata": {},
   "outputs": [
    {
     "data": {
      "text/plain": [
       "Ttest_indResult(statistic=-24.411393044507584, pvalue=1.7318413645416136e-72)"
      ]
     },
     "execution_count": 891,
     "metadata": {},
     "output_type": "execute_result"
    }
   ],
   "source": [
    "ttest_ind(z_long_white2['value'], z_long_black2['value'], equal_var=False)"
   ]
  },
  {
   "cell_type": "code",
   "execution_count": 892,
   "id": "a4246b01-192b-4c44-aa82-ed682777b490",
   "metadata": {},
   "outputs": [
    {
     "data": {
      "text/plain": [
       "Ttest_indResult(statistic=-18.12719100148728, pvalue=4.1308766259070583e-29)"
      ]
     },
     "execution_count": 892,
     "metadata": {},
     "output_type": "execute_result"
    }
   ],
   "source": [
    "ttest_ind(z_long_white2['value'], z_long_asian2['value'], equal_var=False)"
   ]
  },
  {
   "cell_type": "code",
   "execution_count": 893,
   "id": "4ed54863-fb47-4d7d-977e-7f96ec7d85ca",
   "metadata": {},
   "outputs": [
    {
     "data": {
      "text/plain": [
       "Ttest_indResult(statistic=-3.0255868122836946, pvalue=0.003369549120064728)"
      ]
     },
     "execution_count": 893,
     "metadata": {},
     "output_type": "execute_result"
    }
   ],
   "source": [
    "ttest_ind(z_long_black2['value'], z_long_asian2['value'], equal_var=False)"
   ]
  },
  {
   "cell_type": "markdown",
   "id": "c26e56b6-9892-4860-a209-9d3a21fd4887",
   "metadata": {
    "id": "AiimUDe6nMUD"
   },
   "source": [
    "### T-Tests on individual ROIs (FDR corrected)"
   ]
  },
  {
   "cell_type": "markdown",
   "id": "61e9564b-e7dc-41b5-8ce0-d8effece3251",
   "metadata": {},
   "source": [
    "### HCP race modeled"
   ]
  },
  {
   "cell_type": "code",
   "execution_count": 894,
   "id": "98b98fd4-23fb-4b54-b219-21382580846a",
   "metadata": {
    "id": "ssVXAgqGnMUD"
   },
   "outputs": [],
   "source": [
    "w_deviations = z_white.loc[:, z_white.columns.str.contains('error')]"
   ]
  },
  {
   "cell_type": "code",
   "execution_count": 895,
   "id": "af54401e-6d4f-48a8-a53b-8ed95f259ed8",
   "metadata": {
    "id": "lqtHyKrrnMUD"
   },
   "outputs": [],
   "source": [
    "b_deviations = z_black.loc[:, z_black.columns.str.contains('error')]"
   ]
  },
  {
   "cell_type": "code",
   "execution_count": 896,
   "id": "765d136e-24fb-4e93-812d-80624462bea8",
   "metadata": {
    "id": "lqtHyKrrnMUD"
   },
   "outputs": [],
   "source": [
    "a_deviations = z_asian.loc[:, z_asian.columns.str.contains('error')]"
   ]
  },
  {
   "cell_type": "code",
   "execution_count": 897,
   "id": "b00ad213-d9d9-4cea-960f-792263593f08",
   "metadata": {
    "id": "BCJpEI8NnMUD"
   },
   "outputs": [],
   "source": [
    "z_cols = w_deviations.columns"
   ]
  },
  {
   "cell_type": "code",
   "execution_count": 898,
   "id": "47b60193-4768-4e7f-b8ba-dac4202f59ca",
   "metadata": {},
   "outputs": [
    {
     "data": {
      "text/plain": [
       "148"
      ]
     },
     "execution_count": 898,
     "metadata": {},
     "output_type": "execute_result"
    }
   ],
   "source": [
    "len(z_cols)"
   ]
  },
  {
   "cell_type": "code",
   "execution_count": 899,
   "id": "9049458f-bac3-46ad-81b1-7b2f8fee4050",
   "metadata": {
    "id": "VdQgUo29nMUD"
   },
   "outputs": [],
   "source": [
    "w_b_pvals_z = pd.DataFrame(columns={'roi','pval', 'tstat','fdr_pval'})\n",
    "for index, column in enumerate(z_cols):\n",
    "    test = ttest_ind(w_deviations[column], b_deviations[column], equal_var=False)\n",
    "    w_b_pvals_z.loc[index, 'pval'] = test.pvalue\n",
    "    w_b_pvals_z.loc[index, 'tstat'] = test.statistic\n",
    "    w_b_pvals_z.loc[index, 'roi'] = column"
   ]
  },
  {
   "cell_type": "code",
   "execution_count": 900,
   "id": "18c90bc5-faa1-4e86-aaf3-31ad4089c546",
   "metadata": {
    "id": "n8JfELPdnMUE"
   },
   "outputs": [],
   "source": [
    "w_b_fdr_z = multitest.fdrcorrection(w_b_pvals_z['pval'], alpha=0.05, method='indep', is_sorted=False)"
   ]
  },
  {
   "cell_type": "code",
   "execution_count": 901,
   "id": "25fbfc27-0aaa-4ef8-a844-52889f5aa31d",
   "metadata": {
    "id": "K5panqSGnMUE"
   },
   "outputs": [],
   "source": [
    "w_b_pvals_z['fdr_pval'] = w_b_fdr_z[1]"
   ]
  },
  {
   "cell_type": "code",
   "execution_count": 902,
   "id": "81c6da84-09f8-4caa-854e-29f7a75e4c56",
   "metadata": {
    "id": "cjZ8HZMYnMUE"
   },
   "outputs": [],
   "source": [
    "w_b_z_sig_diff = w_b_pvals_z.query('fdr_pval < 0.05')"
   ]
  },
  {
   "cell_type": "code",
   "execution_count": 903,
   "id": "ab5d5883-9999-496f-bb19-ba298f06a687",
   "metadata": {
    "colab": {
     "base_uri": "https://localhost:8080/",
     "height": 423
    },
    "id": "F01JkqAwnMUE",
    "outputId": "a117d7cf-dd4f-423a-e23b-66fd060deadd",
    "tags": []
   },
   "outputs": [
    {
     "data": {
      "text/html": [
       "<div>\n",
       "<style scoped>\n",
       "    .dataframe tbody tr th:only-of-type {\n",
       "        vertical-align: middle;\n",
       "    }\n",
       "\n",
       "    .dataframe tbody tr th {\n",
       "        vertical-align: top;\n",
       "    }\n",
       "\n",
       "    .dataframe thead th {\n",
       "        text-align: right;\n",
       "    }\n",
       "</style>\n",
       "<table border=\"1\" class=\"dataframe\">\n",
       "  <thead>\n",
       "    <tr style=\"text-align: right;\">\n",
       "      <th></th>\n",
       "      <th>roi</th>\n",
       "      <th>tstat</th>\n",
       "      <th>fdr_pval</th>\n",
       "      <th>pval</th>\n",
       "    </tr>\n",
       "  </thead>\n",
       "  <tbody>\n",
       "    <tr>\n",
       "      <th>1</th>\n",
       "      <td>lh_G_temp_sup-Plan_tempo_thickness_error</td>\n",
       "      <td>-24.99891</td>\n",
       "      <td>0.0</td>\n",
       "      <td>0.0</td>\n",
       "    </tr>\n",
       "    <tr>\n",
       "      <th>2</th>\n",
       "      <td>rh_G_oc-temp_med-Parahip_thickness_error</td>\n",
       "      <td>-51.935149</td>\n",
       "      <td>0.0</td>\n",
       "      <td>0.0</td>\n",
       "    </tr>\n",
       "    <tr>\n",
       "      <th>3</th>\n",
       "      <td>lh_G_occipital_middle_thickness_error</td>\n",
       "      <td>-72.240345</td>\n",
       "      <td>0.0</td>\n",
       "      <td>0.0</td>\n",
       "    </tr>\n",
       "    <tr>\n",
       "      <th>5</th>\n",
       "      <td>lh_S_intrapariet&amp;P_trans_thickness_error</td>\n",
       "      <td>-9.680515</td>\n",
       "      <td>0.0</td>\n",
       "      <td>0.0</td>\n",
       "    </tr>\n",
       "    <tr>\n",
       "      <th>6</th>\n",
       "      <td>lh_G_cingul-Post-ventral_thickness_error</td>\n",
       "      <td>7.545568</td>\n",
       "      <td>0.0</td>\n",
       "      <td>0.0</td>\n",
       "    </tr>\n",
       "    <tr>\n",
       "      <th>...</th>\n",
       "      <td>...</td>\n",
       "      <td>...</td>\n",
       "      <td>...</td>\n",
       "      <td>...</td>\n",
       "    </tr>\n",
       "    <tr>\n",
       "      <th>137</th>\n",
       "      <td>lh_S_suborbital_thickness_error</td>\n",
       "      <td>4.023426</td>\n",
       "      <td>0.000157</td>\n",
       "      <td>0.000073</td>\n",
       "    </tr>\n",
       "    <tr>\n",
       "      <th>139</th>\n",
       "      <td>rh_S_temporal_transverse_thickness_error</td>\n",
       "      <td>-7.923039</td>\n",
       "      <td>0.0</td>\n",
       "      <td>0.0</td>\n",
       "    </tr>\n",
       "    <tr>\n",
       "      <th>141</th>\n",
       "      <td>lh_G_orbital_thickness_error</td>\n",
       "      <td>-19.938419</td>\n",
       "      <td>0.0</td>\n",
       "      <td>0.0</td>\n",
       "    </tr>\n",
       "    <tr>\n",
       "      <th>146</th>\n",
       "      <td>lh_S_oc_middle&amp;Lunatus_thickness_error</td>\n",
       "      <td>-73.323278</td>\n",
       "      <td>0.0</td>\n",
       "      <td>0.0</td>\n",
       "    </tr>\n",
       "    <tr>\n",
       "      <th>147</th>\n",
       "      <td>rh_S_pericallosal_thickness_error</td>\n",
       "      <td>8.86497</td>\n",
       "      <td>0.0</td>\n",
       "      <td>0.0</td>\n",
       "    </tr>\n",
       "  </tbody>\n",
       "</table>\n",
       "<p>80 rows × 4 columns</p>\n",
       "</div>"
      ],
      "text/plain": [
       "                                          roi      tstat  fdr_pval      pval\n",
       "1    lh_G_temp_sup-Plan_tempo_thickness_error  -24.99891       0.0       0.0\n",
       "2    rh_G_oc-temp_med-Parahip_thickness_error -51.935149       0.0       0.0\n",
       "3       lh_G_occipital_middle_thickness_error -72.240345       0.0       0.0\n",
       "5    lh_S_intrapariet&P_trans_thickness_error  -9.680515       0.0       0.0\n",
       "6    lh_G_cingul-Post-ventral_thickness_error   7.545568       0.0       0.0\n",
       "..                                        ...        ...       ...       ...\n",
       "137           lh_S_suborbital_thickness_error   4.023426  0.000157  0.000073\n",
       "139  rh_S_temporal_transverse_thickness_error  -7.923039       0.0       0.0\n",
       "141              lh_G_orbital_thickness_error -19.938419       0.0       0.0\n",
       "146    lh_S_oc_middle&Lunatus_thickness_error -73.323278       0.0       0.0\n",
       "147         rh_S_pericallosal_thickness_error    8.86497       0.0       0.0\n",
       "\n",
       "[80 rows x 4 columns]"
      ]
     },
     "execution_count": 903,
     "metadata": {},
     "output_type": "execute_result"
    }
   ],
   "source": [
    "w_b_z_sig_diff"
   ]
  },
  {
   "cell_type": "code",
   "execution_count": 904,
   "id": "b864d7a8-8938-45e7-8d12-8bc5c4eda1de",
   "metadata": {
    "colab": {
     "base_uri": "https://localhost:8080/"
    },
    "id": "170sEtkynMUE",
    "outputId": "7b601d8d-c73e-44ba-a523-4eddb6dea46b"
   },
   "outputs": [
    {
     "data": {
      "text/plain": [
       "(80, 4)"
      ]
     },
     "execution_count": 904,
     "metadata": {},
     "output_type": "execute_result"
    }
   ],
   "source": [
    "w_b_z_sig_diff.shape"
   ]
  },
  {
   "cell_type": "code",
   "execution_count": 905,
   "id": "1461b67a-7560-4380-8092-a828c85dca85",
   "metadata": {
    "tags": []
   },
   "outputs": [
    {
     "name": "stderr",
     "output_type": "stream",
     "text": [
      "/var/folders/xx/1xs7sc795_nf7k125153b6qh0000gn/T/ipykernel_2210/4047360363.py:1: SettingWithCopyWarning: \n",
      "A value is trying to be set on a copy of a slice from a DataFrame.\n",
      "Try using .loc[row_indexer,col_indexer] = value instead\n",
      "\n",
      "See the caveats in the documentation: https://pandas.pydata.org/pandas-docs/stable/user_guide/indexing.html#returning-a-view-versus-a-copy\n",
      "  w_b_z_sig_diff['roi'] = w_b_z_sig_diff['roi'].str.replace('_thickness_error', '', regex=True)\n",
      "/var/folders/xx/1xs7sc795_nf7k125153b6qh0000gn/T/ipykernel_2210/4047360363.py:2: SettingWithCopyWarning: \n",
      "A value is trying to be set on a copy of a slice from a DataFrame.\n",
      "Try using .loc[row_indexer,col_indexer] = value instead\n",
      "\n",
      "See the caveats in the documentation: https://pandas.pydata.org/pandas-docs/stable/user_guide/indexing.html#returning-a-view-versus-a-copy\n",
      "  w_b_z_sig_diff['roi'] = w_b_z_sig_diff['roi'].str.replace('G&S', 'G_and_S', regex=True)\n"
     ]
    }
   ],
   "source": [
    "w_b_z_sig_diff['roi'] = w_b_z_sig_diff['roi'].str.replace('_thickness_error', '', regex=True)\n",
    "w_b_z_sig_diff['roi'] = w_b_z_sig_diff['roi'].str.replace('G&S', 'G_and_S', regex=True)"
   ]
  },
  {
   "cell_type": "code",
   "execution_count": 906,
   "id": "0f4b6ef6-fce7-4359-85fd-b44c5161463c",
   "metadata": {
    "tags": []
   },
   "outputs": [
    {
     "name": "stderr",
     "output_type": "stream",
     "text": [
      "/opt/anaconda3/envs/braincharts/lib/python3.9/site-packages/pandas/core/frame.py:3641: SettingWithCopyWarning: \n",
      "A value is trying to be set on a copy of a slice from a DataFrame.\n",
      "Try using .loc[row_indexer,col_indexer] = value instead\n",
      "\n",
      "See the caveats in the documentation: https://pandas.pydata.org/pandas-docs/stable/user_guide/indexing.html#returning-a-view-versus-a-copy\n",
      "  self[k1] = value[k2]\n"
     ]
    }
   ],
   "source": [
    "w_b_z_sig_diff[['temp1', 'temp2']] = w_b_z_sig_diff['roi'].str.split(pat=\"_\", n=1, expand=True)"
   ]
  },
  {
   "cell_type": "code",
   "execution_count": 907,
   "id": "a25c5778-c1d1-4d77-8245-ffb2c6d165f1",
   "metadata": {
    "tags": []
   },
   "outputs": [
    {
     "name": "stderr",
     "output_type": "stream",
     "text": [
      "/opt/anaconda3/envs/braincharts/lib/python3.9/site-packages/pandas/core/generic.py:5516: SettingWithCopyWarning: \n",
      "A value is trying to be set on a copy of a slice from a DataFrame.\n",
      "Try using .loc[row_indexer,col_indexer] = value instead\n",
      "\n",
      "See the caveats in the documentation: https://pandas.pydata.org/pandas-docs/stable/user_guide/indexing.html#returning-a-view-versus-a-copy\n",
      "  self[name] = value\n"
     ]
    }
   ],
   "source": [
    "w_b_z_sig_diff.temp1 = w_b_z_sig_diff.temp1.apply(lambda x: 'left' if 'lh' in x else x)"
   ]
  },
  {
   "cell_type": "code",
   "execution_count": 908,
   "id": "daee3ee2-dbc9-47d5-90b6-8652d5cb5790",
   "metadata": {},
   "outputs": [],
   "source": [
    "w_b_z_sig_diff.temp1 = w_b_z_sig_diff.temp1.apply(lambda x: 'right' if 'rh' in x else x)"
   ]
  },
  {
   "cell_type": "code",
   "execution_count": 909,
   "id": "1d68b853-ea47-4203-8d24-bc4a5949ba33",
   "metadata": {},
   "outputs": [],
   "source": [
    "df = w_b_z_sig_diff[w_b_z_sig_diff[\"temp1\"].str.contains('left|right')]"
   ]
  },
  {
   "cell_type": "code",
   "execution_count": 910,
   "id": "2397af22-2a40-4970-98e0-6b3c2c6d148f",
   "metadata": {},
   "outputs": [],
   "source": [
    "df['hemi'] = df['temp1']"
   ]
  },
  {
   "cell_type": "code",
   "execution_count": 911,
   "id": "f20edde7-08f1-4ae2-8418-e6de72e9ca81",
   "metadata": {},
   "outputs": [],
   "source": [
    "df['ROI'] = df['temp2']"
   ]
  },
  {
   "cell_type": "code",
   "execution_count": 912,
   "id": "864c82a0-0532-41ff-8c3c-863eb1be2c3e",
   "metadata": {},
   "outputs": [
    {
     "data": {
      "text/plain": [
       "Index(['roi', 'tstat', 'fdr_pval', 'pval', 'temp1', 'temp2', 'hemi', 'ROI'], dtype='object')"
      ]
     },
     "execution_count": 912,
     "metadata": {},
     "output_type": "execute_result"
    }
   ],
   "source": [
    "df.columns"
   ]
  },
  {
   "cell_type": "code",
   "execution_count": 913,
   "id": "404d6652-ab32-465d-9dbd-45fce030044c",
   "metadata": {},
   "outputs": [],
   "source": [
    "df = df[['tstat', 'fdr_pval', 'hemi', 'ROI']]"
   ]
  },
  {
   "cell_type": "code",
   "execution_count": 914,
   "id": "4805d31c-9c14-40ea-a465-18cf6df6cc16",
   "metadata": {},
   "outputs": [],
   "source": [
    "w_b_z_sig_diff = df"
   ]
  },
  {
   "cell_type": "code",
   "execution_count": 915,
   "id": "a27698b7-ec45-421b-b7fc-8192db46a8ed",
   "metadata": {
    "tags": []
   },
   "outputs": [],
   "source": [
    "w_b_z_sig_diff_l = w_b_z_sig_diff.query('hemi == \"left\"')\n",
    "w_b_z_sig_diff_r = w_b_z_sig_diff.query('hemi == \"right\"')"
   ]
  },
  {
   "cell_type": "code",
   "execution_count": 916,
   "id": "56e08528-d0e6-4d28-878b-29f254df4f45",
   "metadata": {},
   "outputs": [],
   "source": [
    "nl_w_b_z_sig_diff_l = pd.merge(nl, w_b_z_sig_diff_l, on='ROI', how='left')\n",
    "nl_w_b_z_sig_diff_r = pd.merge(nl, w_b_z_sig_diff_r, on='ROI', how='left')"
   ]
  },
  {
   "cell_type": "code",
   "execution_count": 917,
   "id": "db86d8cc-8ac6-4a1d-8dba-a4381b21f7f0",
   "metadata": {
    "tags": []
   },
   "outputs": [],
   "source": [
    "nl_w_b_z_sig_diff_l['tstat'] = nl_w_b_z_sig_diff_l['tstat'].fillna(0)\n",
    "nl_w_b_z_sig_diff_r['tstat'] = nl_w_b_z_sig_diff_r['tstat'].fillna(0)"
   ]
  },
  {
   "cell_type": "code",
   "execution_count": 918,
   "id": "d1a70ec8-db3c-4783-a104-45913a63bd5e",
   "metadata": {
    "tags": []
   },
   "outputs": [],
   "source": [
    "nl_w_b_z_sig_diff_l = nl_w_b_z_sig_diff_l['tstat'].to_numpy()\n",
    "nl_w_b_z_sig_diff_r = nl_w_b_z_sig_diff_r['tstat'].to_numpy()"
   ]
  },
  {
   "cell_type": "code",
   "execution_count": 919,
   "id": "1da28369-9414-447d-8aa4-a216b181a920",
   "metadata": {},
   "outputs": [],
   "source": [
    "a_list = list(range(1, 76))\n",
    "parcellation_l = atlas_l\n",
    "for i, j in enumerate(a_list):\n",
    "    parcellation_l = np.where(parcellation_l == j, nl_w_b_z_sig_diff_l[i], parcellation_l)"
   ]
  },
  {
   "cell_type": "code",
   "execution_count": 920,
   "id": "a8cbe273-86c9-4e03-aae1-05d3f853cc28",
   "metadata": {},
   "outputs": [],
   "source": [
    "a_list = list(range(1, 76))\n",
    "parcellation_r = atlas_r\n",
    "for i, j in enumerate(a_list):\n",
    "    parcellation_r = np.where(parcellation_r == j, nl_w_b_z_sig_diff_r[i], parcellation_r)"
   ]
  },
  {
   "cell_type": "code",
   "execution_count": 921,
   "id": "d594c785-f8d8-41d3-a652-d53f63e9679a",
   "metadata": {},
   "outputs": [],
   "source": [
    "# Positive value == whites have higher error\n",
    "# Negative value == blacks have higher error\n",
    "plotting.plot_surf_roi(fsaverage['infl_left'], roi_map=parcellation_l, hemi='left', cmap='plasma', bg_map=fsaverage['sulc_left'], vmin=-20, vmax=20, view='lateral', output_file='/Users/saigerutherford/Desktop/hcp_racemodeled_WvB_E_l.png');"
   ]
  },
  {
   "cell_type": "code",
   "execution_count": 922,
   "id": "7471aa44-a294-42d9-845b-7b9c3812f2fa",
   "metadata": {},
   "outputs": [],
   "source": [
    "plotting.plot_surf_roi(fsaverage['infl_right'], roi_map=parcellation_r, hemi='right', cmap='plasma', bg_map=fsaverage['sulc_right'], vmin=-20, vmax=20, view='lateral', output_file='/Users/saigerutherford/Desktop/hcp_racemodeled_WvB_E_r.png');"
   ]
  },
  {
   "cell_type": "code",
   "execution_count": 923,
   "id": "9a36f318-564b-458e-ac9e-c3448281c285",
   "metadata": {
    "id": "VdQgUo29nMUD"
   },
   "outputs": [],
   "source": [
    "w_a_pvals_z = pd.DataFrame(columns={'roi','pval', 'tstat','fdr_pval'})\n",
    "for index, column in enumerate(z_cols):\n",
    "    test = ttest_ind(w_deviations[column], a_deviations[column], equal_var=False)\n",
    "    w_a_pvals_z.loc[index, 'pval'] = test.pvalue\n",
    "    w_a_pvals_z.loc[index, 'tstat'] = test.statistic\n",
    "    w_a_pvals_z.loc[index, 'roi'] = column"
   ]
  },
  {
   "cell_type": "code",
   "execution_count": 924,
   "id": "3ac6d81c-e306-48f5-be5a-b7ed28cf940b",
   "metadata": {
    "id": "n8JfELPdnMUE"
   },
   "outputs": [],
   "source": [
    "w_a_fdr_z = multitest.fdrcorrection(w_a_pvals_z['pval'], alpha=0.05, method='indep', is_sorted=False)"
   ]
  },
  {
   "cell_type": "code",
   "execution_count": 925,
   "id": "894550a5-f3cc-4528-bab4-f30f07bf81b4",
   "metadata": {
    "id": "K5panqSGnMUE"
   },
   "outputs": [],
   "source": [
    "w_a_pvals_z['fdr_pval'] = w_a_fdr_z[1]"
   ]
  },
  {
   "cell_type": "code",
   "execution_count": 926,
   "id": "8f7a87ec-54d9-473e-a2b0-84fbd9643c4c",
   "metadata": {
    "id": "cjZ8HZMYnMUE"
   },
   "outputs": [],
   "source": [
    "w_a_z_sig_diff = w_a_pvals_z.query('fdr_pval < 0.05')"
   ]
  },
  {
   "cell_type": "code",
   "execution_count": 927,
   "id": "f9231757-d2b9-42c7-9522-394a4cd06fdf",
   "metadata": {
    "colab": {
     "base_uri": "https://localhost:8080/",
     "height": 423
    },
    "id": "F01JkqAwnMUE",
    "outputId": "a117d7cf-dd4f-423a-e23b-66fd060deadd",
    "tags": []
   },
   "outputs": [
    {
     "data": {
      "text/html": [
       "<div>\n",
       "<style scoped>\n",
       "    .dataframe tbody tr th:only-of-type {\n",
       "        vertical-align: middle;\n",
       "    }\n",
       "\n",
       "    .dataframe tbody tr th {\n",
       "        vertical-align: top;\n",
       "    }\n",
       "\n",
       "    .dataframe thead th {\n",
       "        text-align: right;\n",
       "    }\n",
       "</style>\n",
       "<table border=\"1\" class=\"dataframe\">\n",
       "  <thead>\n",
       "    <tr style=\"text-align: right;\">\n",
       "      <th></th>\n",
       "      <th>roi</th>\n",
       "      <th>tstat</th>\n",
       "      <th>fdr_pval</th>\n",
       "      <th>pval</th>\n",
       "    </tr>\n",
       "  </thead>\n",
       "  <tbody>\n",
       "    <tr>\n",
       "      <th>0</th>\n",
       "      <td>rh_S_circular_insula_sup_thickness_error</td>\n",
       "      <td>-3.246678</td>\n",
       "      <td>0.003197</td>\n",
       "      <td>0.00162</td>\n",
       "    </tr>\n",
       "    <tr>\n",
       "      <th>1</th>\n",
       "      <td>lh_G_temp_sup-Plan_tempo_thickness_error</td>\n",
       "      <td>-15.44058</td>\n",
       "      <td>0.0</td>\n",
       "      <td>0.0</td>\n",
       "    </tr>\n",
       "    <tr>\n",
       "      <th>2</th>\n",
       "      <td>rh_G_oc-temp_med-Parahip_thickness_error</td>\n",
       "      <td>-24.010062</td>\n",
       "      <td>0.0</td>\n",
       "      <td>0.0</td>\n",
       "    </tr>\n",
       "    <tr>\n",
       "      <th>3</th>\n",
       "      <td>lh_G_occipital_middle_thickness_error</td>\n",
       "      <td>-22.219997</td>\n",
       "      <td>0.0</td>\n",
       "      <td>0.0</td>\n",
       "    </tr>\n",
       "    <tr>\n",
       "      <th>5</th>\n",
       "      <td>lh_S_intrapariet&amp;P_trans_thickness_error</td>\n",
       "      <td>-21.169806</td>\n",
       "      <td>0.0</td>\n",
       "      <td>0.0</td>\n",
       "    </tr>\n",
       "    <tr>\n",
       "      <th>...</th>\n",
       "      <td>...</td>\n",
       "      <td>...</td>\n",
       "      <td>...</td>\n",
       "      <td>...</td>\n",
       "    </tr>\n",
       "    <tr>\n",
       "      <th>139</th>\n",
       "      <td>rh_S_temporal_transverse_thickness_error</td>\n",
       "      <td>-4.343861</td>\n",
       "      <td>0.000084</td>\n",
       "      <td>0.000038</td>\n",
       "    </tr>\n",
       "    <tr>\n",
       "      <th>141</th>\n",
       "      <td>lh_G_orbital_thickness_error</td>\n",
       "      <td>-5.445816</td>\n",
       "      <td>0.000002</td>\n",
       "      <td>0.000001</td>\n",
       "    </tr>\n",
       "    <tr>\n",
       "      <th>143</th>\n",
       "      <td>lh_S_collat_transv_ant_thickness_error</td>\n",
       "      <td>-3.751229</td>\n",
       "      <td>0.000679</td>\n",
       "      <td>0.00034</td>\n",
       "    </tr>\n",
       "    <tr>\n",
       "      <th>146</th>\n",
       "      <td>lh_S_oc_middle&amp;Lunatus_thickness_error</td>\n",
       "      <td>-69.651807</td>\n",
       "      <td>0.0</td>\n",
       "      <td>0.0</td>\n",
       "    </tr>\n",
       "    <tr>\n",
       "      <th>147</th>\n",
       "      <td>rh_S_pericallosal_thickness_error</td>\n",
       "      <td>11.266679</td>\n",
       "      <td>0.0</td>\n",
       "      <td>0.0</td>\n",
       "    </tr>\n",
       "  </tbody>\n",
       "</table>\n",
       "<p>81 rows × 4 columns</p>\n",
       "</div>"
      ],
      "text/plain": [
       "                                          roi      tstat  fdr_pval      pval\n",
       "0    rh_S_circular_insula_sup_thickness_error  -3.246678  0.003197   0.00162\n",
       "1    lh_G_temp_sup-Plan_tempo_thickness_error  -15.44058       0.0       0.0\n",
       "2    rh_G_oc-temp_med-Parahip_thickness_error -24.010062       0.0       0.0\n",
       "3       lh_G_occipital_middle_thickness_error -22.219997       0.0       0.0\n",
       "5    lh_S_intrapariet&P_trans_thickness_error -21.169806       0.0       0.0\n",
       "..                                        ...        ...       ...       ...\n",
       "139  rh_S_temporal_transverse_thickness_error  -4.343861  0.000084  0.000038\n",
       "141              lh_G_orbital_thickness_error  -5.445816  0.000002  0.000001\n",
       "143    lh_S_collat_transv_ant_thickness_error  -3.751229  0.000679   0.00034\n",
       "146    lh_S_oc_middle&Lunatus_thickness_error -69.651807       0.0       0.0\n",
       "147         rh_S_pericallosal_thickness_error  11.266679       0.0       0.0\n",
       "\n",
       "[81 rows x 4 columns]"
      ]
     },
     "execution_count": 927,
     "metadata": {},
     "output_type": "execute_result"
    }
   ],
   "source": [
    "w_a_z_sig_diff"
   ]
  },
  {
   "cell_type": "code",
   "execution_count": 928,
   "id": "a2195699-967d-4872-8cdf-21b3d6035769",
   "metadata": {
    "colab": {
     "base_uri": "https://localhost:8080/"
    },
    "id": "170sEtkynMUE",
    "outputId": "7b601d8d-c73e-44ba-a523-4eddb6dea46b"
   },
   "outputs": [
    {
     "data": {
      "text/plain": [
       "(81, 4)"
      ]
     },
     "execution_count": 928,
     "metadata": {},
     "output_type": "execute_result"
    }
   ],
   "source": [
    "w_a_z_sig_diff.shape"
   ]
  },
  {
   "cell_type": "code",
   "execution_count": 929,
   "id": "4513f530-1d32-4ba2-b667-4f550037af23",
   "metadata": {
    "tags": []
   },
   "outputs": [
    {
     "name": "stderr",
     "output_type": "stream",
     "text": [
      "/var/folders/xx/1xs7sc795_nf7k125153b6qh0000gn/T/ipykernel_2210/1699425025.py:1: SettingWithCopyWarning: \n",
      "A value is trying to be set on a copy of a slice from a DataFrame.\n",
      "Try using .loc[row_indexer,col_indexer] = value instead\n",
      "\n",
      "See the caveats in the documentation: https://pandas.pydata.org/pandas-docs/stable/user_guide/indexing.html#returning-a-view-versus-a-copy\n",
      "  w_a_z_sig_diff['roi'] = w_a_z_sig_diff['roi'].str.replace('_thickness_error', '', regex=True)\n",
      "/var/folders/xx/1xs7sc795_nf7k125153b6qh0000gn/T/ipykernel_2210/1699425025.py:2: SettingWithCopyWarning: \n",
      "A value is trying to be set on a copy of a slice from a DataFrame.\n",
      "Try using .loc[row_indexer,col_indexer] = value instead\n",
      "\n",
      "See the caveats in the documentation: https://pandas.pydata.org/pandas-docs/stable/user_guide/indexing.html#returning-a-view-versus-a-copy\n",
      "  w_a_z_sig_diff['roi'] = w_a_z_sig_diff['roi'].str.replace('G&S', 'G_and_S', regex=True)\n"
     ]
    }
   ],
   "source": [
    "w_a_z_sig_diff['roi'] = w_a_z_sig_diff['roi'].str.replace('_thickness_error', '', regex=True)\n",
    "w_a_z_sig_diff['roi'] = w_a_z_sig_diff['roi'].str.replace('G&S', 'G_and_S', regex=True)"
   ]
  },
  {
   "cell_type": "code",
   "execution_count": 930,
   "id": "5951997a-792f-4168-bf30-042ccda9dda2",
   "metadata": {
    "tags": []
   },
   "outputs": [
    {
     "name": "stderr",
     "output_type": "stream",
     "text": [
      "/opt/anaconda3/envs/braincharts/lib/python3.9/site-packages/pandas/core/frame.py:3641: SettingWithCopyWarning: \n",
      "A value is trying to be set on a copy of a slice from a DataFrame.\n",
      "Try using .loc[row_indexer,col_indexer] = value instead\n",
      "\n",
      "See the caveats in the documentation: https://pandas.pydata.org/pandas-docs/stable/user_guide/indexing.html#returning-a-view-versus-a-copy\n",
      "  self[k1] = value[k2]\n"
     ]
    }
   ],
   "source": [
    "w_a_z_sig_diff[['temp1', 'temp2']] = w_a_z_sig_diff['roi'].str.split(pat=\"_\", n=1, expand=True)"
   ]
  },
  {
   "cell_type": "code",
   "execution_count": 931,
   "id": "0484b226-73ef-4192-b635-498efabe9622",
   "metadata": {
    "tags": []
   },
   "outputs": [
    {
     "name": "stderr",
     "output_type": "stream",
     "text": [
      "/opt/anaconda3/envs/braincharts/lib/python3.9/site-packages/pandas/core/generic.py:5516: SettingWithCopyWarning: \n",
      "A value is trying to be set on a copy of a slice from a DataFrame.\n",
      "Try using .loc[row_indexer,col_indexer] = value instead\n",
      "\n",
      "See the caveats in the documentation: https://pandas.pydata.org/pandas-docs/stable/user_guide/indexing.html#returning-a-view-versus-a-copy\n",
      "  self[name] = value\n"
     ]
    }
   ],
   "source": [
    "w_a_z_sig_diff.temp1 = w_a_z_sig_diff.temp1.apply(lambda x: 'left' if 'lh' in x else x)"
   ]
  },
  {
   "cell_type": "code",
   "execution_count": 932,
   "id": "cd219b1d-3eee-4f8b-ba81-b8ee0d58ceba",
   "metadata": {},
   "outputs": [],
   "source": [
    "w_a_z_sig_diff.temp1 = w_a_z_sig_diff.temp1.apply(lambda x: 'right' if 'rh' in x else x)"
   ]
  },
  {
   "cell_type": "code",
   "execution_count": 933,
   "id": "0028d797-b8bb-4e9f-93aa-345ba9b2b912",
   "metadata": {},
   "outputs": [],
   "source": [
    "df = w_a_z_sig_diff[w_a_z_sig_diff[\"temp1\"].str.contains('left|right')]"
   ]
  },
  {
   "cell_type": "code",
   "execution_count": 934,
   "id": "d8ca8a40-e977-42f9-a041-db4c223910b6",
   "metadata": {},
   "outputs": [],
   "source": [
    "df['hemi'] = df['temp1']"
   ]
  },
  {
   "cell_type": "code",
   "execution_count": 935,
   "id": "874bc4df-25b1-45ab-93f2-65868a9bc855",
   "metadata": {},
   "outputs": [],
   "source": [
    "df['ROI'] = df['temp2']"
   ]
  },
  {
   "cell_type": "code",
   "execution_count": 936,
   "id": "881b8647-077f-46ba-acdd-1217df488c2c",
   "metadata": {},
   "outputs": [
    {
     "data": {
      "text/plain": [
       "Index(['roi', 'tstat', 'fdr_pval', 'pval', 'temp1', 'temp2', 'hemi', 'ROI'], dtype='object')"
      ]
     },
     "execution_count": 936,
     "metadata": {},
     "output_type": "execute_result"
    }
   ],
   "source": [
    "df.columns"
   ]
  },
  {
   "cell_type": "code",
   "execution_count": 937,
   "id": "7e0ed573-ccc9-423f-b67b-4e0227746214",
   "metadata": {},
   "outputs": [],
   "source": [
    "df = df[['tstat', 'fdr_pval', 'hemi', 'ROI']]"
   ]
  },
  {
   "cell_type": "code",
   "execution_count": 938,
   "id": "faa8a610-214f-4d5c-b623-8790c467d6cd",
   "metadata": {},
   "outputs": [],
   "source": [
    "w_a_z_sig_diff = df"
   ]
  },
  {
   "cell_type": "code",
   "execution_count": 939,
   "id": "e50f5167-6014-4084-8f9f-41c9bfa72091",
   "metadata": {
    "tags": []
   },
   "outputs": [],
   "source": [
    "w_a_z_sig_diff_l = w_a_z_sig_diff.query('hemi == \"left\"')\n",
    "w_a_z_sig_diff_r = w_a_z_sig_diff.query('hemi == \"right\"')"
   ]
  },
  {
   "cell_type": "code",
   "execution_count": 940,
   "id": "4a6aa534-681d-45ca-aa6d-001bde8562d3",
   "metadata": {},
   "outputs": [],
   "source": [
    "nl_w_a_z_sig_diff_l = pd.merge(nl, w_a_z_sig_diff_l, on='ROI', how='left')\n",
    "nl_w_a_z_sig_diff_r = pd.merge(nl, w_a_z_sig_diff_r, on='ROI', how='left')"
   ]
  },
  {
   "cell_type": "code",
   "execution_count": 941,
   "id": "2dc8348d-80d8-4c0e-bbc7-a3419326794e",
   "metadata": {
    "tags": []
   },
   "outputs": [],
   "source": [
    "nl_w_a_z_sig_diff_l['tstat'] = nl_w_a_z_sig_diff_l['tstat'].fillna(0)\n",
    "nl_w_a_z_sig_diff_r['tstat'] = nl_w_a_z_sig_diff_r['tstat'].fillna(0)"
   ]
  },
  {
   "cell_type": "code",
   "execution_count": 942,
   "id": "164a3a08-cbf2-439d-a4ab-2fb5c503e456",
   "metadata": {
    "tags": []
   },
   "outputs": [],
   "source": [
    "nl_w_a_z_sig_diff_l = nl_w_a_z_sig_diff_l['tstat'].to_numpy()\n",
    "nl_w_a_z_sig_diff_r = nl_w_a_z_sig_diff_r['tstat'].to_numpy()"
   ]
  },
  {
   "cell_type": "code",
   "execution_count": 943,
   "id": "e077d3e8-1c8f-4c2d-9226-5b0f6e095240",
   "metadata": {},
   "outputs": [],
   "source": [
    "a_list = list(range(1, 76))\n",
    "parcellation_l = atlas_l\n",
    "for i, j in enumerate(a_list):\n",
    "    parcellation_l = np.where(parcellation_l == j, nl_w_a_z_sig_diff_l[i], parcellation_l)"
   ]
  },
  {
   "cell_type": "code",
   "execution_count": 944,
   "id": "ef8cf991-0a6f-40a8-9150-1130e4b93332",
   "metadata": {},
   "outputs": [],
   "source": [
    "a_list = list(range(1, 76))\n",
    "parcellation_r = atlas_r\n",
    "for i, j in enumerate(a_list):\n",
    "    parcellation_r = np.where(parcellation_r == j, nl_w_a_z_sig_diff_r[i], parcellation_r)"
   ]
  },
  {
   "cell_type": "code",
   "execution_count": 945,
   "id": "4278dd3f-8974-4b77-a9dd-5560d76fd62f",
   "metadata": {},
   "outputs": [],
   "source": [
    "# Positive value == whites have higher error\n",
    "# Negative value == blacks have higher error\n",
    "plotting.plot_surf_roi(fsaverage['infl_left'], roi_map=parcellation_l, hemi='left', cmap='plasma', bg_map=fsaverage['sulc_left'], vmin=-20, vmax=20, view='lateral', output_file='/Users/saigerutherford/Desktop/hcp_racemodeled_WvA_E_l.png');"
   ]
  },
  {
   "cell_type": "code",
   "execution_count": 946,
   "id": "9b26143f-7525-4189-acf5-b257e0f7f4f4",
   "metadata": {},
   "outputs": [],
   "source": [
    "plotting.plot_surf_roi(fsaverage['infl_right'], roi_map=parcellation_r, hemi='right', cmap='plasma', bg_map=fsaverage['sulc_right'], vmin=-20, vmax=20, view='lateral', output_file='/Users/saigerutherford/Desktop/hcp_racemodeled_WvA_E_r.png');"
   ]
  },
  {
   "cell_type": "markdown",
   "id": "6e6b4e6e-ad09-4105-828d-d268d6845e8e",
   "metadata": {},
   "source": [
    "### T-Tests on group mean and variance (across all ROIs)"
   ]
  },
  {
   "cell_type": "markdown",
   "id": "bfae0dea-323b-4d62-9ba5-4b254d5fbf59",
   "metadata": {},
   "source": [
    "### HCP pretrained"
   ]
  },
  {
   "cell_type": "code",
   "execution_count": 811,
   "id": "ddb4fdbc-90c4-4f55-bc93-3b354ce51a80",
   "metadata": {
    "id": "ae932714-60c3-4a36-8b72-cd9086a25761"
   },
   "outputs": [],
   "source": [
    "E_df = pd.read_csv('/Users/saigerutherford/Documents/Work/drive-download-20220731T221458Z-001/lifespan_big_controls_resample_0_te_errors.csv', low_memory=False)"
   ]
  },
  {
   "cell_type": "code",
   "execution_count": 812,
   "id": "8179fe56-73eb-459c-a08b-eb8859f19ba5",
   "metadata": {},
   "outputs": [],
   "source": [
    "Z_df = pd.read_csv('/Users/saigerutherford/Documents/Work/drive-download-20220731T221458Z-001/pretrained_nm_z_demos_hcp.csv')"
   ]
  },
  {
   "cell_type": "code",
   "execution_count": 813,
   "id": "2a1abfc0-782e-4a94-9452-f74b58afbb2f",
   "metadata": {},
   "outputs": [],
   "source": [
    "Z_df = Z_df.filter(items=['Race', 'sub_id'])"
   ]
  },
  {
   "cell_type": "code",
   "execution_count": 814,
   "id": "c0dd92d8-6ac4-449e-90a3-470a45ecd4ce",
   "metadata": {},
   "outputs": [],
   "source": [
    "Z_df = pd.merge(E_df, Z_df, how='inner')"
   ]
  },
  {
   "cell_type": "code",
   "execution_count": 815,
   "id": "f6bd3f9c-7d9c-4ee0-8ae8-8c4d09ddb374",
   "metadata": {
    "executionInfo": {
     "elapsed": 257,
     "status": "ok",
     "timestamp": 1687449325721,
     "user": {
      "displayName": "Saige Rutherford",
      "userId": "09510631870783055479"
     },
     "user_tz": -120
    },
    "id": "5649160f-708d-46ed-9760-29f9c3fb8b18",
    "jupyter": {
     "source_hidden": true
    },
    "tags": []
   },
   "outputs": [],
   "source": [
    "z_long = Z_df.melt(id_vars=['sub_id','Race'],\n",
    "                  value_vars=['rh_S_circular_insula_sup_thickness_error',\n",
    " 'lh_G_temp_sup-Plan_tempo_thickness_error',\n",
    " 'rh_G_oc-temp_med-Parahip_thickness_error',\n",
    " 'lh_G_occipital_middle_thickness_error',\n",
    " 'rh_G_oc-temp_med-Lingual_thickness_error',\n",
    " 'lh_S_intrapariet&P_trans_thickness_error',\n",
    " 'lh_G_cingul-Post-ventral_thickness_error',\n",
    " 'lh_G&S_cingul-Mid-Post_thickness_error',\n",
    " 'lh_Pole_temporal_thickness_error',\n",
    " 'rh_G&S_frontomargin_thickness_error',\n",
    " 'lh_Lat_Fis-post_thickness_error',\n",
    " 'rh_G_front_middle_thickness_error',\n",
    " 'rh_S_postcentral_thickness_error',\n",
    " 'rh_G_precentral_thickness_error',\n",
    " 'lh_G&S_frontomargin_thickness_error',\n",
    " 'rh_S_temporal_inf_thickness_error',\n",
    " 'rh_S_cingul-Marginalis_thickness_error',\n",
    " 'rh_S_central_thickness_error',\n",
    " 'lh_G_cuneus_thickness_error',\n",
    " 'lh_G_insular_short_thickness_error',\n",
    " 'rh_Lat_Fis-ant-Vertical_thickness_error',\n",
    " 'rh_G_cingul-Post-dorsal_thickness_error',\n",
    " 'lh_S_precentral-sup-part_thickness_error',\n",
    " 'lh_S_cingul-Marginalis_thickness_error',\n",
    " 'rh_MeanThickness_thickness_error',\n",
    " 'rh_G_front_inf-Triangul_thickness_error',\n",
    " 'rh_G_front_inf-Opercular_thickness_error',\n",
    " 'lh_S_temporal_inf_thickness_error',\n",
    " 'rh_G&S_occipital_inf_thickness_error',\n",
    " 'lh_S_orbital_lateral_thickness_error',\n",
    " 'rh_G_pariet_inf-Supramar_thickness_error',\n",
    " 'rh_G&S_paracentral_thickness_error',\n",
    " 'lh_S_collat_transv_post_thickness_error',\n",
    " 'lh_G_occipital_sup_thickness_error',\n",
    " 'lh_S_calcarine_thickness_error',\n",
    " 'lh_G_oc-temp_lat-fusifor_thickness_error',\n",
    " 'rh_G&S_cingul-Mid-Post_thickness_error',\n",
    " 'lh_S_oc-temp_lat_thickness_error',\n",
    " 'lh_S_subparietal_thickness_error',\n",
    " 'rh_G_occipital_middle_thickness_error',\n",
    " 'rh_S_interm_prim-Jensen_thickness_error',\n",
    " 'lh_G_front_middle_thickness_error',\n",
    " 'lh_G_precuneus_thickness_error',\n",
    " 'lh_S_oc-temp_med&Lingual_thickness_error',\n",
    " 'lh_G_pariet_inf-Angular_thickness_error',\n",
    " 'lh_G_precentral_thickness_error',\n",
    " 'rh_S_intrapariet&P_trans_thickness_error',\n",
    " 'rh_G_cingul-Post-ventral_thickness_error',\n",
    " 'lh_S_orbital_med-olfact_thickness_error',\n",
    " 'lh_G_postcentral_thickness_error',\n",
    " 'rh_Lat_Fis-post_thickness_error',\n",
    " 'lh_G_oc-temp_med-Lingual_thickness_error',\n",
    " 'rh_G_temp_sup-Plan_tempo_thickness_error',\n",
    " 'lh_S_circular_insula_sup_thickness_error',\n",
    " 'lh_G_oc-temp_med-Parahip_thickness_error',\n",
    " 'lh_G&S_transv_frontopol_thickness_error',\n",
    " 'rh_S_front_sup_thickness_error',\n",
    " 'lh_G_temporal_inf_thickness_error',\n",
    " 'lh_G_temp_sup-Lateral_thickness_error',\n",
    " 'lh_G&S_cingul-Mid-Ant_thickness_error',\n",
    " 'rh_G_parietal_sup_thickness_error',\n",
    " 'lh_S_orbital-H_Shaped_thickness_error',\n",
    " 'lh_S_front_middle_thickness_error',\n",
    " 'rh_G_front_sup_thickness_error',\n",
    " 'lh_G&S_subcentral_thickness_error',\n",
    " 'rh_G_orbital_thickness_error',\n",
    " 'rh_G_subcallosal_thickness_error',\n",
    " 'lh_S_front_inf_thickness_error',\n",
    " 'lh_G_front_inf-Opercular_thickness_error',\n",
    " 'rh_S_front_middle_thickness_error',\n",
    " 'lh_G_parietal_sup_thickness_error',\n",
    " 'rh_S_precentral-sup-part_thickness_error',\n",
    " 'lh_S_oc_sup&transversal_thickness_error',\n",
    " 'rh_G&S_subcentral_thickness_error',\n",
    " 'rh_S_orbital-H_Shaped_thickness_error',\n",
    " 'rh_G&S_cingul-Mid-Ant_thickness_error',\n",
    " 'rh_G_temp_sup-Lateral_thickness_error',\n",
    " 'lh_G_pariet_inf-Supramar_thickness_error',\n",
    " 'rh_G_rectus_thickness_error',\n",
    " 'rh_G_oc-temp_lat-fusifor_thickness_error',\n",
    " 'rh_S_oc-temp_med&Lingual_thickness_error',\n",
    " 'rh_G_temporal_inf_thickness_error',\n",
    " 'lh_S_occipital_ant_thickness_error',\n",
    " 'lh_G&S_occipital_inf_thickness_error',\n",
    " 'rh_Lat_Fis-ant-Horizont_thickness_error',\n",
    " 'rh_S_orbital_lateral_thickness_error',\n",
    " 'lh_Lat_Fis-ant-Vertical_thickness_error',\n",
    " 'lh_G_cingul-Post-dorsal_thickness_error',\n",
    " 'lh_S_central_thickness_error',\n",
    " 'lh_G_front_inf-Orbital_thickness_error',\n",
    " 'rh_G_insular_short_thickness_error',\n",
    " 'lh_S_temporal_sup_thickness_error',\n",
    " 'rh_G_postcentral_thickness_error',\n",
    " 'rh_G_cuneus_thickness_error',\n",
    " 'lh_G_Ins_lg&S_cent_ins_thickness_error',\n",
    " 'lh_G&S_cingul-Ant_thickness_error',\n",
    " 'lh_S_interm_prim-Jensen_thickness_error',\n",
    " 'lh_G&S_paracentral_thickness_error',\n",
    " 'rh_G_temp_sup-Plan_polar_thickness_error',\n",
    " 'lh_G_temp_sup-G_T_transv_thickness_error',\n",
    " 'rh_G_occipital_sup_thickness_error',\n",
    " 'rh_S_suborbital_thickness_error',\n",
    " 'rh_G&S_cingul-Ant_thickness_error',\n",
    " 'rh_S_circular_insula_ant_thickness_error',\n",
    " 'lh_G_subcallosal_thickness_error',\n",
    " 'lh_G_temporal_middle_thickness_error',\n",
    " 'rh_S_collat_transv_post_thickness_error',\n",
    " 'rh_S_circular_insula_inf_thickness_error',\n",
    " 'rh_S_calcarine_thickness_error',\n",
    " 'lh_S_temporal_transverse_thickness_error',\n",
    " 'rh_G_front_inf-Orbital_thickness_error',\n",
    " 'lh_G_front_inf-Triangul_thickness_error',\n",
    " 'rh_G_precuneus_thickness_error',\n",
    " 'lh_S_precentral-inf-part_thickness_error',\n",
    " 'rh_S_temporal_sup_thickness_error',\n",
    " 'rh_G_Ins_lg&S_cent_ins_thickness_error',\n",
    " 'lh_S_postcentral_thickness_error',\n",
    " 'lh_S_pericallosal_thickness_error',\n",
    " 'rh_S_oc_middle&Lunatus_thickness_error',\n",
    " 'rh_S_collat_transv_ant_thickness_error',\n",
    " 'rh_Pole_temporal_thickness_error',\n",
    " 'lh_S_front_sup_thickness_error',\n",
    " 'lh_Pole_occipital_thickness_error',\n",
    " 'rh_G&S_transv_frontopol_thickness_error',\n",
    " 'rh_G_pariet_inf-Angular_thickness_error',\n",
    " 'lh_G_front_sup_thickness_error',\n",
    " 'lh_S_parieto_occipital_thickness_error',\n",
    " 'rh_S_orbital_med-olfact_thickness_error',\n",
    " 'lh_Lat_Fis-ant-Horizont_thickness_error',\n",
    " 'rh_Pole_occipital_thickness_error',\n",
    " 'rh_S_front_inf_thickness_error',\n",
    " 'rh_G_temp_sup-G_T_transv_thickness_error',\n",
    " 'lh_G_temp_sup-Plan_polar_thickness_error',\n",
    " 'lh_G_rectus_thickness_error',\n",
    " 'lh_S_circular_insula_inf_thickness_error',\n",
    " 'lh_MeanThickness_thickness_error',\n",
    " 'rh_S_parieto_occipital_thickness_error',\n",
    " 'rh_S_occipital_ant_thickness_error',\n",
    " 'lh_S_circular_insula_ant_thickness_error',\n",
    " 'lh_S_suborbital_thickness_error',\n",
    " 'rh_S_oc_sup&transversal_thickness_error',\n",
    " 'rh_S_temporal_transverse_thickness_error',\n",
    " 'rh_S_subparietal_thickness_error',\n",
    " 'lh_G_orbital_thickness_error',\n",
    " 'rh_G_temporal_middle_thickness_error',\n",
    " 'lh_S_collat_transv_ant_thickness_error',\n",
    " 'rh_S_oc-temp_lat_thickness_error',\n",
    " 'rh_S_precentral-inf-part_thickness_error',\n",
    " 'lh_S_oc_middle&Lunatus_thickness_error',\n",
    " 'rh_S_pericallosal_thickness_error'])"
   ]
  },
  {
   "cell_type": "code",
   "execution_count": 816,
   "id": "dac5ce9d-3434-4cc4-a2f8-5b6905990e9f",
   "metadata": {
    "tags": []
   },
   "outputs": [],
   "source": [
    "z_long_white = z_long.query('Race == \"White\"')\n",
    "z_long_black = z_long.query('Race == \"Black\"')\n",
    "z_long_asian = z_long.query('Race == \"Asian\"')"
   ]
  },
  {
   "cell_type": "code",
   "execution_count": 817,
   "id": "6752207a-9aa9-4579-a71b-77862b7efd44",
   "metadata": {},
   "outputs": [],
   "source": [
    "z_white = Z_df.query('Race == \"White\"')\n",
    "z_black = Z_df.query('Race == \"Black\"')\n",
    "z_asian = Z_df.query('Race == \"Asian\"')"
   ]
  },
  {
   "cell_type": "code",
   "execution_count": 818,
   "id": "dcbd4d3e-a986-4d42-919f-7825a904b9fc",
   "metadata": {},
   "outputs": [],
   "source": [
    "z_long_white2 = z_long_white.groupby(by='sub_id',as_index=False).mean()"
   ]
  },
  {
   "cell_type": "code",
   "execution_count": 819,
   "id": "ef94485e-5b52-471d-bd8d-58c20f616da3",
   "metadata": {},
   "outputs": [],
   "source": [
    "z_long_black2 = z_long_black.groupby(by='sub_id',as_index=False).mean()"
   ]
  },
  {
   "cell_type": "code",
   "execution_count": 820,
   "id": "13f05d3e-27d5-45f3-86ff-436517a06838",
   "metadata": {},
   "outputs": [],
   "source": [
    "z_long_asian2 = z_long_asian.groupby(by='sub_id',as_index=False).mean()"
   ]
  },
  {
   "cell_type": "code",
   "execution_count": 821,
   "id": "d89a80f8-b7f4-43b1-9e62-a80fba11d267",
   "metadata": {},
   "outputs": [
    {
     "data": {
      "text/plain": [
       "Ttest_indResult(statistic=2.9467601314481446, pvalue=0.003926456853186229)"
      ]
     },
     "execution_count": 821,
     "metadata": {},
     "output_type": "execute_result"
    }
   ],
   "source": [
    "ttest_ind(z_long_white2['value'], z_long_black2['value'], equal_var=False)"
   ]
  },
  {
   "cell_type": "code",
   "execution_count": 822,
   "id": "defa43a8-ee3f-46eb-b9d3-d51cefba8ea0",
   "metadata": {},
   "outputs": [
    {
     "data": {
      "text/plain": [
       "Ttest_indResult(statistic=4.375538704973993, pvalue=0.00013085382217839928)"
      ]
     },
     "execution_count": 822,
     "metadata": {},
     "output_type": "execute_result"
    }
   ],
   "source": [
    "ttest_ind(z_long_white2['value'], z_long_asian2['value'], equal_var=False)"
   ]
  },
  {
   "cell_type": "code",
   "execution_count": 823,
   "id": "362c927d-d8ba-4ab3-bfb0-458eb99b706e",
   "metadata": {},
   "outputs": [
    {
     "data": {
      "text/plain": [
       "Ttest_indResult(statistic=2.5832012329674265, pvalue=0.013311014303266673)"
      ]
     },
     "execution_count": 823,
     "metadata": {},
     "output_type": "execute_result"
    }
   ],
   "source": [
    "ttest_ind(z_long_black2['value'], z_long_asian2['value'], equal_var=False)"
   ]
  },
  {
   "cell_type": "markdown",
   "id": "ace187bf-31b8-4f50-96a0-d32b07cbc528",
   "metadata": {
    "id": "AiimUDe6nMUD"
   },
   "source": [
    "### T-Tests on individual ROIs (FDR corrected)"
   ]
  },
  {
   "cell_type": "markdown",
   "id": "1634d282-e477-45fe-b044-594f36f237d7",
   "metadata": {},
   "source": [
    "### HCP pretrained"
   ]
  },
  {
   "cell_type": "code",
   "execution_count": 824,
   "id": "53f9c8c3-c323-4761-a576-28815c543e54",
   "metadata": {
    "id": "ssVXAgqGnMUD"
   },
   "outputs": [],
   "source": [
    "w_deviations = z_white.loc[:, z_white.columns.str.contains('error')]"
   ]
  },
  {
   "cell_type": "code",
   "execution_count": 825,
   "id": "ec12d3c3-0f1c-43db-b776-60d459dff0f7",
   "metadata": {
    "id": "lqtHyKrrnMUD"
   },
   "outputs": [],
   "source": [
    "b_deviations = z_black.loc[:, z_black.columns.str.contains('error')]"
   ]
  },
  {
   "cell_type": "code",
   "execution_count": 826,
   "id": "c525a5b0-ccec-4df8-9d73-14dadf490b4e",
   "metadata": {
    "id": "lqtHyKrrnMUD"
   },
   "outputs": [],
   "source": [
    "a_deviations = z_asian.loc[:, z_asian.columns.str.contains('error')]"
   ]
  },
  {
   "cell_type": "code",
   "execution_count": 827,
   "id": "c12c2ddd-d323-499b-8571-40182fdfa98c",
   "metadata": {
    "id": "BCJpEI8NnMUD"
   },
   "outputs": [],
   "source": [
    "z_cols = w_deviations.columns"
   ]
  },
  {
   "cell_type": "code",
   "execution_count": 828,
   "id": "e038ed8d-2bde-4a3d-8ed6-66e57815c55d",
   "metadata": {},
   "outputs": [
    {
     "data": {
      "text/plain": [
       "187"
      ]
     },
     "execution_count": 828,
     "metadata": {},
     "output_type": "execute_result"
    }
   ],
   "source": [
    "len(z_cols)"
   ]
  },
  {
   "cell_type": "code",
   "execution_count": 829,
   "id": "f04008a3-9996-44ce-a0ac-c4a56b134f6b",
   "metadata": {
    "id": "VdQgUo29nMUD"
   },
   "outputs": [],
   "source": [
    "w_b_pvals_z = pd.DataFrame(columns={'roi','pval', 'tstat','fdr_pval'})\n",
    "for index, column in enumerate(z_cols):\n",
    "    test = ttest_ind(w_deviations[column], b_deviations[column], equal_var=False)\n",
    "    w_b_pvals_z.loc[index, 'pval'] = test.pvalue\n",
    "    w_b_pvals_z.loc[index, 'tstat'] = test.statistic\n",
    "    w_b_pvals_z.loc[index, 'roi'] = column"
   ]
  },
  {
   "cell_type": "code",
   "execution_count": 830,
   "id": "5cc26e4b-68c7-4c2a-9430-1a42b2e5bbde",
   "metadata": {
    "id": "n8JfELPdnMUE"
   },
   "outputs": [],
   "source": [
    "w_b_fdr_z = multitest.fdrcorrection(w_b_pvals_z['pval'], alpha=0.05, method='indep', is_sorted=False)"
   ]
  },
  {
   "cell_type": "code",
   "execution_count": 831,
   "id": "96afb49d-e5c2-4694-b2bd-e5add600e45a",
   "metadata": {
    "id": "K5panqSGnMUE"
   },
   "outputs": [],
   "source": [
    "w_b_pvals_z['fdr_pval'] = w_b_fdr_z[1]"
   ]
  },
  {
   "cell_type": "code",
   "execution_count": 832,
   "id": "edb01d8f-2d32-4da3-8b58-22efa687ffbd",
   "metadata": {
    "id": "cjZ8HZMYnMUE"
   },
   "outputs": [],
   "source": [
    "w_b_z_sig_diff = w_b_pvals_z.query('fdr_pval < 0.05')"
   ]
  },
  {
   "cell_type": "code",
   "execution_count": 833,
   "id": "a0348549-9266-4de6-9203-e032f74e0ecf",
   "metadata": {
    "colab": {
     "base_uri": "https://localhost:8080/",
     "height": 423
    },
    "id": "F01JkqAwnMUE",
    "outputId": "a117d7cf-dd4f-423a-e23b-66fd060deadd",
    "tags": []
   },
   "outputs": [
    {
     "data": {
      "text/html": [
       "<div>\n",
       "<style scoped>\n",
       "    .dataframe tbody tr th:only-of-type {\n",
       "        vertical-align: middle;\n",
       "    }\n",
       "\n",
       "    .dataframe tbody tr th {\n",
       "        vertical-align: top;\n",
       "    }\n",
       "\n",
       "    .dataframe thead th {\n",
       "        text-align: right;\n",
       "    }\n",
       "</style>\n",
       "<table border=\"1\" class=\"dataframe\">\n",
       "  <thead>\n",
       "    <tr style=\"text-align: right;\">\n",
       "      <th></th>\n",
       "      <th>roi</th>\n",
       "      <th>tstat</th>\n",
       "      <th>fdr_pval</th>\n",
       "      <th>pval</th>\n",
       "    </tr>\n",
       "  </thead>\n",
       "  <tbody>\n",
       "    <tr>\n",
       "      <th>1</th>\n",
       "      <td>lh_G_temp_sup-Plan_tempo_thickness_error</td>\n",
       "      <td>3.686329</td>\n",
       "      <td>0.001412</td>\n",
       "      <td>0.000347</td>\n",
       "    </tr>\n",
       "    <tr>\n",
       "      <th>2</th>\n",
       "      <td>rh_G_oc-temp_med-Parahip_thickness_error</td>\n",
       "      <td>5.776165</td>\n",
       "      <td>0.000001</td>\n",
       "      <td>0.0</td>\n",
       "    </tr>\n",
       "    <tr>\n",
       "      <th>3</th>\n",
       "      <td>lh_G_occipital_middle_thickness_error</td>\n",
       "      <td>4.20242</td>\n",
       "      <td>0.000351</td>\n",
       "      <td>0.000053</td>\n",
       "    </tr>\n",
       "    <tr>\n",
       "      <th>4</th>\n",
       "      <td>rh_G_oc-temp_med-Lingual_thickness_error</td>\n",
       "      <td>4.796701</td>\n",
       "      <td>0.00004</td>\n",
       "      <td>0.000005</td>\n",
       "    </tr>\n",
       "    <tr>\n",
       "      <th>5</th>\n",
       "      <td>lh_S_intrapariet&amp;P_trans_thickness_error</td>\n",
       "      <td>2.280477</td>\n",
       "      <td>0.044929</td>\n",
       "      <td>0.024507</td>\n",
       "    </tr>\n",
       "    <tr>\n",
       "      <th>...</th>\n",
       "      <td>...</td>\n",
       "      <td>...</td>\n",
       "      <td>...</td>\n",
       "      <td>...</td>\n",
       "    </tr>\n",
       "    <tr>\n",
       "      <th>181</th>\n",
       "      <td>rh_G_temporal_middle_thickness_error</td>\n",
       "      <td>3.548902</td>\n",
       "      <td>0.002017</td>\n",
       "      <td>0.000565</td>\n",
       "    </tr>\n",
       "    <tr>\n",
       "      <th>182</th>\n",
       "      <td>lh_S_collat_transv_ant_thickness_error</td>\n",
       "      <td>2.947331</td>\n",
       "      <td>0.009703</td>\n",
       "      <td>0.003892</td>\n",
       "    </tr>\n",
       "    <tr>\n",
       "      <th>183</th>\n",
       "      <td>rh_S_oc-temp_lat_thickness_error</td>\n",
       "      <td>3.098054</td>\n",
       "      <td>0.00668</td>\n",
       "      <td>0.002465</td>\n",
       "    </tr>\n",
       "    <tr>\n",
       "      <th>184</th>\n",
       "      <td>rh_S_precentral-inf-part_thickness_error</td>\n",
       "      <td>2.499458</td>\n",
       "      <td>0.028921</td>\n",
       "      <td>0.013919</td>\n",
       "    </tr>\n",
       "    <tr>\n",
       "      <th>185</th>\n",
       "      <td>lh_S_oc_middle&amp;Lunatus_thickness_error</td>\n",
       "      <td>3.825767</td>\n",
       "      <td>0.000961</td>\n",
       "      <td>0.000216</td>\n",
       "    </tr>\n",
       "  </tbody>\n",
       "</table>\n",
       "<p>104 rows × 4 columns</p>\n",
       "</div>"
      ],
      "text/plain": [
       "                                          roi     tstat  fdr_pval      pval\n",
       "1    lh_G_temp_sup-Plan_tempo_thickness_error  3.686329  0.001412  0.000347\n",
       "2    rh_G_oc-temp_med-Parahip_thickness_error  5.776165  0.000001       0.0\n",
       "3       lh_G_occipital_middle_thickness_error   4.20242  0.000351  0.000053\n",
       "4    rh_G_oc-temp_med-Lingual_thickness_error  4.796701   0.00004  0.000005\n",
       "5    lh_S_intrapariet&P_trans_thickness_error  2.280477  0.044929  0.024507\n",
       "..                                        ...       ...       ...       ...\n",
       "181      rh_G_temporal_middle_thickness_error  3.548902  0.002017  0.000565\n",
       "182    lh_S_collat_transv_ant_thickness_error  2.947331  0.009703  0.003892\n",
       "183          rh_S_oc-temp_lat_thickness_error  3.098054   0.00668  0.002465\n",
       "184  rh_S_precentral-inf-part_thickness_error  2.499458  0.028921  0.013919\n",
       "185    lh_S_oc_middle&Lunatus_thickness_error  3.825767  0.000961  0.000216\n",
       "\n",
       "[104 rows x 4 columns]"
      ]
     },
     "execution_count": 833,
     "metadata": {},
     "output_type": "execute_result"
    }
   ],
   "source": [
    "w_b_z_sig_diff"
   ]
  },
  {
   "cell_type": "code",
   "execution_count": 834,
   "id": "615046a4-85e2-42e9-92fc-c7e4284c4ff3",
   "metadata": {
    "colab": {
     "base_uri": "https://localhost:8080/"
    },
    "id": "170sEtkynMUE",
    "outputId": "7b601d8d-c73e-44ba-a523-4eddb6dea46b"
   },
   "outputs": [
    {
     "data": {
      "text/plain": [
       "(104, 4)"
      ]
     },
     "execution_count": 834,
     "metadata": {},
     "output_type": "execute_result"
    }
   ],
   "source": [
    "w_b_z_sig_diff.shape"
   ]
  },
  {
   "cell_type": "code",
   "execution_count": 835,
   "id": "a5151f44-96b6-4d9a-a76f-cbf2db9bf2d3",
   "metadata": {
    "tags": []
   },
   "outputs": [
    {
     "name": "stderr",
     "output_type": "stream",
     "text": [
      "/var/folders/xx/1xs7sc795_nf7k125153b6qh0000gn/T/ipykernel_2210/4047360363.py:1: SettingWithCopyWarning: \n",
      "A value is trying to be set on a copy of a slice from a DataFrame.\n",
      "Try using .loc[row_indexer,col_indexer] = value instead\n",
      "\n",
      "See the caveats in the documentation: https://pandas.pydata.org/pandas-docs/stable/user_guide/indexing.html#returning-a-view-versus-a-copy\n",
      "  w_b_z_sig_diff['roi'] = w_b_z_sig_diff['roi'].str.replace('_thickness_error', '', regex=True)\n",
      "/var/folders/xx/1xs7sc795_nf7k125153b6qh0000gn/T/ipykernel_2210/4047360363.py:2: SettingWithCopyWarning: \n",
      "A value is trying to be set on a copy of a slice from a DataFrame.\n",
      "Try using .loc[row_indexer,col_indexer] = value instead\n",
      "\n",
      "See the caveats in the documentation: https://pandas.pydata.org/pandas-docs/stable/user_guide/indexing.html#returning-a-view-versus-a-copy\n",
      "  w_b_z_sig_diff['roi'] = w_b_z_sig_diff['roi'].str.replace('G&S', 'G_and_S', regex=True)\n"
     ]
    }
   ],
   "source": [
    "w_b_z_sig_diff['roi'] = w_b_z_sig_diff['roi'].str.replace('_thickness_error', '', regex=True)\n",
    "w_b_z_sig_diff['roi'] = w_b_z_sig_diff['roi'].str.replace('G&S', 'G_and_S', regex=True)"
   ]
  },
  {
   "cell_type": "code",
   "execution_count": 836,
   "id": "1988d0bf-5e88-4367-bcc9-fa94cd13d556",
   "metadata": {
    "tags": []
   },
   "outputs": [
    {
     "name": "stderr",
     "output_type": "stream",
     "text": [
      "/opt/anaconda3/envs/braincharts/lib/python3.9/site-packages/pandas/core/frame.py:3641: SettingWithCopyWarning: \n",
      "A value is trying to be set on a copy of a slice from a DataFrame.\n",
      "Try using .loc[row_indexer,col_indexer] = value instead\n",
      "\n",
      "See the caveats in the documentation: https://pandas.pydata.org/pandas-docs/stable/user_guide/indexing.html#returning-a-view-versus-a-copy\n",
      "  self[k1] = value[k2]\n"
     ]
    }
   ],
   "source": [
    "w_b_z_sig_diff[['temp1', 'temp2']] = w_b_z_sig_diff['roi'].str.split(pat=\"_\", n=1, expand=True)"
   ]
  },
  {
   "cell_type": "code",
   "execution_count": 837,
   "id": "5936fab7-4846-456e-ba5c-7c0c7c25b31b",
   "metadata": {
    "tags": []
   },
   "outputs": [
    {
     "name": "stderr",
     "output_type": "stream",
     "text": [
      "/opt/anaconda3/envs/braincharts/lib/python3.9/site-packages/pandas/core/generic.py:5516: SettingWithCopyWarning: \n",
      "A value is trying to be set on a copy of a slice from a DataFrame.\n",
      "Try using .loc[row_indexer,col_indexer] = value instead\n",
      "\n",
      "See the caveats in the documentation: https://pandas.pydata.org/pandas-docs/stable/user_guide/indexing.html#returning-a-view-versus-a-copy\n",
      "  self[name] = value\n"
     ]
    }
   ],
   "source": [
    "w_b_z_sig_diff.temp1 = w_b_z_sig_diff.temp1.apply(lambda x: 'left' if 'lh' in x else x)"
   ]
  },
  {
   "cell_type": "code",
   "execution_count": 838,
   "id": "f75410e7-dc16-4b99-86bd-8dcdb39770d2",
   "metadata": {},
   "outputs": [],
   "source": [
    "w_b_z_sig_diff.temp1 = w_b_z_sig_diff.temp1.apply(lambda x: 'right' if 'rh' in x else x)"
   ]
  },
  {
   "cell_type": "code",
   "execution_count": 839,
   "id": "29b66109-b6ea-4c40-b46d-716b0dc6cb29",
   "metadata": {},
   "outputs": [],
   "source": [
    "df = w_b_z_sig_diff[w_b_z_sig_diff[\"temp1\"].str.contains('left|right')]"
   ]
  },
  {
   "cell_type": "code",
   "execution_count": 840,
   "id": "1724a851-72fa-4d51-90b3-b0985a1fb9c5",
   "metadata": {},
   "outputs": [
    {
     "name": "stderr",
     "output_type": "stream",
     "text": [
      "/var/folders/xx/1xs7sc795_nf7k125153b6qh0000gn/T/ipykernel_2210/995407583.py:1: SettingWithCopyWarning: \n",
      "A value is trying to be set on a copy of a slice from a DataFrame.\n",
      "Try using .loc[row_indexer,col_indexer] = value instead\n",
      "\n",
      "See the caveats in the documentation: https://pandas.pydata.org/pandas-docs/stable/user_guide/indexing.html#returning-a-view-versus-a-copy\n",
      "  df['hemi'] = df['temp1']\n"
     ]
    }
   ],
   "source": [
    "df['hemi'] = df['temp1']"
   ]
  },
  {
   "cell_type": "code",
   "execution_count": 841,
   "id": "27ea6e7e-43a2-4da8-b110-089b61c0fed6",
   "metadata": {},
   "outputs": [
    {
     "name": "stderr",
     "output_type": "stream",
     "text": [
      "/var/folders/xx/1xs7sc795_nf7k125153b6qh0000gn/T/ipykernel_2210/3909763920.py:1: SettingWithCopyWarning: \n",
      "A value is trying to be set on a copy of a slice from a DataFrame.\n",
      "Try using .loc[row_indexer,col_indexer] = value instead\n",
      "\n",
      "See the caveats in the documentation: https://pandas.pydata.org/pandas-docs/stable/user_guide/indexing.html#returning-a-view-versus-a-copy\n",
      "  df['ROI'] = df['temp2']\n"
     ]
    }
   ],
   "source": [
    "df['ROI'] = df['temp2']"
   ]
  },
  {
   "cell_type": "code",
   "execution_count": 842,
   "id": "352e7b30-68d9-4c3c-aa30-4310703b54a5",
   "metadata": {},
   "outputs": [
    {
     "data": {
      "text/plain": [
       "Index(['roi', 'tstat', 'fdr_pval', 'pval', 'temp1', 'temp2', 'hemi', 'ROI'], dtype='object')"
      ]
     },
     "execution_count": 842,
     "metadata": {},
     "output_type": "execute_result"
    }
   ],
   "source": [
    "df.columns"
   ]
  },
  {
   "cell_type": "code",
   "execution_count": 843,
   "id": "65718682-e4a0-44ac-b70f-b5e17dcf7c92",
   "metadata": {},
   "outputs": [],
   "source": [
    "df = df[['tstat', 'fdr_pval', 'hemi', 'ROI']]"
   ]
  },
  {
   "cell_type": "code",
   "execution_count": 844,
   "id": "2d985892-a029-4c0e-ae4d-c7f7bb2fe256",
   "metadata": {},
   "outputs": [],
   "source": [
    "w_b_z_sig_diff = df"
   ]
  },
  {
   "cell_type": "code",
   "execution_count": 845,
   "id": "8ad7d826-c96a-442e-8f90-8f03214fcbbc",
   "metadata": {
    "tags": []
   },
   "outputs": [],
   "source": [
    "w_b_z_sig_diff_l = w_b_z_sig_diff.query('hemi == \"left\"')\n",
    "w_b_z_sig_diff_r = w_b_z_sig_diff.query('hemi == \"right\"')"
   ]
  },
  {
   "cell_type": "code",
   "execution_count": 846,
   "id": "acef37e8-a06a-4462-a9ed-c281a994ca14",
   "metadata": {},
   "outputs": [],
   "source": [
    "nl_w_b_z_sig_diff_l = pd.merge(nl, w_b_z_sig_diff_l, on='ROI', how='left')\n",
    "nl_w_b_z_sig_diff_r = pd.merge(nl, w_b_z_sig_diff_r, on='ROI', how='left')"
   ]
  },
  {
   "cell_type": "code",
   "execution_count": 847,
   "id": "20adb5b8-89d5-4fde-b951-23d11803aae3",
   "metadata": {
    "tags": []
   },
   "outputs": [],
   "source": [
    "nl_w_b_z_sig_diff_l['tstat'] = nl_w_b_z_sig_diff_l['tstat'].fillna(0)\n",
    "nl_w_b_z_sig_diff_r['tstat'] = nl_w_b_z_sig_diff_r['tstat'].fillna(0)"
   ]
  },
  {
   "cell_type": "code",
   "execution_count": 848,
   "id": "3b8a4ff8-2014-49db-8add-05dc38794553",
   "metadata": {
    "tags": []
   },
   "outputs": [],
   "source": [
    "nl_w_b_z_sig_diff_l = nl_w_b_z_sig_diff_l['tstat'].to_numpy()\n",
    "nl_w_b_z_sig_diff_r = nl_w_b_z_sig_diff_r['tstat'].to_numpy()"
   ]
  },
  {
   "cell_type": "code",
   "execution_count": 849,
   "id": "8153af28-2b10-4439-ad5b-0ac676894899",
   "metadata": {},
   "outputs": [],
   "source": [
    "a_list = list(range(1, 76))\n",
    "parcellation_l = atlas_l\n",
    "for i, j in enumerate(a_list):\n",
    "    parcellation_l = np.where(parcellation_l == j, nl_w_b_z_sig_diff_l[i], parcellation_l)"
   ]
  },
  {
   "cell_type": "code",
   "execution_count": 850,
   "id": "a6b61981-97c3-4249-a36e-ca9ff0a6a2a4",
   "metadata": {},
   "outputs": [],
   "source": [
    "a_list = list(range(1, 76))\n",
    "parcellation_r = atlas_r\n",
    "for i, j in enumerate(a_list):\n",
    "    parcellation_r = np.where(parcellation_r == j, nl_w_b_z_sig_diff_r[i], parcellation_r)"
   ]
  },
  {
   "cell_type": "code",
   "execution_count": 852,
   "id": "063e2584-7355-40bd-a8be-0d68ebdbf468",
   "metadata": {},
   "outputs": [],
   "source": [
    "# Positive value == whites have higher error\n",
    "# Negative value == blacks have higher error\n",
    "plotting.plot_surf_roi(fsaverage['infl_left'], roi_map=parcellation_l, hemi='left', cmap='plasma', bg_map=fsaverage['sulc_left'], vmin=-20, vmax=20, view='lateral', output_file='/Users/saigerutherford/Desktop/hcp_pretrain_WvB_E_l.png');"
   ]
  },
  {
   "cell_type": "code",
   "execution_count": 854,
   "id": "0bcae5c2-09f6-45cd-9389-759057c3d804",
   "metadata": {},
   "outputs": [],
   "source": [
    "plotting.plot_surf_roi(fsaverage['infl_right'], roi_map=parcellation_r, hemi='right', cmap='plasma', bg_map=fsaverage['sulc_right'], vmin=-20, vmax=20, view='lateral', output_file='/Users/saigerutherford/Desktop/hcp_pretrain_WvB_E_r.png');"
   ]
  },
  {
   "cell_type": "code",
   "execution_count": 855,
   "id": "87451a23-2ae9-4033-9155-e449431ba844",
   "metadata": {
    "id": "VdQgUo29nMUD"
   },
   "outputs": [],
   "source": [
    "w_a_pvals_z = pd.DataFrame(columns={'roi','pval', 'tstat','fdr_pval'})\n",
    "for index, column in enumerate(z_cols):\n",
    "    test = ttest_ind(w_deviations[column], a_deviations[column], equal_var=False)\n",
    "    w_a_pvals_z.loc[index, 'pval'] = test.pvalue\n",
    "    w_a_pvals_z.loc[index, 'tstat'] = test.statistic\n",
    "    w_a_pvals_z.loc[index, 'roi'] = column"
   ]
  },
  {
   "cell_type": "code",
   "execution_count": 856,
   "id": "f535c5b0-9d89-45f7-9bb7-1cedeb63a545",
   "metadata": {
    "id": "n8JfELPdnMUE"
   },
   "outputs": [],
   "source": [
    "w_a_fdr_z = multitest.fdrcorrection(w_a_pvals_z['pval'], alpha=0.05, method='indep', is_sorted=False)"
   ]
  },
  {
   "cell_type": "code",
   "execution_count": 857,
   "id": "48c1f441-2834-4c44-95c4-38bf48290e42",
   "metadata": {
    "id": "K5panqSGnMUE"
   },
   "outputs": [],
   "source": [
    "w_a_pvals_z['fdr_pval'] = w_a_fdr_z[1]"
   ]
  },
  {
   "cell_type": "code",
   "execution_count": 858,
   "id": "a0345a76-7af4-40bf-97d3-883477afc2c7",
   "metadata": {
    "id": "cjZ8HZMYnMUE"
   },
   "outputs": [],
   "source": [
    "w_a_z_sig_diff = w_a_pvals_z.query('fdr_pval < 0.05')"
   ]
  },
  {
   "cell_type": "code",
   "execution_count": 859,
   "id": "9010d8ac-1a75-405e-aeed-8ca31a7910d2",
   "metadata": {
    "colab": {
     "base_uri": "https://localhost:8080/",
     "height": 423
    },
    "id": "F01JkqAwnMUE",
    "outputId": "a117d7cf-dd4f-423a-e23b-66fd060deadd",
    "tags": []
   },
   "outputs": [
    {
     "data": {
      "text/html": [
       "<div>\n",
       "<style scoped>\n",
       "    .dataframe tbody tr th:only-of-type {\n",
       "        vertical-align: middle;\n",
       "    }\n",
       "\n",
       "    .dataframe tbody tr th {\n",
       "        vertical-align: top;\n",
       "    }\n",
       "\n",
       "    .dataframe thead th {\n",
       "        text-align: right;\n",
       "    }\n",
       "</style>\n",
       "<table border=\"1\" class=\"dataframe\">\n",
       "  <thead>\n",
       "    <tr style=\"text-align: right;\">\n",
       "      <th></th>\n",
       "      <th>roi</th>\n",
       "      <th>tstat</th>\n",
       "      <th>fdr_pval</th>\n",
       "      <th>pval</th>\n",
       "    </tr>\n",
       "  </thead>\n",
       "  <tbody>\n",
       "    <tr>\n",
       "      <th>0</th>\n",
       "      <td>rh_S_circular_insula_sup_thickness_error</td>\n",
       "      <td>3.09087</td>\n",
       "      <td>0.006642</td>\n",
       "      <td>0.004191</td>\n",
       "    </tr>\n",
       "    <tr>\n",
       "      <th>1</th>\n",
       "      <td>lh_G_temp_sup-Plan_tempo_thickness_error</td>\n",
       "      <td>4.583384</td>\n",
       "      <td>0.000805</td>\n",
       "      <td>0.000069</td>\n",
       "    </tr>\n",
       "    <tr>\n",
       "      <th>2</th>\n",
       "      <td>rh_G_oc-temp_med-Parahip_thickness_error</td>\n",
       "      <td>2.235048</td>\n",
       "      <td>0.044217</td>\n",
       "      <td>0.03263</td>\n",
       "    </tr>\n",
       "    <tr>\n",
       "      <th>3</th>\n",
       "      <td>lh_G_occipital_middle_thickness_error</td>\n",
       "      <td>3.335312</td>\n",
       "      <td>0.004203</td>\n",
       "      <td>0.002259</td>\n",
       "    </tr>\n",
       "    <tr>\n",
       "      <th>4</th>\n",
       "      <td>rh_G_oc-temp_med-Lingual_thickness_error</td>\n",
       "      <td>4.331355</td>\n",
       "      <td>0.001023</td>\n",
       "      <td>0.000137</td>\n",
       "    </tr>\n",
       "    <tr>\n",
       "      <th>...</th>\n",
       "      <td>...</td>\n",
       "      <td>...</td>\n",
       "      <td>...</td>\n",
       "      <td>...</td>\n",
       "    </tr>\n",
       "    <tr>\n",
       "      <th>180</th>\n",
       "      <td>lh_G_orbital_thickness_error</td>\n",
       "      <td>4.488767</td>\n",
       "      <td>0.000928</td>\n",
       "      <td>0.000094</td>\n",
       "    </tr>\n",
       "    <tr>\n",
       "      <th>181</th>\n",
       "      <td>rh_G_temporal_middle_thickness_error</td>\n",
       "      <td>5.205355</td>\n",
       "      <td>0.000426</td>\n",
       "      <td>0.000011</td>\n",
       "    </tr>\n",
       "    <tr>\n",
       "      <th>183</th>\n",
       "      <td>rh_S_oc-temp_lat_thickness_error</td>\n",
       "      <td>4.06552</td>\n",
       "      <td>0.001283</td>\n",
       "      <td>0.000299</td>\n",
       "    </tr>\n",
       "    <tr>\n",
       "      <th>184</th>\n",
       "      <td>rh_S_precentral-inf-part_thickness_error</td>\n",
       "      <td>3.728597</td>\n",
       "      <td>0.002146</td>\n",
       "      <td>0.000785</td>\n",
       "    </tr>\n",
       "    <tr>\n",
       "      <th>185</th>\n",
       "      <td>lh_S_oc_middle&amp;Lunatus_thickness_error</td>\n",
       "      <td>3.746085</td>\n",
       "      <td>0.002111</td>\n",
       "      <td>0.000734</td>\n",
       "    </tr>\n",
       "  </tbody>\n",
       "</table>\n",
       "<p>138 rows × 4 columns</p>\n",
       "</div>"
      ],
      "text/plain": [
       "                                          roi     tstat  fdr_pval      pval\n",
       "0    rh_S_circular_insula_sup_thickness_error   3.09087  0.006642  0.004191\n",
       "1    lh_G_temp_sup-Plan_tempo_thickness_error  4.583384  0.000805  0.000069\n",
       "2    rh_G_oc-temp_med-Parahip_thickness_error  2.235048  0.044217   0.03263\n",
       "3       lh_G_occipital_middle_thickness_error  3.335312  0.004203  0.002259\n",
       "4    rh_G_oc-temp_med-Lingual_thickness_error  4.331355  0.001023  0.000137\n",
       "..                                        ...       ...       ...       ...\n",
       "180              lh_G_orbital_thickness_error  4.488767  0.000928  0.000094\n",
       "181      rh_G_temporal_middle_thickness_error  5.205355  0.000426  0.000011\n",
       "183          rh_S_oc-temp_lat_thickness_error   4.06552  0.001283  0.000299\n",
       "184  rh_S_precentral-inf-part_thickness_error  3.728597  0.002146  0.000785\n",
       "185    lh_S_oc_middle&Lunatus_thickness_error  3.746085  0.002111  0.000734\n",
       "\n",
       "[138 rows x 4 columns]"
      ]
     },
     "execution_count": 859,
     "metadata": {},
     "output_type": "execute_result"
    }
   ],
   "source": [
    "w_a_z_sig_diff"
   ]
  },
  {
   "cell_type": "code",
   "execution_count": 860,
   "id": "1692321f-c114-4c8f-a566-1694c621b32b",
   "metadata": {
    "colab": {
     "base_uri": "https://localhost:8080/"
    },
    "id": "170sEtkynMUE",
    "outputId": "7b601d8d-c73e-44ba-a523-4eddb6dea46b"
   },
   "outputs": [
    {
     "data": {
      "text/plain": [
       "(138, 4)"
      ]
     },
     "execution_count": 860,
     "metadata": {},
     "output_type": "execute_result"
    }
   ],
   "source": [
    "w_a_z_sig_diff.shape"
   ]
  },
  {
   "cell_type": "code",
   "execution_count": 861,
   "id": "210e95e4-b539-48bc-a487-ee4dc58d66b0",
   "metadata": {
    "tags": []
   },
   "outputs": [
    {
     "name": "stderr",
     "output_type": "stream",
     "text": [
      "/var/folders/xx/1xs7sc795_nf7k125153b6qh0000gn/T/ipykernel_2210/1699425025.py:1: SettingWithCopyWarning: \n",
      "A value is trying to be set on a copy of a slice from a DataFrame.\n",
      "Try using .loc[row_indexer,col_indexer] = value instead\n",
      "\n",
      "See the caveats in the documentation: https://pandas.pydata.org/pandas-docs/stable/user_guide/indexing.html#returning-a-view-versus-a-copy\n",
      "  w_a_z_sig_diff['roi'] = w_a_z_sig_diff['roi'].str.replace('_thickness_error', '', regex=True)\n",
      "/var/folders/xx/1xs7sc795_nf7k125153b6qh0000gn/T/ipykernel_2210/1699425025.py:2: SettingWithCopyWarning: \n",
      "A value is trying to be set on a copy of a slice from a DataFrame.\n",
      "Try using .loc[row_indexer,col_indexer] = value instead\n",
      "\n",
      "See the caveats in the documentation: https://pandas.pydata.org/pandas-docs/stable/user_guide/indexing.html#returning-a-view-versus-a-copy\n",
      "  w_a_z_sig_diff['roi'] = w_a_z_sig_diff['roi'].str.replace('G&S', 'G_and_S', regex=True)\n"
     ]
    }
   ],
   "source": [
    "w_a_z_sig_diff['roi'] = w_a_z_sig_diff['roi'].str.replace('_thickness_error', '', regex=True)\n",
    "w_a_z_sig_diff['roi'] = w_a_z_sig_diff['roi'].str.replace('G&S', 'G_and_S', regex=True)"
   ]
  },
  {
   "cell_type": "code",
   "execution_count": 862,
   "id": "376f6257-f703-4f5b-b093-1d839a6d2c6d",
   "metadata": {
    "tags": []
   },
   "outputs": [
    {
     "name": "stderr",
     "output_type": "stream",
     "text": [
      "/opt/anaconda3/envs/braincharts/lib/python3.9/site-packages/pandas/core/frame.py:3641: SettingWithCopyWarning: \n",
      "A value is trying to be set on a copy of a slice from a DataFrame.\n",
      "Try using .loc[row_indexer,col_indexer] = value instead\n",
      "\n",
      "See the caveats in the documentation: https://pandas.pydata.org/pandas-docs/stable/user_guide/indexing.html#returning-a-view-versus-a-copy\n",
      "  self[k1] = value[k2]\n"
     ]
    }
   ],
   "source": [
    "w_a_z_sig_diff[['temp1', 'temp2']] = w_a_z_sig_diff['roi'].str.split(pat=\"_\", n=1, expand=True)"
   ]
  },
  {
   "cell_type": "code",
   "execution_count": 863,
   "id": "baac76d1-0de7-45f3-a2b9-f41b894d3574",
   "metadata": {
    "tags": []
   },
   "outputs": [
    {
     "name": "stderr",
     "output_type": "stream",
     "text": [
      "/opt/anaconda3/envs/braincharts/lib/python3.9/site-packages/pandas/core/generic.py:5516: SettingWithCopyWarning: \n",
      "A value is trying to be set on a copy of a slice from a DataFrame.\n",
      "Try using .loc[row_indexer,col_indexer] = value instead\n",
      "\n",
      "See the caveats in the documentation: https://pandas.pydata.org/pandas-docs/stable/user_guide/indexing.html#returning-a-view-versus-a-copy\n",
      "  self[name] = value\n"
     ]
    }
   ],
   "source": [
    "w_a_z_sig_diff.temp1 = w_a_z_sig_diff.temp1.apply(lambda x: 'left' if 'lh' in x else x)"
   ]
  },
  {
   "cell_type": "code",
   "execution_count": 864,
   "id": "0ecc1be7-aa8d-4d5d-bb8c-3334c5325722",
   "metadata": {},
   "outputs": [],
   "source": [
    "w_a_z_sig_diff.temp1 = w_a_z_sig_diff.temp1.apply(lambda x: 'right' if 'rh' in x else x)"
   ]
  },
  {
   "cell_type": "code",
   "execution_count": 865,
   "id": "915702fa-430b-41e6-87ad-a46379b7e3a6",
   "metadata": {},
   "outputs": [],
   "source": [
    "df = w_a_z_sig_diff[w_a_z_sig_diff[\"temp1\"].str.contains('left|right')]"
   ]
  },
  {
   "cell_type": "code",
   "execution_count": 866,
   "id": "80fbe31a-7d4a-4ab0-8223-38e4a8c7e985",
   "metadata": {},
   "outputs": [
    {
     "name": "stderr",
     "output_type": "stream",
     "text": [
      "/var/folders/xx/1xs7sc795_nf7k125153b6qh0000gn/T/ipykernel_2210/995407583.py:1: SettingWithCopyWarning: \n",
      "A value is trying to be set on a copy of a slice from a DataFrame.\n",
      "Try using .loc[row_indexer,col_indexer] = value instead\n",
      "\n",
      "See the caveats in the documentation: https://pandas.pydata.org/pandas-docs/stable/user_guide/indexing.html#returning-a-view-versus-a-copy\n",
      "  df['hemi'] = df['temp1']\n"
     ]
    }
   ],
   "source": [
    "df['hemi'] = df['temp1']"
   ]
  },
  {
   "cell_type": "code",
   "execution_count": 867,
   "id": "60dd17c3-b7d7-4559-a65e-34017792617c",
   "metadata": {},
   "outputs": [
    {
     "name": "stderr",
     "output_type": "stream",
     "text": [
      "/var/folders/xx/1xs7sc795_nf7k125153b6qh0000gn/T/ipykernel_2210/3909763920.py:1: SettingWithCopyWarning: \n",
      "A value is trying to be set on a copy of a slice from a DataFrame.\n",
      "Try using .loc[row_indexer,col_indexer] = value instead\n",
      "\n",
      "See the caveats in the documentation: https://pandas.pydata.org/pandas-docs/stable/user_guide/indexing.html#returning-a-view-versus-a-copy\n",
      "  df['ROI'] = df['temp2']\n"
     ]
    }
   ],
   "source": [
    "df['ROI'] = df['temp2']"
   ]
  },
  {
   "cell_type": "code",
   "execution_count": 868,
   "id": "8bfabd28-34e8-461d-a056-bdb33e1814c5",
   "metadata": {},
   "outputs": [
    {
     "data": {
      "text/plain": [
       "Index(['roi', 'tstat', 'fdr_pval', 'pval', 'temp1', 'temp2', 'hemi', 'ROI'], dtype='object')"
      ]
     },
     "execution_count": 868,
     "metadata": {},
     "output_type": "execute_result"
    }
   ],
   "source": [
    "df.columns"
   ]
  },
  {
   "cell_type": "code",
   "execution_count": 869,
   "id": "d605127c-8cf0-4f6e-9c0e-cb16a93dbbca",
   "metadata": {},
   "outputs": [],
   "source": [
    "df = df[['tstat', 'fdr_pval', 'hemi', 'ROI']]"
   ]
  },
  {
   "cell_type": "code",
   "execution_count": 870,
   "id": "8072ee19-4192-45f3-9d3e-9c95d1102499",
   "metadata": {},
   "outputs": [],
   "source": [
    "w_a_z_sig_diff = df"
   ]
  },
  {
   "cell_type": "code",
   "execution_count": 871,
   "id": "3cdfd5a5-4682-4365-a826-1802e3c86c74",
   "metadata": {
    "tags": []
   },
   "outputs": [],
   "source": [
    "w_a_z_sig_diff_l = w_a_z_sig_diff.query('hemi == \"left\"')\n",
    "w_a_z_sig_diff_r = w_a_z_sig_diff.query('hemi == \"right\"')"
   ]
  },
  {
   "cell_type": "code",
   "execution_count": 872,
   "id": "2a4f76ac-adf1-4070-bc71-e67ea452a74d",
   "metadata": {},
   "outputs": [],
   "source": [
    "nl_w_a_z_sig_diff_l = pd.merge(nl, w_a_z_sig_diff_l, on='ROI', how='left')\n",
    "nl_w_a_z_sig_diff_r = pd.merge(nl, w_a_z_sig_diff_r, on='ROI', how='left')"
   ]
  },
  {
   "cell_type": "code",
   "execution_count": 873,
   "id": "839348f1-50c5-4fa2-91f5-0bbe247d3221",
   "metadata": {
    "tags": []
   },
   "outputs": [],
   "source": [
    "nl_w_a_z_sig_diff_l['tstat'] = nl_w_a_z_sig_diff_l['tstat'].fillna(0)\n",
    "nl_w_a_z_sig_diff_r['tstat'] = nl_w_a_z_sig_diff_r['tstat'].fillna(0)"
   ]
  },
  {
   "cell_type": "code",
   "execution_count": 874,
   "id": "d78b9256-b6a7-4a2f-b1cc-14e64e5fa028",
   "metadata": {
    "tags": []
   },
   "outputs": [],
   "source": [
    "nl_w_a_z_sig_diff_l = nl_w_a_z_sig_diff_l['tstat'].to_numpy()\n",
    "nl_w_a_z_sig_diff_r = nl_w_a_z_sig_diff_r['tstat'].to_numpy()"
   ]
  },
  {
   "cell_type": "code",
   "execution_count": 875,
   "id": "0fc7b10d-5800-4d96-96dc-7edc8fbde298",
   "metadata": {},
   "outputs": [],
   "source": [
    "a_list = list(range(1, 76))\n",
    "parcellation_l = atlas_l\n",
    "for i, j in enumerate(a_list):\n",
    "    parcellation_l = np.where(parcellation_l == j, nl_w_a_z_sig_diff_l[i], parcellation_l)"
   ]
  },
  {
   "cell_type": "code",
   "execution_count": 876,
   "id": "46ddd13f-7038-466e-944d-3607b10aef1a",
   "metadata": {},
   "outputs": [],
   "source": [
    "a_list = list(range(1, 76))\n",
    "parcellation_r = atlas_r\n",
    "for i, j in enumerate(a_list):\n",
    "    parcellation_r = np.where(parcellation_r == j, nl_w_a_z_sig_diff_r[i], parcellation_r)"
   ]
  },
  {
   "cell_type": "code",
   "execution_count": 878,
   "id": "1a4240cd-af55-4f61-9e43-733cf2a08f1d",
   "metadata": {},
   "outputs": [],
   "source": [
    "# Positive value == whites have higher error\n",
    "# Negative value == blacks have higher error\n",
    "plotting.plot_surf_roi(fsaverage['infl_left'], roi_map=parcellation_l, hemi='left', cmap='plasma', bg_map=fsaverage['sulc_left'], vmin=-20, vmax=20, view='lateral', output_file='/Users/saigerutherford/Desktop/hcp_pretrain_WvA_E_l.png');"
   ]
  },
  {
   "cell_type": "code",
   "execution_count": 880,
   "id": "4df28df6-0791-4288-bc19-b5547a13318a",
   "metadata": {},
   "outputs": [],
   "source": [
    "plotting.plot_surf_roi(fsaverage['infl_right'], roi_map=parcellation_r, hemi='right', cmap='plasma', bg_map=fsaverage['sulc_right'], vmin=-20, vmax=20, view='lateral', output_file='/Users/saigerutherford/Desktop/hcp_pretrain_WvA_E_r.png');"
   ]
  },
  {
   "cell_type": "code",
   "execution_count": null,
   "id": "de1189bd-6649-454e-a9c9-5ba0b38ba222",
   "metadata": {},
   "outputs": [],
   "source": []
  }
 ],
 "metadata": {
  "kernelspec": {
   "display_name": "Python 3 (ipykernel)",
   "language": "python",
   "name": "python3"
  },
  "language_info": {
   "codemirror_mode": {
    "name": "ipython",
    "version": 3
   },
   "file_extension": ".py",
   "mimetype": "text/x-python",
   "name": "python",
   "nbconvert_exporter": "python",
   "pygments_lexer": "ipython3",
   "version": "3.12.3"
  }
 },
 "nbformat": 4,
 "nbformat_minor": 5
}
