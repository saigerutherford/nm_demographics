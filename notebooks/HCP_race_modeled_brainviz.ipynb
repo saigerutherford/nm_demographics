{
 "cells": [
  {
   "cell_type": "code",
   "execution_count": 1,
   "id": "f2a53885-e7a1-4b38-af37-2709e420b4bc",
   "metadata": {},
   "outputs": [],
   "source": [
    "import pandas as pd\n",
    "from nilearn import plotting\n",
    "import nibabel as nib\n",
    "from nilearn import datasets\n",
    "import matplotlib.pyplot as plt\n",
    "from nilearn import plotting\n",
    "import numpy as np"
   ]
  },
  {
   "cell_type": "code",
   "execution_count": 814,
   "id": "e098efe9-7b33-4157-abda-5e6df7084cb2",
   "metadata": {},
   "outputs": [],
   "source": [
    "Z_df = pd.read_csv('/Users/saigerutherford/Documents/Work/drive-download-20220731T221458Z-001/braincharts/models/ukb_race_modeled/deviation_scores.csv')"
   ]
  },
  {
   "cell_type": "code",
   "execution_count": 922,
   "id": "3509d72f-e93b-4096-b9ec-bec6c8c838aa",
   "metadata": {},
   "outputs": [],
   "source": [
    "Z_df = pd.read_csv('/Users/saigerutherford/Documents/Work/drive-download-20220731T221458Z-001/braincharts/models/ukb_race_not_modeled/deviation_scores.csv')"
   ]
  },
  {
   "cell_type": "code",
   "execution_count": 1029,
   "id": "894de1c5-8aff-4a9e-b15a-3f4ad2748bb3",
   "metadata": {},
   "outputs": [],
   "source": [
    "Z_df = pd.read_csv('/Users/saigerutherford/Documents/Work/drive-download-20220731T221458Z-001/pretrained_nm_z_demos_ukb.csv')"
   ]
  },
  {
   "cell_type": "code",
   "execution_count": 708,
   "id": "6296d4c3-c7b1-4511-83bf-c3138fa199a7",
   "metadata": {
    "collapsed": true,
    "jupyter": {
     "outputs_hidden": true,
     "source_hidden": true
    },
    "tags": []
   },
   "outputs": [
    {
     "data": {
      "text/plain": [
       "White    166\n",
       "Black    135\n",
       "Asian     52\n",
       "Name: Race, dtype: int64"
      ]
     },
     "execution_count": 708,
     "metadata": {},
     "output_type": "execute_result"
    }
   ],
   "source": [
    "Z_df['Race'].value_counts()"
   ]
  },
  {
   "cell_type": "code",
   "execution_count": 1030,
   "id": "6765a125-1927-4450-bc18-10834ba3dda6",
   "metadata": {
    "tags": []
   },
   "outputs": [
    {
     "data": {
      "text/plain": [
       "White    13175\n",
       "Black      123\n",
       "Asian      118\n",
       "Name: race_1, dtype: int64"
      ]
     },
     "execution_count": 1030,
     "metadata": {},
     "output_type": "execute_result"
    }
   ],
   "source": [
    "Z_df['race_1'].value_counts()"
   ]
  },
  {
   "cell_type": "code",
   "execution_count": 1031,
   "id": "ce61126a-663f-4b7b-912a-c1cd66be4c5a",
   "metadata": {
    "tags": []
   },
   "outputs": [],
   "source": [
    "keep_cols = ['sub_id','race_1','rh_S_cingul-Marginalis_thickness_Z_predict',\n",
    " 'rh_S_collat_transv_ant_thickness_Z_predict',\n",
    " 'Left-Amygdala_Z_predict',\n",
    " 'lh_S_orbital-H_Shaped_thickness_Z_predict',\n",
    " 'lh_G&S_frontomargin_thickness_Z_predict',\n",
    " 'Right-vessel_Z_predict',\n",
    " 'Right-Thalamus-Proper_Z_predict',\n",
    " 'rh_G&S_cingul-Mid-Post_thickness_Z_predict',\n",
    " 'rh_G&S_paracentral_thickness_Z_predict',\n",
    " 'Right-Inf-Lat-Vent_Z_predict',\n",
    " 'lh_S_temporal_inf_thickness_Z_predict',\n",
    " 'rh_S_precentral-inf-part_thickness_Z_predict',\n",
    " 'rh_S_subparietal_thickness_Z_predict',\n",
    " 'rh_G_insular_short_thickness_Z_predict',\n",
    " 'lh_G_temp_sup-Plan_polar_thickness_Z_predict',\n",
    " 'lh_S_orbital_med-olfact_thickness_Z_predict',\n",
    " 'rh_G&S_transv_frontopol_thickness_Z_predict',\n",
    " 'rh_S_collat_transv_post_thickness_Z_predict',\n",
    " 'SupraTentorialVol_Z_predict',\n",
    " 'lh_G&S_subcentral_thickness_Z_predict',\n",
    " 'Right-Putamen_Z_predict',\n",
    " 'lh_G&S_cingul-Ant_thickness_Z_predict',\n",
    " 'rh_S_front_middle_thickness_Z_predict',\n",
    " 'Left-Putamen_Z_predict',\n",
    " 'rh_G_temporal_middle_thickness_Z_predict',\n",
    " 'rh_G_Ins_lg&S_cent_ins_thickness_Z_predict',\n",
    " 'lh_G&S_cingul-Mid-Post_thickness_Z_predict',\n",
    " 'rh_G&S_occipital_inf_thickness_Z_predict',\n",
    " 'lh_G_front_middle_thickness_Z_predict',\n",
    " 'lh_Lat_Fis-ant-Vertical_thickness_Z_predict',\n",
    " 'rh_G_oc-temp_med-Parahip_thickness_Z_predict',\n",
    " 'lh_G_oc-temp_lat-fusifor_thickness_Z_predict',\n",
    " 'rh_G_occipital_middle_thickness_Z_predict',\n",
    " 'lh_S_collat_transv_post_thickness_Z_predict',\n",
    " 'lh_G_temp_sup-Plan_tempo_thickness_Z_predict',\n",
    " 'rh_G_pariet_inf-Supramar_thickness_Z_predict',\n",
    " 'rh_S_parieto_occipital_thickness_Z_predict',\n",
    " 'rh_S_oc_middle&Lunatus_thickness_Z_predict',\n",
    " 'rh_S_front_inf_thickness_Z_predict',\n",
    " 'rh_Lat_Fis-ant-Vertical_thickness_Z_predict',\n",
    " 'rh_S_precentral-sup-part_thickness_Z_predict',\n",
    " 'Left-Thalamus-Proper_Z_predict',\n",
    " 'rh_Pole_temporal_thickness_Z_predict',\n",
    " 'rh_S_circular_insula_inf_thickness_Z_predict',\n",
    " 'lh_S_postcentral_thickness_Z_predict',\n",
    " 'lh_G_temp_sup-G_T_transv_thickness_Z_predict',\n",
    " 'rh_G&S_cingul-Mid-Ant_thickness_Z_predict',\n",
    " 'rh_G_oc-temp_lat-fusifor_thickness_Z_predict',\n",
    " 'rh_G_temp_sup-Lateral_thickness_Z_predict',\n",
    " 'rh_G_cingul-Post-dorsal_thickness_Z_predict',\n",
    " 'rh_S_suborbital_thickness_Z_predict',\n",
    " 'lh_S_interm_prim-Jensen_thickness_Z_predict',\n",
    " 'Right-Cerebellum-White-Matter_Z_predict',\n",
    " 'lh_S_suborbital_thickness_Z_predict',\n",
    " 'lh_S_circular_insula_inf_thickness_Z_predict',\n",
    " 'lh_G_cuneus_thickness_Z_predict',\n",
    " '4th-Ventricle_Z_predict',\n",
    " 'lh_G_temporal_middle_thickness_Z_predict',\n",
    " 'rh_S_orbital_lateral_thickness_Z_predict',\n",
    " 'lh_S_oc_middle&Lunatus_thickness_Z_predict',\n",
    " 'rh_G_parietal_sup_thickness_Z_predict',\n",
    " 'lh_S_temporal_transverse_thickness_Z_predict',\n",
    " 'rh_G_pariet_inf-Angular_thickness_Z_predict',\n",
    " 'lh_S_circular_insula_sup_thickness_Z_predict',\n",
    " 'lh_G_rectus_thickness_Z_predict',\n",
    " 'rh_S_postcentral_thickness_Z_predict',\n",
    " 'Left-Cerebellum-White-Matter_Z_predict',\n",
    " 'rh_S_calcarine_thickness_Z_predict',\n",
    " 'CSF_Z_predict',\n",
    " 'lh_G_pariet_inf-Supramar_thickness_Z_predict',\n",
    " 'rh_S_oc-temp_lat_thickness_Z_predict',\n",
    " 'lh_G_precuneus_thickness_Z_predict',\n",
    " 'rh_Lat_Fis-ant-Horizont_thickness_Z_predict',\n",
    " 'Left-Pallidum_Z_predict',\n",
    " 'Left-choroid-plexus_Z_predict',\n",
    " '3rd-Ventricle_Z_predict',\n",
    " 'rh_S_interm_prim-Jensen_thickness_Z_predict',\n",
    " 'Right-Lateral-Ventricle_Z_predict',\n",
    " 'rh_G_occipital_sup_thickness_Z_predict',\n",
    " 'rh_S_orbital-H_Shaped_thickness_Z_predict',\n",
    " 'lh_G_postcentral_thickness_Z_predict',\n",
    " 'lh_S_intrapariet&P_trans_thickness_Z_predict',\n",
    " 'TotalGrayVol_Z_predict',\n",
    " 'lh_Lat_Fis-post_thickness_Z_predict',\n",
    " 'Right-Hippocampus_Z_predict',\n",
    " 'Right-choroid-plexus_Z_predict',\n",
    " 'lh_S_oc-temp_lat_thickness_Z_predict',\n",
    " 'lh_MeanThickness_thickness_Z_predict',\n",
    " 'lh_G_insular_short_thickness_Z_predict',\n",
    " 'rh_G_temp_sup-G_T_transv_thickness_Z_predict',\n",
    " 'rh_G_cuneus_thickness_Z_predict',\n",
    " 'lh_G_front_inf-Triangul_thickness_Z_predict',\n",
    " 'lh_S_parieto_occipital_thickness_Z_predict',\n",
    " 'Right-Caudate_Z_predict',\n",
    " 'Left-Inf-Lat-Vent_Z_predict',\n",
    " 'lh_G_front_inf-Opercular_thickness_Z_predict',\n",
    " 'lh_G_cingul-Post-dorsal_thickness_Z_predict',\n",
    " 'rh_S_intrapariet&P_trans_thickness_Z_predict',\n",
    " 'lh_S_oc_sup&transversal_thickness_Z_predict',\n",
    " 'rh_MeanThickness_thickness_Z_predict',\n",
    " 'lh_S_front_inf_thickness_Z_predict',\n",
    " 'lh_G_orbital_thickness_Z_predict',\n",
    " 'lh_G_occipital_middle_thickness_Z_predict',\n",
    " 'lh_G_Ins_lg&S_cent_ins_thickness_Z_predict',\n",
    " 'rh_S_oc_sup&transversal_thickness_Z_predict',\n",
    " 'rh_S_oc-temp_med&Lingual_thickness_Z_predict',\n",
    " 'lh_S_temporal_sup_thickness_Z_predict',\n",
    " 'rh_G_temp_sup-Plan_tempo_thickness_Z_predict',\n",
    " 'Right-Accumbens-area_Z_predict',\n",
    " 'rh_G&S_cingul-Ant_thickness_Z_predict',\n",
    " 'lh_G_oc-temp_med-Lingual_thickness_Z_predict',\n",
    " 'lh_Pole_occipital_thickness_Z_predict',\n",
    " 'lh_S_collat_transv_ant_thickness_Z_predict',\n",
    " 'rh_S_circular_insula_sup_thickness_Z_predict',\n",
    " 'lh_S_precentral-sup-part_thickness_Z_predict',\n",
    " 'lh_G_front_sup_thickness_Z_predict',\n",
    " 'lh_S_circular_insula_ant_thickness_Z_predict',\n",
    " 'rh_G_oc-temp_med-Lingual_thickness_Z_predict',\n",
    " 'rh_G_front_sup_thickness_Z_predict',\n",
    " 'rh_S_occipital_ant_thickness_Z_predict',\n",
    " 'lh_S_pericallosal_thickness_Z_predict',\n",
    " 'rh_G_front_inf-Orbital_thickness_Z_predict',\n",
    " 'rh_G_postcentral_thickness_Z_predict',\n",
    " 'rh_G_precentral_thickness_Z_predict',\n",
    " 'lh_G_subcallosal_thickness_Z_predict',\n",
    " 'rh_S_temporal_sup_thickness_Z_predict',\n",
    " 'Right-VentralDC_Z_predict',\n",
    " 'Right-Pallidum_Z_predict',\n",
    " 'lh_Lat_Fis-ant-Horizont_thickness_Z_predict',\n",
    " 'Left-Caudate_Z_predict',\n",
    " 'Left-vessel_Z_predict',\n",
    " 'SubCortGrayVol_Z_predict',\n",
    " 'lh_S_precentral-inf-part_thickness_Z_predict',\n",
    " 'Right-Cerebellum-Cortex_Z_predict',\n",
    " 'Left-Cerebellum-Cortex_Z_predict',\n",
    " 'rh_S_pericallosal_thickness_Z_predict',\n",
    " 'lh_G_occipital_sup_thickness_Z_predict',\n",
    " 'rh_G&S_subcentral_thickness_Z_predict',\n",
    " 'rh_G_cingul-Post-ventral_thickness_Z_predict',\n",
    " 'lh_S_calcarine_thickness_Z_predict',\n",
    " 'Right-Amygdala_Z_predict',\n",
    " 'Left-Accumbens-area_Z_predict',\n",
    " 'Left-Lateral-Ventricle_Z_predict',\n",
    " 'rh_G_orbital_thickness_Z_predict',\n",
    " 'lh_S_orbital_lateral_thickness_Z_predict',\n",
    " 'rh_G_front_inf-Triangul_thickness_Z_predict',\n",
    " 'rh_G_temporal_inf_thickness_Z_predict',\n",
    " 'lh_S_occipital_ant_thickness_Z_predict',\n",
    " 'lh_S_front_middle_thickness_Z_predict',\n",
    " 'lh_G&S_transv_frontopol_thickness_Z_predict',\n",
    " 'rh_S_orbital_med-olfact_thickness_Z_predict',\n",
    " 'Left-VentralDC_Z_predict',\n",
    " 'lh_G_pariet_inf-Angular_thickness_Z_predict',\n",
    " 'lh_G_temp_sup-Lateral_thickness_Z_predict',\n",
    " 'Left-Hippocampus_Z_predict',\n",
    " 'lh_S_central_thickness_Z_predict',\n",
    " 'lh_S_cingul-Marginalis_thickness_Z_predict',\n",
    " 'lh_G_oc-temp_med-Parahip_thickness_Z_predict',\n",
    " 'lh_G_parietal_sup_thickness_Z_predict',\n",
    " 'lh_G&S_cingul-Mid-Ant_thickness_Z_predict',\n",
    " 'lh_Pole_temporal_thickness_Z_predict',\n",
    " 'lh_G_precentral_thickness_Z_predict',\n",
    " 'rh_S_temporal_transverse_thickness_Z_predict',\n",
    " 'rh_G_front_middle_thickness_Z_predict',\n",
    " 'lh_S_front_sup_thickness_Z_predict',\n",
    " 'rh_S_central_thickness_Z_predict',\n",
    " 'rh_G_rectus_thickness_Z_predict',\n",
    " 'rh_S_circular_insula_ant_thickness_Z_predict',\n",
    " 'rh_G_precuneus_thickness_Z_predict',\n",
    " 'rh_G&S_frontomargin_thickness_Z_predict',\n",
    " 'Brain-Stem_Z_predict',\n",
    " 'rh_Pole_occipital_thickness_Z_predict',\n",
    " 'lh_S_oc-temp_med&Lingual_thickness_Z_predict',\n",
    " 'rh_S_temporal_inf_thickness_Z_predict',\n",
    " 'rh_S_front_sup_thickness_Z_predict',\n",
    " 'lh_G&S_paracentral_thickness_Z_predict',\n",
    " 'rh_G_front_inf-Opercular_thickness_Z_predict',\n",
    " 'rh_G_temp_sup-Plan_polar_thickness_Z_predict',\n",
    " 'lh_G_cingul-Post-ventral_thickness_Z_predict',\n",
    " 'lh_G_temporal_inf_thickness_Z_predict',\n",
    " 'lh_S_subparietal_thickness_Z_predict',\n",
    " 'rh_Lat_Fis-post_thickness_Z_predict',\n",
    " 'rh_G_subcallosal_thickness_Z_predict',\n",
    " 'SupraTentorialVolNotVent_Z_predict',\n",
    " 'lh_G_front_inf-Orbital_thickness_Z_predict',\n",
    " 'lh_G&S_occipital_inf_thickness_Z_predict',\n",
    " 'EstimatedTotalIntraCranialVol_Z_predict']"
   ]
  },
  {
   "cell_type": "code",
   "execution_count": 1032,
   "id": "c56622c8-4ed0-4e42-a849-9267b34ccfb0",
   "metadata": {
    "tags": []
   },
   "outputs": [],
   "source": [
    "Z_df = Z_df[keep_cols]"
   ]
  },
  {
   "cell_type": "code",
   "execution_count": 924,
   "id": "cc73a531-c4a8-4aa3-ae29-de3f0f447cc2",
   "metadata": {
    "executionInfo": {
     "elapsed": 257,
     "status": "ok",
     "timestamp": 1687449325721,
     "user": {
      "displayName": "Saige Rutherford",
      "userId": "09510631870783055479"
     },
     "user_tz": -120
    },
    "id": "5649160f-708d-46ed-9760-29f9c3fb8b18",
    "jupyter": {
     "source_hidden": true
    },
    "tags": []
   },
   "outputs": [],
   "source": [
    "z_long = Z_df.melt(id_vars=['participant_id','race_1'],\n",
    "                  value_vars=['rh_G_Ins_lg&S_cent_ins_thickness_Z_estimate',\n",
    "                             'rh_G&S_cingul-Mid-Post_thickness_Z_estimate',\n",
    "                             'rh_G&S_subcentral_thickness_Z_estimate',\n",
    "                             'lh_G_temporal_middle_thickness_Z_estimate',\n",
    "                             'lh_S_temporal_transverse_thickness_Z_estimate',\n",
    "                             'rh_G_subcallosal_thickness_Z_estimate',\n",
    "                             'rh_S_temporal_transverse_thickness_Z_estimate',\n",
    "                             'rh_G_temp_sup-Lateral_thickness_Z_estimate',\n",
    "                             'rh_S_subparietal_thickness_Z_estimate',\n",
    "                             'lh_Pole_temporal_thickness_Z_estimate',\n",
    "                             'rh_G_precentral_thickness_Z_estimate',\n",
    "                             'lh_G_oc-temp_lat-fusifor_thickness_Z_estimate',\n",
    "                             'rh_S_circular_insula_inf_thickness_Z_estimate',\n",
    "                             'lh_G_cingul-Post-ventral_thickness_Z_estimate',\n",
    "                             'lh_G_front_inf-Triangul_thickness_Z_estimate',\n",
    "                             'lh_S_cingul-Marginalis_thickness_Z_estimate',\n",
    "                             'rh_Lat_Fis-ant-Vertical_thickness_Z_estimate',\n",
    "                             'lh_G&S_paracentral_thickness_Z_estimate',\n",
    "                             'rh_S_postcentral_thickness_Z_estimate',\n",
    "                             'lh_S_circular_insula_inf_thickness_Z_estimate',\n",
    "                             'rh_G_oc-temp_lat-fusifor_thickness_Z_estimate',\n",
    "                             'rh_G_cingul-Post-ventral_thickness_Z_estimate',\n",
    "                             'lh_G&S_transv_frontopol_thickness_Z_estimate',\n",
    "                             'rh_G_temp_sup-G_T_transv_thickness_Z_estimate',\n",
    "                             'rh_S_oc-temp_med&Lingual_thickness_Z_estimate',\n",
    "                             'lh_Lat_Fis-post_thickness_Z_estimate',\n",
    "                             'lh_S_postcentral_thickness_Z_estimate',\n",
    "                             'rh_G_rectus_thickness_Z_estimate',\n",
    "                             'lh_G_temp_sup-G_T_transv_thickness_Z_estimate',\n",
    "                             'rh_Pole_temporal_thickness_Z_estimate',\n",
    "                             'lh_S_subparietal_thickness_Z_estimate',\n",
    "                             'rh_G_cingul-Post-dorsal_thickness_Z_estimate',\n",
    "                             'lh_S_oc-temp_med&Lingual_thickness_Z_estimate',\n",
    "                             'rh_S_interm_prim-Jensen_thickness_Z_estimate',\n",
    "                             'lh_G&S_subcentral_thickness_Z_estimate',\n",
    "                             'rh_S_oc_sup&transversal_thickness_Z_estimate',\n",
    "                             'lh_G_subcallosal_thickness_Z_estimate',\n",
    "                             'rh_S_orbital_lateral_thickness_Z_estimate',\n",
    "                             'lh_G_insular_short_thickness_Z_estimate',\n",
    "                             'rh_S_collat_transv_post_thickness_Z_estimate',\n",
    "                             'lh_S_occipital_ant_thickness_Z_estimate',\n",
    "                             'rh_S_orbital_med-olfact_thickness_Z_estimate',\n",
    "                             'lh_G_front_sup_thickness_Z_estimate',\n",
    "                             'lh_S_precentral-inf-part_thickness_Z_estimate',\n",
    "                             'lh_G_precentral_thickness_Z_estimate',\n",
    "                             'rh_G_temporal_middle_thickness_Z_estimate',\n",
    "                             'lh_S_temporal_inf_thickness_Z_estimate',\n",
    "                             'rh_G_parietal_sup_thickness_Z_estimate',\n",
    "                             'lh_S_collat_transv_ant_thickness_Z_estimate',\n",
    "                             'rh_G_front_sup_thickness_Z_estimate',\n",
    "                             'rh_S_precentral-inf-part_thickness_Z_estimate',\n",
    "                             'rh_G_pariet_inf-Angular_thickness_Z_estimate',\n",
    "                             'lh_S_calcarine_thickness_Z_estimate',\n",
    "                             'lh_S_orbital-H_Shaped_thickness_Z_estimate',\n",
    "                             'rh_G_front_inf-Opercular_thickness_Z_estimate',\n",
    "                             'rh_G_occipital_middle_thickness_Z_estimate',\n",
    "                             'lh_G_oc-temp_med-Parahip_thickness_Z_estimate',\n",
    "                             'rh_G_orbital_thickness_Z_estimate',\n",
    "                             'lh_S_front_inf_thickness_Z_estimate',\n",
    "                             'rh_S_calcarine_thickness_Z_estimate',\n",
    "                             'rh_G_occipital_sup_thickness_Z_estimate',\n",
    "                             'lh_G_front_inf-Opercular_thickness_Z_estimate',\n",
    "                             'lh_G_front_middle_thickness_Z_estimate',\n",
    "                             'lh_S_central_thickness_Z_estimate',\n",
    "                             'rh_S_front_inf_thickness_Z_estimate',\n",
    "                             'rh_G_oc-temp_med-Parahip_thickness_Z_estimate',\n",
    "                             'lh_Lat_Fis-ant-Horizont_thickness_Z_estimate',\n",
    "                             'rh_G_front_inf-Orbital_thickness_Z_estimate',\n",
    "                             'lh_G_orbital_thickness_Z_estimate',\n",
    "                             'lh_S_oc_middle&Lunatus_thickness_Z_estimate',\n",
    "                             'rh_S_central_thickness_Z_estimate',\n",
    "                             'lh_G_cuneus_thickness_Z_estimate',\n",
    "                             'rh_G_front_middle_thickness_Z_estimate',\n",
    "                             'rh_S_precentral-sup-part_thickness_Z_estimate',\n",
    "                             'rh_Lat_Fis-post_thickness_Z_estimate',\n",
    "                             'lh_G_temp_sup-Plan_tempo_thickness_Z_estimate',\n",
    "                             'lh_G_parietal_sup_thickness_Z_estimate',\n",
    "                             'rh_S_temporal_inf_thickness_Z_estimate',\n",
    "                             'lh_S_circular_insula_ant_thickness_Z_estimate',\n",
    "                             'lh_S_precentral-sup-part_thickness_Z_estimate',\n",
    "                             'lh_S_orbital_lateral_thickness_Z_estimate',\n",
    "                             'lh_S_parieto_occipital_thickness_Z_estimate',\n",
    "                             'rh_G&S_cingul-Mid-Ant_thickness_Z_estimate',\n",
    "                             'rh_G_temp_sup-Plan_tempo_thickness_Z_estimate',\n",
    "                             'rh_S_circular_insula_ant_thickness_Z_estimate',\n",
    "                             'rh_MeanThickness_thickness_Z_estimate',\n",
    "                             'rh_S_orbital-H_Shaped_thickness_Z_estimate',\n",
    "                             'lh_G_occipital_middle_thickness_Z_estimate',\n",
    "                             'lh_S_circular_insula_sup_thickness_Z_estimate',\n",
    "                             'lh_G_pariet_inf-Angular_thickness_Z_estimate',\n",
    "                             'rh_G&S_paracentral_thickness_Z_estimate',\n",
    "                             'lh_G_temp_sup-Plan_polar_thickness_Z_estimate',\n",
    "                             'rh_S_collat_transv_ant_thickness_Z_estimate',\n",
    "                             'rh_S_circular_insula_sup_thickness_Z_estimate',\n",
    "                             'rh_G_temp_sup-Plan_polar_thickness_Z_estimate',\n",
    "                             'rh_Pole_occipital_thickness_Z_estimate',\n",
    "                             'lh_G_pariet_inf-Supramar_thickness_Z_estimate',\n",
    "                             'lh_G&S_frontomargin_thickness_Z_estimate',\n",
    "                             'rh_S_pericallosal_thickness_Z_estimate',\n",
    "                             'rh_G_pariet_inf-Supramar_thickness_Z_estimate',\n",
    "                             'rh_S_suborbital_thickness_Z_estimate',\n",
    "                             'lh_S_pericallosal_thickness_Z_estimate',\n",
    "                             'rh_S_occipital_ant_thickness_Z_estimate',\n",
    "                             'lh_Pole_occipital_thickness_Z_estimate',\n",
    "                             'rh_G_insular_short_thickness_Z_estimate',\n",
    "                             'lh_G_front_inf-Orbital_thickness_Z_estimate',\n",
    "                             'rh_G_cuneus_thickness_Z_estimate',\n",
    "                             'rh_S_oc_middle&Lunatus_thickness_Z_estimate',\n",
    "                             'lh_G&S_cingul-Mid-Ant_thickness_Z_estimate',\n",
    "                             'rh_G&S_occipital_inf_thickness_Z_estimate',\n",
    "                             'rh_Lat_Fis-ant-Horizont_thickness_Z_estimate',\n",
    "                             'rh_S_parieto_occipital_thickness_Z_estimate',\n",
    "                             'lh_MeanThickness_thickness_Z_estimate',\n",
    "                             'rh_G_precuneus_thickness_Z_estimate',\n",
    "                             'lh_G_temp_sup-Lateral_thickness_Z_estimate',\n",
    "                             'lh_S_front_middle_thickness_Z_estimate',\n",
    "                             'lh_G_Ins_lg&S_cent_ins_thickness_Z_estimate',\n",
    "                             'lh_G_occipital_sup_thickness_Z_estimate',\n",
    "                             'lh_G_postcentral_thickness_Z_estimate',\n",
    "                             'rh_S_front_sup_thickness_Z_estimate',\n",
    "                             'lh_G&S_cingul-Mid-Post_thickness_Z_estimate',\n",
    "                             'lh_G_precuneus_thickness_Z_estimate',\n",
    "                             'lh_G&S_cingul-Ant_thickness_Z_estimate',\n",
    "                             'lh_S_front_sup_thickness_Z_estimate',\n",
    "                             'lh_S_oc-temp_lat_thickness_Z_estimate',\n",
    "                             'rh_G&S_frontomargin_thickness_Z_estimate',\n",
    "                             'lh_Lat_Fis-ant-Vertical_thickness_Z_estimate',\n",
    "                             'lh_G_temporal_inf_thickness_Z_estimate',\n",
    "                             'rh_G_front_inf-Triangul_thickness_Z_estimate',\n",
    "                             'lh_S_temporal_sup_thickness_Z_estimate',\n",
    "                             'rh_S_cingul-Marginalis_thickness_Z_estimate',\n",
    "                             'lh_G_rectus_thickness_Z_estimate',\n",
    "                             'lh_S_interm_prim-Jensen_thickness_Z_estimate',\n",
    "                             'lh_S_intrapariet&P_trans_thickness_Z_estimate',\n",
    "                             'lh_G_cingul-Post-dorsal_thickness_Z_estimate',\n",
    "                             'rh_S_intrapariet&P_trans_thickness_Z_estimate',\n",
    "                             'rh_G_temporal_inf_thickness_Z_estimate',\n",
    "                             'rh_G&S_transv_frontopol_thickness_Z_estimate',\n",
    "                             'lh_G&S_occipital_inf_thickness_Z_estimate',\n",
    "                             'rh_S_temporal_sup_thickness_Z_estimate',\n",
    "                             'rh_S_oc-temp_lat_thickness_Z_estimate',\n",
    "                             'rh_S_front_middle_thickness_Z_estimate',\n",
    "                             'lh_S_orbital_med-olfact_thickness_Z_estimate',\n",
    "                             'lh_G_oc-temp_med-Lingual_thickness_Z_estimate',\n",
    "                             'lh_S_collat_transv_post_thickness_Z_estimate',\n",
    "                             'lh_S_suborbital_thickness_Z_estimate',\n",
    "                             'rh_G&S_cingul-Ant_thickness_Z_estimate',\n",
    "                             'rh_G_postcentral_thickness_Z_estimate',\n",
    "                             'rh_G_oc-temp_med-Lingual_thickness_Z_estimate',\n",
    "                             'lh_S_oc_sup&transversal_thickness_Z_estimate'])"
   ]
  },
  {
   "cell_type": "code",
   "execution_count": 1033,
   "id": "5bb325c2-41c0-4d8c-8d21-0cb38230479c",
   "metadata": {
    "executionInfo": {
     "elapsed": 257,
     "status": "ok",
     "timestamp": 1687449325721,
     "user": {
      "displayName": "Saige Rutherford",
      "userId": "09510631870783055479"
     },
     "user_tz": -120
    },
    "id": "5649160f-708d-46ed-9760-29f9c3fb8b18",
    "tags": []
   },
   "outputs": [],
   "source": [
    "z_long = Z_df.melt(id_vars=['sub_id','race_1'],\n",
    "                  value_vars=['rh_S_cingul-Marginalis_thickness_Z_predict',\n",
    "                                 'rh_S_collat_transv_ant_thickness_Z_predict',\n",
    "                                 'Left-Amygdala_Z_predict',\n",
    "                                 'lh_S_orbital-H_Shaped_thickness_Z_predict',\n",
    "                                 'lh_G&S_frontomargin_thickness_Z_predict',\n",
    "                                 'Right-vessel_Z_predict',\n",
    "                                 'Right-Thalamus-Proper_Z_predict',\n",
    "                                 'rh_G&S_cingul-Mid-Post_thickness_Z_predict',\n",
    "                                 'rh_G&S_paracentral_thickness_Z_predict',\n",
    "                                 'Right-Inf-Lat-Vent_Z_predict',\n",
    "                                 'lh_S_temporal_inf_thickness_Z_predict',\n",
    "                                 'rh_S_precentral-inf-part_thickness_Z_predict',\n",
    "                                 'rh_S_subparietal_thickness_Z_predict',\n",
    "                                 'rh_G_insular_short_thickness_Z_predict',\n",
    "                                 'lh_G_temp_sup-Plan_polar_thickness_Z_predict',\n",
    "                                 'lh_S_orbital_med-olfact_thickness_Z_predict',\n",
    "                                 'rh_G&S_transv_frontopol_thickness_Z_predict',\n",
    "                                 'rh_S_collat_transv_post_thickness_Z_predict',\n",
    "                                 'SupraTentorialVol_Z_predict',\n",
    "                                 'lh_G&S_subcentral_thickness_Z_predict',\n",
    "                                 'Right-Putamen_Z_predict',\n",
    "                                 'lh_G&S_cingul-Ant_thickness_Z_predict',\n",
    "                                 'rh_S_front_middle_thickness_Z_predict',\n",
    "                                 'Left-Putamen_Z_predict',\n",
    "                                 'rh_G_temporal_middle_thickness_Z_predict',\n",
    "                                 'rh_G_Ins_lg&S_cent_ins_thickness_Z_predict',\n",
    "                                 'lh_G&S_cingul-Mid-Post_thickness_Z_predict',\n",
    "                                 'rh_G&S_occipital_inf_thickness_Z_predict',\n",
    "                                 'lh_G_front_middle_thickness_Z_predict',\n",
    "                                 'lh_Lat_Fis-ant-Vertical_thickness_Z_predict',\n",
    "                                 'rh_G_oc-temp_med-Parahip_thickness_Z_predict',\n",
    "                                 'lh_G_oc-temp_lat-fusifor_thickness_Z_predict',\n",
    "                                 'rh_G_occipital_middle_thickness_Z_predict',\n",
    "                                 'lh_S_collat_transv_post_thickness_Z_predict',\n",
    "                                 'lh_G_temp_sup-Plan_tempo_thickness_Z_predict',\n",
    "                                 'rh_G_pariet_inf-Supramar_thickness_Z_predict',\n",
    "                                 'rh_S_parieto_occipital_thickness_Z_predict',\n",
    "                                 'rh_S_oc_middle&Lunatus_thickness_Z_predict',\n",
    "                                 'rh_S_front_inf_thickness_Z_predict',\n",
    "                                 'rh_Lat_Fis-ant-Vertical_thickness_Z_predict',\n",
    "                                 'rh_S_precentral-sup-part_thickness_Z_predict',\n",
    "                                 'Left-Thalamus-Proper_Z_predict',\n",
    "                                 'rh_Pole_temporal_thickness_Z_predict',\n",
    "                                 'rh_S_circular_insula_inf_thickness_Z_predict',\n",
    "                                 'lh_S_postcentral_thickness_Z_predict',\n",
    "                                 'lh_G_temp_sup-G_T_transv_thickness_Z_predict',\n",
    "                                 'rh_G&S_cingul-Mid-Ant_thickness_Z_predict',\n",
    "                                 'rh_G_oc-temp_lat-fusifor_thickness_Z_predict',\n",
    "                                 'rh_G_temp_sup-Lateral_thickness_Z_predict',\n",
    "                                 'rh_G_cingul-Post-dorsal_thickness_Z_predict',\n",
    "                                 'rh_S_suborbital_thickness_Z_predict',\n",
    "                                 'lh_S_interm_prim-Jensen_thickness_Z_predict',\n",
    "                                 'Right-Cerebellum-White-Matter_Z_predict',\n",
    "                                 'lh_S_suborbital_thickness_Z_predict',\n",
    "                                 'lh_S_circular_insula_inf_thickness_Z_predict',\n",
    "                                 'lh_G_cuneus_thickness_Z_predict',\n",
    "                                 '4th-Ventricle_Z_predict',\n",
    "                                 'lh_G_temporal_middle_thickness_Z_predict',\n",
    "                                 'rh_S_orbital_lateral_thickness_Z_predict',\n",
    "                                 'lh_S_oc_middle&Lunatus_thickness_Z_predict',\n",
    "                                 'rh_G_parietal_sup_thickness_Z_predict',\n",
    "                                 'lh_S_temporal_transverse_thickness_Z_predict',\n",
    "                                 'rh_G_pariet_inf-Angular_thickness_Z_predict',\n",
    "                                 'lh_S_circular_insula_sup_thickness_Z_predict',\n",
    "                                 'lh_G_rectus_thickness_Z_predict',\n",
    "                                 'rh_S_postcentral_thickness_Z_predict',\n",
    "                                 'Left-Cerebellum-White-Matter_Z_predict',\n",
    "                                 'rh_S_calcarine_thickness_Z_predict',\n",
    "                                 'CSF_Z_predict',\n",
    "                                 'lh_G_pariet_inf-Supramar_thickness_Z_predict',\n",
    "                                 'rh_S_oc-temp_lat_thickness_Z_predict',\n",
    "                                 'lh_G_precuneus_thickness_Z_predict',\n",
    "                                 'rh_Lat_Fis-ant-Horizont_thickness_Z_predict',\n",
    "                                 'Left-Pallidum_Z_predict',\n",
    "                                 'Left-choroid-plexus_Z_predict',\n",
    "                                 '3rd-Ventricle_Z_predict',\n",
    "                                 'rh_S_interm_prim-Jensen_thickness_Z_predict',\n",
    "                                 'Right-Lateral-Ventricle_Z_predict',\n",
    "                                 'rh_G_occipital_sup_thickness_Z_predict',\n",
    "                                 'rh_S_orbital-H_Shaped_thickness_Z_predict',\n",
    "                                 'lh_G_postcentral_thickness_Z_predict',\n",
    "                                 'lh_S_intrapariet&P_trans_thickness_Z_predict',\n",
    "                                 'TotalGrayVol_Z_predict',\n",
    "                                 'lh_Lat_Fis-post_thickness_Z_predict',\n",
    "                                 'Right-Hippocampus_Z_predict',\n",
    "                                 'Right-choroid-plexus_Z_predict',\n",
    "                                 'lh_S_oc-temp_lat_thickness_Z_predict',\n",
    "                                 'lh_MeanThickness_thickness_Z_predict',\n",
    "                                 'lh_G_insular_short_thickness_Z_predict',\n",
    "                                 'rh_G_temp_sup-G_T_transv_thickness_Z_predict',\n",
    "                                 'rh_G_cuneus_thickness_Z_predict',\n",
    "                                 'lh_G_front_inf-Triangul_thickness_Z_predict',\n",
    "                                 'lh_S_parieto_occipital_thickness_Z_predict',\n",
    "                                 'Right-Caudate_Z_predict',\n",
    "                                 'Left-Inf-Lat-Vent_Z_predict',\n",
    "                                 'lh_G_front_inf-Opercular_thickness_Z_predict',\n",
    "                                 'lh_G_cingul-Post-dorsal_thickness_Z_predict',\n",
    "                                 'rh_S_intrapariet&P_trans_thickness_Z_predict',\n",
    "                                 'lh_S_oc_sup&transversal_thickness_Z_predict',\n",
    "                                 'rh_MeanThickness_thickness_Z_predict',\n",
    "                                 'lh_S_front_inf_thickness_Z_predict',\n",
    "                                 'lh_G_orbital_thickness_Z_predict',\n",
    "                                 'lh_G_occipital_middle_thickness_Z_predict',\n",
    "                                 'lh_G_Ins_lg&S_cent_ins_thickness_Z_predict',\n",
    "                                 'rh_S_oc_sup&transversal_thickness_Z_predict',\n",
    "                                 'rh_S_oc-temp_med&Lingual_thickness_Z_predict',\n",
    "                                 'lh_S_temporal_sup_thickness_Z_predict',\n",
    "                                 'rh_G_temp_sup-Plan_tempo_thickness_Z_predict',\n",
    "                                 'Right-Accumbens-area_Z_predict',\n",
    "                                 'rh_G&S_cingul-Ant_thickness_Z_predict',\n",
    "                                 'lh_G_oc-temp_med-Lingual_thickness_Z_predict',\n",
    "                                 'lh_Pole_occipital_thickness_Z_predict',\n",
    "                                 'lh_S_collat_transv_ant_thickness_Z_predict',\n",
    "                                 'rh_S_circular_insula_sup_thickness_Z_predict',\n",
    "                                 'lh_S_precentral-sup-part_thickness_Z_predict',\n",
    "                                 'lh_G_front_sup_thickness_Z_predict',\n",
    "                                 'lh_S_circular_insula_ant_thickness_Z_predict',\n",
    "                                 'rh_G_oc-temp_med-Lingual_thickness_Z_predict',\n",
    "                                 'rh_G_front_sup_thickness_Z_predict',\n",
    "                                 'rh_S_occipital_ant_thickness_Z_predict',\n",
    "                                 'lh_S_pericallosal_thickness_Z_predict',\n",
    "                                 'rh_G_front_inf-Orbital_thickness_Z_predict',\n",
    "                                 'rh_G_postcentral_thickness_Z_predict',\n",
    "                                 'rh_G_precentral_thickness_Z_predict',\n",
    "                                 'lh_G_subcallosal_thickness_Z_predict',\n",
    "                                 'rh_S_temporal_sup_thickness_Z_predict',\n",
    "                                 'Right-VentralDC_Z_predict',\n",
    "                                 'Right-Pallidum_Z_predict',\n",
    "                                 'lh_Lat_Fis-ant-Horizont_thickness_Z_predict',\n",
    "                                 'Left-Caudate_Z_predict',\n",
    "                                 'Left-vessel_Z_predict',\n",
    "                                 'SubCortGrayVol_Z_predict',\n",
    "                                 'lh_S_precentral-inf-part_thickness_Z_predict',\n",
    "                                 'Right-Cerebellum-Cortex_Z_predict',\n",
    "                                 'Left-Cerebellum-Cortex_Z_predict',\n",
    "                                 'rh_S_pericallosal_thickness_Z_predict',\n",
    "                                 'lh_G_occipital_sup_thickness_Z_predict',\n",
    "                                 'rh_G&S_subcentral_thickness_Z_predict',\n",
    "                                 'rh_G_cingul-Post-ventral_thickness_Z_predict',\n",
    "                                 'lh_S_calcarine_thickness_Z_predict',\n",
    "                                 'Right-Amygdala_Z_predict',\n",
    "                                 'Left-Accumbens-area_Z_predict',\n",
    "                                 'Left-Lateral-Ventricle_Z_predict',\n",
    "                                 'rh_G_orbital_thickness_Z_predict',\n",
    "                                 'lh_S_orbital_lateral_thickness_Z_predict',\n",
    "                                 'rh_G_front_inf-Triangul_thickness_Z_predict',\n",
    "                                 'rh_G_temporal_inf_thickness_Z_predict',\n",
    "                                 'lh_S_occipital_ant_thickness_Z_predict',\n",
    "                                 'lh_S_front_middle_thickness_Z_predict',\n",
    "                                 'lh_G&S_transv_frontopol_thickness_Z_predict',\n",
    "                                 'rh_S_orbital_med-olfact_thickness_Z_predict',\n",
    "                                 'Left-VentralDC_Z_predict',\n",
    "                                 'lh_G_pariet_inf-Angular_thickness_Z_predict',\n",
    "                                 'lh_G_temp_sup-Lateral_thickness_Z_predict',\n",
    "                                 'Left-Hippocampus_Z_predict',\n",
    "                                 'lh_S_central_thickness_Z_predict',\n",
    "                                 'lh_S_cingul-Marginalis_thickness_Z_predict',\n",
    "                                 'lh_G_oc-temp_med-Parahip_thickness_Z_predict',\n",
    "                                 'lh_G_parietal_sup_thickness_Z_predict',\n",
    "                                 'lh_G&S_cingul-Mid-Ant_thickness_Z_predict',\n",
    "                                 'lh_Pole_temporal_thickness_Z_predict',\n",
    "                                 'lh_G_precentral_thickness_Z_predict',\n",
    "                                 'rh_S_temporal_transverse_thickness_Z_predict',\n",
    "                                 'rh_G_front_middle_thickness_Z_predict',\n",
    "                                 'lh_S_front_sup_thickness_Z_predict',\n",
    "                                 'rh_S_central_thickness_Z_predict',\n",
    "                                 'rh_G_rectus_thickness_Z_predict',\n",
    "                                 'rh_S_circular_insula_ant_thickness_Z_predict',\n",
    "                                 'rh_G_precuneus_thickness_Z_predict',\n",
    "                                 'rh_G&S_frontomargin_thickness_Z_predict',\n",
    "                                 'Brain-Stem_Z_predict',\n",
    "                                 'rh_Pole_occipital_thickness_Z_predict',\n",
    "                                 'lh_S_oc-temp_med&Lingual_thickness_Z_predict',\n",
    "                                 'rh_S_temporal_inf_thickness_Z_predict',\n",
    "                                 'rh_S_front_sup_thickness_Z_predict',\n",
    "                                 'lh_G&S_paracentral_thickness_Z_predict',\n",
    "                                 'rh_G_front_inf-Opercular_thickness_Z_predict',\n",
    "                                 'rh_G_temp_sup-Plan_polar_thickness_Z_predict',\n",
    "                                 'lh_G_cingul-Post-ventral_thickness_Z_predict',\n",
    "                                 'lh_G_temporal_inf_thickness_Z_predict',\n",
    "                                 'lh_S_subparietal_thickness_Z_predict',\n",
    "                                 'rh_Lat_Fis-post_thickness_Z_predict',\n",
    "                                 'rh_G_subcallosal_thickness_Z_predict',\n",
    "                                 'SupraTentorialVolNotVent_Z_predict',\n",
    "                                 'lh_G_front_inf-Orbital_thickness_Z_predict',\n",
    "                                 'lh_G&S_occipital_inf_thickness_Z_predict',\n",
    "                                 'EstimatedTotalIntraCranialVol_Z_predict'])"
   ]
  },
  {
   "cell_type": "code",
   "execution_count": 925,
   "id": "1e793c2a-8c6d-4048-bf91-b7a3d76fcc93",
   "metadata": {
    "tags": []
   },
   "outputs": [],
   "source": [
    "z_long['variable'] = z_long['variable'].str.replace('_thickness_Z_estimate', '', regex=True)\n",
    "z_long['variable'] = z_long['variable'].str.replace('_Z_estimate', '', regex=True)\n",
    "z_long['variable'] = z_long['variable'].str.replace('G&S', 'G_and_S', regex=True)"
   ]
  },
  {
   "cell_type": "code",
   "execution_count": 1034,
   "id": "551a6c36-fd70-4420-9fd1-0e61d36dabb1",
   "metadata": {
    "tags": []
   },
   "outputs": [],
   "source": [
    "z_long['variable'] = z_long['variable'].str.replace('_thickness_Z_predict', '', regex=True)\n",
    "z_long['variable'] = z_long['variable'].str.replace('_Z_predict', '', regex=True)\n",
    "z_long['variable'] = z_long['variable'].str.replace('G&S', 'G_and_S', regex=True)"
   ]
  },
  {
   "cell_type": "code",
   "execution_count": 1035,
   "id": "f488aa82-3942-477e-8293-0e06183b0ffc",
   "metadata": {},
   "outputs": [],
   "source": [
    "z_long[['temp1', 'temp2']] = z_long['variable'].str.split(pat=\"_\", n=1, expand=True)"
   ]
  },
  {
   "cell_type": "code",
   "execution_count": 1036,
   "id": "5b20569a-2d7b-4350-b722-345b65cd0ebe",
   "metadata": {},
   "outputs": [],
   "source": [
    "z_long.temp1 = z_long.temp1.apply(lambda x: 'left' if 'lh' in x else x)"
   ]
  },
  {
   "cell_type": "code",
   "execution_count": 1037,
   "id": "86de8f11-5443-479c-a0d7-ce472eae25f0",
   "metadata": {},
   "outputs": [],
   "source": [
    "z_long.temp1 = z_long.temp1.apply(lambda x: 'right' if 'rh' in x else x)"
   ]
  },
  {
   "cell_type": "code",
   "execution_count": 1038,
   "id": "eb5eaec6-184a-436a-9c4f-5bd563c3f99c",
   "metadata": {},
   "outputs": [],
   "source": [
    "df_sc1 = z_long[~z_long[\"temp1\"].str.contains('left|right|CC')]"
   ]
  },
  {
   "cell_type": "code",
   "execution_count": 1039,
   "id": "3f153a3f-fcf8-423b-89de-4b655b3a987f",
   "metadata": {},
   "outputs": [],
   "source": [
    "df_sc2 = z_long[z_long[\"temp1\"].str.contains('CC')]"
   ]
  },
  {
   "cell_type": "code",
   "execution_count": 1040,
   "id": "51795fd7-cfde-4855-8cc6-0adc66779d0b",
   "metadata": {},
   "outputs": [],
   "source": [
    "df_lr = z_long[z_long[\"temp1\"].str.contains('left|right')]"
   ]
  },
  {
   "cell_type": "code",
   "execution_count": 1041,
   "id": "e856c0db-35bc-4f15-acb3-e10bbf768055",
   "metadata": {},
   "outputs": [
    {
     "name": "stderr",
     "output_type": "stream",
     "text": [
      "/opt/anaconda3/envs/braincharts/lib/python3.9/site-packages/pandas/core/indexing.py:1773: SettingWithCopyWarning: \n",
      "A value is trying to be set on a copy of a slice from a DataFrame.\n",
      "Try using .loc[row_indexer,col_indexer] = value instead\n",
      "\n",
      "See the caveats in the documentation: https://pandas.pydata.org/pandas-docs/stable/user_guide/indexing.html#returning-a-view-versus-a-copy\n",
      "  self._setitem_single_column(ilocs[0], value, pi)\n"
     ]
    }
   ],
   "source": [
    "df_sc1.loc[:,'temp2'] = df_sc1['temp1']"
   ]
  },
  {
   "cell_type": "code",
   "execution_count": 1042,
   "id": "26d048f6-82f0-40df-852e-6743b9c2ea8c",
   "metadata": {},
   "outputs": [
    {
     "name": "stderr",
     "output_type": "stream",
     "text": [
      "/opt/anaconda3/envs/braincharts/lib/python3.9/site-packages/pandas/core/indexing.py:1817: SettingWithCopyWarning: \n",
      "A value is trying to be set on a copy of a slice from a DataFrame.\n",
      "Try using .loc[row_indexer,col_indexer] = value instead\n",
      "\n",
      "See the caveats in the documentation: https://pandas.pydata.org/pandas-docs/stable/user_guide/indexing.html#returning-a-view-versus-a-copy\n",
      "  self._setitem_single_column(loc, value, pi)\n"
     ]
    }
   ],
   "source": [
    "df_sc1.loc[:,'temp1'] = 'subcortical'"
   ]
  },
  {
   "cell_type": "code",
   "execution_count": 1043,
   "id": "a4f9f03d-199c-44ba-bd2f-88cc305ae245",
   "metadata": {},
   "outputs": [],
   "source": [
    "df_sc2.loc[:,'temp1'] = 'subcortical'"
   ]
  },
  {
   "cell_type": "code",
   "execution_count": 1044,
   "id": "fe993908-b4fc-4759-8e15-4aeb459abeb3",
   "metadata": {},
   "outputs": [],
   "source": [
    "df_sc2.loc[:,'temp2'] = df_sc2['variable']"
   ]
  },
  {
   "cell_type": "code",
   "execution_count": 1045,
   "id": "239079b4-2146-4c9a-8792-ab85c1e3be7a",
   "metadata": {},
   "outputs": [],
   "source": [
    "df_sc = pd.merge(df_sc1, df_sc2, how='outer')"
   ]
  },
  {
   "cell_type": "code",
   "execution_count": 1046,
   "id": "423c12b1-7f5b-48b4-be0d-8d7dc92bb61a",
   "metadata": {},
   "outputs": [],
   "source": [
    "df = pd.merge(df_lr, df_sc, how='outer')"
   ]
  },
  {
   "cell_type": "code",
   "execution_count": 1047,
   "id": "d5ad2d77-3588-4972-9ec8-6fc9691ab010",
   "metadata": {},
   "outputs": [],
   "source": [
    "df['hemi'] = df['temp1']"
   ]
  },
  {
   "cell_type": "code",
   "execution_count": 1048,
   "id": "0f4a378e-4b45-4bdf-82e7-94994f400b8a",
   "metadata": {},
   "outputs": [],
   "source": [
    "df['ROI_name'] = df['temp2']"
   ]
  },
  {
   "cell_type": "code",
   "execution_count": 1049,
   "id": "a1a91ee1-0b2b-425f-b78f-554a49969d9e",
   "metadata": {},
   "outputs": [
    {
     "data": {
      "text/plain": [
       "Index(['sub_id', 'race_1', 'variable', 'value', 'temp1', 'temp2', 'hemi',\n",
       "       'ROI_name'],\n",
       "      dtype='object')"
      ]
     },
     "execution_count": 1049,
     "metadata": {},
     "output_type": "execute_result"
    }
   ],
   "source": [
    "df.columns"
   ]
  },
  {
   "cell_type": "code",
   "execution_count": 1050,
   "id": "7c0e9203-8bd0-4241-897c-747a44111f90",
   "metadata": {
    "collapsed": true,
    "jupyter": {
     "outputs_hidden": true
    },
    "tags": []
   },
   "outputs": [
    {
     "ename": "KeyError",
     "evalue": "\"['participant_id'] not in index\"",
     "output_type": "error",
     "traceback": [
      "\u001b[0;31m---------------------------------------------------------------------------\u001b[0m",
      "\u001b[0;31mKeyError\u001b[0m                                  Traceback (most recent call last)",
      "\u001b[0;32m/var/folders/xx/1xs7sc795_nf7k125153b6qh0000gn/T/ipykernel_2212/2784721712.py\u001b[0m in \u001b[0;36m<module>\u001b[0;34m\u001b[0m\n\u001b[0;32m----> 1\u001b[0;31m \u001b[0mdf\u001b[0m \u001b[0;34m=\u001b[0m \u001b[0mdf\u001b[0m\u001b[0;34m[\u001b[0m\u001b[0;34m[\u001b[0m\u001b[0;34m'participant_id'\u001b[0m\u001b[0;34m,\u001b[0m \u001b[0;34m'race_1'\u001b[0m\u001b[0;34m,\u001b[0m \u001b[0;34m'value'\u001b[0m\u001b[0;34m,\u001b[0m \u001b[0;34m'variable'\u001b[0m\u001b[0;34m,\u001b[0m \u001b[0;34m'hemi'\u001b[0m\u001b[0;34m,\u001b[0m \u001b[0;34m'ROI_name'\u001b[0m\u001b[0;34m]\u001b[0m\u001b[0;34m]\u001b[0m\u001b[0;34m\u001b[0m\u001b[0;34m\u001b[0m\u001b[0m\n\u001b[0m",
      "\u001b[0;32m/opt/anaconda3/envs/braincharts/lib/python3.9/site-packages/pandas/core/frame.py\u001b[0m in \u001b[0;36m__getitem__\u001b[0;34m(self, key)\u001b[0m\n\u001b[1;32m   3462\u001b[0m             \u001b[0;32mif\u001b[0m \u001b[0mis_iterator\u001b[0m\u001b[0;34m(\u001b[0m\u001b[0mkey\u001b[0m\u001b[0;34m)\u001b[0m\u001b[0;34m:\u001b[0m\u001b[0;34m\u001b[0m\u001b[0;34m\u001b[0m\u001b[0m\n\u001b[1;32m   3463\u001b[0m                 \u001b[0mkey\u001b[0m \u001b[0;34m=\u001b[0m \u001b[0mlist\u001b[0m\u001b[0;34m(\u001b[0m\u001b[0mkey\u001b[0m\u001b[0;34m)\u001b[0m\u001b[0;34m\u001b[0m\u001b[0;34m\u001b[0m\u001b[0m\n\u001b[0;32m-> 3464\u001b[0;31m             \u001b[0mindexer\u001b[0m \u001b[0;34m=\u001b[0m \u001b[0mself\u001b[0m\u001b[0;34m.\u001b[0m\u001b[0mloc\u001b[0m\u001b[0;34m.\u001b[0m\u001b[0m_get_listlike_indexer\u001b[0m\u001b[0;34m(\u001b[0m\u001b[0mkey\u001b[0m\u001b[0;34m,\u001b[0m \u001b[0maxis\u001b[0m\u001b[0;34m=\u001b[0m\u001b[0;36m1\u001b[0m\u001b[0;34m)\u001b[0m\u001b[0;34m[\u001b[0m\u001b[0;36m1\u001b[0m\u001b[0;34m]\u001b[0m\u001b[0;34m\u001b[0m\u001b[0;34m\u001b[0m\u001b[0m\n\u001b[0m\u001b[1;32m   3465\u001b[0m \u001b[0;34m\u001b[0m\u001b[0m\n\u001b[1;32m   3466\u001b[0m         \u001b[0;31m# take() does not accept boolean indexers\u001b[0m\u001b[0;34m\u001b[0m\u001b[0;34m\u001b[0m\u001b[0m\n",
      "\u001b[0;32m/opt/anaconda3/envs/braincharts/lib/python3.9/site-packages/pandas/core/indexing.py\u001b[0m in \u001b[0;36m_get_listlike_indexer\u001b[0;34m(self, key, axis)\u001b[0m\n\u001b[1;32m   1312\u001b[0m             \u001b[0mkeyarr\u001b[0m\u001b[0;34m,\u001b[0m \u001b[0mindexer\u001b[0m\u001b[0;34m,\u001b[0m \u001b[0mnew_indexer\u001b[0m \u001b[0;34m=\u001b[0m \u001b[0max\u001b[0m\u001b[0;34m.\u001b[0m\u001b[0m_reindex_non_unique\u001b[0m\u001b[0;34m(\u001b[0m\u001b[0mkeyarr\u001b[0m\u001b[0;34m)\u001b[0m\u001b[0;34m\u001b[0m\u001b[0;34m\u001b[0m\u001b[0m\n\u001b[1;32m   1313\u001b[0m \u001b[0;34m\u001b[0m\u001b[0m\n\u001b[0;32m-> 1314\u001b[0;31m         \u001b[0mself\u001b[0m\u001b[0;34m.\u001b[0m\u001b[0m_validate_read_indexer\u001b[0m\u001b[0;34m(\u001b[0m\u001b[0mkeyarr\u001b[0m\u001b[0;34m,\u001b[0m \u001b[0mindexer\u001b[0m\u001b[0;34m,\u001b[0m \u001b[0maxis\u001b[0m\u001b[0;34m)\u001b[0m\u001b[0;34m\u001b[0m\u001b[0;34m\u001b[0m\u001b[0m\n\u001b[0m\u001b[1;32m   1315\u001b[0m \u001b[0;34m\u001b[0m\u001b[0m\n\u001b[1;32m   1316\u001b[0m         if needs_i8_conversion(ax.dtype) or isinstance(\n",
      "\u001b[0;32m/opt/anaconda3/envs/braincharts/lib/python3.9/site-packages/pandas/core/indexing.py\u001b[0m in \u001b[0;36m_validate_read_indexer\u001b[0;34m(self, key, indexer, axis)\u001b[0m\n\u001b[1;32m   1375\u001b[0m \u001b[0;34m\u001b[0m\u001b[0m\n\u001b[1;32m   1376\u001b[0m             \u001b[0mnot_found\u001b[0m \u001b[0;34m=\u001b[0m \u001b[0mlist\u001b[0m\u001b[0;34m(\u001b[0m\u001b[0mensure_index\u001b[0m\u001b[0;34m(\u001b[0m\u001b[0mkey\u001b[0m\u001b[0;34m)\u001b[0m\u001b[0;34m[\u001b[0m\u001b[0mmissing_mask\u001b[0m\u001b[0;34m.\u001b[0m\u001b[0mnonzero\u001b[0m\u001b[0;34m(\u001b[0m\u001b[0;34m)\u001b[0m\u001b[0;34m[\u001b[0m\u001b[0;36m0\u001b[0m\u001b[0;34m]\u001b[0m\u001b[0;34m]\u001b[0m\u001b[0;34m.\u001b[0m\u001b[0munique\u001b[0m\u001b[0;34m(\u001b[0m\u001b[0;34m)\u001b[0m\u001b[0;34m)\u001b[0m\u001b[0;34m\u001b[0m\u001b[0;34m\u001b[0m\u001b[0m\n\u001b[0;32m-> 1377\u001b[0;31m             \u001b[0;32mraise\u001b[0m \u001b[0mKeyError\u001b[0m\u001b[0;34m(\u001b[0m\u001b[0;34mf\"{not_found} not in index\"\u001b[0m\u001b[0;34m)\u001b[0m\u001b[0;34m\u001b[0m\u001b[0;34m\u001b[0m\u001b[0m\n\u001b[0m\u001b[1;32m   1378\u001b[0m \u001b[0;34m\u001b[0m\u001b[0m\n\u001b[1;32m   1379\u001b[0m \u001b[0;34m\u001b[0m\u001b[0m\n",
      "\u001b[0;31mKeyError\u001b[0m: \"['participant_id'] not in index\""
     ]
    }
   ],
   "source": [
    "df = df[['participant_id', 'race_1', 'value', 'variable', 'hemi', 'ROI_name']]"
   ]
  },
  {
   "cell_type": "code",
   "execution_count": 726,
   "id": "35ebff87-1aa0-496f-9f48-cd9be7ab252b",
   "metadata": {
    "jupyter": {
     "source_hidden": true
    },
    "tags": []
   },
   "outputs": [],
   "source": [
    "df = df[['sub_id', 'Race', 'value', 'variable', 'hemi', 'ROI_name']]"
   ]
  },
  {
   "cell_type": "code",
   "execution_count": null,
   "id": "b0ec36ff-41f8-4170-ac28-c8cf342374a7",
   "metadata": {},
   "outputs": [],
   "source": [
    "z_long = df"
   ]
  },
  {
   "cell_type": "code",
   "execution_count": 157,
   "id": "dc3147b6-fa85-4331-afd1-ce35b09c29c4",
   "metadata": {
    "jupyter": {
     "source_hidden": true
    },
    "tags": []
   },
   "outputs": [],
   "source": [
    "z_long2 = z_long.query('value > 2 | value < -2')"
   ]
  },
  {
   "cell_type": "code",
   "execution_count": null,
   "id": "c239bb7e-e05d-4639-9d24-8b77c11954e5",
   "metadata": {
    "jupyter": {
     "source_hidden": true
    },
    "tags": []
   },
   "outputs": [],
   "source": [
    "z_long2['Race'].value_counts()"
   ]
  },
  {
   "cell_type": "code",
   "execution_count": null,
   "id": "e6985ddb-f8e6-4180-aeb0-e9bcc4d2edde",
   "metadata": {},
   "outputs": [],
   "source": [
    "destrieux_atlas = datasets.fetch_atlas_surf_destrieux()\n",
    "fsaverage = datasets.fetch_surf_fsaverage()"
   ]
  },
  {
   "cell_type": "code",
   "execution_count": null,
   "id": "0fcc142b-bf9a-44c6-8810-ef1740dde2b2",
   "metadata": {},
   "outputs": [],
   "source": [
    "# The parcellation is already loaded into memory\n",
    "parcellation_l = destrieux_atlas['map_left']\n",
    "parcellation_r = destrieux_atlas['map_right']"
   ]
  },
  {
   "cell_type": "code",
   "execution_count": null,
   "id": "0eec06f7-9194-4878-b098-ba9e037f0046",
   "metadata": {},
   "outputs": [],
   "source": [
    "nl = pd.read_csv('/Users/saigerutherford/Documents/Work/drive-download-20220731T221458Z-001/nilearn_order.csv')"
   ]
  },
  {
   "cell_type": "code",
   "execution_count": null,
   "id": "49c38831-392e-41b4-bb96-90d8ed6a9d19",
   "metadata": {},
   "outputs": [],
   "source": [
    "cols = ['ROI']"
   ]
  },
  {
   "cell_type": "code",
   "execution_count": null,
   "id": "2b680695-672f-48ea-a42b-af556be8ad93",
   "metadata": {},
   "outputs": [],
   "source": [
    "nl[cols] = nl[cols].apply(lambda x: x.str.strip())"
   ]
  },
  {
   "cell_type": "code",
   "execution_count": null,
   "id": "613002e4-f47a-481c-bfeb-df0df12ca9ec",
   "metadata": {},
   "outputs": [],
   "source": [
    "atlas_r = destrieux_atlas['map_right']\n",
    "atlas_l = destrieux_atlas['map_left']"
   ]
  },
  {
   "cell_type": "code",
   "execution_count": null,
   "id": "e4902bff-e31a-4403-9f9b-fd0a9bcdb6b3",
   "metadata": {},
   "outputs": [],
   "source": [
    "nl_ROI = nl['ROI'].to_list()"
   ]
  },
  {
   "cell_type": "code",
   "execution_count": 228,
   "id": "3a1ee705-4b2e-4e41-a16d-a955fa6d11e3",
   "metadata": {
    "jupyter": {
     "source_hidden": true
    },
    "tags": []
   },
   "outputs": [],
   "source": [
    "z_long2_white = z_long2.query('Race == \"White\"')\n",
    "z_long2_black = z_long2.query('Race == \"Black\"')\n",
    "z_long2_asian = z_long2.query('Race == \"Asian\"')"
   ]
  },
  {
   "cell_type": "code",
   "execution_count": 735,
   "id": "f128d0d4-1f6d-4ffb-b73c-55bb94186cff",
   "metadata": {
    "jupyter": {
     "source_hidden": true
    },
    "tags": []
   },
   "outputs": [],
   "source": [
    "z_long_white = z_long.query('Race == \"White\"')\n",
    "z_long_black = z_long.query('Race == \"Black\"')\n",
    "z_long_asian = z_long.query('Race == \"Asian\"')"
   ]
  },
  {
   "cell_type": "code",
   "execution_count": null,
   "id": "e5b6fb94-7248-42a5-9ae1-0013317a0e19",
   "metadata": {
    "jupyter": {
     "source_hidden": true
    },
    "tags": []
   },
   "outputs": [],
   "source": [
    "z_long_white = z_long2.query('race_1 == \"White\"')\n",
    "z_long_black = z_long2.query('race_1 == \"Black\"')\n",
    "z_long_asian = z_long2.query('race_1 == \"Asian\"')"
   ]
  },
  {
   "cell_type": "code",
   "execution_count": null,
   "id": "475e5fb0-015d-4b50-b5d2-7398354548d8",
   "metadata": {
    "tags": []
   },
   "outputs": [],
   "source": [
    "z_long_white = z_long.query('race_1 == \"White\"')\n",
    "z_long_black = z_long.query('race_1 == \"Black\"')\n",
    "z_long_asian = z_long.query('race_1 == \"Asian\"')"
   ]
  },
  {
   "cell_type": "code",
   "execution_count": null,
   "id": "753d8d44-3d14-4591-ad95-5ae51c8ce1a9",
   "metadata": {},
   "outputs": [],
   "source": [
    "z_long_white2 = z_long_white.groupby(by='variable',as_index=False).mean()"
   ]
  },
  {
   "cell_type": "code",
   "execution_count": null,
   "id": "5be8ae49-ba13-4fa7-8d42-5f851dd150ac",
   "metadata": {},
   "outputs": [],
   "source": [
    "z_long_black2 = z_long_black.groupby(by='variable',as_index=False).mean()"
   ]
  },
  {
   "cell_type": "code",
   "execution_count": null,
   "id": "02339cdd-e6b1-4b15-91f4-3014bc3c7222",
   "metadata": {},
   "outputs": [],
   "source": [
    "z_long_asian2 = z_long_asian.groupby(by='variable',as_index=False).mean()"
   ]
  },
  {
   "cell_type": "code",
   "execution_count": 1051,
   "id": "8db01d38-6781-4d6a-a87b-4d8a2fe778b9",
   "metadata": {},
   "outputs": [],
   "source": [
    "z_long_white2[['temp1', 'temp2']] = z_long_white2['variable'].str.split(pat=\"_\", n=1, expand=True)"
   ]
  },
  {
   "cell_type": "code",
   "execution_count": 1052,
   "id": "3c7159ca-d259-48d3-a27b-62e3d5c61c47",
   "metadata": {},
   "outputs": [],
   "source": [
    "z_long_white2.temp1 = z_long_white2.temp1.apply(lambda x: 'left' if 'lh' in x else x)"
   ]
  },
  {
   "cell_type": "code",
   "execution_count": 1053,
   "id": "e8f52a3e-5073-49a7-9577-42f791fb59e5",
   "metadata": {},
   "outputs": [],
   "source": [
    "z_long_white2.temp1 = z_long_white2.temp1.apply(lambda x: 'right' if 'rh' in x else x)"
   ]
  },
  {
   "cell_type": "code",
   "execution_count": 1054,
   "id": "4e2d21f0-82da-4c1f-a964-6205e4177a75",
   "metadata": {},
   "outputs": [],
   "source": [
    "df_sc1 = z_long_white2[~z_long_white2[\"temp1\"].str.contains('left|right|CC')]"
   ]
  },
  {
   "cell_type": "code",
   "execution_count": 1055,
   "id": "5f8f6e91-dc87-477b-91b9-ba6bc38808c7",
   "metadata": {},
   "outputs": [],
   "source": [
    "df_sc2 = z_long_white2[z_long_white2[\"temp1\"].str.contains('CC')]"
   ]
  },
  {
   "cell_type": "code",
   "execution_count": 1056,
   "id": "3d3cb4e2-93d7-4e7e-bc81-d21bdb04354e",
   "metadata": {},
   "outputs": [],
   "source": [
    "df_lr = z_long_white2[z_long_white2[\"temp1\"].str.contains('left|right')]"
   ]
  },
  {
   "cell_type": "code",
   "execution_count": 1057,
   "id": "e35e769f-fe4f-4ed1-b419-83c659edd729",
   "metadata": {},
   "outputs": [],
   "source": [
    "df_sc1.loc[:,'temp2'] = df_sc1['temp1']"
   ]
  },
  {
   "cell_type": "code",
   "execution_count": 1058,
   "id": "22dae8eb-d452-482c-8312-d4d8897ddf0e",
   "metadata": {},
   "outputs": [],
   "source": [
    "df_sc1.loc[:,'temp1'] = 'subcortical'"
   ]
  },
  {
   "cell_type": "code",
   "execution_count": 1059,
   "id": "fc670b72-10ba-4411-98f4-29d7a99186fc",
   "metadata": {},
   "outputs": [],
   "source": [
    "df_sc2.loc[:,'temp1'] = 'subcortical'"
   ]
  },
  {
   "cell_type": "code",
   "execution_count": 1060,
   "id": "fe298457-882d-4403-bc91-a28ed32f7822",
   "metadata": {},
   "outputs": [],
   "source": [
    "df_sc2.loc[:,'temp2'] = df_sc2['variable']"
   ]
  },
  {
   "cell_type": "code",
   "execution_count": 1061,
   "id": "19018df2-01e1-4bcd-8988-264f7c7b9e73",
   "metadata": {},
   "outputs": [],
   "source": [
    "df_sc = pd.merge(df_sc1, df_sc2, how='outer')"
   ]
  },
  {
   "cell_type": "code",
   "execution_count": 1062,
   "id": "71c3609e-6dab-4567-9c8a-422e19ace4f9",
   "metadata": {},
   "outputs": [],
   "source": [
    "df = pd.merge(df_lr, df_sc, how='outer')"
   ]
  },
  {
   "cell_type": "code",
   "execution_count": 1063,
   "id": "a6bab615-43f3-4dff-b83b-6a3c7d11b561",
   "metadata": {},
   "outputs": [],
   "source": [
    "df['hemi'] = df['temp1']"
   ]
  },
  {
   "cell_type": "code",
   "execution_count": 1064,
   "id": "57a67cf6-26f6-4578-96fb-670af884d6c0",
   "metadata": {},
   "outputs": [],
   "source": [
    "df['ROI'] = df['temp2']"
   ]
  },
  {
   "cell_type": "code",
   "execution_count": 1065,
   "id": "7091c59e-3625-418c-bb22-8c17680733a8",
   "metadata": {},
   "outputs": [
    {
     "data": {
      "text/plain": [
       "Index(['value', 'variable', 'hemi', 'ROI', 'temp1', 'temp2'], dtype='object')"
      ]
     },
     "execution_count": 1065,
     "metadata": {},
     "output_type": "execute_result"
    }
   ],
   "source": [
    "df.columns"
   ]
  },
  {
   "cell_type": "code",
   "execution_count": 1066,
   "id": "1d0108a7-ed87-452c-a5a7-f5b19e03d945",
   "metadata": {},
   "outputs": [],
   "source": [
    "df = df[['value', 'variable', 'hemi', 'ROI']]"
   ]
  },
  {
   "cell_type": "code",
   "execution_count": 1067,
   "id": "ac9e3aa2-33cd-4a28-8b67-ff44c7de91ed",
   "metadata": {},
   "outputs": [],
   "source": [
    "z_long_white2 = df"
   ]
  },
  {
   "cell_type": "code",
   "execution_count": 1068,
   "id": "2c08280b-b6e0-464b-981e-f9efbdd47c9f",
   "metadata": {},
   "outputs": [],
   "source": [
    "z_long_asian2[['temp1', 'temp2']] = z_long_asian2['variable'].str.split(pat=\"_\", n=1, expand=True)"
   ]
  },
  {
   "cell_type": "code",
   "execution_count": 1069,
   "id": "a5a40705-fb13-4a97-9863-451580f6ea75",
   "metadata": {},
   "outputs": [],
   "source": [
    "z_long_asian2.temp1 = z_long_asian2.temp1.apply(lambda x: 'left' if 'lh' in x else x)"
   ]
  },
  {
   "cell_type": "code",
   "execution_count": 1070,
   "id": "9affabd2-d515-40db-af71-4fc31dca2930",
   "metadata": {},
   "outputs": [],
   "source": [
    "z_long_asian2.temp1 = z_long_asian2.temp1.apply(lambda x: 'right' if 'rh' in x else x)"
   ]
  },
  {
   "cell_type": "code",
   "execution_count": 1071,
   "id": "12f4a385-5772-47a4-bbec-09ea6ebf3f22",
   "metadata": {},
   "outputs": [],
   "source": [
    "df_sc1 = z_long_asian2[~z_long_asian2[\"temp1\"].str.contains('left|right|CC')]"
   ]
  },
  {
   "cell_type": "code",
   "execution_count": 1072,
   "id": "46cd27ee-210a-4677-9f10-d09c106e03ab",
   "metadata": {},
   "outputs": [],
   "source": [
    "df_sc2 = z_long_asian2[z_long_asian2[\"temp1\"].str.contains('CC')]"
   ]
  },
  {
   "cell_type": "code",
   "execution_count": 1073,
   "id": "1f4a939e-8f13-4e29-accf-c7fc00ca4c12",
   "metadata": {},
   "outputs": [],
   "source": [
    "df_lr = z_long_asian2[z_long_asian2[\"temp1\"].str.contains('left|right')]"
   ]
  },
  {
   "cell_type": "code",
   "execution_count": 1074,
   "id": "6d0b917b-ee8c-4724-ac4e-129d8b952980",
   "metadata": {},
   "outputs": [],
   "source": [
    "df_sc1.loc[:,'temp2'] = df_sc1['temp1']"
   ]
  },
  {
   "cell_type": "code",
   "execution_count": 1075,
   "id": "b16edf06-e78b-43d2-98c3-9f3887930e27",
   "metadata": {},
   "outputs": [],
   "source": [
    "df_sc1.loc[:,'temp1'] = 'subcortical'"
   ]
  },
  {
   "cell_type": "code",
   "execution_count": 1076,
   "id": "3501153b-5798-4e8a-bfa7-16876624d2ae",
   "metadata": {},
   "outputs": [],
   "source": [
    "df_sc2.loc[:,'temp1'] = 'subcortical'"
   ]
  },
  {
   "cell_type": "code",
   "execution_count": 1077,
   "id": "b712f0a2-e742-4c54-88d2-7bc1714bd2b4",
   "metadata": {},
   "outputs": [],
   "source": [
    "df_sc2.loc[:,'temp2'] = df_sc2['variable']"
   ]
  },
  {
   "cell_type": "code",
   "execution_count": 1078,
   "id": "22fe3ee0-f876-440f-bf5a-3d5711b8323f",
   "metadata": {},
   "outputs": [],
   "source": [
    "df_sc = pd.merge(df_sc1, df_sc2, how='outer')"
   ]
  },
  {
   "cell_type": "code",
   "execution_count": 1079,
   "id": "e3b55b50-c2bd-418f-bf1d-f78b79b3e980",
   "metadata": {},
   "outputs": [],
   "source": [
    "df = pd.merge(df_lr, df_sc, how='outer')"
   ]
  },
  {
   "cell_type": "code",
   "execution_count": 1080,
   "id": "32980b38-acc7-4d84-93ce-f3ddb82155f3",
   "metadata": {},
   "outputs": [],
   "source": [
    "df['hemi'] = df['temp1']"
   ]
  },
  {
   "cell_type": "code",
   "execution_count": 1081,
   "id": "37118902-385d-46bd-bccf-fd20ff3d8b06",
   "metadata": {},
   "outputs": [],
   "source": [
    "df['ROI'] = df['temp2']"
   ]
  },
  {
   "cell_type": "code",
   "execution_count": 1082,
   "id": "fcb13819-7802-4545-acb1-177fa993d608",
   "metadata": {},
   "outputs": [
    {
     "data": {
      "text/plain": [
       "Index(['value', 'variable', 'hemi', 'ROI', 'temp1', 'temp2'], dtype='object')"
      ]
     },
     "execution_count": 1082,
     "metadata": {},
     "output_type": "execute_result"
    }
   ],
   "source": [
    "df.columns"
   ]
  },
  {
   "cell_type": "code",
   "execution_count": 1083,
   "id": "59f26b89-d29f-4ccb-b9cd-4bacb5e5631d",
   "metadata": {},
   "outputs": [],
   "source": [
    "df = df[['value', 'variable', 'hemi', 'ROI']]"
   ]
  },
  {
   "cell_type": "code",
   "execution_count": 1084,
   "id": "ad757c86-d505-4a79-a1a1-80b60b586d4d",
   "metadata": {},
   "outputs": [],
   "source": [
    "z_long_asian2 = df"
   ]
  },
  {
   "cell_type": "code",
   "execution_count": 1085,
   "id": "9e7b296f-27c3-4340-8620-ff7c9a9ec735",
   "metadata": {},
   "outputs": [],
   "source": [
    "z_long_black2[['temp1', 'temp2']] = z_long_black2['variable'].str.split(pat=\"_\", n=1, expand=True)"
   ]
  },
  {
   "cell_type": "code",
   "execution_count": 1086,
   "id": "d94d471d-92dd-43db-a3e5-bb7e6f25de12",
   "metadata": {},
   "outputs": [],
   "source": [
    "z_long_black2.temp1 = z_long_black2.temp1.apply(lambda x: 'left' if 'lh' in x else x)"
   ]
  },
  {
   "cell_type": "code",
   "execution_count": 1087,
   "id": "c984995b-ff1b-4172-a54d-633ac3bd0128",
   "metadata": {},
   "outputs": [],
   "source": [
    "z_long_black2.temp1 = z_long_black2.temp1.apply(lambda x: 'right' if 'rh' in x else x)"
   ]
  },
  {
   "cell_type": "code",
   "execution_count": 1088,
   "id": "37b46fb1-38cc-4d63-b015-516c8475c18e",
   "metadata": {},
   "outputs": [],
   "source": [
    "df_sc1 = z_long_black2[~z_long_black2[\"temp1\"].str.contains('left|right|CC')]"
   ]
  },
  {
   "cell_type": "code",
   "execution_count": 1089,
   "id": "7f22868a-74b9-4207-9daa-a73799b1f517",
   "metadata": {},
   "outputs": [],
   "source": [
    "df_sc2 = z_long_black2[z_long_black2[\"temp1\"].str.contains('CC')]"
   ]
  },
  {
   "cell_type": "code",
   "execution_count": 1090,
   "id": "9de337cc-9bbb-4b22-8a47-943059c7d37c",
   "metadata": {},
   "outputs": [],
   "source": [
    "df_lr = z_long_black2[z_long_black2[\"temp1\"].str.contains('left|right')]"
   ]
  },
  {
   "cell_type": "code",
   "execution_count": 1091,
   "id": "441eb19f-4d6e-48b3-ba9d-9dd0d2fe8065",
   "metadata": {},
   "outputs": [],
   "source": [
    "df_sc1.loc[:,'temp2'] = df_sc1['temp1']"
   ]
  },
  {
   "cell_type": "code",
   "execution_count": 1092,
   "id": "4ed62908-6dbe-4b00-8ef4-5375458602df",
   "metadata": {},
   "outputs": [],
   "source": [
    "df_sc1.loc[:,'temp1'] = 'subcortical'"
   ]
  },
  {
   "cell_type": "code",
   "execution_count": 1093,
   "id": "9fc4eaa3-d867-4453-a473-ac3a73716e06",
   "metadata": {},
   "outputs": [],
   "source": [
    "df_sc2.loc[:,'temp1'] = 'subcortical'"
   ]
  },
  {
   "cell_type": "code",
   "execution_count": 1094,
   "id": "5cd43ab6-6923-4393-b198-3c3ec7107e16",
   "metadata": {},
   "outputs": [],
   "source": [
    "df_sc2.loc[:,'temp2'] = df_sc2['variable']"
   ]
  },
  {
   "cell_type": "code",
   "execution_count": 1095,
   "id": "dce61754-c4ea-4126-9b17-21a65c45d59d",
   "metadata": {},
   "outputs": [],
   "source": [
    "df_sc = pd.merge(df_sc1, df_sc2, how='outer')"
   ]
  },
  {
   "cell_type": "code",
   "execution_count": 1096,
   "id": "1ae80f34-4423-4c1b-815a-ce252995a4d1",
   "metadata": {},
   "outputs": [],
   "source": [
    "df = pd.merge(df_lr, df_sc, how='outer')"
   ]
  },
  {
   "cell_type": "code",
   "execution_count": 1097,
   "id": "e14f98c8-5d50-4476-b4dd-e7efe96b5dee",
   "metadata": {},
   "outputs": [],
   "source": [
    "df['hemi'] = df['temp1']"
   ]
  },
  {
   "cell_type": "code",
   "execution_count": 1098,
   "id": "e49f3986-cfa9-4157-98cb-9f513115096b",
   "metadata": {},
   "outputs": [],
   "source": [
    "df['ROI'] = df['temp2']"
   ]
  },
  {
   "cell_type": "code",
   "execution_count": 1099,
   "id": "c7c50bfb-3279-47fa-8041-11975d1cdfba",
   "metadata": {},
   "outputs": [
    {
     "data": {
      "text/plain": [
       "Index(['value', 'variable', 'hemi', 'ROI', 'temp1', 'temp2'], dtype='object')"
      ]
     },
     "execution_count": 1099,
     "metadata": {},
     "output_type": "execute_result"
    }
   ],
   "source": [
    "df.columns"
   ]
  },
  {
   "cell_type": "code",
   "execution_count": 1100,
   "id": "4f09f3ec-a805-45fd-ab7d-2e2a10c70433",
   "metadata": {},
   "outputs": [],
   "source": [
    "df = df[['value', 'variable', 'hemi', 'ROI']]"
   ]
  },
  {
   "cell_type": "code",
   "execution_count": 1101,
   "id": "0b7f98f7-76c3-4fc5-ac52-895ef1354346",
   "metadata": {},
   "outputs": [],
   "source": [
    "z_long_black2 = df"
   ]
  },
  {
   "cell_type": "code",
   "execution_count": 168,
   "id": "202d5ff4-3cca-422f-a6df-dbc218f05579",
   "metadata": {
    "tags": []
   },
   "outputs": [],
   "source": [
    "white_left_z = z_long_white.query('hemi == \"left\"')\n",
    "white_right_z = z_long_white.query('hemi == \"right\"')"
   ]
  },
  {
   "cell_type": "code",
   "execution_count": 169,
   "id": "4ba8ba69-32e0-401d-a2ac-f85a41644124",
   "metadata": {
    "jupyter": {
     "source_hidden": true
    },
    "tags": []
   },
   "outputs": [],
   "source": [
    "asian_left_z = z_long_asian.query('hemi == \"left\"')\n",
    "asian_right_z = z_long_asian.query('hemi == \"right\"')"
   ]
  },
  {
   "cell_type": "code",
   "execution_count": 170,
   "id": "e271070a-f77f-4c0b-8817-313bda651578",
   "metadata": {
    "jupyter": {
     "source_hidden": true
    },
    "tags": []
   },
   "outputs": [],
   "source": [
    "black_left_z = z_long_black.query('hemi == \"left\"')\n",
    "black_right_z = z_long_black.query('hemi == \"right\"')"
   ]
  },
  {
   "cell_type": "code",
   "execution_count": 1102,
   "id": "fc96dd0d-2e39-4c93-807e-6bb05fde42ae",
   "metadata": {
    "tags": []
   },
   "outputs": [],
   "source": [
    "white_left_z = z_long_white2.query('hemi == \"left\"')\n",
    "white_right_z = z_long_white2.query('hemi == \"right\"')"
   ]
  },
  {
   "cell_type": "code",
   "execution_count": 1103,
   "id": "d2a52d6f-3f1f-4929-b95f-b404c656f006",
   "metadata": {
    "tags": []
   },
   "outputs": [],
   "source": [
    "asian_left_z = z_long_asian2.query('hemi == \"left\"')\n",
    "asian_right_z = z_long_asian2.query('hemi == \"right\"')"
   ]
  },
  {
   "cell_type": "code",
   "execution_count": 1104,
   "id": "7512eb85-6312-45ec-9921-f88dfd0e0ba1",
   "metadata": {
    "tags": []
   },
   "outputs": [],
   "source": [
    "black_left_z = z_long_black2.query('hemi == \"left\"')\n",
    "black_right_z = z_long_black2.query('hemi == \"right\"')"
   ]
  },
  {
   "cell_type": "code",
   "execution_count": 171,
   "id": "25345ad3-6201-442f-83d3-f23bebf8be30",
   "metadata": {
    "jupyter": {
     "source_hidden": true
    },
    "tags": []
   },
   "outputs": [],
   "source": [
    "white_left_z2 = white_left_z['ROI_name'].value_counts().rename_axis('ROI').reset_index(name='counts')\n",
    "white_right_z2 = white_right_z['ROI_name'].value_counts().rename_axis('ROI').reset_index(name='counts')"
   ]
  },
  {
   "cell_type": "code",
   "execution_count": 172,
   "id": "a10be61f-ca6d-46f2-9ead-9b04916cbf12",
   "metadata": {
    "jupyter": {
     "source_hidden": true
    },
    "tags": []
   },
   "outputs": [],
   "source": [
    "asian_left_z2 = asian_left_z['ROI_name'].value_counts().rename_axis('ROI').reset_index(name='counts')\n",
    "asian_right_z2 = asian_right_z['ROI_name'].value_counts().rename_axis('ROI').reset_index(name='counts')"
   ]
  },
  {
   "cell_type": "code",
   "execution_count": 173,
   "id": "657a0261-cf5e-4253-9d34-683dab75a36b",
   "metadata": {
    "jupyter": {
     "source_hidden": true
    },
    "tags": []
   },
   "outputs": [],
   "source": [
    "black_left_z2 = black_left_z['ROI_name'].value_counts().rename_axis('ROI').reset_index(name='counts')\n",
    "black_right_z2 = black_right_z['ROI_name'].value_counts().rename_axis('ROI').reset_index(name='counts')"
   ]
  },
  {
   "cell_type": "code",
   "execution_count": 174,
   "id": "abdd493c-0d8d-40dc-9287-3707b9db45b0",
   "metadata": {
    "jupyter": {
     "source_hidden": true
    },
    "tags": []
   },
   "outputs": [],
   "source": [
    "nl_white_left = pd.merge(nl, white_left_z2, on='ROI', how='left')\n",
    "nl_white_right = pd.merge(nl, white_right_z2, on='ROI', how='left')"
   ]
  },
  {
   "cell_type": "code",
   "execution_count": 1105,
   "id": "2d88e52b-ecc5-4730-b1a3-94ca8c892569",
   "metadata": {},
   "outputs": [],
   "source": [
    "nl_white_left = pd.merge(nl, white_left_z, on='ROI', how='left')\n",
    "nl_white_right = pd.merge(nl, white_right_z, on='ROI', how='left')"
   ]
  },
  {
   "cell_type": "code",
   "execution_count": 175,
   "id": "b8c96f62-ec3c-4208-84ee-1372682821fb",
   "metadata": {
    "jupyter": {
     "source_hidden": true
    },
    "tags": []
   },
   "outputs": [],
   "source": [
    "nl_white_left['counts'] = nl_white_right['counts'].fillna(0)\n",
    "nl_white_right['counts'] = nl_white_right['counts'].fillna(0)"
   ]
  },
  {
   "cell_type": "code",
   "execution_count": 176,
   "id": "4d61b489-d043-4ed4-ab3d-717da9a07a94",
   "metadata": {
    "jupyter": {
     "source_hidden": true
    },
    "tags": []
   },
   "outputs": [],
   "source": [
    "nl_white_left = nl_white_left['counts'].to_numpy()\n",
    "nl_white_right = nl_white_right['counts'].to_numpy()"
   ]
  },
  {
   "cell_type": "code",
   "execution_count": 1106,
   "id": "7e52cf1b-f203-4b29-96cb-277ac2641650",
   "metadata": {
    "tags": []
   },
   "outputs": [],
   "source": [
    "nl_white_left['value'] = nl_white_right['value'].fillna(0)\n",
    "nl_white_right['value'] = nl_white_right['value'].fillna(0)"
   ]
  },
  {
   "cell_type": "code",
   "execution_count": 1107,
   "id": "ec51f8b4-6d33-4b4f-9f0a-9ecf6b2fdf58",
   "metadata": {
    "tags": []
   },
   "outputs": [],
   "source": [
    "nl_white_left = nl_white_left['value'].to_numpy()\n",
    "nl_white_right = nl_white_right['value'].to_numpy()"
   ]
  },
  {
   "cell_type": "code",
   "execution_count": 1108,
   "id": "f38c37b8-b0d8-4746-bb58-74f1a69425c7",
   "metadata": {},
   "outputs": [],
   "source": [
    "a_list = list(range(1, 76))\n",
    "parcellation_white_l = atlas_l\n",
    "for i, j in enumerate(a_list):\n",
    "    parcellation_white_l = np.where(parcellation_white_l == j, nl_white_left[i], parcellation_white_l)"
   ]
  },
  {
   "cell_type": "code",
   "execution_count": 1109,
   "id": "56028f3c-e31d-4d13-8726-f0e56073900a",
   "metadata": {},
   "outputs": [],
   "source": [
    "a_list = list(range(1, 76))\n",
    "parcellation_white_r = atlas_r\n",
    "for i, j in enumerate(a_list):\n",
    "    parcellation_white_r = np.where(parcellation_white_r == j, nl_white_right[i], parcellation_white_r)"
   ]
  },
  {
   "cell_type": "code",
   "execution_count": 179,
   "id": "1d61dafb-4455-466d-b8c7-57764e9bc9a3",
   "metadata": {
    "jupyter": {
     "source_hidden": true
    },
    "tags": []
   },
   "outputs": [],
   "source": [
    "parcellation_white_r = parcellation_white_r / 424 * 100\n",
    "parcellation_white_l = parcellation_white_l / 424 * 100"
   ]
  },
  {
   "cell_type": "code",
   "execution_count": null,
   "id": "76505665-e74b-4902-98b5-9d27041b021e",
   "metadata": {
    "jupyter": {
     "source_hidden": true
    },
    "tags": []
   },
   "outputs": [],
   "source": [
    "plotting.plot_surf_roi(fsaverage['infl_left'], roi_map=parcellation_white_l, hemi='left', cmap='plasma', vmax=10, threshold=None, bg_map=fsaverage['sulc_left'], view='lateral', output_file='/Users/saigerutherford/Desktop/ukb_race_modeled_extremeZ_white_l.png');"
   ]
  },
  {
   "cell_type": "code",
   "execution_count": null,
   "id": "2f2435aa-8782-4465-9e17-c5b5fc38a336",
   "metadata": {
    "jupyter": {
     "source_hidden": true
    },
    "tags": []
   },
   "outputs": [],
   "source": [
    "plotting.plot_surf_roi(fsaverage['infl_right'], roi_map=parcellation_white_r, hemi='right', cmap='plasma', vmax=10, threshold=None, bg_map=fsaverage['sulc_right'], view='lateral', output_file='/Users/saigerutherford/Desktop/ukb_race_modeled_extremeZ_white_r.png');"
   ]
  },
  {
   "cell_type": "code",
   "execution_count": null,
   "id": "bc7d203a-db47-4a69-8190-5ff31acb629c",
   "metadata": {
    "jupyter": {
     "source_hidden": true
    },
    "tags": []
   },
   "outputs": [],
   "source": [
    "plotting.plot_surf_roi(fsaverage['infl_left'], roi_map=parcellation_white_l, hemi='left', cmap='plasma', vmax=10, threshold=None, bg_map=fsaverage['sulc_left'], view='lateral', output_file='/Users/saigerutherford/Desktop/ukb_pretrain_extremeZ_white_l.png');"
   ]
  },
  {
   "cell_type": "code",
   "execution_count": null,
   "id": "4a8dab55-5003-4976-ad27-d64ef0bf77e8",
   "metadata": {
    "jupyter": {
     "source_hidden": true
    },
    "tags": []
   },
   "outputs": [],
   "source": [
    "plotting.plot_surf_roi(fsaverage['infl_right'], roi_map=parcellation_white_r, hemi='right', cmap='plasma', vmax=10, threshold=None, bg_map=fsaverage['sulc_right'], view='lateral', output_file='/Users/saigerutherford/Desktop/ukb_pretrain_extremeZ_white_r.png');"
   ]
  },
  {
   "cell_type": "code",
   "execution_count": 51,
   "id": "97cd762b-5fba-49a5-bee0-47d82c9693f5",
   "metadata": {
    "jupyter": {
     "source_hidden": true
    },
    "tags": []
   },
   "outputs": [],
   "source": [
    "plotting.plot_surf_roi(fsaverage['infl_left'], roi_map=parcellation_white_l, hemi='left', cmap='plasma', vmax=10, threshold=None, bg_map=fsaverage['sulc_left'], view='lateral', output_file='/Users/saigerutherford/Desktop/hcp_race_modeled_extremeZ_white_l.png');"
   ]
  },
  {
   "cell_type": "code",
   "execution_count": 52,
   "id": "15dbc613-61a3-473b-8d58-dfa4dea07e77",
   "metadata": {
    "jupyter": {
     "source_hidden": true
    },
    "tags": []
   },
   "outputs": [],
   "source": [
    "plotting.plot_surf_roi(fsaverage['infl_right'], roi_map=parcellation_white_r, hemi='right', cmap='plasma', vmax=10, threshold=None, bg_map=fsaverage['sulc_right'], view='lateral', output_file='/Users/saigerutherford/Desktop/hcp_race_modeled_extremeZ_white_r.png');"
   ]
  },
  {
   "cell_type": "code",
   "execution_count": 116,
   "id": "72aa2d07-6b57-43c4-92b3-0e372bc32e07",
   "metadata": {
    "jupyter": {
     "source_hidden": true
    },
    "tags": []
   },
   "outputs": [],
   "source": [
    "plotting.plot_surf_roi(fsaverage['infl_left'], roi_map=parcellation_white_l, hemi='left', cmap='plasma', vmax=10, threshold=None, bg_map=fsaverage['sulc_left'], view='lateral', output_file='/Users/saigerutherford/Desktop/hcp_race_notmodeled_extremeZ_white_l.png');"
   ]
  },
  {
   "cell_type": "code",
   "execution_count": 117,
   "id": "23864faa-c523-4c04-8172-56609e019846",
   "metadata": {
    "jupyter": {
     "source_hidden": true
    },
    "tags": []
   },
   "outputs": [],
   "source": [
    "plotting.plot_surf_roi(fsaverage['infl_right'], roi_map=parcellation_white_r, hemi='right', cmap='plasma', vmax=10, threshold=None, bg_map=fsaverage['sulc_right'], view='lateral', output_file='/Users/saigerutherford/Desktop/hcp_race_notmodeled_extremeZ_white_r.png');"
   ]
  },
  {
   "cell_type": "code",
   "execution_count": 180,
   "id": "3306e8fc-3360-42d1-b284-44857cf263b4",
   "metadata": {
    "jupyter": {
     "source_hidden": true
    },
    "tags": []
   },
   "outputs": [],
   "source": [
    "plotting.plot_surf_roi(fsaverage['infl_left'], roi_map=parcellation_white_l, hemi='left', cmap='plasma', vmax=10, threshold=None, bg_map=fsaverage['sulc_left'], view='lateral', output_file='/Users/saigerutherford/Desktop/hcp_pretrain_extremeZ_white_l.png');"
   ]
  },
  {
   "cell_type": "code",
   "execution_count": 181,
   "id": "48854057-8bae-48f0-81c4-4bcbc92a67ac",
   "metadata": {
    "jupyter": {
     "source_hidden": true
    },
    "tags": []
   },
   "outputs": [],
   "source": [
    "plotting.plot_surf_roi(fsaverage['infl_right'], roi_map=parcellation_white_r, hemi='right', cmap='plasma', vmax=10, threshold=None, bg_map=fsaverage['sulc_right'], view='lateral', output_file='/Users/saigerutherford/Desktop/hcp_pretrain_extremeZ_white_r.png');"
   ]
  },
  {
   "cell_type": "code",
   "execution_count": 307,
   "id": "4ab8cbea-89bf-4c8a-91f9-9d0cf782097b",
   "metadata": {
    "jupyter": {
     "source_hidden": true
    },
    "tags": []
   },
   "outputs": [],
   "source": [
    "plotting.plot_surf_roi(fsaverage['infl_left'], roi_map=parcellation_white_l, hemi='left', cmap='plasma', vmin=-0.5, vmax=0.5, threshold=None, bg_map=fsaverage['sulc_left'], view='lateral', output_file='/Users/saigerutherford/Desktop/hcp_pretrain_meanZ_white_l.png');"
   ]
  },
  {
   "cell_type": "code",
   "execution_count": 308,
   "id": "c0b91dae-cdbf-406b-9d97-a1ae481c7dc0",
   "metadata": {
    "jupyter": {
     "source_hidden": true
    },
    "tags": []
   },
   "outputs": [],
   "source": [
    "plotting.plot_surf_roi(fsaverage['infl_right'], roi_map=parcellation_white_r, hemi='right', cmap='plasma', vmin=-0.5, vmax=0.5, threshold=None, bg_map=fsaverage['sulc_right'], view='lateral', output_file='/Users/saigerutherford/Desktop/hcp_pretrain_meanZ_white_r.png');"
   ]
  },
  {
   "cell_type": "code",
   "execution_count": 691,
   "id": "f1ecc492-e1d9-46ff-af34-82e8fe456583",
   "metadata": {
    "jupyter": {
     "source_hidden": true
    },
    "tags": []
   },
   "outputs": [],
   "source": [
    "plotting.plot_surf_roi(fsaverage['infl_left'], roi_map=parcellation_white_l, hemi='left', cmap='plasma', vmin=-0.5, vmax=0.5, threshold=None, bg_map=fsaverage['sulc_left'], view='lateral', output_file='/Users/saigerutherford/Desktop/hcp_race_notmodeled_meanZ_white_l.png');"
   ]
  },
  {
   "cell_type": "code",
   "execution_count": 692,
   "id": "2fc262e4-2e52-4af0-9f8d-6a26168db7be",
   "metadata": {
    "jupyter": {
     "source_hidden": true
    },
    "tags": []
   },
   "outputs": [],
   "source": [
    "plotting.plot_surf_roi(fsaverage['infl_right'], roi_map=parcellation_white_r, hemi='right', cmap='plasma', vmin=-0.5, vmax=0.5, threshold=None, bg_map=fsaverage['sulc_right'], view='lateral', output_file='/Users/saigerutherford/Desktop/hcp_race_notmodeled_meanZ_white_r.png');"
   ]
  },
  {
   "cell_type": "code",
   "execution_count": 798,
   "id": "6c8f15ed-4764-42a6-9a38-c743f95293eb",
   "metadata": {
    "jupyter": {
     "source_hidden": true
    },
    "tags": []
   },
   "outputs": [],
   "source": [
    "plotting.plot_surf_roi(fsaverage['infl_left'], roi_map=parcellation_white_l, hemi='left', cmap='plasma', vmin=-0.5, vmax=0.5, threshold=None, bg_map=fsaverage['sulc_left'], view='lateral', output_file='/Users/saigerutherford/Desktop/hcp_race_modeled_meanZ_white_l.png');"
   ]
  },
  {
   "cell_type": "code",
   "execution_count": 799,
   "id": "c8f1d317-97fb-4fe5-b3aa-a9934d5cb72b",
   "metadata": {
    "jupyter": {
     "source_hidden": true
    },
    "tags": []
   },
   "outputs": [],
   "source": [
    "plotting.plot_surf_roi(fsaverage['infl_right'], roi_map=parcellation_white_r, hemi='right', cmap='plasma', vmin=-0.5, vmax=0.5, threshold=None, bg_map=fsaverage['sulc_right'], view='lateral', output_file='/Users/saigerutherford/Desktop/hcp_race_modeled_meanZ_white_r.png');"
   ]
  },
  {
   "cell_type": "code",
   "execution_count": 906,
   "id": "9cbdbdba-af0e-4582-b08e-c5f8d23cfe00",
   "metadata": {
    "jupyter": {
     "source_hidden": true
    },
    "tags": []
   },
   "outputs": [],
   "source": [
    "plotting.plot_surf_roi(fsaverage['infl_left'], roi_map=parcellation_white_l, hemi='left', cmap='plasma', vmin=-0.3, vmax=0.3, threshold=None, bg_map=fsaverage['sulc_left'], view='lateral', output_file='/Users/saigerutherford/Desktop/ukb_race_modeled_meanZ_white_l.png');"
   ]
  },
  {
   "cell_type": "code",
   "execution_count": 907,
   "id": "5cfc8aeb-5c57-4068-8564-a15e27045071",
   "metadata": {
    "jupyter": {
     "source_hidden": true
    },
    "tags": []
   },
   "outputs": [],
   "source": [
    "plotting.plot_surf_roi(fsaverage['infl_right'], roi_map=parcellation_white_r, hemi='right', cmap='plasma', vmin=-0.3, vmax=0.3, threshold=None, bg_map=fsaverage['sulc_right'], view='lateral', output_file='/Users/saigerutherford/Desktop/ukb_race_modeled_meanZ_white_r.png');"
   ]
  },
  {
   "cell_type": "code",
   "execution_count": 1013,
   "id": "af55a990-8402-456d-94b0-5847ef625165",
   "metadata": {
    "jupyter": {
     "source_hidden": true
    },
    "tags": []
   },
   "outputs": [],
   "source": [
    "plotting.plot_surf_roi(fsaverage['infl_left'], roi_map=parcellation_white_l, hemi='left', cmap='plasma', vmin=-0.3, vmax=0.3, threshold=None, bg_map=fsaverage['sulc_left'], view='lateral', output_file='/Users/saigerutherford/Desktop/ukb_race_notmodeled_meanZ_white_l.png');"
   ]
  },
  {
   "cell_type": "code",
   "execution_count": 1014,
   "id": "4cdbe98d-782e-4fb6-86a1-374417d6cc4e",
   "metadata": {
    "jupyter": {
     "source_hidden": true
    },
    "tags": []
   },
   "outputs": [],
   "source": [
    "plotting.plot_surf_roi(fsaverage['infl_right'], roi_map=parcellation_white_r, hemi='right', cmap='plasma', vmin=-0.3, vmax=0.3, threshold=None, bg_map=fsaverage['sulc_right'], view='lateral', output_file='/Users/saigerutherford/Desktop/ukb_race_notmodeled_meanZ_white_r.png');"
   ]
  },
  {
   "cell_type": "code",
   "execution_count": 1110,
   "id": "13eb8516-1969-4f5f-9ea0-df9a990a87c1",
   "metadata": {},
   "outputs": [],
   "source": [
    "plotting.plot_surf_roi(fsaverage['infl_left'], roi_map=parcellation_white_l, hemi='left', cmap='plasma', vmin=-0.3, vmax=0.3, threshold=None, bg_map=fsaverage['sulc_left'], view='lateral', output_file='/Users/saigerutherford/Desktop/ukb_pretrain_meanZ_white_l.png');"
   ]
  },
  {
   "cell_type": "code",
   "execution_count": 1111,
   "id": "d1a8ba8e-0c38-4262-a1de-09cb8f49913a",
   "metadata": {},
   "outputs": [],
   "source": [
    "plotting.plot_surf_roi(fsaverage['infl_right'], roi_map=parcellation_white_r, hemi='right', cmap='plasma', vmin=-0.3, vmax=0.3, threshold=None, bg_map=fsaverage['sulc_right'], view='lateral', output_file='/Users/saigerutherford/Desktop/ukb_pretrain_meanZ_white_r.png');"
   ]
  },
  {
   "cell_type": "code",
   "execution_count": null,
   "id": "ca672568-b1d9-4495-9e6a-8af9790770c4",
   "metadata": {
    "jupyter": {
     "source_hidden": true
    },
    "tags": []
   },
   "outputs": [],
   "source": [
    "#vmax=15\n",
    "view = plotting.view_surf(fsaverage.infl_left, parcellation_white_l, threshold=None, vmax=10, symmetric_cmap=False, cmap='plasma', bg_map=fsaverage.sulc_left)\n",
    "\n",
    "view"
   ]
  },
  {
   "cell_type": "code",
   "execution_count": null,
   "id": "d325a284-b4c1-4aca-9cef-4164dc328472",
   "metadata": {
    "jupyter": {
     "source_hidden": true
    },
    "tags": []
   },
   "outputs": [],
   "source": [
    "#vmax=15\n",
    "view = plotting.view_surf(fsaverage.infl_right, parcellation_white_r, threshold=None, symmetric_cmap=False, cmap='plasma', bg_map=fsaverage.sulc_right)\n",
    "\n",
    "view"
   ]
  },
  {
   "cell_type": "code",
   "execution_count": 579,
   "id": "fa77a252-0c00-470e-9a67-4ef7dd7c1126",
   "metadata": {
    "jupyter": {
     "source_hidden": true
    },
    "tags": []
   },
   "outputs": [],
   "source": [
    "nl_asian_left = pd.merge(nl, asian_left_z2, on='ROI', how='left')\n",
    "nl_asian_right = pd.merge(nl, asian_right_z2, on='ROI', how='left')"
   ]
  },
  {
   "cell_type": "code",
   "execution_count": 1112,
   "id": "df2f6cbb-46cd-4247-af93-d554bb697e5a",
   "metadata": {},
   "outputs": [],
   "source": [
    "nl_asian_left = pd.merge(nl, asian_left_z, on='ROI', how='left')\n",
    "nl_asian_right = pd.merge(nl, asian_right_z, on='ROI', how='left')"
   ]
  },
  {
   "cell_type": "code",
   "execution_count": 310,
   "id": "4493e894-e08e-4e2e-b427-37284352e6e8",
   "metadata": {
    "jupyter": {
     "source_hidden": true
    },
    "tags": []
   },
   "outputs": [],
   "source": [
    "nl_asian_left['counts'] = nl_asian_right['counts'].fillna(0)\n",
    "nl_asian_right['counts'] = nl_asian_right['counts'].fillna(0)"
   ]
  },
  {
   "cell_type": "code",
   "execution_count": 311,
   "id": "6e7436b9-8fb9-4dce-9347-e3d8977e6b46",
   "metadata": {
    "jupyter": {
     "source_hidden": true
    },
    "tags": []
   },
   "outputs": [],
   "source": [
    "nl_asian_left = nl_asian_left['counts'].to_numpy()\n",
    "nl_asian_right = nl_asian_right['counts'].to_numpy()"
   ]
  },
  {
   "cell_type": "code",
   "execution_count": 1113,
   "id": "b9859e33-ee12-4699-a75c-97c6e17b0d12",
   "metadata": {
    "tags": []
   },
   "outputs": [],
   "source": [
    "nl_asian_left['value'] = nl_asian_right['value'].fillna(0)\n",
    "nl_asian_right['value'] = nl_asian_right['value'].fillna(0)"
   ]
  },
  {
   "cell_type": "code",
   "execution_count": 1114,
   "id": "9088b042-868e-42e4-8e34-e79eb2e3deee",
   "metadata": {
    "tags": []
   },
   "outputs": [],
   "source": [
    "nl_asian_left = nl_asian_left['value'].to_numpy()\n",
    "nl_asian_right = nl_asian_right['value'].to_numpy()"
   ]
  },
  {
   "cell_type": "code",
   "execution_count": 1115,
   "id": "f14f2502-561f-4233-ba41-ecaaac8511ce",
   "metadata": {},
   "outputs": [],
   "source": [
    "a_list = list(range(1, 76))\n",
    "parcellation_asian_l = atlas_l\n",
    "for i, j in enumerate(a_list):\n",
    "    parcellation_asian_l = np.where(parcellation_asian_l == j, nl_asian_left[i], parcellation_asian_l)"
   ]
  },
  {
   "cell_type": "code",
   "execution_count": 1116,
   "id": "e3d77815-9148-4b94-92ac-d737f9e0e5a6",
   "metadata": {},
   "outputs": [],
   "source": [
    "a_list = list(range(1, 76))\n",
    "parcellation_asian_r = atlas_r\n",
    "for i, j in enumerate(a_list):\n",
    "    parcellation_asian_r = np.where(parcellation_asian_r == j, nl_asian_right[i], parcellation_asian_r)"
   ]
  },
  {
   "cell_type": "code",
   "execution_count": 187,
   "id": "10ab27d9-4059-40c4-8e15-adad7a7b2bec",
   "metadata": {
    "jupyter": {
     "source_hidden": true
    },
    "tags": []
   },
   "outputs": [],
   "source": [
    "parcellation_asian_r = parcellation_asian_r / 29 * 100\n",
    "parcellation_asian_l = parcellation_asian_l / 29 * 100"
   ]
  },
  {
   "cell_type": "code",
   "execution_count": null,
   "id": "cbec9f44-4862-4cb1-bc2d-0653d83a6077",
   "metadata": {
    "jupyter": {
     "source_hidden": true
    },
    "tags": []
   },
   "outputs": [],
   "source": [
    "plotting.plot_surf_roi(fsaverage['infl_left'], roi_map=parcellation_asian_l, hemi='left', cmap='plasma', vmax=10, threshold=None, bg_map=fsaverage['sulc_left'], view='lateral', output_file='/Users/saigerutherford/Desktop/ukb_race_modeled_extremeZ_asian_l.png');"
   ]
  },
  {
   "cell_type": "code",
   "execution_count": null,
   "id": "3acf07d2-1f0b-4eb6-b3b6-6b773203b1d4",
   "metadata": {
    "jupyter": {
     "source_hidden": true
    },
    "tags": []
   },
   "outputs": [],
   "source": [
    "plotting.plot_surf_roi(fsaverage['infl_right'], roi_map=parcellation_asian_r, hemi='right', cmap='plasma', vmax=10, threshold=None, bg_map=fsaverage['sulc_right'], view='lateral', output_file='/Users/saigerutherford/Desktop/ukb_race_modeled_extremeZ_asian_r.png');"
   ]
  },
  {
   "cell_type": "code",
   "execution_count": null,
   "id": "cfedb01a-0495-4bc6-806c-63af390364c8",
   "metadata": {
    "jupyter": {
     "source_hidden": true
    },
    "tags": []
   },
   "outputs": [],
   "source": [
    "plotting.plot_surf_roi(fsaverage['infl_left'], roi_map=parcellation_asian_l, hemi='left', cmap='plasma', vmax=10, threshold=None, bg_map=fsaverage['sulc_left'], view='lateral', output_file='/Users/saigerutherford/Desktop/ukb_pretrain_extremeZ_asian_l.png');"
   ]
  },
  {
   "cell_type": "code",
   "execution_count": null,
   "id": "4f7a2686-050e-48e3-bd47-3ba6eae5b6cc",
   "metadata": {
    "jupyter": {
     "source_hidden": true
    },
    "tags": []
   },
   "outputs": [],
   "source": [
    "plotting.plot_surf_roi(fsaverage['infl_right'], roi_map=parcellation_asian_r, hemi='right', cmap='plasma', vmax=10, threshold=None, bg_map=fsaverage['sulc_right'], view='lateral', output_file='/Users/saigerutherford/Desktop/ukb_pretrain_extremeZ_asian_r.png');"
   ]
  },
  {
   "cell_type": "code",
   "execution_count": 59,
   "id": "3ab9a382-5c80-45a5-bc1b-f57b8ad148b0",
   "metadata": {
    "jupyter": {
     "source_hidden": true
    },
    "tags": []
   },
   "outputs": [],
   "source": [
    "plotting.plot_surf_roi(fsaverage['infl_left'], roi_map=parcellation_asian_l, hemi='left', cmap='plasma', vmax=10, threshold=None, bg_map=fsaverage['sulc_left'], view='lateral', output_file='/Users/saigerutherford/Desktop/hcp_racemodeled_extremeZ_asian_l.png');"
   ]
  },
  {
   "cell_type": "code",
   "execution_count": 60,
   "id": "4ef267e2-71e4-4125-b436-7c70bc938853",
   "metadata": {
    "jupyter": {
     "source_hidden": true
    },
    "tags": []
   },
   "outputs": [],
   "source": [
    "plotting.plot_surf_roi(fsaverage['infl_right'], roi_map=parcellation_asian_r, hemi='right', cmap='plasma', vmax=10, threshold=None, bg_map=fsaverage['sulc_right'], view='lateral', output_file='/Users/saigerutherford/Desktop/hcp_racemodeled_extremeZ_asian_r.png');"
   ]
  },
  {
   "cell_type": "code",
   "execution_count": 124,
   "id": "54d4d7d8-7001-4d9f-a95e-54d351c5344f",
   "metadata": {
    "jupyter": {
     "source_hidden": true
    },
    "tags": []
   },
   "outputs": [],
   "source": [
    "plotting.plot_surf_roi(fsaverage['infl_left'], roi_map=parcellation_asian_l, hemi='left', cmap='plasma', vmax=10, threshold=None, bg_map=fsaverage['sulc_left'], view='lateral', output_file='/Users/saigerutherford/Desktop/hcp_race_notmodeled_extremeZ_asian_l.png');"
   ]
  },
  {
   "cell_type": "code",
   "execution_count": 125,
   "id": "f9c6fa81-3cf1-406e-b7b6-93437a9f0832",
   "metadata": {
    "jupyter": {
     "source_hidden": true
    },
    "tags": []
   },
   "outputs": [],
   "source": [
    "plotting.plot_surf_roi(fsaverage['infl_right'], roi_map=parcellation_asian_r, hemi='right', cmap='plasma', vmax=10, threshold=None, bg_map=fsaverage['sulc_right'], view='lateral', output_file='/Users/saigerutherford/Desktop/hcp_race_notmodeled_extremeZ_asian_r.png');"
   ]
  },
  {
   "cell_type": "code",
   "execution_count": 188,
   "id": "25ce06f7-d74a-4164-9ff2-8a9db0c06f64",
   "metadata": {
    "jupyter": {
     "source_hidden": true
    },
    "tags": []
   },
   "outputs": [],
   "source": [
    "plotting.plot_surf_roi(fsaverage['infl_left'], roi_map=parcellation_asian_l, hemi='left', cmap='plasma', vmax=10, threshold=None, bg_map=fsaverage['sulc_left'], view='lateral', output_file='/Users/saigerutherford/Desktop/hcp_pretrain_extremeZ_asian_l.png');"
   ]
  },
  {
   "cell_type": "code",
   "execution_count": 189,
   "id": "d72513d0-5c42-45d5-8583-0904291ccd70",
   "metadata": {
    "jupyter": {
     "source_hidden": true
    },
    "tags": []
   },
   "outputs": [],
   "source": [
    "plotting.plot_surf_roi(fsaverage['infl_right'], roi_map=parcellation_asian_r, hemi='right', cmap='plasma', vmax=10, threshold=None, bg_map=fsaverage['sulc_right'], view='lateral', output_file='/Users/saigerutherford/Desktop/hcp_pretrain_extremeZ_asian_r.png');"
   ]
  },
  {
   "cell_type": "code",
   "execution_count": 589,
   "id": "c178227c-90c0-4b07-96a3-2afc320a22d8",
   "metadata": {
    "jupyter": {
     "source_hidden": true
    },
    "tags": []
   },
   "outputs": [],
   "source": [
    "plotting.plot_surf_roi(fsaverage['infl_left'], roi_map=parcellation_asian_l, hemi='left', cmap='plasma', vmin=-0.5, vmax=0.5, threshold=None, bg_map=fsaverage['sulc_left'], view='lateral', output_file='/Users/saigerutherford/Desktop/hcp_pretrain_meanZ_asian_l.png');"
   ]
  },
  {
   "cell_type": "code",
   "execution_count": 590,
   "id": "c9cced28-a8fd-45ad-8ea9-2c93fe3eb3a1",
   "metadata": {
    "jupyter": {
     "source_hidden": true
    },
    "tags": []
   },
   "outputs": [],
   "source": [
    "plotting.plot_surf_roi(fsaverage['infl_right'], roi_map=parcellation_asian_r, hemi='right', cmap='plasma', vmin=-0.5, vmax=0.5, threshold=None, bg_map=fsaverage['sulc_right'], view='lateral', output_file='/Users/saigerutherford/Desktop/hcp_pretrain_meanZ_asian_r.png');"
   ]
  },
  {
   "cell_type": "code",
   "execution_count": 698,
   "id": "b56d7f0b-3b9a-47c1-b828-6418f582b105",
   "metadata": {
    "jupyter": {
     "source_hidden": true
    },
    "tags": []
   },
   "outputs": [],
   "source": [
    "plotting.plot_surf_roi(fsaverage['infl_left'], roi_map=parcellation_asian_l, hemi='left', cmap='plasma', vmin=-0.5, vmax=0.5, threshold=None, bg_map=fsaverage['sulc_left'], view='lateral', output_file='/Users/saigerutherford/Desktop/hcp_race_notmodeled_meanZ_asian_l.png');"
   ]
  },
  {
   "cell_type": "code",
   "execution_count": 699,
   "id": "c5829904-b90a-41f7-97dc-e222940683b7",
   "metadata": {
    "jupyter": {
     "source_hidden": true
    },
    "tags": []
   },
   "outputs": [],
   "source": [
    "plotting.plot_surf_roi(fsaverage['infl_right'], roi_map=parcellation_asian_r, hemi='right', cmap='plasma', vmin=-0.5, vmax=0.5, threshold=None, bg_map=fsaverage['sulc_right'], view='lateral', output_file='/Users/saigerutherford/Desktop/hcp_race_notmodeled_meanZ_asian_r.png');"
   ]
  },
  {
   "cell_type": "code",
   "execution_count": 805,
   "id": "a7213c71-00e0-4377-8366-33e40be744ca",
   "metadata": {
    "jupyter": {
     "source_hidden": true
    },
    "tags": []
   },
   "outputs": [],
   "source": [
    "plotting.plot_surf_roi(fsaverage['infl_left'], roi_map=parcellation_asian_l, hemi='left', cmap='plasma', vmin=-0.5, vmax=0.5, threshold=None, bg_map=fsaverage['sulc_left'], view='lateral', output_file='/Users/saigerutherford/Desktop/hcp_race_modeled_meanZ_asian_l.png');"
   ]
  },
  {
   "cell_type": "code",
   "execution_count": 806,
   "id": "40f77127-367b-4a50-b936-0bf701386abb",
   "metadata": {
    "jupyter": {
     "source_hidden": true
    },
    "tags": []
   },
   "outputs": [],
   "source": [
    "plotting.plot_surf_roi(fsaverage['infl_right'], roi_map=parcellation_asian_r, hemi='right', cmap='plasma', vmin=-0.5, vmax=0.5, threshold=None, bg_map=fsaverage['sulc_right'], view='lateral', output_file='/Users/saigerutherford/Desktop/hcp_race_modeled_meanZ_asian_r.png');"
   ]
  },
  {
   "cell_type": "code",
   "execution_count": 913,
   "id": "c0f241e7-4232-4ef9-8e30-661ada9de3d1",
   "metadata": {
    "jupyter": {
     "source_hidden": true
    },
    "tags": []
   },
   "outputs": [],
   "source": [
    "plotting.plot_surf_roi(fsaverage['infl_left'], roi_map=parcellation_asian_l, hemi='left', cmap='plasma', vmin=-0.3, vmax=0.3, threshold=None, bg_map=fsaverage['sulc_left'], view='lateral', output_file='/Users/saigerutherford/Desktop/ukb_race_modeled_meanZ_asian_l.png');"
   ]
  },
  {
   "cell_type": "code",
   "execution_count": 914,
   "id": "ed271c29-9bdd-4295-a6aa-2d2b8fb42061",
   "metadata": {
    "jupyter": {
     "source_hidden": true
    },
    "tags": []
   },
   "outputs": [],
   "source": [
    "plotting.plot_surf_roi(fsaverage['infl_right'], roi_map=parcellation_asian_r, hemi='right', cmap='plasma', vmin=-0.3, vmax=0.3, threshold=None, bg_map=fsaverage['sulc_right'], view='lateral', output_file='/Users/saigerutherford/Desktop/ukb_race_modeled_meanZ_asian_r.png');"
   ]
  },
  {
   "cell_type": "code",
   "execution_count": 1020,
   "id": "98741289-fc39-45c7-a203-88233adb9dd6",
   "metadata": {
    "jupyter": {
     "source_hidden": true
    },
    "tags": []
   },
   "outputs": [],
   "source": [
    "plotting.plot_surf_roi(fsaverage['infl_left'], roi_map=parcellation_asian_l, hemi='left', cmap='plasma', vmin=-0.3, vmax=0.3, threshold=None, bg_map=fsaverage['sulc_left'], view='lateral', output_file='/Users/saigerutherford/Desktop/ukb_race_notmodeled_meanZ_asian_l.png');"
   ]
  },
  {
   "cell_type": "code",
   "execution_count": 1021,
   "id": "eda83b7a-d558-45fd-a677-ad93bd6aab05",
   "metadata": {
    "jupyter": {
     "source_hidden": true
    },
    "tags": []
   },
   "outputs": [],
   "source": [
    "plotting.plot_surf_roi(fsaverage['infl_right'], roi_map=parcellation_asian_r, hemi='right', cmap='plasma', vmin=-0.3, vmax=0.3, threshold=None, bg_map=fsaverage['sulc_right'], view='lateral', output_file='/Users/saigerutherford/Desktop/ukb_race_notmodeled_meanZ_asian_r.png');"
   ]
  },
  {
   "cell_type": "code",
   "execution_count": 1117,
   "id": "1338ae3a-30cf-49a3-9e4a-6d496ba52314",
   "metadata": {},
   "outputs": [],
   "source": [
    "plotting.plot_surf_roi(fsaverage['infl_left'], roi_map=parcellation_asian_l, hemi='left', cmap='plasma', vmin=-0.3, vmax=0.3, threshold=None, bg_map=fsaverage['sulc_left'], view='lateral', output_file='/Users/saigerutherford/Desktop/ukb_pretrain_meanZ_asian_l.png');"
   ]
  },
  {
   "cell_type": "code",
   "execution_count": 1118,
   "id": "f2009bb8-92bb-40fb-807f-adf50e8cfece",
   "metadata": {},
   "outputs": [],
   "source": [
    "plotting.plot_surf_roi(fsaverage['infl_right'], roi_map=parcellation_asian_r, hemi='right', cmap='plasma', vmin=-0.3, vmax=0.3, threshold=None, bg_map=fsaverage['sulc_right'], view='lateral', output_file='/Users/saigerutherford/Desktop/ukb_pretrain_meanZ_asian_r.png');"
   ]
  },
  {
   "cell_type": "code",
   "execution_count": null,
   "id": "c12a10eb-574b-4b79-88f5-af791e316826",
   "metadata": {
    "jupyter": {
     "source_hidden": true
    },
    "tags": []
   },
   "outputs": [],
   "source": [
    "#vmax=15\n",
    "view = plotting.view_surf(fsaverage.infl_left, parcellation_asian_l, threshold=None, symmetric_cmap=False, cmap='plasma', bg_map=fsaverage.sulc_left)\n",
    "\n",
    "view"
   ]
  },
  {
   "cell_type": "code",
   "execution_count": null,
   "id": "b6846192-67f4-4e6c-9b8c-0c1cece9f75a",
   "metadata": {
    "jupyter": {
     "source_hidden": true
    },
    "tags": []
   },
   "outputs": [],
   "source": [
    "#vmax=15\n",
    "view = plotting.view_surf(fsaverage.infl_right, parcellation_asian_r, threshold=None, symmetric_cmap=False, cmap='plasma', bg_map=fsaverage.sulc_right)\n",
    "\n",
    "view"
   ]
  },
  {
   "cell_type": "code",
   "execution_count": 413,
   "id": "20f0a516-7dbf-4c8f-b235-07014f190586",
   "metadata": {
    "jupyter": {
     "source_hidden": true
    },
    "tags": []
   },
   "outputs": [],
   "source": [
    "nl_black_left = pd.merge(nl, black_left_z2, on='ROI', how='left')\n",
    "nl_black_right = pd.merge(nl, black_right_z2, on='ROI', how='left')"
   ]
  },
  {
   "cell_type": "code",
   "execution_count": 1119,
   "id": "f3300b34-35ab-47a7-9746-200051e61c68",
   "metadata": {},
   "outputs": [],
   "source": [
    "nl_black_left = pd.merge(nl, black_left_z, on='ROI', how='left')\n",
    "nl_black_right = pd.merge(nl, black_right_z, on='ROI', how='left')"
   ]
  },
  {
   "cell_type": "code",
   "execution_count": 317,
   "id": "a080ea21-fadc-4ecb-828a-01747e135986",
   "metadata": {
    "jupyter": {
     "source_hidden": true
    },
    "tags": []
   },
   "outputs": [],
   "source": [
    "nl_black_left['counts'] = nl_black_right['counts'].fillna(0)\n",
    "nl_black_right['counts'] = nl_black_right['counts'].fillna(0)"
   ]
  },
  {
   "cell_type": "code",
   "execution_count": 318,
   "id": "548488df-3b3e-43ae-8bb8-6c84b82b8a96",
   "metadata": {
    "jupyter": {
     "source_hidden": true
    },
    "tags": []
   },
   "outputs": [],
   "source": [
    "nl_black_left = nl_black_left['counts'].to_numpy()\n",
    "nl_black_right = nl_black_right['counts'].to_numpy()"
   ]
  },
  {
   "cell_type": "code",
   "execution_count": 1120,
   "id": "78562a56-0758-4aa9-8363-703b81aec6c9",
   "metadata": {
    "tags": []
   },
   "outputs": [],
   "source": [
    "nl_black_left['value'] = nl_black_right['value'].fillna(0)\n",
    "nl_black_right['value'] = nl_black_right['value'].fillna(0)"
   ]
  },
  {
   "cell_type": "code",
   "execution_count": 1121,
   "id": "9f93d3e4-7f69-4731-827c-2d12ccaa1928",
   "metadata": {
    "tags": []
   },
   "outputs": [],
   "source": [
    "nl_black_left = nl_black_left['value'].to_numpy()\n",
    "nl_black_right = nl_black_right['value'].to_numpy()"
   ]
  },
  {
   "cell_type": "code",
   "execution_count": 1122,
   "id": "5ed9a902-280b-4a8e-bbc7-069704e1ff16",
   "metadata": {},
   "outputs": [],
   "source": [
    "a_list = list(range(1, 76))\n",
    "parcellation_black_l = atlas_l\n",
    "for i, j in enumerate(a_list):\n",
    "    parcellation_black_l = np.where(parcellation_black_l == j, nl_black_left[i], parcellation_black_l)"
   ]
  },
  {
   "cell_type": "code",
   "execution_count": 1123,
   "id": "93927502-10f0-4853-a309-e44c8495f662",
   "metadata": {},
   "outputs": [],
   "source": [
    "a_list = list(range(1, 76))\n",
    "parcellation_black_r = atlas_r\n",
    "for i, j in enumerate(a_list):\n",
    "    parcellation_black_r = np.where(parcellation_black_r == j, nl_black_right[i], parcellation_black_r)"
   ]
  },
  {
   "cell_type": "code",
   "execution_count": 195,
   "id": "d6c0649b-3eb5-45d0-b3f8-ac8958868aa2",
   "metadata": {
    "jupyter": {
     "source_hidden": true
    },
    "tags": []
   },
   "outputs": [],
   "source": [
    "parcellation_black_r = parcellation_black_r / 80 * 100\n",
    "parcellation_black_l = parcellation_black_l / 80 * 100"
   ]
  },
  {
   "cell_type": "code",
   "execution_count": null,
   "id": "3cee2b2d-05b9-4291-a938-44cc7c0a2188",
   "metadata": {
    "jupyter": {
     "source_hidden": true
    },
    "tags": []
   },
   "outputs": [],
   "source": [
    "plotting.plot_surf_roi(fsaverage['infl_left'], roi_map=parcellation_black_l, hemi='left', cmap='plasma', vmax=10, threshold=None, bg_map=fsaverage['sulc_left'], view='lateral', output_file='/Users/saigerutherford/Desktop/ukb_race_modeled_extremeZ_black_l.png');"
   ]
  },
  {
   "cell_type": "code",
   "execution_count": null,
   "id": "61840f17-6112-4183-a2ca-1db65bbb5715",
   "metadata": {
    "jupyter": {
     "source_hidden": true
    },
    "tags": []
   },
   "outputs": [],
   "source": [
    "plotting.plot_surf_roi(fsaverage['infl_right'], roi_map=parcellation_black_r, hemi='right', cmap='plasma', vmax=10, threshold=None, bg_map=fsaverage['sulc_right'], view='lateral', output_file='/Users/saigerutherford/Desktop/ukb_race_modeled_extremeZ_black_r.png');"
   ]
  },
  {
   "cell_type": "code",
   "execution_count": null,
   "id": "49736c4e-41b0-437a-bc1b-807dc747f55a",
   "metadata": {
    "jupyter": {
     "source_hidden": true
    },
    "tags": []
   },
   "outputs": [],
   "source": [
    "plotting.plot_surf_roi(fsaverage['infl_left'], roi_map=parcellation_black_l, hemi='left', cmap='plasma', vmax=10, threshold=None, bg_map=fsaverage['sulc_left'], view='lateral', output_file='/Users/saigerutherford/Desktop/ukb_race_notmodeled_extremeZ_black_l.png');"
   ]
  },
  {
   "cell_type": "code",
   "execution_count": null,
   "id": "da3e14da-87bf-4286-8876-a0ad91c3481b",
   "metadata": {
    "jupyter": {
     "source_hidden": true
    },
    "tags": []
   },
   "outputs": [],
   "source": [
    "plotting.plot_surf_roi(fsaverage['infl_right'], roi_map=parcellation_black_r, hemi='right', cmap='plasma', vmax=10, threshold=None, bg_map=fsaverage['sulc_right'], view='lateral', output_file='/Users/saigerutherford/Desktop/ukb_race_notmodeled_extremeZ_black_r.png');"
   ]
  },
  {
   "cell_type": "code",
   "execution_count": null,
   "id": "9bf9e346-3040-4ce6-ad92-ec48c5c0d0f4",
   "metadata": {
    "jupyter": {
     "source_hidden": true
    },
    "tags": []
   },
   "outputs": [],
   "source": [
    "plotting.plot_surf_roi(fsaverage['infl_left'], roi_map=parcellation_black_l, hemi='left', cmap='plasma', vmax=10, threshold=None, bg_map=fsaverage['sulc_left'], view='lateral', output_file='/Users/saigerutherford/Desktop/ukb_pretrain_extremeZ_black_l.png');"
   ]
  },
  {
   "cell_type": "code",
   "execution_count": null,
   "id": "eae89f72-3821-48a7-9bcc-a3e58263fd8a",
   "metadata": {
    "jupyter": {
     "source_hidden": true
    },
    "tags": []
   },
   "outputs": [],
   "source": [
    "plotting.plot_surf_roi(fsaverage['infl_right'], roi_map=parcellation_black_r, hemi='right', cmap='plasma', vmax=10, threshold=None, bg_map=fsaverage['sulc_right'], view='lateral', output_file='/Users/saigerutherford/Desktop/ukb_pretrain_extremeZ_black_r.png');"
   ]
  },
  {
   "cell_type": "code",
   "execution_count": 67,
   "id": "be3a08be-800e-41f3-9023-4c2384e6fb1e",
   "metadata": {
    "jupyter": {
     "source_hidden": true
    },
    "tags": []
   },
   "outputs": [],
   "source": [
    "plotting.plot_surf_roi(fsaverage['infl_left'], roi_map=parcellation_black_l, hemi='left', cmap='plasma', vmax=10, threshold=None, bg_map=fsaverage['sulc_left'], view='lateral', output_file='/Users/saigerutherford/Desktop/hcp_racemodeled_extremeZ_black_l.png');"
   ]
  },
  {
   "cell_type": "code",
   "execution_count": 68,
   "id": "634578f0-0ec8-4e51-897d-cbf4e058bfac",
   "metadata": {
    "jupyter": {
     "source_hidden": true
    },
    "tags": []
   },
   "outputs": [],
   "source": [
    "plotting.plot_surf_roi(fsaverage['infl_right'], roi_map=parcellation_black_r, hemi='right', cmap='plasma', vmax=10, threshold=None, bg_map=fsaverage['sulc_right'], view='lateral', output_file='/Users/saigerutherford/Desktop/hcp_racemodeled_extremeZ_black_r.png');"
   ]
  },
  {
   "cell_type": "code",
   "execution_count": 132,
   "id": "23ec93cf-da04-4023-b8fc-be8e9e9e9b30",
   "metadata": {
    "jupyter": {
     "source_hidden": true
    },
    "tags": []
   },
   "outputs": [],
   "source": [
    "plotting.plot_surf_roi(fsaverage['infl_left'], roi_map=parcellation_black_l, hemi='left', cmap='plasma', vmax=10, threshold=None, bg_map=fsaverage['sulc_left'], view='lateral', output_file='/Users/saigerutherford/Desktop/hcp_race_notmodeled_extremeZ_black_l.png');"
   ]
  },
  {
   "cell_type": "code",
   "execution_count": 133,
   "id": "ad54b30d-11d1-474b-adba-e6fa1aeb15ef",
   "metadata": {
    "jupyter": {
     "source_hidden": true
    },
    "tags": []
   },
   "outputs": [],
   "source": [
    "plotting.plot_surf_roi(fsaverage['infl_right'], roi_map=parcellation_black_r, hemi='right', cmap='plasma', vmax=10, threshold=None, bg_map=fsaverage['sulc_right'], view='lateral', output_file='/Users/saigerutherford/Desktop/hcp_race_notmodeled_extremeZ_black_r.png');"
   ]
  },
  {
   "cell_type": "code",
   "execution_count": 196,
   "id": "9455b486-99f3-490b-abcc-80a2150fcb9e",
   "metadata": {
    "jupyter": {
     "source_hidden": true
    },
    "tags": []
   },
   "outputs": [],
   "source": [
    "plotting.plot_surf_roi(fsaverage['infl_left'], roi_map=parcellation_black_l, hemi='left', cmap='plasma', vmax=10, threshold=None, bg_map=fsaverage['sulc_left'], view='lateral', output_file='/Users/saigerutherford/Desktop/hcp_pretrain_extremeZ_black_l.png');"
   ]
  },
  {
   "cell_type": "code",
   "execution_count": 197,
   "id": "48b203fd-5df6-43a2-b71c-26159e9adfc6",
   "metadata": {
    "jupyter": {
     "source_hidden": true
    },
    "tags": []
   },
   "outputs": [],
   "source": [
    "plotting.plot_surf_roi(fsaverage['infl_right'], roi_map=parcellation_black_r, hemi='right', cmap='plasma', vmax=10, threshold=None, bg_map=fsaverage['sulc_right'], view='lateral', output_file='/Users/saigerutherford/Desktop/hcp_pretrain_extremeZ_black_r.png');"
   ]
  },
  {
   "cell_type": "code",
   "execution_count": 596,
   "id": "f16213ec-57f7-4765-9b27-916b8dfbd6e7",
   "metadata": {
    "jupyter": {
     "source_hidden": true
    },
    "tags": []
   },
   "outputs": [],
   "source": [
    "plotting.plot_surf_roi(fsaverage['infl_left'], roi_map=parcellation_black_l, hemi='left', cmap='plasma', vmin=-0.5, vmax=0.5, threshold=None, bg_map=fsaverage['sulc_left'], view='lateral', output_file='/Users/saigerutherford/Desktop/hcp_pretrain_meanZ_black_l.png');"
   ]
  },
  {
   "cell_type": "code",
   "execution_count": 597,
   "id": "69b28cf9-b421-4b28-857a-e4ca0033d66f",
   "metadata": {
    "jupyter": {
     "source_hidden": true
    },
    "tags": []
   },
   "outputs": [],
   "source": [
    "plotting.plot_surf_roi(fsaverage['infl_right'], roi_map=parcellation_black_r, hemi='right', cmap='plasma', vmin=-0.5, vmax=0.5, threshold=None, bg_map=fsaverage['sulc_right'], view='lateral', output_file='/Users/saigerutherford/Desktop/hcp_pretrain_meanZ_black_r.png');"
   ]
  },
  {
   "cell_type": "code",
   "execution_count": 705,
   "id": "f505b35b-f35f-485c-9798-4ba2303d8c8e",
   "metadata": {
    "jupyter": {
     "source_hidden": true
    },
    "tags": []
   },
   "outputs": [],
   "source": [
    "plotting.plot_surf_roi(fsaverage['infl_left'], roi_map=parcellation_black_l, hemi='left', cmap='plasma', vmin=-0.5, vmax=0.5, threshold=None, bg_map=fsaverage['sulc_left'], view='lateral', output_file='/Users/saigerutherford/Desktop/hcp_race_notmodeled_meanZ_black_l.png');"
   ]
  },
  {
   "cell_type": "code",
   "execution_count": 706,
   "id": "e580a316-905e-4d19-9b97-68bbeb6a91d6",
   "metadata": {
    "jupyter": {
     "source_hidden": true
    },
    "tags": []
   },
   "outputs": [],
   "source": [
    "plotting.plot_surf_roi(fsaverage['infl_right'], roi_map=parcellation_black_r, hemi='right', cmap='plasma', vmin=-0.5, vmax=0.5, threshold=None, bg_map=fsaverage['sulc_right'], view='lateral', output_file='/Users/saigerutherford/Desktop/hcp_race_not_modeled_meanZ_black_r.png');"
   ]
  },
  {
   "cell_type": "code",
   "execution_count": 812,
   "id": "853f5581-73ba-43aa-b159-bf9201b50f12",
   "metadata": {
    "jupyter": {
     "source_hidden": true
    },
    "tags": []
   },
   "outputs": [],
   "source": [
    "plotting.plot_surf_roi(fsaverage['infl_left'], roi_map=parcellation_black_l, hemi='left', cmap='plasma', vmin=-0.5, vmax=0.5, threshold=None, bg_map=fsaverage['sulc_left'], view='lateral', output_file='/Users/saigerutherford/Desktop/hcp_race_modeled_meanZ_black_l.png');"
   ]
  },
  {
   "cell_type": "code",
   "execution_count": 813,
   "id": "c1011398-7a07-4c04-a333-791eaaf6c685",
   "metadata": {
    "jupyter": {
     "source_hidden": true
    },
    "tags": []
   },
   "outputs": [],
   "source": [
    "plotting.plot_surf_roi(fsaverage['infl_right'], roi_map=parcellation_black_r, hemi='right', cmap='plasma', vmin=-0.5, vmax=0.5, threshold=None, bg_map=fsaverage['sulc_right'], view='lateral', output_file='/Users/saigerutherford/Desktop/hcp_race_modeled_meanZ_black_r.png');"
   ]
  },
  {
   "cell_type": "code",
   "execution_count": 920,
   "id": "880ef50c-fac6-4bfb-8038-80ba216d52f2",
   "metadata": {
    "jupyter": {
     "source_hidden": true
    },
    "tags": []
   },
   "outputs": [],
   "source": [
    "plotting.plot_surf_roi(fsaverage['infl_left'], roi_map=parcellation_black_l, hemi='left', cmap='plasma', vmin=-0.3, vmax=0.3, threshold=None, bg_map=fsaverage['sulc_left'], view='lateral', output_file='/Users/saigerutherford/Desktop/ukb_race_modeled_meanZ_black_l.png');"
   ]
  },
  {
   "cell_type": "code",
   "execution_count": 921,
   "id": "85f228f0-fbe7-4ff2-899c-6e06191c67b1",
   "metadata": {
    "jupyter": {
     "source_hidden": true
    },
    "tags": []
   },
   "outputs": [],
   "source": [
    "plotting.plot_surf_roi(fsaverage['infl_right'], roi_map=parcellation_black_r, hemi='right', cmap='plasma', vmin=-0.3, vmax=0.3, threshold=None, bg_map=fsaverage['sulc_right'], view='lateral', output_file='/Users/saigerutherford/Desktop/ukb_race_modeled_meanZ_black_r.png');"
   ]
  },
  {
   "cell_type": "code",
   "execution_count": 1027,
   "id": "8eaba3c3-26a6-4f33-9247-f56a88bee169",
   "metadata": {
    "jupyter": {
     "source_hidden": true
    },
    "tags": []
   },
   "outputs": [],
   "source": [
    "plotting.plot_surf_roi(fsaverage['infl_left'], roi_map=parcellation_black_l, hemi='left', cmap='plasma', vmin=-0.3, vmax=0.3, threshold=None, bg_map=fsaverage['sulc_left'], view='lateral', output_file='/Users/saigerutherford/Desktop/ukb_race_notmodeled_meanZ_black_l.png');"
   ]
  },
  {
   "cell_type": "code",
   "execution_count": 1028,
   "id": "d8e1f6a7-9eb3-4654-be3b-e5e281f37909",
   "metadata": {
    "jupyter": {
     "source_hidden": true
    },
    "tags": []
   },
   "outputs": [],
   "source": [
    "plotting.plot_surf_roi(fsaverage['infl_right'], roi_map=parcellation_black_r, hemi='right', cmap='plasma', vmin=-0.3, vmax=0.3, threshold=None, bg_map=fsaverage['sulc_right'], view='lateral', output_file='/Users/saigerutherford/Desktop/ukb_race_notmodeled_meanZ_black_r.png');"
   ]
  },
  {
   "cell_type": "code",
   "execution_count": 1124,
   "id": "eae2b2bf-2429-4e42-8833-89ab2c8d74f7",
   "metadata": {},
   "outputs": [],
   "source": [
    "plotting.plot_surf_roi(fsaverage['infl_left'], roi_map=parcellation_black_l, hemi='left', cmap='plasma', vmin=-0.3, vmax=0.3, threshold=None, bg_map=fsaverage['sulc_left'], view='lateral', output_file='/Users/saigerutherford/Desktop/ukb_pretrain_meanZ_black_l.png');"
   ]
  },
  {
   "cell_type": "code",
   "execution_count": 1125,
   "id": "a919fcf4-34f2-4b03-ba16-9b327d2d69dc",
   "metadata": {},
   "outputs": [],
   "source": [
    "plotting.plot_surf_roi(fsaverage['infl_right'], roi_map=parcellation_black_r, hemi='right', cmap='plasma', vmin=-0.3, vmax=0.3, threshold=None, bg_map=fsaverage['sulc_right'], view='lateral', output_file='/Users/saigerutherford/Desktop/ukb_pretrain_meanZ_black_r.png');"
   ]
  },
  {
   "cell_type": "markdown",
   "id": "232852f2-2baa-4786-af6f-6f62c20f9573",
   "metadata": {
    "jupyter": {
     "source_hidden": true
    },
    "tags": []
   },
   "source": [
    "#vmax=15\n",
    "view = plotting.view_surf(fsaverage.infl_left, parcellation_black_l, threshold=None, symmetric_cmap=False, cmap='plasma', bg_map=fsaverage.sulc_left)\n",
    "\n",
    "view"
   ]
  },
  {
   "cell_type": "code",
   "execution_count": null,
   "id": "f0dd1f03-2df0-4640-9600-248d1f002af8",
   "metadata": {
    "jupyter": {
     "source_hidden": true
    },
    "tags": []
   },
   "outputs": [],
   "source": [
    "#vmax=15\n",
    "view = plotting.view_surf(fsaverage.infl_right, parcellation_black_r, threshold=None, symmetric_cmap=False, cmap='plasma', bg_map=fsaverage.sulc_right)\n",
    "\n",
    "view"
   ]
  }
 ],
 "metadata": {
  "kernelspec": {
   "display_name": "Python 3 (ipykernel)",
   "language": "python",
   "name": "python3"
  },
  "language_info": {
   "codemirror_mode": {
    "name": "ipython",
    "version": 3
   },
   "file_extension": ".py",
   "mimetype": "text/x-python",
   "name": "python",
   "nbconvert_exporter": "python",
   "pygments_lexer": "ipython3",
   "version": "3.12.3"
  }
 },
 "nbformat": 4,
 "nbformat_minor": 5
}
